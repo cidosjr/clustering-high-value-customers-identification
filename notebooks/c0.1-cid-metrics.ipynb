{
 "cells": [
  {
   "cell_type": "markdown",
   "id": "1ea67f9d",
   "metadata": {
    "ExecuteTime": {
     "end_time": "2021-07-26T12:38:44.065013Z",
     "start_time": "2021-07-26T12:38:44.058872Z"
    },
    "heading_collapsed": true
   },
   "source": [
    "# 0.0. Imports"
   ]
  },
  {
   "cell_type": "code",
   "execution_count": 5,
   "id": "3012ee83",
   "metadata": {
    "ExecuteTime": {
     "end_time": "2021-07-26T12:45:52.031439Z",
     "start_time": "2021-07-26T12:45:52.023027Z"
    },
    "hidden": true
   },
   "outputs": [],
   "source": [
    "import pandas as pd\n",
    "import numpy as np\n",
    "import matplotlib.pyplot as plt\n",
    "import seaborn as sns\n",
    "\n",
    "from IPython.display import HTML"
   ]
  },
  {
   "cell_type": "markdown",
   "id": "9ed1b818",
   "metadata": {
    "heading_collapsed": true,
    "hidden": true
   },
   "source": [
    "## 0.1. Helper Functions"
   ]
  },
  {
   "cell_type": "code",
   "execution_count": 57,
   "id": "9e31a9ed",
   "metadata": {
    "ExecuteTime": {
     "end_time": "2021-07-26T13:14:30.437258Z",
     "start_time": "2021-07-26T13:14:30.395725Z"
    },
    "hidden": true
   },
   "outputs": [
    {
     "name": "stdout",
     "output_type": "stream",
     "text": [
      "Populating the interactive namespace from numpy and matplotlib\n"
     ]
    },
    {
     "data": {
      "text/html": [
       "<style>.container { width:100% !important; }</style>"
      ],
      "text/plain": [
       "<IPython.core.display.HTML object>"
      ]
     },
     "metadata": {},
     "output_type": "display_data"
    }
   ],
   "source": [
    "def descriptive_statistics(num_attr):\n",
    "    # Central Tendency: mean, median\n",
    "    c1 = pd.DataFrame(num_attr.apply(np.mean))\n",
    "    c2 = pd.DataFrame(num_attr.apply(np.median))\n",
    "\n",
    "    # Dispension: min, max, range, std, skew, kurtosis\n",
    "    d1 = pd.DataFrame(num_attr.apply(min))\n",
    "    d2 = pd.DataFrame(num_attr.apply(max))\n",
    "    d3 = pd.DataFrame(num_attr.apply(lambda x: x.max() - x.min()))\n",
    "    d4 = pd.DataFrame(num_attr.apply(lambda x: x.std()))\n",
    "    d5 = pd.DataFrame(num_attr.apply(lambda x: x.skew()))\n",
    "    d6 = pd.DataFrame(num_attr.apply(lambda x: x.kurtosis()))\n",
    "\n",
    "    # concat\n",
    "    m = pd.concat([d1,d2,d3,c1,c2,d4,d5,d6], axis=1).reset_index()\n",
    "    m.columns = ['attributes', 'min', 'max', 'range', 'mean', 'median', 'std', 'skew', 'kurtosis']\n",
    "    return m\n",
    "\n",
    "\n",
    "def jupyter_settings():\n",
    "    %matplotlib inline\n",
    "    %pylab inline\n",
    "    \n",
    "    plt.style.use( 'ggplot')\n",
    "    plt.rcParams['figure.figsize'] = [24, 9]\n",
    "    plt.rcParams['font.size'] = 24\n",
    "    \n",
    "    display( HTML( '<style>.container { width:100% !important; }</style>') )\n",
    "    pd.options.display.max_columns = None\n",
    "    pd.options.display.max_rows = None\n",
    "    pd.set_option( 'display.expand_frame_repr', False )\n",
    "    \n",
    "    sns.set()\n",
    "    \n",
    "jupyter_settings()"
   ]
  },
  {
   "cell_type": "markdown",
   "id": "e2a1cd57",
   "metadata": {
    "heading_collapsed": true,
    "hidden": true
   },
   "source": [
    "## 0.2. Load Dataset"
   ]
  },
  {
   "cell_type": "code",
   "execution_count": 14,
   "id": "bcf5d2cc",
   "metadata": {
    "ExecuteTime": {
     "end_time": "2021-07-26T12:49:30.791789Z",
     "start_time": "2021-07-26T12:49:30.204963Z"
    },
    "hidden": true
   },
   "outputs": [],
   "source": [
    "df_raw = pd.read_csv( '../data/raw/Ecommerce.csv', encoding='latin1' )\n",
    "\n",
    "# drop extra column\n",
    "df_raw = df_raw.drop(columns=['Unnamed: 8'])"
   ]
  },
  {
   "cell_type": "markdown",
   "id": "9526342c",
   "metadata": {},
   "source": [
    "# 1.0. Data Description"
   ]
  },
  {
   "cell_type": "code",
   "execution_count": 15,
   "id": "9b53eb44",
   "metadata": {
    "ExecuteTime": {
     "end_time": "2021-07-26T12:50:07.362247Z",
     "start_time": "2021-07-26T12:50:07.312462Z"
    }
   },
   "outputs": [],
   "source": [
    "df1 = df_raw.copy()"
   ]
  },
  {
   "cell_type": "markdown",
   "id": "53b45294",
   "metadata": {
    "ExecuteTime": {
     "end_time": "2021-07-26T12:50:11.766550Z",
     "start_time": "2021-07-26T12:50:11.750018Z"
    },
    "heading_collapsed": true
   },
   "source": [
    "## 1.1. Rename Columns"
   ]
  },
  {
   "cell_type": "markdown",
   "id": "20909fb9",
   "metadata": {
    "ExecuteTime": {
     "end_time": "2021-07-26T12:52:49.645850Z",
     "start_time": "2021-07-26T12:52:49.637720Z"
    },
    "hidden": true
   },
   "source": [
    "**Attribute Description**\n",
    "\n",
    "\n",
    "* **InvoiceNo** Invoice number (A 6-digit integral number uniquely assigned to each transaction)\n",
    "* **StockCode** Product (item) code\n",
    "* **Description** Product (item) name\n",
    "* **Quantity** The quantities of each product (item) per transaction\n",
    "* **InvoiceDate** The day when each transaction was generated\n",
    "* **UnitPrice** Unit price (Product price per unit)\n",
    "* **CustomerID** Customer number (Unique ID assigned to each customer)\n",
    "* **Country** Country name (The name of the country where each customer resides)"
   ]
  },
  {
   "cell_type": "code",
   "execution_count": 17,
   "id": "9182c7d9",
   "metadata": {
    "ExecuteTime": {
     "end_time": "2021-07-26T12:50:48.570792Z",
     "start_time": "2021-07-26T12:50:48.565067Z"
    },
    "hidden": true
   },
   "outputs": [],
   "source": [
    "cols_new = ['invoice_no', 'stock_code', 'description', 'quantity', 'invoice_date', 'unit_price', 'customer_id', 'country']\n",
    "df1.columns = cols_new"
   ]
  },
  {
   "cell_type": "markdown",
   "id": "f887aa12",
   "metadata": {
    "heading_collapsed": true
   },
   "source": [
    "## 1.2. Data Dimensions"
   ]
  },
  {
   "cell_type": "code",
   "execution_count": 22,
   "id": "74dbc482",
   "metadata": {
    "ExecuteTime": {
     "end_time": "2021-07-26T12:55:53.338496Z",
     "start_time": "2021-07-26T12:55:53.333287Z"
    },
    "hidden": true
   },
   "outputs": [
    {
     "name": "stdout",
     "output_type": "stream",
     "text": [
      "Number of Rows: 541909\n",
      "Number of Columns/Features: 8\n"
     ]
    }
   ],
   "source": [
    "print('Number of Rows: {}'.format(df1.shape[0]))\n",
    "print('Number of Columns/Features: {}'.format(df1.shape[1]))"
   ]
  },
  {
   "cell_type": "markdown",
   "id": "e168e4c0",
   "metadata": {
    "heading_collapsed": true
   },
   "source": [
    "## 1.3. Data Types"
   ]
  },
  {
   "cell_type": "code",
   "execution_count": 18,
   "id": "b021ce20",
   "metadata": {
    "ExecuteTime": {
     "end_time": "2021-07-26T12:51:11.030741Z",
     "start_time": "2021-07-26T12:51:11.021684Z"
    },
    "hidden": true
   },
   "outputs": [
    {
     "data": {
      "text/plain": [
       "invoice_no       object\n",
       "stock_code       object\n",
       "description      object\n",
       "quantity          int64\n",
       "invoice_date     object\n",
       "unit_price      float64\n",
       "customer_id     float64\n",
       "country          object\n",
       "dtype: object"
      ]
     },
     "execution_count": 18,
     "metadata": {},
     "output_type": "execute_result"
    }
   ],
   "source": [
    "df1.dtypes"
   ]
  },
  {
   "cell_type": "markdown",
   "id": "468335a8",
   "metadata": {
    "heading_collapsed": true
   },
   "source": [
    "## 1.4. Check NA"
   ]
  },
  {
   "cell_type": "code",
   "execution_count": 24,
   "id": "107f394f",
   "metadata": {
    "ExecuteTime": {
     "end_time": "2021-07-26T12:56:28.588764Z",
     "start_time": "2021-07-26T12:56:28.365040Z"
    },
    "hidden": true
   },
   "outputs": [
    {
     "data": {
      "text/plain": [
       "invoice_no      0.000000\n",
       "stock_code      0.000000\n",
       "description     0.002683\n",
       "quantity        0.000000\n",
       "invoice_date    0.000000\n",
       "unit_price      0.000000\n",
       "customer_id     0.249267\n",
       "country         0.000000\n",
       "dtype: float64"
      ]
     },
     "execution_count": 24,
     "metadata": {},
     "output_type": "execute_result"
    }
   ],
   "source": [
    "df1.isna().mean()"
   ]
  },
  {
   "cell_type": "markdown",
   "id": "97dda208",
   "metadata": {
    "heading_collapsed": true
   },
   "source": [
    "## 1.5. Replace NA "
   ]
  },
  {
   "cell_type": "code",
   "execution_count": 35,
   "id": "b2a6d3a7",
   "metadata": {
    "ExecuteTime": {
     "end_time": "2021-07-26T13:03:13.101687Z",
     "start_time": "2021-07-26T13:03:13.018677Z"
    },
    "hidden": true
   },
   "outputs": [
    {
     "name": "stdout",
     "output_type": "stream",
     "text": [
      "Removed data: 25.0%\n"
     ]
    }
   ],
   "source": [
    "df1 = df1.dropna(subset=['description', 'customer_id'])\n",
    "\n",
    "print('Removed data: {}%'.format(round(1 - (df1.shape[0] / df_raw.shape[0]), 2) *100))"
   ]
  },
  {
   "cell_type": "markdown",
   "id": "e15f82aa",
   "metadata": {},
   "source": [
    "## 1.6. Change Dtypes"
   ]
  },
  {
   "cell_type": "code",
   "execution_count": 41,
   "id": "eb0429ac",
   "metadata": {
    "ExecuteTime": {
     "end_time": "2021-07-26T13:05:25.000991Z",
     "start_time": "2021-07-26T13:05:24.883061Z"
    }
   },
   "outputs": [],
   "source": [
    "df1['invoice_date'] = pd.to_datetime(df1['invoice_date'])\n",
    "\n",
    "df1['customer_id'] = df1['customer_id'].astype(int)"
   ]
  },
  {
   "cell_type": "markdown",
   "id": "e1be7d84",
   "metadata": {},
   "source": [
    "## 1.7. Descriptive Statistics"
   ]
  },
  {
   "cell_type": "code",
   "execution_count": 43,
   "id": "04bf2062",
   "metadata": {
    "ExecuteTime": {
     "end_time": "2021-07-26T13:07:19.918874Z",
     "start_time": "2021-07-26T13:07:19.877505Z"
    }
   },
   "outputs": [],
   "source": [
    "num_attr = df1.select_dtypes(include=['int64', 'float64'])\n",
    "cat_attr = df1.select_dtypes(include=['object'])"
   ]
  },
  {
   "cell_type": "markdown",
   "id": "5d882226",
   "metadata": {},
   "source": [
    "### 1.7.1. Numerical Attributes\n",
    "\n"
   ]
  },
  {
   "cell_type": "code",
   "execution_count": 58,
   "id": "23529857",
   "metadata": {
    "ExecuteTime": {
     "end_time": "2021-07-26T13:15:17.863399Z",
     "start_time": "2021-07-26T13:15:17.376356Z"
    }
   },
   "outputs": [
    {
     "data": {
      "text/html": [
       "<div>\n",
       "<style scoped>\n",
       "    .dataframe tbody tr th:only-of-type {\n",
       "        vertical-align: middle;\n",
       "    }\n",
       "\n",
       "    .dataframe tbody tr th {\n",
       "        vertical-align: top;\n",
       "    }\n",
       "\n",
       "    .dataframe thead th {\n",
       "        text-align: right;\n",
       "    }\n",
       "</style>\n",
       "<table border=\"1\" class=\"dataframe\">\n",
       "  <thead>\n",
       "    <tr style=\"text-align: right;\">\n",
       "      <th></th>\n",
       "      <th>attributes</th>\n",
       "      <th>min</th>\n",
       "      <th>max</th>\n",
       "      <th>range</th>\n",
       "      <th>mean</th>\n",
       "      <th>median</th>\n",
       "      <th>std</th>\n",
       "      <th>skew</th>\n",
       "      <th>kurtosis</th>\n",
       "    </tr>\n",
       "  </thead>\n",
       "  <tbody>\n",
       "    <tr>\n",
       "      <th>0</th>\n",
       "      <td>quantity</td>\n",
       "      <td>-80995.0</td>\n",
       "      <td>80995.0</td>\n",
       "      <td>161990.0</td>\n",
       "      <td>12.061303</td>\n",
       "      <td>5.00</td>\n",
       "      <td>248.693370</td>\n",
       "      <td>0.182663</td>\n",
       "      <td>94317.563673</td>\n",
       "    </tr>\n",
       "    <tr>\n",
       "      <th>1</th>\n",
       "      <td>unit_price</td>\n",
       "      <td>0.0</td>\n",
       "      <td>38970.0</td>\n",
       "      <td>38970.0</td>\n",
       "      <td>3.460471</td>\n",
       "      <td>1.95</td>\n",
       "      <td>69.315162</td>\n",
       "      <td>452.219019</td>\n",
       "      <td>246924.542988</td>\n",
       "    </tr>\n",
       "    <tr>\n",
       "      <th>2</th>\n",
       "      <td>customer_id</td>\n",
       "      <td>12346.0</td>\n",
       "      <td>18287.0</td>\n",
       "      <td>5941.0</td>\n",
       "      <td>15287.690570</td>\n",
       "      <td>15152.00</td>\n",
       "      <td>1713.600303</td>\n",
       "      <td>0.029835</td>\n",
       "      <td>-1.179982</td>\n",
       "    </tr>\n",
       "  </tbody>\n",
       "</table>\n",
       "</div>"
      ],
      "text/plain": [
       "    attributes      min      max     range          mean    median          std        skew       kurtosis\n",
       "0     quantity -80995.0  80995.0  161990.0     12.061303      5.00   248.693370    0.182663   94317.563673\n",
       "1   unit_price      0.0  38970.0   38970.0      3.460471      1.95    69.315162  452.219019  246924.542988\n",
       "2  customer_id  12346.0  18287.0    5941.0  15287.690570  15152.00  1713.600303    0.029835      -1.179982"
      ]
     },
     "execution_count": 58,
     "metadata": {},
     "output_type": "execute_result"
    }
   ],
   "source": [
    "descriptive_statistics(num_attr)"
   ]
  },
  {
   "cell_type": "code",
   "execution_count": null,
   "id": "0eda97e5",
   "metadata": {},
   "outputs": [],
   "source": []
  },
  {
   "cell_type": "markdown",
   "id": "6ec72965",
   "metadata": {},
   "source": [
    "# 2.0. Feature Engeering"
   ]
  },
  {
   "cell_type": "markdown",
   "id": "3c668ca4",
   "metadata": {},
   "source": [
    "# 3.0. Data Filtering"
   ]
  },
  {
   "cell_type": "markdown",
   "id": "7955e748",
   "metadata": {},
   "source": [
    "# 4.0. Exploratory Data Analysis"
   ]
  },
  {
   "cell_type": "markdown",
   "id": "10ba8062",
   "metadata": {},
   "source": [
    "# 5.0. Data Preparation"
   ]
  },
  {
   "cell_type": "markdown",
   "id": "9f9f441c",
   "metadata": {},
   "source": [
    "# 6.0. Feature Selection"
   ]
  },
  {
   "cell_type": "markdown",
   "id": "138e5940",
   "metadata": {},
   "source": [
    "# 7.0. Hyperparameter Fine-Tunning"
   ]
  },
  {
   "cell_type": "markdown",
   "id": "c2e32ab2",
   "metadata": {},
   "source": [
    "# 8.0. Model Training"
   ]
  },
  {
   "cell_type": "markdown",
   "id": "460f57ef",
   "metadata": {},
   "source": [
    "# 9.0. Cluster Analysis"
   ]
  },
  {
   "cell_type": "markdown",
   "id": "f3d73fd0",
   "metadata": {},
   "source": [
    "# 10.0. Deploy to Production"
   ]
  }
 ],
 "metadata": {
  "kernelspec": {
   "display_name": "Python 3 (ipykernel)",
   "language": "python",
   "name": "python3"
  },
  "language_info": {
   "codemirror_mode": {
    "name": "ipython",
    "version": 3
   },
   "file_extension": ".py",
   "mimetype": "text/x-python",
   "name": "python",
   "nbconvert_exporter": "python",
   "pygments_lexer": "ipython3",
   "version": "3.8.0"
  }
 },
 "nbformat": 4,
 "nbformat_minor": 5
}
