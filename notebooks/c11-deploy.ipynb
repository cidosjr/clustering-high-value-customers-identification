{
 "cells": [
  {
   "cell_type": "markdown",
   "id": "b25a0bdd",
   "metadata": {},
   "source": [
    "# 0.0. Imports"
   ]
  },
  {
   "cell_type": "code",
   "execution_count": 70,
   "id": "722054fa",
   "metadata": {
    "ExecuteTime": {
     "end_time": "2021-09-17T18:13:56.274012Z",
     "start_time": "2021-09-17T18:13:56.265987Z"
    }
   },
   "outputs": [],
   "source": [
    "import re\n",
    "import pandas as pd\n",
    "import numpy as np\n",
    "import seaborn as sns\n",
    "import matplotlib.pyplot as plt\n",
    "import plotly.express as px\n",
    "import sqlite3\n",
    "\n",
    "\n",
    "from sqlalchemy import create_engine\n",
    "from umap.umap_ import UMAP\n",
    "from scipy.cluster import hierarchy as hc\n",
    "\n",
    "from sklearn import cluster\n",
    "from sklearn import metrics\n",
    "from sklearn import preprocessing as pp\n",
    "from sklearn.decomposition import PCA\n",
    "from sklearn.manifold import TSNE\n",
    "from sklearn import ensemble as en\n",
    "from sklearn.mixture import GaussianMixture as gm"
   ]
  },
  {
   "cell_type": "markdown",
   "id": "1bb64666",
   "metadata": {
    "heading_collapsed": true
   },
   "source": [
    "## 0.2. Load Data"
   ]
  },
  {
   "cell_type": "code",
   "execution_count": 2,
   "id": "54243f8b",
   "metadata": {
    "ExecuteTime": {
     "end_time": "2021-09-17T17:58:06.510142Z",
     "start_time": "2021-09-17T17:58:05.808800Z"
    },
    "hidden": true
   },
   "outputs": [],
   "source": [
    "df_raw = pd.read_csv('../data/raw/Ecommerce.csv', encoding='latin1')\n",
    "\n",
    "# drop extra column\n",
    "df_raw = df_raw.drop('Unnamed: 8', axis=1)"
   ]
  },
  {
   "cell_type": "markdown",
   "id": "5b9ae690",
   "metadata": {},
   "source": [
    "# 1.0. Data Description"
   ]
  },
  {
   "cell_type": "code",
   "execution_count": 3,
   "id": "026bbc19",
   "metadata": {
    "ExecuteTime": {
     "end_time": "2021-09-17T17:58:06.547540Z",
     "start_time": "2021-09-17T17:58:06.511857Z"
    }
   },
   "outputs": [],
   "source": [
    "df1 = df_raw.copy()"
   ]
  },
  {
   "cell_type": "markdown",
   "id": "a0e2c036",
   "metadata": {},
   "source": [
    "## 1.1. Rename Columns"
   ]
  },
  {
   "cell_type": "code",
   "execution_count": 4,
   "id": "46322473",
   "metadata": {
    "ExecuteTime": {
     "end_time": "2021-09-17T17:58:06.555777Z",
     "start_time": "2021-09-17T17:58:06.550359Z"
    }
   },
   "outputs": [],
   "source": [
    "cols_new = ['invoice_no', 'stock_code', 'description', 'quantity', 'invoice_date', 'unit_price', 'customer_id', 'country']\n",
    "df1.columns = cols_new"
   ]
  },
  {
   "cell_type": "markdown",
   "id": "09f2dd9b",
   "metadata": {},
   "source": [
    "## 1.2. Data Dimnesions"
   ]
  },
  {
   "cell_type": "code",
   "execution_count": 5,
   "id": "e8295ac6",
   "metadata": {
    "ExecuteTime": {
     "end_time": "2021-09-17T17:58:06.565725Z",
     "start_time": "2021-09-17T17:58:06.559077Z"
    }
   },
   "outputs": [
    {
     "name": "stdout",
     "output_type": "stream",
     "text": [
      "Number of Rows: 541909\n",
      "Number of Columns: 8\n"
     ]
    }
   ],
   "source": [
    "print('Number of Rows: {}'.format(df1.shape[0]))\n",
    "print('Number of Columns: {}'.format(df1.shape[1]))"
   ]
  },
  {
   "cell_type": "markdown",
   "id": "c68dcbcd",
   "metadata": {},
   "source": [
    "## 1.3. Data Types"
   ]
  },
  {
   "cell_type": "code",
   "execution_count": 6,
   "id": "4034f49b",
   "metadata": {
    "ExecuteTime": {
     "end_time": "2021-09-17T17:58:06.583502Z",
     "start_time": "2021-09-17T17:58:06.570195Z"
    }
   },
   "outputs": [
    {
     "data": {
      "text/plain": [
       "invoice_no       object\n",
       "stock_code       object\n",
       "description      object\n",
       "quantity          int64\n",
       "invoice_date     object\n",
       "unit_price      float64\n",
       "customer_id     float64\n",
       "country          object\n",
       "dtype: object"
      ]
     },
     "execution_count": 6,
     "metadata": {},
     "output_type": "execute_result"
    }
   ],
   "source": [
    "df1.dtypes"
   ]
  },
  {
   "cell_type": "markdown",
   "id": "0c014646",
   "metadata": {},
   "source": [
    "## 1.4. Check NA"
   ]
  },
  {
   "cell_type": "code",
   "execution_count": 7,
   "id": "7a8a6351",
   "metadata": {
    "ExecuteTime": {
     "end_time": "2021-09-17T17:58:06.806138Z",
     "start_time": "2021-09-17T17:58:06.586032Z"
    }
   },
   "outputs": [
    {
     "data": {
      "text/plain": [
       "invoice_no           0\n",
       "stock_code           0\n",
       "description       1454\n",
       "quantity             0\n",
       "invoice_date         0\n",
       "unit_price           0\n",
       "customer_id     135080\n",
       "country              0\n",
       "dtype: int64"
      ]
     },
     "execution_count": 7,
     "metadata": {},
     "output_type": "execute_result"
    }
   ],
   "source": [
    "df1.isna().sum()"
   ]
  },
  {
   "cell_type": "markdown",
   "id": "29b1bada",
   "metadata": {},
   "source": [
    "## 1.5. Replace NA"
   ]
  },
  {
   "cell_type": "code",
   "execution_count": 8,
   "id": "aa5882db",
   "metadata": {
    "ExecuteTime": {
     "end_time": "2021-09-17T17:58:06.880235Z",
     "start_time": "2021-09-17T17:58:06.809040Z"
    }
   },
   "outputs": [],
   "source": [
    "df_missing = df1.loc[df1['customer_id'].isna(), :]\n",
    "df_not_missing = df1.loc[~df1['customer_id'].isna(), :]"
   ]
  },
  {
   "cell_type": "code",
   "execution_count": 9,
   "id": "7086dafb",
   "metadata": {
    "ExecuteTime": {
     "end_time": "2021-09-17T17:58:07.200527Z",
     "start_time": "2021-09-17T17:58:06.882013Z"
    }
   },
   "outputs": [],
   "source": [
    "df_backup = pd.DataFrame(df_missing['invoice_no'].drop_duplicates())\n",
    "df_backup['customer_id'] = np.arange(19000, 19000+len(df_backup), 1)\n",
    "\n",
    "# merge \n",
    "df1 = pd.merge(df1, df_backup, how='left', on='invoice_no' )\n",
    "\n",
    "# coalesce \n",
    "df1['customer_id'] = df1['customer_id_x'].combine_first(df1['customer_id_y'])\n",
    "\n",
    "df1 = df1.drop(['customer_id_x', 'customer_id_y'], axis=1)"
   ]
  },
  {
   "cell_type": "markdown",
   "id": "0b0560f9",
   "metadata": {
    "heading_collapsed": true
   },
   "source": [
    "## 1.6. Change Dtypes"
   ]
  },
  {
   "cell_type": "code",
   "execution_count": 10,
   "id": "0a2e3e77",
   "metadata": {
    "ExecuteTime": {
     "end_time": "2021-09-17T17:58:07.319882Z",
     "start_time": "2021-09-17T17:58:07.205941Z"
    },
    "hidden": true
   },
   "outputs": [],
   "source": [
    "df1['invoice_date'] = pd.to_datetime( df1['invoice_date'] )"
   ]
  },
  {
   "cell_type": "markdown",
   "id": "68b2a24f",
   "metadata": {
    "heading_collapsed": true
   },
   "source": [
    "# 2.0. Data Filtering"
   ]
  },
  {
   "cell_type": "code",
   "execution_count": 11,
   "id": "90095e9b",
   "metadata": {
    "ExecuteTime": {
     "end_time": "2021-09-17T17:58:07.341523Z",
     "start_time": "2021-09-17T17:58:07.322437Z"
    },
    "hidden": true
   },
   "outputs": [],
   "source": [
    "df2 = df1.copy()"
   ]
  },
  {
   "cell_type": "markdown",
   "id": "25199fd0",
   "metadata": {
    "hidden": true
   },
   "source": [
    "## 2.1. Filter Columns"
   ]
  },
  {
   "cell_type": "code",
   "execution_count": 12,
   "id": "0bad1aec",
   "metadata": {
    "ExecuteTime": {
     "end_time": "2021-09-17T17:58:07.382221Z",
     "start_time": "2021-09-17T17:58:07.343930Z"
    },
    "hidden": true
   },
   "outputs": [],
   "source": [
    "cols_drop = ['description']\n",
    "df2 = df2.drop(cols_drop, axis=1)"
   ]
  },
  {
   "cell_type": "markdown",
   "id": "b50e3b32",
   "metadata": {
    "hidden": true
   },
   "source": [
    "## 2.2. Filter Rows"
   ]
  },
  {
   "cell_type": "code",
   "execution_count": 13,
   "id": "6bcd20d3",
   "metadata": {
    "ExecuteTime": {
     "end_time": "2021-09-17T17:58:07.599145Z",
     "start_time": "2021-09-17T17:58:07.384305Z"
    },
    "hidden": true
   },
   "outputs": [],
   "source": [
    "# Numerical Attributes\n",
    "df2 = df2.loc[df2['unit_price'] >= 0.4, :]\n",
    "\n",
    "# Categorical Attributes\n",
    "df2 = df2.loc[~df2['stock_code'].isin(['POST', 'D', 'DOT', 'M', 'S', 'AMAZONFEE', 'm', 'DCGSSBOY', 'DCGSSGIRL', 'PADS', 'B', 'CRUK'] ), :]\n",
    "\n",
    "# map\n",
    "df2 = df2.loc[~df2['country'].isin(['European Community', 'Unspecified' ]), :]\n",
    "\n",
    "# bad user\n",
    "df2 = df2[~df2['customer_id'].isin( [16446] )]\n",
    "\n",
    "# quantity\n",
    "df2_returns   = df2.loc[df2['quantity'] < 0, :]\n",
    "df2_purchases = df2.loc[df2['quantity'] >= 0, :]"
   ]
  },
  {
   "cell_type": "markdown",
   "id": "16814c2a",
   "metadata": {
    "heading_collapsed": true
   },
   "source": [
    "# 3.0. Feature Engineering"
   ]
  },
  {
   "cell_type": "code",
   "execution_count": 14,
   "id": "3dcc6d38",
   "metadata": {
    "ExecuteTime": {
     "end_time": "2021-09-17T17:58:07.629183Z",
     "start_time": "2021-09-17T17:58:07.601413Z"
    },
    "hidden": true
   },
   "outputs": [],
   "source": [
    "df3 = df2.copy()"
   ]
  },
  {
   "cell_type": "markdown",
   "id": "180d585e",
   "metadata": {
    "hidden": true
   },
   "source": [
    "## 3.1. Feature Creation"
   ]
  },
  {
   "cell_type": "code",
   "execution_count": 15,
   "id": "153c0407",
   "metadata": {
    "ExecuteTime": {
     "end_time": "2021-09-17T17:58:07.662283Z",
     "start_time": "2021-09-17T17:58:07.631227Z"
    },
    "hidden": true
   },
   "outputs": [],
   "source": [
    "drop_cols = ['invoice_no', 'stock_code', 'quantity', 'invoice_date', 'unit_price', 'country']\n",
    "df_ref = df3.drop(drop_cols, axis=1).drop_duplicates(ignore_index=True)"
   ]
  },
  {
   "cell_type": "code",
   "execution_count": 16,
   "id": "93e42a51",
   "metadata": {
    "ExecuteTime": {
     "end_time": "2021-09-17T17:58:07.679123Z",
     "start_time": "2021-09-17T17:58:07.664854Z"
    },
    "hidden": true
   },
   "outputs": [
    {
     "name": "stderr",
     "output_type": "stream",
     "text": [
      "/home/cid/.pyenv/versions/3.8.0/envs/clustering-high-value-customers-identification/lib/python3.8/site-packages/pandas/core/indexing.py:1773: SettingWithCopyWarning: \n",
      "A value is trying to be set on a copy of a slice from a DataFrame.\n",
      "Try using .loc[row_indexer,col_indexer] = value instead\n",
      "\n",
      "See the caveats in the documentation: https://pandas.pydata.org/pandas-docs/stable/user_guide/indexing.html#returning-a-view-versus-a-copy\n",
      "  self._setitem_single_column(ilocs[0], value, pi)\n"
     ]
    }
   ],
   "source": [
    "df2_purchases.loc[:, ['gross_revenue']] = (df2_purchases.loc[:, 'quantity'] * df2_purchases.loc[:, 'unit_price'])"
   ]
  },
  {
   "cell_type": "markdown",
   "id": "6b340b62",
   "metadata": {
    "ExecuteTime": {
     "end_time": "2021-08-09T16:49:44.138631Z",
     "start_time": "2021-08-09T16:49:44.131084Z"
    },
    "hidden": true
   },
   "source": [
    "### 3.1.1. Monetary"
   ]
  },
  {
   "cell_type": "code",
   "execution_count": 17,
   "id": "485f6c6e",
   "metadata": {
    "ExecuteTime": {
     "end_time": "2021-09-17T17:58:07.745750Z",
     "start_time": "2021-09-17T17:58:07.681195Z"
    },
    "hidden": true
   },
   "outputs": [
    {
     "data": {
      "text/plain": [
       "customer_id     0\n",
       "monetary       92\n",
       "dtype: int64"
      ]
     },
     "execution_count": 17,
     "metadata": {},
     "output_type": "execute_result"
    }
   ],
   "source": [
    "df_monetary = df2_purchases.loc[:, ['customer_id', 'gross_revenue']].groupby('customer_id').sum().reset_index().rename(columns={'gross_revenue': 'monetary'})\n",
    "df_ref = pd.merge(df_ref, df_monetary, how='left', on='customer_id')\n",
    "df_ref.isna().sum()"
   ]
  },
  {
   "cell_type": "markdown",
   "id": "39634d79",
   "metadata": {
    "ExecuteTime": {
     "end_time": "2021-08-09T16:49:44.138631Z",
     "start_time": "2021-08-09T16:49:44.131084Z"
    },
    "hidden": true
   },
   "source": [
    "### 3.1.2. Recency"
   ]
  },
  {
   "cell_type": "code",
   "execution_count": 18,
   "id": "86e6efcc",
   "metadata": {
    "ExecuteTime": {
     "end_time": "2021-09-17T17:58:07.787647Z",
     "start_time": "2021-09-17T17:58:07.747743Z"
    },
    "hidden": true
   },
   "outputs": [
    {
     "data": {
      "text/plain": [
       "customer_id      0\n",
       "monetary        92\n",
       "recency_days    92\n",
       "dtype: int64"
      ]
     },
     "execution_count": 18,
     "metadata": {},
     "output_type": "execute_result"
    }
   ],
   "source": [
    "df_recency = df2_purchases.loc[:, ['customer_id', 'invoice_date']].groupby('customer_id').max().reset_index()\n",
    "df_recency['recency_days'] = (df_recency['invoice_date'].max() - df_recency['invoice_date']).dt.days\n",
    "df_ref = pd.merge(df_ref, df_recency[['customer_id', 'recency_days']], how='left', on='customer_id')\n",
    "\n",
    "df_ref.isna().sum()"
   ]
  },
  {
   "cell_type": "markdown",
   "id": "25bdfbc6",
   "metadata": {
    "ExecuteTime": {
     "end_time": "2021-08-09T16:49:44.138631Z",
     "start_time": "2021-08-09T16:49:44.131084Z"
    },
    "hidden": true
   },
   "source": [
    "### 3.1.3. Quatily of purchased"
   ]
  },
  {
   "cell_type": "code",
   "execution_count": 19,
   "id": "f95c9fd1",
   "metadata": {
    "ExecuteTime": {
     "end_time": "2021-09-17T17:58:07.883485Z",
     "start_time": "2021-09-17T17:58:07.790478Z"
    },
    "hidden": true
   },
   "outputs": [
    {
     "data": {
      "text/plain": [
       "customer_id       0\n",
       "monetary         92\n",
       "recency_days     92\n",
       "qtde_invoices    92\n",
       "dtype: int64"
      ]
     },
     "execution_count": 19,
     "metadata": {},
     "output_type": "execute_result"
    }
   ],
   "source": [
    "df_freq = df2_purchases[['customer_id', 'invoice_no']].drop_duplicates().groupby('customer_id').count().reset_index().\\\n",
    "rename(columns={'invoice_no': 'qtde_invoices'})\n",
    "\n",
    "df_ref = pd.merge(df_ref, df_freq, how='left', on='customer_id')\n",
    "df_ref.isna().sum()"
   ]
  },
  {
   "cell_type": "markdown",
   "id": "a2f4d7c7",
   "metadata": {
    "hidden": true
   },
   "source": [
    "### 3.1.4. Quantity total of items purchased"
   ]
  },
  {
   "cell_type": "code",
   "execution_count": 20,
   "id": "a59a9d62",
   "metadata": {
    "ExecuteTime": {
     "end_time": "2021-09-17T17:58:07.922233Z",
     "start_time": "2021-09-17T17:58:07.885381Z"
    },
    "hidden": true
   },
   "outputs": [
    {
     "data": {
      "text/plain": [
       "customer_id       0\n",
       "monetary         92\n",
       "recency_days     92\n",
       "qtde_invoices    92\n",
       "qtde_items       92\n",
       "dtype: int64"
      ]
     },
     "execution_count": 20,
     "metadata": {},
     "output_type": "execute_result"
    }
   ],
   "source": [
    "df_freq = (df2_purchases.loc[:, ['customer_id', 'quantity']].groupby('customer_id')\n",
    "                                                            .sum()\n",
    "                                                            .reset_index()\n",
    "                                                            .rename(columns={'quantity': 'qtde_items'}))\n",
    "df_ref = pd.merge(df_ref, df_freq, how='left', on='customer_id')\n",
    "df_ref.isna().sum()"
   ]
  },
  {
   "cell_type": "markdown",
   "id": "410ffb81",
   "metadata": {
    "ExecuteTime": {
     "end_time": "2021-08-12T13:29:13.252634Z",
     "start_time": "2021-08-12T13:29:13.237186Z"
    },
    "hidden": true
   },
   "source": [
    "### 3.1.5. Quantity of products purchased"
   ]
  },
  {
   "cell_type": "code",
   "execution_count": 21,
   "id": "81686ba1",
   "metadata": {
    "ExecuteTime": {
     "end_time": "2021-09-17T17:58:08.010947Z",
     "start_time": "2021-09-17T17:58:07.924344Z"
    },
    "hidden": true
   },
   "outputs": [
    {
     "data": {
      "text/plain": [
       "customer_id       0\n",
       "monetary         92\n",
       "recency_days     92\n",
       "qtde_invoices    92\n",
       "qtde_items       92\n",
       "qtde_products    92\n",
       "dtype: int64"
      ]
     },
     "execution_count": 21,
     "metadata": {},
     "output_type": "execute_result"
    }
   ],
   "source": [
    "df_freq = ( df2_purchases.loc[:, ['customer_id', 'stock_code']].groupby('customer_id')\n",
    "                                                               .count()\n",
    "                                                               .reset_index()\n",
    "                                                               .rename(columns={'stock_code': 'qtde_products'}))\n",
    "df_ref = pd.merge(df_ref, df_freq, how='left', on='customer_id')\n",
    "df_ref.isna().sum()"
   ]
  },
  {
   "cell_type": "markdown",
   "id": "0bbbf7fe",
   "metadata": {
    "ExecuteTime": {
     "end_time": "2021-08-09T16:49:44.138631Z",
     "start_time": "2021-08-09T16:49:44.131084Z"
    },
    "hidden": true
   },
   "source": [
    "### 3.1.6. Average Ticket"
   ]
  },
  {
   "cell_type": "code",
   "execution_count": 22,
   "id": "d2d0eed6",
   "metadata": {
    "ExecuteTime": {
     "end_time": "2021-09-17T17:58:08.056601Z",
     "start_time": "2021-09-17T17:58:08.013573Z"
    },
    "hidden": true
   },
   "outputs": [
    {
     "data": {
      "text/plain": [
       "customer_id       0\n",
       "monetary         92\n",
       "recency_days     92\n",
       "qtde_invoices    92\n",
       "qtde_items       92\n",
       "qtde_products    92\n",
       "avg_ticket       92\n",
       "dtype: int64"
      ]
     },
     "execution_count": 22,
     "metadata": {},
     "output_type": "execute_result"
    }
   ],
   "source": [
    "df_avg_ticket =  (df2_purchases.loc[:, ['customer_id','gross_revenue']].groupby('customer_id')\n",
    "                                                                       .mean()\n",
    "                                                                       .reset_index()\n",
    "                                                                       .rename(columns={'gross_revenue': 'avg_ticket'}))\n",
    "\n",
    "df_ref = pd.merge(df_ref, df_avg_ticket, how='left', on='customer_id')\n",
    "\n",
    "df_ref.isna().sum()"
   ]
  },
  {
   "cell_type": "markdown",
   "id": "9c33c58d",
   "metadata": {
    "hidden": true
   },
   "source": [
    "### 3.1.7. Average Recency Days"
   ]
  },
  {
   "cell_type": "code",
   "execution_count": 23,
   "id": "bd3c3af6",
   "metadata": {
    "ExecuteTime": {
     "end_time": "2021-09-17T17:58:08.101958Z",
     "start_time": "2021-09-17T17:58:08.059426Z"
    },
    "hidden": true
   },
   "outputs": [],
   "source": [
    "df_aux = df2[['customer_id', 'invoice_date']].drop_duplicates().sort_values(['customer_id', 'invoice_date'], ascending=[False, False])\n",
    "df_aux['next_customer_id'] = df_aux['customer_id'].shift()\n",
    "df_aux['previus_date'] = df_aux['invoice_date'].shift()"
   ]
  },
  {
   "cell_type": "code",
   "execution_count": 24,
   "id": "0dcc70c2",
   "metadata": {
    "ExecuteTime": {
     "end_time": "2021-09-17T17:58:09.373386Z",
     "start_time": "2021-09-17T17:58:08.105281Z"
    },
    "hidden": true
   },
   "outputs": [],
   "source": [
    "df_aux['avg_recency_days'] = df_aux.apply( lambda x: (x['invoice_date'] - x['previus_date']).days if x['customer_id'] == x['next_customer_id'] else np.nan, axis=1)\n",
    "df_aux['avg_recency_days'] = df_aux['avg_recency_days'] * -1\n",
    "df_aux = df_aux.drop(columns=['invoice_date', 'next_customer_id', 'previus_date'], axis=1).dropna()"
   ]
  },
  {
   "cell_type": "code",
   "execution_count": 25,
   "id": "0f1caa5a",
   "metadata": {
    "ExecuteTime": {
     "end_time": "2021-09-17T17:58:09.399127Z",
     "start_time": "2021-09-17T17:58:09.375187Z"
    },
    "hidden": true
   },
   "outputs": [
    {
     "data": {
      "text/plain": [
       "customer_id            0\n",
       "monetary              92\n",
       "recency_days          92\n",
       "qtde_invoices         92\n",
       "qtde_items            92\n",
       "qtde_products         92\n",
       "avg_ticket            92\n",
       "avg_recency_days    2815\n",
       "dtype: int64"
      ]
     },
     "execution_count": 25,
     "metadata": {},
     "output_type": "execute_result"
    }
   ],
   "source": [
    "df_avg_recency_days = df_aux.groupby( 'customer_id' ).mean().reset_index()\n",
    "\n",
    "df_ref = pd.merge(df_ref, df_avg_recency_days, on='customer_id', how='left')\n",
    "df_ref.isna().sum()"
   ]
  },
  {
   "cell_type": "markdown",
   "id": "922407e6",
   "metadata": {
    "hidden": true
   },
   "source": [
    "### 3.1.8. Frequency Purchase"
   ]
  },
  {
   "cell_type": "code",
   "execution_count": 26,
   "id": "ecf5a5d7",
   "metadata": {
    "ExecuteTime": {
     "end_time": "2021-09-17T17:58:11.599297Z",
     "start_time": "2021-09-17T17:58:09.402768Z"
    },
    "hidden": true
   },
   "outputs": [
    {
     "data": {
      "text/plain": [
       "customer_id            0\n",
       "monetary              92\n",
       "recency_days          92\n",
       "qtde_invoices         92\n",
       "qtde_items            92\n",
       "qtde_products         92\n",
       "avg_ticket            92\n",
       "avg_recency_days    2815\n",
       "frequency             92\n",
       "dtype: int64"
      ]
     },
     "execution_count": 26,
     "metadata": {},
     "output_type": "execute_result"
    }
   ],
   "source": [
    "df_aux = (df2_purchases[['customer_id', 'invoice_no', 'invoice_date']].drop_duplicates()\n",
    "                                                 .groupby('customer_id')\n",
    "                                                 .agg( max_ = ('invoice_date', 'max'),\n",
    "                                                       min_ = ('invoice_date', 'min'),\n",
    "                                                       days = ('invoice_date', lambda x: ((x.max() - x.min()).days) + 1 ),\n",
    "                                                       buy_ = ( 'invoice_no', 'count' ))).reset_index()\n",
    "\n",
    "df_aux['frequency'] = df_aux[['buy_', 'days']].apply( lambda x: x['buy_'] / x['days'] if x['days'] != 0 else 0, axis=1 )\n",
    "\n",
    "df_ref = pd.merge(df_ref, df_aux[['customer_id', 'frequency']], on='customer_id', how='left')\n",
    "df_ref.isna().sum()"
   ]
  },
  {
   "cell_type": "markdown",
   "id": "a90650fd",
   "metadata": {
    "hidden": true
   },
   "source": [
    "### 3.1.9. Number Or Returns"
   ]
  },
  {
   "cell_type": "code",
   "execution_count": 27,
   "id": "fc6071ef",
   "metadata": {
    "ExecuteTime": {
     "end_time": "2021-09-17T17:58:11.637340Z",
     "start_time": "2021-09-17T17:58:11.603314Z"
    },
    "hidden": true
   },
   "outputs": [
    {
     "data": {
      "text/plain": [
       "customer_id            0\n",
       "monetary              92\n",
       "recency_days          92\n",
       "qtde_invoices         92\n",
       "qtde_items            92\n",
       "qtde_products         92\n",
       "avg_ticket            92\n",
       "avg_recency_days    2815\n",
       "frequency             92\n",
       "qtde_returns           0\n",
       "dtype: int64"
      ]
     },
     "execution_count": 27,
     "metadata": {},
     "output_type": "execute_result"
    }
   ],
   "source": [
    "df_returns = df2_returns[['quantity', 'customer_id']].groupby('customer_id').sum().reset_index().rename(columns={'quantity': 'qtde_returns'})\n",
    "df_returns['qtde_returns'] = df_returns['qtde_returns'] * -1\n",
    "\n",
    "df_ref = pd.merge(df_ref, df_returns, on='customer_id', how='left')\n",
    "df_ref['qtde_returns'].fillna(0, inplace=True)\n",
    "df_ref.isna().sum()"
   ]
  },
  {
   "cell_type": "markdown",
   "id": "83a0383f",
   "metadata": {
    "hidden": true
   },
   "source": [
    "### 3.1.10. Basket Size"
   ]
  },
  {
   "cell_type": "code",
   "execution_count": 28,
   "id": "f823e35f",
   "metadata": {
    "ExecuteTime": {
     "end_time": "2021-09-17T17:58:11.787811Z",
     "start_time": "2021-09-17T17:58:11.644370Z"
    },
    "hidden": true
   },
   "outputs": [
    {
     "data": {
      "text/plain": [
       "customer_id            0\n",
       "monetary              92\n",
       "recency_days          92\n",
       "qtde_invoices         92\n",
       "qtde_items            92\n",
       "qtde_products         92\n",
       "avg_ticket            92\n",
       "avg_recency_days    2815\n",
       "frequency             92\n",
       "qtde_returns           0\n",
       "avg_basket_size       92\n",
       "dtype: int64"
      ]
     },
     "execution_count": 28,
     "metadata": {},
     "output_type": "execute_result"
    }
   ],
   "source": [
    "df_aux = (df2_purchases[['customer_id', 'invoice_no', 'quantity']].groupby('customer_id')\n",
    "                                                                   .agg( n_purchase=('invoice_no', 'nunique'),\n",
    "                                                                         n_products=('quantity', 'sum'))).reset_index()\n",
    "df_aux['avg_basket_size'] = df_aux['n_products'] / df_aux['n_purchase']\n",
    "df_ref = pd.merge(df_ref, df_aux[['avg_basket_size', 'customer_id']], on='customer_id', how='left')\n",
    "df_ref.isna().sum()"
   ]
  },
  {
   "cell_type": "markdown",
   "id": "308da526",
   "metadata": {
    "hidden": true
   },
   "source": [
    "### 3.1.11. Unique Basket Size"
   ]
  },
  {
   "cell_type": "code",
   "execution_count": 29,
   "id": "e81c5029",
   "metadata": {
    "ExecuteTime": {
     "end_time": "2021-09-17T17:58:12.048162Z",
     "start_time": "2021-09-17T17:58:11.790917Z"
    },
    "hidden": true
   },
   "outputs": [
    {
     "data": {
      "text/plain": [
       "customer_id                  0\n",
       "monetary                    92\n",
       "recency_days                92\n",
       "qtde_invoices               92\n",
       "qtde_items                  92\n",
       "qtde_products               92\n",
       "avg_ticket                  92\n",
       "avg_recency_days          2815\n",
       "frequency                   92\n",
       "qtde_returns                 0\n",
       "avg_basket_size             92\n",
       "avg_unique_basket_size      92\n",
       "dtype: int64"
      ]
     },
     "execution_count": 29,
     "metadata": {},
     "output_type": "execute_result"
    }
   ],
   "source": [
    "df_aux = (df2_purchases.loc[:, ['customer_id', 'invoice_no', 'stock_code']].groupby( 'customer_id' )\n",
    "                                                                         .agg(n_purchase=('invoice_no', 'nunique'),\n",
    "                                                                              n_products=('stock_code', 'nunique'))).reset_index()\n",
    "df_aux['avg_unique_basket_size'] = df_aux['n_products'] / df_aux['n_purchase']\n",
    "\n",
    "df_ref = pd.merge(df_ref, df_aux[['avg_unique_basket_size', 'customer_id']], on='customer_id', how='left')\n",
    "df_ref.isna().sum()"
   ]
  },
  {
   "cell_type": "markdown",
   "id": "5e87e47c",
   "metadata": {},
   "source": [
    "# 4.0. EDA  "
   ]
  },
  {
   "cell_type": "code",
   "execution_count": 44,
   "id": "aac53260",
   "metadata": {
    "ExecuteTime": {
     "end_time": "2021-09-17T18:02:18.624930Z",
     "start_time": "2021-09-17T18:02:18.613305Z"
    }
   },
   "outputs": [],
   "source": [
    "df_ref = df_ref.dropna()\n",
    "\n",
    "df4 = df_ref[['customer_id', 'monetary', 'recency_days', 'qtde_products', 'frequency', 'qtde_returns']].copy()"
   ]
  },
  {
   "cell_type": "markdown",
   "id": "750cdf49",
   "metadata": {},
   "source": [
    "## 4.3. Space Study"
   ]
  },
  {
   "cell_type": "code",
   "execution_count": 45,
   "id": "dddb73bb",
   "metadata": {
    "ExecuteTime": {
     "end_time": "2021-09-17T18:02:21.304515Z",
     "start_time": "2021-09-17T18:02:21.299952Z"
    }
   },
   "outputs": [],
   "source": [
    "df43 = df4[['customer_id', 'monetary', 'recency_days', 'qtde_products', 'frequency', 'qtde_returns']].copy()"
   ]
  },
  {
   "cell_type": "code",
   "execution_count": 32,
   "id": "98135fd4",
   "metadata": {
    "ExecuteTime": {
     "end_time": "2021-09-17T17:58:12.103329Z",
     "start_time": "2021-09-17T17:58:12.079144Z"
    }
   },
   "outputs": [],
   "source": [
    "mms = pp.MinMaxScaler()\n",
    "\n",
    "df43['monetary'] = mms.fit_transform( df43[['monetary']].values )\n",
    "df43['recency_days'] = mms.fit_transform( df43[['recency_days']].values )\n",
    "df43['qtde_products'] = mms.fit_transform( df43[['qtde_products']].values )\n",
    "df43['frequency'] = mms.fit_transform( df43[['frequency']].values )\n",
    "df43['qtde_returns'] = mms.fit_transform( df43[['qtde_returns']].values )\n",
    "\n",
    "\n",
    "X = df43.copy()"
   ]
  },
  {
   "cell_type": "markdown",
   "id": "47b38921",
   "metadata": {},
   "source": [
    "### 4.3.4. Tree-Based Embbedding"
   ]
  },
  {
   "cell_type": "code",
   "execution_count": 33,
   "id": "77ad5bfc",
   "metadata": {
    "ExecuteTime": {
     "end_time": "2021-09-17T17:58:13.046677Z",
     "start_time": "2021-09-17T17:58:12.105928Z"
    }
   },
   "outputs": [],
   "source": [
    "X = df43.drop(columns=['customer_id', 'monetary'])\n",
    "y = df43['monetary']\n",
    "\n",
    "# model training\n",
    "rf_model = en.RandomForestRegressor( n_estimators=100, random_state=42 )\n",
    "\n",
    "# model training definition\n",
    "rf_model.fit( X, y)\n",
    "\n",
    "# Leaf\n",
    "df_leaf = pd.DataFrame( rf_model.apply( X ) )"
   ]
  },
  {
   "cell_type": "code",
   "execution_count": 34,
   "id": "b8e6c5a3",
   "metadata": {
    "ExecuteTime": {
     "end_time": "2021-09-17T17:58:32.798372Z",
     "start_time": "2021-09-17T17:58:13.049049Z"
    }
   },
   "outputs": [],
   "source": [
    "df_leaf_umap = pd.DataFrame()\n",
    "\n",
    "# reduzer dimensionality\n",
    "reducer = UMAP(random_state=42)\n",
    "embedding = reducer.fit_transform( df_leaf )\n",
    "\n",
    "# embedding\n",
    "df_leaf_umap['x'] = embedding[:, 0]\n",
    "df_leaf_umap['y'] = embedding[:, 1]\n",
    "\n",
    "# # plot \n",
    "# sns.scatterplot( x='x', y='y', data=df_leaf_umap );"
   ]
  },
  {
   "cell_type": "markdown",
   "id": "6c467b8f",
   "metadata": {
    "heading_collapsed": true
   },
   "source": [
    "# 5.0. Data Preparation "
   ]
  },
  {
   "cell_type": "markdown",
   "id": "eb80c6d9",
   "metadata": {},
   "source": [
    "# 6.0. Feature Selection"
   ]
  },
  {
   "cell_type": "code",
   "execution_count": 35,
   "id": "1ac770e9",
   "metadata": {
    "ExecuteTime": {
     "end_time": "2021-09-17T17:58:32.811969Z",
     "start_time": "2021-09-17T17:58:32.805357Z"
    }
   },
   "outputs": [],
   "source": [
    "df6 = df_leaf_umap.copy()"
   ]
  },
  {
   "cell_type": "markdown",
   "id": "102e3348",
   "metadata": {},
   "source": [
    "# 7.0. Hyperpameter Fine Tuning"
   ]
  },
  {
   "cell_type": "code",
   "execution_count": 36,
   "id": "7339f801",
   "metadata": {
    "ExecuteTime": {
     "end_time": "2021-09-17T17:58:32.821425Z",
     "start_time": "2021-09-17T17:58:32.815106Z"
    }
   },
   "outputs": [],
   "source": [
    "# X = df6.drop(columns=['customer_id'])\n",
    "X = df6.copy()"
   ]
  },
  {
   "cell_type": "markdown",
   "id": "11fdb6f0",
   "metadata": {},
   "source": [
    "# 8.0. Model Training"
   ]
  },
  {
   "cell_type": "code",
   "execution_count": 37,
   "id": "533f8854",
   "metadata": {
    "ExecuteTime": {
     "end_time": "2021-09-17T17:58:38.430110Z",
     "start_time": "2021-09-17T17:58:32.825361Z"
    }
   },
   "outputs": [],
   "source": [
    "k = 8\n",
    "\n",
    "# model definition\n",
    "gmm_model = gm(n_components=k, n_init=100, random_state=42)\n",
    "\n",
    "# model training\n",
    "gmm_model.fit(X)\n",
    "\n",
    "# model predict\n",
    "labels = gmm_model.predict(X)"
   ]
  },
  {
   "cell_type": "markdown",
   "id": "a6b30a59",
   "metadata": {},
   "source": [
    "# 9.0. Cluster Analysis"
   ]
  },
  {
   "cell_type": "code",
   "execution_count": 58,
   "id": "6a23bab5",
   "metadata": {
    "ExecuteTime": {
     "end_time": "2021-09-17T18:06:53.574649Z",
     "start_time": "2021-09-17T18:06:53.561366Z"
    }
   },
   "outputs": [],
   "source": [
    "df92 = df43.copy()\n",
    "df92['cluster'] = labels\n",
    "\n",
    "\n",
    "# change dtypes\n",
    "df92['recency_days'] = df92['recency_days'].astype(int)\n",
    "df92['customer_id'] = df92['customer_id'].astype(int)\n",
    "df92['qtde_products'] = df92['qtde_products'].astype(int)\n",
    "df92['qtde_returns'] = df92['qtde_returns'].astype(int)"
   ]
  },
  {
   "cell_type": "markdown",
   "id": "b253d006",
   "metadata": {},
   "source": [
    "## 9.2. Cluster Profile"
   ]
  },
  {
   "cell_type": "code",
   "execution_count": 59,
   "id": "52e323c0",
   "metadata": {
    "ExecuteTime": {
     "end_time": "2021-09-17T18:06:54.362136Z",
     "start_time": "2021-09-17T18:06:54.337599Z"
    }
   },
   "outputs": [
    {
     "data": {
      "text/html": [
       "<div>\n",
       "<style scoped>\n",
       "    .dataframe tbody tr th:only-of-type {\n",
       "        vertical-align: middle;\n",
       "    }\n",
       "\n",
       "    .dataframe tbody tr th {\n",
       "        vertical-align: top;\n",
       "    }\n",
       "\n",
       "    .dataframe thead th {\n",
       "        text-align: right;\n",
       "    }\n",
       "</style>\n",
       "<table border=\"1\" class=\"dataframe\">\n",
       "  <thead>\n",
       "    <tr style=\"text-align: right;\">\n",
       "      <th></th>\n",
       "      <th>customer_id</th>\n",
       "      <th>monetary</th>\n",
       "      <th>recency_days</th>\n",
       "      <th>qtde_products</th>\n",
       "      <th>frequency</th>\n",
       "      <th>qtde_returns</th>\n",
       "      <th>cluster</th>\n",
       "    </tr>\n",
       "  </thead>\n",
       "  <tbody>\n",
       "    <tr>\n",
       "      <th>0</th>\n",
       "      <td>17850</td>\n",
       "      <td>5391.21</td>\n",
       "      <td>372</td>\n",
       "      <td>297</td>\n",
       "      <td>17.000000</td>\n",
       "      <td>40</td>\n",
       "      <td>0</td>\n",
       "    </tr>\n",
       "    <tr>\n",
       "      <th>1</th>\n",
       "      <td>13047</td>\n",
       "      <td>3232.59</td>\n",
       "      <td>56</td>\n",
       "      <td>171</td>\n",
       "      <td>0.028302</td>\n",
       "      <td>35</td>\n",
       "      <td>0</td>\n",
       "    </tr>\n",
       "    <tr>\n",
       "      <th>2</th>\n",
       "      <td>12583</td>\n",
       "      <td>6495.30</td>\n",
       "      <td>2</td>\n",
       "      <td>221</td>\n",
       "      <td>0.040323</td>\n",
       "      <td>50</td>\n",
       "      <td>0</td>\n",
       "    </tr>\n",
       "    <tr>\n",
       "      <th>3</th>\n",
       "      <td>13748</td>\n",
       "      <td>938.89</td>\n",
       "      <td>95</td>\n",
       "      <td>27</td>\n",
       "      <td>0.017921</td>\n",
       "      <td>0</td>\n",
       "      <td>4</td>\n",
       "    </tr>\n",
       "    <tr>\n",
       "      <th>4</th>\n",
       "      <td>15100</td>\n",
       "      <td>876.00</td>\n",
       "      <td>333</td>\n",
       "      <td>3</td>\n",
       "      <td>0.073171</td>\n",
       "      <td>22</td>\n",
       "      <td>3</td>\n",
       "    </tr>\n",
       "  </tbody>\n",
       "</table>\n",
       "</div>"
      ],
      "text/plain": [
       "   customer_id  monetary  recency_days  qtde_products  frequency  \\\n",
       "0        17850   5391.21           372            297  17.000000   \n",
       "1        13047   3232.59            56            171   0.028302   \n",
       "2        12583   6495.30             2            221   0.040323   \n",
       "3        13748    938.89            95             27   0.017921   \n",
       "4        15100    876.00           333              3   0.073171   \n",
       "\n",
       "   qtde_returns  cluster  \n",
       "0            40        0  \n",
       "1            35        0  \n",
       "2            50        0  \n",
       "3             0        4  \n",
       "4            22        3  "
      ]
     },
     "execution_count": 59,
     "metadata": {},
     "output_type": "execute_result"
    }
   ],
   "source": [
    "df92.head()"
   ]
  },
  {
   "cell_type": "code",
   "execution_count": 50,
   "id": "b0ceaa89",
   "metadata": {
    "ExecuteTime": {
     "end_time": "2021-09-17T18:03:05.980719Z",
     "start_time": "2021-09-17T18:03:05.909415Z"
    }
   },
   "outputs": [
    {
     "data": {
      "text/html": [
       "<style type=\"text/css\">\n",
       "#T_d2cd8_row0_col3, #T_d2cd8_row0_col5, #T_d2cd8_row0_col7, #T_d2cd8_row4_col1, #T_d2cd8_row4_col2, #T_d2cd8_row6_col0, #T_d2cd8_row7_col4, #T_d2cd8_row7_col6 {\n",
       "  background-color: lightgreen;\n",
       "}\n",
       "</style>\n",
       "<table id=\"T_d2cd8_\">\n",
       "  <thead>\n",
       "    <tr>\n",
       "      <th class=\"blank level0\" >&nbsp;</th>\n",
       "      <th class=\"col_heading level0 col0\" >cluster</th>\n",
       "      <th class=\"col_heading level0 col1\" >qt_users</th>\n",
       "      <th class=\"col_heading level0 col2\" >per_user</th>\n",
       "      <th class=\"col_heading level0 col3\" >monetary</th>\n",
       "      <th class=\"col_heading level0 col4\" >recency_days</th>\n",
       "      <th class=\"col_heading level0 col5\" >qtde_products</th>\n",
       "      <th class=\"col_heading level0 col6\" >frequency</th>\n",
       "      <th class=\"col_heading level0 col7\" >qtde_returns</th>\n",
       "    </tr>\n",
       "  </thead>\n",
       "  <tbody>\n",
       "    <tr>\n",
       "      <th id=\"T_d2cd8_level0_row0\" class=\"row_heading level0 row0\" >0</th>\n",
       "      <td id=\"T_d2cd8_row0_col0\" class=\"data row0 col0\" >0</td>\n",
       "      <td id=\"T_d2cd8_row0_col1\" class=\"data row0 col1\" >590</td>\n",
       "      <td id=\"T_d2cd8_row0_col2\" class=\"data row0 col2\" >19.959405</td>\n",
       "      <td id=\"T_d2cd8_row0_col3\" class=\"data row0 col3\" >7537.835136</td>\n",
       "      <td id=\"T_d2cd8_row0_col4\" class=\"data row0 col4\" >24.745763</td>\n",
       "      <td id=\"T_d2cd8_row0_col5\" class=\"data row0 col5\" >357.652542</td>\n",
       "      <td id=\"T_d2cd8_row0_col6\" class=\"data row0 col6\" >0.087172</td>\n",
       "      <td id=\"T_d2cd8_row0_col7\" class=\"data row0 col7\" >113.132203</td>\n",
       "    </tr>\n",
       "    <tr>\n",
       "      <th id=\"T_d2cd8_level0_row1\" class=\"row_heading level0 row1\" >6</th>\n",
       "      <td id=\"T_d2cd8_row1_col0\" class=\"data row1 col0\" >6</td>\n",
       "      <td id=\"T_d2cd8_row1_col1\" class=\"data row1 col1\" >410</td>\n",
       "      <td id=\"T_d2cd8_row1_col2\" class=\"data row1 col2\" >13.870095</td>\n",
       "      <td id=\"T_d2cd8_row1_col3\" class=\"data row1 col3\" >2503.757659</td>\n",
       "      <td id=\"T_d2cd8_row1_col4\" class=\"data row1 col4\" >56.751220</td>\n",
       "      <td id=\"T_d2cd8_row1_col5\" class=\"data row1 col5\" >88.378049</td>\n",
       "      <td id=\"T_d2cd8_row1_col6\" class=\"data row1 col6\" >0.057826</td>\n",
       "      <td id=\"T_d2cd8_row1_col7\" class=\"data row1 col7\" >14.482927</td>\n",
       "    </tr>\n",
       "    <tr>\n",
       "      <th id=\"T_d2cd8_level0_row2\" class=\"row_heading level0 row2\" >5</th>\n",
       "      <td id=\"T_d2cd8_row2_col0\" class=\"data row2 col0\" >5</td>\n",
       "      <td id=\"T_d2cd8_row2_col1\" class=\"data row2 col1\" >329</td>\n",
       "      <td id=\"T_d2cd8_row2_col2\" class=\"data row2 col2\" >11.129905</td>\n",
       "      <td id=\"T_d2cd8_row2_col3\" class=\"data row2 col3\" >2437.602705</td>\n",
       "      <td id=\"T_d2cd8_row2_col4\" class=\"data row2 col4\" >43.790274</td>\n",
       "      <td id=\"T_d2cd8_row2_col5\" class=\"data row2 col5\" >127.355623</td>\n",
       "      <td id=\"T_d2cd8_row2_col6\" class=\"data row2 col6\" >0.038719</td>\n",
       "      <td id=\"T_d2cd8_row2_col7\" class=\"data row2 col7\" >19.793313</td>\n",
       "    </tr>\n",
       "    <tr>\n",
       "      <th id=\"T_d2cd8_level0_row3\" class=\"row_heading level0 row3\" >2</th>\n",
       "      <td id=\"T_d2cd8_row3_col0\" class=\"data row3 col0\" >2</td>\n",
       "      <td id=\"T_d2cd8_row3_col1\" class=\"data row3 col1\" >142</td>\n",
       "      <td id=\"T_d2cd8_row3_col2\" class=\"data row3 col2\" >4.803789</td>\n",
       "      <td id=\"T_d2cd8_row3_col3\" class=\"data row3 col3\" >2028.583239</td>\n",
       "      <td id=\"T_d2cd8_row3_col4\" class=\"data row3 col4\" >39.626761</td>\n",
       "      <td id=\"T_d2cd8_row3_col5\" class=\"data row3 col5\" >99.732394</td>\n",
       "      <td id=\"T_d2cd8_row3_col6\" class=\"data row3 col6\" >0.040345</td>\n",
       "      <td id=\"T_d2cd8_row3_col7\" class=\"data row3 col7\" >7.133803</td>\n",
       "    </tr>\n",
       "    <tr>\n",
       "      <th id=\"T_d2cd8_level0_row4\" class=\"row_heading level0 row4\" >1</th>\n",
       "      <td id=\"T_d2cd8_row4_col0\" class=\"data row4 col0\" >1</td>\n",
       "      <td id=\"T_d2cd8_row4_col1\" class=\"data row4 col1\" >651</td>\n",
       "      <td id=\"T_d2cd8_row4_col2\" class=\"data row4 col2\" >22.023004</td>\n",
       "      <td id=\"T_d2cd8_row4_col3\" class=\"data row4 col3\" >1108.411536</td>\n",
       "      <td id=\"T_d2cd8_row4_col4\" class=\"data row4 col4\" >67.038402</td>\n",
       "      <td id=\"T_d2cd8_row4_col5\" class=\"data row4 col5\" >46.855607</td>\n",
       "      <td id=\"T_d2cd8_row4_col6\" class=\"data row4 col6\" >0.058335</td>\n",
       "      <td id=\"T_d2cd8_row4_col7\" class=\"data row4 col7\" >11.861751</td>\n",
       "    </tr>\n",
       "    <tr>\n",
       "      <th id=\"T_d2cd8_level0_row5\" class=\"row_heading level0 row5\" >4</th>\n",
       "      <td id=\"T_d2cd8_row5_col0\" class=\"data row5 col0\" >4</td>\n",
       "      <td id=\"T_d2cd8_row5_col1\" class=\"data row5 col1\" >204</td>\n",
       "      <td id=\"T_d2cd8_row5_col2\" class=\"data row5 col2\" >6.901218</td>\n",
       "      <td id=\"T_d2cd8_row5_col3\" class=\"data row5 col3\" >900.411716</td>\n",
       "      <td id=\"T_d2cd8_row5_col4\" class=\"data row5 col4\" >81.416667</td>\n",
       "      <td id=\"T_d2cd8_row5_col5\" class=\"data row5 col5\" >28.500000</td>\n",
       "      <td id=\"T_d2cd8_row5_col6\" class=\"data row5 col6\" >0.111439</td>\n",
       "      <td id=\"T_d2cd8_row5_col7\" class=\"data row5 col7\" >4.284314</td>\n",
       "    </tr>\n",
       "    <tr>\n",
       "      <th id=\"T_d2cd8_level0_row6\" class=\"row_heading level0 row6\" >7</th>\n",
       "      <td id=\"T_d2cd8_row6_col0\" class=\"data row6 col0\" >7</td>\n",
       "      <td id=\"T_d2cd8_row6_col1\" class=\"data row6 col1\" >272</td>\n",
       "      <td id=\"T_d2cd8_row6_col2\" class=\"data row6 col2\" >9.201624</td>\n",
       "      <td id=\"T_d2cd8_row6_col3\" class=\"data row6 col3\" >564.829816</td>\n",
       "      <td id=\"T_d2cd8_row6_col4\" class=\"data row6 col4\" >85.169118</td>\n",
       "      <td id=\"T_d2cd8_row6_col5\" class=\"data row6 col5\" >11.430147</td>\n",
       "      <td id=\"T_d2cd8_row6_col6\" class=\"data row6 col6\" >0.027752</td>\n",
       "      <td id=\"T_d2cd8_row6_col7\" class=\"data row6 col7\" >0.952206</td>\n",
       "    </tr>\n",
       "    <tr>\n",
       "      <th id=\"T_d2cd8_level0_row7\" class=\"row_heading level0 row7\" >3</th>\n",
       "      <td id=\"T_d2cd8_row7_col0\" class=\"data row7 col0\" >3</td>\n",
       "      <td id=\"T_d2cd8_row7_col1\" class=\"data row7 col1\" >358</td>\n",
       "      <td id=\"T_d2cd8_row7_col2\" class=\"data row7 col2\" >12.110961</td>\n",
       "      <td id=\"T_d2cd8_row7_col3\" class=\"data row7 col3\" >550.485894</td>\n",
       "      <td id=\"T_d2cd8_row7_col4\" class=\"data row7 col4\" >135.888268</td>\n",
       "      <td id=\"T_d2cd8_row7_col5\" class=\"data row7 col5\" >16.405028</td>\n",
       "      <td id=\"T_d2cd8_row7_col6\" class=\"data row7 col6\" >0.483529</td>\n",
       "      <td id=\"T_d2cd8_row7_col7\" class=\"data row7 col7\" >18.117318</td>\n",
       "    </tr>\n",
       "  </tbody>\n",
       "</table>\n"
      ],
      "text/plain": [
       "<pandas.io.formats.style.Styler at 0x7f7c017ad2e0>"
      ]
     },
     "execution_count": 50,
     "metadata": {},
     "output_type": "execute_result"
    }
   ],
   "source": [
    "# cluster - qt_users - per_user\n",
    "df_cluster = df92[['customer_id', 'cluster']].groupby('cluster').count().reset_index().rename(columns={'customer_id': 'qt_users'})\n",
    "df_cluster['per_user'] = 100 * (df_cluster['qt_users'] / df_cluster['qt_users'].sum())\n",
    "\n",
    "\n",
    "# monetary\n",
    "monetary = df92[['monetary', 'cluster']].groupby('cluster').mean().reset_index()\n",
    "df_cluster = pd.merge(df_cluster, monetary, how='left', on='cluster')\n",
    "\n",
    "\n",
    "# recency_days\n",
    "recency_days = df92[['recency_days', 'cluster']].groupby('cluster').mean().reset_index()\n",
    "df_cluster = pd.merge(df_cluster, recency_days, how='left', on='cluster')\n",
    "\n",
    "\n",
    "# qtde_products\n",
    "qtde_products = df92[['qtde_products', 'cluster']].groupby('cluster').mean().reset_index()\n",
    "df_cluster = pd.merge(df_cluster, qtde_products, how='left', on='cluster')\n",
    "\n",
    "\n",
    "# frequency\n",
    "frequency = df92[['frequency', 'cluster']].groupby('cluster').mean().reset_index()\n",
    "df_cluster = pd.merge(df_cluster, frequency, how='left', on='cluster')\n",
    "\n",
    "# qtde_returns\n",
    "qtde_returns = df92[['qtde_returns', 'cluster']].groupby('cluster').mean().reset_index()\n",
    "df_cluster = pd.merge(df_cluster, qtde_returns, how='left', on='cluster')\n",
    "\n",
    "\n",
    "\n",
    "df_cluster.sort_values('monetary', ascending=False).style.highlight_max( color='lightgreen', axis=0 )"
   ]
  },
  {
   "cell_type": "markdown",
   "id": "d958d526",
   "metadata": {},
   "source": [
    "# 11.0. Deploy to Product"
   ]
  },
  {
   "cell_type": "markdown",
   "id": "8463733a",
   "metadata": {},
   "source": [
    "## 11.1. Insert into SQLITE"
   ]
  },
  {
   "cell_type": "code",
   "execution_count": 71,
   "id": "bba1ae54",
   "metadata": {
    "ExecuteTime": {
     "end_time": "2021-09-17T18:14:19.732440Z",
     "start_time": "2021-09-17T18:14:19.647967Z"
    }
   },
   "outputs": [],
   "source": [
    "# create table\n",
    "query_create_table_insiders = \"\"\"\n",
    "    CREATE TABLE insiders (\n",
    "        customer_id      INTEGER,\n",
    "        monetary         REAL,\n",
    "        recency_days     INTEGER,\n",
    "        qtde_products    INTEGER,\n",
    "        frequency        REAL,\n",
    "        qtde_returns     INTEGER,\n",
    "        cluster          INTEGER    \n",
    "    )\n",
    "\n",
    "\"\"\"\n",
    "\n",
    "# conn = sqlite3.connect( 'insiders_db.sqlite' )\n",
    "# conn.execute( query_create_table_insiders  )\n",
    "# conn.commit()\n",
    "# conn.close()\n",
    "\n",
    "# insert data\n",
    "conn = create_engine('sqlite:///insiders_db.sqlite', echo=False)\n",
    "df92.to_sql( 'insiders', con=conn, if_exists='append', index=False )\n",
    "\n",
    "\n",
    "# select data"
   ]
  },
  {
   "cell_type": "code",
   "execution_count": 75,
   "id": "086ed99b",
   "metadata": {
    "ExecuteTime": {
     "end_time": "2021-09-17T18:32:48.471062Z",
     "start_time": "2021-09-17T18:32:48.370830Z"
    }
   },
   "outputs": [
    {
     "data": {
      "text/html": [
       "<div>\n",
       "<style scoped>\n",
       "    .dataframe tbody tr th:only-of-type {\n",
       "        vertical-align: middle;\n",
       "    }\n",
       "\n",
       "    .dataframe tbody tr th {\n",
       "        vertical-align: top;\n",
       "    }\n",
       "\n",
       "    .dataframe thead th {\n",
       "        text-align: right;\n",
       "    }\n",
       "</style>\n",
       "<table border=\"1\" class=\"dataframe\">\n",
       "  <thead>\n",
       "    <tr style=\"text-align: right;\">\n",
       "      <th></th>\n",
       "      <th>customer_id</th>\n",
       "      <th>monetary</th>\n",
       "      <th>recency_days</th>\n",
       "      <th>qtde_products</th>\n",
       "      <th>frequency</th>\n",
       "      <th>qtde_returns</th>\n",
       "      <th>cluster</th>\n",
       "    </tr>\n",
       "  </thead>\n",
       "  <tbody>\n",
       "    <tr>\n",
       "      <th>0</th>\n",
       "      <td>17850</td>\n",
       "      <td>5391.21</td>\n",
       "      <td>372</td>\n",
       "      <td>297</td>\n",
       "      <td>17.000000</td>\n",
       "      <td>40</td>\n",
       "      <td>0</td>\n",
       "    </tr>\n",
       "    <tr>\n",
       "      <th>1</th>\n",
       "      <td>13047</td>\n",
       "      <td>3232.59</td>\n",
       "      <td>56</td>\n",
       "      <td>171</td>\n",
       "      <td>0.028302</td>\n",
       "      <td>35</td>\n",
       "      <td>0</td>\n",
       "    </tr>\n",
       "    <tr>\n",
       "      <th>2</th>\n",
       "      <td>12583</td>\n",
       "      <td>6495.30</td>\n",
       "      <td>2</td>\n",
       "      <td>221</td>\n",
       "      <td>0.040323</td>\n",
       "      <td>50</td>\n",
       "      <td>0</td>\n",
       "    </tr>\n",
       "    <tr>\n",
       "      <th>3</th>\n",
       "      <td>13748</td>\n",
       "      <td>938.89</td>\n",
       "      <td>95</td>\n",
       "      <td>27</td>\n",
       "      <td>0.017921</td>\n",
       "      <td>0</td>\n",
       "      <td>4</td>\n",
       "    </tr>\n",
       "    <tr>\n",
       "      <th>4</th>\n",
       "      <td>15100</td>\n",
       "      <td>876.00</td>\n",
       "      <td>333</td>\n",
       "      <td>3</td>\n",
       "      <td>0.073171</td>\n",
       "      <td>22</td>\n",
       "      <td>3</td>\n",
       "    </tr>\n",
       "  </tbody>\n",
       "</table>\n",
       "</div>"
      ],
      "text/plain": [
       "   customer_id  monetary  recency_days  qtde_products  frequency  \\\n",
       "0        17850   5391.21           372            297  17.000000   \n",
       "1        13047   3232.59            56            171   0.028302   \n",
       "2        12583   6495.30             2            221   0.040323   \n",
       "3        13748    938.89            95             27   0.017921   \n",
       "4        15100    876.00           333              3   0.073171   \n",
       "\n",
       "   qtde_returns  cluster  \n",
       "0            40        0  \n",
       "1            35        0  \n",
       "2            50        0  \n",
       "3             0        4  \n",
       "4            22        3  "
      ]
     },
     "execution_count": 75,
     "metadata": {},
     "output_type": "execute_result"
    }
   ],
   "source": [
    "query = \"\"\"\n",
    "    SELECT *\n",
    "    FROM insiders\n",
    "\"\"\"\n",
    "\n",
    "df = pd.read_sql_query( query, con=conn )\n",
    "\n",
    "df.head()"
   ]
  },
  {
   "cell_type": "code",
   "execution_count": null,
   "id": "353849c7",
   "metadata": {},
   "outputs": [],
   "source": [
    "## Metabase\n",
    "# java -jar metabase.jar"
   ]
  },
  {
   "cell_type": "code",
   "execution_count": null,
   "id": "46d54e56",
   "metadata": {},
   "outputs": [],
   "source": []
  },
  {
   "cell_type": "code",
   "execution_count": null,
   "id": "77d225b3",
   "metadata": {},
   "outputs": [],
   "source": []
  },
  {
   "cell_type": "code",
   "execution_count": null,
   "id": "1d2f8dfb",
   "metadata": {},
   "outputs": [],
   "source": []
  },
  {
   "cell_type": "code",
   "execution_count": null,
   "id": "65e31ed7",
   "metadata": {},
   "outputs": [],
   "source": []
  },
  {
   "cell_type": "code",
   "execution_count": null,
   "id": "79d5691c",
   "metadata": {},
   "outputs": [],
   "source": []
  },
  {
   "cell_type": "code",
   "execution_count": null,
   "id": "8762ed4c",
   "metadata": {},
   "outputs": [],
   "source": []
  },
  {
   "cell_type": "code",
   "execution_count": null,
   "id": "87a0297b",
   "metadata": {},
   "outputs": [],
   "source": []
  }
 ],
 "metadata": {
  "kernelspec": {
   "display_name": "Python 3 (ipykernel)",
   "language": "python",
   "name": "python3"
  },
  "language_info": {
   "codemirror_mode": {
    "name": "ipython",
    "version": 3
   },
   "file_extension": ".py",
   "mimetype": "text/x-python",
   "name": "python",
   "nbconvert_exporter": "python",
   "pygments_lexer": "ipython3",
   "version": "3.8.0"
  }
 },
 "nbformat": 4,
 "nbformat_minor": 5
}
