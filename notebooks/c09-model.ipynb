{
 "cells": [
  {
   "cell_type": "markdown",
   "id": "8ecd72ef",
   "metadata": {
    "heading_collapsed": true
   },
   "source": [
    "# Planejamento da Solução (IOT)"
   ]
  },
  {
   "cell_type": "markdown",
   "id": "027d7c7d",
   "metadata": {
    "hidden": true
   },
   "source": [
    "## Input - Entrada\n",
    "\n",
    "### O problema de negócio\n",
    "\n",
    "1. Selecionar os mais valiosos clientes para formar o programa de fidelidade \"INSIDERS\"\n",
    "2. Conjunto de dados com as vendas de produtos durantes 1 ano (11/2015 - 12/2017)\n",
    "\n",
    "## Output - Saída\n",
    " \n",
    "1. A indicação de pessoas para fazer parte do programa de fidelidade \"INSIDERS\".\n",
    "2. Relatório com as respostas das perguntas de negocio.\n",
    "\n",
    "## Tasks - Processo"
   ]
  },
  {
   "cell_type": "markdown",
   "id": "b25a0bdd",
   "metadata": {},
   "source": [
    "# 0.0. Imports"
   ]
  },
  {
   "cell_type": "code",
   "execution_count": 2,
   "id": "722054fa",
   "metadata": {
    "ExecuteTime": {
     "end_time": "2021-08-27T19:18:33.561476Z",
     "start_time": "2021-08-27T19:18:27.625397Z"
    }
   },
   "outputs": [],
   "source": [
    "import pandas as pd\n",
    "import numpy as np\n",
    "import seaborn as sns\n",
    "import matplotlib.pyplot as plt\n",
    "import plotly.express as px\n",
    "\n",
    "from umap.umap_ import UMAP\n",
    "from IPython.display import HTML\n",
    "from yellowbrick.cluster import KElbowVisualizer, SilhouetteVisualizer\n",
    "from pandas_profiling import ProfileReport\n",
    "from scipy.cluster import hierarchy as hc\n",
    "\n",
    "from sklearn import cluster\n",
    "from sklearn import metrics\n",
    "from sklearn import preprocessing as pp\n",
    "from sklearn.decomposition import PCA\n",
    "from sklearn.manifold import TSNE\n",
    "from sklearn import ensemble as en\n",
    "from sklearn.mixture import GaussianMixture as gm"
   ]
  },
  {
   "cell_type": "markdown",
   "id": "f4bb5440",
   "metadata": {},
   "source": [
    "## 0.1. Helper Functions"
   ]
  },
  {
   "cell_type": "code",
   "execution_count": 3,
   "id": "a157246c",
   "metadata": {
    "ExecuteTime": {
     "end_time": "2021-08-27T19:18:33.639366Z",
     "start_time": "2021-08-27T19:18:33.565271Z"
    }
   },
   "outputs": [
    {
     "name": "stdout",
     "output_type": "stream",
     "text": [
      "Populating the interactive namespace from numpy and matplotlib\n"
     ]
    },
    {
     "data": {
      "text/html": [
       "<style>.container { width:100% !important; }</style>"
      ],
      "text/plain": [
       "<IPython.core.display.HTML object>"
      ]
     },
     "metadata": {},
     "output_type": "display_data"
    }
   ],
   "source": [
    "def descriptive_statistics(num_attr):\n",
    "    # Central Tendency: mean, median\n",
    "    c1 = pd.DataFrame(num_attr.apply(np.mean))\n",
    "    c2 = pd.DataFrame(num_attr.apply(np.median))\n",
    "\n",
    "    # Dispension: min, max, range, std, skew, kurtosis\n",
    "    d1 = pd.DataFrame(num_attr.apply(min))\n",
    "    d2 = pd.DataFrame(num_attr.apply(max))\n",
    "    d3 = pd.DataFrame(num_attr.apply(lambda x: x.max() - x.min()))\n",
    "    d4 = pd.DataFrame(num_attr.apply(lambda x: x.std()))\n",
    "    \n",
    "    # Measures of Shape\n",
    "    s1 = pd.DataFrame(num_attr.apply(lambda x: x.skew()))\n",
    "    s2 = pd.DataFrame(num_attr.apply(lambda x: x.kurtosis()))\n",
    "\n",
    "    # concat\n",
    "    m = pd.concat([d1,d2,d3,c1,c2,d4,s1,s2], axis=1).reset_index()\n",
    "    m.columns = ['attributes', 'min', 'max', 'range', 'mean', 'median', 'std', 'skew', 'kurtosis']\n",
    "    return m\n",
    "\n",
    "\n",
    "def jupyter_settings():\n",
    "    %matplotlib inline\n",
    "    %pylab inline\n",
    "    \n",
    "    plt.style.use( 'ggplot')\n",
    "    plt.rcParams['figure.figsize'] = [24, 9]\n",
    "    plt.rcParams['font.size'] = 24\n",
    "    \n",
    "    display( HTML( '<style>.container { width:100% !important; }</style>') )\n",
    "    pd.options.display.max_columns = None\n",
    "    pd.options.display.max_rows = None\n",
    "    pd.set_option( 'display.expand_frame_repr', False )\n",
    "    pd.set_option('display.float_format', lambda x: '%.4f' % x)\n",
    "    \n",
    "    sns.set()\n",
    "    \n",
    "jupyter_settings()"
   ]
  },
  {
   "cell_type": "markdown",
   "id": "1bb64666",
   "metadata": {
    "heading_collapsed": true
   },
   "source": [
    "## 0.2. Load Data"
   ]
  },
  {
   "cell_type": "code",
   "execution_count": 4,
   "id": "54243f8b",
   "metadata": {
    "ExecuteTime": {
     "end_time": "2021-08-27T19:18:34.851394Z",
     "start_time": "2021-08-27T19:18:33.653537Z"
    },
    "hidden": true
   },
   "outputs": [],
   "source": [
    "df_raw = pd.read_csv('../data/raw/Ecommerce.csv', encoding='latin1')\n",
    "\n",
    "# drop extra column\n",
    "df_raw = df_raw.drop('Unnamed: 8', axis=1)"
   ]
  },
  {
   "cell_type": "markdown",
   "id": "5b9ae690",
   "metadata": {
    "heading_collapsed": true
   },
   "source": [
    "# 1.0. Data Description"
   ]
  },
  {
   "cell_type": "code",
   "execution_count": 5,
   "id": "026bbc19",
   "metadata": {
    "ExecuteTime": {
     "end_time": "2021-08-27T19:18:34.896996Z",
     "start_time": "2021-08-27T19:18:34.855365Z"
    },
    "hidden": true
   },
   "outputs": [],
   "source": [
    "df1 = df_raw.copy()"
   ]
  },
  {
   "cell_type": "markdown",
   "id": "a0e2c036",
   "metadata": {
    "hidden": true
   },
   "source": [
    "## 1.1. Rename Columns"
   ]
  },
  {
   "cell_type": "code",
   "execution_count": 6,
   "id": "46322473",
   "metadata": {
    "ExecuteTime": {
     "end_time": "2021-08-27T19:18:34.912023Z",
     "start_time": "2021-08-27T19:18:34.901506Z"
    },
    "hidden": true
   },
   "outputs": [],
   "source": [
    "cols_new = ['invoice_no', 'stock_code', 'description', 'quantity', 'invoice_date', 'unit_price', 'customer_id', 'country']\n",
    "df1.columns = cols_new"
   ]
  },
  {
   "cell_type": "markdown",
   "id": "09f2dd9b",
   "metadata": {
    "hidden": true
   },
   "source": [
    "## 1.2. Data Dimnesions"
   ]
  },
  {
   "cell_type": "code",
   "execution_count": 7,
   "id": "e8295ac6",
   "metadata": {
    "ExecuteTime": {
     "end_time": "2021-08-27T19:18:34.924873Z",
     "start_time": "2021-08-27T19:18:34.916353Z"
    },
    "hidden": true
   },
   "outputs": [
    {
     "name": "stdout",
     "output_type": "stream",
     "text": [
      "Number of Rows: 541909\n",
      "Number of Columns: 8\n"
     ]
    }
   ],
   "source": [
    "print('Number of Rows: {}'.format(df1.shape[0]))\n",
    "print('Number of Columns: {}'.format(df1.shape[1]))"
   ]
  },
  {
   "cell_type": "markdown",
   "id": "c68dcbcd",
   "metadata": {
    "hidden": true
   },
   "source": [
    "## 1.3. Data Types"
   ]
  },
  {
   "cell_type": "code",
   "execution_count": 8,
   "id": "4034f49b",
   "metadata": {
    "ExecuteTime": {
     "end_time": "2021-08-27T19:18:34.943310Z",
     "start_time": "2021-08-27T19:18:34.929440Z"
    },
    "hidden": true
   },
   "outputs": [
    {
     "data": {
      "text/plain": [
       "invoice_no       object\n",
       "stock_code       object\n",
       "description      object\n",
       "quantity          int64\n",
       "invoice_date     object\n",
       "unit_price      float64\n",
       "customer_id     float64\n",
       "country          object\n",
       "dtype: object"
      ]
     },
     "execution_count": 8,
     "metadata": {},
     "output_type": "execute_result"
    }
   ],
   "source": [
    "df1.dtypes"
   ]
  },
  {
   "cell_type": "markdown",
   "id": "0c014646",
   "metadata": {
    "hidden": true
   },
   "source": [
    "## 1.4. Check NA"
   ]
  },
  {
   "cell_type": "code",
   "execution_count": 9,
   "id": "7a8a6351",
   "metadata": {
    "ExecuteTime": {
     "end_time": "2021-08-27T19:18:35.238859Z",
     "start_time": "2021-08-27T19:18:34.947166Z"
    },
    "hidden": true
   },
   "outputs": [
    {
     "data": {
      "text/plain": [
       "invoice_no           0\n",
       "stock_code           0\n",
       "description       1454\n",
       "quantity             0\n",
       "invoice_date         0\n",
       "unit_price           0\n",
       "customer_id     135080\n",
       "country              0\n",
       "dtype: int64"
      ]
     },
     "execution_count": 9,
     "metadata": {},
     "output_type": "execute_result"
    }
   ],
   "source": [
    "df1.isna().sum()"
   ]
  },
  {
   "cell_type": "markdown",
   "id": "29b1bada",
   "metadata": {
    "hidden": true
   },
   "source": [
    "## 1.5. Replace NA"
   ]
  },
  {
   "cell_type": "code",
   "execution_count": 10,
   "id": "aa5882db",
   "metadata": {
    "ExecuteTime": {
     "end_time": "2021-08-27T19:18:35.329954Z",
     "start_time": "2021-08-27T19:18:35.244843Z"
    },
    "hidden": true
   },
   "outputs": [],
   "source": [
    "df_missing = df1.loc[df1['customer_id'].isna(), :]\n",
    "df_not_missing = df1.loc[~df1['customer_id'].isna(), :]"
   ]
  },
  {
   "cell_type": "code",
   "execution_count": 11,
   "id": "7086dafb",
   "metadata": {
    "ExecuteTime": {
     "end_time": "2021-08-27T19:18:35.775815Z",
     "start_time": "2021-08-27T19:18:35.335946Z"
    },
    "hidden": true
   },
   "outputs": [],
   "source": [
    "df_backup = pd.DataFrame(df_missing['invoice_no'].drop_duplicates())\n",
    "df_backup['customer_id'] = np.arange(19000, 19000+len(df_backup), 1)\n",
    "\n",
    "# merge \n",
    "df1 = pd.merge(df1, df_backup, how='left', on='invoice_no' )\n",
    "\n",
    "# coalesce \n",
    "df1['customer_id'] = df1['customer_id_x'].combine_first(df1['customer_id_y'])\n",
    "\n",
    "df1 = df1.drop(['customer_id_x', 'customer_id_y'], axis=1)"
   ]
  },
  {
   "cell_type": "code",
   "execution_count": 12,
   "id": "aff2bc50",
   "metadata": {
    "ExecuteTime": {
     "end_time": "2021-08-27T19:18:36.037226Z",
     "start_time": "2021-08-27T19:18:35.778088Z"
    },
    "hidden": true
   },
   "outputs": [
    {
     "data": {
      "text/plain": [
       "invoice_no         0\n",
       "stock_code         0\n",
       "description     1454\n",
       "quantity           0\n",
       "invoice_date       0\n",
       "unit_price         0\n",
       "country            0\n",
       "customer_id        0\n",
       "dtype: int64"
      ]
     },
     "execution_count": 12,
     "metadata": {},
     "output_type": "execute_result"
    }
   ],
   "source": [
    "df1.isna().sum()"
   ]
  },
  {
   "cell_type": "markdown",
   "id": "2e3c11e1",
   "metadata": {
    "hidden": true
   },
   "source": [
    "## 1.6. Change dtypes"
   ]
  },
  {
   "cell_type": "code",
   "execution_count": 13,
   "id": "6d4edcbb",
   "metadata": {
    "ExecuteTime": {
     "end_time": "2021-08-27T19:18:36.050723Z",
     "start_time": "2021-08-27T19:18:36.040704Z"
    },
    "hidden": true
   },
   "outputs": [
    {
     "data": {
      "text/plain": [
       "invoice_no       object\n",
       "stock_code       object\n",
       "description      object\n",
       "quantity          int64\n",
       "invoice_date     object\n",
       "unit_price      float64\n",
       "country          object\n",
       "customer_id     float64\n",
       "dtype: object"
      ]
     },
     "execution_count": 13,
     "metadata": {},
     "output_type": "execute_result"
    }
   ],
   "source": [
    "df1.dtypes"
   ]
  },
  {
   "cell_type": "code",
   "execution_count": 14,
   "id": "e9f81033",
   "metadata": {
    "ExecuteTime": {
     "end_time": "2021-08-27T19:18:36.208119Z",
     "start_time": "2021-08-27T19:18:36.053665Z"
    },
    "hidden": true
   },
   "outputs": [],
   "source": [
    "df1['invoice_date'] = pd.to_datetime(df1['invoice_date'])\n",
    "df1['customer_id'] = df1['customer_id'].astype(int)"
   ]
  },
  {
   "cell_type": "markdown",
   "id": "58961082",
   "metadata": {
    "heading_collapsed": true,
    "hidden": true
   },
   "source": [
    "## 1.7. Descriptive Statistics"
   ]
  },
  {
   "cell_type": "code",
   "execution_count": 15,
   "id": "313769d3",
   "metadata": {
    "ExecuteTime": {
     "end_time": "2021-08-27T19:18:36.275824Z",
     "start_time": "2021-08-27T19:18:36.211372Z"
    },
    "hidden": true
   },
   "outputs": [],
   "source": [
    "num_att = df1.select_dtypes(include=['int64', 'float64'])\n",
    "cat_att = df1.select_dtypes(include=['object'])"
   ]
  },
  {
   "cell_type": "markdown",
   "id": "7629f4b9",
   "metadata": {
    "heading_collapsed": true,
    "hidden": true
   },
   "source": [
    "## 1.7.1. Numerical Attributes"
   ]
  },
  {
   "cell_type": "code",
   "execution_count": 16,
   "id": "79816883",
   "metadata": {
    "ExecuteTime": {
     "end_time": "2021-08-27T19:18:36.971068Z",
     "start_time": "2021-08-27T19:18:36.277700Z"
    },
    "hidden": true
   },
   "outputs": [
    {
     "data": {
      "text/html": [
       "<div>\n",
       "<style scoped>\n",
       "    .dataframe tbody tr th:only-of-type {\n",
       "        vertical-align: middle;\n",
       "    }\n",
       "\n",
       "    .dataframe tbody tr th {\n",
       "        vertical-align: top;\n",
       "    }\n",
       "\n",
       "    .dataframe thead th {\n",
       "        text-align: right;\n",
       "    }\n",
       "</style>\n",
       "<table border=\"1\" class=\"dataframe\">\n",
       "  <thead>\n",
       "    <tr style=\"text-align: right;\">\n",
       "      <th></th>\n",
       "      <th>attributes</th>\n",
       "      <th>min</th>\n",
       "      <th>max</th>\n",
       "      <th>range</th>\n",
       "      <th>mean</th>\n",
       "      <th>median</th>\n",
       "      <th>std</th>\n",
       "      <th>skew</th>\n",
       "      <th>kurtosis</th>\n",
       "    </tr>\n",
       "  </thead>\n",
       "  <tbody>\n",
       "    <tr>\n",
       "      <th>0</th>\n",
       "      <td>quantity</td>\n",
       "      <td>-80995.0000</td>\n",
       "      <td>80995.0000</td>\n",
       "      <td>161990.0000</td>\n",
       "      <td>9.5522</td>\n",
       "      <td>3.0000</td>\n",
       "      <td>218.0812</td>\n",
       "      <td>-0.2641</td>\n",
       "      <td>119769.1600</td>\n",
       "    </tr>\n",
       "    <tr>\n",
       "      <th>1</th>\n",
       "      <td>unit_price</td>\n",
       "      <td>-11062.0600</td>\n",
       "      <td>38970.0000</td>\n",
       "      <td>50032.0600</td>\n",
       "      <td>4.6111</td>\n",
       "      <td>2.0800</td>\n",
       "      <td>96.7599</td>\n",
       "      <td>186.5070</td>\n",
       "      <td>59005.7191</td>\n",
       "    </tr>\n",
       "    <tr>\n",
       "      <th>2</th>\n",
       "      <td>customer_id</td>\n",
       "      <td>12346.0000</td>\n",
       "      <td>22709.0000</td>\n",
       "      <td>10363.0000</td>\n",
       "      <td>16688.8405</td>\n",
       "      <td>16249.0000</td>\n",
       "      <td>2911.4114</td>\n",
       "      <td>0.4874</td>\n",
       "      <td>-0.8043</td>\n",
       "    </tr>\n",
       "  </tbody>\n",
       "</table>\n",
       "</div>"
      ],
      "text/plain": [
       "    attributes         min        max       range       mean     median       std     skew    kurtosis\n",
       "0     quantity -80995.0000 80995.0000 161990.0000     9.5522     3.0000  218.0812  -0.2641 119769.1600\n",
       "1   unit_price -11062.0600 38970.0000  50032.0600     4.6111     2.0800   96.7599 186.5070  59005.7191\n",
       "2  customer_id  12346.0000 22709.0000  10363.0000 16688.8405 16249.0000 2911.4114   0.4874     -0.8043"
      ]
     },
     "execution_count": 16,
     "metadata": {},
     "output_type": "execute_result"
    }
   ],
   "source": [
    "descriptive_statistics(num_att)"
   ]
  },
  {
   "cell_type": "markdown",
   "id": "eb270353",
   "metadata": {
    "hidden": true
   },
   "source": [
    "**Notes:**\n",
    "    \n",
    "1. quantity: numero negativo e alto, pode ser retorno\n",
    "2. unit_price: zero unidades? "
   ]
  },
  {
   "cell_type": "markdown",
   "id": "918bc2a8",
   "metadata": {
    "heading_collapsed": true,
    "hidden": true
   },
   "source": [
    "## 1.7.2. Categorical Attributes"
   ]
  },
  {
   "cell_type": "code",
   "execution_count": 17,
   "id": "fbb2c633",
   "metadata": {
    "ExecuteTime": {
     "end_time": "2021-08-27T19:18:37.654954Z",
     "start_time": "2021-08-27T19:18:36.973620Z"
    },
    "hidden": true
   },
   "outputs": [
    {
     "data": {
      "text/html": [
       "<div>\n",
       "<style scoped>\n",
       "    .dataframe tbody tr th:only-of-type {\n",
       "        vertical-align: middle;\n",
       "    }\n",
       "\n",
       "    .dataframe tbody tr th {\n",
       "        vertical-align: top;\n",
       "    }\n",
       "\n",
       "    .dataframe thead th {\n",
       "        text-align: right;\n",
       "    }\n",
       "</style>\n",
       "<table border=\"1\" class=\"dataframe\">\n",
       "  <thead>\n",
       "    <tr style=\"text-align: right;\">\n",
       "      <th></th>\n",
       "      <th>invoice_no</th>\n",
       "      <th>stock_code</th>\n",
       "      <th>description</th>\n",
       "      <th>country</th>\n",
       "    </tr>\n",
       "  </thead>\n",
       "  <tbody>\n",
       "    <tr>\n",
       "      <th>count</th>\n",
       "      <td>541909</td>\n",
       "      <td>541909</td>\n",
       "      <td>540455</td>\n",
       "      <td>541909</td>\n",
       "    </tr>\n",
       "    <tr>\n",
       "      <th>unique</th>\n",
       "      <td>25900</td>\n",
       "      <td>4070</td>\n",
       "      <td>4223</td>\n",
       "      <td>38</td>\n",
       "    </tr>\n",
       "    <tr>\n",
       "      <th>top</th>\n",
       "      <td>573585</td>\n",
       "      <td>85123A</td>\n",
       "      <td>WHITE HANGING HEART T-LIGHT HOLDER</td>\n",
       "      <td>United Kingdom</td>\n",
       "    </tr>\n",
       "    <tr>\n",
       "      <th>freq</th>\n",
       "      <td>1114</td>\n",
       "      <td>2313</td>\n",
       "      <td>2369</td>\n",
       "      <td>495478</td>\n",
       "    </tr>\n",
       "  </tbody>\n",
       "</table>\n",
       "</div>"
      ],
      "text/plain": [
       "       invoice_no stock_code                         description         country\n",
       "count      541909     541909                              540455          541909\n",
       "unique      25900       4070                                4223              38\n",
       "top        573585     85123A  WHITE HANGING HEART T-LIGHT HOLDER  United Kingdom\n",
       "freq         1114       2313                                2369          495478"
      ]
     },
     "execution_count": 17,
     "metadata": {},
     "output_type": "execute_result"
    }
   ],
   "source": [
    "cat_att.describe(include=['O'])"
   ]
  },
  {
   "cell_type": "markdown",
   "id": "5c50385f",
   "metadata": {
    "heading_collapsed": true,
    "hidden": true
   },
   "source": [
    "### invoice_no"
   ]
  },
  {
   "cell_type": "code",
   "execution_count": 18,
   "id": "b9c16e96",
   "metadata": {
    "ExecuteTime": {
     "end_time": "2021-08-27T19:18:39.269458Z",
     "start_time": "2021-08-27T19:18:37.658565Z"
    },
    "hidden": true
   },
   "outputs": [
    {
     "data": {
      "text/plain": [
       "9291"
      ]
     },
     "execution_count": 18,
     "metadata": {},
     "output_type": "execute_result"
    }
   ],
   "source": [
    "list_letter_invoice = df1.loc[~df1['invoice_no'].apply(lambda x: bool(re.search(r'^[0-9]+', x))), 'invoice_no'].tolist()\n",
    "len(list_letter_invoice)"
   ]
  },
  {
   "cell_type": "code",
   "execution_count": 19,
   "id": "f1e84698",
   "metadata": {
    "ExecuteTime": {
     "end_time": "2021-08-27T19:18:39.281243Z",
     "start_time": "2021-08-27T19:18:39.273667Z"
    },
    "hidden": true
   },
   "outputs": [
    {
     "data": {
      "text/plain": [
       "['C536379',\n",
       " 'C536383',\n",
       " 'C536391',\n",
       " 'C536391',\n",
       " 'C536391',\n",
       " 'C536391',\n",
       " 'C536391',\n",
       " 'C536391',\n",
       " 'C536391',\n",
       " 'C536506']"
      ]
     },
     "execution_count": 19,
     "metadata": {},
     "output_type": "execute_result"
    }
   ],
   "source": [
    "list_letter_invoice[:10]"
   ]
  },
  {
   "cell_type": "markdown",
   "id": "425d7144",
   "metadata": {
    "heading_collapsed": true,
    "hidden": true
   },
   "source": [
    "### stock_code"
   ]
  },
  {
   "cell_type": "code",
   "execution_count": 20,
   "id": "cf334d44",
   "metadata": {
    "ExecuteTime": {
     "end_time": "2021-08-27T19:18:40.874580Z",
     "start_time": "2021-08-27T19:18:39.285629Z"
    },
    "hidden": true
   },
   "outputs": [
    {
     "data": {
      "text/plain": [
       "54675"
      ]
     },
     "execution_count": 20,
     "metadata": {},
     "output_type": "execute_result"
    }
   ],
   "source": [
    "list_letter_stock_code = df1.loc[~df1['stock_code'].apply(lambda x: bool(re.search(r'[^a-zA-Z]+$', x))), 'stock_code'].tolist()\n",
    "\n",
    "len(list_letter_stock_code)"
   ]
  },
  {
   "cell_type": "markdown",
   "id": "e68ff354",
   "metadata": {
    "ExecuteTime": {
     "end_time": "2021-08-05T13:17:17.648781Z",
     "start_time": "2021-08-05T13:17:17.644779Z"
    },
    "heading_collapsed": true,
    "hidden": true
   },
   "source": [
    "### country"
   ]
  },
  {
   "cell_type": "code",
   "execution_count": 21,
   "id": "6dfe579a",
   "metadata": {
    "ExecuteTime": {
     "end_time": "2021-08-27T19:18:40.980661Z",
     "start_time": "2021-08-27T19:18:40.877887Z"
    },
    "hidden": true
   },
   "outputs": [
    {
     "data": {
      "text/plain": [
       "United Kingdom   0.9143\n",
       "Germany          0.0175\n",
       "France           0.0158\n",
       "EIRE             0.0151\n",
       "Spain            0.0047\n",
       "Netherlands      0.0044\n",
       "Belgium          0.0038\n",
       "Switzerland      0.0037\n",
       "Portugal         0.0028\n",
       "Australia        0.0023\n",
       "Name: country, dtype: float64"
      ]
     },
     "execution_count": 21,
     "metadata": {},
     "output_type": "execute_result"
    }
   ],
   "source": [
    "df1['country'].value_counts(normalize=True).head(10)"
   ]
  },
  {
   "cell_type": "markdown",
   "id": "dc1920ae",
   "metadata": {
    "hidden": true
   },
   "source": [
    "**Notes**\n",
    "1. invoice_no: 8905 items que não são somente numeros.\n",
    "2. stock_code: 35809 items que não são somente numeros.\n",
    "3. description: não tem informação relevante."
   ]
  },
  {
   "cell_type": "markdown",
   "id": "68b2a24f",
   "metadata": {
    "heading_collapsed": true
   },
   "source": [
    "# 2.0. Data Filtering"
   ]
  },
  {
   "cell_type": "code",
   "execution_count": 22,
   "id": "90095e9b",
   "metadata": {
    "ExecuteTime": {
     "end_time": "2021-08-27T19:18:41.016212Z",
     "start_time": "2021-08-27T19:18:40.984202Z"
    },
    "hidden": true
   },
   "outputs": [],
   "source": [
    "df2 = df1.copy()"
   ]
  },
  {
   "cell_type": "markdown",
   "id": "25199fd0",
   "metadata": {
    "heading_collapsed": true,
    "hidden": true
   },
   "source": [
    "## 2.1. Filter Columns"
   ]
  },
  {
   "cell_type": "code",
   "execution_count": 23,
   "id": "0bad1aec",
   "metadata": {
    "ExecuteTime": {
     "end_time": "2021-08-27T19:18:41.086208Z",
     "start_time": "2021-08-27T19:18:41.021260Z"
    },
    "hidden": true
   },
   "outputs": [],
   "source": [
    "cols_drop = ['description']\n",
    "df2 = df2.drop(cols_drop, axis=1)"
   ]
  },
  {
   "cell_type": "markdown",
   "id": "b50e3b32",
   "metadata": {
    "heading_collapsed": true,
    "hidden": true
   },
   "source": [
    "## 2.2. Filter Rows"
   ]
  },
  {
   "cell_type": "code",
   "execution_count": 24,
   "id": "6bcd20d3",
   "metadata": {
    "ExecuteTime": {
     "end_time": "2021-08-27T19:18:41.473151Z",
     "start_time": "2021-08-27T19:18:41.099775Z"
    },
    "hidden": true
   },
   "outputs": [],
   "source": [
    "# Numerical Attributes\n",
    "df2 = df2.loc[df2['unit_price'] >= 0.4, :]\n",
    "\n",
    "# Categorical Attributes\n",
    "df2 = df2.loc[~df2['stock_code'].isin(['POST', 'D', 'DOT', 'M', 'S', 'AMAZONFEE', 'm', 'DCGSSBOY', 'DCGSSGIRL', 'PADS', 'B', 'CRUK'] ), :]\n",
    "\n",
    "# map\n",
    "df2 = df2.loc[~df2['country'].isin(['European Community', 'Unspecified' ]), :]\n",
    "\n",
    "# bad user\n",
    "df2 = df2[~df2['customer_id'].isin( [16446] )]\n",
    "\n",
    "# quantity\n",
    "df2_returns   = df2.loc[df2['quantity'] < 0, :]\n",
    "df2_purchases = df2.loc[df2['quantity'] >= 0, :]"
   ]
  },
  {
   "cell_type": "markdown",
   "id": "16814c2a",
   "metadata": {
    "heading_collapsed": true
   },
   "source": [
    "# 3.0. Feature Engineering"
   ]
  },
  {
   "cell_type": "code",
   "execution_count": 25,
   "id": "3dcc6d38",
   "metadata": {
    "ExecuteTime": {
     "end_time": "2021-08-27T19:18:41.525568Z",
     "start_time": "2021-08-27T19:18:41.479042Z"
    },
    "hidden": true
   },
   "outputs": [],
   "source": [
    "df3 = df2.copy()"
   ]
  },
  {
   "cell_type": "markdown",
   "id": "180d585e",
   "metadata": {
    "heading_collapsed": true,
    "hidden": true
   },
   "source": [
    "## 3.1. Feature Creation"
   ]
  },
  {
   "cell_type": "code",
   "execution_count": 26,
   "id": "153c0407",
   "metadata": {
    "ExecuteTime": {
     "end_time": "2021-08-27T19:18:41.574896Z",
     "start_time": "2021-08-27T19:18:41.527382Z"
    },
    "hidden": true
   },
   "outputs": [],
   "source": [
    "drop_cols = ['invoice_no', 'stock_code', 'quantity', 'invoice_date', 'unit_price', 'country']\n",
    "df_ref = df3.drop(drop_cols, axis=1).drop_duplicates(ignore_index=True)"
   ]
  },
  {
   "cell_type": "code",
   "execution_count": 27,
   "id": "93e42a51",
   "metadata": {
    "ExecuteTime": {
     "end_time": "2021-08-27T19:18:41.601705Z",
     "start_time": "2021-08-27T19:18:41.577749Z"
    },
    "hidden": true
   },
   "outputs": [
    {
     "name": "stderr",
     "output_type": "stream",
     "text": [
      "/home/cid/.pyenv/versions/3.8.0/envs/clustering-high-value-customers-identification/lib/python3.8/site-packages/pandas/core/indexing.py:1773: SettingWithCopyWarning: \n",
      "A value is trying to be set on a copy of a slice from a DataFrame.\n",
      "Try using .loc[row_indexer,col_indexer] = value instead\n",
      "\n",
      "See the caveats in the documentation: https://pandas.pydata.org/pandas-docs/stable/user_guide/indexing.html#returning-a-view-versus-a-copy\n",
      "  self._setitem_single_column(ilocs[0], value, pi)\n"
     ]
    }
   ],
   "source": [
    "df2_purchases.loc[:, ['gross_revenue']] = (df2_purchases.loc[:, 'quantity'] * df2_purchases.loc[:, 'unit_price'])"
   ]
  },
  {
   "cell_type": "markdown",
   "id": "6b340b62",
   "metadata": {
    "ExecuteTime": {
     "end_time": "2021-08-09T16:49:44.138631Z",
     "start_time": "2021-08-09T16:49:44.131084Z"
    },
    "heading_collapsed": true,
    "hidden": true
   },
   "source": [
    "### 3.1.1. Monetary"
   ]
  },
  {
   "cell_type": "code",
   "execution_count": 28,
   "id": "485f6c6e",
   "metadata": {
    "ExecuteTime": {
     "end_time": "2021-08-27T19:18:41.792070Z",
     "start_time": "2021-08-27T19:18:41.606598Z"
    },
    "hidden": true
   },
   "outputs": [
    {
     "data": {
      "text/plain": [
       "customer_id     0\n",
       "monetary       92\n",
       "dtype: int64"
      ]
     },
     "execution_count": 28,
     "metadata": {},
     "output_type": "execute_result"
    }
   ],
   "source": [
    "df_monetary = df2_purchases.loc[:, ['customer_id', 'gross_revenue']].groupby('customer_id').sum().reset_index().rename(columns={'gross_revenue': 'monetary'})\n",
    "df_ref = pd.merge(df_ref, df_monetary, how='left', on='customer_id')\n",
    "df_ref.isna().sum()"
   ]
  },
  {
   "cell_type": "markdown",
   "id": "39634d79",
   "metadata": {
    "ExecuteTime": {
     "end_time": "2021-08-09T16:49:44.138631Z",
     "start_time": "2021-08-09T16:49:44.131084Z"
    },
    "heading_collapsed": true,
    "hidden": true
   },
   "source": [
    "### 3.1.2. Recency"
   ]
  },
  {
   "cell_type": "code",
   "execution_count": 29,
   "id": "86e6efcc",
   "metadata": {
    "ExecuteTime": {
     "end_time": "2021-08-27T19:18:41.874194Z",
     "start_time": "2021-08-27T19:18:41.808946Z"
    },
    "hidden": true
   },
   "outputs": [
    {
     "data": {
      "text/plain": [
       "customer_id      0\n",
       "monetary        92\n",
       "recency_days    92\n",
       "dtype: int64"
      ]
     },
     "execution_count": 29,
     "metadata": {},
     "output_type": "execute_result"
    }
   ],
   "source": [
    "df_recency = df2_purchases.loc[:, ['customer_id', 'invoice_date']].groupby('customer_id').max().reset_index()\n",
    "df_recency['recency_days'] = (df_recency['invoice_date'].max() - df_recency['invoice_date']).dt.days\n",
    "df_ref = pd.merge(df_ref, df_recency[['customer_id', 'recency_days']], how='left', on='customer_id')\n",
    "\n",
    "df_ref.isna().sum()"
   ]
  },
  {
   "cell_type": "markdown",
   "id": "25bdfbc6",
   "metadata": {
    "ExecuteTime": {
     "end_time": "2021-08-09T16:49:44.138631Z",
     "start_time": "2021-08-09T16:49:44.131084Z"
    },
    "heading_collapsed": true,
    "hidden": true
   },
   "source": [
    "### 3.1.3. Quatily of purchased"
   ]
  },
  {
   "cell_type": "code",
   "execution_count": 30,
   "id": "f95c9fd1",
   "metadata": {
    "ExecuteTime": {
     "end_time": "2021-08-27T19:18:42.009153Z",
     "start_time": "2021-08-27T19:18:41.877987Z"
    },
    "hidden": true
   },
   "outputs": [
    {
     "data": {
      "text/plain": [
       "customer_id       0\n",
       "monetary         92\n",
       "recency_days     92\n",
       "qtde_invoices    92\n",
       "dtype: int64"
      ]
     },
     "execution_count": 30,
     "metadata": {},
     "output_type": "execute_result"
    }
   ],
   "source": [
    "df_freq = df2_purchases[['customer_id', 'invoice_no']].drop_duplicates().groupby('customer_id').count().reset_index().\\\n",
    "rename(columns={'invoice_no': 'qtde_invoices'})\n",
    "\n",
    "df_ref = pd.merge(df_ref, df_freq, how='left', on='customer_id')\n",
    "df_ref.isna().sum()"
   ]
  },
  {
   "cell_type": "markdown",
   "id": "a2f4d7c7",
   "metadata": {
    "heading_collapsed": true,
    "hidden": true
   },
   "source": [
    "### 3.1.4. Quantity total of items purchased"
   ]
  },
  {
   "cell_type": "code",
   "execution_count": 31,
   "id": "a59a9d62",
   "metadata": {
    "ExecuteTime": {
     "end_time": "2021-08-27T19:18:42.091572Z",
     "start_time": "2021-08-27T19:18:42.013035Z"
    },
    "hidden": true
   },
   "outputs": [
    {
     "data": {
      "text/plain": [
       "customer_id       0\n",
       "monetary         92\n",
       "recency_days     92\n",
       "qtde_invoices    92\n",
       "qtde_items       92\n",
       "dtype: int64"
      ]
     },
     "execution_count": 31,
     "metadata": {},
     "output_type": "execute_result"
    }
   ],
   "source": [
    "df_freq = (df2_purchases.loc[:, ['customer_id', 'quantity']].groupby('customer_id')\n",
    "                                                            .sum()\n",
    "                                                            .reset_index()\n",
    "                                                            .rename(columns={'quantity': 'qtde_items'}))\n",
    "df_ref = pd.merge(df_ref, df_freq, how='left', on='customer_id')\n",
    "df_ref.isna().sum()"
   ]
  },
  {
   "cell_type": "markdown",
   "id": "410ffb81",
   "metadata": {
    "ExecuteTime": {
     "end_time": "2021-08-12T13:29:13.252634Z",
     "start_time": "2021-08-12T13:29:13.237186Z"
    },
    "heading_collapsed": true,
    "hidden": true
   },
   "source": [
    "### 3.1.5. Quantity of products purchased"
   ]
  },
  {
   "cell_type": "code",
   "execution_count": 32,
   "id": "81686ba1",
   "metadata": {
    "ExecuteTime": {
     "end_time": "2021-08-27T19:18:42.237003Z",
     "start_time": "2021-08-27T19:18:42.102252Z"
    },
    "hidden": true
   },
   "outputs": [
    {
     "data": {
      "text/plain": [
       "customer_id       0\n",
       "monetary         92\n",
       "recency_days     92\n",
       "qtde_invoices    92\n",
       "qtde_items       92\n",
       "qtde_products    92\n",
       "dtype: int64"
      ]
     },
     "execution_count": 32,
     "metadata": {},
     "output_type": "execute_result"
    }
   ],
   "source": [
    "df_freq = ( df2_purchases.loc[:, ['customer_id', 'stock_code']].groupby('customer_id')\n",
    "                                                               .count()\n",
    "                                                               .reset_index()\n",
    "                                                               .rename(columns={'stock_code': 'qtde_products'}))\n",
    "df_ref = pd.merge(df_ref, df_freq, how='left', on='customer_id')\n",
    "df_ref.isna().sum()"
   ]
  },
  {
   "cell_type": "markdown",
   "id": "0bbbf7fe",
   "metadata": {
    "ExecuteTime": {
     "end_time": "2021-08-09T16:49:44.138631Z",
     "start_time": "2021-08-09T16:49:44.131084Z"
    },
    "heading_collapsed": true,
    "hidden": true
   },
   "source": [
    "### 3.1.6. Average Ticket"
   ]
  },
  {
   "cell_type": "code",
   "execution_count": 33,
   "id": "d2d0eed6",
   "metadata": {
    "ExecuteTime": {
     "end_time": "2021-08-27T19:18:42.300704Z",
     "start_time": "2021-08-27T19:18:42.239895Z"
    },
    "hidden": true
   },
   "outputs": [
    {
     "data": {
      "text/plain": [
       "customer_id       0\n",
       "monetary         92\n",
       "recency_days     92\n",
       "qtde_invoices    92\n",
       "qtde_items       92\n",
       "qtde_products    92\n",
       "avg_ticket       92\n",
       "dtype: int64"
      ]
     },
     "execution_count": 33,
     "metadata": {},
     "output_type": "execute_result"
    }
   ],
   "source": [
    "df_avg_ticket =  (df2_purchases.loc[:, ['customer_id','gross_revenue']].groupby('customer_id')\n",
    "                                                                       .mean()\n",
    "                                                                       .reset_index()\n",
    "                                                                       .rename(columns={'gross_revenue': 'avg_ticket'}))\n",
    "\n",
    "df_ref = pd.merge(df_ref, df_avg_ticket, how='left', on='customer_id')\n",
    "\n",
    "df_ref.isna().sum()"
   ]
  },
  {
   "cell_type": "markdown",
   "id": "9c33c58d",
   "metadata": {
    "heading_collapsed": true,
    "hidden": true
   },
   "source": [
    "### 3.1.7. Average Recency Days"
   ]
  },
  {
   "cell_type": "code",
   "execution_count": 34,
   "id": "bd3c3af6",
   "metadata": {
    "ExecuteTime": {
     "end_time": "2021-08-27T19:18:42.378929Z",
     "start_time": "2021-08-27T19:18:42.305786Z"
    },
    "hidden": true
   },
   "outputs": [],
   "source": [
    "df_aux = df2[['customer_id', 'invoice_date']].drop_duplicates().sort_values(['customer_id', 'invoice_date'], ascending=[False, False])\n",
    "df_aux['next_customer_id'] = df_aux['customer_id'].shift()\n",
    "df_aux['previus_date'] = df_aux['invoice_date'].shift()"
   ]
  },
  {
   "cell_type": "code",
   "execution_count": 35,
   "id": "0dcc70c2",
   "metadata": {
    "ExecuteTime": {
     "end_time": "2021-08-27T19:18:44.207566Z",
     "start_time": "2021-08-27T19:18:42.382383Z"
    },
    "hidden": true
   },
   "outputs": [],
   "source": [
    "df_aux['avg_recency_days'] = df_aux.apply( lambda x: (x['invoice_date'] - x['previus_date']).days if x['customer_id'] == x['next_customer_id'] else np.nan, axis=1)\n",
    "df_aux['avg_recency_days'] = df_aux['avg_recency_days'] * -1\n",
    "df_aux = df_aux.drop(columns=['invoice_date', 'next_customer_id', 'previus_date'], axis=1).dropna()"
   ]
  },
  {
   "cell_type": "code",
   "execution_count": 36,
   "id": "0f1caa5a",
   "metadata": {
    "ExecuteTime": {
     "end_time": "2021-08-27T19:18:44.240202Z",
     "start_time": "2021-08-27T19:18:44.209812Z"
    },
    "hidden": true
   },
   "outputs": [
    {
     "data": {
      "text/plain": [
       "customer_id            0\n",
       "monetary              92\n",
       "recency_days          92\n",
       "qtde_invoices         92\n",
       "qtde_items            92\n",
       "qtde_products         92\n",
       "avg_ticket            92\n",
       "avg_recency_days    2815\n",
       "dtype: int64"
      ]
     },
     "execution_count": 36,
     "metadata": {},
     "output_type": "execute_result"
    }
   ],
   "source": [
    "df_avg_recency_days = df_aux.groupby( 'customer_id' ).mean().reset_index()\n",
    "\n",
    "df_ref = pd.merge(df_ref, df_avg_recency_days, on='customer_id', how='left')\n",
    "df_ref.isna().sum()"
   ]
  },
  {
   "cell_type": "markdown",
   "id": "922407e6",
   "metadata": {
    "heading_collapsed": true,
    "hidden": true
   },
   "source": [
    "### 3.1.8. Frequency Purchase"
   ]
  },
  {
   "cell_type": "code",
   "execution_count": 37,
   "id": "ecf5a5d7",
   "metadata": {
    "ExecuteTime": {
     "end_time": "2021-08-27T19:18:46.660204Z",
     "start_time": "2021-08-27T19:18:44.243771Z"
    },
    "hidden": true
   },
   "outputs": [
    {
     "data": {
      "text/plain": [
       "customer_id            0\n",
       "monetary              92\n",
       "recency_days          92\n",
       "qtde_invoices         92\n",
       "qtde_items            92\n",
       "qtde_products         92\n",
       "avg_ticket            92\n",
       "avg_recency_days    2815\n",
       "frequency             92\n",
       "dtype: int64"
      ]
     },
     "execution_count": 37,
     "metadata": {},
     "output_type": "execute_result"
    }
   ],
   "source": [
    "df_aux = (df2_purchases[['customer_id', 'invoice_no', 'invoice_date']].drop_duplicates()\n",
    "                                                 .groupby('customer_id')\n",
    "                                                 .agg( max_ = ('invoice_date', 'max'),\n",
    "                                                       min_ = ('invoice_date', 'min'),\n",
    "                                                       days = ('invoice_date', lambda x: ((x.max() - x.min()).days) + 1 ),\n",
    "                                                       buy_ = ( 'invoice_no', 'count' ))).reset_index()\n",
    "\n",
    "df_aux['frequency'] = df_aux[['buy_', 'days']].apply( lambda x: x['buy_'] / x['days'] if x['days'] != 0 else 0, axis=1 )\n",
    "\n",
    "df_ref = pd.merge(df_ref, df_aux[['customer_id', 'frequency']], on='customer_id', how='left')\n",
    "df_ref.isna().sum()"
   ]
  },
  {
   "cell_type": "markdown",
   "id": "a90650fd",
   "metadata": {
    "heading_collapsed": true,
    "hidden": true
   },
   "source": [
    "### 3.1.9. Number Or Returns"
   ]
  },
  {
   "cell_type": "code",
   "execution_count": 38,
   "id": "fc6071ef",
   "metadata": {
    "ExecuteTime": {
     "end_time": "2021-08-27T19:18:46.711331Z",
     "start_time": "2021-08-27T19:18:46.663494Z"
    },
    "hidden": true
   },
   "outputs": [
    {
     "data": {
      "text/plain": [
       "customer_id            0\n",
       "monetary              92\n",
       "recency_days          92\n",
       "qtde_invoices         92\n",
       "qtde_items            92\n",
       "qtde_products         92\n",
       "avg_ticket            92\n",
       "avg_recency_days    2815\n",
       "frequency             92\n",
       "qtde_returns           0\n",
       "dtype: int64"
      ]
     },
     "execution_count": 38,
     "metadata": {},
     "output_type": "execute_result"
    }
   ],
   "source": [
    "df_returns = df2_returns[['quantity', 'customer_id']].groupby('customer_id').sum().reset_index().rename(columns={'quantity': 'qtde_returns'})\n",
    "df_returns['qtde_returns'] = df_returns['qtde_returns'] * -1\n",
    "\n",
    "df_ref = pd.merge(df_ref, df_returns, on='customer_id', how='left')\n",
    "df_ref['qtde_returns'].fillna(0, inplace=True)\n",
    "df_ref.isna().sum()"
   ]
  },
  {
   "cell_type": "markdown",
   "id": "83a0383f",
   "metadata": {
    "heading_collapsed": true,
    "hidden": true
   },
   "source": [
    "### 3.1.10. Basket Size"
   ]
  },
  {
   "cell_type": "code",
   "execution_count": 39,
   "id": "f823e35f",
   "metadata": {
    "ExecuteTime": {
     "end_time": "2021-08-27T19:18:46.903146Z",
     "start_time": "2021-08-27T19:18:46.718994Z"
    },
    "hidden": true
   },
   "outputs": [
    {
     "data": {
      "text/plain": [
       "customer_id            0\n",
       "monetary              92\n",
       "recency_days          92\n",
       "qtde_invoices         92\n",
       "qtde_items            92\n",
       "qtde_products         92\n",
       "avg_ticket            92\n",
       "avg_recency_days    2815\n",
       "frequency             92\n",
       "qtde_returns           0\n",
       "avg_basket_size       92\n",
       "dtype: int64"
      ]
     },
     "execution_count": 39,
     "metadata": {},
     "output_type": "execute_result"
    }
   ],
   "source": [
    "df_aux = (df2_purchases[['customer_id', 'invoice_no', 'quantity']].groupby('customer_id')\n",
    "                                                                   .agg( n_purchase=('invoice_no', 'nunique'),\n",
    "                                                                         n_products=('quantity', 'sum'))).reset_index()\n",
    "df_aux['avg_basket_size'] = df_aux['n_products'] / df_aux['n_purchase']\n",
    "df_ref = pd.merge(df_ref, df_aux[['avg_basket_size', 'customer_id']], on='customer_id', how='left')\n",
    "df_ref.isna().sum()"
   ]
  },
  {
   "cell_type": "markdown",
   "id": "308da526",
   "metadata": {
    "heading_collapsed": true,
    "hidden": true
   },
   "source": [
    "### 3.1.11. Unique Basket Size"
   ]
  },
  {
   "cell_type": "code",
   "execution_count": 40,
   "id": "e81c5029",
   "metadata": {
    "ExecuteTime": {
     "end_time": "2021-08-27T19:18:47.274558Z",
     "start_time": "2021-08-27T19:18:46.909950Z"
    },
    "hidden": true
   },
   "outputs": [
    {
     "data": {
      "text/plain": [
       "customer_id                  0\n",
       "monetary                    92\n",
       "recency_days                92\n",
       "qtde_invoices               92\n",
       "qtde_items                  92\n",
       "qtde_products               92\n",
       "avg_ticket                  92\n",
       "avg_recency_days          2815\n",
       "frequency                   92\n",
       "qtde_returns                 0\n",
       "avg_basket_size             92\n",
       "avg_unique_basket_size      92\n",
       "dtype: int64"
      ]
     },
     "execution_count": 40,
     "metadata": {},
     "output_type": "execute_result"
    }
   ],
   "source": [
    "df_aux = (df2_purchases.loc[:, ['customer_id', 'invoice_no', 'stock_code']].groupby( 'customer_id' )\n",
    "                                                                         .agg(n_purchase=('invoice_no', 'nunique'),\n",
    "                                                                              n_products=('stock_code', 'nunique'))).reset_index()\n",
    "df_aux['avg_unique_basket_size'] = df_aux['n_products'] / df_aux['n_purchase']\n",
    "\n",
    "df_ref = pd.merge(df_ref, df_aux[['avg_unique_basket_size', 'customer_id']], on='customer_id', how='left')\n",
    "df_ref.isna().sum()"
   ]
  },
  {
   "cell_type": "markdown",
   "id": "5e87e47c",
   "metadata": {},
   "source": [
    "# 4.0. EDA  "
   ]
  },
  {
   "cell_type": "code",
   "execution_count": 41,
   "id": "aac53260",
   "metadata": {
    "ExecuteTime": {
     "end_time": "2021-08-27T19:18:47.290349Z",
     "start_time": "2021-08-27T19:18:47.277212Z"
    }
   },
   "outputs": [],
   "source": [
    "df_ref = df_ref.dropna()\n",
    "\n",
    "df4 = df_ref.copy()"
   ]
  },
  {
   "cell_type": "markdown",
   "id": "610f7815",
   "metadata": {
    "heading_collapsed": true
   },
   "source": [
    "## 4.1. Univariate Analysis"
   ]
  },
  {
   "cell_type": "code",
   "execution_count": 42,
   "id": "8cc650b3",
   "metadata": {
    "ExecuteTime": {
     "end_time": "2021-08-27T19:18:47.296660Z",
     "start_time": "2021-08-27T19:18:47.293011Z"
    },
    "hidden": true
   },
   "outputs": [],
   "source": [
    "# report = ProfileReport(df4)\n",
    "# report.to_file('../reports/output.html')"
   ]
  },
  {
   "cell_type": "markdown",
   "id": "2c296b12",
   "metadata": {
    "heading_collapsed": true,
    "hidden": true
   },
   "source": [
    "### 4.1.1. monetary"
   ]
  },
  {
   "cell_type": "code",
   "execution_count": 43,
   "id": "80ba8f33",
   "metadata": {
    "ExecuteTime": {
     "end_time": "2021-08-27T19:18:52.790987Z",
     "start_time": "2021-08-27T19:18:47.300858Z"
    },
    "hidden": true
   },
   "outputs": [
    {
     "data": {
      "image/png": "[encoded data removed]",
      "text/plain": [
       "<Figure size 1728x648 with 1 Axes>"
      ]
     },
     "metadata": {},
     "output_type": "display_data"
    }
   ],
   "source": [
    "sns.histplot(df4['monetary']);"
   ]
  },
  {
   "cell_type": "code",
   "execution_count": 44,
   "id": "ad8c1957",
   "metadata": {
    "ExecuteTime": {
     "end_time": "2021-08-27T19:18:52.860950Z",
     "start_time": "2021-08-27T19:18:52.806267Z"
    },
    "hidden": true
   },
   "outputs": [
    {
     "data": {
      "text/html": [
       "<div>\n",
       "<style scoped>\n",
       "    .dataframe tbody tr th:only-of-type {\n",
       "        vertical-align: middle;\n",
       "    }\n",
       "\n",
       "    .dataframe tbody tr th {\n",
       "        vertical-align: top;\n",
       "    }\n",
       "\n",
       "    .dataframe thead th {\n",
       "        text-align: right;\n",
       "    }\n",
       "</style>\n",
       "<table border=\"1\" class=\"dataframe\">\n",
       "  <thead>\n",
       "    <tr style=\"text-align: right;\">\n",
       "      <th></th>\n",
       "      <th>customer_id</th>\n",
       "      <th>monetary</th>\n",
       "      <th>recency_days</th>\n",
       "      <th>qtde_invoices</th>\n",
       "      <th>qtde_items</th>\n",
       "      <th>qtde_products</th>\n",
       "      <th>avg_ticket</th>\n",
       "      <th>avg_recency_days</th>\n",
       "      <th>frequency</th>\n",
       "      <th>qtde_returns</th>\n",
       "      <th>avg_basket_size</th>\n",
       "      <th>avg_unique_basket_size</th>\n",
       "    </tr>\n",
       "  </thead>\n",
       "  <tbody>\n",
       "    <tr>\n",
       "      <th>1015</th>\n",
       "      <td>14646</td>\n",
       "      <td>272345.6600</td>\n",
       "      <td>1.0000</td>\n",
       "      <td>72.0000</td>\n",
       "      <td>177148.0000</td>\n",
       "      <td>1905.0000</td>\n",
       "      <td>142.9636</td>\n",
       "      <td>7.8444</td>\n",
       "      <td>0.2034</td>\n",
       "      <td>288.0000</td>\n",
       "      <td>2460.3889</td>\n",
       "      <td>8.9861</td>\n",
       "    </tr>\n",
       "    <tr>\n",
       "      <th>492</th>\n",
       "      <td>18102</td>\n",
       "      <td>259657.3000</td>\n",
       "      <td>0.0000</td>\n",
       "      <td>60.0000</td>\n",
       "      <td>64124.0000</td>\n",
       "      <td>431.0000</td>\n",
       "      <td>602.4531</td>\n",
       "      <td>14.6800</td>\n",
       "      <td>0.1630</td>\n",
       "      <td>0.0000</td>\n",
       "      <td>1068.7333</td>\n",
       "      <td>2.5000</td>\n",
       "    </tr>\n",
       "    <tr>\n",
       "      <th>433</th>\n",
       "      <td>17450</td>\n",
       "      <td>194550.7900</td>\n",
       "      <td>8.0000</td>\n",
       "      <td>46.0000</td>\n",
       "      <td>69993.0000</td>\n",
       "      <td>337.0000</td>\n",
       "      <td>577.3020</td>\n",
       "      <td>12.8214</td>\n",
       "      <td>0.1278</td>\n",
       "      <td>952.0000</td>\n",
       "      <td>1521.5870</td>\n",
       "      <td>2.6957</td>\n",
       "    </tr>\n",
       "    <tr>\n",
       "      <th>66</th>\n",
       "      <td>14911</td>\n",
       "      <td>136626.9600</td>\n",
       "      <td>1.0000</td>\n",
       "      <td>199.0000</td>\n",
       "      <td>66368.0000</td>\n",
       "      <td>5337.0000</td>\n",
       "      <td>25.6000</td>\n",
       "      <td>2.6014</td>\n",
       "      <td>0.5335</td>\n",
       "      <td>3217.0000</td>\n",
       "      <td>333.5075</td>\n",
       "      <td>8.3668</td>\n",
       "    </tr>\n",
       "    <tr>\n",
       "      <th>1147</th>\n",
       "      <td>12415</td>\n",
       "      <td>120193.9300</td>\n",
       "      <td>24.0000</td>\n",
       "      <td>20.0000</td>\n",
       "      <td>64493.0000</td>\n",
       "      <td>644.0000</td>\n",
       "      <td>186.6365</td>\n",
       "      <td>20.8667</td>\n",
       "      <td>0.0637</td>\n",
       "      <td>427.0000</td>\n",
       "      <td>3224.6500</td>\n",
       "      <td>19.6500</td>\n",
       "    </tr>\n",
       "    <tr>\n",
       "      <th>190</th>\n",
       "      <td>14156</td>\n",
       "      <td>115727.3500</td>\n",
       "      <td>9.0000</td>\n",
       "      <td>55.0000</td>\n",
       "      <td>52013.0000</td>\n",
       "      <td>1353.0000</td>\n",
       "      <td>85.5339</td>\n",
       "      <td>7.2600</td>\n",
       "      <td>0.1515</td>\n",
       "      <td>859.0000</td>\n",
       "      <td>945.6909</td>\n",
       "      <td>12.4909</td>\n",
       "    </tr>\n",
       "    <tr>\n",
       "      <th>15</th>\n",
       "      <td>17511</td>\n",
       "      <td>87716.4800</td>\n",
       "      <td>2.0000</td>\n",
       "      <td>31.0000</td>\n",
       "      <td>52259.0000</td>\n",
       "      <td>856.0000</td>\n",
       "      <td>102.4725</td>\n",
       "      <td>11.5938</td>\n",
       "      <td>0.0833</td>\n",
       "      <td>1534.0000</td>\n",
       "      <td>1685.7742</td>\n",
       "      <td>12.2581</td>\n",
       "    </tr>\n",
       "    <tr>\n",
       "      <th>12</th>\n",
       "      <td>16029</td>\n",
       "      <td>72882.0900</td>\n",
       "      <td>38.0000</td>\n",
       "      <td>62.0000</td>\n",
       "      <td>40207.0000</td>\n",
       "      <td>241.0000</td>\n",
       "      <td>302.4153</td>\n",
       "      <td>9.0541</td>\n",
       "      <td>0.1845</td>\n",
       "      <td>8004.0000</td>\n",
       "      <td>648.5000</td>\n",
       "      <td>0.6935</td>\n",
       "    </tr>\n",
       "    <tr>\n",
       "      <th>953</th>\n",
       "      <td>16684</td>\n",
       "      <td>62078.1200</td>\n",
       "      <td>4.0000</td>\n",
       "      <td>26.0000</td>\n",
       "      <td>36731.0000</td>\n",
       "      <td>243.0000</td>\n",
       "      <td>255.4655</td>\n",
       "      <td>22.1250</td>\n",
       "      <td>0.0732</td>\n",
       "      <td>864.0000</td>\n",
       "      <td>1412.7308</td>\n",
       "      <td>3.8846</td>\n",
       "    </tr>\n",
       "    <tr>\n",
       "      <th>8</th>\n",
       "      <td>15311</td>\n",
       "      <td>60402.2200</td>\n",
       "      <td>0.0000</td>\n",
       "      <td>91.0000</td>\n",
       "      <td>36978.0000</td>\n",
       "      <td>2326.0000</td>\n",
       "      <td>25.9683</td>\n",
       "      <td>4.1444</td>\n",
       "      <td>0.2433</td>\n",
       "      <td>474.0000</td>\n",
       "      <td>406.3516</td>\n",
       "      <td>6.0000</td>\n",
       "    </tr>\n",
       "  </tbody>\n",
       "</table>\n",
       "</div>"
      ],
      "text/plain": [
       "      customer_id    monetary  recency_days  qtde_invoices  qtde_items  qtde_products  avg_ticket  avg_recency_days  frequency  qtde_returns  avg_basket_size  avg_unique_basket_size\n",
       "1015        14646 272345.6600        1.0000        72.0000 177148.0000      1905.0000    142.9636            7.8444     0.2034      288.0000        2460.3889                  8.9861\n",
       "492         18102 259657.3000        0.0000        60.0000  64124.0000       431.0000    602.4531           14.6800     0.1630        0.0000        1068.7333                  2.5000\n",
       "433         17450 194550.7900        8.0000        46.0000  69993.0000       337.0000    577.3020           12.8214     0.1278      952.0000        1521.5870                  2.6957\n",
       "66          14911 136626.9600        1.0000       199.0000  66368.0000      5337.0000     25.6000            2.6014     0.5335     3217.0000         333.5075                  8.3668\n",
       "1147        12415 120193.9300       24.0000        20.0000  64493.0000       644.0000    186.6365           20.8667     0.0637      427.0000        3224.6500                 19.6500\n",
       "190         14156 115727.3500        9.0000        55.0000  52013.0000      1353.0000     85.5339            7.2600     0.1515      859.0000         945.6909                 12.4909\n",
       "15          17511  87716.4800        2.0000        31.0000  52259.0000       856.0000    102.4725           11.5938     0.0833     1534.0000        1685.7742                 12.2581\n",
       "12          16029  72882.0900       38.0000        62.0000  40207.0000       241.0000    302.4153            9.0541     0.1845     8004.0000         648.5000                  0.6935\n",
       "953         16684  62078.1200        4.0000        26.0000  36731.0000       243.0000    255.4655           22.1250     0.0732      864.0000        1412.7308                  3.8846\n",
       "8           15311  60402.2200        0.0000        91.0000  36978.0000      2326.0000     25.9683            4.1444     0.2433      474.0000         406.3516                  6.0000"
      ]
     },
     "execution_count": 44,
     "metadata": {},
     "output_type": "execute_result"
    }
   ],
   "source": [
    "df4.sort_values('monetary', ascending=False).head(10)"
   ]
  },
  {
   "cell_type": "markdown",
   "id": "6c8a8791",
   "metadata": {
    "heading_collapsed": true,
    "hidden": true
   },
   "source": [
    "### 4.1.2. qtde_invoices"
   ]
  },
  {
   "cell_type": "code",
   "execution_count": 45,
   "id": "31203bde",
   "metadata": {
    "ExecuteTime": {
     "end_time": "2021-08-27T19:18:52.926060Z",
     "start_time": "2021-08-27T19:18:52.866384Z"
    },
    "hidden": true
   },
   "outputs": [
    {
     "data": {
      "text/html": [
       "<div>\n",
       "<style scoped>\n",
       "    .dataframe tbody tr th:only-of-type {\n",
       "        vertical-align: middle;\n",
       "    }\n",
       "\n",
       "    .dataframe tbody tr th {\n",
       "        vertical-align: top;\n",
       "    }\n",
       "\n",
       "    .dataframe thead th {\n",
       "        text-align: right;\n",
       "    }\n",
       "</style>\n",
       "<table border=\"1\" class=\"dataframe\">\n",
       "  <thead>\n",
       "    <tr style=\"text-align: right;\">\n",
       "      <th></th>\n",
       "      <th>customer_id</th>\n",
       "      <th>monetary</th>\n",
       "      <th>recency_days</th>\n",
       "      <th>qtde_invoices</th>\n",
       "      <th>qtde_items</th>\n",
       "      <th>qtde_products</th>\n",
       "      <th>avg_ticket</th>\n",
       "      <th>avg_recency_days</th>\n",
       "      <th>frequency</th>\n",
       "      <th>qtde_returns</th>\n",
       "      <th>avg_basket_size</th>\n",
       "      <th>avg_unique_basket_size</th>\n",
       "    </tr>\n",
       "  </thead>\n",
       "  <tbody>\n",
       "    <tr>\n",
       "      <th>47</th>\n",
       "      <td>12748</td>\n",
       "      <td>30956.4100</td>\n",
       "      <td>0.0000</td>\n",
       "      <td>202.0000</td>\n",
       "      <td>20068.0000</td>\n",
       "      <td>4222.0000</td>\n",
       "      <td>7.3322</td>\n",
       "      <td>3.3909</td>\n",
       "      <td>0.5401</td>\n",
       "      <td>1487.0000</td>\n",
       "      <td>99.3465</td>\n",
       "      <td>8.2030</td>\n",
       "    </tr>\n",
       "    <tr>\n",
       "      <th>66</th>\n",
       "      <td>14911</td>\n",
       "      <td>136626.9600</td>\n",
       "      <td>1.0000</td>\n",
       "      <td>199.0000</td>\n",
       "      <td>66368.0000</td>\n",
       "      <td>5337.0000</td>\n",
       "      <td>25.6000</td>\n",
       "      <td>2.6014</td>\n",
       "      <td>0.5335</td>\n",
       "      <td>3217.0000</td>\n",
       "      <td>333.5075</td>\n",
       "      <td>8.3668</td>\n",
       "    </tr>\n",
       "    <tr>\n",
       "      <th>68</th>\n",
       "      <td>17841</td>\n",
       "      <td>40276.2100</td>\n",
       "      <td>1.0000</td>\n",
       "      <td>123.0000</td>\n",
       "      <td>19368.0000</td>\n",
       "      <td>7599.0000</td>\n",
       "      <td>5.3002</td>\n",
       "      <td>3.3214</td>\n",
       "      <td>0.3298</td>\n",
       "      <td>189.0000</td>\n",
       "      <td>157.4634</td>\n",
       "      <td>10.3008</td>\n",
       "    </tr>\n",
       "    <tr>\n",
       "      <th>278</th>\n",
       "      <td>13089</td>\n",
       "      <td>58638.9900</td>\n",
       "      <td>2.0000</td>\n",
       "      <td>97.0000</td>\n",
       "      <td>30554.0000</td>\n",
       "      <td>1806.0000</td>\n",
       "      <td>32.4690</td>\n",
       "      <td>4.4756</td>\n",
       "      <td>0.2636</td>\n",
       "      <td>283.0000</td>\n",
       "      <td>314.9897</td>\n",
       "      <td>6.4742</td>\n",
       "    </tr>\n",
       "    <tr>\n",
       "      <th>8</th>\n",
       "      <td>15311</td>\n",
       "      <td>60402.2200</td>\n",
       "      <td>0.0000</td>\n",
       "      <td>91.0000</td>\n",
       "      <td>36978.0000</td>\n",
       "      <td>2326.0000</td>\n",
       "      <td>25.9683</td>\n",
       "      <td>4.1444</td>\n",
       "      <td>0.2433</td>\n",
       "      <td>474.0000</td>\n",
       "      <td>406.3516</td>\n",
       "      <td>6.0000</td>\n",
       "    </tr>\n",
       "    <tr>\n",
       "      <th>96</th>\n",
       "      <td>14606</td>\n",
       "      <td>11894.6800</td>\n",
       "      <td>1.0000</td>\n",
       "      <td>91.0000</td>\n",
       "      <td>5735.0000</td>\n",
       "      <td>2630.0000</td>\n",
       "      <td>4.5227</td>\n",
       "      <td>4.2759</td>\n",
       "      <td>0.2440</td>\n",
       "      <td>242.0000</td>\n",
       "      <td>63.0220</td>\n",
       "      <td>8.7802</td>\n",
       "    </tr>\n",
       "    <tr>\n",
       "      <th>183</th>\n",
       "      <td>12971</td>\n",
       "      <td>10178.6700</td>\n",
       "      <td>3.0000</td>\n",
       "      <td>85.0000</td>\n",
       "      <td>5873.0000</td>\n",
       "      <td>280.0000</td>\n",
       "      <td>36.3524</td>\n",
       "      <td>5.3478</td>\n",
       "      <td>0.2297</td>\n",
       "      <td>85.0000</td>\n",
       "      <td>69.0941</td>\n",
       "      <td>1.0824</td>\n",
       "    </tr>\n",
       "    <tr>\n",
       "      <th>1015</th>\n",
       "      <td>14646</td>\n",
       "      <td>272345.6600</td>\n",
       "      <td>1.0000</td>\n",
       "      <td>72.0000</td>\n",
       "      <td>177148.0000</td>\n",
       "      <td>1905.0000</td>\n",
       "      <td>142.9636</td>\n",
       "      <td>7.8444</td>\n",
       "      <td>0.2034</td>\n",
       "      <td>288.0000</td>\n",
       "      <td>2460.3889</td>\n",
       "      <td>8.9861</td>\n",
       "    </tr>\n",
       "    <tr>\n",
       "      <th>19</th>\n",
       "      <td>13408</td>\n",
       "      <td>27998.0900</td>\n",
       "      <td>1.0000</td>\n",
       "      <td>62.0000</td>\n",
       "      <td>15847.0000</td>\n",
       "      <td>469.0000</td>\n",
       "      <td>59.6974</td>\n",
       "      <td>7.2941</td>\n",
       "      <td>0.1662</td>\n",
       "      <td>104.0000</td>\n",
       "      <td>255.5968</td>\n",
       "      <td>3.6613</td>\n",
       "    </tr>\n",
       "    <tr>\n",
       "      <th>12</th>\n",
       "      <td>16029</td>\n",
       "      <td>72882.0900</td>\n",
       "      <td>38.0000</td>\n",
       "      <td>62.0000</td>\n",
       "      <td>40207.0000</td>\n",
       "      <td>241.0000</td>\n",
       "      <td>302.4153</td>\n",
       "      <td>9.0541</td>\n",
       "      <td>0.1845</td>\n",
       "      <td>8004.0000</td>\n",
       "      <td>648.5000</td>\n",
       "      <td>0.6935</td>\n",
       "    </tr>\n",
       "  </tbody>\n",
       "</table>\n",
       "</div>"
      ],
      "text/plain": [
       "      customer_id    monetary  recency_days  qtde_invoices  qtde_items  qtde_products  avg_ticket  avg_recency_days  frequency  qtde_returns  avg_basket_size  avg_unique_basket_size\n",
       "47          12748  30956.4100        0.0000       202.0000  20068.0000      4222.0000      7.3322            3.3909     0.5401     1487.0000          99.3465                  8.2030\n",
       "66          14911 136626.9600        1.0000       199.0000  66368.0000      5337.0000     25.6000            2.6014     0.5335     3217.0000         333.5075                  8.3668\n",
       "68          17841  40276.2100        1.0000       123.0000  19368.0000      7599.0000      5.3002            3.3214     0.3298      189.0000         157.4634                 10.3008\n",
       "278         13089  58638.9900        2.0000        97.0000  30554.0000      1806.0000     32.4690            4.4756     0.2636      283.0000         314.9897                  6.4742\n",
       "8           15311  60402.2200        0.0000        91.0000  36978.0000      2326.0000     25.9683            4.1444     0.2433      474.0000         406.3516                  6.0000\n",
       "96          14606  11894.6800        1.0000        91.0000   5735.0000      2630.0000      4.5227            4.2759     0.2440      242.0000          63.0220                  8.7802\n",
       "183         12971  10178.6700        3.0000        85.0000   5873.0000       280.0000     36.3524            5.3478     0.2297       85.0000          69.0941                  1.0824\n",
       "1015        14646 272345.6600        1.0000        72.0000 177148.0000      1905.0000    142.9636            7.8444     0.2034      288.0000        2460.3889                  8.9861\n",
       "19          13408  27998.0900        1.0000        62.0000  15847.0000       469.0000     59.6974            7.2941     0.1662      104.0000         255.5968                  3.6613\n",
       "12          16029  72882.0900       38.0000        62.0000  40207.0000       241.0000    302.4153            9.0541     0.1845     8004.0000         648.5000                  0.6935"
      ]
     },
     "execution_count": 45,
     "metadata": {},
     "output_type": "execute_result"
    }
   ],
   "source": [
    "df4.sort_values('qtde_invoices', ascending=False).head(10)"
   ]
  },
  {
   "cell_type": "markdown",
   "id": "67e9df8f",
   "metadata": {
    "heading_collapsed": true,
    "hidden": true
   },
   "source": [
    "### 4.1.3. qtde_items"
   ]
  },
  {
   "cell_type": "code",
   "execution_count": 46,
   "id": "41038a94",
   "metadata": {
    "ExecuteTime": {
     "end_time": "2021-08-27T19:18:53.001282Z",
     "start_time": "2021-08-27T19:18:52.939271Z"
    },
    "hidden": true
   },
   "outputs": [
    {
     "data": {
      "text/html": [
       "<div>\n",
       "<style scoped>\n",
       "    .dataframe tbody tr th:only-of-type {\n",
       "        vertical-align: middle;\n",
       "    }\n",
       "\n",
       "    .dataframe tbody tr th {\n",
       "        vertical-align: top;\n",
       "    }\n",
       "\n",
       "    .dataframe thead th {\n",
       "        text-align: right;\n",
       "    }\n",
       "</style>\n",
       "<table border=\"1\" class=\"dataframe\">\n",
       "  <thead>\n",
       "    <tr style=\"text-align: right;\">\n",
       "      <th></th>\n",
       "      <th>customer_id</th>\n",
       "      <th>monetary</th>\n",
       "      <th>recency_days</th>\n",
       "      <th>qtde_invoices</th>\n",
       "      <th>qtde_items</th>\n",
       "      <th>qtde_products</th>\n",
       "      <th>avg_ticket</th>\n",
       "      <th>avg_recency_days</th>\n",
       "      <th>frequency</th>\n",
       "      <th>qtde_returns</th>\n",
       "      <th>avg_basket_size</th>\n",
       "      <th>avg_unique_basket_size</th>\n",
       "    </tr>\n",
       "  </thead>\n",
       "  <tbody>\n",
       "    <tr>\n",
       "      <th>1015</th>\n",
       "      <td>14646</td>\n",
       "      <td>272345.6600</td>\n",
       "      <td>1.0000</td>\n",
       "      <td>72.0000</td>\n",
       "      <td>177148.0000</td>\n",
       "      <td>1905.0000</td>\n",
       "      <td>142.9636</td>\n",
       "      <td>7.8444</td>\n",
       "      <td>0.2034</td>\n",
       "      <td>288.0000</td>\n",
       "      <td>2460.3889</td>\n",
       "      <td>8.9861</td>\n",
       "    </tr>\n",
       "    <tr>\n",
       "      <th>433</th>\n",
       "      <td>17450</td>\n",
       "      <td>194550.7900</td>\n",
       "      <td>8.0000</td>\n",
       "      <td>46.0000</td>\n",
       "      <td>69993.0000</td>\n",
       "      <td>337.0000</td>\n",
       "      <td>577.3020</td>\n",
       "      <td>12.8214</td>\n",
       "      <td>0.1278</td>\n",
       "      <td>952.0000</td>\n",
       "      <td>1521.5870</td>\n",
       "      <td>2.6957</td>\n",
       "    </tr>\n",
       "    <tr>\n",
       "      <th>66</th>\n",
       "      <td>14911</td>\n",
       "      <td>136626.9600</td>\n",
       "      <td>1.0000</td>\n",
       "      <td>199.0000</td>\n",
       "      <td>66368.0000</td>\n",
       "      <td>5337.0000</td>\n",
       "      <td>25.6000</td>\n",
       "      <td>2.6014</td>\n",
       "      <td>0.5335</td>\n",
       "      <td>3217.0000</td>\n",
       "      <td>333.5075</td>\n",
       "      <td>8.3668</td>\n",
       "    </tr>\n",
       "    <tr>\n",
       "      <th>1147</th>\n",
       "      <td>12415</td>\n",
       "      <td>120193.9300</td>\n",
       "      <td>24.0000</td>\n",
       "      <td>20.0000</td>\n",
       "      <td>64493.0000</td>\n",
       "      <td>644.0000</td>\n",
       "      <td>186.6365</td>\n",
       "      <td>20.8667</td>\n",
       "      <td>0.0637</td>\n",
       "      <td>427.0000</td>\n",
       "      <td>3224.6500</td>\n",
       "      <td>19.6500</td>\n",
       "    </tr>\n",
       "    <tr>\n",
       "      <th>492</th>\n",
       "      <td>18102</td>\n",
       "      <td>259657.3000</td>\n",
       "      <td>0.0000</td>\n",
       "      <td>60.0000</td>\n",
       "      <td>64124.0000</td>\n",
       "      <td>431.0000</td>\n",
       "      <td>602.4531</td>\n",
       "      <td>14.6800</td>\n",
       "      <td>0.1630</td>\n",
       "      <td>0.0000</td>\n",
       "      <td>1068.7333</td>\n",
       "      <td>2.5000</td>\n",
       "    </tr>\n",
       "    <tr>\n",
       "      <th>15</th>\n",
       "      <td>17511</td>\n",
       "      <td>87716.4800</td>\n",
       "      <td>2.0000</td>\n",
       "      <td>31.0000</td>\n",
       "      <td>52259.0000</td>\n",
       "      <td>856.0000</td>\n",
       "      <td>102.4725</td>\n",
       "      <td>11.5938</td>\n",
       "      <td>0.0833</td>\n",
       "      <td>1534.0000</td>\n",
       "      <td>1685.7742</td>\n",
       "      <td>12.2581</td>\n",
       "    </tr>\n",
       "    <tr>\n",
       "      <th>190</th>\n",
       "      <td>14156</td>\n",
       "      <td>115727.3500</td>\n",
       "      <td>9.0000</td>\n",
       "      <td>55.0000</td>\n",
       "      <td>52013.0000</td>\n",
       "      <td>1353.0000</td>\n",
       "      <td>85.5339</td>\n",
       "      <td>7.2600</td>\n",
       "      <td>0.1515</td>\n",
       "      <td>859.0000</td>\n",
       "      <td>945.6909</td>\n",
       "      <td>12.4909</td>\n",
       "    </tr>\n",
       "    <tr>\n",
       "      <th>12</th>\n",
       "      <td>16029</td>\n",
       "      <td>72882.0900</td>\n",
       "      <td>38.0000</td>\n",
       "      <td>62.0000</td>\n",
       "      <td>40207.0000</td>\n",
       "      <td>241.0000</td>\n",
       "      <td>302.4153</td>\n",
       "      <td>9.0541</td>\n",
       "      <td>0.1845</td>\n",
       "      <td>8004.0000</td>\n",
       "      <td>648.5000</td>\n",
       "      <td>0.6935</td>\n",
       "    </tr>\n",
       "    <tr>\n",
       "      <th>36</th>\n",
       "      <td>13694</td>\n",
       "      <td>58817.2400</td>\n",
       "      <td>3.0000</td>\n",
       "      <td>49.0000</td>\n",
       "      <td>39984.0000</td>\n",
       "      <td>461.0000</td>\n",
       "      <td>127.5862</td>\n",
       "      <td>10.5714</td>\n",
       "      <td>0.1321</td>\n",
       "      <td>1264.0000</td>\n",
       "      <td>816.0000</td>\n",
       "      <td>5.6939</td>\n",
       "    </tr>\n",
       "    <tr>\n",
       "      <th>8</th>\n",
       "      <td>15311</td>\n",
       "      <td>60402.2200</td>\n",
       "      <td>0.0000</td>\n",
       "      <td>91.0000</td>\n",
       "      <td>36978.0000</td>\n",
       "      <td>2326.0000</td>\n",
       "      <td>25.9683</td>\n",
       "      <td>4.1444</td>\n",
       "      <td>0.2433</td>\n",
       "      <td>474.0000</td>\n",
       "      <td>406.3516</td>\n",
       "      <td>6.0000</td>\n",
       "    </tr>\n",
       "  </tbody>\n",
       "</table>\n",
       "</div>"
      ],
      "text/plain": [
       "      customer_id    monetary  recency_days  qtde_invoices  qtde_items  qtde_products  avg_ticket  avg_recency_days  frequency  qtde_returns  avg_basket_size  avg_unique_basket_size\n",
       "1015        14646 272345.6600        1.0000        72.0000 177148.0000      1905.0000    142.9636            7.8444     0.2034      288.0000        2460.3889                  8.9861\n",
       "433         17450 194550.7900        8.0000        46.0000  69993.0000       337.0000    577.3020           12.8214     0.1278      952.0000        1521.5870                  2.6957\n",
       "66          14911 136626.9600        1.0000       199.0000  66368.0000      5337.0000     25.6000            2.6014     0.5335     3217.0000         333.5075                  8.3668\n",
       "1147        12415 120193.9300       24.0000        20.0000  64493.0000       644.0000    186.6365           20.8667     0.0637      427.0000        3224.6500                 19.6500\n",
       "492         18102 259657.3000        0.0000        60.0000  64124.0000       431.0000    602.4531           14.6800     0.1630        0.0000        1068.7333                  2.5000\n",
       "15          17511  87716.4800        2.0000        31.0000  52259.0000       856.0000    102.4725           11.5938     0.0833     1534.0000        1685.7742                 12.2581\n",
       "190         14156 115727.3500        9.0000        55.0000  52013.0000      1353.0000     85.5339            7.2600     0.1515      859.0000         945.6909                 12.4909\n",
       "12          16029  72882.0900       38.0000        62.0000  40207.0000       241.0000    302.4153            9.0541     0.1845     8004.0000         648.5000                  0.6935\n",
       "36          13694  58817.2400        3.0000        49.0000  39984.0000       461.0000    127.5862           10.5714     0.1321     1264.0000         816.0000                  5.6939\n",
       "8           15311  60402.2200        0.0000        91.0000  36978.0000      2326.0000     25.9683            4.1444     0.2433      474.0000         406.3516                  6.0000"
      ]
     },
     "execution_count": 46,
     "metadata": {},
     "output_type": "execute_result"
    }
   ],
   "source": [
    "df4.sort_values('qtde_items', ascending=False).head(10)"
   ]
  },
  {
   "cell_type": "code",
   "execution_count": 47,
   "id": "6933def1",
   "metadata": {
    "ExecuteTime": {
     "end_time": "2021-08-27T19:18:53.035306Z",
     "start_time": "2021-08-27T19:18:53.017886Z"
    },
    "hidden": true
   },
   "outputs": [
    {
     "name": "stdout",
     "output_type": "stream",
     "text": [
      "NOTE: variation rate from 2 to 1 placed in relation to the quantity of items is: 153.0%\n"
     ]
    }
   ],
   "source": [
    "# variation rate from 2 to 1 placed in relation to the quantity of items\n",
    "\n",
    "# (( vf - vi ) / vi) * 100\n",
    "vr = ((177148 - 69993) / 69993) * 100\n",
    "print('NOTE: variation rate from 2 to 1 placed in relation to the quantity of items is: {}%'.format(round(vr, 0)))"
   ]
  },
  {
   "cell_type": "markdown",
   "id": "85dec64a",
   "metadata": {
    "heading_collapsed": true,
    "hidden": true
   },
   "source": [
    "### 4.1.4. qtde_products"
   ]
  },
  {
   "cell_type": "code",
   "execution_count": 48,
   "id": "7fc47d76",
   "metadata": {
    "ExecuteTime": {
     "end_time": "2021-08-27T19:18:53.101694Z",
     "start_time": "2021-08-27T19:18:53.040323Z"
    },
    "hidden": true
   },
   "outputs": [
    {
     "data": {
      "text/html": [
       "<div>\n",
       "<style scoped>\n",
       "    .dataframe tbody tr th:only-of-type {\n",
       "        vertical-align: middle;\n",
       "    }\n",
       "\n",
       "    .dataframe tbody tr th {\n",
       "        vertical-align: top;\n",
       "    }\n",
       "\n",
       "    .dataframe thead th {\n",
       "        text-align: right;\n",
       "    }\n",
       "</style>\n",
       "<table border=\"1\" class=\"dataframe\">\n",
       "  <thead>\n",
       "    <tr style=\"text-align: right;\">\n",
       "      <th></th>\n",
       "      <th>customer_id</th>\n",
       "      <th>monetary</th>\n",
       "      <th>recency_days</th>\n",
       "      <th>qtde_invoices</th>\n",
       "      <th>qtde_items</th>\n",
       "      <th>qtde_products</th>\n",
       "      <th>avg_ticket</th>\n",
       "      <th>avg_recency_days</th>\n",
       "      <th>frequency</th>\n",
       "      <th>qtde_returns</th>\n",
       "      <th>avg_basket_size</th>\n",
       "      <th>avg_unique_basket_size</th>\n",
       "    </tr>\n",
       "  </thead>\n",
       "  <tbody>\n",
       "    <tr>\n",
       "      <th>68</th>\n",
       "      <td>17841</td>\n",
       "      <td>40276.2100</td>\n",
       "      <td>1.0000</td>\n",
       "      <td>123.0000</td>\n",
       "      <td>19368.0000</td>\n",
       "      <td>7599.0000</td>\n",
       "      <td>5.3002</td>\n",
       "      <td>3.3214</td>\n",
       "      <td>0.3298</td>\n",
       "      <td>189.0000</td>\n",
       "      <td>157.4634</td>\n",
       "      <td>10.3008</td>\n",
       "    </tr>\n",
       "    <tr>\n",
       "      <th>66</th>\n",
       "      <td>14911</td>\n",
       "      <td>136626.9600</td>\n",
       "      <td>1.0000</td>\n",
       "      <td>199.0000</td>\n",
       "      <td>66368.0000</td>\n",
       "      <td>5337.0000</td>\n",
       "      <td>25.6000</td>\n",
       "      <td>2.6014</td>\n",
       "      <td>0.5335</td>\n",
       "      <td>3217.0000</td>\n",
       "      <td>333.5075</td>\n",
       "      <td>8.3668</td>\n",
       "    </tr>\n",
       "    <tr>\n",
       "      <th>4394</th>\n",
       "      <td>14096</td>\n",
       "      <td>53258.4300</td>\n",
       "      <td>4.0000</td>\n",
       "      <td>17.0000</td>\n",
       "      <td>16336.0000</td>\n",
       "      <td>5095.0000</td>\n",
       "      <td>10.4531</td>\n",
       "      <td>6.0625</td>\n",
       "      <td>0.1735</td>\n",
       "      <td>0.0000</td>\n",
       "      <td>960.9412</td>\n",
       "      <td>65.7647</td>\n",
       "    </tr>\n",
       "    <tr>\n",
       "      <th>47</th>\n",
       "      <td>12748</td>\n",
       "      <td>30956.4100</td>\n",
       "      <td>0.0000</td>\n",
       "      <td>202.0000</td>\n",
       "      <td>20068.0000</td>\n",
       "      <td>4222.0000</td>\n",
       "      <td>7.3322</td>\n",
       "      <td>3.3909</td>\n",
       "      <td>0.5401</td>\n",
       "      <td>1487.0000</td>\n",
       "      <td>99.3465</td>\n",
       "      <td>8.2030</td>\n",
       "    </tr>\n",
       "    <tr>\n",
       "      <th>96</th>\n",
       "      <td>14606</td>\n",
       "      <td>11894.6800</td>\n",
       "      <td>1.0000</td>\n",
       "      <td>91.0000</td>\n",
       "      <td>5735.0000</td>\n",
       "      <td>2630.0000</td>\n",
       "      <td>4.5227</td>\n",
       "      <td>4.2759</td>\n",
       "      <td>0.2440</td>\n",
       "      <td>242.0000</td>\n",
       "      <td>63.0220</td>\n",
       "      <td>8.7802</td>\n",
       "    </tr>\n",
       "    <tr>\n",
       "      <th>8</th>\n",
       "      <td>15311</td>\n",
       "      <td>60402.2200</td>\n",
       "      <td>0.0000</td>\n",
       "      <td>91.0000</td>\n",
       "      <td>36978.0000</td>\n",
       "      <td>2326.0000</td>\n",
       "      <td>25.9683</td>\n",
       "      <td>4.1444</td>\n",
       "      <td>0.2433</td>\n",
       "      <td>474.0000</td>\n",
       "      <td>406.3516</td>\n",
       "      <td>6.0000</td>\n",
       "    </tr>\n",
       "    <tr>\n",
       "      <th>1015</th>\n",
       "      <td>14646</td>\n",
       "      <td>272345.6600</td>\n",
       "      <td>1.0000</td>\n",
       "      <td>72.0000</td>\n",
       "      <td>177148.0000</td>\n",
       "      <td>1905.0000</td>\n",
       "      <td>142.9636</td>\n",
       "      <td>7.8444</td>\n",
       "      <td>0.2034</td>\n",
       "      <td>288.0000</td>\n",
       "      <td>2460.3889</td>\n",
       "      <td>8.9861</td>\n",
       "    </tr>\n",
       "    <tr>\n",
       "      <th>278</th>\n",
       "      <td>13089</td>\n",
       "      <td>58638.9900</td>\n",
       "      <td>2.0000</td>\n",
       "      <td>97.0000</td>\n",
       "      <td>30554.0000</td>\n",
       "      <td>1806.0000</td>\n",
       "      <td>32.4690</td>\n",
       "      <td>4.4756</td>\n",
       "      <td>0.2636</td>\n",
       "      <td>283.0000</td>\n",
       "      <td>314.9897</td>\n",
       "      <td>6.4742</td>\n",
       "    </tr>\n",
       "    <tr>\n",
       "      <th>1395</th>\n",
       "      <td>13263</td>\n",
       "      <td>7096.7700</td>\n",
       "      <td>1.0000</td>\n",
       "      <td>34.0000</td>\n",
       "      <td>3644.0000</td>\n",
       "      <td>1577.0000</td>\n",
       "      <td>4.5002</td>\n",
       "      <td>10.1250</td>\n",
       "      <td>0.1046</td>\n",
       "      <td>0.0000</td>\n",
       "      <td>107.1765</td>\n",
       "      <td>11.8529</td>\n",
       "    </tr>\n",
       "    <tr>\n",
       "      <th>370</th>\n",
       "      <td>15039</td>\n",
       "      <td>19836.2000</td>\n",
       "      <td>9.0000</td>\n",
       "      <td>47.0000</td>\n",
       "      <td>8969.0000</td>\n",
       "      <td>1487.0000</td>\n",
       "      <td>13.3397</td>\n",
       "      <td>8.7561</td>\n",
       "      <td>0.1306</td>\n",
       "      <td>18.0000</td>\n",
       "      <td>190.8298</td>\n",
       "      <td>8.4255</td>\n",
       "    </tr>\n",
       "    <tr>\n",
       "      <th>190</th>\n",
       "      <td>14156</td>\n",
       "      <td>115727.3500</td>\n",
       "      <td>9.0000</td>\n",
       "      <td>55.0000</td>\n",
       "      <td>52013.0000</td>\n",
       "      <td>1353.0000</td>\n",
       "      <td>85.5339</td>\n",
       "      <td>7.2600</td>\n",
       "      <td>0.1515</td>\n",
       "      <td>859.0000</td>\n",
       "      <td>945.6909</td>\n",
       "      <td>12.4909</td>\n",
       "    </tr>\n",
       "    <tr>\n",
       "      <th>824</th>\n",
       "      <td>14298</td>\n",
       "      <td>45756.4200</td>\n",
       "      <td>8.0000</td>\n",
       "      <td>43.0000</td>\n",
       "      <td>36318.0000</td>\n",
       "      <td>1321.0000</td>\n",
       "      <td>34.6377</td>\n",
       "      <td>14.2800</td>\n",
       "      <td>0.1218</td>\n",
       "      <td>250.0000</td>\n",
       "      <td>844.6047</td>\n",
       "      <td>16.5581</td>\n",
       "    </tr>\n",
       "    <tr>\n",
       "      <th>299</th>\n",
       "      <td>18118</td>\n",
       "      <td>5614.5400</td>\n",
       "      <td>10.0000</td>\n",
       "      <td>26.0000</td>\n",
       "      <td>2734.0000</td>\n",
       "      <td>1253.0000</td>\n",
       "      <td>4.4809</td>\n",
       "      <td>13.8077</td>\n",
       "      <td>0.0722</td>\n",
       "      <td>5.0000</td>\n",
       "      <td>105.1538</td>\n",
       "      <td>15.8462</td>\n",
       "    </tr>\n",
       "    <tr>\n",
       "      <th>279</th>\n",
       "      <td>16033</td>\n",
       "      <td>8752.7700</td>\n",
       "      <td>5.0000</td>\n",
       "      <td>20.0000</td>\n",
       "      <td>3362.0000</td>\n",
       "      <td>1109.0000</td>\n",
       "      <td>7.8925</td>\n",
       "      <td>21.4118</td>\n",
       "      <td>0.0548</td>\n",
       "      <td>23.0000</td>\n",
       "      <td>168.1000</td>\n",
       "      <td>26.1500</td>\n",
       "    </tr>\n",
       "    <tr>\n",
       "      <th>560</th>\n",
       "      <td>15005</td>\n",
       "      <td>6176.5900</td>\n",
       "      <td>15.0000</td>\n",
       "      <td>28.0000</td>\n",
       "      <td>3847.0000</td>\n",
       "      <td>1073.0000</td>\n",
       "      <td>5.7564</td>\n",
       "      <td>13.0000</td>\n",
       "      <td>0.0795</td>\n",
       "      <td>42.0000</td>\n",
       "      <td>137.3929</td>\n",
       "      <td>11.8214</td>\n",
       "    </tr>\n",
       "  </tbody>\n",
       "</table>\n",
       "</div>"
      ],
      "text/plain": [
       "      customer_id    monetary  recency_days  qtde_invoices  qtde_items  qtde_products  avg_ticket  avg_recency_days  frequency  qtde_returns  avg_basket_size  avg_unique_basket_size\n",
       "68          17841  40276.2100        1.0000       123.0000  19368.0000      7599.0000      5.3002            3.3214     0.3298      189.0000         157.4634                 10.3008\n",
       "66          14911 136626.9600        1.0000       199.0000  66368.0000      5337.0000     25.6000            2.6014     0.5335     3217.0000         333.5075                  8.3668\n",
       "4394        14096  53258.4300        4.0000        17.0000  16336.0000      5095.0000     10.4531            6.0625     0.1735        0.0000         960.9412                 65.7647\n",
       "47          12748  30956.4100        0.0000       202.0000  20068.0000      4222.0000      7.3322            3.3909     0.5401     1487.0000          99.3465                  8.2030\n",
       "96          14606  11894.6800        1.0000        91.0000   5735.0000      2630.0000      4.5227            4.2759     0.2440      242.0000          63.0220                  8.7802\n",
       "8           15311  60402.2200        0.0000        91.0000  36978.0000      2326.0000     25.9683            4.1444     0.2433      474.0000         406.3516                  6.0000\n",
       "1015        14646 272345.6600        1.0000        72.0000 177148.0000      1905.0000    142.9636            7.8444     0.2034      288.0000        2460.3889                  8.9861\n",
       "278         13089  58638.9900        2.0000        97.0000  30554.0000      1806.0000     32.4690            4.4756     0.2636      283.0000         314.9897                  6.4742\n",
       "1395        13263   7096.7700        1.0000        34.0000   3644.0000      1577.0000      4.5002           10.1250     0.1046        0.0000         107.1765                 11.8529\n",
       "370         15039  19836.2000        9.0000        47.0000   8969.0000      1487.0000     13.3397            8.7561     0.1306       18.0000         190.8298                  8.4255\n",
       "190         14156 115727.3500        9.0000        55.0000  52013.0000      1353.0000     85.5339            7.2600     0.1515      859.0000         945.6909                 12.4909\n",
       "824         14298  45756.4200        8.0000        43.0000  36318.0000      1321.0000     34.6377           14.2800     0.1218      250.0000         844.6047                 16.5581\n",
       "299         18118   5614.5400       10.0000        26.0000   2734.0000      1253.0000      4.4809           13.8077     0.0722        5.0000         105.1538                 15.8462\n",
       "279         16033   8752.7700        5.0000        20.0000   3362.0000      1109.0000      7.8925           21.4118     0.0548       23.0000         168.1000                 26.1500\n",
       "560         15005   6176.5900       15.0000        28.0000   3847.0000      1073.0000      5.7564           13.0000     0.0795       42.0000         137.3929                 11.8214"
      ]
     },
     "execution_count": 48,
     "metadata": {},
     "output_type": "execute_result"
    }
   ],
   "source": [
    "df4.sort_values('qtde_products', ascending=False).head(15)"
   ]
  },
  {
   "cell_type": "markdown",
   "id": "fcb7c1e1",
   "metadata": {
    "heading_collapsed": true,
    "hidden": true
   },
   "source": [
    "### 4.1.5. frequency"
   ]
  },
  {
   "cell_type": "code",
   "execution_count": 49,
   "id": "84afface",
   "metadata": {
    "ExecuteTime": {
     "end_time": "2021-08-27T19:18:53.504693Z",
     "start_time": "2021-08-27T19:18:53.116173Z"
    },
    "hidden": true
   },
   "outputs": [
    {
     "data": {
      "text/html": [
       "<div>\n",
       "<style scoped>\n",
       "    .dataframe tbody tr th:only-of-type {\n",
       "        vertical-align: middle;\n",
       "    }\n",
       "\n",
       "    .dataframe tbody tr th {\n",
       "        vertical-align: top;\n",
       "    }\n",
       "\n",
       "    .dataframe thead th {\n",
       "        text-align: right;\n",
       "    }\n",
       "</style>\n",
       "<table border=\"1\" class=\"dataframe\">\n",
       "  <thead>\n",
       "    <tr style=\"text-align: right;\">\n",
       "      <th></th>\n",
       "      <th>customer_id</th>\n",
       "      <th>monetary</th>\n",
       "      <th>recency_days</th>\n",
       "      <th>qtde_invoices</th>\n",
       "      <th>qtde_items</th>\n",
       "      <th>qtde_products</th>\n",
       "      <th>avg_ticket</th>\n",
       "      <th>avg_recency_days</th>\n",
       "      <th>frequency</th>\n",
       "      <th>qtde_returns</th>\n",
       "      <th>avg_basket_size</th>\n",
       "      <th>avg_unique_basket_size</th>\n",
       "    </tr>\n",
       "  </thead>\n",
       "  <tbody>\n",
       "    <tr>\n",
       "      <th>0</th>\n",
       "      <td>17850</td>\n",
       "      <td>5391.2100</td>\n",
       "      <td>372.0000</td>\n",
       "      <td>34.0000</td>\n",
       "      <td>1733.0000</td>\n",
       "      <td>297.0000</td>\n",
       "      <td>18.1522</td>\n",
       "      <td>35.5000</td>\n",
       "      <td>17.0000</td>\n",
       "      <td>40.0000</td>\n",
       "      <td>50.9706</td>\n",
       "      <td>0.6176</td>\n",
       "    </tr>\n",
       "    <tr>\n",
       "      <th>5563</th>\n",
       "      <td>18139</td>\n",
       "      <td>8438.3400</td>\n",
       "      <td>17.0000</td>\n",
       "      <td>6.0000</td>\n",
       "      <td>5557.0000</td>\n",
       "      <td>159.0000</td>\n",
       "      <td>53.0713</td>\n",
       "      <td>1.0000</td>\n",
       "      <td>3.0000</td>\n",
       "      <td>0.0000</td>\n",
       "      <td>926.1667</td>\n",
       "      <td>5.8333</td>\n",
       "    </tr>\n",
       "    <tr>\n",
       "      <th>803</th>\n",
       "      <td>15468</td>\n",
       "      <td>467.5100</td>\n",
       "      <td>51.0000</td>\n",
       "      <td>2.0000</td>\n",
       "      <td>155.0000</td>\n",
       "      <td>24.0000</td>\n",
       "      <td>19.4796</td>\n",
       "      <td>108.3333</td>\n",
       "      <td>2.0000</td>\n",
       "      <td>5.0000</td>\n",
       "      <td>77.5000</td>\n",
       "      <td>12.0000</td>\n",
       "    </tr>\n",
       "    <tr>\n",
       "      <th>3510</th>\n",
       "      <td>17900</td>\n",
       "      <td>112.2000</td>\n",
       "      <td>190.0000</td>\n",
       "      <td>2.0000</td>\n",
       "      <td>73.0000</td>\n",
       "      <td>6.0000</td>\n",
       "      <td>18.7000</td>\n",
       "      <td>26.0000</td>\n",
       "      <td>2.0000</td>\n",
       "      <td>72.0000</td>\n",
       "      <td>36.5000</td>\n",
       "      <td>2.0000</td>\n",
       "    </tr>\n",
       "    <tr>\n",
       "      <th>4171</th>\n",
       "      <td>13388</td>\n",
       "      <td>677.1000</td>\n",
       "      <td>131.0000</td>\n",
       "      <td>2.0000</td>\n",
       "      <td>282.0000</td>\n",
       "      <td>35.0000</td>\n",
       "      <td>19.3457</td>\n",
       "      <td>10.0000</td>\n",
       "      <td>2.0000</td>\n",
       "      <td>1.0000</td>\n",
       "      <td>141.0000</td>\n",
       "      <td>17.5000</td>\n",
       "    </tr>\n",
       "    <tr>\n",
       "      <th>1722</th>\n",
       "      <td>12410</td>\n",
       "      <td>533.3300</td>\n",
       "      <td>308.0000</td>\n",
       "      <td>2.0000</td>\n",
       "      <td>207.0000</td>\n",
       "      <td>25.0000</td>\n",
       "      <td>21.3332</td>\n",
       "      <td>7.0000</td>\n",
       "      <td>2.0000</td>\n",
       "      <td>2.0000</td>\n",
       "      <td>103.5000</td>\n",
       "      <td>12.5000</td>\n",
       "    </tr>\n",
       "    <tr>\n",
       "      <th>82</th>\n",
       "      <td>16048</td>\n",
       "      <td>256.4400</td>\n",
       "      <td>373.0000</td>\n",
       "      <td>2.0000</td>\n",
       "      <td>144.0000</td>\n",
       "      <td>8.0000</td>\n",
       "      <td>32.0550</td>\n",
       "      <td>288.0000</td>\n",
       "      <td>2.0000</td>\n",
       "      <td>1.0000</td>\n",
       "      <td>72.0000</td>\n",
       "      <td>4.0000</td>\n",
       "    </tr>\n",
       "    <tr>\n",
       "      <th>5682</th>\n",
       "      <td>15060</td>\n",
       "      <td>281.6700</td>\n",
       "      <td>8.0000</td>\n",
       "      <td>3.0000</td>\n",
       "      <td>187.0000</td>\n",
       "      <td>100.0000</td>\n",
       "      <td>2.8167</td>\n",
       "      <td>1.0000</td>\n",
       "      <td>1.5000</td>\n",
       "      <td>0.0000</td>\n",
       "      <td>62.3333</td>\n",
       "      <td>22.6667</td>\n",
       "    </tr>\n",
       "    <tr>\n",
       "      <th>4901</th>\n",
       "      <td>17509</td>\n",
       "      <td>6115.1400</td>\n",
       "      <td>57.0000</td>\n",
       "      <td>8.0000</td>\n",
       "      <td>3534.0000</td>\n",
       "      <td>366.0000</td>\n",
       "      <td>16.7080</td>\n",
       "      <td>3.0000</td>\n",
       "      <td>1.1429</td>\n",
       "      <td>4.0000</td>\n",
       "      <td>441.7500</td>\n",
       "      <td>9.3750</td>\n",
       "    </tr>\n",
       "    <tr>\n",
       "      <th>2840</th>\n",
       "      <td>12982</td>\n",
       "      <td>374.1800</td>\n",
       "      <td>242.0000</td>\n",
       "      <td>1.0000</td>\n",
       "      <td>244.0000</td>\n",
       "      <td>26.0000</td>\n",
       "      <td>14.3915</td>\n",
       "      <td>3.0000</td>\n",
       "      <td>1.0000</td>\n",
       "      <td>9.0000</td>\n",
       "      <td>244.0000</td>\n",
       "      <td>26.0000</td>\n",
       "    </tr>\n",
       "    <tr>\n",
       "      <th>2839</th>\n",
       "      <td>14339</td>\n",
       "      <td>309.5200</td>\n",
       "      <td>242.0000</td>\n",
       "      <td>1.0000</td>\n",
       "      <td>168.0000</td>\n",
       "      <td>14.0000</td>\n",
       "      <td>22.1086</td>\n",
       "      <td>4.0000</td>\n",
       "      <td>1.0000</td>\n",
       "      <td>17.0000</td>\n",
       "      <td>168.0000</td>\n",
       "      <td>14.0000</td>\n",
       "    </tr>\n",
       "    <tr>\n",
       "      <th>2838</th>\n",
       "      <td>14311</td>\n",
       "      <td>296.2200</td>\n",
       "      <td>242.0000</td>\n",
       "      <td>1.0000</td>\n",
       "      <td>110.0000</td>\n",
       "      <td>19.0000</td>\n",
       "      <td>15.5905</td>\n",
       "      <td>17.0000</td>\n",
       "      <td>1.0000</td>\n",
       "      <td>16.0000</td>\n",
       "      <td>110.0000</td>\n",
       "      <td>19.0000</td>\n",
       "    </tr>\n",
       "    <tr>\n",
       "      <th>2829</th>\n",
       "      <td>15655</td>\n",
       "      <td>560.6700</td>\n",
       "      <td>243.0000</td>\n",
       "      <td>1.0000</td>\n",
       "      <td>324.0000</td>\n",
       "      <td>34.0000</td>\n",
       "      <td>16.4903</td>\n",
       "      <td>10.0000</td>\n",
       "      <td>1.0000</td>\n",
       "      <td>5.0000</td>\n",
       "      <td>324.0000</td>\n",
       "      <td>34.0000</td>\n",
       "    </tr>\n",
       "    <tr>\n",
       "      <th>2804</th>\n",
       "      <td>15109</td>\n",
       "      <td>484.9500</td>\n",
       "      <td>245.0000</td>\n",
       "      <td>1.0000</td>\n",
       "      <td>131.0000</td>\n",
       "      <td>28.0000</td>\n",
       "      <td>17.3196</td>\n",
       "      <td>5.0000</td>\n",
       "      <td>1.0000</td>\n",
       "      <td>4.0000</td>\n",
       "      <td>131.0000</td>\n",
       "      <td>28.0000</td>\n",
       "    </tr>\n",
       "    <tr>\n",
       "      <th>2794</th>\n",
       "      <td>14619</td>\n",
       "      <td>394.4400</td>\n",
       "      <td>245.0000</td>\n",
       "      <td>1.0000</td>\n",
       "      <td>152.0000</td>\n",
       "      <td>20.0000</td>\n",
       "      <td>19.7220</td>\n",
       "      <td>6.0000</td>\n",
       "      <td>1.0000</td>\n",
       "      <td>7.0000</td>\n",
       "      <td>152.0000</td>\n",
       "      <td>20.0000</td>\n",
       "    </tr>\n",
       "  </tbody>\n",
       "</table>\n",
       "</div>"
      ],
      "text/plain": [
       "      customer_id  monetary  recency_days  qtde_invoices  qtde_items  qtde_products  avg_ticket  avg_recency_days  frequency  qtde_returns  avg_basket_size  avg_unique_basket_size\n",
       "0           17850 5391.2100      372.0000        34.0000   1733.0000       297.0000     18.1522           35.5000    17.0000       40.0000          50.9706                  0.6176\n",
       "5563        18139 8438.3400       17.0000         6.0000   5557.0000       159.0000     53.0713            1.0000     3.0000        0.0000         926.1667                  5.8333\n",
       "803         15468  467.5100       51.0000         2.0000    155.0000        24.0000     19.4796          108.3333     2.0000        5.0000          77.5000                 12.0000\n",
       "3510        17900  112.2000      190.0000         2.0000     73.0000         6.0000     18.7000           26.0000     2.0000       72.0000          36.5000                  2.0000\n",
       "4171        13388  677.1000      131.0000         2.0000    282.0000        35.0000     19.3457           10.0000     2.0000        1.0000         141.0000                 17.5000\n",
       "1722        12410  533.3300      308.0000         2.0000    207.0000        25.0000     21.3332            7.0000     2.0000        2.0000         103.5000                 12.5000\n",
       "82          16048  256.4400      373.0000         2.0000    144.0000         8.0000     32.0550          288.0000     2.0000        1.0000          72.0000                  4.0000\n",
       "5682        15060  281.6700        8.0000         3.0000    187.0000       100.0000      2.8167            1.0000     1.5000        0.0000          62.3333                 22.6667\n",
       "4901        17509 6115.1400       57.0000         8.0000   3534.0000       366.0000     16.7080            3.0000     1.1429        4.0000         441.7500                  9.3750\n",
       "2840        12982  374.1800      242.0000         1.0000    244.0000        26.0000     14.3915            3.0000     1.0000        9.0000         244.0000                 26.0000\n",
       "2839        14339  309.5200      242.0000         1.0000    168.0000        14.0000     22.1086            4.0000     1.0000       17.0000         168.0000                 14.0000\n",
       "2838        14311  296.2200      242.0000         1.0000    110.0000        19.0000     15.5905           17.0000     1.0000       16.0000         110.0000                 19.0000\n",
       "2829        15655  560.6700      243.0000         1.0000    324.0000        34.0000     16.4903           10.0000     1.0000        5.0000         324.0000                 34.0000\n",
       "2804        15109  484.9500      245.0000         1.0000    131.0000        28.0000     17.3196            5.0000     1.0000        4.0000         131.0000                 28.0000\n",
       "2794        14619  394.4400      245.0000         1.0000    152.0000        20.0000     19.7220            6.0000     1.0000        7.0000         152.0000                 20.0000"
      ]
     },
     "execution_count": 49,
     "metadata": {},
     "output_type": "execute_result"
    }
   ],
   "source": [
    "df4.sort_values('frequency', ascending=False).head(15)"
   ]
  },
  {
   "cell_type": "markdown",
   "id": "29e65d0e",
   "metadata": {
    "heading_collapsed": true
   },
   "source": [
    "## 4.2. Bivariate Analysis"
   ]
  },
  {
   "cell_type": "code",
   "execution_count": 50,
   "id": "cfc93b87",
   "metadata": {
    "ExecuteTime": {
     "end_time": "2021-08-27T19:18:53.532424Z",
     "start_time": "2021-08-27T19:18:53.518890Z"
    },
    "hidden": true,
    "scrolled": true
   },
   "outputs": [],
   "source": [
    "# sns.pairplot(df5);"
   ]
  },
  {
   "cell_type": "markdown",
   "id": "750cdf49",
   "metadata": {},
   "source": [
    "## 4.3. Space Study"
   ]
  },
  {
   "cell_type": "code",
   "execution_count": 51,
   "id": "8bdf11fc",
   "metadata": {
    "ExecuteTime": {
     "end_time": "2021-08-27T19:18:53.573373Z",
     "start_time": "2021-08-27T19:18:53.558039Z"
    }
   },
   "outputs": [],
   "source": [
    "df43 = df4.drop(columns=['customer_id']).copy()"
   ]
  },
  {
   "cell_type": "code",
   "execution_count": 52,
   "id": "98135fd4",
   "metadata": {
    "ExecuteTime": {
     "end_time": "2021-08-27T19:18:53.696005Z",
     "start_time": "2021-08-27T19:18:53.589234Z"
    }
   },
   "outputs": [],
   "source": [
    "mms = pp.MinMaxScaler()\n",
    "\n",
    "df43['monetary'] = mms.fit_transform( df43[['monetary']].values )\n",
    "df43['recency_days'] = mms.fit_transform( df43[['recency_days']].values )\n",
    "df43['qtde_invoices'] = mms.fit_transform( df43[['qtde_invoices']].values )\n",
    "df43['qtde_items'] = mms.fit_transform( df43[['qtde_items']].values )\n",
    "df43['qtde_products'] = mms.fit_transform( df43[['qtde_products']].values )\n",
    "df43['avg_ticket'] = mms.fit_transform( df43[['avg_ticket']].values )\n",
    "df43['avg_recency_days'] = mms.fit_transform( df43[['avg_recency_days']].values )\n",
    "df43['frequency'] = mms.fit_transform( df43[['frequency']].values )\n",
    "df43['qtde_returns'] = mms.fit_transform( df43[['qtde_returns']].values )\n",
    "df43['avg_basket_size'] = mms.fit_transform( df43[['avg_basket_size']].values )\n",
    "df43['avg_unique_basket_size'] = mms.fit_transform( df43[['avg_unique_basket_size']].values )\n",
    "\n",
    "X = df43.copy()"
   ]
  },
  {
   "cell_type": "markdown",
   "id": "1893b119",
   "metadata": {},
   "source": [
    "### 4.3.1. PCA"
   ]
  },
  {
   "cell_type": "code",
   "execution_count": 53,
   "id": "5ee7c65a",
   "metadata": {
    "ExecuteTime": {
     "end_time": "2021-08-27T19:18:53.705675Z",
     "start_time": "2021-08-27T19:18:53.701410Z"
    }
   },
   "outputs": [],
   "source": [
    "# pca = PCA(n_components=X.shape[1])\n",
    "\n",
    "# principal_components = pca.fit_transform( X )\n",
    "\n",
    "# features = range(pca.n_components_)\n",
    "\n",
    "# # plot PCA \n",
    "# plt.bar( features, pca.explained_variance_ratio_, color='black' );"
   ]
  },
  {
   "cell_type": "code",
   "execution_count": 54,
   "id": "c12d46ee",
   "metadata": {
    "ExecuteTime": {
     "end_time": "2021-08-27T19:18:53.731747Z",
     "start_time": "2021-08-27T19:18:53.725455Z"
    }
   },
   "outputs": [],
   "source": [
    "# df_pca = pd.DataFrame(principal_components)"
   ]
  },
  {
   "cell_type": "code",
   "execution_count": 55,
   "id": "2af9f97a",
   "metadata": {
    "ExecuteTime": {
     "end_time": "2021-08-27T19:18:53.743945Z",
     "start_time": "2021-08-27T19:18:53.739184Z"
    }
   },
   "outputs": [],
   "source": [
    "# sns.scatterplot( x=0, y=1, data=df_pca );"
   ]
  },
  {
   "cell_type": "markdown",
   "id": "3b668999",
   "metadata": {},
   "source": [
    "### 4.3.2. UMAP"
   ]
  },
  {
   "cell_type": "code",
   "execution_count": 56,
   "id": "892829d9",
   "metadata": {
    "ExecuteTime": {
     "end_time": "2021-08-27T19:18:53.763305Z",
     "start_time": "2021-08-27T19:18:53.758374Z"
    }
   },
   "outputs": [],
   "source": [
    "# df_umap = pd.DataFrame()"
   ]
  },
  {
   "cell_type": "code",
   "execution_count": 57,
   "id": "f141f415",
   "metadata": {
    "ExecuteTime": {
     "end_time": "2021-08-27T19:18:53.811658Z",
     "start_time": "2021-08-27T19:18:53.794340Z"
    }
   },
   "outputs": [],
   "source": [
    "# reducer = UMAP( random_state=42 )\n",
    "# embedding = reducer.fit_transform( X )\n",
    "\n",
    "# # embedding\n",
    "# df_umap['x'] = embedding[:, 0]\n",
    "# df_umap['y'] = embedding[:, 1]\n",
    "\n",
    "# # plot UMAP\n",
    "# sns.scatterplot( x='x', y='y', data=df_umap);"
   ]
  },
  {
   "cell_type": "markdown",
   "id": "13c786ad",
   "metadata": {
    "heading_collapsed": true
   },
   "source": [
    "### 4.3.3. t-SNE"
   ]
  },
  {
   "cell_type": "code",
   "execution_count": 58,
   "id": "2c23f0e2",
   "metadata": {
    "ExecuteTime": {
     "end_time": "2021-08-27T19:18:53.856393Z",
     "start_time": "2021-08-27T19:18:53.838267Z"
    },
    "hidden": true
   },
   "outputs": [],
   "source": [
    "# df_tsne = pd.DataFrame()"
   ]
  },
  {
   "cell_type": "code",
   "execution_count": 59,
   "id": "7ec8c77c",
   "metadata": {
    "ExecuteTime": {
     "end_time": "2021-08-27T19:18:53.865911Z",
     "start_time": "2021-08-27T19:18:53.861365Z"
    },
    "hidden": true
   },
   "outputs": [],
   "source": [
    "# reducer = TSNE(n_components=2, random_state=42)\n",
    "# embedding = reducer.fit_transform( X )\n",
    "\n",
    "# # embedding\n",
    "# df_tsne['x'] = embedding[:, 0]\n",
    "# df_tsne['y'] = embedding[:, 1]\n",
    "\n",
    "# # plot t-SNE\n",
    "# sns.scatterplot( x='x', y='y', data=df_tsne);"
   ]
  },
  {
   "cell_type": "markdown",
   "id": "47b38921",
   "metadata": {
    "heading_collapsed": true
   },
   "source": [
    "### 4.3.4. Tree-Based Embbedding"
   ]
  },
  {
   "cell_type": "code",
   "execution_count": 60,
   "id": "77ad5bfc",
   "metadata": {
    "ExecuteTime": {
     "end_time": "2021-08-27T19:18:56.429073Z",
     "start_time": "2021-08-27T19:18:53.872123Z"
    },
    "hidden": true
   },
   "outputs": [
    {
     "data": {
      "text/plain": [
       "RandomForestRegressor(random_state=42)"
      ]
     },
     "execution_count": 60,
     "metadata": {},
     "output_type": "execute_result"
    }
   ],
   "source": [
    "X = df4.drop(columns=['customer_id', 'monetary'])\n",
    "y = df4['monetary']\n",
    "\n",
    "# model training\n",
    "rf_model = en.RandomForestRegressor( n_estimators=100, random_state=42 )\n",
    "\n",
    "# model training definition\n",
    "rf_model.fit( X, y)"
   ]
  },
  {
   "cell_type": "code",
   "execution_count": 61,
   "id": "2872e432",
   "metadata": {
    "ExecuteTime": {
     "end_time": "2021-08-27T19:18:56.570945Z",
     "start_time": "2021-08-27T19:18:56.434260Z"
    },
    "hidden": true
   },
   "outputs": [],
   "source": [
    "df_leaf = pd.DataFrame( rf_model.apply( X ) )"
   ]
  },
  {
   "cell_type": "code",
   "execution_count": 62,
   "id": "2752786d",
   "metadata": {
    "ExecuteTime": {
     "end_time": "2021-08-27T19:18:56.599049Z",
     "start_time": "2021-08-27T19:18:56.573619Z"
    },
    "hidden": true
   },
   "outputs": [
    {
     "data": {
      "text/plain": [
       "((2956, 10), (2956, 100))"
      ]
     },
     "execution_count": 62,
     "metadata": {},
     "output_type": "execute_result"
    }
   ],
   "source": [
    "X.shape, df_leaf.shape"
   ]
  },
  {
   "cell_type": "code",
   "execution_count": 63,
   "id": "b8e6c5a3",
   "metadata": {
    "ExecuteTime": {
     "end_time": "2021-08-27T19:19:26.315777Z",
     "start_time": "2021-08-27T19:18:56.603551Z"
    },
    "hidden": true
   },
   "outputs": [
    {
     "data": {
      "image/png": "[encoded data removed]",
      "text/plain": [
       "<Figure size 1728x648 with 1 Axes>"
      ]
     },
     "metadata": {},
     "output_type": "display_data"
    }
   ],
   "source": [
    "df_leaf_umap = pd.DataFrame()\n",
    "\n",
    "# reduzer dimensionality\n",
    "reducer = UMAP(random_state=42)\n",
    "embedding = reducer.fit_transform( df_leaf )\n",
    "\n",
    "# embedding\n",
    "df_leaf_umap['x'] = embedding[:, 0]\n",
    "df_leaf_umap['y'] = embedding[:, 1]\n",
    "\n",
    "# plot \n",
    "sns.scatterplot( x='x', y='y', data=df_leaf_umap );"
   ]
  },
  {
   "cell_type": "markdown",
   "id": "6c467b8f",
   "metadata": {
    "heading_collapsed": true
   },
   "source": [
    "# 5.0. Data Preparation "
   ]
  },
  {
   "cell_type": "code",
   "execution_count": 64,
   "id": "f6a73114",
   "metadata": {
    "ExecuteTime": {
     "end_time": "2021-08-27T19:19:26.333591Z",
     "start_time": "2021-08-27T19:19:26.317965Z"
    },
    "hidden": true
   },
   "outputs": [],
   "source": [
    "df5 = df4.copy()"
   ]
  },
  {
   "cell_type": "code",
   "execution_count": 65,
   "id": "f79af9c6",
   "metadata": {
    "ExecuteTime": {
     "end_time": "2021-08-27T19:19:27.478330Z",
     "start_time": "2021-08-27T19:19:26.336857Z"
    },
    "hidden": true
   },
   "outputs": [
    {
     "data": {
      "image/png": "[encoded data removed]",
      "text/plain": [
       "<Figure size 1728x648 with 1 Axes>"
      ]
     },
     "metadata": {},
     "output_type": "display_data"
    }
   ],
   "source": [
    "cols = ['monetary', 'recency_days', 'qtde_invoices',\n",
    "        'qtde_items', 'qtde_products', 'avg_ticket', 'avg_recency_days',\n",
    "        'frequency', 'qtde_returns', 'avg_basket_size',\n",
    "        'avg_unique_basket_size']\n",
    "\n",
    "plt.title('Before the scale', size=30)\n",
    "for col in cols:\n",
    "    sns.kdeplot(df5[col], label=col);\n",
    "    plt.legend();"
   ]
  },
  {
   "cell_type": "code",
   "execution_count": 66,
   "id": "b263bac2",
   "metadata": {
    "ExecuteTime": {
     "end_time": "2021-08-27T19:19:27.596210Z",
     "start_time": "2021-08-27T19:19:27.481570Z"
    },
    "hidden": true
   },
   "outputs": [],
   "source": [
    "ss = pp.StandardScaler()\n",
    "\n",
    "df5['monetary'] = ss.fit_transform(df5[['monetary']])\n",
    "df5['recency_days'] = ss.fit_transform(df5[['recency_days']])\n",
    "df5['qtde_invoices'] = ss.fit_transform(df5[['qtde_invoices']])\n",
    "df5['qtde_items'] = ss.fit_transform(df5[['qtde_items']])\n",
    "df5['qtde_products'] = ss.fit_transform(df5[['qtde_products']])\n",
    "df5['avg_ticket'] = ss.fit_transform(df5[['avg_ticket']])\n",
    "df5['avg_recency_days'] = ss.fit_transform(df5[['avg_recency_days']])\n",
    "df5['frequency'] = ss.fit_transform(df5[['frequency']])\n",
    "df5['qtde_returns'] = ss.fit_transform(df5[['qtde_returns']])\n",
    "df5['avg_basket_size'] = ss.fit_transform(df5[['avg_basket_size']])\n",
    "df5['avg_unique_basket_size'] = ss.fit_transform(df5[['avg_unique_basket_size']])"
   ]
  },
  {
   "cell_type": "code",
   "execution_count": 67,
   "id": "34021edc",
   "metadata": {
    "ExecuteTime": {
     "end_time": "2021-08-27T19:19:28.778393Z",
     "start_time": "2021-08-27T19:19:27.599757Z"
    },
    "hidden": true
   },
   "outputs": [
    {
     "data": {
      "image/png": "[encoded data removed]",
      "text/plain": [
       "<Figure size 1728x648 with 1 Axes>"
      ]
     },
     "metadata": {},
     "output_type": "display_data"
    }
   ],
   "source": [
    "cols = ['monetary', 'recency_days', 'qtde_invoices',\n",
    "        'qtde_items', 'qtde_products', 'avg_ticket', 'avg_recency_days',\n",
    "        'frequency', 'qtde_returns', 'avg_basket_size',\n",
    "        'avg_unique_basket_size']\n",
    "plt.title('After the scale', size=30)\n",
    "for col in cols:\n",
    "    sns.kdeplot(df5[col], label=col);\n",
    "    plt.legend();"
   ]
  },
  {
   "cell_type": "markdown",
   "id": "eb80c6d9",
   "metadata": {
    "heading_collapsed": true
   },
   "source": [
    "# 6.0. Feature Selection"
   ]
  },
  {
   "cell_type": "code",
   "execution_count": 68,
   "id": "1ac770e9",
   "metadata": {
    "ExecuteTime": {
     "end_time": "2021-08-27T19:19:28.786504Z",
     "start_time": "2021-08-27T19:19:28.781516Z"
    },
    "hidden": true
   },
   "outputs": [],
   "source": [
    "df6 = df5.copy()"
   ]
  },
  {
   "cell_type": "markdown",
   "id": "102e3348",
   "metadata": {},
   "source": [
    "# 7.0. Hyperpameter Fine Tuning"
   ]
  },
  {
   "cell_type": "code",
   "execution_count": 69,
   "id": "7339f801",
   "metadata": {
    "ExecuteTime": {
     "end_time": "2021-08-27T19:19:28.806848Z",
     "start_time": "2021-08-27T19:19:28.791566Z"
    }
   },
   "outputs": [
    {
     "data": {
      "text/html": [
       "<div>\n",
       "<style scoped>\n",
       "    .dataframe tbody tr th:only-of-type {\n",
       "        vertical-align: middle;\n",
       "    }\n",
       "\n",
       "    .dataframe tbody tr th {\n",
       "        vertical-align: top;\n",
       "    }\n",
       "\n",
       "    .dataframe thead th {\n",
       "        text-align: right;\n",
       "    }\n",
       "</style>\n",
       "<table border=\"1\" class=\"dataframe\">\n",
       "  <thead>\n",
       "    <tr style=\"text-align: right;\">\n",
       "      <th></th>\n",
       "      <th>x</th>\n",
       "      <th>y</th>\n",
       "    </tr>\n",
       "  </thead>\n",
       "  <tbody>\n",
       "    <tr>\n",
       "      <th>0</th>\n",
       "      <td>-8.9020</td>\n",
       "      <td>9.5355</td>\n",
       "    </tr>\n",
       "    <tr>\n",
       "      <th>1</th>\n",
       "      <td>-2.2245</td>\n",
       "      <td>11.8532</td>\n",
       "    </tr>\n",
       "    <tr>\n",
       "      <th>2</th>\n",
       "      <td>-2.9032</td>\n",
       "      <td>0.2275</td>\n",
       "    </tr>\n",
       "    <tr>\n",
       "      <th>3</th>\n",
       "      <td>3.0555</td>\n",
       "      <td>5.5054</td>\n",
       "    </tr>\n",
       "    <tr>\n",
       "      <th>4</th>\n",
       "      <td>12.7020</td>\n",
       "      <td>-1.6218</td>\n",
       "    </tr>\n",
       "  </tbody>\n",
       "</table>\n",
       "</div>"
      ],
      "text/plain": [
       "        x       y\n",
       "0 -8.9020  9.5355\n",
       "1 -2.2245 11.8532\n",
       "2 -2.9032  0.2275\n",
       "3  3.0555  5.5054\n",
       "4 12.7020 -1.6218"
      ]
     },
     "execution_count": 69,
     "metadata": {},
     "output_type": "execute_result"
    }
   ],
   "source": [
    "# X = df6.drop(columns=['customer_id'])\n",
    "X = df_leaf_umap.copy()\n",
    "\n",
    "X.head()"
   ]
  },
  {
   "cell_type": "code",
   "execution_count": 70,
   "id": "0fd429b7",
   "metadata": {
    "ExecuteTime": {
     "end_time": "2021-08-27T19:19:28.824151Z",
     "start_time": "2021-08-27T19:19:28.810037Z"
    }
   },
   "outputs": [],
   "source": [
    "clusters = np.arange(2, 20, 1)"
   ]
  },
  {
   "cell_type": "markdown",
   "id": "2b0e471b",
   "metadata": {},
   "source": [
    "## 7.1. K-Means"
   ]
  },
  {
   "cell_type": "code",
   "execution_count": 71,
   "id": "1eb55aeb",
   "metadata": {
    "ExecuteTime": {
     "end_time": "2021-08-27T19:19:43.825297Z",
     "start_time": "2021-08-27T19:19:28.830611Z"
    }
   },
   "outputs": [],
   "source": [
    "kmeans_list = []\n",
    "\n",
    "for k in clusters:\n",
    "    # model definition\n",
    "    kmeans_model = cluster.KMeans(n_clusters=k, n_init=10, random_state=42)\n",
    "\n",
    "    # model trianing\n",
    "    kmeans_model.fit( X )\n",
    "\n",
    "    # model predict\n",
    "    labels = kmeans_model.predict( X )\n",
    "\n",
    "    # model perfomance\n",
    "    sil = metrics.silhouette_score( X, labels, metric='euclidean' )\n",
    "\n",
    "    kmeans_list.append(sil)"
   ]
  },
  {
   "cell_type": "code",
   "execution_count": 72,
   "id": "ac4e23e4",
   "metadata": {
    "ExecuteTime": {
     "end_time": "2021-08-27T19:19:44.514479Z",
     "start_time": "2021-08-27T19:19:43.830329Z"
    }
   },
   "outputs": [
    {
     "data": {
      "image/png": "[encoded data removed]",
      "text/plain": [
       "<Figure size 1728x648 with 1 Axes>"
      ]
     },
     "metadata": {},
     "output_type": "display_data"
    }
   ],
   "source": [
    "plt.plot( clusters, kmeans_list, linestyle='--', marker='o', color='b' )\n",
    "plt.xlabel( 'K' )\n",
    "plt.ylabel( 'Avarege Silhouette' )\n",
    "plt.title( 'K-Means - Silhouette vs K' );"
   ]
  },
  {
   "cell_type": "markdown",
   "id": "8ecde751",
   "metadata": {},
   "source": [
    "## 7.2. GMM"
   ]
  },
  {
   "cell_type": "code",
   "execution_count": 73,
   "id": "0a7f7661",
   "metadata": {
    "ExecuteTime": {
     "end_time": "2021-08-27T19:20:15.397244Z",
     "start_time": "2021-08-27T19:19:44.524514Z"
    }
   },
   "outputs": [],
   "source": [
    "gmm_list = []\n",
    "\n",
    "for k in clusters:\n",
    "    # model definition\n",
    "    gmm_model = gm(n_components=k, n_init=10)\n",
    "\n",
    "    # model training\n",
    "    gmm_model.fit(X)\n",
    "\n",
    "    # model predict\n",
    "    labels = gmm_model.predict(X)\n",
    "\n",
    "    # model permannce\n",
    "    sil = metrics.silhouette_score(X, labels, metric='euclidean')\n",
    "\n",
    "    gmm_list.append(sil)"
   ]
  },
  {
   "cell_type": "code",
   "execution_count": 74,
   "id": "18f7b8ed",
   "metadata": {
    "ExecuteTime": {
     "end_time": "2021-08-27T19:20:16.134224Z",
     "start_time": "2021-08-27T19:20:15.399670Z"
    }
   },
   "outputs": [
    {
     "data": {
      "image/png": "[encoded data removed]",
      "text/plain": [
       "<Figure size 1728x648 with 1 Axes>"
      ]
     },
     "metadata": {},
     "output_type": "display_data"
    }
   ],
   "source": [
    "plt.plot( clusters, gmm_list, linestyle='--', marker='o' )\n",
    "plt.xlabel( 'K' )\n",
    "plt.ylabel( 'Avarege Silhouette' )\n",
    "plt.title( 'GMM Model - Silhouette vs K' );"
   ]
  },
  {
   "cell_type": "markdown",
   "id": "bd2859e2",
   "metadata": {},
   "source": [
    "## 7.3. Hierarchial Clustering"
   ]
  },
  {
   "cell_type": "code",
   "execution_count": 75,
   "id": "d4f33690",
   "metadata": {
    "ExecuteTime": {
     "end_time": "2021-08-27T19:20:16.146292Z",
     "start_time": "2021-08-27T19:20:16.136892Z"
    }
   },
   "outputs": [],
   "source": [
    "# dendrogram\n",
    "# kc_model = hc.linkage( X, 'ward')\n",
    "# hc.dendrogram(\n",
    "#     kc_model\n",
    "# )\n",
    "# plt.plot();"
   ]
  },
  {
   "cell_type": "code",
   "execution_count": 76,
   "id": "71d5c719",
   "metadata": {
    "ExecuteTime": {
     "end_time": "2021-08-27T19:20:27.948631Z",
     "start_time": "2021-08-27T19:20:16.149358Z"
    }
   },
   "outputs": [],
   "source": [
    "hc_list = []\n",
    "\n",
    "for k in clusters:\n",
    "    # model definition and training \n",
    "    hc_model = hc.linkage( X, 'ward' )\n",
    "\n",
    "    # model predict\n",
    "    labels = hc.fcluster( hc_model, k, criterion='maxclust' )\n",
    "\n",
    "    # model perfomance\n",
    "    sil = metrics.silhouette_score(X, labels, metric='euclidean')\n",
    "    hc_list.append(sil)"
   ]
  },
  {
   "cell_type": "code",
   "execution_count": 77,
   "id": "1df40d07",
   "metadata": {
    "ExecuteTime": {
     "end_time": "2021-08-27T19:20:28.535880Z",
     "start_time": "2021-08-27T19:20:27.951484Z"
    }
   },
   "outputs": [
    {
     "data": {
      "image/png": "[encoded data removed]",
      "text/plain": [
       "<Figure size 1728x648 with 1 Axes>"
      ]
     },
     "metadata": {},
     "output_type": "display_data"
    }
   ],
   "source": [
    "plt.plot( clusters, hc_list, linestyle='--', marker='o' )\n",
    "plt.xlabel( 'K' )\n",
    "plt.ylabel( 'Avarege Silhouette' )\n",
    "plt.title( 'Hierarchial Clustering - Silhouette vs K' );"
   ]
  },
  {
   "cell_type": "markdown",
   "id": "f8eefffc",
   "metadata": {},
   "source": [
    "## 7.4. DBSCAN"
   ]
  },
  {
   "cell_type": "markdown",
   "id": "d886ae26",
   "metadata": {
    "heading_collapsed": true
   },
   "source": [
    "### 7.4.1. DBSCAN - Definition eps"
   ]
  },
  {
   "cell_type": "code",
   "execution_count": 78,
   "id": "9285bbc8",
   "metadata": {
    "ExecuteTime": {
     "end_time": "2021-08-27T19:20:36.743843Z",
     "start_time": "2021-08-27T19:20:28.540086Z"
    },
    "hidden": true
   },
   "outputs": [
    {
     "data": {
      "text/html": [
       "<div>\n",
       "<style scoped>\n",
       "    .dataframe tbody tr th:only-of-type {\n",
       "        vertical-align: middle;\n",
       "    }\n",
       "\n",
       "    .dataframe tbody tr th {\n",
       "        vertical-align: top;\n",
       "    }\n",
       "\n",
       "    .dataframe thead th {\n",
       "        text-align: right;\n",
       "    }\n",
       "</style>\n",
       "<table border=\"1\" class=\"dataframe\">\n",
       "  <thead>\n",
       "    <tr style=\"text-align: right;\">\n",
       "      <th></th>\n",
       "      <th>eps</th>\n",
       "      <th>silhouette_score</th>\n",
       "    </tr>\n",
       "  </thead>\n",
       "  <tbody>\n",
       "    <tr>\n",
       "      <th>12</th>\n",
       "      <td>2.5000</td>\n",
       "      <td>0.6462</td>\n",
       "    </tr>\n",
       "    <tr>\n",
       "      <th>10</th>\n",
       "      <td>2.1000</td>\n",
       "      <td>0.6462</td>\n",
       "    </tr>\n",
       "    <tr>\n",
       "      <th>11</th>\n",
       "      <td>2.3000</td>\n",
       "      <td>0.6462</td>\n",
       "    </tr>\n",
       "    <tr>\n",
       "      <th>13</th>\n",
       "      <td>2.7000</td>\n",
       "      <td>0.6462</td>\n",
       "    </tr>\n",
       "    <tr>\n",
       "      <th>15</th>\n",
       "      <td>3.1000</td>\n",
       "      <td>0.6281</td>\n",
       "    </tr>\n",
       "  </tbody>\n",
       "</table>\n",
       "</div>"
      ],
      "text/plain": [
       "      eps  silhouette_score\n",
       "12 2.5000            0.6462\n",
       "10 2.1000            0.6462\n",
       "11 2.3000            0.6462\n",
       "13 2.7000            0.6462\n",
       "15 3.1000            0.6281"
      ]
     },
     "execution_count": 78,
     "metadata": {},
     "output_type": "execute_result"
    }
   ],
   "source": [
    "eps_list = []\n",
    "sil_list = []\n",
    "\n",
    "for i in np.arange(0.1, 5.0, 0.2):\n",
    "    # model definition\n",
    "    dbscan_model = cluster.DBSCAN(eps=i, min_samples=5)\n",
    "\n",
    "    # model training \n",
    "    dbscan_model.fit( X )\n",
    "\n",
    "    # model predict\n",
    "    labels = dbscan_model.labels_\n",
    "    \n",
    "    eps_list.append(i)\n",
    "    sil_list.append(metrics.silhouette_score(X, labels))\n",
    "\n",
    "df_eps = pd.DataFrame({ 'eps': eps_list, 'silhouette_score': sil_list }).sort_values( 'silhouette_score', ascending=False )\n",
    "\n",
    "df_eps.head()"
   ]
  },
  {
   "cell_type": "markdown",
   "id": "7baf9b6a",
   "metadata": {
    "heading_collapsed": true
   },
   "source": [
    "### 7.4.2. DBSCAN - Silhouette Score and Plot "
   ]
  },
  {
   "cell_type": "code",
   "execution_count": 79,
   "id": "491b541f",
   "metadata": {
    "ExecuteTime": {
     "end_time": "2021-08-27T19:20:37.058778Z",
     "start_time": "2021-08-27T19:20:36.746311Z"
    },
    "hidden": true
   },
   "outputs": [
    {
     "name": "stdout",
     "output_type": "stream",
     "text": [
      "Silhouette Score: 0.6462268829345703\n",
      "\n",
      "Number of Clusters: 12\n",
      "Number of Noise: 0\n"
     ]
    }
   ],
   "source": [
    "# model definition\n",
    "dbscan_model = cluster.DBSCAN(eps=2.5, min_samples=5)\n",
    "\n",
    "# model training \n",
    "dbscan_model.fit( X )\n",
    "\n",
    "# model predict\n",
    "labels = dbscan_model.labels_\n",
    "\n",
    "# perfomance\n",
    "sil = metrics.silhouette_score(X, labels)\n",
    "n_clusters_ = len(set(labels)) - (1 if -1 in labels else 0)\n",
    "n_noise_ = list(labels).count(-1)\n",
    "\n",
    "print( 'Silhouette Score: {}'.format(sil) )\n",
    "print( '\\nNumber of Clusters: {}'.format(n_clusters_) )\n",
    "print( 'Number of Noise: {}'.format(n_noise_) )"
   ]
  },
  {
   "cell_type": "code",
   "execution_count": 80,
   "id": "e40d8505",
   "metadata": {
    "ExecuteTime": {
     "end_time": "2021-08-27T19:20:38.208872Z",
     "start_time": "2021-08-27T19:20:37.061880Z"
    },
    "hidden": true,
    "scrolled": false
   },
   "outputs": [
    {
     "data": {
      "image/png": "[encoded data removed]",
      "text/plain": [
       "<Figure size 1728x648 with 1 Axes>"
      ]
     },
     "metadata": {},
     "output_type": "display_data"
    }
   ],
   "source": [
    "sns.scatterplot( data=X, x='x', y='y', hue=labels, palette=\"tab10\" );"
   ]
  },
  {
   "cell_type": "markdown",
   "id": "12c15135",
   "metadata": {},
   "source": [
    "## 7.6. Results: K-Means, GMM and HC"
   ]
  },
  {
   "cell_type": "code",
   "execution_count": 81,
   "id": "b092d9ca",
   "metadata": {
    "ExecuteTime": {
     "end_time": "2021-08-27T19:20:38.348395Z",
     "start_time": "2021-08-27T19:20:38.211631Z"
    }
   },
   "outputs": [
    {
     "data": {
      "text/html": [
       "<style type=\"text/css\">\n",
       "#T_f53a4_row0_col13, #T_f53a4_row1_col13, #T_f53a4_row2_col13 {\n",
       "  background-color: lightgreen;\n",
       "}\n",
       "</style>\n",
       "<table id=\"T_f53a4_\">\n",
       "  <thead>\n",
       "    <tr>\n",
       "      <th class=\"blank level0\" >&nbsp;</th>\n",
       "      <th class=\"col_heading level0 col0\" >2</th>\n",
       "      <th class=\"col_heading level0 col1\" >3</th>\n",
       "      <th class=\"col_heading level0 col2\" >4</th>\n",
       "      <th class=\"col_heading level0 col3\" >5</th>\n",
       "      <th class=\"col_heading level0 col4\" >6</th>\n",
       "      <th class=\"col_heading level0 col5\" >7</th>\n",
       "      <th class=\"col_heading level0 col6\" >8</th>\n",
       "      <th class=\"col_heading level0 col7\" >9</th>\n",
       "      <th class=\"col_heading level0 col8\" >10</th>\n",
       "      <th class=\"col_heading level0 col9\" >11</th>\n",
       "      <th class=\"col_heading level0 col10\" >12</th>\n",
       "      <th class=\"col_heading level0 col11\" >13</th>\n",
       "      <th class=\"col_heading level0 col12\" >14</th>\n",
       "      <th class=\"col_heading level0 col13\" >15</th>\n",
       "      <th class=\"col_heading level0 col14\" >16</th>\n",
       "      <th class=\"col_heading level0 col15\" >17</th>\n",
       "      <th class=\"col_heading level0 col16\" >18</th>\n",
       "      <th class=\"col_heading level0 col17\" >19</th>\n",
       "    </tr>\n",
       "  </thead>\n",
       "  <tbody>\n",
       "    <tr>\n",
       "      <th id=\"T_f53a4_level0_row0\" class=\"row_heading level0 row0\" >KMeans</th>\n",
       "      <td id=\"T_f53a4_row0_col0\" class=\"data row0 col0\" >0.438024</td>\n",
       "      <td id=\"T_f53a4_row0_col1\" class=\"data row0 col1\" >0.477073</td>\n",
       "      <td id=\"T_f53a4_row0_col2\" class=\"data row0 col2\" >0.506502</td>\n",
       "      <td id=\"T_f53a4_row0_col3\" class=\"data row0 col3\" >0.531897</td>\n",
       "      <td id=\"T_f53a4_row0_col4\" class=\"data row0 col4\" >0.568615</td>\n",
       "      <td id=\"T_f53a4_row0_col5\" class=\"data row0 col5\" >0.617114</td>\n",
       "      <td id=\"T_f53a4_row0_col6\" class=\"data row0 col6\" >0.629477</td>\n",
       "      <td id=\"T_f53a4_row0_col7\" class=\"data row0 col7\" >0.629940</td>\n",
       "      <td id=\"T_f53a4_row0_col8\" class=\"data row0 col8\" >0.647067</td>\n",
       "      <td id=\"T_f53a4_row0_col9\" class=\"data row0 col9\" >0.653508</td>\n",
       "      <td id=\"T_f53a4_row0_col10\" class=\"data row0 col10\" >0.647496</td>\n",
       "      <td id=\"T_f53a4_row0_col11\" class=\"data row0 col11\" >0.630041</td>\n",
       "      <td id=\"T_f53a4_row0_col12\" class=\"data row0 col12\" >0.644140</td>\n",
       "      <td id=\"T_f53a4_row0_col13\" class=\"data row0 col13\" >0.662493</td>\n",
       "      <td id=\"T_f53a4_row0_col14\" class=\"data row0 col14\" >0.647213</td>\n",
       "      <td id=\"T_f53a4_row0_col15\" class=\"data row0 col15\" >0.651320</td>\n",
       "      <td id=\"T_f53a4_row0_col16\" class=\"data row0 col16\" >0.658826</td>\n",
       "      <td id=\"T_f53a4_row0_col17\" class=\"data row0 col17\" >0.655109</td>\n",
       "    </tr>\n",
       "    <tr>\n",
       "      <th id=\"T_f53a4_level0_row1\" class=\"row_heading level0 row1\" >GMM</th>\n",
       "      <td id=\"T_f53a4_row1_col0\" class=\"data row1 col0\" >0.400853</td>\n",
       "      <td id=\"T_f53a4_row1_col1\" class=\"data row1 col1\" >0.469923</td>\n",
       "      <td id=\"T_f53a4_row1_col2\" class=\"data row1 col2\" >0.480255</td>\n",
       "      <td id=\"T_f53a4_row1_col3\" class=\"data row1 col3\" >0.483044</td>\n",
       "      <td id=\"T_f53a4_row1_col4\" class=\"data row1 col4\" >0.559027</td>\n",
       "      <td id=\"T_f53a4_row1_col5\" class=\"data row1 col5\" >0.617114</td>\n",
       "      <td id=\"T_f53a4_row1_col6\" class=\"data row1 col6\" >0.629477</td>\n",
       "      <td id=\"T_f53a4_row1_col7\" class=\"data row1 col7\" >0.625400</td>\n",
       "      <td id=\"T_f53a4_row1_col8\" class=\"data row1 col8\" >0.630518</td>\n",
       "      <td id=\"T_f53a4_row1_col9\" class=\"data row1 col9\" >0.639900</td>\n",
       "      <td id=\"T_f53a4_row1_col10\" class=\"data row1 col10\" >0.621788</td>\n",
       "      <td id=\"T_f53a4_row1_col11\" class=\"data row1 col11\" >0.631457</td>\n",
       "      <td id=\"T_f53a4_row1_col12\" class=\"data row1 col12\" >0.665387</td>\n",
       "      <td id=\"T_f53a4_row1_col13\" class=\"data row1 col13\" >0.668598</td>\n",
       "      <td id=\"T_f53a4_row1_col14\" class=\"data row1 col14\" >0.668536</td>\n",
       "      <td id=\"T_f53a4_row1_col15\" class=\"data row1 col15\" >0.652650</td>\n",
       "      <td id=\"T_f53a4_row1_col16\" class=\"data row1 col16\" >0.661361</td>\n",
       "      <td id=\"T_f53a4_row1_col17\" class=\"data row1 col17\" >0.660552</td>\n",
       "    </tr>\n",
       "    <tr>\n",
       "      <th id=\"T_f53a4_level0_row2\" class=\"row_heading level0 row2\" >HC</th>\n",
       "      <td id=\"T_f53a4_row2_col0\" class=\"data row2 col0\" >0.438024</td>\n",
       "      <td id=\"T_f53a4_row2_col1\" class=\"data row2 col1\" >0.424996</td>\n",
       "      <td id=\"T_f53a4_row2_col2\" class=\"data row2 col2\" >0.474029</td>\n",
       "      <td id=\"T_f53a4_row2_col3\" class=\"data row2 col3\" >0.529318</td>\n",
       "      <td id=\"T_f53a4_row2_col4\" class=\"data row2 col4\" >0.558868</td>\n",
       "      <td id=\"T_f53a4_row2_col5\" class=\"data row2 col5\" >0.617114</td>\n",
       "      <td id=\"T_f53a4_row2_col6\" class=\"data row2 col6\" >0.629477</td>\n",
       "      <td id=\"T_f53a4_row2_col7\" class=\"data row2 col7\" >0.629940</td>\n",
       "      <td id=\"T_f53a4_row2_col8\" class=\"data row2 col8\" >0.648390</td>\n",
       "      <td id=\"T_f53a4_row2_col9\" class=\"data row2 col9\" >0.653508</td>\n",
       "      <td id=\"T_f53a4_row2_col10\" class=\"data row2 col10\" >0.647496</td>\n",
       "      <td id=\"T_f53a4_row2_col11\" class=\"data row2 col11\" >0.626411</td>\n",
       "      <td id=\"T_f53a4_row2_col12\" class=\"data row2 col12\" >0.644486</td>\n",
       "      <td id=\"T_f53a4_row2_col13\" class=\"data row2 col13\" >0.661849</td>\n",
       "      <td id=\"T_f53a4_row2_col14\" class=\"data row2 col14\" >0.641567</td>\n",
       "      <td id=\"T_f53a4_row2_col15\" class=\"data row2 col15\" >0.645136</td>\n",
       "      <td id=\"T_f53a4_row2_col16\" class=\"data row2 col16\" >0.651901</td>\n",
       "      <td id=\"T_f53a4_row2_col17\" class=\"data row2 col17\" >0.648183</td>\n",
       "    </tr>\n",
       "  </tbody>\n",
       "</table>\n"
      ],
      "text/plain": [
       "<pandas.io.formats.style.Styler at 0x7f33660ede50>"
      ]
     },
     "execution_count": 81,
     "metadata": {},
     "output_type": "execute_result"
    }
   ],
   "source": [
    "df_results = pd.DataFrame( \n",
    "    {'KMeans': kmeans_list, \n",
    "     'GMM': gmm_list, \n",
    "     'HC': hc_list}).T\n",
    "\n",
    "df_results.columns = clusters\n",
    "\n",
    "df_results.style.highlight_max( color='lightgreen', axis=1 )"
   ]
  },
  {
   "cell_type": "markdown",
   "id": "e267535e",
   "metadata": {},
   "source": [
    "## 7.7. Silhouette Analysis"
   ]
  },
  {
   "cell_type": "code",
   "execution_count": null,
   "id": "ec3e8aba",
   "metadata": {},
   "outputs": [],
   "source": []
  },
  {
   "cell_type": "markdown",
   "id": "11fdb6f0",
   "metadata": {},
   "source": [
    "# 8.0. Model Training"
   ]
  },
  {
   "cell_type": "code",
   "execution_count": 87,
   "id": "533f8854",
   "metadata": {
    "ExecuteTime": {
     "end_time": "2021-08-27T19:22:04.148308Z",
     "start_time": "2021-08-27T19:22:03.068159Z"
    }
   },
   "outputs": [
    {
     "name": "stdout",
     "output_type": "stream",
     "text": [
      "SS value: 0.6294769644737244\n"
     ]
    }
   ],
   "source": [
    "# model definition\n",
    "gmm_model = gm(n_components=k, n_init=10, random_state=42)\n",
    "\n",
    "# model training\n",
    "gmm_model.fit(X)\n",
    "\n",
    "# model predict\n",
    "labels = gmm_model.predict(X)\n",
    "\n",
    "# model permannce\n",
    "print('SS value: {}'.format( metrics.silhouette_score(X, labels, metric='euclidean') ))"
   ]
  },
  {
   "cell_type": "markdown",
   "id": "a6b30a59",
   "metadata": {},
   "source": [
    "# 9.0. Cluster Analysis"
   ]
  },
  {
   "cell_type": "code",
   "execution_count": 88,
   "id": "6a23bab5",
   "metadata": {
    "ExecuteTime": {
     "end_time": "2021-08-27T19:22:04.178566Z",
     "start_time": "2021-08-27T19:22:04.151842Z"
    }
   },
   "outputs": [
    {
     "data": {
      "text/html": [
       "<div>\n",
       "<style scoped>\n",
       "    .dataframe tbody tr th:only-of-type {\n",
       "        vertical-align: middle;\n",
       "    }\n",
       "\n",
       "    .dataframe tbody tr th {\n",
       "        vertical-align: top;\n",
       "    }\n",
       "\n",
       "    .dataframe thead th {\n",
       "        text-align: right;\n",
       "    }\n",
       "</style>\n",
       "<table border=\"1\" class=\"dataframe\">\n",
       "  <thead>\n",
       "    <tr style=\"text-align: right;\">\n",
       "      <th></th>\n",
       "      <th>customer_id</th>\n",
       "      <th>monetary</th>\n",
       "      <th>recency_days</th>\n",
       "      <th>qtde_invoices</th>\n",
       "      <th>qtde_items</th>\n",
       "      <th>qtde_products</th>\n",
       "      <th>avg_ticket</th>\n",
       "      <th>avg_recency_days</th>\n",
       "      <th>frequency</th>\n",
       "      <th>qtde_returns</th>\n",
       "      <th>avg_basket_size</th>\n",
       "      <th>avg_unique_basket_size</th>\n",
       "      <th>cluster</th>\n",
       "    </tr>\n",
       "  </thead>\n",
       "  <tbody>\n",
       "    <tr>\n",
       "      <th>0</th>\n",
       "      <td>17850</td>\n",
       "      <td>5391.2100</td>\n",
       "      <td>372.0000</td>\n",
       "      <td>34.0000</td>\n",
       "      <td>1733.0000</td>\n",
       "      <td>297.0000</td>\n",
       "      <td>18.1522</td>\n",
       "      <td>35.5000</td>\n",
       "      <td>17.0000</td>\n",
       "      <td>40.0000</td>\n",
       "      <td>50.9706</td>\n",
       "      <td>0.6176</td>\n",
       "      <td>5</td>\n",
       "    </tr>\n",
       "    <tr>\n",
       "      <th>1</th>\n",
       "      <td>13047</td>\n",
       "      <td>3232.5900</td>\n",
       "      <td>56.0000</td>\n",
       "      <td>9.0000</td>\n",
       "      <td>1390.0000</td>\n",
       "      <td>171.0000</td>\n",
       "      <td>18.9040</td>\n",
       "      <td>27.2500</td>\n",
       "      <td>0.0283</td>\n",
       "      <td>35.0000</td>\n",
       "      <td>154.4444</td>\n",
       "      <td>11.6667</td>\n",
       "      <td>3</td>\n",
       "    </tr>\n",
       "    <tr>\n",
       "      <th>2</th>\n",
       "      <td>12583</td>\n",
       "      <td>6495.3000</td>\n",
       "      <td>2.0000</td>\n",
       "      <td>15.0000</td>\n",
       "      <td>3796.0000</td>\n",
       "      <td>221.0000</td>\n",
       "      <td>29.3905</td>\n",
       "      <td>23.1875</td>\n",
       "      <td>0.0403</td>\n",
       "      <td>50.0000</td>\n",
       "      <td>253.0667</td>\n",
       "      <td>7.1333</td>\n",
       "      <td>1</td>\n",
       "    </tr>\n",
       "    <tr>\n",
       "      <th>3</th>\n",
       "      <td>13748</td>\n",
       "      <td>938.8900</td>\n",
       "      <td>95.0000</td>\n",
       "      <td>5.0000</td>\n",
       "      <td>415.0000</td>\n",
       "      <td>27.0000</td>\n",
       "      <td>34.7737</td>\n",
       "      <td>92.6667</td>\n",
       "      <td>0.0179</td>\n",
       "      <td>0.0000</td>\n",
       "      <td>83.0000</td>\n",
       "      <td>4.6000</td>\n",
       "      <td>7</td>\n",
       "    </tr>\n",
       "    <tr>\n",
       "      <th>4</th>\n",
       "      <td>15100</td>\n",
       "      <td>876.0000</td>\n",
       "      <td>333.0000</td>\n",
       "      <td>3.0000</td>\n",
       "      <td>80.0000</td>\n",
       "      <td>3.0000</td>\n",
       "      <td>292.0000</td>\n",
       "      <td>8.6000</td>\n",
       "      <td>0.0732</td>\n",
       "      <td>22.0000</td>\n",
       "      <td>26.6667</td>\n",
       "      <td>0.3333</td>\n",
       "      <td>4</td>\n",
       "    </tr>\n",
       "  </tbody>\n",
       "</table>\n",
       "</div>"
      ],
      "text/plain": [
       "   customer_id  monetary  recency_days  qtde_invoices  qtde_items  qtde_products  avg_ticket  avg_recency_days  frequency  qtde_returns  avg_basket_size  avg_unique_basket_size  cluster\n",
       "0        17850 5391.2100      372.0000        34.0000   1733.0000       297.0000     18.1522           35.5000    17.0000       40.0000          50.9706                  0.6176        5\n",
       "1        13047 3232.5900       56.0000         9.0000   1390.0000       171.0000     18.9040           27.2500     0.0283       35.0000         154.4444                 11.6667        3\n",
       "2        12583 6495.3000        2.0000        15.0000   3796.0000       221.0000     29.3905           23.1875     0.0403       50.0000         253.0667                  7.1333        1\n",
       "3        13748  938.8900       95.0000         5.0000    415.0000        27.0000     34.7737           92.6667     0.0179        0.0000          83.0000                  4.6000        7\n",
       "4        15100  876.0000      333.0000         3.0000     80.0000         3.0000    292.0000            8.6000     0.0732       22.0000          26.6667                  0.3333        4"
      ]
     },
     "execution_count": 88,
     "metadata": {},
     "output_type": "execute_result"
    }
   ],
   "source": [
    "df9 = df4.copy()\n",
    "df9['cluster'] = labels"
   ]
  },
  {
   "cell_type": "markdown",
   "id": "b58979d7",
   "metadata": {},
   "source": [
    "## 9.1. Visualization Inspection"
   ]
  },
  {
   "cell_type": "code",
   "execution_count": 89,
   "id": "e39e2be6",
   "metadata": {
    "ExecuteTime": {
     "end_time": "2021-08-27T19:22:04.187742Z",
     "start_time": "2021-08-27T19:22:04.181532Z"
    }
   },
   "outputs": [],
   "source": [
    "df_viz = df9.drop(columns='customer_id')"
   ]
  },
  {
   "cell_type": "markdown",
   "id": "3b4751c8",
   "metadata": {},
   "source": [
    "### 9.1.1. Silhouette Analysis"
   ]
  },
  {
   "cell_type": "code",
   "execution_count": 90,
   "id": "469fced0",
   "metadata": {
    "ExecuteTime": {
     "end_time": "2021-08-27T19:22:04.193616Z",
     "start_time": "2021-08-27T19:22:04.190235Z"
    }
   },
   "outputs": [],
   "source": [
    "# visualizer = SilhouetteVisualizer(kmeans, color='yellowbrick')\n",
    "# visualizer.fit( X )\n",
    "# visualizer.finalize();"
   ]
  },
  {
   "cell_type": "markdown",
   "id": "8f529026",
   "metadata": {},
   "source": [
    "### 9.1.2 2d plot"
   ]
  },
  {
   "cell_type": "code",
   "execution_count": 91,
   "id": "8aeedbff",
   "metadata": {
    "ExecuteTime": {
     "end_time": "2021-08-27T19:22:04.357440Z",
     "start_time": "2021-08-27T19:22:04.353480Z"
    }
   },
   "outputs": [],
   "source": [
    "# sns.pairplot(df_viz, hue='cluster');"
   ]
  },
  {
   "cell_type": "markdown",
   "id": "e13c695a",
   "metadata": {},
   "source": [
    "### 9.1.3. UMAP"
   ]
  },
  {
   "cell_type": "code",
   "execution_count": 92,
   "id": "8d1d716a",
   "metadata": {
    "ExecuteTime": {
     "end_time": "2021-08-27T19:22:04.574020Z",
     "start_time": "2021-08-27T19:22:04.570378Z"
    }
   },
   "outputs": [],
   "source": [
    "# reducer = UMAP(n_neighbors=80, random_state=42)\n",
    "# embedding = reducer.fit_transform( X )\n",
    "\n",
    "# df_viz['embedding_x'] = embedding[:, 0]\n",
    "# df_viz['embedding_y'] = embedding[:, 1]\n",
    "\n",
    "# # plot\n",
    "# sns.scatterplot( x='embedding_x', \n",
    "#                  y='embedding_y', \n",
    "#                  hue='cluster', \n",
    "#                  palette=sns.color_palette( 'hls', n_colors=len( df_viz['cluster'].unique() ) ),\n",
    "#                  data=df_viz );"
   ]
  },
  {
   "cell_type": "markdown",
   "id": "022d041a",
   "metadata": {
    "ExecuteTime": {
     "end_time": "2021-08-23T21:53:51.205074Z",
     "start_time": "2021-08-23T21:53:51.202307Z"
    }
   },
   "source": [
    "### 9.1.4. Tree-Based Embbedding"
   ]
  },
  {
   "cell_type": "code",
   "execution_count": 93,
   "id": "c10bf9f0",
   "metadata": {
    "ExecuteTime": {
     "end_time": "2021-08-27T19:22:05.771547Z",
     "start_time": "2021-08-27T19:22:04.800905Z"
    }
   },
   "outputs": [
    {
     "data": {
      "image/png": "[encoded data removed]",
      "text/plain": [
       "<Figure size 1728x648 with 1 Axes>"
      ]
     },
     "metadata": {},
     "output_type": "display_data"
    }
   ],
   "source": [
    "sns.scatterplot( x='x', y='y', data=X, hue=labels, palette=\"tab10\" );"
   ]
  },
  {
   "cell_type": "markdown",
   "id": "b253d006",
   "metadata": {},
   "source": [
    "## 9.2. Cluster Profile"
   ]
  },
  {
   "cell_type": "code",
   "execution_count": 94,
   "id": "52e323c0",
   "metadata": {
    "ExecuteTime": {
     "end_time": "2021-08-27T19:22:05.793195Z",
     "start_time": "2021-08-27T19:22:05.775094Z"
    }
   },
   "outputs": [
    {
     "data": {
      "text/html": [
       "<div>\n",
       "<style scoped>\n",
       "    .dataframe tbody tr th:only-of-type {\n",
       "        vertical-align: middle;\n",
       "    }\n",
       "\n",
       "    .dataframe tbody tr th {\n",
       "        vertical-align: top;\n",
       "    }\n",
       "\n",
       "    .dataframe thead th {\n",
       "        text-align: right;\n",
       "    }\n",
       "</style>\n",
       "<table border=\"1\" class=\"dataframe\">\n",
       "  <thead>\n",
       "    <tr style=\"text-align: right;\">\n",
       "      <th></th>\n",
       "      <th>customer_id</th>\n",
       "      <th>monetary</th>\n",
       "      <th>recency_days</th>\n",
       "      <th>qtde_invoices</th>\n",
       "      <th>qtde_items</th>\n",
       "      <th>qtde_products</th>\n",
       "      <th>avg_ticket</th>\n",
       "      <th>avg_recency_days</th>\n",
       "      <th>frequency</th>\n",
       "      <th>qtde_returns</th>\n",
       "      <th>avg_basket_size</th>\n",
       "      <th>avg_unique_basket_size</th>\n",
       "      <th>cluster</th>\n",
       "    </tr>\n",
       "  </thead>\n",
       "  <tbody>\n",
       "    <tr>\n",
       "      <th>0</th>\n",
       "      <td>17850</td>\n",
       "      <td>5391.2100</td>\n",
       "      <td>372.0000</td>\n",
       "      <td>34.0000</td>\n",
       "      <td>1733.0000</td>\n",
       "      <td>297.0000</td>\n",
       "      <td>18.1522</td>\n",
       "      <td>35.5000</td>\n",
       "      <td>17.0000</td>\n",
       "      <td>40.0000</td>\n",
       "      <td>50.9706</td>\n",
       "      <td>0.6176</td>\n",
       "      <td>5</td>\n",
       "    </tr>\n",
       "    <tr>\n",
       "      <th>1</th>\n",
       "      <td>13047</td>\n",
       "      <td>3232.5900</td>\n",
       "      <td>56.0000</td>\n",
       "      <td>9.0000</td>\n",
       "      <td>1390.0000</td>\n",
       "      <td>171.0000</td>\n",
       "      <td>18.9040</td>\n",
       "      <td>27.2500</td>\n",
       "      <td>0.0283</td>\n",
       "      <td>35.0000</td>\n",
       "      <td>154.4444</td>\n",
       "      <td>11.6667</td>\n",
       "      <td>3</td>\n",
       "    </tr>\n",
       "    <tr>\n",
       "      <th>2</th>\n",
       "      <td>12583</td>\n",
       "      <td>6495.3000</td>\n",
       "      <td>2.0000</td>\n",
       "      <td>15.0000</td>\n",
       "      <td>3796.0000</td>\n",
       "      <td>221.0000</td>\n",
       "      <td>29.3905</td>\n",
       "      <td>23.1875</td>\n",
       "      <td>0.0403</td>\n",
       "      <td>50.0000</td>\n",
       "      <td>253.0667</td>\n",
       "      <td>7.1333</td>\n",
       "      <td>1</td>\n",
       "    </tr>\n",
       "    <tr>\n",
       "      <th>3</th>\n",
       "      <td>13748</td>\n",
       "      <td>938.8900</td>\n",
       "      <td>95.0000</td>\n",
       "      <td>5.0000</td>\n",
       "      <td>415.0000</td>\n",
       "      <td>27.0000</td>\n",
       "      <td>34.7737</td>\n",
       "      <td>92.6667</td>\n",
       "      <td>0.0179</td>\n",
       "      <td>0.0000</td>\n",
       "      <td>83.0000</td>\n",
       "      <td>4.6000</td>\n",
       "      <td>7</td>\n",
       "    </tr>\n",
       "    <tr>\n",
       "      <th>4</th>\n",
       "      <td>15100</td>\n",
       "      <td>876.0000</td>\n",
       "      <td>333.0000</td>\n",
       "      <td>3.0000</td>\n",
       "      <td>80.0000</td>\n",
       "      <td>3.0000</td>\n",
       "      <td>292.0000</td>\n",
       "      <td>8.6000</td>\n",
       "      <td>0.0732</td>\n",
       "      <td>22.0000</td>\n",
       "      <td>26.6667</td>\n",
       "      <td>0.3333</td>\n",
       "      <td>4</td>\n",
       "    </tr>\n",
       "  </tbody>\n",
       "</table>\n",
       "</div>"
      ],
      "text/plain": [
       "   customer_id  monetary  recency_days  qtde_invoices  qtde_items  qtde_products  avg_ticket  avg_recency_days  frequency  qtde_returns  avg_basket_size  avg_unique_basket_size  cluster\n",
       "0        17850 5391.2100      372.0000        34.0000   1733.0000       297.0000     18.1522           35.5000    17.0000       40.0000          50.9706                  0.6176        5\n",
       "1        13047 3232.5900       56.0000         9.0000   1390.0000       171.0000     18.9040           27.2500     0.0283       35.0000         154.4444                 11.6667        3\n",
       "2        12583 6495.3000        2.0000        15.0000   3796.0000       221.0000     29.3905           23.1875     0.0403       50.0000         253.0667                  7.1333        1\n",
       "3        13748  938.8900       95.0000         5.0000    415.0000        27.0000     34.7737           92.6667     0.0179        0.0000          83.0000                  4.6000        7\n",
       "4        15100  876.0000      333.0000         3.0000     80.0000         3.0000    292.0000            8.6000     0.0732       22.0000          26.6667                  0.3333        4"
      ]
     },
     "execution_count": 94,
     "metadata": {},
     "output_type": "execute_result"
    }
   ],
   "source": [
    "df9.head()"
   ]
  },
  {
   "cell_type": "code",
   "execution_count": 95,
   "id": "b0ceaa89",
   "metadata": {
    "ExecuteTime": {
     "end_time": "2021-08-27T19:22:05.885123Z",
     "start_time": "2021-08-27T19:22:05.795979Z"
    }
   },
   "outputs": [
    {
     "data": {
      "text/html": [
       "<style type=\"text/css\">\n",
       "#T_25daf_row0_col3, #T_25daf_row0_col5, #T_25daf_row0_col6, #T_25daf_row0_col7, #T_25daf_row0_col9, #T_25daf_row4_col0, #T_25daf_row6_col1, #T_25daf_row6_col2, #T_25daf_row7_col4, #T_25daf_row7_col8 {\n",
       "  background-color: lightgreen;\n",
       "}\n",
       "</style>\n",
       "<table id=\"T_25daf_\">\n",
       "  <thead>\n",
       "    <tr>\n",
       "      <th class=\"blank level0\" >&nbsp;</th>\n",
       "      <th class=\"col_heading level0 col0\" >cluster</th>\n",
       "      <th class=\"col_heading level0 col1\" >qt_users</th>\n",
       "      <th class=\"col_heading level0 col2\" >per_user</th>\n",
       "      <th class=\"col_heading level0 col3\" >monetary</th>\n",
       "      <th class=\"col_heading level0 col4\" >recency_days</th>\n",
       "      <th class=\"col_heading level0 col5\" >qtde_invoices</th>\n",
       "      <th class=\"col_heading level0 col6\" >qtde_products</th>\n",
       "      <th class=\"col_heading level0 col7\" >qtde_items</th>\n",
       "      <th class=\"col_heading level0 col8\" >frequency</th>\n",
       "      <th class=\"col_heading level0 col9\" >qtde_returns</th>\n",
       "    </tr>\n",
       "  </thead>\n",
       "  <tbody>\n",
       "    <tr>\n",
       "      <th id=\"T_25daf_level0_row0\" class=\"row_heading level0 row0\" >1</th>\n",
       "      <td id=\"T_25daf_row0_col0\" class=\"data row0 col0\" >1</td>\n",
       "      <td id=\"T_25daf_row0_col1\" class=\"data row0 col1\" >262</td>\n",
       "      <td id=\"T_25daf_row0_col2\" class=\"data row0 col2\" >8.863329</td>\n",
       "      <td id=\"T_25daf_row0_col3\" class=\"data row0 col3\" >16143.737710</td>\n",
       "      <td id=\"T_25daf_row0_col4\" class=\"data row0 col4\" >18.003817</td>\n",
       "      <td id=\"T_25daf_row0_col5\" class=\"data row0 col5\" >21.767176</td>\n",
       "      <td id=\"T_25daf_row0_col6\" class=\"data row0 col6\" >452.229008</td>\n",
       "      <td id=\"T_25daf_row0_col7\" class=\"data row0 col7\" >8419.610687</td>\n",
       "      <td id=\"T_25daf_row0_col8\" class=\"data row0 col8\" >0.088336</td>\n",
       "      <td id=\"T_25daf_row0_col9\" class=\"data row0 col9\" >227.137405</td>\n",
       "    </tr>\n",
       "    <tr>\n",
       "      <th id=\"T_25daf_level0_row1\" class=\"row_heading level0 row1\" >5</th>\n",
       "      <td id=\"T_25daf_row1_col0\" class=\"data row1 col0\" >5</td>\n",
       "      <td id=\"T_25daf_row1_col1\" class=\"data row1 col1\" >300</td>\n",
       "      <td id=\"T_25daf_row1_col2\" class=\"data row1 col2\" >10.148850</td>\n",
       "      <td id=\"T_25daf_row1_col3\" class=\"data row1 col3\" >3642.794367</td>\n",
       "      <td id=\"T_25daf_row1_col4\" class=\"data row1 col4\" >32.940000</td>\n",
       "      <td id=\"T_25daf_row1_col5\" class=\"data row1 col5\" >7.880000</td>\n",
       "      <td id=\"T_25daf_row1_col6\" class=\"data row1 col6\" >202.336667</td>\n",
       "      <td id=\"T_25daf_row1_col7\" class=\"data row1 col7\" >2022.640000</td>\n",
       "      <td id=\"T_25daf_row1_col8\" class=\"data row1 col8\" >0.092236</td>\n",
       "      <td id=\"T_25daf_row1_col9\" class=\"data row1 col9\" >36.030000</td>\n",
       "    </tr>\n",
       "    <tr>\n",
       "      <th id=\"T_25daf_level0_row2\" class=\"row_heading level0 row2\" >3</th>\n",
       "      <td id=\"T_25daf_row2_col0\" class=\"data row2 col0\" >3</td>\n",
       "      <td id=\"T_25daf_row2_col1\" class=\"data row2 col1\" >151</td>\n",
       "      <td id=\"T_25daf_row2_col2\" class=\"data row2 col2\" >5.108254</td>\n",
       "      <td id=\"T_25daf_row2_col3\" class=\"data row2 col3\" >2509.561391</td>\n",
       "      <td id=\"T_25daf_row2_col4\" class=\"data row2 col4\" >40.827815</td>\n",
       "      <td id=\"T_25daf_row2_col5\" class=\"data row2 col5\" >6.529801</td>\n",
       "      <td id=\"T_25daf_row2_col6\" class=\"data row2 col6\" >152.185430</td>\n",
       "      <td id=\"T_25daf_row2_col7\" class=\"data row2 col7\" >1375.119205</td>\n",
       "      <td id=\"T_25daf_row2_col8\" class=\"data row2 col8\" >0.050079</td>\n",
       "      <td id=\"T_25daf_row2_col9\" class=\"data row2 col9\" >18.629139</td>\n",
       "    </tr>\n",
       "    <tr>\n",
       "      <th id=\"T_25daf_level0_row3\" class=\"row_heading level0 row3\" >6</th>\n",
       "      <td id=\"T_25daf_row3_col0\" class=\"data row3 col0\" >6</td>\n",
       "      <td id=\"T_25daf_row3_col1\" class=\"data row3 col1\" >576</td>\n",
       "      <td id=\"T_25daf_row3_col2\" class=\"data row3 col2\" >19.485792</td>\n",
       "      <td id=\"T_25daf_row3_col3\" class=\"data row3 col3\" >1767.072778</td>\n",
       "      <td id=\"T_25daf_row3_col4\" class=\"data row3 col4\" >46.923611</td>\n",
       "      <td id=\"T_25daf_row3_col5\" class=\"data row3 col5\" >5.340278</td>\n",
       "      <td id=\"T_25daf_row3_col6\" class=\"data row3 col6\" >111.491319</td>\n",
       "      <td id=\"T_25daf_row3_col7\" class=\"data row3 col7\" >930.684028</td>\n",
       "      <td id=\"T_25daf_row3_col8\" class=\"data row3 col8\" >0.042702</td>\n",
       "      <td id=\"T_25daf_row3_col9\" class=\"data row3 col9\" >19.345486</td>\n",
       "    </tr>\n",
       "    <tr>\n",
       "      <th id=\"T_25daf_level0_row4\" class=\"row_heading level0 row4\" >7</th>\n",
       "      <td id=\"T_25daf_row4_col0\" class=\"data row4 col0\" >7</td>\n",
       "      <td id=\"T_25daf_row4_col1\" class=\"data row4 col1\" >186</td>\n",
       "      <td id=\"T_25daf_row4_col2\" class=\"data row4 col2\" >6.292287</td>\n",
       "      <td id=\"T_25daf_row4_col3\" class=\"data row4 col3\" >1120.070323</td>\n",
       "      <td id=\"T_25daf_row4_col4\" class=\"data row4 col4\" >40.456989</td>\n",
       "      <td id=\"T_25daf_row4_col5\" class=\"data row4 col5\" >5.698925</td>\n",
       "      <td id=\"T_25daf_row4_col6\" class=\"data row4 col6\" >93.881720</td>\n",
       "      <td id=\"T_25daf_row4_col7\" class=\"data row4 col7\" >489.591398</td>\n",
       "      <td id=\"T_25daf_row4_col8\" class=\"data row4 col8\" >0.029148</td>\n",
       "      <td id=\"T_25daf_row4_col9\" class=\"data row4 col9\" >7.725806</td>\n",
       "    </tr>\n",
       "    <tr>\n",
       "      <th id=\"T_25daf_level0_row5\" class=\"row_heading level0 row5\" >0</th>\n",
       "      <td id=\"T_25daf_row5_col0\" class=\"data row5 col0\" >0</td>\n",
       "      <td id=\"T_25daf_row5_col1\" class=\"data row5 col1\" >435</td>\n",
       "      <td id=\"T_25daf_row5_col2\" class=\"data row5 col2\" >14.715832</td>\n",
       "      <td id=\"T_25daf_row5_col3\" class=\"data row5 col3\" >929.458897</td>\n",
       "      <td id=\"T_25daf_row5_col4\" class=\"data row5 col4\" >70.011494</td>\n",
       "      <td id=\"T_25daf_row5_col5\" class=\"data row5 col5\" >2.701149</td>\n",
       "      <td id=\"T_25daf_row5_col6\" class=\"data row5 col6\" >62.781609</td>\n",
       "      <td id=\"T_25daf_row5_col7\" class=\"data row5 col7\" >512.080460</td>\n",
       "      <td id=\"T_25daf_row5_col8\" class=\"data row5 col8\" >0.081364</td>\n",
       "      <td id=\"T_25daf_row5_col9\" class=\"data row5 col9\" >9.974713</td>\n",
       "    </tr>\n",
       "    <tr>\n",
       "      <th id=\"T_25daf_level0_row6\" class=\"row_heading level0 row6\" >2</th>\n",
       "      <td id=\"T_25daf_row6_col0\" class=\"data row6 col0\" >2</td>\n",
       "      <td id=\"T_25daf_row6_col1\" class=\"data row6 col1\" >584</td>\n",
       "      <td id=\"T_25daf_row6_col2\" class=\"data row6 col2\" >19.756428</td>\n",
       "      <td id=\"T_25daf_row6_col3\" class=\"data row6 col3\" >591.686918</td>\n",
       "      <td id=\"T_25daf_row6_col4\" class=\"data row6 col4\" >86.691781</td>\n",
       "      <td id=\"T_25daf_row6_col5\" class=\"data row6 col5\" >2.681507</td>\n",
       "      <td id=\"T_25daf_row6_col6\" class=\"data row6 col6\" >47.006849</td>\n",
       "      <td id=\"T_25daf_row6_col7\" class=\"data row6 col7\" >273.169521</td>\n",
       "      <td id=\"T_25daf_row6_col8\" class=\"data row6 col8\" >0.134304</td>\n",
       "      <td id=\"T_25daf_row6_col9\" class=\"data row6 col9\" >5.650685</td>\n",
       "    </tr>\n",
       "    <tr>\n",
       "      <th id=\"T_25daf_level0_row7\" class=\"row_heading level0 row7\" >4</th>\n",
       "      <td id=\"T_25daf_row7_col0\" class=\"data row7 col0\" >4</td>\n",
       "      <td id=\"T_25daf_row7_col1\" class=\"data row7 col1\" >462</td>\n",
       "      <td id=\"T_25daf_row7_col2\" class=\"data row7 col2\" >15.629229</td>\n",
       "      <td id=\"T_25daf_row7_col3\" class=\"data row7 col3\" >308.209740</td>\n",
       "      <td id=\"T_25daf_row7_col4\" class=\"data row7 col4\" >115.945887</td>\n",
       "      <td id=\"T_25daf_row7_col5\" class=\"data row7 col5\" >2.123377</td>\n",
       "      <td id=\"T_25daf_row7_col6\" class=\"data row7 col6\" >21.651515</td>\n",
       "      <td id=\"T_25daf_row7_col7\" class=\"data row7 col7\" >116.209957</td>\n",
       "      <td id=\"T_25daf_row7_col8\" class=\"data row7 col8\" >0.287333</td>\n",
       "      <td id=\"T_25daf_row7_col9\" class=\"data row7 col9\" >4.764069</td>\n",
       "    </tr>\n",
       "  </tbody>\n",
       "</table>\n"
      ],
      "text/plain": [
       "<pandas.io.formats.style.Styler at 0x7f3366259250>"
      ]
     },
     "execution_count": 95,
     "metadata": {},
     "output_type": "execute_result"
    }
   ],
   "source": [
    "# cluster - qt_users - per_user\n",
    "df_cluster = df9[['customer_id', 'cluster']].groupby('cluster').count().reset_index().rename(columns={'customer_id': 'qt_users'})\n",
    "df_cluster['per_user'] = 100 * (df_cluster['qt_users'] / df_cluster['qt_users'].sum())\n",
    "\n",
    "\n",
    "# monetary\n",
    "monetary = df9[['monetary', 'cluster']].groupby('cluster').mean().reset_index()\n",
    "df_cluster = pd.merge(df_cluster, monetary, how='left', on='cluster')\n",
    "\n",
    "\n",
    "# recency_days\n",
    "recency_days = df9[['recency_days', 'cluster']].groupby('cluster').mean().reset_index()\n",
    "df_cluster = pd.merge(df_cluster, recency_days, how='left', on='cluster')\n",
    "\n",
    "# qtde_invoices\n",
    "qtde_invoices = df9[['qtde_invoices', 'cluster']].groupby('cluster').mean().reset_index()\n",
    "df_cluster = pd.merge(df_cluster, qtde_invoices, how='left', on='cluster')\n",
    "\n",
    "# qtde_products\n",
    "qtde_products = df9[['qtde_products', 'cluster']].groupby('cluster').mean().reset_index()\n",
    "df_cluster = pd.merge(df_cluster, qtde_products, how='left', on='cluster')\n",
    "\n",
    "\n",
    "# qtde_items\n",
    "qtde_items = df9[['qtde_items', 'cluster']].groupby('cluster').mean().reset_index()\n",
    "df_cluster = pd.merge(df_cluster, qtde_items, how='left', on='cluster')\n",
    "\n",
    "# frequency\n",
    "frequency = df9[['frequency', 'cluster']].groupby('cluster').mean().reset_index()\n",
    "df_cluster = pd.merge(df_cluster, frequency, how='left', on='cluster')\n",
    "\n",
    "# qtde_returns\n",
    "qtde_returns = df9[['qtde_returns', 'cluster']].groupby('cluster').mean().reset_index()\n",
    "df_cluster = pd.merge(df_cluster, qtde_returns, how='left', on='cluster')\n",
    "\n",
    "\n",
    "\n",
    "df_cluster.sort_values('monetary', ascending=False).style.highlight_max( color='lightgreen', axis=0 )"
   ]
  },
  {
   "cell_type": "markdown",
   "id": "d958d526",
   "metadata": {},
   "source": [
    "# 10.0. Deploy to Product"
   ]
  }
 ],
 "metadata": {
  "kernelspec": {
   "display_name": "Python 3 (ipykernel)",
   "language": "python",
   "name": "python3"
  },
  "language_info": {
   "codemirror_mode": {
    "name": "ipython",
    "version": 3
   },
   "file_extension": ".py",
   "mimetype": "text/x-python",
   "name": "python",
   "nbconvert_exporter": "python",
   "pygments_lexer": "ipython3",
   "version": "3.8.0"
  }
 },
 "nbformat": 4,
 "nbformat_minor": 5
}
