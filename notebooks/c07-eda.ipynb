{
 "cells": [
  {
   "cell_type": "markdown",
   "id": "8ecd72ef",
   "metadata": {},
   "source": [
    "# Planejamento da Solução (IOT)"
   ]
  },
  {
   "cell_type": "markdown",
   "id": "027d7c7d",
   "metadata": {},
   "source": [
    "## Input - Entrada\n",
    "\n",
    "### O problema de negócio\n",
    "\n",
    "1. Selecionar os mais valiosos clientes para formar o programa de fidelidade \"INSIDERS\"\n",
    "2. Conjunto de dados com as vendas de produtos durantes 1 ano (11/2015 - 12/2017)\n",
    "\n",
    "## Output - Saída\n",
    " \n",
    "1. A indicação de pessoas para fazer parte do programa de fidelidade \"INSIDERS\".\n",
    "2. Relatório com as respostas das perguntas de negocio.\n",
    "\n",
    "## Tasks - Processo"
   ]
  },
  {
   "cell_type": "markdown",
   "id": "b25a0bdd",
   "metadata": {
    "heading_collapsed": true
   },
   "source": [
    "# 0.0. Imports"
   ]
  },
  {
   "cell_type": "code",
   "execution_count": 1,
   "id": "722054fa",
   "metadata": {
    "ExecuteTime": {
     "end_time": "2021-08-20T18:54:26.937231Z",
     "start_time": "2021-08-20T18:54:20.518975Z"
    },
    "hidden": true
   },
   "outputs": [],
   "source": [
    "import pandas as pd\n",
    "import numpy as np\n",
    "import seaborn as sns\n",
    "import matplotlib.pyplot as plt\n",
    "import plotly.express as px\n",
    "import umap.umap_ as umap\n",
    "\n",
    "from IPython.display import HTML\n",
    "from yellowbrick.cluster import KElbowVisualizer, SilhouetteVisualizer\n",
    "from pandas_profiling import ProfileReport\n",
    "\n",
    "from sklearn import cluster\n",
    "from sklearn import metrics\n",
    "from sklearn import preprocessing as pp"
   ]
  },
  {
   "cell_type": "markdown",
   "id": "f4bb5440",
   "metadata": {
    "heading_collapsed": true,
    "hidden": true
   },
   "source": [
    "## 0.1. Helper Functions"
   ]
  },
  {
   "cell_type": "code",
   "execution_count": 2,
   "id": "a157246c",
   "metadata": {
    "ExecuteTime": {
     "end_time": "2021-08-20T18:54:26.996759Z",
     "start_time": "2021-08-20T18:54:26.942757Z"
    },
    "hidden": true
   },
   "outputs": [
    {
     "name": "stdout",
     "output_type": "stream",
     "text": [
      "Populating the interactive namespace from numpy and matplotlib\n"
     ]
    },
    {
     "data": {
      "text/html": [
       "<style>.container { width:100% !important; }</style>"
      ],
      "text/plain": [
       "<IPython.core.display.HTML object>"
      ]
     },
     "metadata": {},
     "output_type": "display_data"
    }
   ],
   "source": [
    "def descriptive_statistics(num_attr):\n",
    "    # Central Tendency: mean, median\n",
    "    c1 = pd.DataFrame(num_attr.apply(np.mean))\n",
    "    c2 = pd.DataFrame(num_attr.apply(np.median))\n",
    "\n",
    "    # Dispension: min, max, range, std, skew, kurtosis\n",
    "    d1 = pd.DataFrame(num_attr.apply(min))\n",
    "    d2 = pd.DataFrame(num_attr.apply(max))\n",
    "    d3 = pd.DataFrame(num_attr.apply(lambda x: x.max() - x.min()))\n",
    "    d4 = pd.DataFrame(num_attr.apply(lambda x: x.std()))\n",
    "    \n",
    "    # Measures of Shape\n",
    "    s1 = pd.DataFrame(num_attr.apply(lambda x: x.skew()))\n",
    "    s2 = pd.DataFrame(num_attr.apply(lambda x: x.kurtosis()))\n",
    "\n",
    "    # concat\n",
    "    m = pd.concat([d1,d2,d3,c1,c2,d4,s1,s2], axis=1).reset_index()\n",
    "    m.columns = ['attributes', 'min', 'max', 'range', 'mean', 'median', 'std', 'skew', 'kurtosis']\n",
    "    return m\n",
    "\n",
    "\n",
    "def jupyter_settings():\n",
    "    %matplotlib inline\n",
    "    %pylab inline\n",
    "    \n",
    "    plt.style.use( 'ggplot')\n",
    "    plt.rcParams['figure.figsize'] = [24, 9]\n",
    "    plt.rcParams['font.size'] = 24\n",
    "    \n",
    "    display( HTML( '<style>.container { width:100% !important; }</style>') )\n",
    "    pd.options.display.max_columns = None\n",
    "    pd.options.display.max_rows = None\n",
    "    pd.set_option( 'display.expand_frame_repr', False )\n",
    "    pd.set_option('display.float_format', lambda x: '%.2f' % x)\n",
    "    \n",
    "    sns.set()\n",
    "    \n",
    "jupyter_settings()"
   ]
  },
  {
   "cell_type": "markdown",
   "id": "1bb64666",
   "metadata": {
    "heading_collapsed": true,
    "hidden": true
   },
   "source": [
    "## 0.2. Load Data"
   ]
  },
  {
   "cell_type": "code",
   "execution_count": 3,
   "id": "54243f8b",
   "metadata": {
    "ExecuteTime": {
     "end_time": "2021-08-20T18:54:28.118993Z",
     "start_time": "2021-08-20T18:54:26.999706Z"
    },
    "hidden": true
   },
   "outputs": [],
   "source": [
    "df_raw = pd.read_csv('../data/raw/Ecommerce.csv', encoding='latin1')\n",
    "\n",
    "# drop extra column\n",
    "df_raw = df_raw.drop('Unnamed: 8', axis=1)"
   ]
  },
  {
   "cell_type": "markdown",
   "id": "5b9ae690",
   "metadata": {
    "heading_collapsed": true
   },
   "source": [
    "# 1.0. Data Description"
   ]
  },
  {
   "cell_type": "code",
   "execution_count": 4,
   "id": "026bbc19",
   "metadata": {
    "ExecuteTime": {
     "end_time": "2021-08-20T18:54:28.155256Z",
     "start_time": "2021-08-20T18:54:28.123800Z"
    },
    "hidden": true
   },
   "outputs": [],
   "source": [
    "df1 = df_raw.copy()"
   ]
  },
  {
   "cell_type": "markdown",
   "id": "a0e2c036",
   "metadata": {
    "hidden": true
   },
   "source": [
    "## 1.1. Rename Columns"
   ]
  },
  {
   "cell_type": "code",
   "execution_count": 5,
   "id": "46322473",
   "metadata": {
    "ExecuteTime": {
     "end_time": "2021-08-20T18:54:28.167266Z",
     "start_time": "2021-08-20T18:54:28.160497Z"
    },
    "hidden": true
   },
   "outputs": [],
   "source": [
    "cols_new = ['invoice_no', 'stock_code', 'description', 'quantity', 'invoice_date', 'unit_price', 'customer_id', 'country']\n",
    "df1.columns = cols_new"
   ]
  },
  {
   "cell_type": "markdown",
   "id": "09f2dd9b",
   "metadata": {
    "hidden": true
   },
   "source": [
    "## 1.2. Data Dimnesions"
   ]
  },
  {
   "cell_type": "code",
   "execution_count": 6,
   "id": "e8295ac6",
   "metadata": {
    "ExecuteTime": {
     "end_time": "2021-08-20T18:54:28.180556Z",
     "start_time": "2021-08-20T18:54:28.171190Z"
    },
    "hidden": true
   },
   "outputs": [
    {
     "name": "stdout",
     "output_type": "stream",
     "text": [
      "Number of Rows: 541909\n",
      "Number of Columns: 8\n"
     ]
    }
   ],
   "source": [
    "print('Number of Rows: {}'.format(df1.shape[0]))\n",
    "print('Number of Columns: {}'.format(df1.shape[1]))"
   ]
  },
  {
   "cell_type": "markdown",
   "id": "c68dcbcd",
   "metadata": {
    "hidden": true
   },
   "source": [
    "## 1.3. Data Types"
   ]
  },
  {
   "cell_type": "code",
   "execution_count": 7,
   "id": "4034f49b",
   "metadata": {
    "ExecuteTime": {
     "end_time": "2021-08-20T18:54:28.206937Z",
     "start_time": "2021-08-20T18:54:28.187627Z"
    },
    "hidden": true
   },
   "outputs": [
    {
     "data": {
      "text/plain": [
       "invoice_no       object\n",
       "stock_code       object\n",
       "description      object\n",
       "quantity          int64\n",
       "invoice_date     object\n",
       "unit_price      float64\n",
       "customer_id     float64\n",
       "country          object\n",
       "dtype: object"
      ]
     },
     "execution_count": 7,
     "metadata": {},
     "output_type": "execute_result"
    }
   ],
   "source": [
    "df1.dtypes"
   ]
  },
  {
   "cell_type": "markdown",
   "id": "0c014646",
   "metadata": {
    "hidden": true
   },
   "source": [
    "## 1.4. Check NA"
   ]
  },
  {
   "cell_type": "code",
   "execution_count": 8,
   "id": "7a8a6351",
   "metadata": {
    "ExecuteTime": {
     "end_time": "2021-08-20T18:54:28.479499Z",
     "start_time": "2021-08-20T18:54:28.211188Z"
    },
    "hidden": true
   },
   "outputs": [
    {
     "data": {
      "text/plain": [
       "invoice_no           0\n",
       "stock_code           0\n",
       "description       1454\n",
       "quantity             0\n",
       "invoice_date         0\n",
       "unit_price           0\n",
       "customer_id     135080\n",
       "country              0\n",
       "dtype: int64"
      ]
     },
     "execution_count": 8,
     "metadata": {},
     "output_type": "execute_result"
    }
   ],
   "source": [
    "df1.isna().sum()"
   ]
  },
  {
   "cell_type": "markdown",
   "id": "29b1bada",
   "metadata": {
    "hidden": true
   },
   "source": [
    "## 1.5. Replace NA"
   ]
  },
  {
   "cell_type": "code",
   "execution_count": 9,
   "id": "aa5882db",
   "metadata": {
    "ExecuteTime": {
     "end_time": "2021-08-20T18:54:28.575684Z",
     "start_time": "2021-08-20T18:54:28.482168Z"
    },
    "hidden": true
   },
   "outputs": [],
   "source": [
    "df_missing = df1.loc[df1['customer_id'].isna(), :]\n",
    "df_not_missing = df1.loc[~df1['customer_id'].isna(), :]"
   ]
  },
  {
   "cell_type": "code",
   "execution_count": 10,
   "id": "7086dafb",
   "metadata": {
    "ExecuteTime": {
     "end_time": "2021-08-20T18:54:29.042558Z",
     "start_time": "2021-08-20T18:54:28.579884Z"
    },
    "hidden": true
   },
   "outputs": [],
   "source": [
    "df_backup = pd.DataFrame(df_missing['invoice_no'].drop_duplicates())\n",
    "df_backup['customer_id'] = np.arange(19000, 19000+len(df_backup), 1)\n",
    "\n",
    "# merge \n",
    "df1 = pd.merge(df1, df_backup, how='left', on='invoice_no' )\n",
    "\n",
    "# coalesce \n",
    "df1['customer_id'] = df1['customer_id_x'].combine_first(df1['customer_id_y'])\n",
    "\n",
    "df1 = df1.drop(['customer_id_x', 'customer_id_y'], axis=1)"
   ]
  },
  {
   "cell_type": "code",
   "execution_count": 11,
   "id": "aff2bc50",
   "metadata": {
    "ExecuteTime": {
     "end_time": "2021-08-20T18:54:29.290462Z",
     "start_time": "2021-08-20T18:54:29.045316Z"
    },
    "hidden": true
   },
   "outputs": [
    {
     "data": {
      "text/plain": [
       "invoice_no         0\n",
       "stock_code         0\n",
       "description     1454\n",
       "quantity           0\n",
       "invoice_date       0\n",
       "unit_price         0\n",
       "country            0\n",
       "customer_id        0\n",
       "dtype: int64"
      ]
     },
     "execution_count": 11,
     "metadata": {},
     "output_type": "execute_result"
    }
   ],
   "source": [
    "df1.isna().sum()"
   ]
  },
  {
   "cell_type": "markdown",
   "id": "2e3c11e1",
   "metadata": {
    "hidden": true
   },
   "source": [
    "## 1.6. Change dtypes"
   ]
  },
  {
   "cell_type": "code",
   "execution_count": 12,
   "id": "6d4edcbb",
   "metadata": {
    "ExecuteTime": {
     "end_time": "2021-08-20T18:54:29.305391Z",
     "start_time": "2021-08-20T18:54:29.296508Z"
    },
    "hidden": true
   },
   "outputs": [
    {
     "data": {
      "text/plain": [
       "invoice_no       object\n",
       "stock_code       object\n",
       "description      object\n",
       "quantity          int64\n",
       "invoice_date     object\n",
       "unit_price      float64\n",
       "country          object\n",
       "customer_id     float64\n",
       "dtype: object"
      ]
     },
     "execution_count": 12,
     "metadata": {},
     "output_type": "execute_result"
    }
   ],
   "source": [
    "df1.dtypes"
   ]
  },
  {
   "cell_type": "code",
   "execution_count": 13,
   "id": "e9f81033",
   "metadata": {
    "ExecuteTime": {
     "end_time": "2021-08-20T18:54:29.497171Z",
     "start_time": "2021-08-20T18:54:29.310810Z"
    },
    "hidden": true
   },
   "outputs": [],
   "source": [
    "df1['invoice_date'] = pd.to_datetime(df1['invoice_date'])\n",
    "df1['customer_id'] = df1['customer_id'].astype(int)"
   ]
  },
  {
   "cell_type": "markdown",
   "id": "58961082",
   "metadata": {
    "heading_collapsed": true,
    "hidden": true
   },
   "source": [
    "## 1.7. Descriptive Statistics"
   ]
  },
  {
   "cell_type": "code",
   "execution_count": 14,
   "id": "313769d3",
   "metadata": {
    "ExecuteTime": {
     "end_time": "2021-08-20T18:54:29.559982Z",
     "start_time": "2021-08-20T18:54:29.504617Z"
    },
    "hidden": true
   },
   "outputs": [],
   "source": [
    "num_att = df1.select_dtypes(include=['int64', 'float64'])\n",
    "cat_att = df1.select_dtypes(include=['object'])"
   ]
  },
  {
   "cell_type": "markdown",
   "id": "7629f4b9",
   "metadata": {
    "heading_collapsed": true,
    "hidden": true
   },
   "source": [
    "## 1.7.1. Numerical Attributes"
   ]
  },
  {
   "cell_type": "code",
   "execution_count": 15,
   "id": "79816883",
   "metadata": {
    "ExecuteTime": {
     "end_time": "2021-08-20T18:54:30.242746Z",
     "start_time": "2021-08-20T18:54:29.562211Z"
    },
    "hidden": true
   },
   "outputs": [
    {
     "data": {
      "text/html": [
       "<div>\n",
       "<style scoped>\n",
       "    .dataframe tbody tr th:only-of-type {\n",
       "        vertical-align: middle;\n",
       "    }\n",
       "\n",
       "    .dataframe tbody tr th {\n",
       "        vertical-align: top;\n",
       "    }\n",
       "\n",
       "    .dataframe thead th {\n",
       "        text-align: right;\n",
       "    }\n",
       "</style>\n",
       "<table border=\"1\" class=\"dataframe\">\n",
       "  <thead>\n",
       "    <tr style=\"text-align: right;\">\n",
       "      <th></th>\n",
       "      <th>attributes</th>\n",
       "      <th>min</th>\n",
       "      <th>max</th>\n",
       "      <th>range</th>\n",
       "      <th>mean</th>\n",
       "      <th>median</th>\n",
       "      <th>std</th>\n",
       "      <th>skew</th>\n",
       "      <th>kurtosis</th>\n",
       "    </tr>\n",
       "  </thead>\n",
       "  <tbody>\n",
       "    <tr>\n",
       "      <th>0</th>\n",
       "      <td>quantity</td>\n",
       "      <td>-80995.00</td>\n",
       "      <td>80995.00</td>\n",
       "      <td>161990.00</td>\n",
       "      <td>9.55</td>\n",
       "      <td>3.00</td>\n",
       "      <td>218.08</td>\n",
       "      <td>-0.26</td>\n",
       "      <td>119769.16</td>\n",
       "    </tr>\n",
       "    <tr>\n",
       "      <th>1</th>\n",
       "      <td>unit_price</td>\n",
       "      <td>-11062.06</td>\n",
       "      <td>38970.00</td>\n",
       "      <td>50032.06</td>\n",
       "      <td>4.61</td>\n",
       "      <td>2.08</td>\n",
       "      <td>96.76</td>\n",
       "      <td>186.51</td>\n",
       "      <td>59005.72</td>\n",
       "    </tr>\n",
       "    <tr>\n",
       "      <th>2</th>\n",
       "      <td>customer_id</td>\n",
       "      <td>12346.00</td>\n",
       "      <td>22709.00</td>\n",
       "      <td>10363.00</td>\n",
       "      <td>16688.84</td>\n",
       "      <td>16249.00</td>\n",
       "      <td>2911.41</td>\n",
       "      <td>0.49</td>\n",
       "      <td>-0.80</td>\n",
       "    </tr>\n",
       "  </tbody>\n",
       "</table>\n",
       "</div>"
      ],
      "text/plain": [
       "    attributes       min      max     range     mean   median     std   skew  kurtosis\n",
       "0     quantity -80995.00 80995.00 161990.00     9.55     3.00  218.08  -0.26 119769.16\n",
       "1   unit_price -11062.06 38970.00  50032.06     4.61     2.08   96.76 186.51  59005.72\n",
       "2  customer_id  12346.00 22709.00  10363.00 16688.84 16249.00 2911.41   0.49     -0.80"
      ]
     },
     "execution_count": 15,
     "metadata": {},
     "output_type": "execute_result"
    }
   ],
   "source": [
    "descriptive_statistics(num_att)"
   ]
  },
  {
   "cell_type": "markdown",
   "id": "eb270353",
   "metadata": {
    "hidden": true
   },
   "source": [
    "**Notes:**\n",
    "    \n",
    "1. quantity: numero negativo e alto, pode ser retorno\n",
    "2. unit_price: zero unidades? "
   ]
  },
  {
   "cell_type": "markdown",
   "id": "918bc2a8",
   "metadata": {
    "heading_collapsed": true,
    "hidden": true
   },
   "source": [
    "## 1.7.2. Categorical Attributes"
   ]
  },
  {
   "cell_type": "code",
   "execution_count": 16,
   "id": "fbb2c633",
   "metadata": {
    "ExecuteTime": {
     "end_time": "2021-08-20T18:54:30.826126Z",
     "start_time": "2021-08-20T18:54:30.246701Z"
    },
    "hidden": true
   },
   "outputs": [
    {
     "data": {
      "text/html": [
       "<div>\n",
       "<style scoped>\n",
       "    .dataframe tbody tr th:only-of-type {\n",
       "        vertical-align: middle;\n",
       "    }\n",
       "\n",
       "    .dataframe tbody tr th {\n",
       "        vertical-align: top;\n",
       "    }\n",
       "\n",
       "    .dataframe thead th {\n",
       "        text-align: right;\n",
       "    }\n",
       "</style>\n",
       "<table border=\"1\" class=\"dataframe\">\n",
       "  <thead>\n",
       "    <tr style=\"text-align: right;\">\n",
       "      <th></th>\n",
       "      <th>invoice_no</th>\n",
       "      <th>stock_code</th>\n",
       "      <th>description</th>\n",
       "      <th>country</th>\n",
       "    </tr>\n",
       "  </thead>\n",
       "  <tbody>\n",
       "    <tr>\n",
       "      <th>count</th>\n",
       "      <td>541909</td>\n",
       "      <td>541909</td>\n",
       "      <td>540455</td>\n",
       "      <td>541909</td>\n",
       "    </tr>\n",
       "    <tr>\n",
       "      <th>unique</th>\n",
       "      <td>25900</td>\n",
       "      <td>4070</td>\n",
       "      <td>4223</td>\n",
       "      <td>38</td>\n",
       "    </tr>\n",
       "    <tr>\n",
       "      <th>top</th>\n",
       "      <td>573585</td>\n",
       "      <td>85123A</td>\n",
       "      <td>WHITE HANGING HEART T-LIGHT HOLDER</td>\n",
       "      <td>United Kingdom</td>\n",
       "    </tr>\n",
       "    <tr>\n",
       "      <th>freq</th>\n",
       "      <td>1114</td>\n",
       "      <td>2313</td>\n",
       "      <td>2369</td>\n",
       "      <td>495478</td>\n",
       "    </tr>\n",
       "  </tbody>\n",
       "</table>\n",
       "</div>"
      ],
      "text/plain": [
       "       invoice_no stock_code                         description         country\n",
       "count      541909     541909                              540455          541909\n",
       "unique      25900       4070                                4223              38\n",
       "top        573585     85123A  WHITE HANGING HEART T-LIGHT HOLDER  United Kingdom\n",
       "freq         1114       2313                                2369          495478"
      ]
     },
     "execution_count": 16,
     "metadata": {},
     "output_type": "execute_result"
    }
   ],
   "source": [
    "cat_att.describe(include=['O'])"
   ]
  },
  {
   "cell_type": "markdown",
   "id": "5c50385f",
   "metadata": {
    "heading_collapsed": true,
    "hidden": true
   },
   "source": [
    "### invoice_no"
   ]
  },
  {
   "cell_type": "code",
   "execution_count": 17,
   "id": "b9c16e96",
   "metadata": {
    "ExecuteTime": {
     "end_time": "2021-08-20T18:54:32.281618Z",
     "start_time": "2021-08-20T18:54:30.830715Z"
    },
    "hidden": true
   },
   "outputs": [
    {
     "data": {
      "text/plain": [
       "9291"
      ]
     },
     "execution_count": 17,
     "metadata": {},
     "output_type": "execute_result"
    }
   ],
   "source": [
    "list_letter_invoice = df1.loc[~df1['invoice_no'].apply(lambda x: bool(re.search(r'^[0-9]+', x))), 'invoice_no'].tolist()\n",
    "len(list_letter_invoice)"
   ]
  },
  {
   "cell_type": "code",
   "execution_count": 18,
   "id": "f1e84698",
   "metadata": {
    "ExecuteTime": {
     "end_time": "2021-08-20T18:54:32.289320Z",
     "start_time": "2021-08-20T18:54:32.283899Z"
    },
    "hidden": true
   },
   "outputs": [
    {
     "data": {
      "text/plain": [
       "['C536379',\n",
       " 'C536383',\n",
       " 'C536391',\n",
       " 'C536391',\n",
       " 'C536391',\n",
       " 'C536391',\n",
       " 'C536391',\n",
       " 'C536391',\n",
       " 'C536391',\n",
       " 'C536506']"
      ]
     },
     "execution_count": 18,
     "metadata": {},
     "output_type": "execute_result"
    }
   ],
   "source": [
    "list_letter_invoice[:10]"
   ]
  },
  {
   "cell_type": "markdown",
   "id": "425d7144",
   "metadata": {
    "heading_collapsed": true,
    "hidden": true
   },
   "source": [
    "### stock_code"
   ]
  },
  {
   "cell_type": "code",
   "execution_count": 19,
   "id": "cf334d44",
   "metadata": {
    "ExecuteTime": {
     "end_time": "2021-08-20T18:54:33.962287Z",
     "start_time": "2021-08-20T18:54:32.294185Z"
    },
    "hidden": true
   },
   "outputs": [
    {
     "data": {
      "text/plain": [
       "54675"
      ]
     },
     "execution_count": 19,
     "metadata": {},
     "output_type": "execute_result"
    }
   ],
   "source": [
    "list_letter_stock_code = df1.loc[~df1['stock_code'].apply(lambda x: bool(re.search(r'[^a-zA-Z]+$', x))), 'stock_code'].tolist()\n",
    "\n",
    "len(list_letter_stock_code)"
   ]
  },
  {
   "cell_type": "markdown",
   "id": "e68ff354",
   "metadata": {
    "ExecuteTime": {
     "end_time": "2021-08-05T13:17:17.648781Z",
     "start_time": "2021-08-05T13:17:17.644779Z"
    },
    "heading_collapsed": true,
    "hidden": true
   },
   "source": [
    "### country"
   ]
  },
  {
   "cell_type": "code",
   "execution_count": 20,
   "id": "6dfe579a",
   "metadata": {
    "ExecuteTime": {
     "end_time": "2021-08-20T18:54:34.048651Z",
     "start_time": "2021-08-20T18:54:33.967833Z"
    },
    "hidden": true
   },
   "outputs": [
    {
     "data": {
      "text/plain": [
       "United Kingdom   0.91\n",
       "Germany          0.02\n",
       "France           0.02\n",
       "EIRE             0.02\n",
       "Spain            0.00\n",
       "Netherlands      0.00\n",
       "Belgium          0.00\n",
       "Switzerland      0.00\n",
       "Portugal         0.00\n",
       "Australia        0.00\n",
       "Name: country, dtype: float64"
      ]
     },
     "execution_count": 20,
     "metadata": {},
     "output_type": "execute_result"
    }
   ],
   "source": [
    "df1['country'].value_counts(normalize=True).head(10)"
   ]
  },
  {
   "cell_type": "markdown",
   "id": "dc1920ae",
   "metadata": {
    "hidden": true
   },
   "source": [
    "**Notes**\n",
    "1. invoice_no: 8905 items que não são somente numeros.\n",
    "2. stock_code: 35809 items que não são somente numeros.\n",
    "3. description: não tem informação relevante."
   ]
  },
  {
   "cell_type": "markdown",
   "id": "68b2a24f",
   "metadata": {
    "heading_collapsed": true
   },
   "source": [
    "# 2.0. Data Filtering"
   ]
  },
  {
   "cell_type": "code",
   "execution_count": 21,
   "id": "90095e9b",
   "metadata": {
    "ExecuteTime": {
     "end_time": "2021-08-20T18:54:34.089964Z",
     "start_time": "2021-08-20T18:54:34.053004Z"
    },
    "hidden": true
   },
   "outputs": [],
   "source": [
    "df2 = df1.copy()"
   ]
  },
  {
   "cell_type": "markdown",
   "id": "25199fd0",
   "metadata": {
    "heading_collapsed": true,
    "hidden": true
   },
   "source": [
    "## 2.1. Filter Columns"
   ]
  },
  {
   "cell_type": "code",
   "execution_count": 22,
   "id": "0bad1aec",
   "metadata": {
    "ExecuteTime": {
     "end_time": "2021-08-20T18:54:34.147534Z",
     "start_time": "2021-08-20T18:54:34.093791Z"
    },
    "hidden": true
   },
   "outputs": [],
   "source": [
    "cols_drop = ['description']\n",
    "df2 = df2.drop(cols_drop, axis=1)"
   ]
  },
  {
   "cell_type": "markdown",
   "id": "b50e3b32",
   "metadata": {
    "heading_collapsed": true,
    "hidden": true
   },
   "source": [
    "## 2.2. Filter Rows"
   ]
  },
  {
   "cell_type": "code",
   "execution_count": 23,
   "id": "6bcd20d3",
   "metadata": {
    "ExecuteTime": {
     "end_time": "2021-08-20T18:54:34.478959Z",
     "start_time": "2021-08-20T18:54:34.156245Z"
    },
    "hidden": true
   },
   "outputs": [],
   "source": [
    "# Numerical Attributes\n",
    "df2 = df2.loc[df2['unit_price'] >= 0.4, :]\n",
    "\n",
    "# Categorical Attributes\n",
    "df2 = df2.loc[~df2['stock_code'].isin(['POST', 'D', 'DOT', 'M', 'S', 'AMAZONFEE', 'm', 'DCGSSBOY', 'DCGSSGIRL', 'PADS', 'B', 'CRUK'] ), :]\n",
    "\n",
    "# map\n",
    "df2 = df2.loc[~df2['country'].isin(['European Community', 'Unspecified' ]), :]\n",
    "\n",
    "# bad user\n",
    "df2 = df2[~df2['customer_id'].isin( [16446] )]\n",
    "\n",
    "# quantity\n",
    "df2_returns   = df2.loc[df2['quantity'] < 0, :]\n",
    "df2_purchases = df2.loc[df2['quantity'] >= 0, :]"
   ]
  },
  {
   "cell_type": "markdown",
   "id": "16814c2a",
   "metadata": {
    "heading_collapsed": true
   },
   "source": [
    "# 3.0. Feature Engineering"
   ]
  },
  {
   "cell_type": "code",
   "execution_count": 24,
   "id": "3dcc6d38",
   "metadata": {
    "ExecuteTime": {
     "end_time": "2021-08-20T18:54:34.529433Z",
     "start_time": "2021-08-20T18:54:34.481944Z"
    },
    "hidden": true
   },
   "outputs": [],
   "source": [
    "df3 = df2.copy()"
   ]
  },
  {
   "cell_type": "markdown",
   "id": "180d585e",
   "metadata": {
    "heading_collapsed": true,
    "hidden": true
   },
   "source": [
    "## 3.1. Feature Creation"
   ]
  },
  {
   "cell_type": "code",
   "execution_count": 25,
   "id": "153c0407",
   "metadata": {
    "ExecuteTime": {
     "end_time": "2021-08-20T18:54:34.584888Z",
     "start_time": "2021-08-20T18:54:34.533683Z"
    },
    "hidden": true
   },
   "outputs": [],
   "source": [
    "drop_cols = ['invoice_no', 'stock_code', 'quantity', 'invoice_date', 'unit_price', 'country']\n",
    "df_ref = df3.drop(drop_cols, axis=1).drop_duplicates(ignore_index=True)"
   ]
  },
  {
   "cell_type": "code",
   "execution_count": 26,
   "id": "93e42a51",
   "metadata": {
    "ExecuteTime": {
     "end_time": "2021-08-20T18:54:34.616332Z",
     "start_time": "2021-08-20T18:54:34.588774Z"
    },
    "hidden": true
   },
   "outputs": [
    {
     "name": "stderr",
     "output_type": "stream",
     "text": [
      "/home/cid/.pyenv/versions/3.8.0/envs/clustering-high-value-customers-identification/lib/python3.8/site-packages/pandas/core/indexing.py:1773: SettingWithCopyWarning: \n",
      "A value is trying to be set on a copy of a slice from a DataFrame.\n",
      "Try using .loc[row_indexer,col_indexer] = value instead\n",
      "\n",
      "See the caveats in the documentation: https://pandas.pydata.org/pandas-docs/stable/user_guide/indexing.html#returning-a-view-versus-a-copy\n",
      "  self._setitem_single_column(ilocs[0], value, pi)\n"
     ]
    }
   ],
   "source": [
    "df2_purchases.loc[:, ['gross_revenue']] = (df2_purchases.loc[:, 'quantity'] * df2_purchases.loc[:, 'unit_price'])"
   ]
  },
  {
   "cell_type": "markdown",
   "id": "6b340b62",
   "metadata": {
    "ExecuteTime": {
     "end_time": "2021-08-09T16:49:44.138631Z",
     "start_time": "2021-08-09T16:49:44.131084Z"
    },
    "heading_collapsed": true,
    "hidden": true
   },
   "source": [
    "### 3.1.1. Monetary"
   ]
  },
  {
   "cell_type": "code",
   "execution_count": 27,
   "id": "485f6c6e",
   "metadata": {
    "ExecuteTime": {
     "end_time": "2021-08-20T18:54:34.744282Z",
     "start_time": "2021-08-20T18:54:34.626243Z"
    },
    "hidden": true
   },
   "outputs": [
    {
     "data": {
      "text/plain": [
       "customer_id     0\n",
       "monetary       92\n",
       "dtype: int64"
      ]
     },
     "execution_count": 27,
     "metadata": {},
     "output_type": "execute_result"
    }
   ],
   "source": [
    "df_monetary = df2_purchases.loc[:, ['customer_id', 'gross_revenue']].groupby('customer_id').sum().reset_index().rename(columns={'gross_revenue': 'monetary'})\n",
    "df_ref = pd.merge(df_ref, df_monetary, how='left', on='customer_id')\n",
    "df_ref.isna().sum()"
   ]
  },
  {
   "cell_type": "markdown",
   "id": "39634d79",
   "metadata": {
    "ExecuteTime": {
     "end_time": "2021-08-09T16:49:44.138631Z",
     "start_time": "2021-08-09T16:49:44.131084Z"
    },
    "heading_collapsed": true,
    "hidden": true
   },
   "source": [
    "### 3.1.2. Recency"
   ]
  },
  {
   "cell_type": "code",
   "execution_count": 28,
   "id": "86e6efcc",
   "metadata": {
    "ExecuteTime": {
     "end_time": "2021-08-20T18:54:34.824183Z",
     "start_time": "2021-08-20T18:54:34.756914Z"
    },
    "hidden": true
   },
   "outputs": [
    {
     "data": {
      "text/plain": [
       "customer_id      0\n",
       "monetary        92\n",
       "recency_days    92\n",
       "dtype: int64"
      ]
     },
     "execution_count": 28,
     "metadata": {},
     "output_type": "execute_result"
    }
   ],
   "source": [
    "df_recency = df2_purchases.loc[:, ['customer_id', 'invoice_date']].groupby('customer_id').max().reset_index()\n",
    "df_recency['recency_days'] = (df_recency['invoice_date'].max() - df_recency['invoice_date']).dt.days\n",
    "df_ref = pd.merge(df_ref, df_recency[['customer_id', 'recency_days']], how='left', on='customer_id')\n",
    "\n",
    "df_ref.isna().sum()"
   ]
  },
  {
   "cell_type": "markdown",
   "id": "25bdfbc6",
   "metadata": {
    "ExecuteTime": {
     "end_time": "2021-08-09T16:49:44.138631Z",
     "start_time": "2021-08-09T16:49:44.131084Z"
    },
    "heading_collapsed": true,
    "hidden": true
   },
   "source": [
    "### 3.1.3. Quatily of purchased"
   ]
  },
  {
   "cell_type": "code",
   "execution_count": 29,
   "id": "f95c9fd1",
   "metadata": {
    "ExecuteTime": {
     "end_time": "2021-08-20T18:54:34.956211Z",
     "start_time": "2021-08-20T18:54:34.829334Z"
    },
    "hidden": true
   },
   "outputs": [
    {
     "data": {
      "text/plain": [
       "customer_id       0\n",
       "monetary         92\n",
       "recency_days     92\n",
       "qtde_invoices    92\n",
       "dtype: int64"
      ]
     },
     "execution_count": 29,
     "metadata": {},
     "output_type": "execute_result"
    }
   ],
   "source": [
    "df_freq = df2_purchases[['customer_id', 'invoice_no']].drop_duplicates().groupby('customer_id').count().reset_index().\\\n",
    "rename(columns={'invoice_no': 'qtde_invoices'})\n",
    "\n",
    "df_ref = pd.merge(df_ref, df_freq, how='left', on='customer_id')\n",
    "df_ref.isna().sum()"
   ]
  },
  {
   "cell_type": "markdown",
   "id": "a2f4d7c7",
   "metadata": {
    "heading_collapsed": true,
    "hidden": true
   },
   "source": [
    "### 3.1.4. Quantity total of items purchased"
   ]
  },
  {
   "cell_type": "code",
   "execution_count": 30,
   "id": "a59a9d62",
   "metadata": {
    "ExecuteTime": {
     "end_time": "2021-08-20T18:54:35.030709Z",
     "start_time": "2021-08-20T18:54:34.961555Z"
    },
    "hidden": true
   },
   "outputs": [
    {
     "data": {
      "text/plain": [
       "customer_id       0\n",
       "monetary         92\n",
       "recency_days     92\n",
       "qtde_invoices    92\n",
       "qtde_items       92\n",
       "dtype: int64"
      ]
     },
     "execution_count": 30,
     "metadata": {},
     "output_type": "execute_result"
    }
   ],
   "source": [
    "df_freq = (df2_purchases.loc[:, ['customer_id', 'quantity']].groupby('customer_id')\n",
    "                                                            .sum()\n",
    "                                                            .reset_index()\n",
    "                                                            .rename(columns={'quantity': 'qtde_items'}))\n",
    "df_ref = pd.merge(df_ref, df_freq, how='left', on='customer_id')\n",
    "df_ref.isna().sum()"
   ]
  },
  {
   "cell_type": "markdown",
   "id": "410ffb81",
   "metadata": {
    "ExecuteTime": {
     "end_time": "2021-08-12T13:29:13.252634Z",
     "start_time": "2021-08-12T13:29:13.237186Z"
    },
    "heading_collapsed": true,
    "hidden": true
   },
   "source": [
    "### 3.1.5. Quantity of products purchased"
   ]
  },
  {
   "cell_type": "code",
   "execution_count": 31,
   "id": "81686ba1",
   "metadata": {
    "ExecuteTime": {
     "end_time": "2021-08-20T18:54:35.160190Z",
     "start_time": "2021-08-20T18:54:35.036041Z"
    },
    "hidden": true
   },
   "outputs": [
    {
     "data": {
      "text/plain": [
       "customer_id       0\n",
       "monetary         92\n",
       "recency_days     92\n",
       "qtde_invoices    92\n",
       "qtde_items       92\n",
       "qtde_products    92\n",
       "dtype: int64"
      ]
     },
     "execution_count": 31,
     "metadata": {},
     "output_type": "execute_result"
    }
   ],
   "source": [
    "df_freq = ( df2_purchases.loc[:, ['customer_id', 'stock_code']].groupby('customer_id')\n",
    "                                                               .count()\n",
    "                                                               .reset_index()\n",
    "                                                               .rename(columns={'stock_code': 'qtde_products'}))\n",
    "df_ref = pd.merge(df_ref, df_freq, how='left', on='customer_id')\n",
    "df_ref.isna().sum()"
   ]
  },
  {
   "cell_type": "markdown",
   "id": "0bbbf7fe",
   "metadata": {
    "ExecuteTime": {
     "end_time": "2021-08-09T16:49:44.138631Z",
     "start_time": "2021-08-09T16:49:44.131084Z"
    },
    "heading_collapsed": true,
    "hidden": true
   },
   "source": [
    "### 3.1.6. Average Ticket"
   ]
  },
  {
   "cell_type": "code",
   "execution_count": 32,
   "id": "d2d0eed6",
   "metadata": {
    "ExecuteTime": {
     "end_time": "2021-08-20T18:54:35.230037Z",
     "start_time": "2021-08-20T18:54:35.163403Z"
    },
    "hidden": true
   },
   "outputs": [
    {
     "data": {
      "text/plain": [
       "customer_id       0\n",
       "monetary         92\n",
       "recency_days     92\n",
       "qtde_invoices    92\n",
       "qtde_items       92\n",
       "qtde_products    92\n",
       "avg_ticket       92\n",
       "dtype: int64"
      ]
     },
     "execution_count": 32,
     "metadata": {},
     "output_type": "execute_result"
    }
   ],
   "source": [
    "df_avg_ticket =  (df2_purchases.loc[:, ['customer_id','gross_revenue']].groupby('customer_id')\n",
    "                                                                       .mean()\n",
    "                                                                       .reset_index()\n",
    "                                                                       .rename(columns={'gross_revenue': 'avg_ticket'}))\n",
    "\n",
    "df_ref = pd.merge(df_ref, df_avg_ticket, how='left', on='customer_id')\n",
    "\n",
    "df_ref.isna().sum()"
   ]
  },
  {
   "cell_type": "markdown",
   "id": "9c33c58d",
   "metadata": {
    "heading_collapsed": true,
    "hidden": true
   },
   "source": [
    "### 3.1.7. Average Recency Days"
   ]
  },
  {
   "cell_type": "code",
   "execution_count": 33,
   "id": "bd3c3af6",
   "metadata": {
    "ExecuteTime": {
     "end_time": "2021-08-20T18:54:35.308025Z",
     "start_time": "2021-08-20T18:54:35.237355Z"
    },
    "hidden": true
   },
   "outputs": [],
   "source": [
    "df_aux = df2[['customer_id', 'invoice_date']].drop_duplicates().sort_values(['customer_id', 'invoice_date'], ascending=[False, False])\n",
    "df_aux['next_customer_id'] = df_aux['customer_id'].shift()\n",
    "df_aux['previus_date'] = df_aux['invoice_date'].shift()"
   ]
  },
  {
   "cell_type": "code",
   "execution_count": 34,
   "id": "0dcc70c2",
   "metadata": {
    "ExecuteTime": {
     "end_time": "2021-08-20T18:54:37.324021Z",
     "start_time": "2021-08-20T18:54:35.311044Z"
    },
    "hidden": true
   },
   "outputs": [],
   "source": [
    "df_aux['avg_recency_days'] = df_aux.apply( lambda x: (x['invoice_date'] - x['previus_date']).days if x['customer_id'] == x['next_customer_id'] else np.nan, axis=1)\n",
    "df_aux['avg_recency_days'] = df_aux['avg_recency_days'] * -1\n",
    "df_aux = df_aux.drop(columns=['invoice_date', 'next_customer_id', 'previus_date'], axis=1).dropna()"
   ]
  },
  {
   "cell_type": "code",
   "execution_count": 35,
   "id": "0f1caa5a",
   "metadata": {
    "ExecuteTime": {
     "end_time": "2021-08-20T18:54:37.359073Z",
     "start_time": "2021-08-20T18:54:37.326520Z"
    },
    "hidden": true
   },
   "outputs": [
    {
     "data": {
      "text/plain": [
       "customer_id            0\n",
       "monetary              92\n",
       "recency_days          92\n",
       "qtde_invoices         92\n",
       "qtde_items            92\n",
       "qtde_products         92\n",
       "avg_ticket            92\n",
       "avg_recency_days    2815\n",
       "dtype: int64"
      ]
     },
     "execution_count": 35,
     "metadata": {},
     "output_type": "execute_result"
    }
   ],
   "source": [
    "df_avg_recency_days = df_aux.groupby( 'customer_id' ).mean().reset_index()\n",
    "\n",
    "df_ref = pd.merge(df_ref, df_avg_recency_days, on='customer_id', how='left')\n",
    "df_ref.isna().sum()"
   ]
  },
  {
   "cell_type": "markdown",
   "id": "922407e6",
   "metadata": {
    "heading_collapsed": true,
    "hidden": true
   },
   "source": [
    "### 3.1.8. Frequency Purchase"
   ]
  },
  {
   "cell_type": "code",
   "execution_count": 36,
   "id": "ecf5a5d7",
   "metadata": {
    "ExecuteTime": {
     "end_time": "2021-08-20T18:54:39.928209Z",
     "start_time": "2021-08-20T18:54:37.363002Z"
    },
    "hidden": true
   },
   "outputs": [
    {
     "data": {
      "text/plain": [
       "customer_id            0\n",
       "monetary              92\n",
       "recency_days          92\n",
       "qtde_invoices         92\n",
       "qtde_items            92\n",
       "qtde_products         92\n",
       "avg_ticket            92\n",
       "avg_recency_days    2815\n",
       "frequency             92\n",
       "dtype: int64"
      ]
     },
     "execution_count": 36,
     "metadata": {},
     "output_type": "execute_result"
    }
   ],
   "source": [
    "df_aux = (df2_purchases[['customer_id', 'invoice_no', 'invoice_date']].drop_duplicates()\n",
    "                                                 .groupby('customer_id')\n",
    "                                                 .agg( max_ = ('invoice_date', 'max'),\n",
    "                                                       min_ = ('invoice_date', 'min'),\n",
    "                                                       days = ('invoice_date', lambda x: ((x.max() - x.min()).days) + 1 ),\n",
    "                                                       buy_ = ( 'invoice_no', 'count' ))).reset_index()\n",
    "\n",
    "df_aux['frequency'] = df_aux[['buy_', 'days']].apply( lambda x: x['buy_'] / x['days'] if x['days'] != 0 else 0, axis=1 )\n",
    "\n",
    "df_ref = pd.merge(df_ref, df_aux[['customer_id', 'frequency']], on='customer_id', how='left')\n",
    "df_ref.isna().sum()"
   ]
  },
  {
   "cell_type": "markdown",
   "id": "a90650fd",
   "metadata": {
    "heading_collapsed": true,
    "hidden": true
   },
   "source": [
    "### 3.1.9. Number Or Returns"
   ]
  },
  {
   "cell_type": "code",
   "execution_count": 37,
   "id": "fc6071ef",
   "metadata": {
    "ExecuteTime": {
     "end_time": "2021-08-20T18:54:39.971861Z",
     "start_time": "2021-08-20T18:54:39.932136Z"
    },
    "hidden": true
   },
   "outputs": [
    {
     "data": {
      "text/plain": [
       "customer_id            0\n",
       "monetary              92\n",
       "recency_days          92\n",
       "qtde_invoices         92\n",
       "qtde_items            92\n",
       "qtde_products         92\n",
       "avg_ticket            92\n",
       "avg_recency_days    2815\n",
       "frequency             92\n",
       "qtde_returns           0\n",
       "dtype: int64"
      ]
     },
     "execution_count": 37,
     "metadata": {},
     "output_type": "execute_result"
    }
   ],
   "source": [
    "df_returns = df2_returns[['quantity', 'customer_id']].groupby('customer_id').sum().reset_index().rename(columns={'quantity': 'qtde_returns'})\n",
    "df_returns['qtde_returns'] = df_returns['qtde_returns'] * -1\n",
    "\n",
    "df_ref = pd.merge(df_ref, df_returns, on='customer_id', how='left')\n",
    "df_ref['qtde_returns'].fillna(0, inplace=True)\n",
    "df_ref.isna().sum()"
   ]
  },
  {
   "cell_type": "markdown",
   "id": "83a0383f",
   "metadata": {
    "heading_collapsed": true,
    "hidden": true
   },
   "source": [
    "### 3.1.10. Basket Size"
   ]
  },
  {
   "cell_type": "code",
   "execution_count": 38,
   "id": "f823e35f",
   "metadata": {
    "ExecuteTime": {
     "end_time": "2021-08-20T18:54:40.144010Z",
     "start_time": "2021-08-20T18:54:39.978338Z"
    },
    "hidden": true
   },
   "outputs": [
    {
     "data": {
      "text/plain": [
       "customer_id            0\n",
       "monetary              92\n",
       "recency_days          92\n",
       "qtde_invoices         92\n",
       "qtde_items            92\n",
       "qtde_products         92\n",
       "avg_ticket            92\n",
       "avg_recency_days    2815\n",
       "frequency             92\n",
       "qtde_returns           0\n",
       "avg_basket_size       92\n",
       "dtype: int64"
      ]
     },
     "execution_count": 38,
     "metadata": {},
     "output_type": "execute_result"
    }
   ],
   "source": [
    "df_aux = (df2_purchases[['customer_id', 'invoice_no', 'quantity']].groupby('customer_id')\n",
    "                                                                   .agg( n_purchase=('invoice_no', 'nunique'),\n",
    "                                                                         n_products=('quantity', 'sum'))).reset_index()\n",
    "df_aux['avg_basket_size'] = df_aux['n_products'] / df_aux['n_purchase']\n",
    "df_ref = pd.merge(df_ref, df_aux[['avg_basket_size', 'customer_id']], on='customer_id', how='left')\n",
    "df_ref.isna().sum()"
   ]
  },
  {
   "cell_type": "markdown",
   "id": "308da526",
   "metadata": {
    "heading_collapsed": true,
    "hidden": true
   },
   "source": [
    "### 3.1.11. Unique Basket Size"
   ]
  },
  {
   "cell_type": "code",
   "execution_count": 39,
   "id": "e81c5029",
   "metadata": {
    "ExecuteTime": {
     "end_time": "2021-08-20T18:54:40.524330Z",
     "start_time": "2021-08-20T18:54:40.146618Z"
    },
    "hidden": true
   },
   "outputs": [
    {
     "data": {
      "text/plain": [
       "customer_id                  0\n",
       "monetary                    92\n",
       "recency_days                92\n",
       "qtde_invoices               92\n",
       "qtde_items                  92\n",
       "qtde_products               92\n",
       "avg_ticket                  92\n",
       "avg_recency_days          2815\n",
       "frequency                   92\n",
       "qtde_returns                 0\n",
       "avg_basket_size             92\n",
       "avg_unique_basket_size      92\n",
       "dtype: int64"
      ]
     },
     "execution_count": 39,
     "metadata": {},
     "output_type": "execute_result"
    }
   ],
   "source": [
    "df_aux = (df2_purchases.loc[:, ['customer_id', 'invoice_no', 'stock_code']].groupby( 'customer_id' )\n",
    "                                                                         .agg(n_purchase=('invoice_no', 'nunique'),\n",
    "                                                                              n_products=('stock_code', 'nunique'))).reset_index()\n",
    "df_aux['avg_unique_basket_size'] = df_aux['n_products'] / df_aux['n_purchase']\n",
    "\n",
    "df_ref = pd.merge(df_ref, df_aux[['avg_unique_basket_size', 'customer_id']], on='customer_id', how='left')\n",
    "df_ref.isna().sum()"
   ]
  },
  {
   "cell_type": "markdown",
   "id": "5e87e47c",
   "metadata": {},
   "source": [
    "# 4.0. EDA  "
   ]
  },
  {
   "cell_type": "code",
   "execution_count": 40,
   "id": "aac53260",
   "metadata": {
    "ExecuteTime": {
     "end_time": "2021-08-20T18:54:40.541950Z",
     "start_time": "2021-08-20T18:54:40.527311Z"
    }
   },
   "outputs": [],
   "source": [
    "df_ref = df_ref.dropna()\n",
    "\n",
    "df4 = df_ref.copy()"
   ]
  },
  {
   "cell_type": "markdown",
   "id": "610f7815",
   "metadata": {},
   "source": [
    "## 4.1. Univariate Analysis"
   ]
  },
  {
   "cell_type": "code",
   "execution_count": 41,
   "id": "8cc650b3",
   "metadata": {
    "ExecuteTime": {
     "end_time": "2021-08-20T18:54:40.551773Z",
     "start_time": "2021-08-20T18:54:40.545680Z"
    }
   },
   "outputs": [],
   "source": [
    "# report = ProfileReport(df4)\n",
    "# report.to_file('../reports/output.html')"
   ]
  },
  {
   "cell_type": "markdown",
   "id": "2c296b12",
   "metadata": {},
   "source": [
    "### 4.1.1. monetary"
   ]
  },
  {
   "cell_type": "code",
   "execution_count": 48,
   "id": "017ea950",
   "metadata": {
    "ExecuteTime": {
     "end_time": "2021-08-20T18:57:00.391254Z",
     "start_time": "2021-08-20T18:56:57.193399Z"
    }
   },
   "outputs": [
    {
     "data": {
      "image/png": "[encoded data removed]",
      "text/plain": [
       "<Figure size 1728x648 with 2 Axes>"
      ]
     },
     "metadata": {},
     "output_type": "display_data"
    }
   ],
   "source": [
    "f, (ax_box, ax_hist) = plt.subplots(2, sharex=True, gridspec_kw={\"height_ratios\": (.15, .85)})\n",
    "\n",
    "sns.boxplot(data=df4, x=\"monetary\", ax=ax_box)\n",
    "sns.histplot(data=df4, x=\"monetary\", ax=ax_hist)\n",
    " \n",
    "# Remove x axis name for the boxplot\n",
    "ax_box.set(xlabel='')\n",
    "plt.show()"
   ]
  },
  {
   "cell_type": "code",
   "execution_count": 45,
   "id": "ad8c1957",
   "metadata": {
    "ExecuteTime": {
     "end_time": "2021-08-20T18:56:17.879306Z",
     "start_time": "2021-08-20T18:56:17.857369Z"
    }
   },
   "outputs": [
    {
     "data": {
      "text/html": [
       "<div>\n",
       "<style scoped>\n",
       "    .dataframe tbody tr th:only-of-type {\n",
       "        vertical-align: middle;\n",
       "    }\n",
       "\n",
       "    .dataframe tbody tr th {\n",
       "        vertical-align: top;\n",
       "    }\n",
       "\n",
       "    .dataframe thead th {\n",
       "        text-align: right;\n",
       "    }\n",
       "</style>\n",
       "<table border=\"1\" class=\"dataframe\">\n",
       "  <thead>\n",
       "    <tr style=\"text-align: right;\">\n",
       "      <th></th>\n",
       "      <th>customer_id</th>\n",
       "      <th>monetary</th>\n",
       "      <th>recency_days</th>\n",
       "      <th>qtde_invoices</th>\n",
       "      <th>qtde_items</th>\n",
       "      <th>qtde_products</th>\n",
       "      <th>avg_ticket</th>\n",
       "      <th>avg_recency_days</th>\n",
       "      <th>frequency</th>\n",
       "      <th>qtde_returns</th>\n",
       "      <th>avg_basket_size</th>\n",
       "      <th>avg_unique_basket_size</th>\n",
       "    </tr>\n",
       "  </thead>\n",
       "  <tbody>\n",
       "    <tr>\n",
       "      <th>1015</th>\n",
       "      <td>14646</td>\n",
       "      <td>272345.66</td>\n",
       "      <td>1.00</td>\n",
       "      <td>72.00</td>\n",
       "      <td>177148.00</td>\n",
       "      <td>1905.00</td>\n",
       "      <td>142.96</td>\n",
       "      <td>7.84</td>\n",
       "      <td>0.20</td>\n",
       "      <td>288.00</td>\n",
       "      <td>2460.39</td>\n",
       "      <td>8.99</td>\n",
       "    </tr>\n",
       "    <tr>\n",
       "      <th>492</th>\n",
       "      <td>18102</td>\n",
       "      <td>259657.30</td>\n",
       "      <td>0.00</td>\n",
       "      <td>60.00</td>\n",
       "      <td>64124.00</td>\n",
       "      <td>431.00</td>\n",
       "      <td>602.45</td>\n",
       "      <td>14.68</td>\n",
       "      <td>0.16</td>\n",
       "      <td>0.00</td>\n",
       "      <td>1068.73</td>\n",
       "      <td>2.50</td>\n",
       "    </tr>\n",
       "    <tr>\n",
       "      <th>433</th>\n",
       "      <td>17450</td>\n",
       "      <td>194550.79</td>\n",
       "      <td>8.00</td>\n",
       "      <td>46.00</td>\n",
       "      <td>69993.00</td>\n",
       "      <td>337.00</td>\n",
       "      <td>577.30</td>\n",
       "      <td>12.82</td>\n",
       "      <td>0.13</td>\n",
       "      <td>952.00</td>\n",
       "      <td>1521.59</td>\n",
       "      <td>2.70</td>\n",
       "    </tr>\n",
       "    <tr>\n",
       "      <th>66</th>\n",
       "      <td>14911</td>\n",
       "      <td>136626.96</td>\n",
       "      <td>1.00</td>\n",
       "      <td>199.00</td>\n",
       "      <td>66368.00</td>\n",
       "      <td>5337.00</td>\n",
       "      <td>25.60</td>\n",
       "      <td>2.60</td>\n",
       "      <td>0.53</td>\n",
       "      <td>3217.00</td>\n",
       "      <td>333.51</td>\n",
       "      <td>8.37</td>\n",
       "    </tr>\n",
       "    <tr>\n",
       "      <th>1147</th>\n",
       "      <td>12415</td>\n",
       "      <td>120193.93</td>\n",
       "      <td>24.00</td>\n",
       "      <td>20.00</td>\n",
       "      <td>64493.00</td>\n",
       "      <td>644.00</td>\n",
       "      <td>186.64</td>\n",
       "      <td>20.87</td>\n",
       "      <td>0.06</td>\n",
       "      <td>427.00</td>\n",
       "      <td>3224.65</td>\n",
       "      <td>19.65</td>\n",
       "    </tr>\n",
       "    <tr>\n",
       "      <th>190</th>\n",
       "      <td>14156</td>\n",
       "      <td>115727.35</td>\n",
       "      <td>9.00</td>\n",
       "      <td>55.00</td>\n",
       "      <td>52013.00</td>\n",
       "      <td>1353.00</td>\n",
       "      <td>85.53</td>\n",
       "      <td>7.26</td>\n",
       "      <td>0.15</td>\n",
       "      <td>859.00</td>\n",
       "      <td>945.69</td>\n",
       "      <td>12.49</td>\n",
       "    </tr>\n",
       "    <tr>\n",
       "      <th>15</th>\n",
       "      <td>17511</td>\n",
       "      <td>87716.48</td>\n",
       "      <td>2.00</td>\n",
       "      <td>31.00</td>\n",
       "      <td>52259.00</td>\n",
       "      <td>856.00</td>\n",
       "      <td>102.47</td>\n",
       "      <td>11.59</td>\n",
       "      <td>0.08</td>\n",
       "      <td>1534.00</td>\n",
       "      <td>1685.77</td>\n",
       "      <td>12.26</td>\n",
       "    </tr>\n",
       "    <tr>\n",
       "      <th>12</th>\n",
       "      <td>16029</td>\n",
       "      <td>72882.09</td>\n",
       "      <td>38.00</td>\n",
       "      <td>62.00</td>\n",
       "      <td>40207.00</td>\n",
       "      <td>241.00</td>\n",
       "      <td>302.42</td>\n",
       "      <td>9.05</td>\n",
       "      <td>0.18</td>\n",
       "      <td>8004.00</td>\n",
       "      <td>648.50</td>\n",
       "      <td>0.69</td>\n",
       "    </tr>\n",
       "    <tr>\n",
       "      <th>953</th>\n",
       "      <td>16684</td>\n",
       "      <td>62078.12</td>\n",
       "      <td>4.00</td>\n",
       "      <td>26.00</td>\n",
       "      <td>36731.00</td>\n",
       "      <td>243.00</td>\n",
       "      <td>255.47</td>\n",
       "      <td>22.12</td>\n",
       "      <td>0.07</td>\n",
       "      <td>864.00</td>\n",
       "      <td>1412.73</td>\n",
       "      <td>3.88</td>\n",
       "    </tr>\n",
       "    <tr>\n",
       "      <th>8</th>\n",
       "      <td>15311</td>\n",
       "      <td>60402.22</td>\n",
       "      <td>0.00</td>\n",
       "      <td>91.00</td>\n",
       "      <td>36978.00</td>\n",
       "      <td>2326.00</td>\n",
       "      <td>25.97</td>\n",
       "      <td>4.14</td>\n",
       "      <td>0.24</td>\n",
       "      <td>474.00</td>\n",
       "      <td>406.35</td>\n",
       "      <td>6.00</td>\n",
       "    </tr>\n",
       "  </tbody>\n",
       "</table>\n",
       "</div>"
      ],
      "text/plain": [
       "      customer_id  monetary  recency_days  qtde_invoices  qtde_items  qtde_products  avg_ticket  avg_recency_days  frequency  qtde_returns  avg_basket_size  avg_unique_basket_size\n",
       "1015        14646 272345.66          1.00          72.00   177148.00        1905.00      142.96              7.84       0.20        288.00          2460.39                    8.99\n",
       "492         18102 259657.30          0.00          60.00    64124.00         431.00      602.45             14.68       0.16          0.00          1068.73                    2.50\n",
       "433         17450 194550.79          8.00          46.00    69993.00         337.00      577.30             12.82       0.13        952.00          1521.59                    2.70\n",
       "66          14911 136626.96          1.00         199.00    66368.00        5337.00       25.60              2.60       0.53       3217.00           333.51                    8.37\n",
       "1147        12415 120193.93         24.00          20.00    64493.00         644.00      186.64             20.87       0.06        427.00          3224.65                   19.65\n",
       "190         14156 115727.35          9.00          55.00    52013.00        1353.00       85.53              7.26       0.15        859.00           945.69                   12.49\n",
       "15          17511  87716.48          2.00          31.00    52259.00         856.00      102.47             11.59       0.08       1534.00          1685.77                   12.26\n",
       "12          16029  72882.09         38.00          62.00    40207.00         241.00      302.42              9.05       0.18       8004.00           648.50                    0.69\n",
       "953         16684  62078.12          4.00          26.00    36731.00         243.00      255.47             22.12       0.07        864.00          1412.73                    3.88\n",
       "8           15311  60402.22          0.00          91.00    36978.00        2326.00       25.97              4.14       0.24        474.00           406.35                    6.00"
      ]
     },
     "execution_count": 45,
     "metadata": {},
     "output_type": "execute_result"
    }
   ],
   "source": [
    "df4.sort_values('monetary', ascending=False).head(10)"
   ]
  },
  {
   "cell_type": "markdown",
   "id": "6c8a8791",
   "metadata": {
    "heading_collapsed": true
   },
   "source": [
    "### 4.1.2. qtde_invoices"
   ]
  },
  {
   "cell_type": "code",
   "execution_count": 46,
   "id": "60da2a69",
   "metadata": {
    "ExecuteTime": {
     "end_time": "2021-08-20T18:56:27.870414Z",
     "start_time": "2021-08-20T18:56:26.649194Z"
    },
    "hidden": true
   },
   "outputs": [
    {
     "data": {
      "image/png": "[encoded data removed]",
      "text/plain": [
       "<Figure size 1728x648 with 2 Axes>"
      ]
     },
     "metadata": {},
     "output_type": "display_data"
    }
   ],
   "source": [
    "f, (ax_box, ax_hist) = plt.subplots(2, sharex=True, gridspec_kw={\"height_ratios\": (.15, .85)})\n",
    "\n",
    "sns.boxplot(data=df4, x=\"qtde_invoices\", ax=ax_box)\n",
    "sns.histplot(data=df4, x=\"qtde_invoices\", ax=ax_hist)\n",
    " \n",
    "# Remove x axis name for the boxplot\n",
    "ax_box.set(xlabel='')\n",
    "plt.show()"
   ]
  },
  {
   "cell_type": "code",
   "execution_count": 47,
   "id": "31203bde",
   "metadata": {
    "ExecuteTime": {
     "end_time": "2021-08-20T18:56:27.897205Z",
     "start_time": "2021-08-20T18:56:27.874062Z"
    },
    "hidden": true
   },
   "outputs": [
    {
     "data": {
      "text/html": [
       "<div>\n",
       "<style scoped>\n",
       "    .dataframe tbody tr th:only-of-type {\n",
       "        vertical-align: middle;\n",
       "    }\n",
       "\n",
       "    .dataframe tbody tr th {\n",
       "        vertical-align: top;\n",
       "    }\n",
       "\n",
       "    .dataframe thead th {\n",
       "        text-align: right;\n",
       "    }\n",
       "</style>\n",
       "<table border=\"1\" class=\"dataframe\">\n",
       "  <thead>\n",
       "    <tr style=\"text-align: right;\">\n",
       "      <th></th>\n",
       "      <th>customer_id</th>\n",
       "      <th>monetary</th>\n",
       "      <th>recency_days</th>\n",
       "      <th>qtde_invoices</th>\n",
       "      <th>qtde_items</th>\n",
       "      <th>qtde_products</th>\n",
       "      <th>avg_ticket</th>\n",
       "      <th>avg_recency_days</th>\n",
       "      <th>frequency</th>\n",
       "      <th>qtde_returns</th>\n",
       "      <th>avg_basket_size</th>\n",
       "      <th>avg_unique_basket_size</th>\n",
       "    </tr>\n",
       "  </thead>\n",
       "  <tbody>\n",
       "    <tr>\n",
       "      <th>47</th>\n",
       "      <td>12748</td>\n",
       "      <td>30956.41</td>\n",
       "      <td>0.00</td>\n",
       "      <td>202.00</td>\n",
       "      <td>20068.00</td>\n",
       "      <td>4222.00</td>\n",
       "      <td>7.33</td>\n",
       "      <td>3.39</td>\n",
       "      <td>0.54</td>\n",
       "      <td>1487.00</td>\n",
       "      <td>99.35</td>\n",
       "      <td>8.20</td>\n",
       "    </tr>\n",
       "    <tr>\n",
       "      <th>66</th>\n",
       "      <td>14911</td>\n",
       "      <td>136626.96</td>\n",
       "      <td>1.00</td>\n",
       "      <td>199.00</td>\n",
       "      <td>66368.00</td>\n",
       "      <td>5337.00</td>\n",
       "      <td>25.60</td>\n",
       "      <td>2.60</td>\n",
       "      <td>0.53</td>\n",
       "      <td>3217.00</td>\n",
       "      <td>333.51</td>\n",
       "      <td>8.37</td>\n",
       "    </tr>\n",
       "    <tr>\n",
       "      <th>68</th>\n",
       "      <td>17841</td>\n",
       "      <td>40276.21</td>\n",
       "      <td>1.00</td>\n",
       "      <td>123.00</td>\n",
       "      <td>19368.00</td>\n",
       "      <td>7599.00</td>\n",
       "      <td>5.30</td>\n",
       "      <td>3.32</td>\n",
       "      <td>0.33</td>\n",
       "      <td>189.00</td>\n",
       "      <td>157.46</td>\n",
       "      <td>10.30</td>\n",
       "    </tr>\n",
       "    <tr>\n",
       "      <th>278</th>\n",
       "      <td>13089</td>\n",
       "      <td>58638.99</td>\n",
       "      <td>2.00</td>\n",
       "      <td>97.00</td>\n",
       "      <td>30554.00</td>\n",
       "      <td>1806.00</td>\n",
       "      <td>32.47</td>\n",
       "      <td>4.48</td>\n",
       "      <td>0.26</td>\n",
       "      <td>283.00</td>\n",
       "      <td>314.99</td>\n",
       "      <td>6.47</td>\n",
       "    </tr>\n",
       "    <tr>\n",
       "      <th>8</th>\n",
       "      <td>15311</td>\n",
       "      <td>60402.22</td>\n",
       "      <td>0.00</td>\n",
       "      <td>91.00</td>\n",
       "      <td>36978.00</td>\n",
       "      <td>2326.00</td>\n",
       "      <td>25.97</td>\n",
       "      <td>4.14</td>\n",
       "      <td>0.24</td>\n",
       "      <td>474.00</td>\n",
       "      <td>406.35</td>\n",
       "      <td>6.00</td>\n",
       "    </tr>\n",
       "    <tr>\n",
       "      <th>96</th>\n",
       "      <td>14606</td>\n",
       "      <td>11894.68</td>\n",
       "      <td>1.00</td>\n",
       "      <td>91.00</td>\n",
       "      <td>5735.00</td>\n",
       "      <td>2630.00</td>\n",
       "      <td>4.52</td>\n",
       "      <td>4.28</td>\n",
       "      <td>0.24</td>\n",
       "      <td>242.00</td>\n",
       "      <td>63.02</td>\n",
       "      <td>8.78</td>\n",
       "    </tr>\n",
       "    <tr>\n",
       "      <th>183</th>\n",
       "      <td>12971</td>\n",
       "      <td>10178.67</td>\n",
       "      <td>3.00</td>\n",
       "      <td>85.00</td>\n",
       "      <td>5873.00</td>\n",
       "      <td>280.00</td>\n",
       "      <td>36.35</td>\n",
       "      <td>5.35</td>\n",
       "      <td>0.23</td>\n",
       "      <td>85.00</td>\n",
       "      <td>69.09</td>\n",
       "      <td>1.08</td>\n",
       "    </tr>\n",
       "    <tr>\n",
       "      <th>1015</th>\n",
       "      <td>14646</td>\n",
       "      <td>272345.66</td>\n",
       "      <td>1.00</td>\n",
       "      <td>72.00</td>\n",
       "      <td>177148.00</td>\n",
       "      <td>1905.00</td>\n",
       "      <td>142.96</td>\n",
       "      <td>7.84</td>\n",
       "      <td>0.20</td>\n",
       "      <td>288.00</td>\n",
       "      <td>2460.39</td>\n",
       "      <td>8.99</td>\n",
       "    </tr>\n",
       "    <tr>\n",
       "      <th>19</th>\n",
       "      <td>13408</td>\n",
       "      <td>27998.09</td>\n",
       "      <td>1.00</td>\n",
       "      <td>62.00</td>\n",
       "      <td>15847.00</td>\n",
       "      <td>469.00</td>\n",
       "      <td>59.70</td>\n",
       "      <td>7.29</td>\n",
       "      <td>0.17</td>\n",
       "      <td>104.00</td>\n",
       "      <td>255.60</td>\n",
       "      <td>3.66</td>\n",
       "    </tr>\n",
       "    <tr>\n",
       "      <th>12</th>\n",
       "      <td>16029</td>\n",
       "      <td>72882.09</td>\n",
       "      <td>38.00</td>\n",
       "      <td>62.00</td>\n",
       "      <td>40207.00</td>\n",
       "      <td>241.00</td>\n",
       "      <td>302.42</td>\n",
       "      <td>9.05</td>\n",
       "      <td>0.18</td>\n",
       "      <td>8004.00</td>\n",
       "      <td>648.50</td>\n",
       "      <td>0.69</td>\n",
       "    </tr>\n",
       "  </tbody>\n",
       "</table>\n",
       "</div>"
      ],
      "text/plain": [
       "      customer_id  monetary  recency_days  qtde_invoices  qtde_items  qtde_products  avg_ticket  avg_recency_days  frequency  qtde_returns  avg_basket_size  avg_unique_basket_size\n",
       "47          12748  30956.41          0.00         202.00    20068.00        4222.00        7.33              3.39       0.54       1487.00            99.35                    8.20\n",
       "66          14911 136626.96          1.00         199.00    66368.00        5337.00       25.60              2.60       0.53       3217.00           333.51                    8.37\n",
       "68          17841  40276.21          1.00         123.00    19368.00        7599.00        5.30              3.32       0.33        189.00           157.46                   10.30\n",
       "278         13089  58638.99          2.00          97.00    30554.00        1806.00       32.47              4.48       0.26        283.00           314.99                    6.47\n",
       "8           15311  60402.22          0.00          91.00    36978.00        2326.00       25.97              4.14       0.24        474.00           406.35                    6.00\n",
       "96          14606  11894.68          1.00          91.00     5735.00        2630.00        4.52              4.28       0.24        242.00            63.02                    8.78\n",
       "183         12971  10178.67          3.00          85.00     5873.00         280.00       36.35              5.35       0.23         85.00            69.09                    1.08\n",
       "1015        14646 272345.66          1.00          72.00   177148.00        1905.00      142.96              7.84       0.20        288.00          2460.39                    8.99\n",
       "19          13408  27998.09          1.00          62.00    15847.00         469.00       59.70              7.29       0.17        104.00           255.60                    3.66\n",
       "12          16029  72882.09         38.00          62.00    40207.00         241.00      302.42              9.05       0.18       8004.00           648.50                    0.69"
      ]
     },
     "execution_count": 47,
     "metadata": {},
     "output_type": "execute_result"
    }
   ],
   "source": [
    "df4.sort_values('qtde_invoices', ascending=False).head(10)"
   ]
  },
  {
   "cell_type": "markdown",
   "id": "67e9df8f",
   "metadata": {},
   "source": [
    "### 4.1.3. qtde_items"
   ]
  },
  {
   "cell_type": "code",
   "execution_count": 50,
   "id": "70dca54a",
   "metadata": {
    "ExecuteTime": {
     "end_time": "2021-08-20T18:57:40.436668Z",
     "start_time": "2021-08-20T18:57:36.943693Z"
    }
   },
   "outputs": [
    {
     "data": {
      "image/png": "[encoded data removed]",
      "text/plain": [
       "<Figure size 1728x648 with 2 Axes>"
      ]
     },
     "metadata": {},
     "output_type": "display_data"
    }
   ],
   "source": [
    "f, (ax_box, ax_hist) = plt.subplots(2, sharex=True, gridspec_kw={\"height_ratios\": (.15, .85)})\n",
    "\n",
    "sns.boxplot(data=df4, x=\"qtde_items\", ax=ax_box)\n",
    "sns.histplot(data=df4, x=\"qtde_items\", kde=True, ax=ax_hist)\n",
    " \n",
    "# Remove x axis name for the boxplot\n",
    "ax_box.set(xlabel='')\n",
    "plt.show()"
   ]
  },
  {
   "cell_type": "code",
   "execution_count": null,
   "id": "41038a94",
   "metadata": {
    "ExecuteTime": {
     "end_time": "2021-08-20T18:54:40.579739Z",
     "start_time": "2021-08-20T18:54:40.579692Z"
    }
   },
   "outputs": [],
   "source": [
    "df4.sort_values('qtde_items', ascending=False).head(10)"
   ]
  },
  {
   "cell_type": "code",
   "execution_count": null,
   "id": "6933def1",
   "metadata": {
    "ExecuteTime": {
     "end_time": "2021-08-20T18:54:40.582503Z",
     "start_time": "2021-08-20T18:54:40.582454Z"
    }
   },
   "outputs": [],
   "source": [
    "# variation rate from 2 to 1 placed in relation to the quantity of items\n",
    "\n",
    "# (( vf - vi ) / vi) * 100\n",
    "vr = ((177148 - 69993) / 69993) * 100\n",
    "print('NOTE: variation rate from 2 to 1 placed in relation to the quantity of items is: {}%'.format(round(vr, 0)))"
   ]
  },
  {
   "cell_type": "markdown",
   "id": "85dec64a",
   "metadata": {
    "heading_collapsed": true
   },
   "source": [
    "### 4.1.4. qtde_products"
   ]
  },
  {
   "cell_type": "code",
   "execution_count": null,
   "id": "7fc47d76",
   "metadata": {
    "ExecuteTime": {
     "end_time": "2021-08-20T18:54:40.589224Z",
     "start_time": "2021-08-20T18:54:40.589137Z"
    },
    "hidden": true
   },
   "outputs": [],
   "source": [
    "df4.sort_values('qtde_products', ascending=False).head(15)"
   ]
  },
  {
   "cell_type": "markdown",
   "id": "fcb7c1e1",
   "metadata": {
    "heading_collapsed": true
   },
   "source": [
    "### 4.1.5. frequency"
   ]
  },
  {
   "cell_type": "code",
   "execution_count": null,
   "id": "84afface",
   "metadata": {
    "ExecuteTime": {
     "end_time": "2021-08-20T18:54:40.593625Z",
     "start_time": "2021-08-20T18:54:40.593565Z"
    },
    "hidden": true
   },
   "outputs": [],
   "source": [
    "df4.sort_values('frequency', ascending=False).head(15)"
   ]
  },
  {
   "cell_type": "markdown",
   "id": "29e65d0e",
   "metadata": {
    "heading_collapsed": true
   },
   "source": [
    "## 4.2. Bivariate Analysis"
   ]
  },
  {
   "cell_type": "code",
   "execution_count": null,
   "id": "cfc93b87",
   "metadata": {
    "ExecuteTime": {
     "end_time": "2021-08-20T18:54:40.596949Z",
     "start_time": "2021-08-20T18:54:40.596903Z"
    },
    "hidden": true
   },
   "outputs": [],
   "source": [
    "sns.pairplot(df5);"
   ]
  },
  {
   "cell_type": "markdown",
   "id": "6c467b8f",
   "metadata": {
    "heading_collapsed": true
   },
   "source": [
    "# 5.0. Data Preparation "
   ]
  },
  {
   "cell_type": "code",
   "execution_count": null,
   "id": "f6a73114",
   "metadata": {
    "ExecuteTime": {
     "end_time": "2021-08-20T18:54:40.605111Z",
     "start_time": "2021-08-20T18:54:40.605040Z"
    },
    "hidden": true
   },
   "outputs": [],
   "source": [
    "df5 = df4.copy()"
   ]
  },
  {
   "cell_type": "code",
   "execution_count": null,
   "id": "f79af9c6",
   "metadata": {
    "ExecuteTime": {
     "end_time": "2021-08-20T18:54:40.609474Z",
     "start_time": "2021-08-20T18:54:40.609401Z"
    },
    "hidden": true
   },
   "outputs": [],
   "source": [
    "cols = ['monetary', 'recency_days', 'qtde_invoices',\n",
    "        'qtde_items', 'qtde_products', 'avg_ticket', 'avg_recency_days',\n",
    "        'frequency', 'qtde_returns', 'avg_basket_size',\n",
    "        'avg_unique_basket_size']\n",
    "\n",
    "plt.title('Before the scale', size=30)\n",
    "for col in cols:\n",
    "    sns.kdeplot(df5[col], label=col);\n",
    "    plt.legend();"
   ]
  },
  {
   "cell_type": "code",
   "execution_count": null,
   "id": "b263bac2",
   "metadata": {
    "ExecuteTime": {
     "end_time": "2021-08-20T18:54:40.613632Z",
     "start_time": "2021-08-20T18:54:40.613587Z"
    },
    "hidden": true
   },
   "outputs": [],
   "source": [
    "ss = pp.StandardScaler()\n",
    "\n",
    "df5['monetary'] = ss.fit_transform(df5[['monetary']])\n",
    "df5['recency_days'] = ss.fit_transform(df5[['recency_days']])\n",
    "df5['qtde_invoices'] = ss.fit_transform(df5[['qtde_invoices']])\n",
    "df5['qtde_items'] = ss.fit_transform(df5[['qtde_items']])\n",
    "df5['qtde_products'] = ss.fit_transform(df5[['qtde_products']])\n",
    "df5['avg_ticket'] = ss.fit_transform(df5[['avg_ticket']])\n",
    "df5['avg_recency_days'] = ss.fit_transform(df5[['avg_recency_days']])\n",
    "df5['frequency'] = ss.fit_transform(df5[['frequency']])\n",
    "df5['qtde_returns'] = ss.fit_transform(df5[['qtde_returns']])\n",
    "df5['avg_basket_size'] = ss.fit_transform(df5[['avg_basket_size']])\n",
    "df5['avg_unique_basket_size'] = ss.fit_transform(df5[['avg_unique_basket_size']])"
   ]
  },
  {
   "cell_type": "code",
   "execution_count": null,
   "id": "34021edc",
   "metadata": {
    "ExecuteTime": {
     "end_time": "2021-08-20T18:54:40.621635Z",
     "start_time": "2021-08-20T18:54:40.621585Z"
    },
    "hidden": true
   },
   "outputs": [],
   "source": [
    "cols = ['monetary', 'recency_days', 'qtde_invoices',\n",
    "        'qtde_items', 'qtde_products', 'avg_ticket', 'avg_recency_days',\n",
    "        'frequency', 'qtde_returns', 'avg_basket_size',\n",
    "        'avg_unique_basket_size']\n",
    "plt.title('After the scale', size=30)\n",
    "for col in cols:\n",
    "    sns.kdeplot(df5[col], label=col);\n",
    "    plt.legend();"
   ]
  },
  {
   "cell_type": "markdown",
   "id": "eb80c6d9",
   "metadata": {
    "heading_collapsed": true
   },
   "source": [
    "# 6.0. Feature Selection"
   ]
  },
  {
   "cell_type": "code",
   "execution_count": null,
   "id": "1ac770e9",
   "metadata": {
    "ExecuteTime": {
     "end_time": "2021-08-20T18:54:40.626673Z",
     "start_time": "2021-08-20T18:54:40.626529Z"
    },
    "hidden": true
   },
   "outputs": [],
   "source": [
    "df6 = df5.copy()"
   ]
  },
  {
   "cell_type": "markdown",
   "id": "102e3348",
   "metadata": {
    "heading_collapsed": true
   },
   "source": [
    "# 7.0. Hyperpameter Fine Tuning"
   ]
  },
  {
   "cell_type": "code",
   "execution_count": null,
   "id": "7339f801",
   "metadata": {
    "ExecuteTime": {
     "end_time": "2021-08-20T18:54:40.630874Z",
     "start_time": "2021-08-20T18:54:40.630833Z"
    },
    "hidden": true
   },
   "outputs": [],
   "source": [
    "X = df6.drop(columns=['customer_id'])\n",
    "\n",
    "X.head()"
   ]
  },
  {
   "cell_type": "code",
   "execution_count": null,
   "id": "0fd429b7",
   "metadata": {
    "ExecuteTime": {
     "end_time": "2021-08-20T18:54:40.633834Z",
     "start_time": "2021-08-20T18:54:40.633485Z"
    },
    "hidden": true
   },
   "outputs": [],
   "source": [
    "clusters = [2,3,4,5,6,7]"
   ]
  },
  {
   "cell_type": "markdown",
   "id": "2b0e471b",
   "metadata": {
    "heading_collapsed": true,
    "hidden": true
   },
   "source": [
    "## KMeans"
   ]
  },
  {
   "cell_type": "code",
   "execution_count": null,
   "id": "fc1b91c6",
   "metadata": {
    "ExecuteTime": {
     "end_time": "2021-08-20T18:54:40.640072Z",
     "start_time": "2021-08-20T18:54:40.640021Z"
    },
    "hidden": true,
    "scrolled": false
   },
   "outputs": [],
   "source": [
    "kmeans = KElbowVisualizer(cluster.KMeans(), k=clusters, timings=False)\n",
    "kmeans.fit( X )\n",
    "kmeans.show();"
   ]
  },
  {
   "cell_type": "code",
   "execution_count": null,
   "id": "104d8764",
   "metadata": {
    "ExecuteTime": {
     "end_time": "2021-08-20T18:54:40.643652Z",
     "start_time": "2021-08-20T18:54:40.643595Z"
    },
    "hidden": true
   },
   "outputs": [],
   "source": [
    "km = KElbowVisualizer(cluster.KMeans(), k=clusters, metric='silhouette', timings=False)\n",
    "km.fit( X )\n",
    "km.show();"
   ]
  },
  {
   "cell_type": "markdown",
   "id": "e267535e",
   "metadata": {
    "heading_collapsed": true,
    "hidden": true
   },
   "source": [
    "## 7.1. Silhouette Analysis"
   ]
  },
  {
   "cell_type": "code",
   "execution_count": null,
   "id": "c81514b3",
   "metadata": {
    "ExecuteTime": {
     "end_time": "2021-08-20T18:54:40.646914Z",
     "start_time": "2021-08-20T18:54:40.646871Z"
    },
    "hidden": true
   },
   "outputs": [],
   "source": [
    "fig, ax = plt.subplots(3,2, figsize=(25, 18))\n",
    "\n",
    "for k in clusters:\n",
    "    km = cluster.KMeans(n_clusters=k, init='random', n_init=10, random_state=42)\n",
    "    q, mod = divmod(k, 2)\n",
    "\n",
    "    visualizer = SilhouetteVisualizer(km, colors='yellowbrick', ax=ax[q-1][mod])\n",
    "    visualizer.fit( X )\n",
    "    visualizer.finalize();"
   ]
  },
  {
   "cell_type": "markdown",
   "id": "11fdb6f0",
   "metadata": {
    "heading_collapsed": true
   },
   "source": [
    "# 8.0. Model Training"
   ]
  },
  {
   "cell_type": "markdown",
   "id": "bc10de5d",
   "metadata": {
    "heading_collapsed": true,
    "hidden": true
   },
   "source": [
    "## 8.1. K-Means"
   ]
  },
  {
   "cell_type": "code",
   "execution_count": null,
   "id": "b1dd16d0",
   "metadata": {
    "ExecuteTime": {
     "end_time": "2021-08-20T18:54:40.652578Z",
     "start_time": "2021-08-20T18:54:40.652509Z"
    },
    "hidden": true
   },
   "outputs": [],
   "source": [
    "# model definition\n",
    "k = 3\n",
    "kmeans = cluster.KMeans(init='random', n_clusters=k, n_init=10, max_iter=300)\n",
    "\n",
    "# model training\n",
    "kmeans.fit( X )\n",
    "\n",
    "# clustering\n",
    "labels = kmeans.labels_"
   ]
  },
  {
   "cell_type": "markdown",
   "id": "12158d8c",
   "metadata": {
    "heading_collapsed": true,
    "hidden": true
   },
   "source": [
    "## 8.2. Cluster Validation"
   ]
  },
  {
   "cell_type": "code",
   "execution_count": null,
   "id": "a8f6561d",
   "metadata": {
    "ExecuteTime": {
     "end_time": "2021-08-20T18:54:40.658867Z",
     "start_time": "2021-08-20T18:54:40.658819Z"
    },
    "hidden": true
   },
   "outputs": [],
   "source": [
    "print('WSS value: {}'.format( kmeans.inertia_ ))\n",
    "print('SS value: {}'.format( metrics.silhouette_score(X, labels, metric='euclidean') ))"
   ]
  },
  {
   "cell_type": "markdown",
   "id": "a6b30a59",
   "metadata": {
    "heading_collapsed": true
   },
   "source": [
    "# 9.0. Cluster Analysis"
   ]
  },
  {
   "cell_type": "code",
   "execution_count": null,
   "id": "6a23bab5",
   "metadata": {
    "ExecuteTime": {
     "end_time": "2021-08-20T18:54:40.661649Z",
     "start_time": "2021-08-20T18:54:40.661609Z"
    },
    "hidden": true
   },
   "outputs": [],
   "source": [
    "df9 = df4.copy()\n",
    "df9['cluster'] = labels\n",
    "df9.head()"
   ]
  },
  {
   "cell_type": "markdown",
   "id": "b58979d7",
   "metadata": {
    "heading_collapsed": true,
    "hidden": true
   },
   "source": [
    "## 9.1. Visualization Inspection"
   ]
  },
  {
   "cell_type": "code",
   "execution_count": null,
   "id": "e39e2be6",
   "metadata": {
    "ExecuteTime": {
     "end_time": "2021-08-20T18:54:40.663889Z",
     "start_time": "2021-08-20T18:54:40.663856Z"
    },
    "hidden": true
   },
   "outputs": [],
   "source": [
    "df_viz = df9.drop(columns='customer_id')"
   ]
  },
  {
   "cell_type": "markdown",
   "id": "3b4751c8",
   "metadata": {
    "heading_collapsed": true,
    "hidden": true
   },
   "source": [
    "### 9.1.1. Silhouette Analysis"
   ]
  },
  {
   "cell_type": "code",
   "execution_count": null,
   "id": "469fced0",
   "metadata": {
    "ExecuteTime": {
     "end_time": "2021-08-20T18:54:40.667042Z",
     "start_time": "2021-08-20T18:54:40.666982Z"
    },
    "hidden": true
   },
   "outputs": [],
   "source": [
    "visualizer = SilhouetteVisualizer(kmeans, color='yellowbrick')\n",
    "visualizer.fit( X )\n",
    "visualizer.finalize();"
   ]
  },
  {
   "cell_type": "markdown",
   "id": "8f529026",
   "metadata": {
    "heading_collapsed": true,
    "hidden": true
   },
   "source": [
    "### 9.1.2 2d plot"
   ]
  },
  {
   "cell_type": "code",
   "execution_count": null,
   "id": "8aeedbff",
   "metadata": {
    "ExecuteTime": {
     "end_time": "2021-08-20T18:54:40.671097Z",
     "start_time": "2021-08-20T18:54:40.671029Z"
    },
    "hidden": true
   },
   "outputs": [],
   "source": [
    "# sns.pairplot(df_viz, hue='cluster');"
   ]
  },
  {
   "cell_type": "markdown",
   "id": "e13c695a",
   "metadata": {
    "heading_collapsed": true,
    "hidden": true
   },
   "source": [
    "### 9.1.3. UMAP"
   ]
  },
  {
   "cell_type": "code",
   "execution_count": null,
   "id": "8d1d716a",
   "metadata": {
    "ExecuteTime": {
     "end_time": "2021-08-20T18:54:40.675381Z",
     "start_time": "2021-08-20T18:54:40.675316Z"
    },
    "hidden": true
   },
   "outputs": [],
   "source": [
    "reducer = umap.UMAP(n_neighbors=80, random_state=42)\n",
    "embedding = reducer.fit_transform( X )\n",
    "\n",
    "df_viz['embedding_x'] = embedding[:, 0]\n",
    "df_viz['embedding_y'] = embedding[:, 1]\n",
    "\n",
    "# plot\n",
    "sns.scatterplot( x='embedding_x', \n",
    "                 y='embedding_y', \n",
    "                 hue='cluster', \n",
    "                 palette=sns.color_palette( 'hls', n_colors=len( df_viz['cluster'].unique() ) ),\n",
    "                 data=df_viz );"
   ]
  },
  {
   "cell_type": "markdown",
   "id": "b253d006",
   "metadata": {
    "heading_collapsed": true,
    "hidden": true
   },
   "source": [
    "## 9.2. Cluster Profile"
   ]
  },
  {
   "cell_type": "code",
   "execution_count": null,
   "id": "52e323c0",
   "metadata": {
    "ExecuteTime": {
     "end_time": "2021-08-20T18:54:40.682289Z",
     "start_time": "2021-08-20T18:54:40.682248Z"
    },
    "hidden": true
   },
   "outputs": [],
   "source": [
    "df9.head()"
   ]
  },
  {
   "cell_type": "code",
   "execution_count": null,
   "id": "b0ceaa89",
   "metadata": {
    "ExecuteTime": {
     "end_time": "2021-08-20T18:54:40.687832Z",
     "start_time": "2021-08-20T18:54:40.687752Z"
    },
    "hidden": true
   },
   "outputs": [],
   "source": [
    "# cluster - qt_users - per_user\n",
    "df_cluster = df9[['customer_id', 'cluster']].groupby('cluster').count().reset_index().rename(columns={'customer_id': 'qt_users'})\n",
    "df_cluster['per_user'] = 100 * (df_cluster['qt_users'] / df_cluster['qt_users'].sum())\n",
    "\n",
    "\n",
    "# monetary\n",
    "monetary = df9[['monetary', 'cluster']].groupby('cluster').mean().reset_index()\n",
    "df_cluster = pd.merge(df_cluster, monetary, how='left', on='cluster')\n",
    "\n",
    "\n",
    "# recency_days\n",
    "recency_days = df9[['recency_days', 'cluster']].groupby('cluster').mean().reset_index()\n",
    "df_cluster = pd.merge(df_cluster, recency_days, how='left', on='cluster')\n",
    "\n",
    "# qtde_invoices\n",
    "qtde_invoices = df9[['qtde_invoices', 'cluster']].groupby('cluster').mean().reset_index()\n",
    "df_cluster = pd.merge(df_cluster, qtde_invoices, how='left', on='cluster')\n",
    "\n",
    "# qtde_products\n",
    "qtde_products = df9[['qtde_products', 'cluster']].groupby('cluster').mean().reset_index()\n",
    "df_cluster = pd.merge(df_cluster, qtde_products, how='left', on='cluster')\n",
    "\n",
    "\n",
    "# qtde_items\n",
    "qtde_items = df9[['qtde_items', 'cluster']].groupby('cluster').mean().reset_index()\n",
    "df_cluster = pd.merge(df_cluster, qtde_items, how='left', on='cluster')\n",
    "\n",
    "# frequency\n",
    "frequency = df9[['frequency', 'cluster']].groupby('cluster').mean().reset_index()\n",
    "df_cluster = pd.merge(df_cluster, frequency, how='left', on='cluster')\n",
    "\n",
    "# qtde_returns\n",
    "qtde_returns = df9[['qtde_returns', 'cluster']].groupby('cluster').mean().reset_index()\n",
    "df_cluster = pd.merge(df_cluster, qtde_returns, how='left', on='cluster')\n",
    "\n",
    "\n",
    "\n",
    "df_cluster.sort_values('monetary', ascending=False)"
   ]
  },
  {
   "cell_type": "markdown",
   "id": "d958d526",
   "metadata": {},
   "source": [
    "# 10.0. Deploy to Product"
   ]
  }
 ],
 "metadata": {
  "kernelspec": {
   "display_name": "Python 3 (ipykernel)",
   "language": "python",
   "name": "python3"
  },
  "language_info": {
   "codemirror_mode": {
    "name": "ipython",
    "version": 3
   },
   "file_extension": ".py",
   "mimetype": "text/x-python",
   "name": "python",
   "nbconvert_exporter": "python",
   "pygments_lexer": "ipython3",
   "version": "3.8.0"
  }
 },
 "nbformat": 4,
 "nbformat_minor": 5
}
