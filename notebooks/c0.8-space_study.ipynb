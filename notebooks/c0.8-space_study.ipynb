{
 "cells": [
  {
   "cell_type": "markdown",
   "id": "8ecd72ef",
   "metadata": {},
   "source": [
    "# Planejamento da Solução (IOT)"
   ]
  },
  {
   "cell_type": "markdown",
   "id": "027d7c7d",
   "metadata": {},
   "source": [
    "## Input - Entrada\n",
    "\n",
    "### O problema de negócio\n",
    "\n",
    "1. Selecionar os mais valiosos clientes para formar o programa de fidelidade \"INSIDERS\"\n",
    "2. Conjunto de dados com as vendas de produtos durantes 1 ano (11/2015 - 12/2017)\n",
    "\n",
    "## Output - Saída\n",
    " \n",
    "1. A indicação de pessoas para fazer parte do programa de fidelidade \"INSIDERS\".\n",
    "2. Relatório com as respostas das perguntas de negocio.\n",
    "\n",
    "## Tasks - Processo"
   ]
  },
  {
   "cell_type": "markdown",
   "id": "b25a0bdd",
   "metadata": {},
   "source": [
    "# 0.0. Imports"
   ]
  },
  {
   "cell_type": "code",
   "execution_count": 1,
   "id": "722054fa",
   "metadata": {
    "ExecuteTime": {
     "end_time": "2021-08-19T23:34:10.695036Z",
     "start_time": "2021-08-19T23:34:06.045192Z"
    }
   },
   "outputs": [],
   "source": [
    "import pandas as pd\n",
    "import numpy as np\n",
    "import seaborn as sns\n",
    "import matplotlib.pyplot as plt\n",
    "import plotly.express as px\n",
    "\n",
    "from umap.umap_ import UMAP\n",
    "from IPython.display import HTML\n",
    "from yellowbrick.cluster import KElbowVisualizer, SilhouetteVisualizer\n",
    "from pandas_profiling import ProfileReport\n",
    "\n",
    "from sklearn import cluster\n",
    "from sklearn import metrics\n",
    "from sklearn import preprocessing as pp\n",
    "from sklearn.decomposition import PCA\n",
    "from sklearn.manifold import TSNE\n",
    "from sklearn import ensemble as en"
   ]
  },
  {
   "cell_type": "markdown",
   "id": "f4bb5440",
   "metadata": {
    "heading_collapsed": true
   },
   "source": [
    "## 0.1. Helper Functions"
   ]
  },
  {
   "cell_type": "code",
   "execution_count": 2,
   "id": "a157246c",
   "metadata": {
    "ExecuteTime": {
     "end_time": "2021-08-19T23:34:10.746619Z",
     "start_time": "2021-08-19T23:34:10.697176Z"
    },
    "hidden": true
   },
   "outputs": [
    {
     "name": "stdout",
     "output_type": "stream",
     "text": [
      "Populating the interactive namespace from numpy and matplotlib\n"
     ]
    },
    {
     "data": {
      "text/html": [
       "<style>.container { width:100% !important; }</style>"
      ],
      "text/plain": [
       "<IPython.core.display.HTML object>"
      ]
     },
     "metadata": {},
     "output_type": "display_data"
    }
   ],
   "source": [
    "def descriptive_statistics(num_attr):\n",
    "    # Central Tendency: mean, median\n",
    "    c1 = pd.DataFrame(num_attr.apply(np.mean))\n",
    "    c2 = pd.DataFrame(num_attr.apply(np.median))\n",
    "\n",
    "    # Dispension: min, max, range, std, skew, kurtosis\n",
    "    d1 = pd.DataFrame(num_attr.apply(min))\n",
    "    d2 = pd.DataFrame(num_attr.apply(max))\n",
    "    d3 = pd.DataFrame(num_attr.apply(lambda x: x.max() - x.min()))\n",
    "    d4 = pd.DataFrame(num_attr.apply(lambda x: x.std()))\n",
    "    \n",
    "    # Measures of Shape\n",
    "    s1 = pd.DataFrame(num_attr.apply(lambda x: x.skew()))\n",
    "    s2 = pd.DataFrame(num_attr.apply(lambda x: x.kurtosis()))\n",
    "\n",
    "    # concat\n",
    "    m = pd.concat([d1,d2,d3,c1,c2,d4,s1,s2], axis=1).reset_index()\n",
    "    m.columns = ['attributes', 'min', 'max', 'range', 'mean', 'median', 'std', 'skew', 'kurtosis']\n",
    "    return m\n",
    "\n",
    "\n",
    "def jupyter_settings():\n",
    "    %matplotlib inline\n",
    "    %pylab inline\n",
    "    \n",
    "    plt.style.use( 'ggplot')\n",
    "    plt.rcParams['figure.figsize'] = [24, 9]\n",
    "    plt.rcParams['font.size'] = 24\n",
    "    \n",
    "    display( HTML( '<style>.container { width:100% !important; }</style>') )\n",
    "    pd.options.display.max_columns = None\n",
    "    pd.options.display.max_rows = None\n",
    "    pd.set_option( 'display.expand_frame_repr', False )\n",
    "    pd.set_option('display.float_format', lambda x: '%.2f' % x)\n",
    "    \n",
    "    sns.set()\n",
    "    \n",
    "jupyter_settings()"
   ]
  },
  {
   "cell_type": "markdown",
   "id": "1bb64666",
   "metadata": {
    "heading_collapsed": true
   },
   "source": [
    "## 0.2. Load Data"
   ]
  },
  {
   "cell_type": "code",
   "execution_count": 3,
   "id": "54243f8b",
   "metadata": {
    "ExecuteTime": {
     "end_time": "2021-08-19T23:34:11.521820Z",
     "start_time": "2021-08-19T23:34:10.749469Z"
    },
    "hidden": true
   },
   "outputs": [],
   "source": [
    "df_raw = pd.read_csv('../data/raw/Ecommerce.csv', encoding='latin1')\n",
    "\n",
    "# drop extra column\n",
    "df_raw = df_raw.drop('Unnamed: 8', axis=1)"
   ]
  },
  {
   "cell_type": "markdown",
   "id": "5b9ae690",
   "metadata": {
    "heading_collapsed": true
   },
   "source": [
    "# 1.0. Data Description"
   ]
  },
  {
   "cell_type": "code",
   "execution_count": 4,
   "id": "026bbc19",
   "metadata": {
    "ExecuteTime": {
     "end_time": "2021-08-19T23:34:11.545564Z",
     "start_time": "2021-08-19T23:34:11.524803Z"
    },
    "hidden": true
   },
   "outputs": [],
   "source": [
    "df1 = df_raw.copy()"
   ]
  },
  {
   "cell_type": "markdown",
   "id": "a0e2c036",
   "metadata": {
    "hidden": true
   },
   "source": [
    "## 1.1. Rename Columns"
   ]
  },
  {
   "cell_type": "code",
   "execution_count": 5,
   "id": "46322473",
   "metadata": {
    "ExecuteTime": {
     "end_time": "2021-08-19T23:34:11.553735Z",
     "start_time": "2021-08-19T23:34:11.547788Z"
    },
    "hidden": true
   },
   "outputs": [],
   "source": [
    "cols_new = ['invoice_no', 'stock_code', 'description', 'quantity', 'invoice_date', 'unit_price', 'customer_id', 'country']\n",
    "df1.columns = cols_new"
   ]
  },
  {
   "cell_type": "markdown",
   "id": "09f2dd9b",
   "metadata": {
    "hidden": true
   },
   "source": [
    "## 1.2. Data Dimnesions"
   ]
  },
  {
   "cell_type": "code",
   "execution_count": 6,
   "id": "e8295ac6",
   "metadata": {
    "ExecuteTime": {
     "end_time": "2021-08-19T23:34:11.563027Z",
     "start_time": "2021-08-19T23:34:11.557430Z"
    },
    "hidden": true
   },
   "outputs": [
    {
     "name": "stdout",
     "output_type": "stream",
     "text": [
      "Number of Rows: 541909\n",
      "Number of Columns: 8\n"
     ]
    }
   ],
   "source": [
    "print('Number of Rows: {}'.format(df1.shape[0]))\n",
    "print('Number of Columns: {}'.format(df1.shape[1]))"
   ]
  },
  {
   "cell_type": "markdown",
   "id": "c68dcbcd",
   "metadata": {
    "hidden": true
   },
   "source": [
    "## 1.3. Data Types"
   ]
  },
  {
   "cell_type": "code",
   "execution_count": 7,
   "id": "4034f49b",
   "metadata": {
    "ExecuteTime": {
     "end_time": "2021-08-19T23:34:11.574534Z",
     "start_time": "2021-08-19T23:34:11.566044Z"
    },
    "hidden": true
   },
   "outputs": [
    {
     "data": {
      "text/plain": [
       "invoice_no       object\n",
       "stock_code       object\n",
       "description      object\n",
       "quantity          int64\n",
       "invoice_date     object\n",
       "unit_price      float64\n",
       "customer_id     float64\n",
       "country          object\n",
       "dtype: object"
      ]
     },
     "execution_count": 7,
     "metadata": {},
     "output_type": "execute_result"
    }
   ],
   "source": [
    "df1.dtypes"
   ]
  },
  {
   "cell_type": "markdown",
   "id": "0c014646",
   "metadata": {
    "hidden": true
   },
   "source": [
    "## 1.4. Check NA"
   ]
  },
  {
   "cell_type": "code",
   "execution_count": 8,
   "id": "7a8a6351",
   "metadata": {
    "ExecuteTime": {
     "end_time": "2021-08-19T23:34:11.790563Z",
     "start_time": "2021-08-19T23:34:11.576961Z"
    },
    "hidden": true
   },
   "outputs": [
    {
     "data": {
      "text/plain": [
       "invoice_no           0\n",
       "stock_code           0\n",
       "description       1454\n",
       "quantity             0\n",
       "invoice_date         0\n",
       "unit_price           0\n",
       "customer_id     135080\n",
       "country              0\n",
       "dtype: int64"
      ]
     },
     "execution_count": 8,
     "metadata": {},
     "output_type": "execute_result"
    }
   ],
   "source": [
    "df1.isna().sum()"
   ]
  },
  {
   "cell_type": "markdown",
   "id": "29b1bada",
   "metadata": {
    "hidden": true
   },
   "source": [
    "## 1.5. Replace NA"
   ]
  },
  {
   "cell_type": "code",
   "execution_count": 9,
   "id": "aa5882db",
   "metadata": {
    "ExecuteTime": {
     "end_time": "2021-08-19T23:34:11.871366Z",
     "start_time": "2021-08-19T23:34:11.793865Z"
    },
    "hidden": true
   },
   "outputs": [],
   "source": [
    "df_missing = df1.loc[df1['customer_id'].isna(), :]\n",
    "df_not_missing = df1.loc[~df1['customer_id'].isna(), :]"
   ]
  },
  {
   "cell_type": "code",
   "execution_count": 10,
   "id": "7086dafb",
   "metadata": {
    "ExecuteTime": {
     "end_time": "2021-08-19T23:34:12.190435Z",
     "start_time": "2021-08-19T23:34:11.877840Z"
    },
    "hidden": true
   },
   "outputs": [],
   "source": [
    "df_backup = pd.DataFrame(df_missing['invoice_no'].drop_duplicates())\n",
    "df_backup['customer_id'] = np.arange(19000, 19000+len(df_backup), 1)\n",
    "\n",
    "# merge \n",
    "df1 = pd.merge(df1, df_backup, how='left', on='invoice_no' )\n",
    "\n",
    "# coalesce \n",
    "df1['customer_id'] = df1['customer_id_x'].combine_first(df1['customer_id_y'])\n",
    "\n",
    "df1 = df1.drop(['customer_id_x', 'customer_id_y'], axis=1)"
   ]
  },
  {
   "cell_type": "code",
   "execution_count": 11,
   "id": "aff2bc50",
   "metadata": {
    "ExecuteTime": {
     "end_time": "2021-08-19T23:34:12.410800Z",
     "start_time": "2021-08-19T23:34:12.192531Z"
    },
    "hidden": true
   },
   "outputs": [
    {
     "data": {
      "text/plain": [
       "invoice_no         0\n",
       "stock_code         0\n",
       "description     1454\n",
       "quantity           0\n",
       "invoice_date       0\n",
       "unit_price         0\n",
       "country            0\n",
       "customer_id        0\n",
       "dtype: int64"
      ]
     },
     "execution_count": 11,
     "metadata": {},
     "output_type": "execute_result"
    }
   ],
   "source": [
    "df1.isna().sum()"
   ]
  },
  {
   "cell_type": "markdown",
   "id": "2e3c11e1",
   "metadata": {
    "hidden": true
   },
   "source": [
    "## 1.6. Change dtypes"
   ]
  },
  {
   "cell_type": "code",
   "execution_count": 12,
   "id": "6d4edcbb",
   "metadata": {
    "ExecuteTime": {
     "end_time": "2021-08-19T23:34:12.422740Z",
     "start_time": "2021-08-19T23:34:12.413784Z"
    },
    "hidden": true
   },
   "outputs": [
    {
     "data": {
      "text/plain": [
       "invoice_no       object\n",
       "stock_code       object\n",
       "description      object\n",
       "quantity          int64\n",
       "invoice_date     object\n",
       "unit_price      float64\n",
       "country          object\n",
       "customer_id     float64\n",
       "dtype: object"
      ]
     },
     "execution_count": 12,
     "metadata": {},
     "output_type": "execute_result"
    }
   ],
   "source": [
    "df1.dtypes"
   ]
  },
  {
   "cell_type": "code",
   "execution_count": 13,
   "id": "e9f81033",
   "metadata": {
    "ExecuteTime": {
     "end_time": "2021-08-19T23:34:12.571333Z",
     "start_time": "2021-08-19T23:34:12.424821Z"
    },
    "hidden": true
   },
   "outputs": [],
   "source": [
    "df1['invoice_date'] = pd.to_datetime(df1['invoice_date'])\n",
    "df1['customer_id'] = df1['customer_id'].astype(int)"
   ]
  },
  {
   "cell_type": "markdown",
   "id": "58961082",
   "metadata": {
    "heading_collapsed": true,
    "hidden": true
   },
   "source": [
    "## 1.7. Descriptive Statistics"
   ]
  },
  {
   "cell_type": "code",
   "execution_count": 14,
   "id": "313769d3",
   "metadata": {
    "ExecuteTime": {
     "end_time": "2021-08-19T23:34:12.612662Z",
     "start_time": "2021-08-19T23:34:12.573586Z"
    },
    "hidden": true
   },
   "outputs": [],
   "source": [
    "num_att = df1.select_dtypes(include=['int64', 'float64'])\n",
    "cat_att = df1.select_dtypes(include=['object'])"
   ]
  },
  {
   "cell_type": "markdown",
   "id": "7629f4b9",
   "metadata": {
    "heading_collapsed": true,
    "hidden": true
   },
   "source": [
    "## 1.7.1. Numerical Attributes"
   ]
  },
  {
   "cell_type": "code",
   "execution_count": 15,
   "id": "79816883",
   "metadata": {
    "ExecuteTime": {
     "end_time": "2021-08-19T23:34:13.088410Z",
     "start_time": "2021-08-19T23:34:12.614904Z"
    },
    "hidden": true
   },
   "outputs": [
    {
     "data": {
      "text/html": [
       "<div>\n",
       "<style scoped>\n",
       "    .dataframe tbody tr th:only-of-type {\n",
       "        vertical-align: middle;\n",
       "    }\n",
       "\n",
       "    .dataframe tbody tr th {\n",
       "        vertical-align: top;\n",
       "    }\n",
       "\n",
       "    .dataframe thead th {\n",
       "        text-align: right;\n",
       "    }\n",
       "</style>\n",
       "<table border=\"1\" class=\"dataframe\">\n",
       "  <thead>\n",
       "    <tr style=\"text-align: right;\">\n",
       "      <th></th>\n",
       "      <th>attributes</th>\n",
       "      <th>min</th>\n",
       "      <th>max</th>\n",
       "      <th>range</th>\n",
       "      <th>mean</th>\n",
       "      <th>median</th>\n",
       "      <th>std</th>\n",
       "      <th>skew</th>\n",
       "      <th>kurtosis</th>\n",
       "    </tr>\n",
       "  </thead>\n",
       "  <tbody>\n",
       "    <tr>\n",
       "      <th>0</th>\n",
       "      <td>quantity</td>\n",
       "      <td>-80995.00</td>\n",
       "      <td>80995.00</td>\n",
       "      <td>161990.00</td>\n",
       "      <td>9.55</td>\n",
       "      <td>3.00</td>\n",
       "      <td>218.08</td>\n",
       "      <td>-0.26</td>\n",
       "      <td>119769.16</td>\n",
       "    </tr>\n",
       "    <tr>\n",
       "      <th>1</th>\n",
       "      <td>unit_price</td>\n",
       "      <td>-11062.06</td>\n",
       "      <td>38970.00</td>\n",
       "      <td>50032.06</td>\n",
       "      <td>4.61</td>\n",
       "      <td>2.08</td>\n",
       "      <td>96.76</td>\n",
       "      <td>186.51</td>\n",
       "      <td>59005.72</td>\n",
       "    </tr>\n",
       "    <tr>\n",
       "      <th>2</th>\n",
       "      <td>customer_id</td>\n",
       "      <td>12346.00</td>\n",
       "      <td>22709.00</td>\n",
       "      <td>10363.00</td>\n",
       "      <td>16688.84</td>\n",
       "      <td>16249.00</td>\n",
       "      <td>2911.41</td>\n",
       "      <td>0.49</td>\n",
       "      <td>-0.80</td>\n",
       "    </tr>\n",
       "  </tbody>\n",
       "</table>\n",
       "</div>"
      ],
      "text/plain": [
       "    attributes       min      max     range     mean   median     std   skew  kurtosis\n",
       "0     quantity -80995.00 80995.00 161990.00     9.55     3.00  218.08  -0.26 119769.16\n",
       "1   unit_price -11062.06 38970.00  50032.06     4.61     2.08   96.76 186.51  59005.72\n",
       "2  customer_id  12346.00 22709.00  10363.00 16688.84 16249.00 2911.41   0.49     -0.80"
      ]
     },
     "execution_count": 15,
     "metadata": {},
     "output_type": "execute_result"
    }
   ],
   "source": [
    "descriptive_statistics(num_att)"
   ]
  },
  {
   "cell_type": "markdown",
   "id": "eb270353",
   "metadata": {
    "hidden": true
   },
   "source": [
    "**Notes:**\n",
    "    \n",
    "1. quantity: numero negativo e alto, pode ser retorno\n",
    "2. unit_price: zero unidades? "
   ]
  },
  {
   "cell_type": "markdown",
   "id": "918bc2a8",
   "metadata": {
    "heading_collapsed": true,
    "hidden": true
   },
   "source": [
    "## 1.7.2. Categorical Attributes"
   ]
  },
  {
   "cell_type": "code",
   "execution_count": 16,
   "id": "fbb2c633",
   "metadata": {
    "ExecuteTime": {
     "end_time": "2021-08-19T23:34:13.534793Z",
     "start_time": "2021-08-19T23:34:13.090847Z"
    },
    "hidden": true
   },
   "outputs": [
    {
     "data": {
      "text/html": [
       "<div>\n",
       "<style scoped>\n",
       "    .dataframe tbody tr th:only-of-type {\n",
       "        vertical-align: middle;\n",
       "    }\n",
       "\n",
       "    .dataframe tbody tr th {\n",
       "        vertical-align: top;\n",
       "    }\n",
       "\n",
       "    .dataframe thead th {\n",
       "        text-align: right;\n",
       "    }\n",
       "</style>\n",
       "<table border=\"1\" class=\"dataframe\">\n",
       "  <thead>\n",
       "    <tr style=\"text-align: right;\">\n",
       "      <th></th>\n",
       "      <th>invoice_no</th>\n",
       "      <th>stock_code</th>\n",
       "      <th>description</th>\n",
       "      <th>country</th>\n",
       "    </tr>\n",
       "  </thead>\n",
       "  <tbody>\n",
       "    <tr>\n",
       "      <th>count</th>\n",
       "      <td>541909</td>\n",
       "      <td>541909</td>\n",
       "      <td>540455</td>\n",
       "      <td>541909</td>\n",
       "    </tr>\n",
       "    <tr>\n",
       "      <th>unique</th>\n",
       "      <td>25900</td>\n",
       "      <td>4070</td>\n",
       "      <td>4223</td>\n",
       "      <td>38</td>\n",
       "    </tr>\n",
       "    <tr>\n",
       "      <th>top</th>\n",
       "      <td>573585</td>\n",
       "      <td>85123A</td>\n",
       "      <td>WHITE HANGING HEART T-LIGHT HOLDER</td>\n",
       "      <td>United Kingdom</td>\n",
       "    </tr>\n",
       "    <tr>\n",
       "      <th>freq</th>\n",
       "      <td>1114</td>\n",
       "      <td>2313</td>\n",
       "      <td>2369</td>\n",
       "      <td>495478</td>\n",
       "    </tr>\n",
       "  </tbody>\n",
       "</table>\n",
       "</div>"
      ],
      "text/plain": [
       "       invoice_no stock_code                         description         country\n",
       "count      541909     541909                              540455          541909\n",
       "unique      25900       4070                                4223              38\n",
       "top        573585     85123A  WHITE HANGING HEART T-LIGHT HOLDER  United Kingdom\n",
       "freq         1114       2313                                2369          495478"
      ]
     },
     "execution_count": 16,
     "metadata": {},
     "output_type": "execute_result"
    }
   ],
   "source": [
    "cat_att.describe(include=['O'])"
   ]
  },
  {
   "cell_type": "markdown",
   "id": "5c50385f",
   "metadata": {
    "heading_collapsed": true,
    "hidden": true
   },
   "source": [
    "### invoice_no"
   ]
  },
  {
   "cell_type": "code",
   "execution_count": 17,
   "id": "b9c16e96",
   "metadata": {
    "ExecuteTime": {
     "end_time": "2021-08-19T23:34:14.553638Z",
     "start_time": "2021-08-19T23:34:13.537601Z"
    },
    "hidden": true
   },
   "outputs": [
    {
     "data": {
      "text/plain": [
       "9291"
      ]
     },
     "execution_count": 17,
     "metadata": {},
     "output_type": "execute_result"
    }
   ],
   "source": [
    "list_letter_invoice = df1.loc[~df1['invoice_no'].apply(lambda x: bool(re.search(r'^[0-9]+', x))), 'invoice_no'].tolist()\n",
    "len(list_letter_invoice)"
   ]
  },
  {
   "cell_type": "code",
   "execution_count": 18,
   "id": "f1e84698",
   "metadata": {
    "ExecuteTime": {
     "end_time": "2021-08-19T23:34:14.563588Z",
     "start_time": "2021-08-19T23:34:14.556303Z"
    },
    "hidden": true
   },
   "outputs": [
    {
     "data": {
      "text/plain": [
       "['C536379',\n",
       " 'C536383',\n",
       " 'C536391',\n",
       " 'C536391',\n",
       " 'C536391',\n",
       " 'C536391',\n",
       " 'C536391',\n",
       " 'C536391',\n",
       " 'C536391',\n",
       " 'C536506']"
      ]
     },
     "execution_count": 18,
     "metadata": {},
     "output_type": "execute_result"
    }
   ],
   "source": [
    "list_letter_invoice[:10]"
   ]
  },
  {
   "cell_type": "markdown",
   "id": "425d7144",
   "metadata": {
    "heading_collapsed": true,
    "hidden": true
   },
   "source": [
    "### stock_code"
   ]
  },
  {
   "cell_type": "code",
   "execution_count": 19,
   "id": "cf334d44",
   "metadata": {
    "ExecuteTime": {
     "end_time": "2021-08-19T23:34:15.672147Z",
     "start_time": "2021-08-19T23:34:14.566644Z"
    },
    "hidden": true
   },
   "outputs": [
    {
     "data": {
      "text/plain": [
       "54675"
      ]
     },
     "execution_count": 19,
     "metadata": {},
     "output_type": "execute_result"
    }
   ],
   "source": [
    "list_letter_stock_code = df1.loc[~df1['stock_code'].apply(lambda x: bool(re.search(r'[^a-zA-Z]+$', x))), 'stock_code'].tolist()\n",
    "\n",
    "len(list_letter_stock_code)"
   ]
  },
  {
   "cell_type": "markdown",
   "id": "e68ff354",
   "metadata": {
    "ExecuteTime": {
     "end_time": "2021-08-05T13:17:17.648781Z",
     "start_time": "2021-08-05T13:17:17.644779Z"
    },
    "heading_collapsed": true,
    "hidden": true
   },
   "source": [
    "### country"
   ]
  },
  {
   "cell_type": "code",
   "execution_count": 20,
   "id": "6dfe579a",
   "metadata": {
    "ExecuteTime": {
     "end_time": "2021-08-19T23:34:15.748411Z",
     "start_time": "2021-08-19T23:34:15.674925Z"
    },
    "hidden": true
   },
   "outputs": [
    {
     "data": {
      "text/plain": [
       "United Kingdom   0.91\n",
       "Germany          0.02\n",
       "France           0.02\n",
       "EIRE             0.02\n",
       "Spain            0.00\n",
       "Netherlands      0.00\n",
       "Belgium          0.00\n",
       "Switzerland      0.00\n",
       "Portugal         0.00\n",
       "Australia        0.00\n",
       "Name: country, dtype: float64"
      ]
     },
     "execution_count": 20,
     "metadata": {},
     "output_type": "execute_result"
    }
   ],
   "source": [
    "df1['country'].value_counts(normalize=True).head(10)"
   ]
  },
  {
   "cell_type": "markdown",
   "id": "dc1920ae",
   "metadata": {
    "hidden": true
   },
   "source": [
    "**Notes**\n",
    "1. invoice_no: 8905 items que não são somente numeros.\n",
    "2. stock_code: 35809 items que não são somente numeros.\n",
    "3. description: não tem informação relevante."
   ]
  },
  {
   "cell_type": "markdown",
   "id": "68b2a24f",
   "metadata": {
    "heading_collapsed": true
   },
   "source": [
    "# 2.0. Data Filtering"
   ]
  },
  {
   "cell_type": "code",
   "execution_count": 21,
   "id": "90095e9b",
   "metadata": {
    "ExecuteTime": {
     "end_time": "2021-08-19T23:34:15.771508Z",
     "start_time": "2021-08-19T23:34:15.751577Z"
    },
    "hidden": true
   },
   "outputs": [],
   "source": [
    "df2 = df1.copy()"
   ]
  },
  {
   "cell_type": "markdown",
   "id": "25199fd0",
   "metadata": {
    "heading_collapsed": true,
    "hidden": true
   },
   "source": [
    "## 2.1. Filter Columns"
   ]
  },
  {
   "cell_type": "code",
   "execution_count": 22,
   "id": "0bad1aec",
   "metadata": {
    "ExecuteTime": {
     "end_time": "2021-08-19T23:34:15.815127Z",
     "start_time": "2021-08-19T23:34:15.773494Z"
    },
    "hidden": true
   },
   "outputs": [],
   "source": [
    "cols_drop = ['description']\n",
    "df2 = df2.drop(cols_drop, axis=1)"
   ]
  },
  {
   "cell_type": "markdown",
   "id": "b50e3b32",
   "metadata": {
    "heading_collapsed": true,
    "hidden": true
   },
   "source": [
    "## 2.2. Filter Rows"
   ]
  },
  {
   "cell_type": "code",
   "execution_count": 23,
   "id": "6bcd20d3",
   "metadata": {
    "ExecuteTime": {
     "end_time": "2021-08-19T23:34:16.062230Z",
     "start_time": "2021-08-19T23:34:15.819080Z"
    },
    "hidden": true
   },
   "outputs": [],
   "source": [
    "# Numerical Attributes\n",
    "df2 = df2.loc[df2['unit_price'] >= 0.4, :]\n",
    "\n",
    "# Categorical Attributes\n",
    "df2 = df2.loc[~df2['stock_code'].isin(['POST', 'D', 'DOT', 'M', 'S', 'AMAZONFEE', 'm', 'DCGSSBOY', 'DCGSSGIRL', 'PADS', 'B', 'CRUK'] ), :]\n",
    "\n",
    "# map\n",
    "df2 = df2.loc[~df2['country'].isin(['European Community', 'Unspecified' ]), :]\n",
    "\n",
    "# bad user\n",
    "df2 = df2[~df2['customer_id'].isin( [16446] )]\n",
    "\n",
    "# quantity\n",
    "df2_returns   = df2.loc[df2['quantity'] < 0, :]\n",
    "df2_purchases = df2.loc[df2['quantity'] >= 0, :]"
   ]
  },
  {
   "cell_type": "markdown",
   "id": "16814c2a",
   "metadata": {
    "heading_collapsed": true
   },
   "source": [
    "# 3.0. Feature Engineering"
   ]
  },
  {
   "cell_type": "code",
   "execution_count": 24,
   "id": "3dcc6d38",
   "metadata": {
    "ExecuteTime": {
     "end_time": "2021-08-19T23:34:16.086539Z",
     "start_time": "2021-08-19T23:34:16.064358Z"
    },
    "hidden": true
   },
   "outputs": [],
   "source": [
    "df3 = df2.copy()"
   ]
  },
  {
   "cell_type": "markdown",
   "id": "180d585e",
   "metadata": {
    "heading_collapsed": true,
    "hidden": true
   },
   "source": [
    "## 3.1. Feature Creation"
   ]
  },
  {
   "cell_type": "code",
   "execution_count": 25,
   "id": "153c0407",
   "metadata": {
    "ExecuteTime": {
     "end_time": "2021-08-19T23:34:16.121883Z",
     "start_time": "2021-08-19T23:34:16.088296Z"
    },
    "hidden": true
   },
   "outputs": [],
   "source": [
    "drop_cols = ['invoice_no', 'stock_code', 'quantity', 'invoice_date', 'unit_price', 'country']\n",
    "df_ref = df3.drop(drop_cols, axis=1).drop_duplicates(ignore_index=True)"
   ]
  },
  {
   "cell_type": "code",
   "execution_count": 26,
   "id": "93e42a51",
   "metadata": {
    "ExecuteTime": {
     "end_time": "2021-08-19T23:34:16.139652Z",
     "start_time": "2021-08-19T23:34:16.125041Z"
    },
    "hidden": true
   },
   "outputs": [
    {
     "name": "stderr",
     "output_type": "stream",
     "text": [
      "/home/cid/.pyenv/versions/3.8.0/envs/clustering-high-value-customers-identification/lib/python3.8/site-packages/pandas/core/indexing.py:1773: SettingWithCopyWarning: \n",
      "A value is trying to be set on a copy of a slice from a DataFrame.\n",
      "Try using .loc[row_indexer,col_indexer] = value instead\n",
      "\n",
      "See the caveats in the documentation: https://pandas.pydata.org/pandas-docs/stable/user_guide/indexing.html#returning-a-view-versus-a-copy\n",
      "  self._setitem_single_column(ilocs[0], value, pi)\n"
     ]
    }
   ],
   "source": [
    "df2_purchases.loc[:, ['gross_revenue']] = (df2_purchases.loc[:, 'quantity'] * df2_purchases.loc[:, 'unit_price'])"
   ]
  },
  {
   "cell_type": "markdown",
   "id": "6b340b62",
   "metadata": {
    "ExecuteTime": {
     "end_time": "2021-08-09T16:49:44.138631Z",
     "start_time": "2021-08-09T16:49:44.131084Z"
    },
    "heading_collapsed": true,
    "hidden": true
   },
   "source": [
    "### 3.1.1. Monetary"
   ]
  },
  {
   "cell_type": "code",
   "execution_count": 27,
   "id": "485f6c6e",
   "metadata": {
    "ExecuteTime": {
     "end_time": "2021-08-19T23:34:16.225900Z",
     "start_time": "2021-08-19T23:34:16.144054Z"
    },
    "hidden": true
   },
   "outputs": [
    {
     "data": {
      "text/plain": [
       "customer_id     0\n",
       "monetary       92\n",
       "dtype: int64"
      ]
     },
     "execution_count": 27,
     "metadata": {},
     "output_type": "execute_result"
    }
   ],
   "source": [
    "df_monetary = df2_purchases.loc[:, ['customer_id', 'gross_revenue']].groupby('customer_id').sum().reset_index().rename(columns={'gross_revenue': 'monetary'})\n",
    "df_ref = pd.merge(df_ref, df_monetary, how='left', on='customer_id')\n",
    "df_ref.isna().sum()"
   ]
  },
  {
   "cell_type": "markdown",
   "id": "39634d79",
   "metadata": {
    "ExecuteTime": {
     "end_time": "2021-08-09T16:49:44.138631Z",
     "start_time": "2021-08-09T16:49:44.131084Z"
    },
    "heading_collapsed": true,
    "hidden": true
   },
   "source": [
    "### 3.1.2. Recency"
   ]
  },
  {
   "cell_type": "code",
   "execution_count": 28,
   "id": "86e6efcc",
   "metadata": {
    "ExecuteTime": {
     "end_time": "2021-08-19T23:34:16.268181Z",
     "start_time": "2021-08-19T23:34:16.233120Z"
    },
    "hidden": true
   },
   "outputs": [
    {
     "data": {
      "text/plain": [
       "customer_id      0\n",
       "monetary        92\n",
       "recency_days    92\n",
       "dtype: int64"
      ]
     },
     "execution_count": 28,
     "metadata": {},
     "output_type": "execute_result"
    }
   ],
   "source": [
    "df_recency = df2_purchases.loc[:, ['customer_id', 'invoice_date']].groupby('customer_id').max().reset_index()\n",
    "df_recency['recency_days'] = (df_recency['invoice_date'].max() - df_recency['invoice_date']).dt.days\n",
    "df_ref = pd.merge(df_ref, df_recency[['customer_id', 'recency_days']], how='left', on='customer_id')\n",
    "\n",
    "df_ref.isna().sum()"
   ]
  },
  {
   "cell_type": "markdown",
   "id": "25bdfbc6",
   "metadata": {
    "ExecuteTime": {
     "end_time": "2021-08-09T16:49:44.138631Z",
     "start_time": "2021-08-09T16:49:44.131084Z"
    },
    "heading_collapsed": true,
    "hidden": true
   },
   "source": [
    "### 3.1.3. Quatily of purchased"
   ]
  },
  {
   "cell_type": "code",
   "execution_count": 29,
   "id": "f95c9fd1",
   "metadata": {
    "ExecuteTime": {
     "end_time": "2021-08-19T23:34:16.360459Z",
     "start_time": "2021-08-19T23:34:16.270250Z"
    },
    "hidden": true
   },
   "outputs": [
    {
     "data": {
      "text/plain": [
       "customer_id       0\n",
       "monetary         92\n",
       "recency_days     92\n",
       "qtde_invoices    92\n",
       "dtype: int64"
      ]
     },
     "execution_count": 29,
     "metadata": {},
     "output_type": "execute_result"
    }
   ],
   "source": [
    "df_freq = df2_purchases[['customer_id', 'invoice_no']].drop_duplicates().groupby('customer_id').count().reset_index().\\\n",
    "rename(columns={'invoice_no': 'qtde_invoices'})\n",
    "\n",
    "df_ref = pd.merge(df_ref, df_freq, how='left', on='customer_id')\n",
    "df_ref.isna().sum()"
   ]
  },
  {
   "cell_type": "markdown",
   "id": "a2f4d7c7",
   "metadata": {
    "heading_collapsed": true,
    "hidden": true
   },
   "source": [
    "### 3.1.4. Quantity total of items purchased"
   ]
  },
  {
   "cell_type": "code",
   "execution_count": 30,
   "id": "a59a9d62",
   "metadata": {
    "ExecuteTime": {
     "end_time": "2021-08-19T23:34:16.397243Z",
     "start_time": "2021-08-19T23:34:16.362561Z"
    },
    "hidden": true
   },
   "outputs": [
    {
     "data": {
      "text/plain": [
       "customer_id       0\n",
       "monetary         92\n",
       "recency_days     92\n",
       "qtde_invoices    92\n",
       "qtde_items       92\n",
       "dtype: int64"
      ]
     },
     "execution_count": 30,
     "metadata": {},
     "output_type": "execute_result"
    }
   ],
   "source": [
    "df_freq = (df2_purchases.loc[:, ['customer_id', 'quantity']].groupby('customer_id')\n",
    "                                                            .sum()\n",
    "                                                            .reset_index()\n",
    "                                                            .rename(columns={'quantity': 'qtde_items'}))\n",
    "df_ref = pd.merge(df_ref, df_freq, how='left', on='customer_id')\n",
    "df_ref.isna().sum()"
   ]
  },
  {
   "cell_type": "markdown",
   "id": "410ffb81",
   "metadata": {
    "ExecuteTime": {
     "end_time": "2021-08-12T13:29:13.252634Z",
     "start_time": "2021-08-12T13:29:13.237186Z"
    },
    "heading_collapsed": true,
    "hidden": true
   },
   "source": [
    "### 3.1.5. Quantity of products purchased"
   ]
  },
  {
   "cell_type": "code",
   "execution_count": 31,
   "id": "81686ba1",
   "metadata": {
    "ExecuteTime": {
     "end_time": "2021-08-19T23:34:16.488878Z",
     "start_time": "2021-08-19T23:34:16.399433Z"
    },
    "hidden": true
   },
   "outputs": [
    {
     "data": {
      "text/plain": [
       "customer_id       0\n",
       "monetary         92\n",
       "recency_days     92\n",
       "qtde_invoices    92\n",
       "qtde_items       92\n",
       "qtde_products    92\n",
       "dtype: int64"
      ]
     },
     "execution_count": 31,
     "metadata": {},
     "output_type": "execute_result"
    }
   ],
   "source": [
    "df_freq = ( df2_purchases.loc[:, ['customer_id', 'stock_code']].groupby('customer_id')\n",
    "                                                               .count()\n",
    "                                                               .reset_index()\n",
    "                                                               .rename(columns={'stock_code': 'qtde_products'}))\n",
    "df_ref = pd.merge(df_ref, df_freq, how='left', on='customer_id')\n",
    "df_ref.isna().sum()"
   ]
  },
  {
   "cell_type": "markdown",
   "id": "0bbbf7fe",
   "metadata": {
    "ExecuteTime": {
     "end_time": "2021-08-09T16:49:44.138631Z",
     "start_time": "2021-08-09T16:49:44.131084Z"
    },
    "heading_collapsed": true,
    "hidden": true
   },
   "source": [
    "### 3.1.6. Average Ticket"
   ]
  },
  {
   "cell_type": "code",
   "execution_count": 32,
   "id": "d2d0eed6",
   "metadata": {
    "ExecuteTime": {
     "end_time": "2021-08-19T23:34:16.527560Z",
     "start_time": "2021-08-19T23:34:16.491904Z"
    },
    "hidden": true
   },
   "outputs": [
    {
     "data": {
      "text/plain": [
       "customer_id       0\n",
       "monetary         92\n",
       "recency_days     92\n",
       "qtde_invoices    92\n",
       "qtde_items       92\n",
       "qtde_products    92\n",
       "avg_ticket       92\n",
       "dtype: int64"
      ]
     },
     "execution_count": 32,
     "metadata": {},
     "output_type": "execute_result"
    }
   ],
   "source": [
    "df_avg_ticket =  (df2_purchases.loc[:, ['customer_id','gross_revenue']].groupby('customer_id')\n",
    "                                                                       .mean()\n",
    "                                                                       .reset_index()\n",
    "                                                                       .rename(columns={'gross_revenue': 'avg_ticket'}))\n",
    "\n",
    "df_ref = pd.merge(df_ref, df_avg_ticket, how='left', on='customer_id')\n",
    "\n",
    "df_ref.isna().sum()"
   ]
  },
  {
   "cell_type": "markdown",
   "id": "9c33c58d",
   "metadata": {
    "heading_collapsed": true,
    "hidden": true
   },
   "source": [
    "### 3.1.7. Average Recency Days"
   ]
  },
  {
   "cell_type": "code",
   "execution_count": 33,
   "id": "bd3c3af6",
   "metadata": {
    "ExecuteTime": {
     "end_time": "2021-08-19T23:34:16.575709Z",
     "start_time": "2021-08-19T23:34:16.529476Z"
    },
    "hidden": true
   },
   "outputs": [],
   "source": [
    "df_aux = df2[['customer_id', 'invoice_date']].drop_duplicates().sort_values(['customer_id', 'invoice_date'], ascending=[False, False])\n",
    "df_aux['next_customer_id'] = df_aux['customer_id'].shift()\n",
    "df_aux['previus_date'] = df_aux['invoice_date'].shift()"
   ]
  },
  {
   "cell_type": "code",
   "execution_count": 34,
   "id": "0dcc70c2",
   "metadata": {
    "ExecuteTime": {
     "end_time": "2021-08-19T23:34:18.001002Z",
     "start_time": "2021-08-19T23:34:16.577739Z"
    },
    "hidden": true
   },
   "outputs": [],
   "source": [
    "df_aux['avg_recency_days'] = df_aux.apply( lambda x: (x['invoice_date'] - x['previus_date']).days if x['customer_id'] == x['next_customer_id'] else np.nan, axis=1)\n",
    "df_aux['avg_recency_days'] = df_aux['avg_recency_days'] * -1\n",
    "df_aux = df_aux.drop(columns=['invoice_date', 'next_customer_id', 'previus_date'], axis=1).dropna()"
   ]
  },
  {
   "cell_type": "code",
   "execution_count": 35,
   "id": "0f1caa5a",
   "metadata": {
    "ExecuteTime": {
     "end_time": "2021-08-19T23:34:18.023403Z",
     "start_time": "2021-08-19T23:34:18.002875Z"
    },
    "hidden": true
   },
   "outputs": [
    {
     "data": {
      "text/plain": [
       "customer_id            0\n",
       "monetary              92\n",
       "recency_days          92\n",
       "qtde_invoices         92\n",
       "qtde_items            92\n",
       "qtde_products         92\n",
       "avg_ticket            92\n",
       "avg_recency_days    2815\n",
       "dtype: int64"
      ]
     },
     "execution_count": 35,
     "metadata": {},
     "output_type": "execute_result"
    }
   ],
   "source": [
    "df_avg_recency_days = df_aux.groupby( 'customer_id' ).mean().reset_index()\n",
    "\n",
    "df_ref = pd.merge(df_ref, df_avg_recency_days, on='customer_id', how='left')\n",
    "df_ref.isna().sum()"
   ]
  },
  {
   "cell_type": "markdown",
   "id": "922407e6",
   "metadata": {
    "heading_collapsed": true,
    "hidden": true
   },
   "source": [
    "### 3.1.8. Frequency Purchase"
   ]
  },
  {
   "cell_type": "code",
   "execution_count": 36,
   "id": "ecf5a5d7",
   "metadata": {
    "ExecuteTime": {
     "end_time": "2021-08-19T23:34:19.683460Z",
     "start_time": "2021-08-19T23:34:18.025755Z"
    },
    "hidden": true
   },
   "outputs": [
    {
     "data": {
      "text/plain": [
       "customer_id            0\n",
       "monetary              92\n",
       "recency_days          92\n",
       "qtde_invoices         92\n",
       "qtde_items            92\n",
       "qtde_products         92\n",
       "avg_ticket            92\n",
       "avg_recency_days    2815\n",
       "frequency             92\n",
       "dtype: int64"
      ]
     },
     "execution_count": 36,
     "metadata": {},
     "output_type": "execute_result"
    }
   ],
   "source": [
    "df_aux = (df2_purchases[['customer_id', 'invoice_no', 'invoice_date']].drop_duplicates()\n",
    "                                                 .groupby('customer_id')\n",
    "                                                 .agg( max_ = ('invoice_date', 'max'),\n",
    "                                                       min_ = ('invoice_date', 'min'),\n",
    "                                                       days = ('invoice_date', lambda x: ((x.max() - x.min()).days) + 1 ),\n",
    "                                                       buy_ = ( 'invoice_no', 'count' ))).reset_index()\n",
    "\n",
    "df_aux['frequency'] = df_aux[['buy_', 'days']].apply( lambda x: x['buy_'] / x['days'] if x['days'] != 0 else 0, axis=1 )\n",
    "\n",
    "df_ref = pd.merge(df_ref, df_aux[['customer_id', 'frequency']], on='customer_id', how='left')\n",
    "df_ref.isna().sum()"
   ]
  },
  {
   "cell_type": "markdown",
   "id": "a90650fd",
   "metadata": {
    "heading_collapsed": true,
    "hidden": true
   },
   "source": [
    "### 3.1.9. Number Or Returns"
   ]
  },
  {
   "cell_type": "code",
   "execution_count": 37,
   "id": "fc6071ef",
   "metadata": {
    "ExecuteTime": {
     "end_time": "2021-08-19T23:34:19.713945Z",
     "start_time": "2021-08-19T23:34:19.686035Z"
    },
    "hidden": true
   },
   "outputs": [
    {
     "data": {
      "text/plain": [
       "customer_id            0\n",
       "monetary              92\n",
       "recency_days          92\n",
       "qtde_invoices         92\n",
       "qtde_items            92\n",
       "qtde_products         92\n",
       "avg_ticket            92\n",
       "avg_recency_days    2815\n",
       "frequency             92\n",
       "qtde_returns           0\n",
       "dtype: int64"
      ]
     },
     "execution_count": 37,
     "metadata": {},
     "output_type": "execute_result"
    }
   ],
   "source": [
    "df_returns = df2_returns[['quantity', 'customer_id']].groupby('customer_id').sum().reset_index().rename(columns={'quantity': 'qtde_returns'})\n",
    "df_returns['qtde_returns'] = df_returns['qtde_returns'] * -1\n",
    "\n",
    "df_ref = pd.merge(df_ref, df_returns, on='customer_id', how='left')\n",
    "df_ref['qtde_returns'].fillna(0, inplace=True)\n",
    "df_ref.isna().sum()"
   ]
  },
  {
   "cell_type": "markdown",
   "id": "83a0383f",
   "metadata": {
    "heading_collapsed": true,
    "hidden": true
   },
   "source": [
    "### 3.1.10. Basket Size"
   ]
  },
  {
   "cell_type": "code",
   "execution_count": 38,
   "id": "f823e35f",
   "metadata": {
    "ExecuteTime": {
     "end_time": "2021-08-19T23:34:19.827227Z",
     "start_time": "2021-08-19T23:34:19.717137Z"
    },
    "hidden": true
   },
   "outputs": [
    {
     "data": {
      "text/plain": [
       "customer_id            0\n",
       "monetary              92\n",
       "recency_days          92\n",
       "qtde_invoices         92\n",
       "qtde_items            92\n",
       "qtde_products         92\n",
       "avg_ticket            92\n",
       "avg_recency_days    2815\n",
       "frequency             92\n",
       "qtde_returns           0\n",
       "avg_basket_size       92\n",
       "dtype: int64"
      ]
     },
     "execution_count": 38,
     "metadata": {},
     "output_type": "execute_result"
    }
   ],
   "source": [
    "df_aux = (df2_purchases[['customer_id', 'invoice_no', 'quantity']].groupby('customer_id')\n",
    "                                                                   .agg( n_purchase=('invoice_no', 'nunique'),\n",
    "                                                                         n_products=('quantity', 'sum'))).reset_index()\n",
    "df_aux['avg_basket_size'] = df_aux['n_products'] / df_aux['n_purchase']\n",
    "df_ref = pd.merge(df_ref, df_aux[['avg_basket_size', 'customer_id']], on='customer_id', how='left')\n",
    "df_ref.isna().sum()"
   ]
  },
  {
   "cell_type": "markdown",
   "id": "308da526",
   "metadata": {
    "heading_collapsed": true,
    "hidden": true
   },
   "source": [
    "### 3.1.11. Unique Basket Size"
   ]
  },
  {
   "cell_type": "code",
   "execution_count": 39,
   "id": "e81c5029",
   "metadata": {
    "ExecuteTime": {
     "end_time": "2021-08-19T23:34:20.076990Z",
     "start_time": "2021-08-19T23:34:19.830135Z"
    },
    "hidden": true
   },
   "outputs": [
    {
     "data": {
      "text/plain": [
       "customer_id                  0\n",
       "monetary                    92\n",
       "recency_days                92\n",
       "qtde_invoices               92\n",
       "qtde_items                  92\n",
       "qtde_products               92\n",
       "avg_ticket                  92\n",
       "avg_recency_days          2815\n",
       "frequency                   92\n",
       "qtde_returns                 0\n",
       "avg_basket_size             92\n",
       "avg_unique_basket_size      92\n",
       "dtype: int64"
      ]
     },
     "execution_count": 39,
     "metadata": {},
     "output_type": "execute_result"
    }
   ],
   "source": [
    "df_aux = (df2_purchases.loc[:, ['customer_id', 'invoice_no', 'stock_code']].groupby( 'customer_id' )\n",
    "                                                                         .agg(n_purchase=('invoice_no', 'nunique'),\n",
    "                                                                              n_products=('stock_code', 'nunique'))).reset_index()\n",
    "df_aux['avg_unique_basket_size'] = df_aux['n_products'] / df_aux['n_purchase']\n",
    "\n",
    "df_ref = pd.merge(df_ref, df_aux[['avg_unique_basket_size', 'customer_id']], on='customer_id', how='left')\n",
    "df_ref.isna().sum()"
   ]
  },
  {
   "cell_type": "markdown",
   "id": "5e87e47c",
   "metadata": {},
   "source": [
    "# 4.0. EDA  "
   ]
  },
  {
   "cell_type": "code",
   "execution_count": 40,
   "id": "aac53260",
   "metadata": {
    "ExecuteTime": {
     "end_time": "2021-08-19T23:34:20.092241Z",
     "start_time": "2021-08-19T23:34:20.079500Z"
    }
   },
   "outputs": [],
   "source": [
    "df_ref = df_ref.dropna()\n",
    "\n",
    "df4 = df_ref.copy()"
   ]
  },
  {
   "cell_type": "markdown",
   "id": "610f7815",
   "metadata": {
    "heading_collapsed": true
   },
   "source": [
    "## 4.1. Univariate Analysis"
   ]
  },
  {
   "cell_type": "code",
   "execution_count": 41,
   "id": "8cc650b3",
   "metadata": {
    "ExecuteTime": {
     "end_time": "2021-08-19T23:34:20.100484Z",
     "start_time": "2021-08-19T23:34:20.094965Z"
    },
    "hidden": true
   },
   "outputs": [],
   "source": [
    "# report = ProfileReport(df4)\n",
    "# report.to_file('../reports/output.html')"
   ]
  },
  {
   "cell_type": "markdown",
   "id": "2c296b12",
   "metadata": {
    "heading_collapsed": true,
    "hidden": true
   },
   "source": [
    "### 4.1.1. monetary"
   ]
  },
  {
   "cell_type": "code",
   "execution_count": 42,
   "id": "80ba8f33",
   "metadata": {
    "ExecuteTime": {
     "end_time": "2021-08-19T23:34:22.991877Z",
     "start_time": "2021-08-19T23:34:20.103769Z"
    },
    "hidden": true
   },
   "outputs": [
    {
     "data": {
      "image/png": "[encoded data removed]",
      "text/plain": [
       "<Figure size 1728x648 with 1 Axes>"
      ]
     },
     "metadata": {},
     "output_type": "display_data"
    }
   ],
   "source": [
    "sns.histplot(df4['monetary']);"
   ]
  },
  {
   "cell_type": "code",
   "execution_count": 43,
   "id": "ad8c1957",
   "metadata": {
    "ExecuteTime": {
     "end_time": "2021-08-19T23:34:23.016130Z",
     "start_time": "2021-08-19T23:34:22.995818Z"
    },
    "hidden": true
   },
   "outputs": [
    {
     "data": {
      "text/html": [
       "<div>\n",
       "<style scoped>\n",
       "    .dataframe tbody tr th:only-of-type {\n",
       "        vertical-align: middle;\n",
       "    }\n",
       "\n",
       "    .dataframe tbody tr th {\n",
       "        vertical-align: top;\n",
       "    }\n",
       "\n",
       "    .dataframe thead th {\n",
       "        text-align: right;\n",
       "    }\n",
       "</style>\n",
       "<table border=\"1\" class=\"dataframe\">\n",
       "  <thead>\n",
       "    <tr style=\"text-align: right;\">\n",
       "      <th></th>\n",
       "      <th>customer_id</th>\n",
       "      <th>monetary</th>\n",
       "      <th>recency_days</th>\n",
       "      <th>qtde_invoices</th>\n",
       "      <th>qtde_items</th>\n",
       "      <th>qtde_products</th>\n",
       "      <th>avg_ticket</th>\n",
       "      <th>avg_recency_days</th>\n",
       "      <th>frequency</th>\n",
       "      <th>qtde_returns</th>\n",
       "      <th>avg_basket_size</th>\n",
       "      <th>avg_unique_basket_size</th>\n",
       "    </tr>\n",
       "  </thead>\n",
       "  <tbody>\n",
       "    <tr>\n",
       "      <th>1015</th>\n",
       "      <td>14646</td>\n",
       "      <td>272345.66</td>\n",
       "      <td>1.00</td>\n",
       "      <td>72.00</td>\n",
       "      <td>177148.00</td>\n",
       "      <td>1905.00</td>\n",
       "      <td>142.96</td>\n",
       "      <td>7.84</td>\n",
       "      <td>0.20</td>\n",
       "      <td>288.00</td>\n",
       "      <td>2460.39</td>\n",
       "      <td>8.99</td>\n",
       "    </tr>\n",
       "    <tr>\n",
       "      <th>492</th>\n",
       "      <td>18102</td>\n",
       "      <td>259657.30</td>\n",
       "      <td>0.00</td>\n",
       "      <td>60.00</td>\n",
       "      <td>64124.00</td>\n",
       "      <td>431.00</td>\n",
       "      <td>602.45</td>\n",
       "      <td>14.68</td>\n",
       "      <td>0.16</td>\n",
       "      <td>0.00</td>\n",
       "      <td>1068.73</td>\n",
       "      <td>2.50</td>\n",
       "    </tr>\n",
       "    <tr>\n",
       "      <th>433</th>\n",
       "      <td>17450</td>\n",
       "      <td>194550.79</td>\n",
       "      <td>8.00</td>\n",
       "      <td>46.00</td>\n",
       "      <td>69993.00</td>\n",
       "      <td>337.00</td>\n",
       "      <td>577.30</td>\n",
       "      <td>12.82</td>\n",
       "      <td>0.13</td>\n",
       "      <td>952.00</td>\n",
       "      <td>1521.59</td>\n",
       "      <td>2.70</td>\n",
       "    </tr>\n",
       "    <tr>\n",
       "      <th>66</th>\n",
       "      <td>14911</td>\n",
       "      <td>136626.96</td>\n",
       "      <td>1.00</td>\n",
       "      <td>199.00</td>\n",
       "      <td>66368.00</td>\n",
       "      <td>5337.00</td>\n",
       "      <td>25.60</td>\n",
       "      <td>2.60</td>\n",
       "      <td>0.53</td>\n",
       "      <td>3217.00</td>\n",
       "      <td>333.51</td>\n",
       "      <td>8.37</td>\n",
       "    </tr>\n",
       "    <tr>\n",
       "      <th>1147</th>\n",
       "      <td>12415</td>\n",
       "      <td>120193.93</td>\n",
       "      <td>24.00</td>\n",
       "      <td>20.00</td>\n",
       "      <td>64493.00</td>\n",
       "      <td>644.00</td>\n",
       "      <td>186.64</td>\n",
       "      <td>20.87</td>\n",
       "      <td>0.06</td>\n",
       "      <td>427.00</td>\n",
       "      <td>3224.65</td>\n",
       "      <td>19.65</td>\n",
       "    </tr>\n",
       "    <tr>\n",
       "      <th>190</th>\n",
       "      <td>14156</td>\n",
       "      <td>115727.35</td>\n",
       "      <td>9.00</td>\n",
       "      <td>55.00</td>\n",
       "      <td>52013.00</td>\n",
       "      <td>1353.00</td>\n",
       "      <td>85.53</td>\n",
       "      <td>7.26</td>\n",
       "      <td>0.15</td>\n",
       "      <td>859.00</td>\n",
       "      <td>945.69</td>\n",
       "      <td>12.49</td>\n",
       "    </tr>\n",
       "    <tr>\n",
       "      <th>15</th>\n",
       "      <td>17511</td>\n",
       "      <td>87716.48</td>\n",
       "      <td>2.00</td>\n",
       "      <td>31.00</td>\n",
       "      <td>52259.00</td>\n",
       "      <td>856.00</td>\n",
       "      <td>102.47</td>\n",
       "      <td>11.59</td>\n",
       "      <td>0.08</td>\n",
       "      <td>1534.00</td>\n",
       "      <td>1685.77</td>\n",
       "      <td>12.26</td>\n",
       "    </tr>\n",
       "    <tr>\n",
       "      <th>12</th>\n",
       "      <td>16029</td>\n",
       "      <td>72882.09</td>\n",
       "      <td>38.00</td>\n",
       "      <td>62.00</td>\n",
       "      <td>40207.00</td>\n",
       "      <td>241.00</td>\n",
       "      <td>302.42</td>\n",
       "      <td>9.05</td>\n",
       "      <td>0.18</td>\n",
       "      <td>8004.00</td>\n",
       "      <td>648.50</td>\n",
       "      <td>0.69</td>\n",
       "    </tr>\n",
       "    <tr>\n",
       "      <th>953</th>\n",
       "      <td>16684</td>\n",
       "      <td>62078.12</td>\n",
       "      <td>4.00</td>\n",
       "      <td>26.00</td>\n",
       "      <td>36731.00</td>\n",
       "      <td>243.00</td>\n",
       "      <td>255.47</td>\n",
       "      <td>22.12</td>\n",
       "      <td>0.07</td>\n",
       "      <td>864.00</td>\n",
       "      <td>1412.73</td>\n",
       "      <td>3.88</td>\n",
       "    </tr>\n",
       "    <tr>\n",
       "      <th>8</th>\n",
       "      <td>15311</td>\n",
       "      <td>60402.22</td>\n",
       "      <td>0.00</td>\n",
       "      <td>91.00</td>\n",
       "      <td>36978.00</td>\n",
       "      <td>2326.00</td>\n",
       "      <td>25.97</td>\n",
       "      <td>4.14</td>\n",
       "      <td>0.24</td>\n",
       "      <td>474.00</td>\n",
       "      <td>406.35</td>\n",
       "      <td>6.00</td>\n",
       "    </tr>\n",
       "  </tbody>\n",
       "</table>\n",
       "</div>"
      ],
      "text/plain": [
       "      customer_id  monetary  recency_days  qtde_invoices  qtde_items  qtde_products  avg_ticket  avg_recency_days  frequency  qtde_returns  avg_basket_size  avg_unique_basket_size\n",
       "1015        14646 272345.66          1.00          72.00   177148.00        1905.00      142.96              7.84       0.20        288.00          2460.39                    8.99\n",
       "492         18102 259657.30          0.00          60.00    64124.00         431.00      602.45             14.68       0.16          0.00          1068.73                    2.50\n",
       "433         17450 194550.79          8.00          46.00    69993.00         337.00      577.30             12.82       0.13        952.00          1521.59                    2.70\n",
       "66          14911 136626.96          1.00         199.00    66368.00        5337.00       25.60              2.60       0.53       3217.00           333.51                    8.37\n",
       "1147        12415 120193.93         24.00          20.00    64493.00         644.00      186.64             20.87       0.06        427.00          3224.65                   19.65\n",
       "190         14156 115727.35          9.00          55.00    52013.00        1353.00       85.53              7.26       0.15        859.00           945.69                   12.49\n",
       "15          17511  87716.48          2.00          31.00    52259.00         856.00      102.47             11.59       0.08       1534.00          1685.77                   12.26\n",
       "12          16029  72882.09         38.00          62.00    40207.00         241.00      302.42              9.05       0.18       8004.00           648.50                    0.69\n",
       "953         16684  62078.12          4.00          26.00    36731.00         243.00      255.47             22.12       0.07        864.00          1412.73                    3.88\n",
       "8           15311  60402.22          0.00          91.00    36978.00        2326.00       25.97              4.14       0.24        474.00           406.35                    6.00"
      ]
     },
     "execution_count": 43,
     "metadata": {},
     "output_type": "execute_result"
    }
   ],
   "source": [
    "df4.sort_values('monetary', ascending=False).head(10)"
   ]
  },
  {
   "cell_type": "markdown",
   "id": "6c8a8791",
   "metadata": {
    "heading_collapsed": true,
    "hidden": true
   },
   "source": [
    "### 4.1.2. qtde_invoices"
   ]
  },
  {
   "cell_type": "code",
   "execution_count": 44,
   "id": "31203bde",
   "metadata": {
    "ExecuteTime": {
     "end_time": "2021-08-19T23:34:23.037421Z",
     "start_time": "2021-08-19T23:34:23.018668Z"
    },
    "hidden": true
   },
   "outputs": [
    {
     "data": {
      "text/html": [
       "<div>\n",
       "<style scoped>\n",
       "    .dataframe tbody tr th:only-of-type {\n",
       "        vertical-align: middle;\n",
       "    }\n",
       "\n",
       "    .dataframe tbody tr th {\n",
       "        vertical-align: top;\n",
       "    }\n",
       "\n",
       "    .dataframe thead th {\n",
       "        text-align: right;\n",
       "    }\n",
       "</style>\n",
       "<table border=\"1\" class=\"dataframe\">\n",
       "  <thead>\n",
       "    <tr style=\"text-align: right;\">\n",
       "      <th></th>\n",
       "      <th>customer_id</th>\n",
       "      <th>monetary</th>\n",
       "      <th>recency_days</th>\n",
       "      <th>qtde_invoices</th>\n",
       "      <th>qtde_items</th>\n",
       "      <th>qtde_products</th>\n",
       "      <th>avg_ticket</th>\n",
       "      <th>avg_recency_days</th>\n",
       "      <th>frequency</th>\n",
       "      <th>qtde_returns</th>\n",
       "      <th>avg_basket_size</th>\n",
       "      <th>avg_unique_basket_size</th>\n",
       "    </tr>\n",
       "  </thead>\n",
       "  <tbody>\n",
       "    <tr>\n",
       "      <th>47</th>\n",
       "      <td>12748</td>\n",
       "      <td>30956.41</td>\n",
       "      <td>0.00</td>\n",
       "      <td>202.00</td>\n",
       "      <td>20068.00</td>\n",
       "      <td>4222.00</td>\n",
       "      <td>7.33</td>\n",
       "      <td>3.39</td>\n",
       "      <td>0.54</td>\n",
       "      <td>1487.00</td>\n",
       "      <td>99.35</td>\n",
       "      <td>8.20</td>\n",
       "    </tr>\n",
       "    <tr>\n",
       "      <th>66</th>\n",
       "      <td>14911</td>\n",
       "      <td>136626.96</td>\n",
       "      <td>1.00</td>\n",
       "      <td>199.00</td>\n",
       "      <td>66368.00</td>\n",
       "      <td>5337.00</td>\n",
       "      <td>25.60</td>\n",
       "      <td>2.60</td>\n",
       "      <td>0.53</td>\n",
       "      <td>3217.00</td>\n",
       "      <td>333.51</td>\n",
       "      <td>8.37</td>\n",
       "    </tr>\n",
       "    <tr>\n",
       "      <th>68</th>\n",
       "      <td>17841</td>\n",
       "      <td>40276.21</td>\n",
       "      <td>1.00</td>\n",
       "      <td>123.00</td>\n",
       "      <td>19368.00</td>\n",
       "      <td>7599.00</td>\n",
       "      <td>5.30</td>\n",
       "      <td>3.32</td>\n",
       "      <td>0.33</td>\n",
       "      <td>189.00</td>\n",
       "      <td>157.46</td>\n",
       "      <td>10.30</td>\n",
       "    </tr>\n",
       "    <tr>\n",
       "      <th>278</th>\n",
       "      <td>13089</td>\n",
       "      <td>58638.99</td>\n",
       "      <td>2.00</td>\n",
       "      <td>97.00</td>\n",
       "      <td>30554.00</td>\n",
       "      <td>1806.00</td>\n",
       "      <td>32.47</td>\n",
       "      <td>4.48</td>\n",
       "      <td>0.26</td>\n",
       "      <td>283.00</td>\n",
       "      <td>314.99</td>\n",
       "      <td>6.47</td>\n",
       "    </tr>\n",
       "    <tr>\n",
       "      <th>8</th>\n",
       "      <td>15311</td>\n",
       "      <td>60402.22</td>\n",
       "      <td>0.00</td>\n",
       "      <td>91.00</td>\n",
       "      <td>36978.00</td>\n",
       "      <td>2326.00</td>\n",
       "      <td>25.97</td>\n",
       "      <td>4.14</td>\n",
       "      <td>0.24</td>\n",
       "      <td>474.00</td>\n",
       "      <td>406.35</td>\n",
       "      <td>6.00</td>\n",
       "    </tr>\n",
       "    <tr>\n",
       "      <th>96</th>\n",
       "      <td>14606</td>\n",
       "      <td>11894.68</td>\n",
       "      <td>1.00</td>\n",
       "      <td>91.00</td>\n",
       "      <td>5735.00</td>\n",
       "      <td>2630.00</td>\n",
       "      <td>4.52</td>\n",
       "      <td>4.28</td>\n",
       "      <td>0.24</td>\n",
       "      <td>242.00</td>\n",
       "      <td>63.02</td>\n",
       "      <td>8.78</td>\n",
       "    </tr>\n",
       "    <tr>\n",
       "      <th>183</th>\n",
       "      <td>12971</td>\n",
       "      <td>10178.67</td>\n",
       "      <td>3.00</td>\n",
       "      <td>85.00</td>\n",
       "      <td>5873.00</td>\n",
       "      <td>280.00</td>\n",
       "      <td>36.35</td>\n",
       "      <td>5.35</td>\n",
       "      <td>0.23</td>\n",
       "      <td>85.00</td>\n",
       "      <td>69.09</td>\n",
       "      <td>1.08</td>\n",
       "    </tr>\n",
       "    <tr>\n",
       "      <th>1015</th>\n",
       "      <td>14646</td>\n",
       "      <td>272345.66</td>\n",
       "      <td>1.00</td>\n",
       "      <td>72.00</td>\n",
       "      <td>177148.00</td>\n",
       "      <td>1905.00</td>\n",
       "      <td>142.96</td>\n",
       "      <td>7.84</td>\n",
       "      <td>0.20</td>\n",
       "      <td>288.00</td>\n",
       "      <td>2460.39</td>\n",
       "      <td>8.99</td>\n",
       "    </tr>\n",
       "    <tr>\n",
       "      <th>19</th>\n",
       "      <td>13408</td>\n",
       "      <td>27998.09</td>\n",
       "      <td>1.00</td>\n",
       "      <td>62.00</td>\n",
       "      <td>15847.00</td>\n",
       "      <td>469.00</td>\n",
       "      <td>59.70</td>\n",
       "      <td>7.29</td>\n",
       "      <td>0.17</td>\n",
       "      <td>104.00</td>\n",
       "      <td>255.60</td>\n",
       "      <td>3.66</td>\n",
       "    </tr>\n",
       "    <tr>\n",
       "      <th>12</th>\n",
       "      <td>16029</td>\n",
       "      <td>72882.09</td>\n",
       "      <td>38.00</td>\n",
       "      <td>62.00</td>\n",
       "      <td>40207.00</td>\n",
       "      <td>241.00</td>\n",
       "      <td>302.42</td>\n",
       "      <td>9.05</td>\n",
       "      <td>0.18</td>\n",
       "      <td>8004.00</td>\n",
       "      <td>648.50</td>\n",
       "      <td>0.69</td>\n",
       "    </tr>\n",
       "  </tbody>\n",
       "</table>\n",
       "</div>"
      ],
      "text/plain": [
       "      customer_id  monetary  recency_days  qtde_invoices  qtde_items  qtde_products  avg_ticket  avg_recency_days  frequency  qtde_returns  avg_basket_size  avg_unique_basket_size\n",
       "47          12748  30956.41          0.00         202.00    20068.00        4222.00        7.33              3.39       0.54       1487.00            99.35                    8.20\n",
       "66          14911 136626.96          1.00         199.00    66368.00        5337.00       25.60              2.60       0.53       3217.00           333.51                    8.37\n",
       "68          17841  40276.21          1.00         123.00    19368.00        7599.00        5.30              3.32       0.33        189.00           157.46                   10.30\n",
       "278         13089  58638.99          2.00          97.00    30554.00        1806.00       32.47              4.48       0.26        283.00           314.99                    6.47\n",
       "8           15311  60402.22          0.00          91.00    36978.00        2326.00       25.97              4.14       0.24        474.00           406.35                    6.00\n",
       "96          14606  11894.68          1.00          91.00     5735.00        2630.00        4.52              4.28       0.24        242.00            63.02                    8.78\n",
       "183         12971  10178.67          3.00          85.00     5873.00         280.00       36.35              5.35       0.23         85.00            69.09                    1.08\n",
       "1015        14646 272345.66          1.00          72.00   177148.00        1905.00      142.96              7.84       0.20        288.00          2460.39                    8.99\n",
       "19          13408  27998.09          1.00          62.00    15847.00         469.00       59.70              7.29       0.17        104.00           255.60                    3.66\n",
       "12          16029  72882.09         38.00          62.00    40207.00         241.00      302.42              9.05       0.18       8004.00           648.50                    0.69"
      ]
     },
     "execution_count": 44,
     "metadata": {},
     "output_type": "execute_result"
    }
   ],
   "source": [
    "df4.sort_values('qtde_invoices', ascending=False).head(10)"
   ]
  },
  {
   "cell_type": "markdown",
   "id": "67e9df8f",
   "metadata": {
    "heading_collapsed": true,
    "hidden": true
   },
   "source": [
    "### 4.1.3. qtde_items"
   ]
  },
  {
   "cell_type": "code",
   "execution_count": 45,
   "id": "41038a94",
   "metadata": {
    "ExecuteTime": {
     "end_time": "2021-08-19T23:34:23.059437Z",
     "start_time": "2021-08-19T23:34:23.039090Z"
    },
    "hidden": true
   },
   "outputs": [
    {
     "data": {
      "text/html": [
       "<div>\n",
       "<style scoped>\n",
       "    .dataframe tbody tr th:only-of-type {\n",
       "        vertical-align: middle;\n",
       "    }\n",
       "\n",
       "    .dataframe tbody tr th {\n",
       "        vertical-align: top;\n",
       "    }\n",
       "\n",
       "    .dataframe thead th {\n",
       "        text-align: right;\n",
       "    }\n",
       "</style>\n",
       "<table border=\"1\" class=\"dataframe\">\n",
       "  <thead>\n",
       "    <tr style=\"text-align: right;\">\n",
       "      <th></th>\n",
       "      <th>customer_id</th>\n",
       "      <th>monetary</th>\n",
       "      <th>recency_days</th>\n",
       "      <th>qtde_invoices</th>\n",
       "      <th>qtde_items</th>\n",
       "      <th>qtde_products</th>\n",
       "      <th>avg_ticket</th>\n",
       "      <th>avg_recency_days</th>\n",
       "      <th>frequency</th>\n",
       "      <th>qtde_returns</th>\n",
       "      <th>avg_basket_size</th>\n",
       "      <th>avg_unique_basket_size</th>\n",
       "    </tr>\n",
       "  </thead>\n",
       "  <tbody>\n",
       "    <tr>\n",
       "      <th>1015</th>\n",
       "      <td>14646</td>\n",
       "      <td>272345.66</td>\n",
       "      <td>1.00</td>\n",
       "      <td>72.00</td>\n",
       "      <td>177148.00</td>\n",
       "      <td>1905.00</td>\n",
       "      <td>142.96</td>\n",
       "      <td>7.84</td>\n",
       "      <td>0.20</td>\n",
       "      <td>288.00</td>\n",
       "      <td>2460.39</td>\n",
       "      <td>8.99</td>\n",
       "    </tr>\n",
       "    <tr>\n",
       "      <th>433</th>\n",
       "      <td>17450</td>\n",
       "      <td>194550.79</td>\n",
       "      <td>8.00</td>\n",
       "      <td>46.00</td>\n",
       "      <td>69993.00</td>\n",
       "      <td>337.00</td>\n",
       "      <td>577.30</td>\n",
       "      <td>12.82</td>\n",
       "      <td>0.13</td>\n",
       "      <td>952.00</td>\n",
       "      <td>1521.59</td>\n",
       "      <td>2.70</td>\n",
       "    </tr>\n",
       "    <tr>\n",
       "      <th>66</th>\n",
       "      <td>14911</td>\n",
       "      <td>136626.96</td>\n",
       "      <td>1.00</td>\n",
       "      <td>199.00</td>\n",
       "      <td>66368.00</td>\n",
       "      <td>5337.00</td>\n",
       "      <td>25.60</td>\n",
       "      <td>2.60</td>\n",
       "      <td>0.53</td>\n",
       "      <td>3217.00</td>\n",
       "      <td>333.51</td>\n",
       "      <td>8.37</td>\n",
       "    </tr>\n",
       "    <tr>\n",
       "      <th>1147</th>\n",
       "      <td>12415</td>\n",
       "      <td>120193.93</td>\n",
       "      <td>24.00</td>\n",
       "      <td>20.00</td>\n",
       "      <td>64493.00</td>\n",
       "      <td>644.00</td>\n",
       "      <td>186.64</td>\n",
       "      <td>20.87</td>\n",
       "      <td>0.06</td>\n",
       "      <td>427.00</td>\n",
       "      <td>3224.65</td>\n",
       "      <td>19.65</td>\n",
       "    </tr>\n",
       "    <tr>\n",
       "      <th>492</th>\n",
       "      <td>18102</td>\n",
       "      <td>259657.30</td>\n",
       "      <td>0.00</td>\n",
       "      <td>60.00</td>\n",
       "      <td>64124.00</td>\n",
       "      <td>431.00</td>\n",
       "      <td>602.45</td>\n",
       "      <td>14.68</td>\n",
       "      <td>0.16</td>\n",
       "      <td>0.00</td>\n",
       "      <td>1068.73</td>\n",
       "      <td>2.50</td>\n",
       "    </tr>\n",
       "    <tr>\n",
       "      <th>15</th>\n",
       "      <td>17511</td>\n",
       "      <td>87716.48</td>\n",
       "      <td>2.00</td>\n",
       "      <td>31.00</td>\n",
       "      <td>52259.00</td>\n",
       "      <td>856.00</td>\n",
       "      <td>102.47</td>\n",
       "      <td>11.59</td>\n",
       "      <td>0.08</td>\n",
       "      <td>1534.00</td>\n",
       "      <td>1685.77</td>\n",
       "      <td>12.26</td>\n",
       "    </tr>\n",
       "    <tr>\n",
       "      <th>190</th>\n",
       "      <td>14156</td>\n",
       "      <td>115727.35</td>\n",
       "      <td>9.00</td>\n",
       "      <td>55.00</td>\n",
       "      <td>52013.00</td>\n",
       "      <td>1353.00</td>\n",
       "      <td>85.53</td>\n",
       "      <td>7.26</td>\n",
       "      <td>0.15</td>\n",
       "      <td>859.00</td>\n",
       "      <td>945.69</td>\n",
       "      <td>12.49</td>\n",
       "    </tr>\n",
       "    <tr>\n",
       "      <th>12</th>\n",
       "      <td>16029</td>\n",
       "      <td>72882.09</td>\n",
       "      <td>38.00</td>\n",
       "      <td>62.00</td>\n",
       "      <td>40207.00</td>\n",
       "      <td>241.00</td>\n",
       "      <td>302.42</td>\n",
       "      <td>9.05</td>\n",
       "      <td>0.18</td>\n",
       "      <td>8004.00</td>\n",
       "      <td>648.50</td>\n",
       "      <td>0.69</td>\n",
       "    </tr>\n",
       "    <tr>\n",
       "      <th>36</th>\n",
       "      <td>13694</td>\n",
       "      <td>58817.24</td>\n",
       "      <td>3.00</td>\n",
       "      <td>49.00</td>\n",
       "      <td>39984.00</td>\n",
       "      <td>461.00</td>\n",
       "      <td>127.59</td>\n",
       "      <td>10.57</td>\n",
       "      <td>0.13</td>\n",
       "      <td>1264.00</td>\n",
       "      <td>816.00</td>\n",
       "      <td>5.69</td>\n",
       "    </tr>\n",
       "    <tr>\n",
       "      <th>8</th>\n",
       "      <td>15311</td>\n",
       "      <td>60402.22</td>\n",
       "      <td>0.00</td>\n",
       "      <td>91.00</td>\n",
       "      <td>36978.00</td>\n",
       "      <td>2326.00</td>\n",
       "      <td>25.97</td>\n",
       "      <td>4.14</td>\n",
       "      <td>0.24</td>\n",
       "      <td>474.00</td>\n",
       "      <td>406.35</td>\n",
       "      <td>6.00</td>\n",
       "    </tr>\n",
       "  </tbody>\n",
       "</table>\n",
       "</div>"
      ],
      "text/plain": [
       "      customer_id  monetary  recency_days  qtde_invoices  qtde_items  qtde_products  avg_ticket  avg_recency_days  frequency  qtde_returns  avg_basket_size  avg_unique_basket_size\n",
       "1015        14646 272345.66          1.00          72.00   177148.00        1905.00      142.96              7.84       0.20        288.00          2460.39                    8.99\n",
       "433         17450 194550.79          8.00          46.00    69993.00         337.00      577.30             12.82       0.13        952.00          1521.59                    2.70\n",
       "66          14911 136626.96          1.00         199.00    66368.00        5337.00       25.60              2.60       0.53       3217.00           333.51                    8.37\n",
       "1147        12415 120193.93         24.00          20.00    64493.00         644.00      186.64             20.87       0.06        427.00          3224.65                   19.65\n",
       "492         18102 259657.30          0.00          60.00    64124.00         431.00      602.45             14.68       0.16          0.00          1068.73                    2.50\n",
       "15          17511  87716.48          2.00          31.00    52259.00         856.00      102.47             11.59       0.08       1534.00          1685.77                   12.26\n",
       "190         14156 115727.35          9.00          55.00    52013.00        1353.00       85.53              7.26       0.15        859.00           945.69                   12.49\n",
       "12          16029  72882.09         38.00          62.00    40207.00         241.00      302.42              9.05       0.18       8004.00           648.50                    0.69\n",
       "36          13694  58817.24          3.00          49.00    39984.00         461.00      127.59             10.57       0.13       1264.00           816.00                    5.69\n",
       "8           15311  60402.22          0.00          91.00    36978.00        2326.00       25.97              4.14       0.24        474.00           406.35                    6.00"
      ]
     },
     "execution_count": 45,
     "metadata": {},
     "output_type": "execute_result"
    }
   ],
   "source": [
    "df4.sort_values('qtde_items', ascending=False).head(10)"
   ]
  },
  {
   "cell_type": "code",
   "execution_count": 46,
   "id": "6933def1",
   "metadata": {
    "ExecuteTime": {
     "end_time": "2021-08-19T23:34:23.067354Z",
     "start_time": "2021-08-19T23:34:23.062600Z"
    },
    "hidden": true
   },
   "outputs": [
    {
     "name": "stdout",
     "output_type": "stream",
     "text": [
      "NOTE: variation rate from 2 to 1 placed in relation to the quantity of items is: 153.0%\n"
     ]
    }
   ],
   "source": [
    "# variation rate from 2 to 1 placed in relation to the quantity of items\n",
    "\n",
    "# (( vf - vi ) / vi) * 100\n",
    "vr = ((177148 - 69993) / 69993) * 100\n",
    "print('NOTE: variation rate from 2 to 1 placed in relation to the quantity of items is: {}%'.format(round(vr, 0)))"
   ]
  },
  {
   "cell_type": "markdown",
   "id": "85dec64a",
   "metadata": {
    "heading_collapsed": true,
    "hidden": true
   },
   "source": [
    "### 4.1.4. qtde_products"
   ]
  },
  {
   "cell_type": "code",
   "execution_count": 47,
   "id": "7fc47d76",
   "metadata": {
    "ExecuteTime": {
     "end_time": "2021-08-19T23:34:23.249445Z",
     "start_time": "2021-08-19T23:34:23.069969Z"
    },
    "hidden": true
   },
   "outputs": [
    {
     "data": {
      "text/html": [
       "<div>\n",
       "<style scoped>\n",
       "    .dataframe tbody tr th:only-of-type {\n",
       "        vertical-align: middle;\n",
       "    }\n",
       "\n",
       "    .dataframe tbody tr th {\n",
       "        vertical-align: top;\n",
       "    }\n",
       "\n",
       "    .dataframe thead th {\n",
       "        text-align: right;\n",
       "    }\n",
       "</style>\n",
       "<table border=\"1\" class=\"dataframe\">\n",
       "  <thead>\n",
       "    <tr style=\"text-align: right;\">\n",
       "      <th></th>\n",
       "      <th>customer_id</th>\n",
       "      <th>monetary</th>\n",
       "      <th>recency_days</th>\n",
       "      <th>qtde_invoices</th>\n",
       "      <th>qtde_items</th>\n",
       "      <th>qtde_products</th>\n",
       "      <th>avg_ticket</th>\n",
       "      <th>avg_recency_days</th>\n",
       "      <th>frequency</th>\n",
       "      <th>qtde_returns</th>\n",
       "      <th>avg_basket_size</th>\n",
       "      <th>avg_unique_basket_size</th>\n",
       "    </tr>\n",
       "  </thead>\n",
       "  <tbody>\n",
       "    <tr>\n",
       "      <th>68</th>\n",
       "      <td>17841</td>\n",
       "      <td>40276.21</td>\n",
       "      <td>1.00</td>\n",
       "      <td>123.00</td>\n",
       "      <td>19368.00</td>\n",
       "      <td>7599.00</td>\n",
       "      <td>5.30</td>\n",
       "      <td>3.32</td>\n",
       "      <td>0.33</td>\n",
       "      <td>189.00</td>\n",
       "      <td>157.46</td>\n",
       "      <td>10.30</td>\n",
       "    </tr>\n",
       "    <tr>\n",
       "      <th>66</th>\n",
       "      <td>14911</td>\n",
       "      <td>136626.96</td>\n",
       "      <td>1.00</td>\n",
       "      <td>199.00</td>\n",
       "      <td>66368.00</td>\n",
       "      <td>5337.00</td>\n",
       "      <td>25.60</td>\n",
       "      <td>2.60</td>\n",
       "      <td>0.53</td>\n",
       "      <td>3217.00</td>\n",
       "      <td>333.51</td>\n",
       "      <td>8.37</td>\n",
       "    </tr>\n",
       "    <tr>\n",
       "      <th>4394</th>\n",
       "      <td>14096</td>\n",
       "      <td>53258.43</td>\n",
       "      <td>4.00</td>\n",
       "      <td>17.00</td>\n",
       "      <td>16336.00</td>\n",
       "      <td>5095.00</td>\n",
       "      <td>10.45</td>\n",
       "      <td>6.06</td>\n",
       "      <td>0.17</td>\n",
       "      <td>0.00</td>\n",
       "      <td>960.94</td>\n",
       "      <td>65.76</td>\n",
       "    </tr>\n",
       "    <tr>\n",
       "      <th>47</th>\n",
       "      <td>12748</td>\n",
       "      <td>30956.41</td>\n",
       "      <td>0.00</td>\n",
       "      <td>202.00</td>\n",
       "      <td>20068.00</td>\n",
       "      <td>4222.00</td>\n",
       "      <td>7.33</td>\n",
       "      <td>3.39</td>\n",
       "      <td>0.54</td>\n",
       "      <td>1487.00</td>\n",
       "      <td>99.35</td>\n",
       "      <td>8.20</td>\n",
       "    </tr>\n",
       "    <tr>\n",
       "      <th>96</th>\n",
       "      <td>14606</td>\n",
       "      <td>11894.68</td>\n",
       "      <td>1.00</td>\n",
       "      <td>91.00</td>\n",
       "      <td>5735.00</td>\n",
       "      <td>2630.00</td>\n",
       "      <td>4.52</td>\n",
       "      <td>4.28</td>\n",
       "      <td>0.24</td>\n",
       "      <td>242.00</td>\n",
       "      <td>63.02</td>\n",
       "      <td>8.78</td>\n",
       "    </tr>\n",
       "    <tr>\n",
       "      <th>8</th>\n",
       "      <td>15311</td>\n",
       "      <td>60402.22</td>\n",
       "      <td>0.00</td>\n",
       "      <td>91.00</td>\n",
       "      <td>36978.00</td>\n",
       "      <td>2326.00</td>\n",
       "      <td>25.97</td>\n",
       "      <td>4.14</td>\n",
       "      <td>0.24</td>\n",
       "      <td>474.00</td>\n",
       "      <td>406.35</td>\n",
       "      <td>6.00</td>\n",
       "    </tr>\n",
       "    <tr>\n",
       "      <th>1015</th>\n",
       "      <td>14646</td>\n",
       "      <td>272345.66</td>\n",
       "      <td>1.00</td>\n",
       "      <td>72.00</td>\n",
       "      <td>177148.00</td>\n",
       "      <td>1905.00</td>\n",
       "      <td>142.96</td>\n",
       "      <td>7.84</td>\n",
       "      <td>0.20</td>\n",
       "      <td>288.00</td>\n",
       "      <td>2460.39</td>\n",
       "      <td>8.99</td>\n",
       "    </tr>\n",
       "    <tr>\n",
       "      <th>278</th>\n",
       "      <td>13089</td>\n",
       "      <td>58638.99</td>\n",
       "      <td>2.00</td>\n",
       "      <td>97.00</td>\n",
       "      <td>30554.00</td>\n",
       "      <td>1806.00</td>\n",
       "      <td>32.47</td>\n",
       "      <td>4.48</td>\n",
       "      <td>0.26</td>\n",
       "      <td>283.00</td>\n",
       "      <td>314.99</td>\n",
       "      <td>6.47</td>\n",
       "    </tr>\n",
       "    <tr>\n",
       "      <th>1395</th>\n",
       "      <td>13263</td>\n",
       "      <td>7096.77</td>\n",
       "      <td>1.00</td>\n",
       "      <td>34.00</td>\n",
       "      <td>3644.00</td>\n",
       "      <td>1577.00</td>\n",
       "      <td>4.50</td>\n",
       "      <td>10.12</td>\n",
       "      <td>0.10</td>\n",
       "      <td>0.00</td>\n",
       "      <td>107.18</td>\n",
       "      <td>11.85</td>\n",
       "    </tr>\n",
       "    <tr>\n",
       "      <th>370</th>\n",
       "      <td>15039</td>\n",
       "      <td>19836.20</td>\n",
       "      <td>9.00</td>\n",
       "      <td>47.00</td>\n",
       "      <td>8969.00</td>\n",
       "      <td>1487.00</td>\n",
       "      <td>13.34</td>\n",
       "      <td>8.76</td>\n",
       "      <td>0.13</td>\n",
       "      <td>18.00</td>\n",
       "      <td>190.83</td>\n",
       "      <td>8.43</td>\n",
       "    </tr>\n",
       "    <tr>\n",
       "      <th>190</th>\n",
       "      <td>14156</td>\n",
       "      <td>115727.35</td>\n",
       "      <td>9.00</td>\n",
       "      <td>55.00</td>\n",
       "      <td>52013.00</td>\n",
       "      <td>1353.00</td>\n",
       "      <td>85.53</td>\n",
       "      <td>7.26</td>\n",
       "      <td>0.15</td>\n",
       "      <td>859.00</td>\n",
       "      <td>945.69</td>\n",
       "      <td>12.49</td>\n",
       "    </tr>\n",
       "    <tr>\n",
       "      <th>824</th>\n",
       "      <td>14298</td>\n",
       "      <td>45756.42</td>\n",
       "      <td>8.00</td>\n",
       "      <td>43.00</td>\n",
       "      <td>36318.00</td>\n",
       "      <td>1321.00</td>\n",
       "      <td>34.64</td>\n",
       "      <td>14.28</td>\n",
       "      <td>0.12</td>\n",
       "      <td>250.00</td>\n",
       "      <td>844.60</td>\n",
       "      <td>16.56</td>\n",
       "    </tr>\n",
       "    <tr>\n",
       "      <th>299</th>\n",
       "      <td>18118</td>\n",
       "      <td>5614.54</td>\n",
       "      <td>10.00</td>\n",
       "      <td>26.00</td>\n",
       "      <td>2734.00</td>\n",
       "      <td>1253.00</td>\n",
       "      <td>4.48</td>\n",
       "      <td>13.81</td>\n",
       "      <td>0.07</td>\n",
       "      <td>5.00</td>\n",
       "      <td>105.15</td>\n",
       "      <td>15.85</td>\n",
       "    </tr>\n",
       "    <tr>\n",
       "      <th>279</th>\n",
       "      <td>16033</td>\n",
       "      <td>8752.77</td>\n",
       "      <td>5.00</td>\n",
       "      <td>20.00</td>\n",
       "      <td>3362.00</td>\n",
       "      <td>1109.00</td>\n",
       "      <td>7.89</td>\n",
       "      <td>21.41</td>\n",
       "      <td>0.05</td>\n",
       "      <td>23.00</td>\n",
       "      <td>168.10</td>\n",
       "      <td>26.15</td>\n",
       "    </tr>\n",
       "    <tr>\n",
       "      <th>560</th>\n",
       "      <td>15005</td>\n",
       "      <td>6176.59</td>\n",
       "      <td>15.00</td>\n",
       "      <td>28.00</td>\n",
       "      <td>3847.00</td>\n",
       "      <td>1073.00</td>\n",
       "      <td>5.76</td>\n",
       "      <td>13.00</td>\n",
       "      <td>0.08</td>\n",
       "      <td>42.00</td>\n",
       "      <td>137.39</td>\n",
       "      <td>11.82</td>\n",
       "    </tr>\n",
       "  </tbody>\n",
       "</table>\n",
       "</div>"
      ],
      "text/plain": [
       "      customer_id  monetary  recency_days  qtde_invoices  qtde_items  qtde_products  avg_ticket  avg_recency_days  frequency  qtde_returns  avg_basket_size  avg_unique_basket_size\n",
       "68          17841  40276.21          1.00         123.00    19368.00        7599.00        5.30              3.32       0.33        189.00           157.46                   10.30\n",
       "66          14911 136626.96          1.00         199.00    66368.00        5337.00       25.60              2.60       0.53       3217.00           333.51                    8.37\n",
       "4394        14096  53258.43          4.00          17.00    16336.00        5095.00       10.45              6.06       0.17          0.00           960.94                   65.76\n",
       "47          12748  30956.41          0.00         202.00    20068.00        4222.00        7.33              3.39       0.54       1487.00            99.35                    8.20\n",
       "96          14606  11894.68          1.00          91.00     5735.00        2630.00        4.52              4.28       0.24        242.00            63.02                    8.78\n",
       "8           15311  60402.22          0.00          91.00    36978.00        2326.00       25.97              4.14       0.24        474.00           406.35                    6.00\n",
       "1015        14646 272345.66          1.00          72.00   177148.00        1905.00      142.96              7.84       0.20        288.00          2460.39                    8.99\n",
       "278         13089  58638.99          2.00          97.00    30554.00        1806.00       32.47              4.48       0.26        283.00           314.99                    6.47\n",
       "1395        13263   7096.77          1.00          34.00     3644.00        1577.00        4.50             10.12       0.10          0.00           107.18                   11.85\n",
       "370         15039  19836.20          9.00          47.00     8969.00        1487.00       13.34              8.76       0.13         18.00           190.83                    8.43\n",
       "190         14156 115727.35          9.00          55.00    52013.00        1353.00       85.53              7.26       0.15        859.00           945.69                   12.49\n",
       "824         14298  45756.42          8.00          43.00    36318.00        1321.00       34.64             14.28       0.12        250.00           844.60                   16.56\n",
       "299         18118   5614.54         10.00          26.00     2734.00        1253.00        4.48             13.81       0.07          5.00           105.15                   15.85\n",
       "279         16033   8752.77          5.00          20.00     3362.00        1109.00        7.89             21.41       0.05         23.00           168.10                   26.15\n",
       "560         15005   6176.59         15.00          28.00     3847.00        1073.00        5.76             13.00       0.08         42.00           137.39                   11.82"
      ]
     },
     "execution_count": 47,
     "metadata": {},
     "output_type": "execute_result"
    }
   ],
   "source": [
    "df4.sort_values('qtde_products', ascending=False).head(15)"
   ]
  },
  {
   "cell_type": "markdown",
   "id": "fcb7c1e1",
   "metadata": {
    "heading_collapsed": true,
    "hidden": true
   },
   "source": [
    "### 4.1.5. frequency"
   ]
  },
  {
   "cell_type": "code",
   "execution_count": 48,
   "id": "84afface",
   "metadata": {
    "ExecuteTime": {
     "end_time": "2021-08-19T23:34:23.271887Z",
     "start_time": "2021-08-19T23:34:23.251642Z"
    },
    "hidden": true
   },
   "outputs": [
    {
     "data": {
      "text/html": [
       "<div>\n",
       "<style scoped>\n",
       "    .dataframe tbody tr th:only-of-type {\n",
       "        vertical-align: middle;\n",
       "    }\n",
       "\n",
       "    .dataframe tbody tr th {\n",
       "        vertical-align: top;\n",
       "    }\n",
       "\n",
       "    .dataframe thead th {\n",
       "        text-align: right;\n",
       "    }\n",
       "</style>\n",
       "<table border=\"1\" class=\"dataframe\">\n",
       "  <thead>\n",
       "    <tr style=\"text-align: right;\">\n",
       "      <th></th>\n",
       "      <th>customer_id</th>\n",
       "      <th>monetary</th>\n",
       "      <th>recency_days</th>\n",
       "      <th>qtde_invoices</th>\n",
       "      <th>qtde_items</th>\n",
       "      <th>qtde_products</th>\n",
       "      <th>avg_ticket</th>\n",
       "      <th>avg_recency_days</th>\n",
       "      <th>frequency</th>\n",
       "      <th>qtde_returns</th>\n",
       "      <th>avg_basket_size</th>\n",
       "      <th>avg_unique_basket_size</th>\n",
       "    </tr>\n",
       "  </thead>\n",
       "  <tbody>\n",
       "    <tr>\n",
       "      <th>0</th>\n",
       "      <td>17850</td>\n",
       "      <td>5391.21</td>\n",
       "      <td>372.00</td>\n",
       "      <td>34.00</td>\n",
       "      <td>1733.00</td>\n",
       "      <td>297.00</td>\n",
       "      <td>18.15</td>\n",
       "      <td>35.50</td>\n",
       "      <td>17.00</td>\n",
       "      <td>40.00</td>\n",
       "      <td>50.97</td>\n",
       "      <td>0.62</td>\n",
       "    </tr>\n",
       "    <tr>\n",
       "      <th>5563</th>\n",
       "      <td>18139</td>\n",
       "      <td>8438.34</td>\n",
       "      <td>17.00</td>\n",
       "      <td>6.00</td>\n",
       "      <td>5557.00</td>\n",
       "      <td>159.00</td>\n",
       "      <td>53.07</td>\n",
       "      <td>1.00</td>\n",
       "      <td>3.00</td>\n",
       "      <td>0.00</td>\n",
       "      <td>926.17</td>\n",
       "      <td>5.83</td>\n",
       "    </tr>\n",
       "    <tr>\n",
       "      <th>803</th>\n",
       "      <td>15468</td>\n",
       "      <td>467.51</td>\n",
       "      <td>51.00</td>\n",
       "      <td>2.00</td>\n",
       "      <td>155.00</td>\n",
       "      <td>24.00</td>\n",
       "      <td>19.48</td>\n",
       "      <td>108.33</td>\n",
       "      <td>2.00</td>\n",
       "      <td>5.00</td>\n",
       "      <td>77.50</td>\n",
       "      <td>12.00</td>\n",
       "    </tr>\n",
       "    <tr>\n",
       "      <th>3510</th>\n",
       "      <td>17900</td>\n",
       "      <td>112.20</td>\n",
       "      <td>190.00</td>\n",
       "      <td>2.00</td>\n",
       "      <td>73.00</td>\n",
       "      <td>6.00</td>\n",
       "      <td>18.70</td>\n",
       "      <td>26.00</td>\n",
       "      <td>2.00</td>\n",
       "      <td>72.00</td>\n",
       "      <td>36.50</td>\n",
       "      <td>2.00</td>\n",
       "    </tr>\n",
       "    <tr>\n",
       "      <th>4171</th>\n",
       "      <td>13388</td>\n",
       "      <td>677.10</td>\n",
       "      <td>131.00</td>\n",
       "      <td>2.00</td>\n",
       "      <td>282.00</td>\n",
       "      <td>35.00</td>\n",
       "      <td>19.35</td>\n",
       "      <td>10.00</td>\n",
       "      <td>2.00</td>\n",
       "      <td>1.00</td>\n",
       "      <td>141.00</td>\n",
       "      <td>17.50</td>\n",
       "    </tr>\n",
       "    <tr>\n",
       "      <th>1722</th>\n",
       "      <td>12410</td>\n",
       "      <td>533.33</td>\n",
       "      <td>308.00</td>\n",
       "      <td>2.00</td>\n",
       "      <td>207.00</td>\n",
       "      <td>25.00</td>\n",
       "      <td>21.33</td>\n",
       "      <td>7.00</td>\n",
       "      <td>2.00</td>\n",
       "      <td>2.00</td>\n",
       "      <td>103.50</td>\n",
       "      <td>12.50</td>\n",
       "    </tr>\n",
       "    <tr>\n",
       "      <th>82</th>\n",
       "      <td>16048</td>\n",
       "      <td>256.44</td>\n",
       "      <td>373.00</td>\n",
       "      <td>2.00</td>\n",
       "      <td>144.00</td>\n",
       "      <td>8.00</td>\n",
       "      <td>32.05</td>\n",
       "      <td>288.00</td>\n",
       "      <td>2.00</td>\n",
       "      <td>1.00</td>\n",
       "      <td>72.00</td>\n",
       "      <td>4.00</td>\n",
       "    </tr>\n",
       "    <tr>\n",
       "      <th>5682</th>\n",
       "      <td>15060</td>\n",
       "      <td>281.67</td>\n",
       "      <td>8.00</td>\n",
       "      <td>3.00</td>\n",
       "      <td>187.00</td>\n",
       "      <td>100.00</td>\n",
       "      <td>2.82</td>\n",
       "      <td>1.00</td>\n",
       "      <td>1.50</td>\n",
       "      <td>0.00</td>\n",
       "      <td>62.33</td>\n",
       "      <td>22.67</td>\n",
       "    </tr>\n",
       "    <tr>\n",
       "      <th>4901</th>\n",
       "      <td>17509</td>\n",
       "      <td>6115.14</td>\n",
       "      <td>57.00</td>\n",
       "      <td>8.00</td>\n",
       "      <td>3534.00</td>\n",
       "      <td>366.00</td>\n",
       "      <td>16.71</td>\n",
       "      <td>3.00</td>\n",
       "      <td>1.14</td>\n",
       "      <td>4.00</td>\n",
       "      <td>441.75</td>\n",
       "      <td>9.38</td>\n",
       "    </tr>\n",
       "    <tr>\n",
       "      <th>2840</th>\n",
       "      <td>12982</td>\n",
       "      <td>374.18</td>\n",
       "      <td>242.00</td>\n",
       "      <td>1.00</td>\n",
       "      <td>244.00</td>\n",
       "      <td>26.00</td>\n",
       "      <td>14.39</td>\n",
       "      <td>3.00</td>\n",
       "      <td>1.00</td>\n",
       "      <td>9.00</td>\n",
       "      <td>244.00</td>\n",
       "      <td>26.00</td>\n",
       "    </tr>\n",
       "    <tr>\n",
       "      <th>2839</th>\n",
       "      <td>14339</td>\n",
       "      <td>309.52</td>\n",
       "      <td>242.00</td>\n",
       "      <td>1.00</td>\n",
       "      <td>168.00</td>\n",
       "      <td>14.00</td>\n",
       "      <td>22.11</td>\n",
       "      <td>4.00</td>\n",
       "      <td>1.00</td>\n",
       "      <td>17.00</td>\n",
       "      <td>168.00</td>\n",
       "      <td>14.00</td>\n",
       "    </tr>\n",
       "    <tr>\n",
       "      <th>2838</th>\n",
       "      <td>14311</td>\n",
       "      <td>296.22</td>\n",
       "      <td>242.00</td>\n",
       "      <td>1.00</td>\n",
       "      <td>110.00</td>\n",
       "      <td>19.00</td>\n",
       "      <td>15.59</td>\n",
       "      <td>17.00</td>\n",
       "      <td>1.00</td>\n",
       "      <td>16.00</td>\n",
       "      <td>110.00</td>\n",
       "      <td>19.00</td>\n",
       "    </tr>\n",
       "    <tr>\n",
       "      <th>2829</th>\n",
       "      <td>15655</td>\n",
       "      <td>560.67</td>\n",
       "      <td>243.00</td>\n",
       "      <td>1.00</td>\n",
       "      <td>324.00</td>\n",
       "      <td>34.00</td>\n",
       "      <td>16.49</td>\n",
       "      <td>10.00</td>\n",
       "      <td>1.00</td>\n",
       "      <td>5.00</td>\n",
       "      <td>324.00</td>\n",
       "      <td>34.00</td>\n",
       "    </tr>\n",
       "    <tr>\n",
       "      <th>2804</th>\n",
       "      <td>15109</td>\n",
       "      <td>484.95</td>\n",
       "      <td>245.00</td>\n",
       "      <td>1.00</td>\n",
       "      <td>131.00</td>\n",
       "      <td>28.00</td>\n",
       "      <td>17.32</td>\n",
       "      <td>5.00</td>\n",
       "      <td>1.00</td>\n",
       "      <td>4.00</td>\n",
       "      <td>131.00</td>\n",
       "      <td>28.00</td>\n",
       "    </tr>\n",
       "    <tr>\n",
       "      <th>2794</th>\n",
       "      <td>14619</td>\n",
       "      <td>394.44</td>\n",
       "      <td>245.00</td>\n",
       "      <td>1.00</td>\n",
       "      <td>152.00</td>\n",
       "      <td>20.00</td>\n",
       "      <td>19.72</td>\n",
       "      <td>6.00</td>\n",
       "      <td>1.00</td>\n",
       "      <td>7.00</td>\n",
       "      <td>152.00</td>\n",
       "      <td>20.00</td>\n",
       "    </tr>\n",
       "  </tbody>\n",
       "</table>\n",
       "</div>"
      ],
      "text/plain": [
       "      customer_id  monetary  recency_days  qtde_invoices  qtde_items  qtde_products  avg_ticket  avg_recency_days  frequency  qtde_returns  avg_basket_size  avg_unique_basket_size\n",
       "0           17850   5391.21        372.00          34.00     1733.00         297.00       18.15             35.50      17.00         40.00            50.97                    0.62\n",
       "5563        18139   8438.34         17.00           6.00     5557.00         159.00       53.07              1.00       3.00          0.00           926.17                    5.83\n",
       "803         15468    467.51         51.00           2.00      155.00          24.00       19.48            108.33       2.00          5.00            77.50                   12.00\n",
       "3510        17900    112.20        190.00           2.00       73.00           6.00       18.70             26.00       2.00         72.00            36.50                    2.00\n",
       "4171        13388    677.10        131.00           2.00      282.00          35.00       19.35             10.00       2.00          1.00           141.00                   17.50\n",
       "1722        12410    533.33        308.00           2.00      207.00          25.00       21.33              7.00       2.00          2.00           103.50                   12.50\n",
       "82          16048    256.44        373.00           2.00      144.00           8.00       32.05            288.00       2.00          1.00            72.00                    4.00\n",
       "5682        15060    281.67          8.00           3.00      187.00         100.00        2.82              1.00       1.50          0.00            62.33                   22.67\n",
       "4901        17509   6115.14         57.00           8.00     3534.00         366.00       16.71              3.00       1.14          4.00           441.75                    9.38\n",
       "2840        12982    374.18        242.00           1.00      244.00          26.00       14.39              3.00       1.00          9.00           244.00                   26.00\n",
       "2839        14339    309.52        242.00           1.00      168.00          14.00       22.11              4.00       1.00         17.00           168.00                   14.00\n",
       "2838        14311    296.22        242.00           1.00      110.00          19.00       15.59             17.00       1.00         16.00           110.00                   19.00\n",
       "2829        15655    560.67        243.00           1.00      324.00          34.00       16.49             10.00       1.00          5.00           324.00                   34.00\n",
       "2804        15109    484.95        245.00           1.00      131.00          28.00       17.32              5.00       1.00          4.00           131.00                   28.00\n",
       "2794        14619    394.44        245.00           1.00      152.00          20.00       19.72              6.00       1.00          7.00           152.00                   20.00"
      ]
     },
     "execution_count": 48,
     "metadata": {},
     "output_type": "execute_result"
    }
   ],
   "source": [
    "df4.sort_values('frequency', ascending=False).head(15)"
   ]
  },
  {
   "cell_type": "markdown",
   "id": "29e65d0e",
   "metadata": {
    "heading_collapsed": true
   },
   "source": [
    "## 4.2. Bivariate Analysis"
   ]
  },
  {
   "cell_type": "code",
   "execution_count": 49,
   "id": "cfc93b87",
   "metadata": {
    "ExecuteTime": {
     "end_time": "2021-08-19T23:34:23.281514Z",
     "start_time": "2021-08-19T23:34:23.274640Z"
    },
    "hidden": true,
    "scrolled": true
   },
   "outputs": [],
   "source": [
    "# sns.pairplot(df5);"
   ]
  },
  {
   "cell_type": "markdown",
   "id": "750cdf49",
   "metadata": {},
   "source": [
    "## 4.3. Space Study"
   ]
  },
  {
   "cell_type": "code",
   "execution_count": 50,
   "id": "8bdf11fc",
   "metadata": {
    "ExecuteTime": {
     "end_time": "2021-08-19T23:34:23.292122Z",
     "start_time": "2021-08-19T23:34:23.284919Z"
    }
   },
   "outputs": [],
   "source": [
    "df43 = df4.drop(columns=['customer_id']).copy()"
   ]
  },
  {
   "cell_type": "code",
   "execution_count": 51,
   "id": "98135fd4",
   "metadata": {
    "ExecuteTime": {
     "end_time": "2021-08-19T23:34:23.331646Z",
     "start_time": "2021-08-19T23:34:23.294994Z"
    }
   },
   "outputs": [],
   "source": [
    "mms = pp.MinMaxScaler()\n",
    "\n",
    "df43['monetary'] = mms.fit_transform( df43[['monetary']].values )\n",
    "df43['recency_days'] = mms.fit_transform( df43[['recency_days']].values )\n",
    "df43['qtde_invoices'] = mms.fit_transform( df43[['qtde_invoices']].values )\n",
    "df43['qtde_items'] = mms.fit_transform( df43[['qtde_items']].values )\n",
    "df43['qtde_products'] = mms.fit_transform( df43[['qtde_products']].values )\n",
    "df43['avg_ticket'] = mms.fit_transform( df43[['avg_ticket']].values )\n",
    "df43['avg_recency_days'] = mms.fit_transform( df43[['avg_recency_days']].values )\n",
    "df43['frequency'] = mms.fit_transform( df43[['frequency']].values )\n",
    "df43['qtde_returns'] = mms.fit_transform( df43[['qtde_returns']].values )\n",
    "df43['avg_basket_size'] = mms.fit_transform( df43[['avg_basket_size']].values )\n",
    "df43['avg_unique_basket_size'] = mms.fit_transform( df43[['avg_unique_basket_size']].values )\n",
    "\n",
    "X = df43.copy()"
   ]
  },
  {
   "cell_type": "markdown",
   "id": "1893b119",
   "metadata": {},
   "source": [
    "### 4.3.1. PCA"
   ]
  },
  {
   "cell_type": "code",
   "execution_count": 52,
   "id": "5ee7c65a",
   "metadata": {
    "ExecuteTime": {
     "end_time": "2021-08-19T23:34:23.704217Z",
     "start_time": "2021-08-19T23:34:23.334113Z"
    }
   },
   "outputs": [
    {
     "data": {
      "image/png": "[encoded data removed]",
      "text/plain": [
       "<Figure size 1728x648 with 1 Axes>"
      ]
     },
     "metadata": {},
     "output_type": "display_data"
    }
   ],
   "source": [
    "pca = PCA(n_components=X.shape[1])\n",
    "\n",
    "principal_components = pca.fit_transform( X )\n",
    "\n",
    "features = range(pca.n_components_)\n",
    "\n",
    "# plot PCA \n",
    "plt.bar( features, pca.explained_variance_ratio_, color='black' );"
   ]
  },
  {
   "cell_type": "code",
   "execution_count": 53,
   "id": "c12d46ee",
   "metadata": {
    "ExecuteTime": {
     "end_time": "2021-08-19T23:34:23.712962Z",
     "start_time": "2021-08-19T23:34:23.706891Z"
    }
   },
   "outputs": [],
   "source": [
    "df_pca = pd.DataFrame(principal_components)"
   ]
  },
  {
   "cell_type": "code",
   "execution_count": 54,
   "id": "2af9f97a",
   "metadata": {
    "ExecuteTime": {
     "end_time": "2021-08-19T23:34:24.122214Z",
     "start_time": "2021-08-19T23:34:23.714876Z"
    }
   },
   "outputs": [
    {
     "data": {
      "image/png": "[encoded data removed]",
      "text/plain": [
       "<Figure size 1728x648 with 1 Axes>"
      ]
     },
     "metadata": {},
     "output_type": "display_data"
    }
   ],
   "source": [
    "sns.scatterplot( x=0, y=1, data=df_pca );"
   ]
  },
  {
   "cell_type": "markdown",
   "id": "3b668999",
   "metadata": {},
   "source": [
    "### 4.3.2. UMAP"
   ]
  },
  {
   "cell_type": "code",
   "execution_count": 55,
   "id": "892829d9",
   "metadata": {
    "ExecuteTime": {
     "end_time": "2021-08-19T23:34:24.132177Z",
     "start_time": "2021-08-19T23:34:24.125821Z"
    }
   },
   "outputs": [],
   "source": [
    "df_umap = pd.DataFrame()"
   ]
  },
  {
   "cell_type": "code",
   "execution_count": 56,
   "id": "f141f415",
   "metadata": {
    "ExecuteTime": {
     "end_time": "2021-08-19T23:34:45.900891Z",
     "start_time": "2021-08-19T23:34:24.134117Z"
    }
   },
   "outputs": [
    {
     "data": {
      "image/png": "[encoded data removed]",
      "text/plain": [
       "<Figure size 1728x648 with 1 Axes>"
      ]
     },
     "metadata": {},
     "output_type": "display_data"
    }
   ],
   "source": [
    "reducer = UMAP( random_state=42 )\n",
    "embedding = reducer.fit_transform( X )\n",
    "\n",
    "# embedding\n",
    "df_umap['x'] = embedding[:, 0]\n",
    "df_umap['y'] = embedding[:, 1]\n",
    "\n",
    "# plot UMAP\n",
    "sns.scatterplot( x='x', y='y', data=df_umap);"
   ]
  },
  {
   "cell_type": "markdown",
   "id": "13c786ad",
   "metadata": {},
   "source": [
    "### 4.3.3. t-SNE"
   ]
  },
  {
   "cell_type": "code",
   "execution_count": 57,
   "id": "2c23f0e2",
   "metadata": {
    "ExecuteTime": {
     "end_time": "2021-08-19T23:34:45.915134Z",
     "start_time": "2021-08-19T23:34:45.909913Z"
    }
   },
   "outputs": [],
   "source": [
    "df_tsne = pd.DataFrame()"
   ]
  },
  {
   "cell_type": "code",
   "execution_count": 58,
   "id": "7ec8c77c",
   "metadata": {
    "ExecuteTime": {
     "end_time": "2021-08-19T23:35:15.148862Z",
     "start_time": "2021-08-19T23:34:45.921276Z"
    }
   },
   "outputs": [
    {
     "data": {
      "image/png": "[encoded data removed]",
      "text/plain": [
       "<Figure size 1728x648 with 1 Axes>"
      ]
     },
     "metadata": {},
     "output_type": "display_data"
    }
   ],
   "source": [
    "reducer = TSNE(n_components=2, random_state=42)\n",
    "embedding = reducer.fit_transform( X )\n",
    "\n",
    "# embedding\n",
    "df_tsne['x'] = embedding[:, 0]\n",
    "df_tsne['y'] = embedding[:, 1]\n",
    "\n",
    "# plot t-SNE\n",
    "sns.scatterplot( x='x', y='y', data=df_tsne);"
   ]
  },
  {
   "cell_type": "markdown",
   "id": "47b38921",
   "metadata": {},
   "source": [
    "### 4.3.4. Tree-Based Embbedding"
   ]
  },
  {
   "cell_type": "code",
   "execution_count": 59,
   "id": "77ad5bfc",
   "metadata": {
    "ExecuteTime": {
     "end_time": "2021-08-19T23:35:17.406349Z",
     "start_time": "2021-08-19T23:35:15.153355Z"
    }
   },
   "outputs": [
    {
     "data": {
      "text/plain": [
       "RandomForestRegressor(random_state=42)"
      ]
     },
     "execution_count": 59,
     "metadata": {},
     "output_type": "execute_result"
    }
   ],
   "source": [
    "X = df4.drop(columns=['customer_id', 'monetary'])\n",
    "y = df4['monetary']\n",
    "\n",
    "# model training\n",
    "rf_model = en.RandomForestRegressor( n_estimators=100, random_state=42 )\n",
    "\n",
    "# model training definition\n",
    "rf_model.fit( X, y)"
   ]
  },
  {
   "cell_type": "code",
   "execution_count": 60,
   "id": "2872e432",
   "metadata": {
    "ExecuteTime": {
     "end_time": "2021-08-19T23:35:17.524273Z",
     "start_time": "2021-08-19T23:35:17.408890Z"
    }
   },
   "outputs": [],
   "source": [
    "df_leaf = pd.DataFrame( rf_model.apply( X ) )"
   ]
  },
  {
   "cell_type": "code",
   "execution_count": 61,
   "id": "2752786d",
   "metadata": {
    "ExecuteTime": {
     "end_time": "2021-08-19T23:35:17.545791Z",
     "start_time": "2021-08-19T23:35:17.530338Z"
    }
   },
   "outputs": [
    {
     "data": {
      "text/plain": [
       "((2956, 10), (2956, 100))"
      ]
     },
     "execution_count": 61,
     "metadata": {},
     "output_type": "execute_result"
    }
   ],
   "source": [
    "X.shape, df_leaf.shape"
   ]
  },
  {
   "cell_type": "code",
   "execution_count": 62,
   "id": "b8e6c5a3",
   "metadata": {
    "ExecuteTime": {
     "end_time": "2021-08-19T23:35:36.737338Z",
     "start_time": "2021-08-19T23:35:17.553589Z"
    }
   },
   "outputs": [
    {
     "data": {
      "image/png": "[encoded data removed]",
      "text/plain": [
       "<Figure size 1728x648 with 1 Axes>"
      ]
     },
     "metadata": {},
     "output_type": "display_data"
    }
   ],
   "source": [
    "df_leaf_umap = pd.DataFrame()\n",
    "\n",
    "# reduzer dimensionality\n",
    "reducer = UMAP(random_state=42)\n",
    "embedding = reducer.fit_transform( df_leaf )\n",
    "\n",
    "# embedding\n",
    "df_leaf_umap['x'] = embedding[:, 0]\n",
    "df_leaf_umap['y'] = embedding[:, 1]\n",
    "\n",
    "# plot \n",
    "sns.scatterplot( x='x', y='y', data=df_leaf_umap );"
   ]
  },
  {
   "cell_type": "code",
   "execution_count": 64,
   "id": "ba8583c3",
   "metadata": {
    "ExecuteTime": {
     "end_time": "2021-08-19T23:37:12.918464Z",
     "start_time": "2021-08-19T23:37:11.946906Z"
    }
   },
   "outputs": [
    {
     "data": {
      "image/png": "[encoded data removed]",
      "text/plain": [
       "<Figure size 1728x648 with 1 Axes>"
      ]
     },
     "metadata": {},
     "output_type": "display_data"
    }
   ],
   "source": [
    "pca = PCA(n_components=95)\n",
    "# embedding = pca.fit_transform( df_leaf )\n",
    "\n",
    "principal_components = pca.fit_transform( df_leaf )\n",
    "\n",
    "features = range(pca.n_components_)\n",
    "\n",
    "# plot PCA \n",
    "plt.bar( features, pca.explained_variance_ratio_, color='black' );"
   ]
  },
  {
   "cell_type": "code",
   "execution_count": 65,
   "id": "fd7be28b",
   "metadata": {
    "ExecuteTime": {
     "end_time": "2021-08-19T23:37:47.361253Z",
     "start_time": "2021-08-19T23:37:47.340385Z"
    }
   },
   "outputs": [
    {
     "data": {
      "text/plain": [
       "array([9.84990690e-01, 1.65520624e-03, 1.11722561e-03, 9.00066136e-04,\n",
       "       6.37475179e-04, 5.66706595e-04, 4.64076948e-04, 4.42541713e-04,\n",
       "       4.13586263e-04, 3.95410133e-04, 3.68944359e-04, 3.49906447e-04,\n",
       "       3.42338493e-04, 3.15836032e-04, 3.05016471e-04, 2.84571964e-04,\n",
       "       2.49843028e-04, 2.40778096e-04, 2.25076406e-04, 2.15355786e-04,\n",
       "       2.05020595e-04, 1.99210881e-04, 1.82613539e-04, 1.73465268e-04,\n",
       "       1.71553368e-04, 1.56735102e-04, 1.46539574e-04, 1.44260756e-04,\n",
       "       1.40221425e-04, 1.36391456e-04, 1.31509727e-04, 1.27943243e-04,\n",
       "       1.22838042e-04, 1.12838920e-04, 1.10935290e-04, 1.07539858e-04,\n",
       "       1.03151528e-04, 1.01756973e-04, 9.70702166e-05, 9.39681053e-05,\n",
       "       9.29632595e-05, 8.57068800e-05, 8.33305766e-05, 8.18810815e-05,\n",
       "       7.92839255e-05, 7.72277242e-05, 7.57466976e-05, 7.39972184e-05,\n",
       "       7.25514992e-05, 6.85189381e-05, 6.74799988e-05, 6.54205696e-05,\n",
       "       6.15295138e-05, 6.01042731e-05, 5.93137237e-05, 5.84203584e-05,\n",
       "       5.73260594e-05, 5.57828457e-05, 5.38691649e-05, 5.31677826e-05,\n",
       "       5.22445536e-05, 5.04289645e-05, 4.98802779e-05, 4.88669649e-05,\n",
       "       4.80550782e-05, 4.62972399e-05, 4.53028093e-05, 4.41992907e-05,\n",
       "       4.39664211e-05, 4.30924730e-05, 4.12392975e-05, 4.01528095e-05,\n",
       "       3.90503178e-05, 3.81009473e-05, 3.79185166e-05, 3.66235845e-05,\n",
       "       3.56452236e-05, 3.51869452e-05, 3.43988136e-05, 3.40452418e-05,\n",
       "       3.29954583e-05, 3.15516280e-05, 3.11218524e-05, 3.04209499e-05,\n",
       "       3.03326649e-05, 2.97695272e-05, 2.87782167e-05, 2.81316530e-05,\n",
       "       2.65643589e-05, 2.62894753e-05, 2.57348536e-05, 2.55551053e-05,\n",
       "       2.50814468e-05, 2.42429556e-05, 2.33464738e-05])"
      ]
     },
     "execution_count": 65,
     "metadata": {},
     "output_type": "execute_result"
    }
   ],
   "source": [
    "pca.explained_variance_ratio_"
   ]
  },
  {
   "cell_type": "code",
   "execution_count": null,
   "id": "cafdd804",
   "metadata": {},
   "outputs": [],
   "source": []
  },
  {
   "cell_type": "code",
   "execution_count": null,
   "id": "f419528b",
   "metadata": {},
   "outputs": [],
   "source": []
  },
  {
   "cell_type": "code",
   "execution_count": null,
   "id": "7c2b885a",
   "metadata": {},
   "outputs": [],
   "source": []
  },
  {
   "cell_type": "code",
   "execution_count": null,
   "id": "c81b908c",
   "metadata": {},
   "outputs": [],
   "source": []
  },
  {
   "cell_type": "code",
   "execution_count": null,
   "id": "9efe7f2b",
   "metadata": {},
   "outputs": [],
   "source": []
  },
  {
   "cell_type": "markdown",
   "id": "6c467b8f",
   "metadata": {
    "heading_collapsed": true
   },
   "source": [
    "# 5.0. Data Preparation "
   ]
  },
  {
   "cell_type": "code",
   "execution_count": null,
   "id": "f6a73114",
   "metadata": {
    "ExecuteTime": {
     "end_time": "2021-08-19T23:35:36.752919Z",
     "start_time": "2021-08-19T23:35:36.752890Z"
    },
    "hidden": true
   },
   "outputs": [],
   "source": [
    "df5 = df4.copy()"
   ]
  },
  {
   "cell_type": "code",
   "execution_count": null,
   "id": "f79af9c6",
   "metadata": {
    "ExecuteTime": {
     "end_time": "2021-08-19T23:35:36.756215Z",
     "start_time": "2021-08-19T23:35:36.756177Z"
    },
    "hidden": true
   },
   "outputs": [],
   "source": [
    "cols = ['monetary', 'recency_days', 'qtde_invoices',\n",
    "        'qtde_items', 'qtde_products', 'avg_ticket', 'avg_recency_days',\n",
    "        'frequency', 'qtde_returns', 'avg_basket_size',\n",
    "        'avg_unique_basket_size']\n",
    "\n",
    "plt.title('Before the scale', size=30)\n",
    "for col in cols:\n",
    "    sns.kdeplot(df5[col], label=col);\n",
    "    plt.legend();"
   ]
  },
  {
   "cell_type": "code",
   "execution_count": null,
   "id": "b263bac2",
   "metadata": {
    "ExecuteTime": {
     "end_time": "2021-08-19T23:35:36.761266Z",
     "start_time": "2021-08-19T23:35:36.761247Z"
    },
    "hidden": true
   },
   "outputs": [],
   "source": [
    "ss = pp.StandardScaler()\n",
    "\n",
    "df5['monetary'] = ss.fit_transform(df5[['monetary']])\n",
    "df5['recency_days'] = ss.fit_transform(df5[['recency_days']])\n",
    "df5['qtde_invoices'] = ss.fit_transform(df5[['qtde_invoices']])\n",
    "df5['qtde_items'] = ss.fit_transform(df5[['qtde_items']])\n",
    "df5['qtde_products'] = ss.fit_transform(df5[['qtde_products']])\n",
    "df5['avg_ticket'] = ss.fit_transform(df5[['avg_ticket']])\n",
    "df5['avg_recency_days'] = ss.fit_transform(df5[['avg_recency_days']])\n",
    "df5['frequency'] = ss.fit_transform(df5[['frequency']])\n",
    "df5['qtde_returns'] = ss.fit_transform(df5[['qtde_returns']])\n",
    "df5['avg_basket_size'] = ss.fit_transform(df5[['avg_basket_size']])\n",
    "df5['avg_unique_basket_size'] = ss.fit_transform(df5[['avg_unique_basket_size']])"
   ]
  },
  {
   "cell_type": "code",
   "execution_count": null,
   "id": "34021edc",
   "metadata": {
    "ExecuteTime": {
     "end_time": "2021-08-19T23:35:36.762936Z",
     "start_time": "2021-08-19T23:35:36.762917Z"
    },
    "hidden": true
   },
   "outputs": [],
   "source": [
    "cols = ['monetary', 'recency_days', 'qtde_invoices',\n",
    "        'qtde_items', 'qtde_products', 'avg_ticket', 'avg_recency_days',\n",
    "        'frequency', 'qtde_returns', 'avg_basket_size',\n",
    "        'avg_unique_basket_size']\n",
    "plt.title('After the scale', size=30)\n",
    "for col in cols:\n",
    "    sns.kdeplot(df5[col], label=col);\n",
    "    plt.legend();"
   ]
  },
  {
   "cell_type": "markdown",
   "id": "eb80c6d9",
   "metadata": {},
   "source": [
    "# 6.0. Feature Selection"
   ]
  },
  {
   "cell_type": "code",
   "execution_count": null,
   "id": "1ac770e9",
   "metadata": {
    "ExecuteTime": {
     "end_time": "2021-08-19T23:35:36.764844Z",
     "start_time": "2021-08-19T23:35:36.764812Z"
    }
   },
   "outputs": [],
   "source": [
    "df6 = df5.copy()"
   ]
  },
  {
   "cell_type": "markdown",
   "id": "102e3348",
   "metadata": {},
   "source": [
    "# 7.0. Hyperpameter Fine Tuning"
   ]
  },
  {
   "cell_type": "code",
   "execution_count": null,
   "id": "7339f801",
   "metadata": {
    "ExecuteTime": {
     "end_time": "2021-08-19T23:35:36.767953Z",
     "start_time": "2021-08-19T23:35:36.767911Z"
    }
   },
   "outputs": [],
   "source": [
    "# X = df6.drop(columns=['customer_id'])\n",
    "X = df_leaf_umap.copy()\n",
    "\n",
    "X.head()"
   ]
  },
  {
   "cell_type": "code",
   "execution_count": null,
   "id": "0fd429b7",
   "metadata": {
    "ExecuteTime": {
     "end_time": "2021-08-19T23:35:36.771444Z",
     "start_time": "2021-08-19T23:35:36.771401Z"
    }
   },
   "outputs": [],
   "source": [
    "clusters = [2,3,4,5,6,7]"
   ]
  },
  {
   "cell_type": "markdown",
   "id": "2b0e471b",
   "metadata": {},
   "source": [
    "## KMeans"
   ]
  },
  {
   "cell_type": "code",
   "execution_count": null,
   "id": "fc1b91c6",
   "metadata": {
    "ExecuteTime": {
     "end_time": "2021-08-19T23:35:36.773415Z",
     "start_time": "2021-08-19T23:35:36.773384Z"
    },
    "scrolled": false
   },
   "outputs": [],
   "source": [
    "kmeans = KElbowVisualizer(cluster.KMeans(), k=clusters, timings=False)\n",
    "kmeans.fit( X )\n",
    "kmeans.show();"
   ]
  },
  {
   "cell_type": "code",
   "execution_count": null,
   "id": "104d8764",
   "metadata": {
    "ExecuteTime": {
     "end_time": "2021-08-19T23:35:36.775912Z",
     "start_time": "2021-08-19T23:35:36.775871Z"
    }
   },
   "outputs": [],
   "source": [
    "km = KElbowVisualizer(cluster.KMeans(), k=clusters, metric='silhouette', timings=False)\n",
    "km.fit( X )\n",
    "km.show();"
   ]
  },
  {
   "cell_type": "markdown",
   "id": "e267535e",
   "metadata": {},
   "source": [
    "## 7.1. Silhouette Analysis"
   ]
  },
  {
   "cell_type": "code",
   "execution_count": null,
   "id": "c81514b3",
   "metadata": {
    "ExecuteTime": {
     "end_time": "2021-08-19T23:35:36.779132Z",
     "start_time": "2021-08-19T23:35:36.779099Z"
    }
   },
   "outputs": [],
   "source": [
    "fig, ax = plt.subplots(3,2, figsize=(25, 18))\n",
    "\n",
    "for k in clusters:\n",
    "    km = cluster.KMeans(n_clusters=k, init='random', n_init=10, random_state=42)\n",
    "    q, mod = divmod(k, 2)\n",
    "\n",
    "    visualizer = SilhouetteVisualizer(km, colors='yellowbrick', ax=ax[q-1][mod])\n",
    "    visualizer.fit( X )\n",
    "    visualizer.finalize();"
   ]
  },
  {
   "cell_type": "markdown",
   "id": "11fdb6f0",
   "metadata": {},
   "source": [
    "# 8.0. Model Training"
   ]
  },
  {
   "cell_type": "markdown",
   "id": "bc10de5d",
   "metadata": {},
   "source": [
    "## 8.1. K-Means"
   ]
  },
  {
   "cell_type": "code",
   "execution_count": null,
   "id": "b1dd16d0",
   "metadata": {
    "ExecuteTime": {
     "end_time": "2021-08-19T23:35:36.780952Z",
     "start_time": "2021-08-19T23:35:36.780924Z"
    }
   },
   "outputs": [],
   "source": [
    "# model definition\n",
    "k = 5\n",
    "kmeans = cluster.KMeans(init='random', n_clusters=k, n_init=10, max_iter=300)\n",
    "\n",
    "# model training\n",
    "kmeans.fit( X )\n",
    "\n",
    "# clustering\n",
    "labels = kmeans.labels_"
   ]
  },
  {
   "cell_type": "markdown",
   "id": "12158d8c",
   "metadata": {},
   "source": [
    "## 8.2. Cluster Validation"
   ]
  },
  {
   "cell_type": "code",
   "execution_count": null,
   "id": "a8f6561d",
   "metadata": {
    "ExecuteTime": {
     "end_time": "2021-08-19T23:35:36.784746Z",
     "start_time": "2021-08-19T23:35:36.784696Z"
    }
   },
   "outputs": [],
   "source": [
    "print('WSS value: {}'.format( kmeans.inertia_ ))\n",
    "print('SS value: {}'.format( metrics.silhouette_score(X, labels, metric='euclidean') ))"
   ]
  },
  {
   "cell_type": "markdown",
   "id": "a6b30a59",
   "metadata": {},
   "source": [
    "# 9.0. Cluster Analysis"
   ]
  },
  {
   "cell_type": "code",
   "execution_count": null,
   "id": "6a23bab5",
   "metadata": {
    "ExecuteTime": {
     "end_time": "2021-08-19T23:35:36.788038Z",
     "start_time": "2021-08-19T23:35:36.787976Z"
    }
   },
   "outputs": [],
   "source": [
    "df9 = df4.copy()\n",
    "df9['cluster'] = labels\n",
    "df9.head()"
   ]
  },
  {
   "cell_type": "markdown",
   "id": "b58979d7",
   "metadata": {},
   "source": [
    "## 9.1. Visualization Inspection"
   ]
  },
  {
   "cell_type": "code",
   "execution_count": null,
   "id": "e39e2be6",
   "metadata": {
    "ExecuteTime": {
     "end_time": "2021-08-19T23:35:36.790546Z",
     "start_time": "2021-08-19T23:35:36.790513Z"
    }
   },
   "outputs": [],
   "source": [
    "df_viz = df9.drop(columns='customer_id')"
   ]
  },
  {
   "cell_type": "markdown",
   "id": "3b4751c8",
   "metadata": {},
   "source": [
    "### 9.1.1. Silhouette Analysis"
   ]
  },
  {
   "cell_type": "code",
   "execution_count": null,
   "id": "469fced0",
   "metadata": {
    "ExecuteTime": {
     "end_time": "2021-08-19T23:35:36.794987Z",
     "start_time": "2021-08-19T23:35:36.794949Z"
    }
   },
   "outputs": [],
   "source": [
    "visualizer = SilhouetteVisualizer(kmeans, color='yellowbrick')\n",
    "visualizer.fit( X )\n",
    "visualizer.finalize();"
   ]
  },
  {
   "cell_type": "markdown",
   "id": "8f529026",
   "metadata": {},
   "source": [
    "### 9.1.2 2d plot"
   ]
  },
  {
   "cell_type": "code",
   "execution_count": null,
   "id": "8aeedbff",
   "metadata": {
    "ExecuteTime": {
     "end_time": "2021-08-19T23:35:36.799429Z",
     "start_time": "2021-08-19T23:35:36.799406Z"
    }
   },
   "outputs": [],
   "source": [
    "# sns.pairplot(df_viz, hue='cluster');"
   ]
  },
  {
   "cell_type": "markdown",
   "id": "e13c695a",
   "metadata": {},
   "source": [
    "### 9.1.3. UMAP"
   ]
  },
  {
   "cell_type": "code",
   "execution_count": null,
   "id": "8d1d716a",
   "metadata": {
    "ExecuteTime": {
     "end_time": "2021-08-19T23:35:36.802898Z",
     "start_time": "2021-08-19T23:35:36.802841Z"
    }
   },
   "outputs": [],
   "source": [
    "reducer = UMAP(n_neighbors=80, random_state=42)\n",
    "embedding = reducer.fit_transform( X )\n",
    "\n",
    "df_viz['embedding_x'] = embedding[:, 0]\n",
    "df_viz['embedding_y'] = embedding[:, 1]\n",
    "\n",
    "# plot\n",
    "sns.scatterplot( x='embedding_x', \n",
    "                 y='embedding_y', \n",
    "                 hue='cluster', \n",
    "                 palette=sns.color_palette( 'hls', n_colors=len( df_viz['cluster'].unique() ) ),\n",
    "                 data=df_viz );"
   ]
  },
  {
   "cell_type": "markdown",
   "id": "b253d006",
   "metadata": {},
   "source": [
    "## 9.2. Cluster Profile"
   ]
  },
  {
   "cell_type": "code",
   "execution_count": null,
   "id": "52e323c0",
   "metadata": {
    "ExecuteTime": {
     "end_time": "2021-08-19T23:35:36.810904Z",
     "start_time": "2021-08-19T23:35:36.810846Z"
    }
   },
   "outputs": [],
   "source": [
    "df9.head()"
   ]
  },
  {
   "cell_type": "code",
   "execution_count": null,
   "id": "b0ceaa89",
   "metadata": {
    "ExecuteTime": {
     "end_time": "2021-08-19T23:35:36.812774Z",
     "start_time": "2021-08-19T23:35:36.812742Z"
    }
   },
   "outputs": [],
   "source": [
    "# cluster - qt_users - per_user\n",
    "df_cluster = df9[['customer_id', 'cluster']].groupby('cluster').count().reset_index().rename(columns={'customer_id': 'qt_users'})\n",
    "df_cluster['per_user'] = 100 * (df_cluster['qt_users'] / df_cluster['qt_users'].sum())\n",
    "\n",
    "\n",
    "# monetary\n",
    "monetary = df9[['monetary', 'cluster']].groupby('cluster').mean().reset_index()\n",
    "df_cluster = pd.merge(df_cluster, monetary, how='left', on='cluster')\n",
    "\n",
    "\n",
    "# recency_days\n",
    "recency_days = df9[['recency_days', 'cluster']].groupby('cluster').mean().reset_index()\n",
    "df_cluster = pd.merge(df_cluster, recency_days, how='left', on='cluster')\n",
    "\n",
    "# qtde_invoices\n",
    "qtde_invoices = df9[['qtde_invoices', 'cluster']].groupby('cluster').mean().reset_index()\n",
    "df_cluster = pd.merge(df_cluster, qtde_invoices, how='left', on='cluster')\n",
    "\n",
    "# qtde_products\n",
    "qtde_products = df9[['qtde_products', 'cluster']].groupby('cluster').mean().reset_index()\n",
    "df_cluster = pd.merge(df_cluster, qtde_products, how='left', on='cluster')\n",
    "\n",
    "\n",
    "# qtde_items\n",
    "qtde_items = df9[['qtde_items', 'cluster']].groupby('cluster').mean().reset_index()\n",
    "df_cluster = pd.merge(df_cluster, qtde_items, how='left', on='cluster')\n",
    "\n",
    "# frequency\n",
    "frequency = df9[['frequency', 'cluster']].groupby('cluster').mean().reset_index()\n",
    "df_cluster = pd.merge(df_cluster, frequency, how='left', on='cluster')\n",
    "\n",
    "# qtde_returns\n",
    "qtde_returns = df9[['qtde_returns', 'cluster']].groupby('cluster').mean().reset_index()\n",
    "df_cluster = pd.merge(df_cluster, qtde_returns, how='left', on='cluster')\n",
    "\n",
    "\n",
    "\n",
    "df_cluster.sort_values('monetary', ascending=False)"
   ]
  },
  {
   "cell_type": "markdown",
   "id": "d958d526",
   "metadata": {},
   "source": [
    "# 10.0. Deploy to Product"
   ]
  }
 ],
 "metadata": {
  "kernelspec": {
   "display_name": "Python 3 (ipykernel)",
   "language": "python",
   "name": "python3"
  },
  "language_info": {
   "codemirror_mode": {
    "name": "ipython",
    "version": 3
   },
   "file_extension": ".py",
   "mimetype": "text/x-python",
   "name": "python",
   "nbconvert_exporter": "python",
   "pygments_lexer": "ipython3",
   "version": "3.8.0"
  }
 },
 "nbformat": 4,
 "nbformat_minor": 5
}
