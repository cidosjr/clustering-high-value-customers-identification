{
 "cells": [
  {
   "cell_type": "markdown",
   "id": "b25a0bdd",
   "metadata": {
    "papermill": {
     "duration": 0.067399,
     "end_time": "2021-10-25T19:00:30.075268",
     "exception": false,
     "start_time": "2021-10-25T19:00:30.007869",
     "status": "completed"
    },
    "tags": []
   },
   "source": [
    "# 0.0. Imports"
   ]
  },
  {
   "cell_type": "code",
   "execution_count": 1,
   "id": "722054fa",
   "metadata": {
    "ExecuteTime": {
     "end_time": "2021-10-25T18:57:35.123811Z",
     "start_time": "2021-10-25T18:57:30.219077Z"
    },
    "execution": {
     "iopub.execute_input": "2021-10-25T19:00:30.209631Z",
     "iopub.status.busy": "2021-10-25T19:00:30.208761Z",
     "iopub.status.idle": "2021-10-25T19:00:32.517911Z",
     "shell.execute_reply": "2021-10-25T19:00:32.517279Z"
    },
    "papermill": {
     "duration": 2.382169,
     "end_time": "2021-10-25T19:00:32.518051",
     "exception": false,
     "start_time": "2021-10-25T19:00:30.135882",
     "status": "completed"
    },
    "tags": []
   },
   "outputs": [],
   "source": [
    "import re\n",
    "import sqlite3\n",
    "import pandas as pd\n",
    "import numpy as np\n",
    "import seaborn as sns\n",
    "import matplotlib.pyplot as plt\n",
    "import plotly.express as px\n",
    "\n",
    "from sqlalchemy import create_engine\n",
    "\n",
    "from umap.umap_ import UMAP\n",
    "from scipy.cluster import hierarchy as hc\n",
    "\n",
    "from sklearn import cluster\n",
    "from sklearn import metrics\n",
    "from sklearn import preprocessing as pp\n",
    "from sklearn.decomposition import PCA\n",
    "from sklearn.manifold import TSNE\n",
    "from sklearn import ensemble as en\n",
    "from sklearn.mixture import GaussianMixture as gm"
   ]
  },
  {
   "cell_type": "markdown",
   "id": "f4bb5440",
   "metadata": {
    "papermill": {
     "duration": 0.058766,
     "end_time": "2021-10-25T19:00:32.636138",
     "exception": false,
     "start_time": "2021-10-25T19:00:32.577372",
     "status": "completed"
    },
    "tags": []
   },
   "source": [
    "## 0.1. Helper Functions"
   ]
  },
  {
   "cell_type": "code",
   "execution_count": 2,
   "id": "a157246c",
   "metadata": {
    "ExecuteTime": {
     "end_time": "2021-10-25T18:57:35.143696Z",
     "start_time": "2021-10-25T18:57:35.126093Z"
    },
    "execution": {
     "iopub.execute_input": "2021-10-25T19:00:32.767199Z",
     "iopub.status.busy": "2021-10-25T19:00:32.765804Z",
     "iopub.status.idle": "2021-10-25T19:00:32.769070Z",
     "shell.execute_reply": "2021-10-25T19:00:32.769756Z"
    },
    "papermill": {
     "duration": 0.0755,
     "end_time": "2021-10-25T19:00:32.769965",
     "exception": false,
     "start_time": "2021-10-25T19:00:32.694465",
     "status": "completed"
    },
    "tags": []
   },
   "outputs": [],
   "source": [
    "def descriptive_statistics(num_attr):\n",
    "    # Central Tendency: mean, median\n",
    "    c1 = pd.DataFrame(num_attr.apply(np.mean))\n",
    "    c2 = pd.DataFrame(num_attr.apply(np.median))\n",
    "\n",
    "    # Dispension: min, max, range, std, skew, kurtosis\n",
    "    d1 = pd.DataFrame(num_attr.apply(min))\n",
    "    d2 = pd.DataFrame(num_attr.apply(max))\n",
    "    d3 = pd.DataFrame(num_attr.apply(lambda x: x.max() - x.min()))\n",
    "    d4 = pd.DataFrame(num_attr.apply(lambda x: x.std()))\n",
    "    \n",
    "    # Measures of Shape\n",
    "    s1 = pd.DataFrame(num_attr.apply(lambda x: x.skew()))\n",
    "    s2 = pd.DataFrame(num_attr.apply(lambda x: x.kurtosis()))\n",
    "\n",
    "    # concat\n",
    "    m = pd.concat([d1,d2,d3,c1,c2,d4,s1,s2], axis=1).reset_index()\n",
    "    m.columns = ['attributes', 'min', 'max', 'range', 'mean', 'median', 'std', 'skew', 'kurtosis']\n",
    "    return m"
   ]
  },
  {
   "cell_type": "markdown",
   "id": "1bb64666",
   "metadata": {
    "papermill": {
     "duration": 0.058436,
     "end_time": "2021-10-25T19:00:32.892234",
     "exception": false,
     "start_time": "2021-10-25T19:00:32.833798",
     "status": "completed"
    },
    "tags": []
   },
   "source": [
    "## 0.2. Load Data"
   ]
  },
  {
   "cell_type": "code",
   "execution_count": 3,
   "id": "4344a7f0",
   "metadata": {
    "ExecuteTime": {
     "end_time": "2021-10-25T18:57:35.724236Z",
     "start_time": "2021-10-25T18:57:35.147349Z"
    },
    "execution": {
     "iopub.execute_input": "2021-10-25T19:00:33.013492Z",
     "iopub.status.busy": "2021-10-25T19:00:33.012863Z",
     "iopub.status.idle": "2021-10-25T19:00:33.244596Z",
     "shell.execute_reply": "2021-10-25T19:00:33.243620Z"
    },
    "papermill": {
     "duration": 0.294023,
     "end_time": "2021-10-25T19:00:33.244739",
     "exception": false,
     "start_time": "2021-10-25T19:00:32.950716",
     "status": "completed"
    },
    "tags": []
   },
   "outputs": [],
   "source": [
    "import s3fs"
   ]
  },
  {
   "cell_type": "code",
   "execution_count": 4,
   "id": "54243f8b",
   "metadata": {
    "ExecuteTime": {
     "end_time": "2021-10-25T18:58:26.054070Z",
     "start_time": "2021-10-25T18:58:22.143476Z"
    },
    "execution": {
     "iopub.execute_input": "2021-10-25T19:00:33.374254Z",
     "iopub.status.busy": "2021-10-25T19:00:33.373251Z",
     "iopub.status.idle": "2021-10-25T19:00:38.457221Z",
     "shell.execute_reply": "2021-10-25T19:00:38.457985Z"
    },
    "papermill": {
     "duration": 5.151839,
     "end_time": "2021-10-25T19:00:38.458190",
     "exception": false,
     "start_time": "2021-10-25T19:00:33.306351",
     "status": "completed"
    },
    "tags": []
   },
   "outputs": [],
   "source": [
    "# path = '/home/cid/repos/clustering-high-value-customers-identification/'\n",
    "path_s3 = 'https://insiders-dataset-cid.s3.amazonaws.com/'\n",
    "\n",
    "df_raw = pd.read_csv(path_s3 + 'Ecommerce.csv', encoding='latin1')\n",
    "\n",
    "# drop extra column\n",
    "df_raw = df_raw.drop('Unnamed: 8', axis=1)"
   ]
  },
  {
   "cell_type": "markdown",
   "id": "5b9ae690",
   "metadata": {
    "papermill": {
     "duration": 0.0583,
     "end_time": "2021-10-25T19:00:38.579089",
     "exception": false,
     "start_time": "2021-10-25T19:00:38.520789",
     "status": "completed"
    },
    "tags": []
   },
   "source": [
    "\n",
    "# 1.0. Data Description"
   ]
  },
  {
   "cell_type": "code",
   "execution_count": 5,
   "id": "026bbc19",
   "metadata": {
    "ExecuteTime": {
     "end_time": "2021-10-25T18:58:29.266221Z",
     "start_time": "2021-10-25T18:58:29.227840Z"
    },
    "execution": {
     "iopub.execute_input": "2021-10-25T19:00:38.723833Z",
     "iopub.status.busy": "2021-10-25T19:00:38.723131Z",
     "iopub.status.idle": "2021-10-25T19:00:38.734934Z",
     "shell.execute_reply": "2021-10-25T19:00:38.735792Z"
    },
    "papermill": {
     "duration": 0.097979,
     "end_time": "2021-10-25T19:00:38.736030",
     "exception": false,
     "start_time": "2021-10-25T19:00:38.638051",
     "status": "completed"
    },
    "tags": []
   },
   "outputs": [],
   "source": [
    "df1 = df_raw.copy()"
   ]
  },
  {
   "cell_type": "markdown",
   "id": "a0e2c036",
   "metadata": {
    "heading_collapsed": true,
    "papermill": {
     "duration": 0.058658,
     "end_time": "2021-10-25T19:00:38.858928",
     "exception": false,
     "start_time": "2021-10-25T19:00:38.800270",
     "status": "completed"
    },
    "tags": []
   },
   "source": [
    "## 1.1. Rename Columns"
   ]
  },
  {
   "cell_type": "code",
   "execution_count": 6,
   "id": "46322473",
   "metadata": {
    "ExecuteTime": {
     "end_time": "2021-10-14T13:36:37.246202Z",
     "start_time": "2021-10-14T13:36:37.241231Z"
    },
    "execution": {
     "iopub.execute_input": "2021-10-25T19:00:38.983073Z",
     "iopub.status.busy": "2021-10-25T19:00:38.982011Z",
     "iopub.status.idle": "2021-10-25T19:00:38.984346Z",
     "shell.execute_reply": "2021-10-25T19:00:38.985154Z"
    },
    "hidden": true,
    "papermill": {
     "duration": 0.06814,
     "end_time": "2021-10-25T19:00:38.985362",
     "exception": false,
     "start_time": "2021-10-25T19:00:38.917222",
     "status": "completed"
    },
    "tags": []
   },
   "outputs": [],
   "source": [
    "cols_new = ['invoice_no', 'stock_code', 'description', 'quantity', 'invoice_date', 'unit_price', 'customer_id', 'country']\n",
    "df1.columns = cols_new"
   ]
  },
  {
   "cell_type": "markdown",
   "id": "09f2dd9b",
   "metadata": {
    "heading_collapsed": true,
    "papermill": {
     "duration": 0.059071,
     "end_time": "2021-10-25T19:00:39.104639",
     "exception": false,
     "start_time": "2021-10-25T19:00:39.045568",
     "status": "completed"
    },
    "tags": []
   },
   "source": [
    "## 1.2. Data Dimnesions"
   ]
  },
  {
   "cell_type": "code",
   "execution_count": 7,
   "id": "e8295ac6",
   "metadata": {
    "ExecuteTime": {
     "end_time": "2021-10-14T13:36:37.264789Z",
     "start_time": "2021-10-14T13:36:37.251372Z"
    },
    "execution": {
     "iopub.execute_input": "2021-10-25T19:00:39.229114Z",
     "iopub.status.busy": "2021-10-25T19:00:39.228270Z",
     "iopub.status.idle": "2021-10-25T19:00:39.230955Z",
     "shell.execute_reply": "2021-10-25T19:00:39.231486Z"
    },
    "hidden": true,
    "papermill": {
     "duration": 0.068513,
     "end_time": "2021-10-25T19:00:39.231651",
     "exception": false,
     "start_time": "2021-10-25T19:00:39.163138",
     "status": "completed"
    },
    "tags": []
   },
   "outputs": [
    {
     "name": "stdout",
     "output_type": "stream",
     "text": [
      "Number of Rows: 541909\n",
      "Number of Columns: 8\n"
     ]
    }
   ],
   "source": [
    "print('Number of Rows: {}'.format(df1.shape[0]))\n",
    "print('Number of Columns: {}'.format(df1.shape[1]))"
   ]
  },
  {
   "cell_type": "markdown",
   "id": "c68dcbcd",
   "metadata": {
    "heading_collapsed": true,
    "papermill": {
     "duration": 0.059637,
     "end_time": "2021-10-25T19:00:39.351620",
     "exception": false,
     "start_time": "2021-10-25T19:00:39.291983",
     "status": "completed"
    },
    "tags": []
   },
   "source": [
    "## 1.3. Data Types"
   ]
  },
  {
   "cell_type": "code",
   "execution_count": 8,
   "id": "4034f49b",
   "metadata": {
    "ExecuteTime": {
     "end_time": "2021-10-14T13:36:37.293171Z",
     "start_time": "2021-10-14T13:36:37.270017Z"
    },
    "execution": {
     "iopub.execute_input": "2021-10-25T19:00:39.483486Z",
     "iopub.status.busy": "2021-10-25T19:00:39.475635Z",
     "iopub.status.idle": "2021-10-25T19:00:39.487225Z",
     "shell.execute_reply": "2021-10-25T19:00:39.487875Z"
    },
    "hidden": true,
    "papermill": {
     "duration": 0.075103,
     "end_time": "2021-10-25T19:00:39.488076",
     "exception": false,
     "start_time": "2021-10-25T19:00:39.412973",
     "status": "completed"
    },
    "tags": []
   },
   "outputs": [
    {
     "data": {
      "text/plain": [
       "invoice_no       object\n",
       "stock_code       object\n",
       "description      object\n",
       "quantity          int64\n",
       "invoice_date     object\n",
       "unit_price      float64\n",
       "customer_id     float64\n",
       "country          object\n",
       "dtype: object"
      ]
     },
     "execution_count": 8,
     "metadata": {},
     "output_type": "execute_result"
    }
   ],
   "source": [
    "df1.dtypes"
   ]
  },
  {
   "cell_type": "markdown",
   "id": "0c014646",
   "metadata": {
    "heading_collapsed": true,
    "papermill": {
     "duration": 0.059951,
     "end_time": "2021-10-25T19:00:39.609328",
     "exception": false,
     "start_time": "2021-10-25T19:00:39.549377",
     "status": "completed"
    },
    "tags": []
   },
   "source": [
    "## 1.4. Check NA"
   ]
  },
  {
   "cell_type": "code",
   "execution_count": 9,
   "id": "7a8a6351",
   "metadata": {
    "ExecuteTime": {
     "end_time": "2021-10-14T13:36:37.568995Z",
     "start_time": "2021-10-14T13:36:37.297620Z"
    },
    "execution": {
     "iopub.execute_input": "2021-10-25T19:00:39.927623Z",
     "iopub.status.busy": "2021-10-25T19:00:39.926035Z",
     "iopub.status.idle": "2021-10-25T19:00:39.939791Z",
     "shell.execute_reply": "2021-10-25T19:00:39.939239Z"
    },
    "hidden": true,
    "papermill": {
     "duration": 0.271101,
     "end_time": "2021-10-25T19:00:39.939922",
     "exception": false,
     "start_time": "2021-10-25T19:00:39.668821",
     "status": "completed"
    },
    "tags": []
   },
   "outputs": [
    {
     "data": {
      "text/plain": [
       "invoice_no           0\n",
       "stock_code           0\n",
       "description       1454\n",
       "quantity             0\n",
       "invoice_date         0\n",
       "unit_price           0\n",
       "customer_id     135080\n",
       "country              0\n",
       "dtype: int64"
      ]
     },
     "execution_count": 9,
     "metadata": {},
     "output_type": "execute_result"
    }
   ],
   "source": [
    "df1.isna().sum()"
   ]
  },
  {
   "cell_type": "markdown",
   "id": "29b1bada",
   "metadata": {
    "heading_collapsed": true,
    "papermill": {
     "duration": 0.060864,
     "end_time": "2021-10-25T19:00:40.062484",
     "exception": false,
     "start_time": "2021-10-25T19:00:40.001620",
     "status": "completed"
    },
    "tags": []
   },
   "source": [
    "## 1.5. Replace NA"
   ]
  },
  {
   "cell_type": "code",
   "execution_count": 10,
   "id": "aa5882db",
   "metadata": {
    "ExecuteTime": {
     "end_time": "2021-10-14T13:36:37.668010Z",
     "start_time": "2021-10-14T13:36:37.576647Z"
    },
    "execution": {
     "iopub.execute_input": "2021-10-25T19:00:40.191913Z",
     "iopub.status.busy": "2021-10-25T19:00:40.190762Z",
     "iopub.status.idle": "2021-10-25T19:00:40.265774Z",
     "shell.execute_reply": "2021-10-25T19:00:40.266478Z"
    },
    "hidden": true,
    "papermill": {
     "duration": 0.143818,
     "end_time": "2021-10-25T19:00:40.266688",
     "exception": false,
     "start_time": "2021-10-25T19:00:40.122870",
     "status": "completed"
    },
    "tags": []
   },
   "outputs": [],
   "source": [
    "df_missing = df1.loc[df1['customer_id'].isna(), :]\n",
    "df_not_missing = df1.loc[~df1['customer_id'].isna(), :]"
   ]
  },
  {
   "cell_type": "code",
   "execution_count": 11,
   "id": "7086dafb",
   "metadata": {
    "ExecuteTime": {
     "end_time": "2021-10-14T13:36:38.111834Z",
     "start_time": "2021-10-14T13:36:37.670089Z"
    },
    "execution": {
     "iopub.execute_input": "2021-10-25T19:00:40.430507Z",
     "iopub.status.busy": "2021-10-25T19:00:40.403270Z",
     "iopub.status.idle": "2021-10-25T19:00:40.685723Z",
     "shell.execute_reply": "2021-10-25T19:00:40.686202Z"
    },
    "hidden": true,
    "papermill": {
     "duration": 0.355748,
     "end_time": "2021-10-25T19:00:40.686358",
     "exception": false,
     "start_time": "2021-10-25T19:00:40.330610",
     "status": "completed"
    },
    "tags": []
   },
   "outputs": [],
   "source": [
    "df_backup = pd.DataFrame(df_missing['invoice_no'].drop_duplicates())\n",
    "df_backup['customer_id'] = np.arange(19000, 19000+len(df_backup), 1)\n",
    "\n",
    "# merge \n",
    "df1 = pd.merge(df1, df_backup, how='left', on='invoice_no' )\n",
    "\n",
    "# coalesce \n",
    "df1['customer_id'] = df1['customer_id_x'].combine_first(df1['customer_id_y'])\n",
    "\n",
    "df1 = df1.drop(['customer_id_x', 'customer_id_y'], axis=1)"
   ]
  },
  {
   "cell_type": "code",
   "execution_count": 12,
   "id": "aff2bc50",
   "metadata": {
    "ExecuteTime": {
     "end_time": "2021-10-14T13:36:38.354388Z",
     "start_time": "2021-10-14T13:36:38.114659Z"
    },
    "execution": {
     "iopub.execute_input": "2021-10-25T19:00:41.001893Z",
     "iopub.status.busy": "2021-10-25T19:00:41.001154Z",
     "iopub.status.idle": "2021-10-25T19:00:41.013265Z",
     "shell.execute_reply": "2021-10-25T19:00:41.013912Z"
    },
    "hidden": true,
    "papermill": {
     "duration": 0.26607,
     "end_time": "2021-10-25T19:00:41.014113",
     "exception": false,
     "start_time": "2021-10-25T19:00:40.748043",
     "status": "completed"
    },
    "tags": []
   },
   "outputs": [
    {
     "data": {
      "text/plain": [
       "invoice_no         0\n",
       "stock_code         0\n",
       "description     1454\n",
       "quantity           0\n",
       "invoice_date       0\n",
       "unit_price         0\n",
       "country            0\n",
       "customer_id        0\n",
       "dtype: int64"
      ]
     },
     "execution_count": 12,
     "metadata": {},
     "output_type": "execute_result"
    }
   ],
   "source": [
    "df1.isna().sum()"
   ]
  },
  {
   "cell_type": "markdown",
   "id": "2e3c11e1",
   "metadata": {
    "heading_collapsed": true,
    "papermill": {
     "duration": 0.062014,
     "end_time": "2021-10-25T19:00:41.139270",
     "exception": false,
     "start_time": "2021-10-25T19:00:41.077256",
     "status": "completed"
    },
    "tags": []
   },
   "source": [
    "## 1.6. Change dtypes"
   ]
  },
  {
   "cell_type": "code",
   "execution_count": 13,
   "id": "6d4edcbb",
   "metadata": {
    "ExecuteTime": {
     "end_time": "2021-10-14T13:36:38.372699Z",
     "start_time": "2021-10-14T13:36:38.356734Z"
    },
    "execution": {
     "iopub.execute_input": "2021-10-25T19:00:41.270608Z",
     "iopub.status.busy": "2021-10-25T19:00:41.269864Z",
     "iopub.status.idle": "2021-10-25T19:00:41.274303Z",
     "shell.execute_reply": "2021-10-25T19:00:41.273608Z"
    },
    "hidden": true,
    "papermill": {
     "duration": 0.07408,
     "end_time": "2021-10-25T19:00:41.274477",
     "exception": false,
     "start_time": "2021-10-25T19:00:41.200397",
     "status": "completed"
    },
    "tags": []
   },
   "outputs": [
    {
     "data": {
      "text/plain": [
       "invoice_no       object\n",
       "stock_code       object\n",
       "description      object\n",
       "quantity          int64\n",
       "invoice_date     object\n",
       "unit_price      float64\n",
       "country          object\n",
       "customer_id     float64\n",
       "dtype: object"
      ]
     },
     "execution_count": 13,
     "metadata": {},
     "output_type": "execute_result"
    }
   ],
   "source": [
    "df1.dtypes"
   ]
  },
  {
   "cell_type": "code",
   "execution_count": 14,
   "id": "e9f81033",
   "metadata": {
    "ExecuteTime": {
     "end_time": "2021-10-14T13:36:38.554404Z",
     "start_time": "2021-10-14T13:36:38.378257Z"
    },
    "execution": {
     "iopub.execute_input": "2021-10-25T19:00:41.430337Z",
     "iopub.status.busy": "2021-10-25T19:00:41.429733Z",
     "iopub.status.idle": "2021-10-25T19:00:41.525674Z",
     "shell.execute_reply": "2021-10-25T19:00:41.526158Z"
    },
    "hidden": true,
    "papermill": {
     "duration": 0.187581,
     "end_time": "2021-10-25T19:00:41.526315",
     "exception": false,
     "start_time": "2021-10-25T19:00:41.338734",
     "status": "completed"
    },
    "tags": []
   },
   "outputs": [],
   "source": [
    "df1['invoice_date'] = pd.to_datetime(df1['invoice_date'])\n",
    "df1['customer_id'] = df1['customer_id'].astype(int)"
   ]
  },
  {
   "cell_type": "markdown",
   "id": "58961082",
   "metadata": {
    "heading_collapsed": true,
    "papermill": {
     "duration": 0.06269,
     "end_time": "2021-10-25T19:00:41.650177",
     "exception": false,
     "start_time": "2021-10-25T19:00:41.587487",
     "status": "completed"
    },
    "tags": []
   },
   "source": [
    "## 1.7. Descriptive Statistics"
   ]
  },
  {
   "cell_type": "code",
   "execution_count": 15,
   "id": "313769d3",
   "metadata": {
    "ExecuteTime": {
     "end_time": "2021-10-14T13:36:38.631345Z",
     "start_time": "2021-10-14T13:36:38.556661Z"
    },
    "execution": {
     "iopub.execute_input": "2021-10-25T19:00:41.782231Z",
     "iopub.status.busy": "2021-10-25T19:00:41.778520Z",
     "iopub.status.idle": "2021-10-25T19:00:41.814275Z",
     "shell.execute_reply": "2021-10-25T19:00:41.814753Z"
    },
    "hidden": true,
    "papermill": {
     "duration": 0.102863,
     "end_time": "2021-10-25T19:00:41.814908",
     "exception": false,
     "start_time": "2021-10-25T19:00:41.712045",
     "status": "completed"
    },
    "tags": []
   },
   "outputs": [],
   "source": [
    "num_att = df1.select_dtypes(include=['int64', 'float64'])\n",
    "cat_att = df1.select_dtypes(include=['object'])"
   ]
  },
  {
   "cell_type": "markdown",
   "id": "7629f4b9",
   "metadata": {
    "heading_collapsed": true,
    "papermill": {
     "duration": 0.062696,
     "end_time": "2021-10-25T19:00:41.941226",
     "exception": false,
     "start_time": "2021-10-25T19:00:41.878530",
     "status": "completed"
    },
    "tags": []
   },
   "source": [
    "## 1.7.1. Numerical Attributes"
   ]
  },
  {
   "cell_type": "code",
   "execution_count": 16,
   "id": "79816883",
   "metadata": {
    "ExecuteTime": {
     "end_time": "2021-10-14T13:36:39.337907Z",
     "start_time": "2021-10-14T13:36:38.635125Z"
    },
    "execution": {
     "iopub.execute_input": "2021-10-25T19:00:42.070996Z",
     "iopub.status.busy": "2021-10-25T19:00:42.070237Z",
     "iopub.status.idle": "2021-10-25T19:00:42.533074Z",
     "shell.execute_reply": "2021-10-25T19:00:42.533731Z"
    },
    "hidden": true,
    "papermill": {
     "duration": 0.530746,
     "end_time": "2021-10-25T19:00:42.533932",
     "exception": false,
     "start_time": "2021-10-25T19:00:42.003186",
     "status": "completed"
    },
    "tags": []
   },
   "outputs": [
    {
     "data": {
      "text/html": [
       "<div>\n",
       "<style scoped>\n",
       "    .dataframe tbody tr th:only-of-type {\n",
       "        vertical-align: middle;\n",
       "    }\n",
       "\n",
       "    .dataframe tbody tr th {\n",
       "        vertical-align: top;\n",
       "    }\n",
       "\n",
       "    .dataframe thead th {\n",
       "        text-align: right;\n",
       "    }\n",
       "</style>\n",
       "<table border=\"1\" class=\"dataframe\">\n",
       "  <thead>\n",
       "    <tr style=\"text-align: right;\">\n",
       "      <th></th>\n",
       "      <th>attributes</th>\n",
       "      <th>min</th>\n",
       "      <th>max</th>\n",
       "      <th>range</th>\n",
       "      <th>mean</th>\n",
       "      <th>median</th>\n",
       "      <th>std</th>\n",
       "      <th>skew</th>\n",
       "      <th>kurtosis</th>\n",
       "    </tr>\n",
       "  </thead>\n",
       "  <tbody>\n",
       "    <tr>\n",
       "      <th>0</th>\n",
       "      <td>quantity</td>\n",
       "      <td>-80995.00</td>\n",
       "      <td>80995.0</td>\n",
       "      <td>161990.00</td>\n",
       "      <td>9.552250</td>\n",
       "      <td>3.00</td>\n",
       "      <td>218.081158</td>\n",
       "      <td>-0.264076</td>\n",
       "      <td>119769.160031</td>\n",
       "    </tr>\n",
       "    <tr>\n",
       "      <th>1</th>\n",
       "      <td>unit_price</td>\n",
       "      <td>-11062.06</td>\n",
       "      <td>38970.0</td>\n",
       "      <td>50032.06</td>\n",
       "      <td>4.611114</td>\n",
       "      <td>2.08</td>\n",
       "      <td>96.759853</td>\n",
       "      <td>186.506972</td>\n",
       "      <td>59005.719097</td>\n",
       "    </tr>\n",
       "    <tr>\n",
       "      <th>2</th>\n",
       "      <td>customer_id</td>\n",
       "      <td>12346.00</td>\n",
       "      <td>22709.0</td>\n",
       "      <td>10363.00</td>\n",
       "      <td>16688.840453</td>\n",
       "      <td>16249.00</td>\n",
       "      <td>2911.411352</td>\n",
       "      <td>0.487449</td>\n",
       "      <td>-0.804287</td>\n",
       "    </tr>\n",
       "  </tbody>\n",
       "</table>\n",
       "</div>"
      ],
      "text/plain": [
       "    attributes       min      max      range          mean    median  \\\n",
       "0     quantity -80995.00  80995.0  161990.00      9.552250      3.00   \n",
       "1   unit_price -11062.06  38970.0   50032.06      4.611114      2.08   \n",
       "2  customer_id  12346.00  22709.0   10363.00  16688.840453  16249.00   \n",
       "\n",
       "           std        skew       kurtosis  \n",
       "0   218.081158   -0.264076  119769.160031  \n",
       "1    96.759853  186.506972   59005.719097  \n",
       "2  2911.411352    0.487449      -0.804287  "
      ]
     },
     "execution_count": 16,
     "metadata": {},
     "output_type": "execute_result"
    }
   ],
   "source": [
    "descriptive_statistics(num_att)"
   ]
  },
  {
   "cell_type": "markdown",
   "id": "918bc2a8",
   "metadata": {
    "heading_collapsed": true,
    "papermill": {
     "duration": 0.062534,
     "end_time": "2021-10-25T19:00:42.661305",
     "exception": false,
     "start_time": "2021-10-25T19:00:42.598771",
     "status": "completed"
    },
    "tags": []
   },
   "source": [
    "## 1.7.2. Categorical Attributes"
   ]
  },
  {
   "cell_type": "code",
   "execution_count": 17,
   "id": "fbb2c633",
   "metadata": {
    "ExecuteTime": {
     "end_time": "2021-10-14T13:36:39.891652Z",
     "start_time": "2021-10-14T13:36:39.341241Z"
    },
    "execution": {
     "iopub.execute_input": "2021-10-25T19:00:42.794485Z",
     "iopub.status.busy": "2021-10-25T19:00:42.793494Z",
     "iopub.status.idle": "2021-10-25T19:00:43.200392Z",
     "shell.execute_reply": "2021-10-25T19:00:43.201032Z"
    },
    "hidden": true,
    "papermill": {
     "duration": 0.477649,
     "end_time": "2021-10-25T19:00:43.201232",
     "exception": false,
     "start_time": "2021-10-25T19:00:42.723583",
     "status": "completed"
    },
    "tags": []
   },
   "outputs": [
    {
     "data": {
      "text/html": [
       "<div>\n",
       "<style scoped>\n",
       "    .dataframe tbody tr th:only-of-type {\n",
       "        vertical-align: middle;\n",
       "    }\n",
       "\n",
       "    .dataframe tbody tr th {\n",
       "        vertical-align: top;\n",
       "    }\n",
       "\n",
       "    .dataframe thead th {\n",
       "        text-align: right;\n",
       "    }\n",
       "</style>\n",
       "<table border=\"1\" class=\"dataframe\">\n",
       "  <thead>\n",
       "    <tr style=\"text-align: right;\">\n",
       "      <th></th>\n",
       "      <th>invoice_no</th>\n",
       "      <th>stock_code</th>\n",
       "      <th>description</th>\n",
       "      <th>country</th>\n",
       "    </tr>\n",
       "  </thead>\n",
       "  <tbody>\n",
       "    <tr>\n",
       "      <th>count</th>\n",
       "      <td>541909</td>\n",
       "      <td>541909</td>\n",
       "      <td>540455</td>\n",
       "      <td>541909</td>\n",
       "    </tr>\n",
       "    <tr>\n",
       "      <th>unique</th>\n",
       "      <td>25900</td>\n",
       "      <td>4070</td>\n",
       "      <td>4223</td>\n",
       "      <td>38</td>\n",
       "    </tr>\n",
       "    <tr>\n",
       "      <th>top</th>\n",
       "      <td>573585</td>\n",
       "      <td>85123A</td>\n",
       "      <td>WHITE HANGING HEART T-LIGHT HOLDER</td>\n",
       "      <td>United Kingdom</td>\n",
       "    </tr>\n",
       "    <tr>\n",
       "      <th>freq</th>\n",
       "      <td>1114</td>\n",
       "      <td>2313</td>\n",
       "      <td>2369</td>\n",
       "      <td>495478</td>\n",
       "    </tr>\n",
       "  </tbody>\n",
       "</table>\n",
       "</div>"
      ],
      "text/plain": [
       "       invoice_no stock_code                         description  \\\n",
       "count      541909     541909                              540455   \n",
       "unique      25900       4070                                4223   \n",
       "top        573585     85123A  WHITE HANGING HEART T-LIGHT HOLDER   \n",
       "freq         1114       2313                                2369   \n",
       "\n",
       "               country  \n",
       "count           541909  \n",
       "unique              38  \n",
       "top     United Kingdom  \n",
       "freq            495478  "
      ]
     },
     "execution_count": 17,
     "metadata": {},
     "output_type": "execute_result"
    }
   ],
   "source": [
    "cat_att.describe(include=['O'])"
   ]
  },
  {
   "cell_type": "markdown",
   "id": "68b2a24f",
   "metadata": {
    "heading_collapsed": true,
    "papermill": {
     "duration": 0.063388,
     "end_time": "2021-10-25T19:00:43.329523",
     "exception": false,
     "start_time": "2021-10-25T19:00:43.266135",
     "status": "completed"
    },
    "tags": []
   },
   "source": [
    "# 2.0. Data Filtering"
   ]
  },
  {
   "cell_type": "code",
   "execution_count": 18,
   "id": "90095e9b",
   "metadata": {
    "ExecuteTime": {
     "end_time": "2021-10-14T13:36:39.928544Z",
     "start_time": "2021-10-14T13:36:39.898356Z"
    },
    "execution": {
     "iopub.execute_input": "2021-10-25T19:00:43.460826Z",
     "iopub.status.busy": "2021-10-25T19:00:43.459587Z",
     "iopub.status.idle": "2021-10-25T19:00:43.479374Z",
     "shell.execute_reply": "2021-10-25T19:00:43.479855Z"
    },
    "hidden": true,
    "papermill": {
     "duration": 0.087844,
     "end_time": "2021-10-25T19:00:43.480019",
     "exception": false,
     "start_time": "2021-10-25T19:00:43.392175",
     "status": "completed"
    },
    "tags": []
   },
   "outputs": [],
   "source": [
    "df2 = df1.copy()"
   ]
  },
  {
   "cell_type": "markdown",
   "id": "25199fd0",
   "metadata": {
    "heading_collapsed": true,
    "hidden": true,
    "papermill": {
     "duration": 0.063942,
     "end_time": "2021-10-25T19:00:43.609969",
     "exception": false,
     "start_time": "2021-10-25T19:00:43.546027",
     "status": "completed"
    },
    "tags": []
   },
   "source": [
    "## 2.1. Filter Columns"
   ]
  },
  {
   "cell_type": "code",
   "execution_count": 19,
   "id": "0bad1aec",
   "metadata": {
    "ExecuteTime": {
     "end_time": "2021-10-14T13:36:39.991305Z",
     "start_time": "2021-10-14T13:36:39.931874Z"
    },
    "execution": {
     "iopub.execute_input": "2021-10-25T19:00:43.766784Z",
     "iopub.status.busy": "2021-10-25T19:00:43.766076Z",
     "iopub.status.idle": "2021-10-25T19:00:43.775898Z",
     "shell.execute_reply": "2021-10-25T19:00:43.776377Z"
    },
    "hidden": true,
    "papermill": {
     "duration": 0.10268,
     "end_time": "2021-10-25T19:00:43.776535",
     "exception": false,
     "start_time": "2021-10-25T19:00:43.673855",
     "status": "completed"
    },
    "tags": []
   },
   "outputs": [],
   "source": [
    "cols_drop = ['description']\n",
    "df2 = df2.drop(cols_drop, axis=1)"
   ]
  },
  {
   "cell_type": "markdown",
   "id": "b50e3b32",
   "metadata": {
    "heading_collapsed": true,
    "hidden": true,
    "papermill": {
     "duration": 0.066468,
     "end_time": "2021-10-25T19:00:43.906550",
     "exception": false,
     "start_time": "2021-10-25T19:00:43.840082",
     "status": "completed"
    },
    "tags": []
   },
   "source": [
    "## 2.2. Filter Rows"
   ]
  },
  {
   "cell_type": "code",
   "execution_count": 20,
   "id": "6bcd20d3",
   "metadata": {
    "ExecuteTime": {
     "end_time": "2021-10-14T13:36:40.279974Z",
     "start_time": "2021-10-14T13:36:39.994715Z"
    },
    "execution": {
     "iopub.execute_input": "2021-10-25T19:00:44.080256Z",
     "iopub.status.busy": "2021-10-25T19:00:44.079238Z",
     "iopub.status.idle": "2021-10-25T19:00:44.274845Z",
     "shell.execute_reply": "2021-10-25T19:00:44.275340Z"
    },
    "hidden": true,
    "papermill": {
     "duration": 0.292603,
     "end_time": "2021-10-25T19:00:44.275497",
     "exception": false,
     "start_time": "2021-10-25T19:00:43.982894",
     "status": "completed"
    },
    "tags": []
   },
   "outputs": [],
   "source": [
    "# Numerical Attributes\n",
    "df2 = df2.loc[df2['unit_price'] >= 0.4, :]\n",
    "\n",
    "# Categorical Attributes\n",
    "df2 = df2.loc[~df2['stock_code'].isin(['POST', 'D', 'DOT', 'M', 'S', 'AMAZONFEE', 'm', 'DCGSSBOY', 'DCGSSGIRL', 'PADS', 'B', 'CRUK'] ), :]\n",
    "\n",
    "# map\n",
    "df2 = df2.loc[~df2['country'].isin(['European Community', 'Unspecified' ]), :]\n",
    "\n",
    "# bad user\n",
    "df2 = df2[~df2['customer_id'].isin( [16446] )]\n",
    "\n",
    "# quantity\n",
    "df2_returns   = df2.loc[df2['quantity'] < 0, :]\n",
    "df2_purchases = df2.loc[df2['quantity'] >= 0, :]"
   ]
  },
  {
   "cell_type": "markdown",
   "id": "16814c2a",
   "metadata": {
    "heading_collapsed": true,
    "papermill": {
     "duration": 0.063586,
     "end_time": "2021-10-25T19:00:44.404363",
     "exception": false,
     "start_time": "2021-10-25T19:00:44.340777",
     "status": "completed"
    },
    "tags": []
   },
   "source": [
    "# 3.0. Feature Engineering"
   ]
  },
  {
   "cell_type": "code",
   "execution_count": 21,
   "id": "3dcc6d38",
   "metadata": {
    "ExecuteTime": {
     "end_time": "2021-10-14T13:36:40.319545Z",
     "start_time": "2021-10-14T13:36:40.282403Z"
    },
    "execution": {
     "iopub.execute_input": "2021-10-25T19:00:44.550042Z",
     "iopub.status.busy": "2021-10-25T19:00:44.549366Z",
     "iopub.status.idle": "2021-10-25T19:00:44.561471Z",
     "shell.execute_reply": "2021-10-25T19:00:44.561948Z"
    },
    "hidden": true,
    "papermill": {
     "duration": 0.093909,
     "end_time": "2021-10-25T19:00:44.562104",
     "exception": false,
     "start_time": "2021-10-25T19:00:44.468195",
     "status": "completed"
    },
    "tags": []
   },
   "outputs": [],
   "source": [
    "df3 = df2.copy()"
   ]
  },
  {
   "cell_type": "markdown",
   "id": "180d585e",
   "metadata": {
    "heading_collapsed": true,
    "hidden": true,
    "papermill": {
     "duration": 0.064457,
     "end_time": "2021-10-25T19:00:44.689928",
     "exception": false,
     "start_time": "2021-10-25T19:00:44.625471",
     "status": "completed"
    },
    "tags": []
   },
   "source": [
    "## 3.1. Feature Creation"
   ]
  },
  {
   "cell_type": "code",
   "execution_count": 22,
   "id": "153c0407",
   "metadata": {
    "ExecuteTime": {
     "end_time": "2021-10-14T13:36:40.372986Z",
     "start_time": "2021-10-14T13:36:40.321433Z"
    },
    "execution": {
     "iopub.execute_input": "2021-10-25T19:00:44.828365Z",
     "iopub.status.busy": "2021-10-25T19:00:44.827524Z",
     "iopub.status.idle": "2021-10-25T19:00:44.855775Z",
     "shell.execute_reply": "2021-10-25T19:00:44.856251Z"
    },
    "hidden": true,
    "papermill": {
     "duration": 0.102225,
     "end_time": "2021-10-25T19:00:44.856409",
     "exception": false,
     "start_time": "2021-10-25T19:00:44.754184",
     "status": "completed"
    },
    "tags": []
   },
   "outputs": [],
   "source": [
    "drop_cols = ['invoice_no', 'stock_code', 'quantity', 'invoice_date', 'unit_price', 'country']\n",
    "df_ref = df3.drop(drop_cols, axis=1).drop_duplicates(ignore_index=True)"
   ]
  },
  {
   "cell_type": "code",
   "execution_count": 23,
   "id": "93e42a51",
   "metadata": {
    "ExecuteTime": {
     "end_time": "2021-10-14T13:36:40.414414Z",
     "start_time": "2021-10-14T13:36:40.381203Z"
    },
    "execution": {
     "iopub.execute_input": "2021-10-25T19:00:44.991328Z",
     "iopub.status.busy": "2021-10-25T19:00:44.990395Z",
     "iopub.status.idle": "2021-10-25T19:00:45.001335Z",
     "shell.execute_reply": "2021-10-25T19:00:45.001818Z"
    },
    "hidden": true,
    "papermill": {
     "duration": 0.080985,
     "end_time": "2021-10-25T19:00:45.001972",
     "exception": false,
     "start_time": "2021-10-25T19:00:44.920987",
     "status": "completed"
    },
    "tags": []
   },
   "outputs": [
    {
     "name": "stderr",
     "output_type": "stream",
     "text": [
      "/home/cid/.pyenv/versions/3.8.0/envs/clustering-high-value-customers-identification/lib/python3.8/site-packages/pandas/core/indexing.py:1773: SettingWithCopyWarning: \n",
      "A value is trying to be set on a copy of a slice from a DataFrame.\n",
      "Try using .loc[row_indexer,col_indexer] = value instead\n",
      "\n",
      "See the caveats in the documentation: https://pandas.pydata.org/pandas-docs/stable/user_guide/indexing.html#returning-a-view-versus-a-copy\n",
      "  self._setitem_single_column(ilocs[0], value, pi)\n"
     ]
    }
   ],
   "source": [
    "df2_purchases.loc[:, ['gross_revenue']] = (df2_purchases.loc[:, 'quantity'] * df2_purchases.loc[:, 'unit_price'])"
   ]
  },
  {
   "cell_type": "markdown",
   "id": "6b340b62",
   "metadata": {
    "ExecuteTime": {
     "end_time": "2021-08-09T16:49:44.138631Z",
     "start_time": "2021-08-09T16:49:44.131084Z"
    },
    "heading_collapsed": true,
    "hidden": true,
    "papermill": {
     "duration": 0.06582,
     "end_time": "2021-10-25T19:00:45.132766",
     "exception": false,
     "start_time": "2021-10-25T19:00:45.066946",
     "status": "completed"
    },
    "tags": []
   },
   "source": [
    "### 3.1.1. Gross Revenue"
   ]
  },
  {
   "cell_type": "code",
   "execution_count": 24,
   "id": "485f6c6e",
   "metadata": {
    "ExecuteTime": {
     "end_time": "2021-10-14T13:36:40.531847Z",
     "start_time": "2021-10-14T13:36:40.416587Z"
    },
    "execution": {
     "iopub.execute_input": "2021-10-25T19:00:45.269022Z",
     "iopub.status.busy": "2021-10-25T19:00:45.267820Z",
     "iopub.status.idle": "2021-10-25T19:00:45.353168Z",
     "shell.execute_reply": "2021-10-25T19:00:45.353690Z"
    },
    "hidden": true,
    "papermill": {
     "duration": 0.157049,
     "end_time": "2021-10-25T19:00:45.353858",
     "exception": false,
     "start_time": "2021-10-25T19:00:45.196809",
     "status": "completed"
    },
    "tags": []
   },
   "outputs": [
    {
     "data": {
      "text/plain": [
       "customer_id       0\n",
       "gross_revenue    92\n",
       "dtype: int64"
      ]
     },
     "execution_count": 24,
     "metadata": {},
     "output_type": "execute_result"
    }
   ],
   "source": [
    "df_monetary = df2_purchases.loc[:, ['customer_id', 'gross_revenue']].groupby('customer_id').sum().reset_index() # .rename(columns={'gross_revenue': 'monetary'})\n",
    "df_ref = pd.merge(df_ref, df_monetary, how='left', on='customer_id')\n",
    "df_ref.isna().sum()"
   ]
  },
  {
   "cell_type": "markdown",
   "id": "39634d79",
   "metadata": {
    "ExecuteTime": {
     "end_time": "2021-08-09T16:49:44.138631Z",
     "start_time": "2021-08-09T16:49:44.131084Z"
    },
    "heading_collapsed": true,
    "hidden": true,
    "papermill": {
     "duration": 0.064964,
     "end_time": "2021-10-25T19:00:45.484471",
     "exception": false,
     "start_time": "2021-10-25T19:00:45.419507",
     "status": "completed"
    },
    "tags": []
   },
   "source": [
    "### 3.1.2. Recency"
   ]
  },
  {
   "cell_type": "code",
   "execution_count": 25,
   "id": "86e6efcc",
   "metadata": {
    "ExecuteTime": {
     "end_time": "2021-10-14T13:36:40.612084Z",
     "start_time": "2021-10-14T13:36:40.535556Z"
    },
    "execution": {
     "iopub.execute_input": "2021-10-25T19:00:45.622323Z",
     "iopub.status.busy": "2021-10-25T19:00:45.621497Z",
     "iopub.status.idle": "2021-10-25T19:00:45.650559Z",
     "shell.execute_reply": "2021-10-25T19:00:45.651032Z"
    },
    "hidden": true,
    "papermill": {
     "duration": 0.102757,
     "end_time": "2021-10-25T19:00:45.651202",
     "exception": false,
     "start_time": "2021-10-25T19:00:45.548445",
     "status": "completed"
    },
    "tags": []
   },
   "outputs": [
    {
     "data": {
      "text/plain": [
       "customer_id       0\n",
       "gross_revenue    92\n",
       "recency_days     92\n",
       "dtype: int64"
      ]
     },
     "execution_count": 25,
     "metadata": {},
     "output_type": "execute_result"
    }
   ],
   "source": [
    "df_recency = df2_purchases.loc[:, ['customer_id', 'invoice_date']].groupby('customer_id').max().reset_index()\n",
    "df_recency['recency_days'] = (df_recency['invoice_date'].max() - df_recency['invoice_date']).dt.days\n",
    "df_ref = pd.merge(df_ref, df_recency[['customer_id', 'recency_days']], how='left', on='customer_id')\n",
    "\n",
    "df_ref.isna().sum()"
   ]
  },
  {
   "cell_type": "markdown",
   "id": "25bdfbc6",
   "metadata": {
    "ExecuteTime": {
     "end_time": "2021-08-09T16:49:44.138631Z",
     "start_time": "2021-08-09T16:49:44.131084Z"
    },
    "heading_collapsed": true,
    "hidden": true,
    "papermill": {
     "duration": 0.066307,
     "end_time": "2021-10-25T19:00:45.787229",
     "exception": false,
     "start_time": "2021-10-25T19:00:45.720922",
     "status": "completed"
    },
    "tags": []
   },
   "source": [
    "### 3.1.3. Quatily of purchased"
   ]
  },
  {
   "cell_type": "code",
   "execution_count": 26,
   "id": "f95c9fd1",
   "metadata": {
    "ExecuteTime": {
     "end_time": "2021-10-14T13:36:40.729714Z",
     "start_time": "2021-10-14T13:36:40.614462Z"
    },
    "execution": {
     "iopub.execute_input": "2021-10-25T19:00:45.936667Z",
     "iopub.status.busy": "2021-10-25T19:00:45.935948Z",
     "iopub.status.idle": "2021-10-25T19:00:46.012094Z",
     "shell.execute_reply": "2021-10-25T19:00:46.012915Z"
    },
    "hidden": true,
    "papermill": {
     "duration": 0.159892,
     "end_time": "2021-10-25T19:00:46.013221",
     "exception": false,
     "start_time": "2021-10-25T19:00:45.853329",
     "status": "completed"
    },
    "tags": []
   },
   "outputs": [
    {
     "data": {
      "text/plain": [
       "customer_id       0\n",
       "gross_revenue    92\n",
       "recency_days     92\n",
       "qtde_invoices    92\n",
       "dtype: int64"
      ]
     },
     "execution_count": 26,
     "metadata": {},
     "output_type": "execute_result"
    }
   ],
   "source": [
    "df_freq = df2_purchases[['customer_id', 'invoice_no']].drop_duplicates().groupby('customer_id').count().reset_index().\\\n",
    "rename(columns={'invoice_no': 'qtde_invoices'})\n",
    "\n",
    "df_ref = pd.merge(df_ref, df_freq, how='left', on='customer_id')\n",
    "df_ref.isna().sum()"
   ]
  },
  {
   "cell_type": "markdown",
   "id": "a2f4d7c7",
   "metadata": {
    "heading_collapsed": true,
    "hidden": true,
    "papermill": {
     "duration": 0.075108,
     "end_time": "2021-10-25T19:00:46.160033",
     "exception": false,
     "start_time": "2021-10-25T19:00:46.084925",
     "status": "completed"
    },
    "tags": []
   },
   "source": [
    "### 3.1.4. Quantity total of items purchased"
   ]
  },
  {
   "cell_type": "code",
   "execution_count": 27,
   "id": "a59a9d62",
   "metadata": {
    "ExecuteTime": {
     "end_time": "2021-10-14T13:36:40.802595Z",
     "start_time": "2021-10-14T13:36:40.733776Z"
    },
    "execution": {
     "iopub.execute_input": "2021-10-25T19:00:46.321446Z",
     "iopub.status.busy": "2021-10-25T19:00:46.312466Z",
     "iopub.status.idle": "2021-10-25T19:00:46.348089Z",
     "shell.execute_reply": "2021-10-25T19:00:46.348565Z"
    },
    "hidden": true,
    "papermill": {
     "duration": 0.114042,
     "end_time": "2021-10-25T19:00:46.348721",
     "exception": false,
     "start_time": "2021-10-25T19:00:46.234679",
     "status": "completed"
    },
    "tags": []
   },
   "outputs": [
    {
     "data": {
      "text/plain": [
       "customer_id       0\n",
       "gross_revenue    92\n",
       "recency_days     92\n",
       "qtde_invoices    92\n",
       "qtde_items       92\n",
       "dtype: int64"
      ]
     },
     "execution_count": 27,
     "metadata": {},
     "output_type": "execute_result"
    }
   ],
   "source": [
    "df_freq = (df2_purchases.loc[:, ['customer_id', 'quantity']].groupby('customer_id')\n",
    "                                                            .sum()\n",
    "                                                            .reset_index()\n",
    "                                                            .rename(columns={'quantity': 'qtde_items'}))\n",
    "df_ref = pd.merge(df_ref, df_freq, how='left', on='customer_id')\n",
    "df_ref.isna().sum()"
   ]
  },
  {
   "cell_type": "markdown",
   "id": "410ffb81",
   "metadata": {
    "ExecuteTime": {
     "end_time": "2021-08-12T13:29:13.252634Z",
     "start_time": "2021-08-12T13:29:13.237186Z"
    },
    "heading_collapsed": true,
    "hidden": true,
    "papermill": {
     "duration": 0.205645,
     "end_time": "2021-10-25T19:00:46.625692",
     "exception": false,
     "start_time": "2021-10-25T19:00:46.420047",
     "status": "completed"
    },
    "tags": []
   },
   "source": [
    "### 3.1.5. Quantity of products purchased"
   ]
  },
  {
   "cell_type": "code",
   "execution_count": 28,
   "id": "81686ba1",
   "metadata": {
    "ExecuteTime": {
     "end_time": "2021-10-14T13:36:40.920307Z",
     "start_time": "2021-10-14T13:36:40.813833Z"
    },
    "execution": {
     "iopub.execute_input": "2021-10-25T19:00:46.817885Z",
     "iopub.status.busy": "2021-10-25T19:00:46.812337Z",
     "iopub.status.idle": "2021-10-25T19:00:46.875300Z",
     "shell.execute_reply": "2021-10-25T19:00:46.875778Z"
    },
    "hidden": true,
    "papermill": {
     "duration": 0.142084,
     "end_time": "2021-10-25T19:00:46.875933",
     "exception": false,
     "start_time": "2021-10-25T19:00:46.733849",
     "status": "completed"
    },
    "tags": []
   },
   "outputs": [
    {
     "data": {
      "text/plain": [
       "customer_id       0\n",
       "gross_revenue    92\n",
       "recency_days     92\n",
       "qtde_invoices    92\n",
       "qtde_items       92\n",
       "qtde_products    92\n",
       "dtype: int64"
      ]
     },
     "execution_count": 28,
     "metadata": {},
     "output_type": "execute_result"
    }
   ],
   "source": [
    "df_freq = ( df2_purchases.loc[:, ['customer_id', 'stock_code']].groupby('customer_id')\n",
    "                                                               .count()\n",
    "                                                               .reset_index()\n",
    "                                                               .rename(columns={'stock_code': 'qtde_products'}))\n",
    "df_ref = pd.merge(df_ref, df_freq, how='left', on='customer_id')\n",
    "df_ref.isna().sum()"
   ]
  },
  {
   "cell_type": "markdown",
   "id": "0bbbf7fe",
   "metadata": {
    "ExecuteTime": {
     "end_time": "2021-08-09T16:49:44.138631Z",
     "start_time": "2021-08-09T16:49:44.131084Z"
    },
    "heading_collapsed": true,
    "hidden": true,
    "papermill": {
     "duration": 0.079395,
     "end_time": "2021-10-25T19:00:47.030495",
     "exception": false,
     "start_time": "2021-10-25T19:00:46.951100",
     "status": "completed"
    },
    "tags": []
   },
   "source": [
    "### 3.1.6. Average Ticket"
   ]
  },
  {
   "cell_type": "code",
   "execution_count": 29,
   "id": "d2d0eed6",
   "metadata": {
    "ExecuteTime": {
     "end_time": "2021-10-14T13:36:40.983403Z",
     "start_time": "2021-10-14T13:36:40.924527Z"
    },
    "execution": {
     "iopub.execute_input": "2021-10-25T19:00:47.188809Z",
     "iopub.status.busy": "2021-10-25T19:00:47.188134Z",
     "iopub.status.idle": "2021-10-25T19:00:47.225548Z",
     "shell.execute_reply": "2021-10-25T19:00:47.226426Z"
    },
    "hidden": true,
    "papermill": {
     "duration": 0.120881,
     "end_time": "2021-10-25T19:00:47.226737",
     "exception": false,
     "start_time": "2021-10-25T19:00:47.105856",
     "status": "completed"
    },
    "tags": []
   },
   "outputs": [
    {
     "data": {
      "text/plain": [
       "customer_id       0\n",
       "gross_revenue    92\n",
       "recency_days     92\n",
       "qtde_invoices    92\n",
       "qtde_items       92\n",
       "qtde_products    92\n",
       "avg_ticket       92\n",
       "dtype: int64"
      ]
     },
     "execution_count": 29,
     "metadata": {},
     "output_type": "execute_result"
    }
   ],
   "source": [
    "df_avg_ticket =  (df2_purchases.loc[:, ['customer_id','gross_revenue']].groupby('customer_id')\n",
    "                                                                       .mean()\n",
    "                                                                       .reset_index()\n",
    "                                                                       .rename(columns={'gross_revenue': 'avg_ticket'}))\n",
    "\n",
    "df_ref = pd.merge(df_ref, df_avg_ticket, how='left', on='customer_id')\n",
    "\n",
    "df_ref.isna().sum()"
   ]
  },
  {
   "cell_type": "markdown",
   "id": "9c33c58d",
   "metadata": {
    "heading_collapsed": true,
    "hidden": true,
    "papermill": {
     "duration": 0.106299,
     "end_time": "2021-10-25T19:00:47.442100",
     "exception": false,
     "start_time": "2021-10-25T19:00:47.335801",
     "status": "completed"
    },
    "tags": []
   },
   "source": [
    "### 3.1.7. Average Recency Days"
   ]
  },
  {
   "cell_type": "code",
   "execution_count": 30,
   "id": "bd3c3af6",
   "metadata": {
    "ExecuteTime": {
     "end_time": "2021-10-14T13:36:40.990919Z",
     "start_time": "2021-10-14T13:36:40.985431Z"
    },
    "execution": {
     "iopub.execute_input": "2021-10-25T19:00:47.615205Z",
     "iopub.status.busy": "2021-10-25T19:00:47.613719Z",
     "iopub.status.idle": "2021-10-25T19:00:47.617726Z",
     "shell.execute_reply": "2021-10-25T19:00:47.617203Z"
    },
    "hidden": true,
    "papermill": {
     "duration": 0.083698,
     "end_time": "2021-10-25T19:00:47.617858",
     "exception": false,
     "start_time": "2021-10-25T19:00:47.534160",
     "status": "completed"
    },
    "tags": []
   },
   "outputs": [],
   "source": [
    "# df_aux = df2[['customer_id', 'invoice_date']].drop_duplicates().sort_values(['customer_id', 'invoice_date'], ascending=[False, False])\n",
    "# df_aux['next_customer_id'] = df_aux['customer_id'].shift()\n",
    "# df_aux['previus_date'] = df_aux['invoice_date'].shift()\n",
    "\n",
    "# df_aux['avg_recency_days'] = df_aux.apply( lambda x: (x['invoice_date'] - x['previus_date']).days if x['customer_id'] == x['next_customer_id'] else np.nan, axis=1)\n",
    "# df_aux['avg_recency_days'] = df_aux['avg_recency_days'] * -1\n",
    "# df_aux = df_aux.drop(columns=['invoice_date', 'next_customer_id', 'previus_date'], axis=1).dropna()\n",
    "\n",
    "# df_avg_recency_days = df_aux.groupby( 'customer_id' ).mean().reset_index()\n",
    "\n",
    "# df_ref = pd.merge(df_ref, df_avg_recency_days, on='customer_id', how='left')\n",
    "# df_ref.isna().sum()"
   ]
  },
  {
   "cell_type": "markdown",
   "id": "922407e6",
   "metadata": {
    "heading_collapsed": true,
    "hidden": true,
    "papermill": {
     "duration": 0.069659,
     "end_time": "2021-10-25T19:00:47.760057",
     "exception": false,
     "start_time": "2021-10-25T19:00:47.690398",
     "status": "completed"
    },
    "tags": []
   },
   "source": [
    "### 3.1.8. Frequency Purchase"
   ]
  },
  {
   "cell_type": "code",
   "execution_count": 31,
   "id": "ecf5a5d7",
   "metadata": {
    "ExecuteTime": {
     "end_time": "2021-10-14T13:36:43.256129Z",
     "start_time": "2021-10-14T13:36:40.995637Z"
    },
    "execution": {
     "iopub.execute_input": "2021-10-25T19:00:47.958248Z",
     "iopub.status.busy": "2021-10-25T19:00:47.956402Z",
     "iopub.status.idle": "2021-10-25T19:00:50.587994Z",
     "shell.execute_reply": "2021-10-25T19:00:50.588478Z"
    },
    "hidden": true,
    "papermill": {
     "duration": 2.75947,
     "end_time": "2021-10-25T19:00:50.588639",
     "exception": false,
     "start_time": "2021-10-25T19:00:47.829169",
     "status": "completed"
    },
    "tags": []
   },
   "outputs": [
    {
     "data": {
      "text/plain": [
       "customer_id       0\n",
       "gross_revenue    92\n",
       "recency_days     92\n",
       "qtde_invoices    92\n",
       "qtde_items       92\n",
       "qtde_products    92\n",
       "avg_ticket       92\n",
       "frequency        92\n",
       "dtype: int64"
      ]
     },
     "execution_count": 31,
     "metadata": {},
     "output_type": "execute_result"
    }
   ],
   "source": [
    "df_aux = (df2_purchases[['customer_id', 'invoice_no', 'invoice_date']].drop_duplicates()\n",
    "                                                 .groupby('customer_id')\n",
    "                                                 .agg( max_ = ('invoice_date', 'max'),\n",
    "                                                       min_ = ('invoice_date', 'min'),\n",
    "                                                       days = ('invoice_date', lambda x: ((x.max() - x.min()).days) + 1 ),\n",
    "                                                       buy_ = ( 'invoice_no', 'count' ))).reset_index()\n",
    "\n",
    "df_aux['frequency'] = df_aux[['buy_', 'days']].apply( lambda x: x['buy_'] / x['days'] if x['days'] != 0 else 0, axis=1 )\n",
    "\n",
    "df_ref = pd.merge(df_ref, df_aux[['customer_id', 'frequency']], on='customer_id', how='left')\n",
    "df_ref.isna().sum()"
   ]
  },
  {
   "cell_type": "markdown",
   "id": "a90650fd",
   "metadata": {
    "heading_collapsed": true,
    "hidden": true,
    "papermill": {
     "duration": 0.084983,
     "end_time": "2021-10-25T19:00:50.766851",
     "exception": false,
     "start_time": "2021-10-25T19:00:50.681868",
     "status": "completed"
    },
    "tags": []
   },
   "source": [
    "### 3.1.9. Number Or Returns"
   ]
  },
  {
   "cell_type": "code",
   "execution_count": 32,
   "id": "fc6071ef",
   "metadata": {
    "ExecuteTime": {
     "end_time": "2021-10-14T13:36:43.313007Z",
     "start_time": "2021-10-14T13:36:43.265537Z"
    },
    "execution": {
     "iopub.execute_input": "2021-10-25T19:00:50.958866Z",
     "iopub.status.busy": "2021-10-25T19:00:50.956988Z",
     "iopub.status.idle": "2021-10-25T19:00:50.979212Z",
     "shell.execute_reply": "2021-10-25T19:00:50.979830Z"
    },
    "hidden": true,
    "papermill": {
     "duration": 0.122808,
     "end_time": "2021-10-25T19:00:50.980021",
     "exception": false,
     "start_time": "2021-10-25T19:00:50.857213",
     "status": "completed"
    },
    "tags": []
   },
   "outputs": [
    {
     "data": {
      "text/plain": [
       "customer_id       0\n",
       "gross_revenue    92\n",
       "recency_days     92\n",
       "qtde_invoices    92\n",
       "qtde_items       92\n",
       "qtde_products    92\n",
       "avg_ticket       92\n",
       "frequency        92\n",
       "qtde_returns      0\n",
       "dtype: int64"
      ]
     },
     "execution_count": 32,
     "metadata": {},
     "output_type": "execute_result"
    }
   ],
   "source": [
    "df_returns = df2_returns[['quantity', 'customer_id']].groupby('customer_id').sum().reset_index().rename(columns={'quantity': 'qtde_returns'})\n",
    "df_returns['qtde_returns'] = df_returns['qtde_returns'] * -1\n",
    "\n",
    "df_ref = pd.merge(df_ref, df_returns, on='customer_id', how='left')\n",
    "df_ref['qtde_returns'].fillna(0, inplace=True)\n",
    "df_ref.isna().sum()"
   ]
  },
  {
   "cell_type": "markdown",
   "id": "83a0383f",
   "metadata": {
    "heading_collapsed": true,
    "hidden": true,
    "papermill": {
     "duration": 0.099528,
     "end_time": "2021-10-25T19:00:51.166409",
     "exception": false,
     "start_time": "2021-10-25T19:00:51.066881",
     "status": "completed"
    },
    "tags": []
   },
   "source": [
    "### 3.1.10. Basket Size"
   ]
  },
  {
   "cell_type": "code",
   "execution_count": 33,
   "id": "f823e35f",
   "metadata": {
    "ExecuteTime": {
     "end_time": "2021-10-14T13:36:43.482146Z",
     "start_time": "2021-10-14T13:36:43.315897Z"
    },
    "execution": {
     "iopub.execute_input": "2021-10-25T19:00:51.359760Z",
     "iopub.status.busy": "2021-10-25T19:00:51.358698Z",
     "iopub.status.idle": "2021-10-25T19:00:51.469546Z",
     "shell.execute_reply": "2021-10-25T19:00:51.470039Z"
    },
    "hidden": true,
    "papermill": {
     "duration": 0.217188,
     "end_time": "2021-10-25T19:00:51.470206",
     "exception": false,
     "start_time": "2021-10-25T19:00:51.253018",
     "status": "completed"
    },
    "tags": []
   },
   "outputs": [
    {
     "data": {
      "text/plain": [
       "customer_id         0\n",
       "gross_revenue      92\n",
       "recency_days       92\n",
       "qtde_invoices      92\n",
       "qtde_items         92\n",
       "qtde_products      92\n",
       "avg_ticket         92\n",
       "frequency          92\n",
       "qtde_returns        0\n",
       "avg_basket_size    92\n",
       "dtype: int64"
      ]
     },
     "execution_count": 33,
     "metadata": {},
     "output_type": "execute_result"
    }
   ],
   "source": [
    "df_aux = (df2_purchases[['customer_id', 'invoice_no', 'quantity']].groupby('customer_id')\n",
    "                                                                   .agg( n_purchase=('invoice_no', 'nunique'),\n",
    "                                                                         n_products=('quantity', 'sum'))).reset_index()\n",
    "df_aux['avg_basket_size'] = df_aux['n_products'] / df_aux['n_purchase']\n",
    "df_ref = pd.merge(df_ref, df_aux[['avg_basket_size', 'customer_id']], on='customer_id', how='left')\n",
    "df_ref.isna().sum()"
   ]
  },
  {
   "cell_type": "markdown",
   "id": "308da526",
   "metadata": {
    "heading_collapsed": true,
    "hidden": true,
    "papermill": {
     "duration": 0.086256,
     "end_time": "2021-10-25T19:00:51.652115",
     "exception": false,
     "start_time": "2021-10-25T19:00:51.565859",
     "status": "completed"
    },
    "tags": []
   },
   "source": [
    "### 3.1.11. Unique Basket Size"
   ]
  },
  {
   "cell_type": "code",
   "execution_count": 34,
   "id": "e81c5029",
   "metadata": {
    "ExecuteTime": {
     "end_time": "2021-10-14T13:36:43.853001Z",
     "start_time": "2021-10-14T13:36:43.485591Z"
    },
    "execution": {
     "iopub.execute_input": "2021-10-25T19:00:51.851244Z",
     "iopub.status.busy": "2021-10-25T19:00:51.850063Z",
     "iopub.status.idle": "2021-10-25T19:00:52.163793Z",
     "shell.execute_reply": "2021-10-25T19:00:52.164284Z"
    },
    "hidden": true,
    "papermill": {
     "duration": 0.417648,
     "end_time": "2021-10-25T19:00:52.164451",
     "exception": false,
     "start_time": "2021-10-25T19:00:51.746803",
     "status": "completed"
    },
    "scrolled": true,
    "tags": []
   },
   "outputs": [
    {
     "data": {
      "text/plain": [
       "customer_id                0\n",
       "gross_revenue             92\n",
       "recency_days              92\n",
       "qtde_invoices             92\n",
       "qtde_items                92\n",
       "qtde_products             92\n",
       "avg_ticket                92\n",
       "frequency                 92\n",
       "qtde_returns               0\n",
       "avg_basket_size           92\n",
       "avg_unique_basket_size    92\n",
       "dtype: int64"
      ]
     },
     "execution_count": 34,
     "metadata": {},
     "output_type": "execute_result"
    }
   ],
   "source": [
    "df_aux = (df2_purchases.loc[:, ['customer_id', 'invoice_no', 'stock_code']].groupby( 'customer_id' )\n",
    "                                                                         .agg(n_purchase=('invoice_no', 'nunique'),\n",
    "                                                                              n_products=('stock_code', 'nunique'))).reset_index()\n",
    "df_aux['avg_unique_basket_size'] = df_aux['n_products'] / df_aux['n_purchase']\n",
    "\n",
    "df_ref = pd.merge(df_ref, df_aux[['avg_unique_basket_size', 'customer_id']], on='customer_id', how='left')\n",
    "df_ref.isna().sum()"
   ]
  },
  {
   "cell_type": "markdown",
   "id": "5e87e47c",
   "metadata": {
    "papermill": {
     "duration": 0.100452,
     "end_time": "2021-10-25T19:00:52.355990",
     "exception": false,
     "start_time": "2021-10-25T19:00:52.255538",
     "status": "completed"
    },
    "tags": []
   },
   "source": [
    "# 4.0. EDA  "
   ]
  },
  {
   "cell_type": "code",
   "execution_count": 35,
   "id": "aac53260",
   "metadata": {
    "ExecuteTime": {
     "end_time": "2021-10-14T13:36:43.872757Z",
     "start_time": "2021-10-14T13:36:43.856756Z"
    },
    "execution": {
     "iopub.execute_input": "2021-10-25T19:00:52.551869Z",
     "iopub.status.busy": "2021-10-25T19:00:52.550762Z",
     "iopub.status.idle": "2021-10-25T19:00:52.559497Z",
     "shell.execute_reply": "2021-10-25T19:00:52.561316Z"
    },
    "papermill": {
     "duration": 0.110365,
     "end_time": "2021-10-25T19:00:52.561727",
     "exception": false,
     "start_time": "2021-10-25T19:00:52.451362",
     "status": "completed"
    },
    "tags": []
   },
   "outputs": [],
   "source": [
    "df_ref = df_ref.dropna()\n",
    "\n",
    "df4 = df_ref.copy()"
   ]
  },
  {
   "cell_type": "markdown",
   "id": "750cdf49",
   "metadata": {
    "papermill": {
     "duration": 0.091229,
     "end_time": "2021-10-25T19:00:52.750440",
     "exception": false,
     "start_time": "2021-10-25T19:00:52.659211",
     "status": "completed"
    },
    "tags": []
   },
   "source": [
    "## 4.3. Space Study"
   ]
  },
  {
   "cell_type": "code",
   "execution_count": 36,
   "id": "8bdf11fc",
   "metadata": {
    "ExecuteTime": {
     "end_time": "2021-10-14T13:36:43.908716Z",
     "start_time": "2021-10-14T13:36:43.877974Z"
    },
    "execution": {
     "iopub.execute_input": "2021-10-25T19:00:52.945393Z",
     "iopub.status.busy": "2021-10-25T19:00:52.943930Z",
     "iopub.status.idle": "2021-10-25T19:00:52.954293Z",
     "shell.execute_reply": "2021-10-25T19:00:52.954755Z"
    },
    "papermill": {
     "duration": 0.115577,
     "end_time": "2021-10-25T19:00:52.954923",
     "exception": false,
     "start_time": "2021-10-25T19:00:52.839346",
     "status": "completed"
    },
    "tags": []
   },
   "outputs": [],
   "source": [
    "# select dataser\n",
    "cols_selected = ['customer_id', 'gross_revenue', 'recency_days', 'qtde_products', 'frequency', 'qtde_returns']\n",
    "df43 = df4[cols_selected].copy()\n",
    "\n",
    "mms = pp.MinMaxScaler()\n",
    "\n",
    "df43['gross_revenue'] = mms.fit_transform( df43[['gross_revenue']].values )\n",
    "df43['recency_days'] = mms.fit_transform( df43[['recency_days']].values )\n",
    "df43['qtde_products'] = mms.fit_transform( df43[['qtde_products']].values )\n",
    "df43['frequency'] = mms.fit_transform( df43[['frequency']].values )\n",
    "df43['qtde_returns'] = mms.fit_transform( df43[['qtde_returns']].values )"
   ]
  },
  {
   "cell_type": "markdown",
   "id": "47b38921",
   "metadata": {
    "papermill": {
     "duration": 0.08722,
     "end_time": "2021-10-25T19:00:53.134141",
     "exception": false,
     "start_time": "2021-10-25T19:00:53.046921",
     "status": "completed"
    },
    "tags": []
   },
   "source": [
    "### 4.3.4. Tree-Based Embbedding"
   ]
  },
  {
   "cell_type": "code",
   "execution_count": 37,
   "id": "77ad5bfc",
   "metadata": {
    "ExecuteTime": {
     "end_time": "2021-10-14T13:37:19.945697Z",
     "start_time": "2021-10-14T13:36:43.913489Z"
    },
    "execution": {
     "iopub.execute_input": "2021-10-25T19:00:53.332301Z",
     "iopub.status.busy": "2021-10-25T19:00:53.331545Z",
     "iopub.status.idle": "2021-10-25T19:01:34.460265Z",
     "shell.execute_reply": "2021-10-25T19:01:34.458210Z"
    },
    "papermill": {
     "duration": 41.23091,
     "end_time": "2021-10-25T19:01:34.460838",
     "exception": false,
     "start_time": "2021-10-25T19:00:53.229928",
     "status": "completed"
    },
    "tags": []
   },
   "outputs": [
    {
     "name": "stderr",
     "output_type": "stream",
     "text": [
      "/home/cid/.pyenv/versions/3.8.0/envs/clustering-high-value-customers-identification/lib/python3.8/site-packages/sklearn/manifold/_spectral_embedding.py:245: UserWarning: Graph is not fully connected, spectral embedding may not work as expected.\n",
      "  warnings.warn(\"Graph is not fully connected, spectral embedding\"\n"
     ]
    }
   ],
   "source": [
    "X = df43.drop(columns=['customer_id', 'gross_revenue'])\n",
    "y = df43['gross_revenue']\n",
    "\n",
    "# model training\n",
    "rf_model = en.RandomForestRegressor( n_estimators=100, random_state=42 )\n",
    "\n",
    "# model training definition\n",
    "rf_model.fit( X, y)\n",
    "\n",
    "#  leaf\n",
    "df_leaf = pd.DataFrame( rf_model.apply( X ) )\n",
    "\n",
    "# create dataframe tree\n",
    "df_tree = pd.DataFrame()\n",
    "\n",
    "# reduzer dimensionality\n",
    "reducer = UMAP(random_state=42)\n",
    "embedding = reducer.fit_transform( df_leaf )\n",
    "\n",
    "# embedding\n",
    "df_tree['embedding_x'] = embedding[:, 0]\n",
    "df_tree['embedding_y'] = embedding[:, 1]"
   ]
  },
  {
   "cell_type": "markdown",
   "id": "87741823",
   "metadata": {
    "papermill": {
     "duration": 0.095731,
     "end_time": "2021-10-25T19:01:34.647149",
     "exception": false,
     "start_time": "2021-10-25T19:01:34.551418",
     "status": "completed"
    },
    "tags": []
   },
   "source": [
    "# 5.0. Data Preparation"
   ]
  },
  {
   "cell_type": "code",
   "execution_count": 38,
   "id": "45d6888e",
   "metadata": {
    "ExecuteTime": {
     "end_time": "2021-10-14T13:37:19.962485Z",
     "start_time": "2021-10-14T13:37:19.947969Z"
    },
    "execution": {
     "iopub.execute_input": "2021-10-25T19:01:34.848852Z",
     "iopub.status.busy": "2021-10-25T19:01:34.847741Z",
     "iopub.status.idle": "2021-10-25T19:01:34.850243Z",
     "shell.execute_reply": "2021-10-25T19:01:34.850725Z"
    },
    "papermill": {
     "duration": 0.111656,
     "end_time": "2021-10-25T19:01:34.850902",
     "exception": false,
     "start_time": "2021-10-25T19:01:34.739246",
     "status": "completed"
    },
    "tags": []
   },
   "outputs": [],
   "source": [
    "df5 = df_tree.copy()\n",
    "# df5.to_csv( '../src/data/tree_based_embedding.csv', index=False )"
   ]
  },
  {
   "cell_type": "markdown",
   "id": "102e3348",
   "metadata": {
    "papermill": {
     "duration": 0.088231,
     "end_time": "2021-10-25T19:01:35.036394",
     "exception": false,
     "start_time": "2021-10-25T19:01:34.948163",
     "status": "completed"
    },
    "tags": []
   },
   "source": [
    "# 7.0. Hyperpameter Fine Tuning"
   ]
  },
  {
   "cell_type": "code",
   "execution_count": 39,
   "id": "7339f801",
   "metadata": {
    "ExecuteTime": {
     "end_time": "2021-10-14T13:37:19.998318Z",
     "start_time": "2021-10-14T13:37:19.966499Z"
    },
    "execution": {
     "iopub.execute_input": "2021-10-25T19:01:35.224838Z",
     "iopub.status.busy": "2021-10-25T19:01:35.223077Z",
     "iopub.status.idle": "2021-10-25T19:01:35.231910Z",
     "shell.execute_reply": "2021-10-25T19:01:35.232405Z"
    },
    "papermill": {
     "duration": 0.10508,
     "end_time": "2021-10-25T19:01:35.232570",
     "exception": false,
     "start_time": "2021-10-25T19:01:35.127490",
     "status": "completed"
    },
    "tags": []
   },
   "outputs": [
    {
     "data": {
      "text/html": [
       "<div>\n",
       "<style scoped>\n",
       "    .dataframe tbody tr th:only-of-type {\n",
       "        vertical-align: middle;\n",
       "    }\n",
       "\n",
       "    .dataframe tbody tr th {\n",
       "        vertical-align: top;\n",
       "    }\n",
       "\n",
       "    .dataframe thead th {\n",
       "        text-align: right;\n",
       "    }\n",
       "</style>\n",
       "<table border=\"1\" class=\"dataframe\">\n",
       "  <thead>\n",
       "    <tr style=\"text-align: right;\">\n",
       "      <th></th>\n",
       "      <th>embedding_x</th>\n",
       "      <th>embedding_y</th>\n",
       "    </tr>\n",
       "  </thead>\n",
       "  <tbody>\n",
       "    <tr>\n",
       "      <th>0</th>\n",
       "      <td>17.881968</td>\n",
       "      <td>14.895823</td>\n",
       "    </tr>\n",
       "    <tr>\n",
       "      <th>1</th>\n",
       "      <td>17.940453</td>\n",
       "      <td>12.172152</td>\n",
       "    </tr>\n",
       "    <tr>\n",
       "      <th>2</th>\n",
       "      <td>18.596876</td>\n",
       "      <td>12.517838</td>\n",
       "    </tr>\n",
       "    <tr>\n",
       "      <th>3</th>\n",
       "      <td>-6.055115</td>\n",
       "      <td>-13.710513</td>\n",
       "    </tr>\n",
       "    <tr>\n",
       "      <th>4</th>\n",
       "      <td>5.152057</td>\n",
       "      <td>18.690804</td>\n",
       "    </tr>\n",
       "  </tbody>\n",
       "</table>\n",
       "</div>"
      ],
      "text/plain": [
       "   embedding_x  embedding_y\n",
       "0    17.881968    14.895823\n",
       "1    17.940453    12.172152\n",
       "2    18.596876    12.517838\n",
       "3    -6.055115   -13.710513\n",
       "4     5.152057    18.690804"
      ]
     },
     "execution_count": 39,
     "metadata": {},
     "output_type": "execute_result"
    }
   ],
   "source": [
    "X = df5.copy()\n",
    "\n",
    "X.head()"
   ]
  },
  {
   "cell_type": "markdown",
   "id": "11fdb6f0",
   "metadata": {
    "papermill": {
     "duration": 0.096418,
     "end_time": "2021-10-25T19:01:35.419231",
     "exception": false,
     "start_time": "2021-10-25T19:01:35.322813",
     "status": "completed"
    },
    "tags": []
   },
   "source": [
    "# 8.0. Model Training"
   ]
  },
  {
   "cell_type": "code",
   "execution_count": 40,
   "id": "533f8854",
   "metadata": {
    "ExecuteTime": {
     "end_time": "2021-10-14T13:37:42.334232Z",
     "start_time": "2021-10-14T13:37:20.004499Z"
    },
    "execution": {
     "iopub.execute_input": "2021-10-25T19:01:35.612980Z",
     "iopub.status.busy": "2021-10-25T19:01:35.611519Z",
     "iopub.status.idle": "2021-10-25T19:01:57.380214Z",
     "shell.execute_reply": "2021-10-25T19:01:57.380711Z"
    },
    "papermill": {
     "duration": 21.874781,
     "end_time": "2021-10-25T19:01:57.380873",
     "exception": false,
     "start_time": "2021-10-25T19:01:35.506092",
     "status": "completed"
    },
    "tags": []
   },
   "outputs": [],
   "source": [
    "# model definition\n",
    "k = 8\n",
    "gmm_model = gm(n_components=k, n_init=100, random_state=42)\n",
    "\n",
    "# model training\n",
    "gmm_model.fit(X)\n",
    "\n",
    "# model predict\n",
    "labels = gmm_model.predict(X)"
   ]
  },
  {
   "cell_type": "markdown",
   "id": "12c0d7de",
   "metadata": {
    "papermill": {
     "duration": 0.086998,
     "end_time": "2021-10-25T19:01:57.581380",
     "exception": false,
     "start_time": "2021-10-25T19:01:57.494382",
     "status": "completed"
    },
    "tags": []
   },
   "source": [
    "## 8.2. Cluster Validation "
   ]
  },
  {
   "cell_type": "code",
   "execution_count": 41,
   "id": "5f531df6",
   "metadata": {
    "ExecuteTime": {
     "end_time": "2021-10-14T13:37:43.490692Z",
     "start_time": "2021-10-14T13:37:42.340864Z"
    },
    "execution": {
     "iopub.execute_input": "2021-10-25T19:01:57.771731Z",
     "iopub.status.busy": "2021-10-25T19:01:57.770145Z",
     "iopub.status.idle": "2021-10-25T19:01:58.945285Z",
     "shell.execute_reply": "2021-10-25T19:01:58.946251Z"
    },
    "papermill": {
     "duration": 1.273065,
     "end_time": "2021-10-25T19:01:58.946556",
     "exception": false,
     "start_time": "2021-10-25T19:01:57.673491",
     "status": "completed"
    },
    "tags": []
   },
   "outputs": [
    {
     "name": "stdout",
     "output_type": "stream",
     "text": [
      "SS value: 0.37607449293136597\n"
     ]
    }
   ],
   "source": [
    "print(\"SS value: {}\".format(metrics.silhouette_score( X, labels, metric='euclidean' )))"
   ]
  },
  {
   "cell_type": "markdown",
   "id": "a6b30a59",
   "metadata": {
    "papermill": {
     "duration": 0.089554,
     "end_time": "2021-10-25T19:01:59.127210",
     "exception": false,
     "start_time": "2021-10-25T19:01:59.037656",
     "status": "completed"
    },
    "tags": []
   },
   "source": [
    "# 9.0. Cluster Analysis"
   ]
  },
  {
   "cell_type": "code",
   "execution_count": 42,
   "id": "6a23bab5",
   "metadata": {
    "ExecuteTime": {
     "end_time": "2021-10-14T13:37:43.517390Z",
     "start_time": "2021-10-14T13:37:43.493742Z"
    },
    "execution": {
     "iopub.execute_input": "2021-10-25T19:01:59.327951Z",
     "iopub.status.busy": "2021-10-25T19:01:59.326570Z",
     "iopub.status.idle": "2021-10-25T19:01:59.333104Z",
     "shell.execute_reply": "2021-10-25T19:01:59.333587Z"
    },
    "papermill": {
     "duration": 0.115959,
     "end_time": "2021-10-25T19:01:59.333748",
     "exception": false,
     "start_time": "2021-10-25T19:01:59.217789",
     "status": "completed"
    },
    "tags": []
   },
   "outputs": [],
   "source": [
    "df92 = df4[cols_selected].copy()\n",
    "df92['cluster'] = labels\n",
    "\n",
    "# change dtypes\n",
    "df92['recency_days'] = df92['recency_days'].astype(int)\n",
    "df92['qtde_products'] = df92['qtde_products'].astype(int)\n",
    "df92['qtde_returns'] = df92['qtde_returns'].astype(int)"
   ]
  },
  {
   "cell_type": "markdown",
   "id": "b253d006",
   "metadata": {
    "papermill": {
     "duration": 0.088124,
     "end_time": "2021-10-25T19:01:59.510994",
     "exception": false,
     "start_time": "2021-10-25T19:01:59.422870",
     "status": "completed"
    },
    "tags": []
   },
   "source": [
    "## 9.2. Cluster Profile"
   ]
  },
  {
   "cell_type": "code",
   "execution_count": 43,
   "id": "b0ceaa89",
   "metadata": {
    "ExecuteTime": {
     "end_time": "2021-10-14T13:37:43.801894Z",
     "start_time": "2021-10-14T13:37:43.522471Z"
    },
    "execution": {
     "iopub.execute_input": "2021-10-25T19:01:59.708225Z",
     "iopub.status.busy": "2021-10-25T19:01:59.701439Z",
     "iopub.status.idle": "2021-10-25T19:01:59.894669Z",
     "shell.execute_reply": "2021-10-25T19:01:59.895156Z"
    },
    "papermill": {
     "duration": 0.29132,
     "end_time": "2021-10-25T19:01:59.895336",
     "exception": false,
     "start_time": "2021-10-25T19:01:59.604016",
     "status": "completed"
    },
    "tags": []
   },
   "outputs": [
    {
     "data": {
      "text/html": [
       "<style type=\"text/css\">\n",
       "#T_6f2ab_row0_col3, #T_6f2ab_row0_col5, #T_6f2ab_row0_col7, #T_6f2ab_row1_col0, #T_6f2ab_row5_col1, #T_6f2ab_row5_col2, #T_6f2ab_row5_col4, #T_6f2ab_row5_col6 {\n",
       "  background-color: lightgreen;\n",
       "}\n",
       "</style>\n",
       "<table id=\"T_6f2ab_\">\n",
       "  <thead>\n",
       "    <tr>\n",
       "      <th class=\"blank level0\" >&nbsp;</th>\n",
       "      <th class=\"col_heading level0 col0\" >cluster</th>\n",
       "      <th class=\"col_heading level0 col1\" >qt_users</th>\n",
       "      <th class=\"col_heading level0 col2\" >per_user</th>\n",
       "      <th class=\"col_heading level0 col3\" >gross_revenue</th>\n",
       "      <th class=\"col_heading level0 col4\" >recency_days</th>\n",
       "      <th class=\"col_heading level0 col5\" >qtde_products</th>\n",
       "      <th class=\"col_heading level0 col6\" >frequency</th>\n",
       "      <th class=\"col_heading level0 col7\" >qtde_returns</th>\n",
       "    </tr>\n",
       "  </thead>\n",
       "  <tbody>\n",
       "    <tr>\n",
       "      <th id=\"T_6f2ab_level0_row0\" class=\"row_heading level0 row0\" >0</th>\n",
       "      <td id=\"T_6f2ab_row0_col0\" class=\"data row0 col0\" >0</td>\n",
       "      <td id=\"T_6f2ab_row0_col1\" class=\"data row0 col1\" >918</td>\n",
       "      <td id=\"T_6f2ab_row0_col2\" class=\"data row0 col2\" >16.159127</td>\n",
       "      <td id=\"T_6f2ab_row0_col3\" class=\"data row0 col3\" >5890.422756</td>\n",
       "      <td id=\"T_6f2ab_row0_col4\" class=\"data row0 col4\" >55.006536</td>\n",
       "      <td id=\"T_6f2ab_row0_col5\" class=\"data row0 col5\" >292.521786</td>\n",
       "      <td id=\"T_6f2ab_row0_col6\" class=\"data row0 col6\" >0.202352</td>\n",
       "      <td id=\"T_6f2ab_row0_col7\" class=\"data row0 col7\" >162.967320</td>\n",
       "    </tr>\n",
       "    <tr>\n",
       "      <th id=\"T_6f2ab_level0_row1\" class=\"row_heading level0 row1\" >7</th>\n",
       "      <td id=\"T_6f2ab_row1_col0\" class=\"data row1 col0\" >7</td>\n",
       "      <td id=\"T_6f2ab_row1_col1\" class=\"data row1 col1\" >729</td>\n",
       "      <td id=\"T_6f2ab_row1_col2\" class=\"data row1 col2\" >12.832248</td>\n",
       "      <td id=\"T_6f2ab_row1_col3\" class=\"data row1 col3\" >2099.885254</td>\n",
       "      <td id=\"T_6f2ab_row1_col4\" class=\"data row1 col4\" >101.890261</td>\n",
       "      <td id=\"T_6f2ab_row1_col5\" class=\"data row1 col5\" >158.170096</td>\n",
       "      <td id=\"T_6f2ab_row1_col6\" class=\"data row1 col6\" >0.469244</td>\n",
       "      <td id=\"T_6f2ab_row1_col7\" class=\"data row1 col7\" >0.185185</td>\n",
       "    </tr>\n",
       "    <tr>\n",
       "      <th id=\"T_6f2ab_level0_row2\" class=\"row_heading level0 row2\" >3</th>\n",
       "      <td id=\"T_6f2ab_row2_col0\" class=\"data row2 col0\" >3</td>\n",
       "      <td id=\"T_6f2ab_row2_col1\" class=\"data row2 col1\" >363</td>\n",
       "      <td id=\"T_6f2ab_row2_col2\" class=\"data row2 col2\" >6.389720</td>\n",
       "      <td id=\"T_6f2ab_row2_col3\" class=\"data row2 col3\" >1167.181322</td>\n",
       "      <td id=\"T_6f2ab_row2_col4\" class=\"data row2 col4\" >61.900826</td>\n",
       "      <td id=\"T_6f2ab_row2_col5\" class=\"data row2 col5\" >57.005510</td>\n",
       "      <td id=\"T_6f2ab_row2_col6\" class=\"data row2 col6\" >0.027708</td>\n",
       "      <td id=\"T_6f2ab_row2_col7\" class=\"data row2 col7\" >9.991736</td>\n",
       "    </tr>\n",
       "    <tr>\n",
       "      <th id=\"T_6f2ab_level0_row3\" class=\"row_heading level0 row3\" >6</th>\n",
       "      <td id=\"T_6f2ab_row3_col0\" class=\"data row3 col0\" >6</td>\n",
       "      <td id=\"T_6f2ab_row3_col1\" class=\"data row3 col1\" >219</td>\n",
       "      <td id=\"T_6f2ab_row3_col2\" class=\"data row3 col2\" >3.854955</td>\n",
       "      <td id=\"T_6f2ab_row3_col3\" class=\"data row3 col3\" >959.385160</td>\n",
       "      <td id=\"T_6f2ab_row3_col4\" class=\"data row3 col4\" >81.625571</td>\n",
       "      <td id=\"T_6f2ab_row3_col5\" class=\"data row3 col5\" >38.721461</td>\n",
       "      <td id=\"T_6f2ab_row3_col6\" class=\"data row3 col6\" >0.232266</td>\n",
       "      <td id=\"T_6f2ab_row3_col7\" class=\"data row3 col7\" >11.292237</td>\n",
       "    </tr>\n",
       "    <tr>\n",
       "      <th id=\"T_6f2ab_level0_row4\" class=\"row_heading level0 row4\" >2</th>\n",
       "      <td id=\"T_6f2ab_row4_col0\" class=\"data row4 col0\" >2</td>\n",
       "      <td id=\"T_6f2ab_row4_col1\" class=\"data row4 col1\" >980</td>\n",
       "      <td id=\"T_6f2ab_row4_col2\" class=\"data row4 col2\" >17.250484</td>\n",
       "      <td id=\"T_6f2ab_row4_col3\" class=\"data row4 col3\" >928.779551</td>\n",
       "      <td id=\"T_6f2ab_row4_col4\" class=\"data row4 col4\" >146.681633</td>\n",
       "      <td id=\"T_6f2ab_row4_col5\" class=\"data row4 col5\" >51.101020</td>\n",
       "      <td id=\"T_6f2ab_row4_col6\" class=\"data row4 col6\" >0.751629</td>\n",
       "      <td id=\"T_6f2ab_row4_col7\" class=\"data row4 col7\" >5.207143</td>\n",
       "    </tr>\n",
       "    <tr>\n",
       "      <th id=\"T_6f2ab_level0_row5\" class=\"row_heading level0 row5\" >5</th>\n",
       "      <td id=\"T_6f2ab_row5_col0\" class=\"data row5 col0\" >5</td>\n",
       "      <td id=\"T_6f2ab_row5_col1\" class=\"data row5 col1\" >1046</td>\n",
       "      <td id=\"T_6f2ab_row5_col2\" class=\"data row5 col2\" >18.412251</td>\n",
       "      <td id=\"T_6f2ab_row5_col3\" class=\"data row5 col3\" >747.913948</td>\n",
       "      <td id=\"T_6f2ab_row5_col4\" class=\"data row5 col4\" >167.919694</td>\n",
       "      <td id=\"T_6f2ab_row5_col5\" class=\"data row5 col5\" >24.534417</td>\n",
       "      <td id=\"T_6f2ab_row5_col6\" class=\"data row5 col6\" >0.963410</td>\n",
       "      <td id=\"T_6f2ab_row5_col7\" class=\"data row5 col7\" >3.863289</td>\n",
       "    </tr>\n",
       "    <tr>\n",
       "      <th id=\"T_6f2ab_level0_row6\" class=\"row_heading level0 row6\" >4</th>\n",
       "      <td id=\"T_6f2ab_row6_col0\" class=\"data row6 col0\" >4</td>\n",
       "      <td id=\"T_6f2ab_row6_col1\" class=\"data row6 col1\" >755</td>\n",
       "      <td id=\"T_6f2ab_row6_col2\" class=\"data row6 col2\" >13.289914</td>\n",
       "      <td id=\"T_6f2ab_row6_col3\" class=\"data row6 col3\" >506.806265</td>\n",
       "      <td id=\"T_6f2ab_row6_col4\" class=\"data row6 col4\" >90.627815</td>\n",
       "      <td id=\"T_6f2ab_row6_col5\" class=\"data row6 col5\" >16.890066</td>\n",
       "      <td id=\"T_6f2ab_row6_col6\" class=\"data row6 col6\" >0.411353</td>\n",
       "      <td id=\"T_6f2ab_row6_col7\" class=\"data row6 col7\" >1.815894</td>\n",
       "    </tr>\n",
       "    <tr>\n",
       "      <th id=\"T_6f2ab_level0_row7\" class=\"row_heading level0 row7\" >1</th>\n",
       "      <td id=\"T_6f2ab_row7_col0\" class=\"data row7 col0\" >1</td>\n",
       "      <td id=\"T_6f2ab_row7_col1\" class=\"data row7 col1\" >671</td>\n",
       "      <td id=\"T_6f2ab_row7_col2\" class=\"data row7 col2\" >11.811301</td>\n",
       "      <td id=\"T_6f2ab_row7_col3\" class=\"data row7 col3\" >404.091148</td>\n",
       "      <td id=\"T_6f2ab_row7_col4\" class=\"data row7 col4\" >167.336811</td>\n",
       "      <td id=\"T_6f2ab_row7_col5\" class=\"data row7 col5\" >12.126677</td>\n",
       "      <td id=\"T_6f2ab_row7_col6\" class=\"data row7 col6\" >0.696441</td>\n",
       "      <td id=\"T_6f2ab_row7_col7\" class=\"data row7 col7\" >5.403875</td>\n",
       "    </tr>\n",
       "  </tbody>\n",
       "</table>\n"
      ],
      "text/plain": [
       "<pandas.io.formats.style.Styler at 0x7ff41319e9d0>"
      ]
     },
     "execution_count": 43,
     "metadata": {},
     "output_type": "execute_result"
    }
   ],
   "source": [
    "# cluster - qt_users - per_user\n",
    "df_cluster = df92[['customer_id', 'cluster']].groupby('cluster').count().reset_index().rename(columns={'customer_id': 'qt_users'})\n",
    "df_cluster['per_user'] = 100 * (df_cluster['qt_users'] / df_cluster['qt_users'].sum())\n",
    "\n",
    "\n",
    "# gross_revenue\n",
    "monetary = df92[['gross_revenue', 'cluster']].groupby('cluster').mean().reset_index()\n",
    "df_cluster = pd.merge(df_cluster, monetary, how='left', on='cluster')\n",
    "\n",
    "# recency_days\n",
    "recency_days = df92[['recency_days', 'cluster']].groupby('cluster').mean().reset_index()\n",
    "df_cluster = pd.merge(df_cluster, recency_days, how='left', on='cluster')\n",
    "\n",
    "# qtde_products\n",
    "qtde_products = df92[['qtde_products', 'cluster']].groupby('cluster').mean().reset_index()\n",
    "df_cluster = pd.merge(df_cluster, qtde_products, how='left', on='cluster')\n",
    "\n",
    "# frequency\n",
    "frequency = df92[['frequency', 'cluster']].groupby('cluster').mean().reset_index()\n",
    "df_cluster = pd.merge(df_cluster, frequency, how='left', on='cluster')\n",
    "\n",
    "# qtde_returns\n",
    "qtde_returns = df92[['qtde_returns', 'cluster']].groupby('cluster').mean().reset_index()\n",
    "df_cluster = pd.merge(df_cluster, qtde_returns, how='left', on='cluster')\n",
    "\n",
    "\n",
    "df_cluster.sort_values('gross_revenue', ascending=False).style.highlight_max( color='lightgreen', axis=0 )"
   ]
  },
  {
   "cell_type": "code",
   "execution_count": 44,
   "id": "489232b1",
   "metadata": {
    "ExecuteTime": {
     "end_time": "2021-10-14T13:37:43.812658Z",
     "start_time": "2021-10-14T13:37:43.807768Z"
    },
    "execution": {
     "iopub.execute_input": "2021-10-25T19:02:00.087433Z",
     "iopub.status.busy": "2021-10-25T19:02:00.086587Z",
     "iopub.status.idle": "2021-10-25T19:02:00.089345Z",
     "shell.execute_reply": "2021-10-25T19:02:00.089903Z"
    },
    "papermill": {
     "duration": 0.106273,
     "end_time": "2021-10-25T19:02:00.090085",
     "exception": false,
     "start_time": "2021-10-25T19:01:59.983812",
     "status": "completed"
    },
    "tags": []
   },
   "outputs": [],
   "source": [
    "# 1 Cluster Insiders\n",
    "# 5 Cluster More Products\n",
    "# 4 Cluster Spend Money \n",
    "# 2 Cluster Even More Products\n",
    "# 6 Cluster Less Days\n",
    "# 0 Cluster Less 1k\n",
    "# 7 Cluster Stop Returners\n",
    "# 3 Cluster More Buy"
   ]
  },
  {
   "cell_type": "markdown",
   "id": "5daa53a1",
   "metadata": {
    "papermill": {
     "duration": 0.090404,
     "end_time": "2021-10-25T19:02:00.270138",
     "exception": false,
     "start_time": "2021-10-25T19:02:00.179734",
     "status": "completed"
    },
    "tags": []
   },
   "source": [
    "**Cluster 01:  ( Candidato à Insider )**\n",
    "- Número de customers: 468 (16% do customers )\n",
    "- Faturamento médio: 8836\n",
    "- Recência média: 21 dias\n",
    "- Média de Produtos comprados: 424 produtos\n",
    "- Frequência de Produtos comprados: 0.09 produtos/dia\n",
    "- Receita em média: $8836.13,00 dólares"
   ]
  },
  {
   "cell_type": "markdown",
   "id": "c4ade448",
   "metadata": {
    "papermill": {
     "duration": 0.099753,
     "end_time": "2021-10-25T19:02:00.461578",
     "exception": false,
     "start_time": "2021-10-25T19:02:00.361825",
     "status": "completed"
    },
    "tags": []
   },
   "source": [
    "# 10.0. EDA"
   ]
  },
  {
   "cell_type": "code",
   "execution_count": 45,
   "id": "77dd8a0f",
   "metadata": {
    "ExecuteTime": {
     "end_time": "2021-10-14T13:37:43.820300Z",
     "start_time": "2021-10-14T13:37:43.816570Z"
    },
    "execution": {
     "iopub.execute_input": "2021-10-25T19:02:00.652261Z",
     "iopub.status.busy": "2021-10-25T19:02:00.651565Z",
     "iopub.status.idle": "2021-10-25T19:02:00.654104Z",
     "shell.execute_reply": "2021-10-25T19:02:00.654605Z"
    },
    "papermill": {
     "duration": 0.099307,
     "end_time": "2021-10-25T19:02:00.654844",
     "exception": false,
     "start_time": "2021-10-25T19:02:00.555537",
     "status": "completed"
    },
    "tags": []
   },
   "outputs": [],
   "source": [
    "df10 = df92.copy()"
   ]
  },
  {
   "cell_type": "markdown",
   "id": "b3753f60",
   "metadata": {
    "papermill": {
     "duration": 0.089122,
     "end_time": "2021-10-25T19:02:00.833947",
     "exception": false,
     "start_time": "2021-10-25T19:02:00.744825",
     "status": "completed"
    },
    "tags": []
   },
   "source": [
    "# 11.0. Deploy to Product"
   ]
  },
  {
   "cell_type": "code",
   "execution_count": 46,
   "id": "d701b523",
   "metadata": {
    "ExecuteTime": {
     "end_time": "2021-10-14T13:37:43.848932Z",
     "start_time": "2021-10-14T13:37:43.835344Z"
    },
    "execution": {
     "iopub.execute_input": "2021-10-25T19:02:01.035637Z",
     "iopub.status.busy": "2021-10-25T19:02:01.034812Z",
     "iopub.status.idle": "2021-10-25T19:02:01.036751Z",
     "shell.execute_reply": "2021-10-25T19:02:01.037346Z"
    },
    "papermill": {
     "duration": 0.111601,
     "end_time": "2021-10-25T19:02:01.037510",
     "exception": false,
     "start_time": "2021-10-25T19:02:00.925909",
     "status": "completed"
    },
    "tags": []
   },
   "outputs": [],
   "source": [
    "df11 = df10.copy()"
   ]
  },
  {
   "cell_type": "markdown",
   "id": "75738174",
   "metadata": {
    "papermill": {
     "duration": 0.087243,
     "end_time": "2021-10-25T19:02:01.220216",
     "exception": false,
     "start_time": "2021-10-25T19:02:01.132973",
     "status": "completed"
    },
    "tags": []
   },
   "source": [
    "## 11.1. Insert into SQLITE"
   ]
  },
  {
   "cell_type": "code",
   "execution_count": 47,
   "id": "cb1246b5",
   "metadata": {
    "ExecuteTime": {
     "end_time": "2021-10-14T13:37:43.859181Z",
     "start_time": "2021-10-14T13:37:43.852680Z"
    },
    "execution": {
     "iopub.execute_input": "2021-10-25T19:02:01.420984Z",
     "iopub.status.busy": "2021-10-25T19:02:01.420148Z",
     "iopub.status.idle": "2021-10-25T19:02:01.427517Z",
     "shell.execute_reply": "2021-10-25T19:02:01.428385Z"
    },
    "papermill": {
     "duration": 0.1146,
     "end_time": "2021-10-25T19:02:01.428608",
     "exception": false,
     "start_time": "2021-10-25T19:02:01.314008",
     "status": "completed"
    },
    "tags": []
   },
   "outputs": [],
   "source": [
    "# create table\n",
    "query_create_table_insiders = \"\"\"\n",
    "    CREATE TABLE insiders (\n",
    "        customer_id        INTEGER,\n",
    "        gross_revenue      REAL,\n",
    "        recency_days       INTEGER,\n",
    "        qtde_products      INTEGER,\n",
    "        frequency          REAL,\n",
    "        qtde_returns       INTEGER,\n",
    "        cluster            INTEGER\n",
    "    )\n",
    "\"\"\"\n",
    "# conn = sqlite3.connect( 'insiders_db.sqlite' )\n",
    "# conn.execute( query_create_table_insiders )\n",
    "# conn.commit()\n",
    "# conn.close()"
   ]
  },
  {
   "cell_type": "code",
   "execution_count": 48,
   "id": "aee4c2cf",
   "metadata": {
    "ExecuteTime": {
     "end_time": "2021-10-14T13:37:43.869127Z",
     "start_time": "2021-10-14T13:37:43.863723Z"
    },
    "execution": {
     "iopub.execute_input": "2021-10-25T19:02:01.620856Z",
     "iopub.status.busy": "2021-10-25T19:02:01.620024Z",
     "iopub.status.idle": "2021-10-25T19:02:01.628626Z",
     "shell.execute_reply": "2021-10-25T19:02:01.628087Z"
    },
    "papermill": {
     "duration": 0.107581,
     "end_time": "2021-10-25T19:02:01.628770",
     "exception": false,
     "start_time": "2021-10-25T19:02:01.521189",
     "status": "completed"
    },
    "tags": []
   },
   "outputs": [],
   "source": [
    "# Drop Table\n",
    "query_drop_table = \"\"\"\n",
    "    DROP TABLE  insiders\n",
    "\"\"\""
   ]
  },
  {
   "cell_type": "code",
   "execution_count": 49,
   "id": "dab8fde0",
   "metadata": {
    "ExecuteTime": {
     "end_time": "2021-10-14T13:37:44.052891Z",
     "start_time": "2021-10-14T13:37:43.890839Z"
    },
    "execution": {
     "iopub.execute_input": "2021-10-25T19:02:01.832583Z",
     "iopub.status.busy": "2021-10-25T19:02:01.831549Z",
     "iopub.status.idle": "2021-10-25T19:02:01.935466Z",
     "shell.execute_reply": "2021-10-25T19:02:01.935999Z"
    },
    "papermill": {
     "duration": 0.207079,
     "end_time": "2021-10-25T19:02:01.936167",
     "exception": false,
     "start_time": "2021-10-25T19:02:01.729088",
     "status": "completed"
    },
    "tags": []
   },
   "outputs": [],
   "source": [
    "# insert data\n",
    "conn = create_engine( 'sqlite:///insiders_db.sqlite' )\n",
    "df92.to_sql( 'insiders', con=conn,  if_exists='append', index=False )"
   ]
  },
  {
   "cell_type": "code",
   "execution_count": 50,
   "id": "1c116e67",
   "metadata": {
    "ExecuteTime": {
     "end_time": "2021-10-14T13:37:44.152746Z",
     "start_time": "2021-10-14T13:37:44.057754Z"
    },
    "execution": {
     "iopub.execute_input": "2021-10-25T19:02:02.131503Z",
     "iopub.status.busy": "2021-10-25T19:02:02.130723Z",
     "iopub.status.idle": "2021-10-25T19:02:02.266663Z",
     "shell.execute_reply": "2021-10-25T19:02:02.267368Z"
    },
    "papermill": {
     "duration": 0.2394,
     "end_time": "2021-10-25T19:02:02.267534",
     "exception": false,
     "start_time": "2021-10-25T19:02:02.028134",
     "status": "completed"
    },
    "tags": []
   },
   "outputs": [
    {
     "data": {
      "text/html": [
       "<div>\n",
       "<style scoped>\n",
       "    .dataframe tbody tr th:only-of-type {\n",
       "        vertical-align: middle;\n",
       "    }\n",
       "\n",
       "    .dataframe tbody tr th {\n",
       "        vertical-align: top;\n",
       "    }\n",
       "\n",
       "    .dataframe thead th {\n",
       "        text-align: right;\n",
       "    }\n",
       "</style>\n",
       "<table border=\"1\" class=\"dataframe\">\n",
       "  <thead>\n",
       "    <tr style=\"text-align: right;\">\n",
       "      <th></th>\n",
       "      <th>customer_id</th>\n",
       "      <th>gross_revenue</th>\n",
       "      <th>recency_days</th>\n",
       "      <th>qtde_products</th>\n",
       "      <th>frequency</th>\n",
       "      <th>qtde_returns</th>\n",
       "      <th>cluster</th>\n",
       "    </tr>\n",
       "  </thead>\n",
       "  <tbody>\n",
       "    <tr>\n",
       "      <th>0</th>\n",
       "      <td>17850</td>\n",
       "      <td>5391.21</td>\n",
       "      <td>372</td>\n",
       "      <td>297</td>\n",
       "      <td>17.000000</td>\n",
       "      <td>40</td>\n",
       "      <td>0</td>\n",
       "    </tr>\n",
       "    <tr>\n",
       "      <th>1</th>\n",
       "      <td>13047</td>\n",
       "      <td>3232.59</td>\n",
       "      <td>56</td>\n",
       "      <td>171</td>\n",
       "      <td>0.028302</td>\n",
       "      <td>35</td>\n",
       "      <td>0</td>\n",
       "    </tr>\n",
       "    <tr>\n",
       "      <th>2</th>\n",
       "      <td>12583</td>\n",
       "      <td>6495.30</td>\n",
       "      <td>2</td>\n",
       "      <td>221</td>\n",
       "      <td>0.040323</td>\n",
       "      <td>50</td>\n",
       "      <td>0</td>\n",
       "    </tr>\n",
       "    <tr>\n",
       "      <th>3</th>\n",
       "      <td>13748</td>\n",
       "      <td>938.89</td>\n",
       "      <td>95</td>\n",
       "      <td>27</td>\n",
       "      <td>0.017921</td>\n",
       "      <td>0</td>\n",
       "      <td>5</td>\n",
       "    </tr>\n",
       "    <tr>\n",
       "      <th>4</th>\n",
       "      <td>15100</td>\n",
       "      <td>876.00</td>\n",
       "      <td>333</td>\n",
       "      <td>3</td>\n",
       "      <td>0.073171</td>\n",
       "      <td>22</td>\n",
       "      <td>4</td>\n",
       "    </tr>\n",
       "  </tbody>\n",
       "</table>\n",
       "</div>"
      ],
      "text/plain": [
       "   customer_id  gross_revenue  recency_days  qtde_products  frequency  \\\n",
       "0        17850        5391.21           372            297  17.000000   \n",
       "1        13047        3232.59            56            171   0.028302   \n",
       "2        12583        6495.30             2            221   0.040323   \n",
       "3        13748         938.89            95             27   0.017921   \n",
       "4        15100         876.00           333              3   0.073171   \n",
       "\n",
       "   qtde_returns  cluster  \n",
       "0            40        0  \n",
       "1            35        0  \n",
       "2            50        0  \n",
       "3             0        5  \n",
       "4            22        4  "
      ]
     },
     "execution_count": 50,
     "metadata": {},
     "output_type": "execute_result"
    }
   ],
   "source": [
    "# consulting database\n",
    "query = \"\"\"\n",
    "    SELECT * FROM insiders\n",
    "\"\"\"\n",
    "conn = create_engine( 'sqlite:///insiders_db.sqlite' )\n",
    "\n",
    "df  = pd.read_sql_query( query, conn )\n",
    "df.head()"
   ]
  },
  {
   "cell_type": "markdown",
   "id": "62dda9ce",
   "metadata": {
    "papermill": {
     "duration": 0.095608,
     "end_time": "2021-10-25T19:02:02.467871",
     "exception": false,
     "start_time": "2021-10-25T19:02:02.372263",
     "status": "completed"
    },
    "tags": []
   },
   "source": [
    " ## Metabase \n",
    "\n",
    "1. download https://www.metabase.com/docs/latest/operations-guide/running-the-metabase-jar-file.html\n",
    "* java -jar metabase.jar\n",
    "* http://localhost:3000\n"
   ]
  },
  {
   "cell_type": "markdown",
   "id": "3e9e681b",
   "metadata": {
    "papermill": {
     "duration": 0.094609,
     "end_time": "2021-10-25T19:02:02.660657",
     "exception": false,
     "start_time": "2021-10-25T19:02:02.566048",
     "status": "completed"
    },
    "tags": []
   },
   "source": [
    " ## Banco de Dados na AWS\n",
    " \n",
    "1. Aula 047 - Ciclo 11- Deploy do modelo em produção - Parte III\n",
    "2. começa em 1h00"
   ]
  },
  {
   "cell_type": "markdown",
   "id": "dfcfc8a7",
   "metadata": {
    "papermill": {
     "duration": 0.096388,
     "end_time": "2021-10-25T19:02:02.850264",
     "exception": false,
     "start_time": "2021-10-25T19:02:02.753876",
     "status": "completed"
    },
    "tags": []
   },
   "source": [
    " ## pip install papermill\n",
    "1. pip install papermill\n",
    "2. papermill src/models/c12-deploy.ipynb reports/c12-deploy.ipynbc12-deploy_2021_10_13.ipynb\n",
    "\n",
    " ## bash\n",
    "3. echo $(date +'%Y-%m-%d %H:%M:%S')\n",
    "4. bash model_run.sh"
   ]
  }
 ],
 "metadata": {
  "kernelspec": {
   "display_name": "Python 3 (ipykernel)",
   "language": "python",
   "name": "python3"
  },
  "language_info": {
   "codemirror_mode": {
    "name": "ipython",
    "version": 3
   },
   "file_extension": ".py",
   "mimetype": "text/x-python",
   "name": "python",
   "nbconvert_exporter": "python",
   "pygments_lexer": "ipython3",
   "version": "3.8.0"
  },
  "papermill": {
   "default_parameters": {},
   "duration": 95.460513,
   "end_time": "2021-10-25T19:02:04.378828",
   "environment_variables": {},
   "exception": null,
   "input_path": "/home/cid/repos/clustering-high-value-customers-identification/src/models/c12-deploy.ipynb",
   "output_path": "/home/cid/repos/clustering-high-value-customers-identification/reports/c12-deploy_2021-10-25_16-00-28.ipynb",
   "parameters": {},
   "start_time": "2021-10-25T19:00:28.918315",
   "version": "2.3.3"
  }
 },
 "nbformat": 4,
 "nbformat_minor": 5
}