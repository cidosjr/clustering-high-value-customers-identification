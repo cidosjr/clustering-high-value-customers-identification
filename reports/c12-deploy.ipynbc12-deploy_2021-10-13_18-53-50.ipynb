{
 "cells": [
  {
   "cell_type": "markdown",
   "id": "bbf9b82a",
   "metadata": {
    "tags": [
     "papermill-error-cell-tag"
    ]
   },
   "source": [
    "<span style=\"color:red; font-family:Helvetica Neue, Helvetica, Arial, sans-serif; font-size:2em;\">An Exception was encountered at '<a href=\"#papermill-error-cell\">In [46]</a>'.</span>"
   ]
  },
  {
   "cell_type": "markdown",
   "id": "b25a0bdd",
   "metadata": {
    "papermill": {
     "duration": 0.077133,
     "end_time": "2021-10-13T21:53:52.174328",
     "exception": false,
     "start_time": "2021-10-13T21:53:52.097195",
     "status": "completed"
    },
    "tags": []
   },
   "source": [
    "# 0.0. Imports"
   ]
  },
  {
   "cell_type": "code",
   "execution_count": 1,
   "id": "722054fa",
   "metadata": {
    "ExecuteTime": {
     "end_time": "2021-10-13T21:30:20.543378Z",
     "start_time": "2021-10-13T21:30:17.458867Z"
    },
    "execution": {
     "iopub.execute_input": "2021-10-13T21:53:52.349224Z",
     "iopub.status.busy": "2021-10-13T21:53:52.348527Z",
     "iopub.status.idle": "2021-10-13T21:53:54.816898Z",
     "shell.execute_reply": "2021-10-13T21:53:54.816294Z"
    },
    "papermill": {
     "duration": 2.574267,
     "end_time": "2021-10-13T21:53:54.817044",
     "exception": false,
     "start_time": "2021-10-13T21:53:52.242777",
     "status": "completed"
    },
    "tags": []
   },
   "outputs": [],
   "source": [
    "import re\n",
    "import sqlite3\n",
    "import pandas as pd\n",
    "import numpy as np\n",
    "import seaborn as sns\n",
    "import matplotlib.pyplot as plt\n",
    "import plotly.express as px\n",
    "\n",
    "from sqlalchemy import create_engine\n",
    "\n",
    "from umap.umap_ import UMAP\n",
    "from scipy.cluster import hierarchy as hc\n",
    "\n",
    "from sklearn import cluster\n",
    "from sklearn import metrics\n",
    "from sklearn import preprocessing as pp\n",
    "from sklearn.decomposition import PCA\n",
    "from sklearn.manifold import TSNE\n",
    "from sklearn import ensemble as en\n",
    "from sklearn.mixture import GaussianMixture as gm"
   ]
  },
  {
   "cell_type": "markdown",
   "id": "f4bb5440",
   "metadata": {
    "papermill": {
     "duration": 0.068972,
     "end_time": "2021-10-13T21:53:54.956478",
     "exception": false,
     "start_time": "2021-10-13T21:53:54.887506",
     "status": "completed"
    },
    "tags": []
   },
   "source": [
    "## 0.1. Helper Functions"
   ]
  },
  {
   "cell_type": "code",
   "execution_count": 2,
   "id": "a157246c",
   "metadata": {
    "ExecuteTime": {
     "end_time": "2021-10-13T21:30:20.560927Z",
     "start_time": "2021-10-13T21:30:20.546729Z"
    },
    "execution": {
     "iopub.execute_input": "2021-10-13T21:53:55.107047Z",
     "iopub.status.busy": "2021-10-13T21:53:55.106178Z",
     "iopub.status.idle": "2021-10-13T21:53:55.108351Z",
     "shell.execute_reply": "2021-10-13T21:53:55.108829Z"
    },
    "papermill": {
     "duration": 0.083809,
     "end_time": "2021-10-13T21:53:55.108988",
     "exception": false,
     "start_time": "2021-10-13T21:53:55.025179",
     "status": "completed"
    },
    "tags": []
   },
   "outputs": [],
   "source": [
    "def descriptive_statistics(num_attr):\n",
    "    # Central Tendency: mean, median\n",
    "    c1 = pd.DataFrame(num_attr.apply(np.mean))\n",
    "    c2 = pd.DataFrame(num_attr.apply(np.median))\n",
    "\n",
    "    # Dispension: min, max, range, std, skew, kurtosis\n",
    "    d1 = pd.DataFrame(num_attr.apply(min))\n",
    "    d2 = pd.DataFrame(num_attr.apply(max))\n",
    "    d3 = pd.DataFrame(num_attr.apply(lambda x: x.max() - x.min()))\n",
    "    d4 = pd.DataFrame(num_attr.apply(lambda x: x.std()))\n",
    "    \n",
    "    # Measures of Shape\n",
    "    s1 = pd.DataFrame(num_attr.apply(lambda x: x.skew()))\n",
    "    s2 = pd.DataFrame(num_attr.apply(lambda x: x.kurtosis()))\n",
    "\n",
    "    # concat\n",
    "    m = pd.concat([d1,d2,d3,c1,c2,d4,s1,s2], axis=1).reset_index()\n",
    "    m.columns = ['attributes', 'min', 'max', 'range', 'mean', 'median', 'std', 'skew', 'kurtosis']\n",
    "    return m"
   ]
  },
  {
   "cell_type": "markdown",
   "id": "1bb64666",
   "metadata": {
    "papermill": {
     "duration": 0.069921,
     "end_time": "2021-10-13T21:53:55.249415",
     "exception": false,
     "start_time": "2021-10-13T21:53:55.179494",
     "status": "completed"
    },
    "tags": []
   },
   "source": [
    "## 0.2. Load Data"
   ]
  },
  {
   "cell_type": "code",
   "execution_count": 3,
   "id": "54243f8b",
   "metadata": {
    "ExecuteTime": {
     "end_time": "2021-10-13T21:30:21.303101Z",
     "start_time": "2021-10-13T21:30:20.563651Z"
    },
    "execution": {
     "iopub.execute_input": "2021-10-13T21:53:55.395919Z",
     "iopub.status.busy": "2021-10-13T21:53:55.395148Z",
     "iopub.status.idle": "2021-10-13T21:53:56.004896Z",
     "shell.execute_reply": "2021-10-13T21:53:56.005720Z"
    },
    "papermill": {
     "duration": 0.687669,
     "end_time": "2021-10-13T21:53:56.005931",
     "exception": false,
     "start_time": "2021-10-13T21:53:55.318262",
     "status": "completed"
    },
    "tags": []
   },
   "outputs": [],
   "source": [
    "path = '/home/cid/repos/clustering-high-value-customers-identification/'\n",
    "\n",
    "df_raw = pd.read_csv(path + '/data/raw/Ecommerce.csv', encoding='latin1')\n",
    "\n",
    "# drop extra column\n",
    "df_raw = df_raw.drop('Unnamed: 8', axis=1)"
   ]
  },
  {
   "cell_type": "markdown",
   "id": "5b9ae690",
   "metadata": {
    "heading_collapsed": true,
    "papermill": {
     "duration": 0.068762,
     "end_time": "2021-10-13T21:53:56.159585",
     "exception": false,
     "start_time": "2021-10-13T21:53:56.090823",
     "status": "completed"
    },
    "tags": []
   },
   "source": [
    "# 1.0. Data Description"
   ]
  },
  {
   "cell_type": "code",
   "execution_count": 4,
   "id": "026bbc19",
   "metadata": {
    "ExecuteTime": {
     "end_time": "2021-10-13T21:30:21.338059Z",
     "start_time": "2021-10-13T21:30:21.305849Z"
    },
    "execution": {
     "iopub.execute_input": "2021-10-13T21:53:56.325272Z",
     "iopub.status.busy": "2021-10-13T21:53:56.324589Z",
     "iopub.status.idle": "2021-10-13T21:53:56.340989Z",
     "shell.execute_reply": "2021-10-13T21:53:56.341509Z"
    },
    "hidden": true,
    "papermill": {
     "duration": 0.112772,
     "end_time": "2021-10-13T21:53:56.341679",
     "exception": false,
     "start_time": "2021-10-13T21:53:56.228907",
     "status": "completed"
    },
    "tags": []
   },
   "outputs": [],
   "source": [
    "df1 = df_raw.copy()"
   ]
  },
  {
   "cell_type": "markdown",
   "id": "a0e2c036",
   "metadata": {
    "heading_collapsed": true,
    "hidden": true,
    "papermill": {
     "duration": 0.070748,
     "end_time": "2021-10-13T21:53:56.483472",
     "exception": false,
     "start_time": "2021-10-13T21:53:56.412724",
     "status": "completed"
    },
    "tags": []
   },
   "source": [
    "## 1.1. Rename Columns"
   ]
  },
  {
   "cell_type": "code",
   "execution_count": 5,
   "id": "46322473",
   "metadata": {
    "ExecuteTime": {
     "end_time": "2021-10-13T21:30:21.348673Z",
     "start_time": "2021-10-13T21:30:21.340006Z"
    },
    "execution": {
     "iopub.execute_input": "2021-10-13T21:53:56.628618Z",
     "iopub.status.busy": "2021-10-13T21:53:56.628009Z",
     "iopub.status.idle": "2021-10-13T21:53:56.630257Z",
     "shell.execute_reply": "2021-10-13T21:53:56.630727Z"
    },
    "hidden": true,
    "papermill": {
     "duration": 0.078242,
     "end_time": "2021-10-13T21:53:56.630884",
     "exception": false,
     "start_time": "2021-10-13T21:53:56.552642",
     "status": "completed"
    },
    "tags": []
   },
   "outputs": [],
   "source": [
    "cols_new = ['invoice_no', 'stock_code', 'description', 'quantity', 'invoice_date', 'unit_price', 'customer_id', 'country']\n",
    "df1.columns = cols_new"
   ]
  },
  {
   "cell_type": "markdown",
   "id": "09f2dd9b",
   "metadata": {
    "heading_collapsed": true,
    "hidden": true,
    "papermill": {
     "duration": 0.070319,
     "end_time": "2021-10-13T21:53:56.771191",
     "exception": false,
     "start_time": "2021-10-13T21:53:56.700872",
     "status": "completed"
    },
    "tags": []
   },
   "source": [
    "## 1.2. Data Dimnesions"
   ]
  },
  {
   "cell_type": "code",
   "execution_count": 6,
   "id": "e8295ac6",
   "metadata": {
    "ExecuteTime": {
     "end_time": "2021-10-13T21:30:21.359858Z",
     "start_time": "2021-10-13T21:30:21.351131Z"
    },
    "execution": {
     "iopub.execute_input": "2021-10-13T21:53:56.922181Z",
     "iopub.status.busy": "2021-10-13T21:53:56.921479Z",
     "iopub.status.idle": "2021-10-13T21:53:56.925157Z",
     "shell.execute_reply": "2021-10-13T21:53:56.925811Z"
    },
    "hidden": true,
    "papermill": {
     "duration": 0.082885,
     "end_time": "2021-10-13T21:53:56.926019",
     "exception": false,
     "start_time": "2021-10-13T21:53:56.843134",
     "status": "completed"
    },
    "tags": []
   },
   "outputs": [
    {
     "name": "stdout",
     "output_type": "stream",
     "text": [
      "Number of Rows: 541909\n",
      "Number of Columns: 8\n"
     ]
    }
   ],
   "source": [
    "print('Number of Rows: {}'.format(df1.shape[0]))\n",
    "print('Number of Columns: {}'.format(df1.shape[1]))"
   ]
  },
  {
   "cell_type": "markdown",
   "id": "c68dcbcd",
   "metadata": {
    "heading_collapsed": true,
    "hidden": true,
    "papermill": {
     "duration": 0.072064,
     "end_time": "2021-10-13T21:53:57.069389",
     "exception": false,
     "start_time": "2021-10-13T21:53:56.997325",
     "status": "completed"
    },
    "tags": []
   },
   "source": [
    "## 1.3. Data Types"
   ]
  },
  {
   "cell_type": "code",
   "execution_count": 7,
   "id": "4034f49b",
   "metadata": {
    "ExecuteTime": {
     "end_time": "2021-10-13T21:30:21.388280Z",
     "start_time": "2021-10-13T21:30:21.369381Z"
    },
    "execution": {
     "iopub.execute_input": "2021-10-13T21:53:57.221773Z",
     "iopub.status.busy": "2021-10-13T21:53:57.213626Z",
     "iopub.status.idle": "2021-10-13T21:53:57.225435Z",
     "shell.execute_reply": "2021-10-13T21:53:57.226286Z"
    },
    "hidden": true,
    "papermill": {
     "duration": 0.086394,
     "end_time": "2021-10-13T21:53:57.226514",
     "exception": false,
     "start_time": "2021-10-13T21:53:57.140120",
     "status": "completed"
    },
    "tags": []
   },
   "outputs": [
    {
     "data": {
      "text/plain": [
       "invoice_no       object\n",
       "stock_code       object\n",
       "description      object\n",
       "quantity          int64\n",
       "invoice_date     object\n",
       "unit_price      float64\n",
       "customer_id     float64\n",
       "country          object\n",
       "dtype: object"
      ]
     },
     "execution_count": 7,
     "metadata": {},
     "output_type": "execute_result"
    }
   ],
   "source": [
    "df1.dtypes"
   ]
  },
  {
   "cell_type": "markdown",
   "id": "0c014646",
   "metadata": {
    "heading_collapsed": true,
    "hidden": true,
    "papermill": {
     "duration": 0.071624,
     "end_time": "2021-10-13T21:53:57.375814",
     "exception": false,
     "start_time": "2021-10-13T21:53:57.304190",
     "status": "completed"
    },
    "tags": []
   },
   "source": [
    "## 1.4. Check NA"
   ]
  },
  {
   "cell_type": "code",
   "execution_count": 8,
   "id": "7a8a6351",
   "metadata": {
    "ExecuteTime": {
     "end_time": "2021-10-13T21:30:21.637793Z",
     "start_time": "2021-10-13T21:30:21.390738Z"
    },
    "execution": {
     "iopub.execute_input": "2021-10-13T21:53:57.713517Z",
     "iopub.status.busy": "2021-10-13T21:53:57.711983Z",
     "iopub.status.idle": "2021-10-13T21:53:57.725296Z",
     "shell.execute_reply": "2021-10-13T21:53:57.725942Z"
    },
    "hidden": true,
    "papermill": {
     "duration": 0.279818,
     "end_time": "2021-10-13T21:53:57.726146",
     "exception": false,
     "start_time": "2021-10-13T21:53:57.446328",
     "status": "completed"
    },
    "tags": []
   },
   "outputs": [
    {
     "data": {
      "text/plain": [
       "invoice_no           0\n",
       "stock_code           0\n",
       "description       1454\n",
       "quantity             0\n",
       "invoice_date         0\n",
       "unit_price           0\n",
       "customer_id     135080\n",
       "country              0\n",
       "dtype: int64"
      ]
     },
     "execution_count": 8,
     "metadata": {},
     "output_type": "execute_result"
    }
   ],
   "source": [
    "df1.isna().sum()"
   ]
  },
  {
   "cell_type": "markdown",
   "id": "29b1bada",
   "metadata": {
    "heading_collapsed": true,
    "hidden": true,
    "papermill": {
     "duration": 0.07195,
     "end_time": "2021-10-13T21:53:57.874814",
     "exception": false,
     "start_time": "2021-10-13T21:53:57.802864",
     "status": "completed"
    },
    "tags": []
   },
   "source": [
    "## 1.5. Replace NA"
   ]
  },
  {
   "cell_type": "code",
   "execution_count": 9,
   "id": "aa5882db",
   "metadata": {
    "ExecuteTime": {
     "end_time": "2021-10-13T21:30:21.717072Z",
     "start_time": "2021-10-13T21:30:21.639784Z"
    },
    "execution": {
     "iopub.execute_input": "2021-10-13T21:53:58.023868Z",
     "iopub.status.busy": "2021-10-13T21:53:58.023088Z",
     "iopub.status.idle": "2021-10-13T21:53:58.082643Z",
     "shell.execute_reply": "2021-10-13T21:53:58.083539Z"
    },
    "hidden": true,
    "papermill": {
     "duration": 0.136627,
     "end_time": "2021-10-13T21:53:58.083713",
     "exception": false,
     "start_time": "2021-10-13T21:53:57.947086",
     "status": "completed"
    },
    "tags": []
   },
   "outputs": [],
   "source": [
    "df_missing = df1.loc[df1['customer_id'].isna(), :]\n",
    "df_not_missing = df1.loc[~df1['customer_id'].isna(), :]"
   ]
  },
  {
   "cell_type": "code",
   "execution_count": 10,
   "id": "7086dafb",
   "metadata": {
    "ExecuteTime": {
     "end_time": "2021-10-13T21:30:22.047482Z",
     "start_time": "2021-10-13T21:30:21.724054Z"
    },
    "execution": {
     "iopub.execute_input": "2021-10-13T21:53:58.241726Z",
     "iopub.status.busy": "2021-10-13T21:53:58.240650Z",
     "iopub.status.idle": "2021-10-13T21:53:58.549499Z",
     "shell.execute_reply": "2021-10-13T21:53:58.548912Z"
    },
    "hidden": true,
    "papermill": {
     "duration": 0.391892,
     "end_time": "2021-10-13T21:53:58.549631",
     "exception": false,
     "start_time": "2021-10-13T21:53:58.157739",
     "status": "completed"
    },
    "tags": []
   },
   "outputs": [],
   "source": [
    "df_backup = pd.DataFrame(df_missing['invoice_no'].drop_duplicates())\n",
    "df_backup['customer_id'] = np.arange(19000, 19000+len(df_backup), 1)\n",
    "\n",
    "# merge \n",
    "df1 = pd.merge(df1, df_backup, how='left', on='invoice_no' )\n",
    "\n",
    "# coalesce \n",
    "df1['customer_id'] = df1['customer_id_x'].combine_first(df1['customer_id_y'])\n",
    "\n",
    "df1 = df1.drop(['customer_id_x', 'customer_id_y'], axis=1)"
   ]
  },
  {
   "cell_type": "code",
   "execution_count": 11,
   "id": "aff2bc50",
   "metadata": {
    "ExecuteTime": {
     "end_time": "2021-10-13T21:30:22.267595Z",
     "start_time": "2021-10-13T21:30:22.049236Z"
    },
    "execution": {
     "iopub.execute_input": "2021-10-13T21:53:58.891590Z",
     "iopub.status.busy": "2021-10-13T21:53:58.890648Z",
     "iopub.status.idle": "2021-10-13T21:53:58.907280Z",
     "shell.execute_reply": "2021-10-13T21:53:58.908152Z"
    },
    "hidden": true,
    "papermill": {
     "duration": 0.28521,
     "end_time": "2021-10-13T21:53:58.908385",
     "exception": false,
     "start_time": "2021-10-13T21:53:58.623175",
     "status": "completed"
    },
    "tags": []
   },
   "outputs": [
    {
     "data": {
      "text/plain": [
       "invoice_no         0\n",
       "stock_code         0\n",
       "description     1454\n",
       "quantity           0\n",
       "invoice_date       0\n",
       "unit_price         0\n",
       "country            0\n",
       "customer_id        0\n",
       "dtype: int64"
      ]
     },
     "execution_count": 11,
     "metadata": {},
     "output_type": "execute_result"
    }
   ],
   "source": [
    "df1.isna().sum()"
   ]
  },
  {
   "cell_type": "markdown",
   "id": "2e3c11e1",
   "metadata": {
    "heading_collapsed": true,
    "hidden": true,
    "papermill": {
     "duration": 0.073994,
     "end_time": "2021-10-13T21:53:59.058250",
     "exception": false,
     "start_time": "2021-10-13T21:53:58.984256",
     "status": "completed"
    },
    "tags": []
   },
   "source": [
    "## 1.6. Change dtypes"
   ]
  },
  {
   "cell_type": "code",
   "execution_count": 12,
   "id": "6d4edcbb",
   "metadata": {
    "ExecuteTime": {
     "end_time": "2021-10-13T21:30:22.282442Z",
     "start_time": "2021-10-13T21:30:22.270157Z"
    },
    "execution": {
     "iopub.execute_input": "2021-10-13T21:53:59.209309Z",
     "iopub.status.busy": "2021-10-13T21:53:59.206442Z",
     "iopub.status.idle": "2021-10-13T21:53:59.212557Z",
     "shell.execute_reply": "2021-10-13T21:53:59.213043Z"
    },
    "hidden": true,
    "papermill": {
     "duration": 0.083999,
     "end_time": "2021-10-13T21:53:59.213203",
     "exception": false,
     "start_time": "2021-10-13T21:53:59.129204",
     "status": "completed"
    },
    "tags": []
   },
   "outputs": [
    {
     "data": {
      "text/plain": [
       "invoice_no       object\n",
       "stock_code       object\n",
       "description      object\n",
       "quantity          int64\n",
       "invoice_date     object\n",
       "unit_price      float64\n",
       "country          object\n",
       "customer_id     float64\n",
       "dtype: object"
      ]
     },
     "execution_count": 12,
     "metadata": {},
     "output_type": "execute_result"
    }
   ],
   "source": [
    "df1.dtypes"
   ]
  },
  {
   "cell_type": "code",
   "execution_count": 13,
   "id": "e9f81033",
   "metadata": {
    "ExecuteTime": {
     "end_time": "2021-10-13T21:30:22.428684Z",
     "start_time": "2021-10-13T21:30:22.287735Z"
    },
    "execution": {
     "iopub.execute_input": "2021-10-13T21:53:59.392432Z",
     "iopub.status.busy": "2021-10-13T21:53:59.391818Z",
     "iopub.status.idle": "2021-10-13T21:53:59.482258Z",
     "shell.execute_reply": "2021-10-13T21:53:59.482742Z"
    },
    "hidden": true,
    "papermill": {
     "duration": 0.195968,
     "end_time": "2021-10-13T21:53:59.482903",
     "exception": false,
     "start_time": "2021-10-13T21:53:59.286935",
     "status": "completed"
    },
    "tags": []
   },
   "outputs": [],
   "source": [
    "df1['invoice_date'] = pd.to_datetime(df1['invoice_date'])\n",
    "df1['customer_id'] = df1['customer_id'].astype(int)"
   ]
  },
  {
   "cell_type": "markdown",
   "id": "58961082",
   "metadata": {
    "heading_collapsed": true,
    "hidden": true,
    "papermill": {
     "duration": 0.073247,
     "end_time": "2021-10-13T21:53:59.631813",
     "exception": false,
     "start_time": "2021-10-13T21:53:59.558566",
     "status": "completed"
    },
    "tags": []
   },
   "source": [
    "## 1.7. Descriptive Statistics"
   ]
  },
  {
   "cell_type": "code",
   "execution_count": 14,
   "id": "313769d3",
   "metadata": {
    "ExecuteTime": {
     "end_time": "2021-10-13T21:30:22.467637Z",
     "start_time": "2021-10-13T21:30:22.430675Z"
    },
    "execution": {
     "iopub.execute_input": "2021-10-13T21:53:59.791657Z",
     "iopub.status.busy": "2021-10-13T21:53:59.790505Z",
     "iopub.status.idle": "2021-10-13T21:53:59.820416Z",
     "shell.execute_reply": "2021-10-13T21:53:59.820898Z"
    },
    "hidden": true,
    "papermill": {
     "duration": 0.115729,
     "end_time": "2021-10-13T21:53:59.821073",
     "exception": false,
     "start_time": "2021-10-13T21:53:59.705344",
     "status": "completed"
    },
    "tags": []
   },
   "outputs": [],
   "source": [
    "num_att = df1.select_dtypes(include=['int64', 'float64'])\n",
    "cat_att = df1.select_dtypes(include=['object'])"
   ]
  },
  {
   "cell_type": "markdown",
   "id": "7629f4b9",
   "metadata": {
    "heading_collapsed": true,
    "hidden": true,
    "papermill": {
     "duration": 0.073377,
     "end_time": "2021-10-13T21:53:59.968274",
     "exception": false,
     "start_time": "2021-10-13T21:53:59.894897",
     "status": "completed"
    },
    "tags": []
   },
   "source": [
    "## 1.7.1. Numerical Attributes"
   ]
  },
  {
   "cell_type": "code",
   "execution_count": 15,
   "id": "79816883",
   "metadata": {
    "ExecuteTime": {
     "end_time": "2021-10-13T21:30:23.051640Z",
     "start_time": "2021-10-13T21:30:22.471119Z"
    },
    "execution": {
     "iopub.execute_input": "2021-10-13T21:54:00.121592Z",
     "iopub.status.busy": "2021-10-13T21:54:00.120195Z",
     "iopub.status.idle": "2021-10-13T21:54:00.584934Z",
     "shell.execute_reply": "2021-10-13T21:54:00.585478Z"
    },
    "hidden": true,
    "papermill": {
     "duration": 0.544258,
     "end_time": "2021-10-13T21:54:00.585648",
     "exception": false,
     "start_time": "2021-10-13T21:54:00.041390",
     "status": "completed"
    },
    "tags": []
   },
   "outputs": [
    {
     "data": {
      "text/html": [
       "<div>\n",
       "<style scoped>\n",
       "    .dataframe tbody tr th:only-of-type {\n",
       "        vertical-align: middle;\n",
       "    }\n",
       "\n",
       "    .dataframe tbody tr th {\n",
       "        vertical-align: top;\n",
       "    }\n",
       "\n",
       "    .dataframe thead th {\n",
       "        text-align: right;\n",
       "    }\n",
       "</style>\n",
       "<table border=\"1\" class=\"dataframe\">\n",
       "  <thead>\n",
       "    <tr style=\"text-align: right;\">\n",
       "      <th></th>\n",
       "      <th>attributes</th>\n",
       "      <th>min</th>\n",
       "      <th>max</th>\n",
       "      <th>range</th>\n",
       "      <th>mean</th>\n",
       "      <th>median</th>\n",
       "      <th>std</th>\n",
       "      <th>skew</th>\n",
       "      <th>kurtosis</th>\n",
       "    </tr>\n",
       "  </thead>\n",
       "  <tbody>\n",
       "    <tr>\n",
       "      <th>0</th>\n",
       "      <td>quantity</td>\n",
       "      <td>-80995.00</td>\n",
       "      <td>80995.0</td>\n",
       "      <td>161990.00</td>\n",
       "      <td>9.552250</td>\n",
       "      <td>3.00</td>\n",
       "      <td>218.081158</td>\n",
       "      <td>-0.264076</td>\n",
       "      <td>119769.160031</td>\n",
       "    </tr>\n",
       "    <tr>\n",
       "      <th>1</th>\n",
       "      <td>unit_price</td>\n",
       "      <td>-11062.06</td>\n",
       "      <td>38970.0</td>\n",
       "      <td>50032.06</td>\n",
       "      <td>4.611114</td>\n",
       "      <td>2.08</td>\n",
       "      <td>96.759853</td>\n",
       "      <td>186.506972</td>\n",
       "      <td>59005.719097</td>\n",
       "    </tr>\n",
       "    <tr>\n",
       "      <th>2</th>\n",
       "      <td>customer_id</td>\n",
       "      <td>12346.00</td>\n",
       "      <td>22709.0</td>\n",
       "      <td>10363.00</td>\n",
       "      <td>16688.840453</td>\n",
       "      <td>16249.00</td>\n",
       "      <td>2911.411352</td>\n",
       "      <td>0.487449</td>\n",
       "      <td>-0.804287</td>\n",
       "    </tr>\n",
       "  </tbody>\n",
       "</table>\n",
       "</div>"
      ],
      "text/plain": [
       "    attributes       min      max      range          mean    median  \\\n",
       "0     quantity -80995.00  80995.0  161990.00      9.552250      3.00   \n",
       "1   unit_price -11062.06  38970.0   50032.06      4.611114      2.08   \n",
       "2  customer_id  12346.00  22709.0   10363.00  16688.840453  16249.00   \n",
       "\n",
       "           std        skew       kurtosis  \n",
       "0   218.081158   -0.264076  119769.160031  \n",
       "1    96.759853  186.506972   59005.719097  \n",
       "2  2911.411352    0.487449      -0.804287  "
      ]
     },
     "execution_count": 15,
     "metadata": {},
     "output_type": "execute_result"
    }
   ],
   "source": [
    "descriptive_statistics(num_att)"
   ]
  },
  {
   "cell_type": "markdown",
   "id": "918bc2a8",
   "metadata": {
    "heading_collapsed": true,
    "hidden": true,
    "papermill": {
     "duration": 0.072956,
     "end_time": "2021-10-13T21:54:00.732252",
     "exception": false,
     "start_time": "2021-10-13T21:54:00.659296",
     "status": "completed"
    },
    "tags": []
   },
   "source": [
    "## 1.7.2. Categorical Attributes"
   ]
  },
  {
   "cell_type": "code",
   "execution_count": 16,
   "id": "fbb2c633",
   "metadata": {
    "ExecuteTime": {
     "end_time": "2021-10-13T21:30:23.548903Z",
     "start_time": "2021-10-13T21:30:23.053982Z"
    },
    "execution": {
     "iopub.execute_input": "2021-10-13T21:54:00.956486Z",
     "iopub.status.busy": "2021-10-13T21:54:00.908245Z",
     "iopub.status.idle": "2021-10-13T21:54:01.299436Z",
     "shell.execute_reply": "2021-10-13T21:54:01.300131Z"
    },
    "hidden": true,
    "papermill": {
     "duration": 0.492452,
     "end_time": "2021-10-13T21:54:01.300339",
     "exception": false,
     "start_time": "2021-10-13T21:54:00.807887",
     "status": "completed"
    },
    "tags": []
   },
   "outputs": [
    {
     "data": {
      "text/html": [
       "<div>\n",
       "<style scoped>\n",
       "    .dataframe tbody tr th:only-of-type {\n",
       "        vertical-align: middle;\n",
       "    }\n",
       "\n",
       "    .dataframe tbody tr th {\n",
       "        vertical-align: top;\n",
       "    }\n",
       "\n",
       "    .dataframe thead th {\n",
       "        text-align: right;\n",
       "    }\n",
       "</style>\n",
       "<table border=\"1\" class=\"dataframe\">\n",
       "  <thead>\n",
       "    <tr style=\"text-align: right;\">\n",
       "      <th></th>\n",
       "      <th>invoice_no</th>\n",
       "      <th>stock_code</th>\n",
       "      <th>description</th>\n",
       "      <th>country</th>\n",
       "    </tr>\n",
       "  </thead>\n",
       "  <tbody>\n",
       "    <tr>\n",
       "      <th>count</th>\n",
       "      <td>541909</td>\n",
       "      <td>541909</td>\n",
       "      <td>540455</td>\n",
       "      <td>541909</td>\n",
       "    </tr>\n",
       "    <tr>\n",
       "      <th>unique</th>\n",
       "      <td>25900</td>\n",
       "      <td>4070</td>\n",
       "      <td>4223</td>\n",
       "      <td>38</td>\n",
       "    </tr>\n",
       "    <tr>\n",
       "      <th>top</th>\n",
       "      <td>573585</td>\n",
       "      <td>85123A</td>\n",
       "      <td>WHITE HANGING HEART T-LIGHT HOLDER</td>\n",
       "      <td>United Kingdom</td>\n",
       "    </tr>\n",
       "    <tr>\n",
       "      <th>freq</th>\n",
       "      <td>1114</td>\n",
       "      <td>2313</td>\n",
       "      <td>2369</td>\n",
       "      <td>495478</td>\n",
       "    </tr>\n",
       "  </tbody>\n",
       "</table>\n",
       "</div>"
      ],
      "text/plain": [
       "       invoice_no stock_code                         description  \\\n",
       "count      541909     541909                              540455   \n",
       "unique      25900       4070                                4223   \n",
       "top        573585     85123A  WHITE HANGING HEART T-LIGHT HOLDER   \n",
       "freq         1114       2313                                2369   \n",
       "\n",
       "               country  \n",
       "count           541909  \n",
       "unique              38  \n",
       "top     United Kingdom  \n",
       "freq            495478  "
      ]
     },
     "execution_count": 16,
     "metadata": {},
     "output_type": "execute_result"
    }
   ],
   "source": [
    "cat_att.describe(include=['O'])"
   ]
  },
  {
   "cell_type": "markdown",
   "id": "68b2a24f",
   "metadata": {
    "heading_collapsed": true,
    "papermill": {
     "duration": 0.075419,
     "end_time": "2021-10-13T21:54:01.454160",
     "exception": false,
     "start_time": "2021-10-13T21:54:01.378741",
     "status": "completed"
    },
    "tags": []
   },
   "source": [
    "# 2.0. Data Filtering"
   ]
  },
  {
   "cell_type": "code",
   "execution_count": 17,
   "id": "90095e9b",
   "metadata": {
    "ExecuteTime": {
     "end_time": "2021-10-13T21:30:23.579341Z",
     "start_time": "2021-10-13T21:30:23.551410Z"
    },
    "execution": {
     "iopub.execute_input": "2021-10-13T21:54:01.607455Z",
     "iopub.status.busy": "2021-10-13T21:54:01.606097Z",
     "iopub.status.idle": "2021-10-13T21:54:01.623884Z",
     "shell.execute_reply": "2021-10-13T21:54:01.624433Z"
    },
    "hidden": true,
    "papermill": {
     "duration": 0.096479,
     "end_time": "2021-10-13T21:54:01.624613",
     "exception": false,
     "start_time": "2021-10-13T21:54:01.528134",
     "status": "completed"
    },
    "tags": []
   },
   "outputs": [],
   "source": [
    "df2 = df1.copy()"
   ]
  },
  {
   "cell_type": "markdown",
   "id": "25199fd0",
   "metadata": {
    "heading_collapsed": true,
    "hidden": true,
    "papermill": {
     "duration": 0.07445,
     "end_time": "2021-10-13T21:54:01.773648",
     "exception": false,
     "start_time": "2021-10-13T21:54:01.699198",
     "status": "completed"
    },
    "tags": []
   },
   "source": [
    "## 2.1. Filter Columns"
   ]
  },
  {
   "cell_type": "code",
   "execution_count": 18,
   "id": "0bad1aec",
   "metadata": {
    "ExecuteTime": {
     "end_time": "2021-10-13T21:30:23.628687Z",
     "start_time": "2021-10-13T21:30:23.586645Z"
    },
    "execution": {
     "iopub.execute_input": "2021-10-13T21:54:02.051754Z",
     "iopub.status.busy": "2021-10-13T21:54:01.931415Z",
     "iopub.status.idle": "2021-10-13T21:54:02.064215Z",
     "shell.execute_reply": "2021-10-13T21:54:02.063362Z"
    },
    "hidden": true,
    "papermill": {
     "duration": 0.216633,
     "end_time": "2021-10-13T21:54:02.064405",
     "exception": false,
     "start_time": "2021-10-13T21:54:01.847772",
     "status": "completed"
    },
    "tags": []
   },
   "outputs": [],
   "source": [
    "cols_drop = ['description']\n",
    "df2 = df2.drop(cols_drop, axis=1)"
   ]
  },
  {
   "cell_type": "markdown",
   "id": "b50e3b32",
   "metadata": {
    "heading_collapsed": true,
    "hidden": true,
    "papermill": {
     "duration": 0.074741,
     "end_time": "2021-10-13T21:54:02.216122",
     "exception": false,
     "start_time": "2021-10-13T21:54:02.141381",
     "status": "completed"
    },
    "tags": []
   },
   "source": [
    "## 2.2. Filter Rows"
   ]
  },
  {
   "cell_type": "code",
   "execution_count": 19,
   "id": "6bcd20d3",
   "metadata": {
    "ExecuteTime": {
     "end_time": "2021-10-13T21:30:23.910242Z",
     "start_time": "2021-10-13T21:30:23.632058Z"
    },
    "execution": {
     "iopub.execute_input": "2021-10-13T21:54:02.372212Z",
     "iopub.status.busy": "2021-10-13T21:54:02.371077Z",
     "iopub.status.idle": "2021-10-13T21:54:02.572531Z",
     "shell.execute_reply": "2021-10-13T21:54:02.573029Z"
    },
    "hidden": true,
    "papermill": {
     "duration": 0.283324,
     "end_time": "2021-10-13T21:54:02.573207",
     "exception": false,
     "start_time": "2021-10-13T21:54:02.289883",
     "status": "completed"
    },
    "tags": []
   },
   "outputs": [],
   "source": [
    "# Numerical Attributes\n",
    "df2 = df2.loc[df2['unit_price'] >= 0.4, :]\n",
    "\n",
    "# Categorical Attributes\n",
    "df2 = df2.loc[~df2['stock_code'].isin(['POST', 'D', 'DOT', 'M', 'S', 'AMAZONFEE', 'm', 'DCGSSBOY', 'DCGSSGIRL', 'PADS', 'B', 'CRUK'] ), :]\n",
    "\n",
    "# map\n",
    "df2 = df2.loc[~df2['country'].isin(['European Community', 'Unspecified' ]), :]\n",
    "\n",
    "# bad user\n",
    "df2 = df2[~df2['customer_id'].isin( [16446] )]\n",
    "\n",
    "# quantity\n",
    "df2_returns   = df2.loc[df2['quantity'] < 0, :]\n",
    "df2_purchases = df2.loc[df2['quantity'] >= 0, :]"
   ]
  },
  {
   "cell_type": "markdown",
   "id": "16814c2a",
   "metadata": {
    "heading_collapsed": true,
    "papermill": {
     "duration": 0.073331,
     "end_time": "2021-10-13T21:54:02.721311",
     "exception": false,
     "start_time": "2021-10-13T21:54:02.647980",
     "status": "completed"
    },
    "tags": []
   },
   "source": [
    "# 3.0. Feature Engineering"
   ]
  },
  {
   "cell_type": "code",
   "execution_count": 20,
   "id": "3dcc6d38",
   "metadata": {
    "ExecuteTime": {
     "end_time": "2021-10-13T21:30:23.947680Z",
     "start_time": "2021-10-13T21:30:23.913171Z"
    },
    "execution": {
     "iopub.execute_input": "2021-10-13T21:54:02.908952Z",
     "iopub.status.busy": "2021-10-13T21:54:02.908291Z",
     "iopub.status.idle": "2021-10-13T21:54:02.920317Z",
     "shell.execute_reply": "2021-10-13T21:54:02.921004Z"
    },
    "hidden": true,
    "papermill": {
     "duration": 0.12736,
     "end_time": "2021-10-13T21:54:02.921213",
     "exception": false,
     "start_time": "2021-10-13T21:54:02.793853",
     "status": "completed"
    },
    "tags": []
   },
   "outputs": [],
   "source": [
    "df3 = df2.copy()"
   ]
  },
  {
   "cell_type": "markdown",
   "id": "180d585e",
   "metadata": {
    "heading_collapsed": true,
    "hidden": true,
    "papermill": {
     "duration": 0.074269,
     "end_time": "2021-10-13T21:54:03.081854",
     "exception": false,
     "start_time": "2021-10-13T21:54:03.007585",
     "status": "completed"
    },
    "tags": []
   },
   "source": [
    "## 3.1. Feature Creation"
   ]
  },
  {
   "cell_type": "code",
   "execution_count": 21,
   "id": "153c0407",
   "metadata": {
    "ExecuteTime": {
     "end_time": "2021-10-13T21:30:23.997215Z",
     "start_time": "2021-10-13T21:30:23.952756Z"
    },
    "execution": {
     "iopub.execute_input": "2021-10-13T21:54:03.241175Z",
     "iopub.status.busy": "2021-10-13T21:54:03.237303Z",
     "iopub.status.idle": "2021-10-13T21:54:03.261568Z",
     "shell.execute_reply": "2021-10-13T21:54:03.262049Z"
    },
    "hidden": true,
    "papermill": {
     "duration": 0.105946,
     "end_time": "2021-10-13T21:54:03.262212",
     "exception": false,
     "start_time": "2021-10-13T21:54:03.156266",
     "status": "completed"
    },
    "tags": []
   },
   "outputs": [],
   "source": [
    "drop_cols = ['invoice_no', 'stock_code', 'quantity', 'invoice_date', 'unit_price', 'country']\n",
    "df_ref = df3.drop(drop_cols, axis=1).drop_duplicates(ignore_index=True)"
   ]
  },
  {
   "cell_type": "code",
   "execution_count": 22,
   "id": "93e42a51",
   "metadata": {
    "ExecuteTime": {
     "end_time": "2021-10-13T21:30:24.020217Z",
     "start_time": "2021-10-13T21:30:24.000804Z"
    },
    "execution": {
     "iopub.execute_input": "2021-10-13T21:54:03.421316Z",
     "iopub.status.busy": "2021-10-13T21:54:03.420150Z",
     "iopub.status.idle": "2021-10-13T21:54:03.432400Z",
     "shell.execute_reply": "2021-10-13T21:54:03.431893Z"
    },
    "hidden": true,
    "papermill": {
     "duration": 0.094417,
     "end_time": "2021-10-13T21:54:03.432530",
     "exception": false,
     "start_time": "2021-10-13T21:54:03.338113",
     "status": "completed"
    },
    "tags": []
   },
   "outputs": [
    {
     "name": "stderr",
     "output_type": "stream",
     "text": [
      "/home/cid/.pyenv/versions/3.8.0/envs/clustering-high-value-customers-identification/lib/python3.8/site-packages/pandas/core/indexing.py:1773: SettingWithCopyWarning: \n",
      "A value is trying to be set on a copy of a slice from a DataFrame.\n",
      "Try using .loc[row_indexer,col_indexer] = value instead\n",
      "\n",
      "See the caveats in the documentation: https://pandas.pydata.org/pandas-docs/stable/user_guide/indexing.html#returning-a-view-versus-a-copy\n",
      "  self._setitem_single_column(ilocs[0], value, pi)\n"
     ]
    }
   ],
   "source": [
    "df2_purchases.loc[:, ['gross_revenue']] = (df2_purchases.loc[:, 'quantity'] * df2_purchases.loc[:, 'unit_price'])"
   ]
  },
  {
   "cell_type": "markdown",
   "id": "6b340b62",
   "metadata": {
    "ExecuteTime": {
     "end_time": "2021-08-09T16:49:44.138631Z",
     "start_time": "2021-08-09T16:49:44.131084Z"
    },
    "heading_collapsed": true,
    "hidden": true,
    "papermill": {
     "duration": 0.074972,
     "end_time": "2021-10-13T21:54:03.584455",
     "exception": false,
     "start_time": "2021-10-13T21:54:03.509483",
     "status": "completed"
    },
    "tags": []
   },
   "source": [
    "### 3.1.1. Gross Revenue"
   ]
  },
  {
   "cell_type": "code",
   "execution_count": 23,
   "id": "485f6c6e",
   "metadata": {
    "ExecuteTime": {
     "end_time": "2021-10-13T21:30:24.124977Z",
     "start_time": "2021-10-13T21:30:24.023655Z"
    },
    "execution": {
     "iopub.execute_input": "2021-10-13T21:54:03.740770Z",
     "iopub.status.busy": "2021-10-13T21:54:03.736293Z",
     "iopub.status.idle": "2021-10-13T21:54:03.803371Z",
     "shell.execute_reply": "2021-10-13T21:54:03.802776Z"
    },
    "hidden": true,
    "papermill": {
     "duration": 0.144936,
     "end_time": "2021-10-13T21:54:03.803518",
     "exception": false,
     "start_time": "2021-10-13T21:54:03.658582",
     "status": "completed"
    },
    "tags": []
   },
   "outputs": [
    {
     "data": {
      "text/plain": [
       "customer_id       0\n",
       "gross_revenue    92\n",
       "dtype: int64"
      ]
     },
     "execution_count": 23,
     "metadata": {},
     "output_type": "execute_result"
    }
   ],
   "source": [
    "df_monetary = df2_purchases.loc[:, ['customer_id', 'gross_revenue']].groupby('customer_id').sum().reset_index() # .rename(columns={'gross_revenue': 'monetary'})\n",
    "df_ref = pd.merge(df_ref, df_monetary, how='left', on='customer_id')\n",
    "df_ref.isna().sum()"
   ]
  },
  {
   "cell_type": "markdown",
   "id": "39634d79",
   "metadata": {
    "ExecuteTime": {
     "end_time": "2021-08-09T16:49:44.138631Z",
     "start_time": "2021-08-09T16:49:44.131084Z"
    },
    "heading_collapsed": true,
    "hidden": true,
    "papermill": {
     "duration": 0.075352,
     "end_time": "2021-10-13T21:54:03.954702",
     "exception": false,
     "start_time": "2021-10-13T21:54:03.879350",
     "status": "completed"
    },
    "tags": []
   },
   "source": [
    "### 3.1.2. Recency"
   ]
  },
  {
   "cell_type": "code",
   "execution_count": 24,
   "id": "86e6efcc",
   "metadata": {
    "ExecuteTime": {
     "end_time": "2021-10-13T21:30:24.172584Z",
     "start_time": "2021-10-13T21:30:24.131091Z"
    },
    "execution": {
     "iopub.execute_input": "2021-10-13T21:54:04.115881Z",
     "iopub.status.busy": "2021-10-13T21:54:04.114966Z",
     "iopub.status.idle": "2021-10-13T21:54:04.141672Z",
     "shell.execute_reply": "2021-10-13T21:54:04.140828Z"
    },
    "hidden": true,
    "papermill": {
     "duration": 0.113306,
     "end_time": "2021-10-13T21:54:04.141852",
     "exception": false,
     "start_time": "2021-10-13T21:54:04.028546",
     "status": "completed"
    },
    "tags": []
   },
   "outputs": [
    {
     "data": {
      "text/plain": [
       "customer_id       0\n",
       "gross_revenue    92\n",
       "recency_days     92\n",
       "dtype: int64"
      ]
     },
     "execution_count": 24,
     "metadata": {},
     "output_type": "execute_result"
    }
   ],
   "source": [
    "df_recency = df2_purchases.loc[:, ['customer_id', 'invoice_date']].groupby('customer_id').max().reset_index()\n",
    "df_recency['recency_days'] = (df_recency['invoice_date'].max() - df_recency['invoice_date']).dt.days\n",
    "df_ref = pd.merge(df_ref, df_recency[['customer_id', 'recency_days']], how='left', on='customer_id')\n",
    "\n",
    "df_ref.isna().sum()"
   ]
  },
  {
   "cell_type": "markdown",
   "id": "25bdfbc6",
   "metadata": {
    "ExecuteTime": {
     "end_time": "2021-08-09T16:49:44.138631Z",
     "start_time": "2021-08-09T16:49:44.131084Z"
    },
    "heading_collapsed": true,
    "hidden": true,
    "papermill": {
     "duration": 0.07635,
     "end_time": "2021-10-13T21:54:04.299328",
     "exception": false,
     "start_time": "2021-10-13T21:54:04.222978",
     "status": "completed"
    },
    "tags": []
   },
   "source": [
    "### 3.1.3. Quatily of purchased"
   ]
  },
  {
   "cell_type": "code",
   "execution_count": 25,
   "id": "f95c9fd1",
   "metadata": {
    "ExecuteTime": {
     "end_time": "2021-10-13T21:30:24.280177Z",
     "start_time": "2021-10-13T21:30:24.174687Z"
    },
    "execution": {
     "iopub.execute_input": "2021-10-13T21:54:04.466391Z",
     "iopub.status.busy": "2021-10-13T21:54:04.464902Z",
     "iopub.status.idle": "2021-10-13T21:54:04.528670Z",
     "shell.execute_reply": "2021-10-13T21:54:04.528047Z"
    },
    "hidden": true,
    "papermill": {
     "duration": 0.15495,
     "end_time": "2021-10-13T21:54:04.528806",
     "exception": false,
     "start_time": "2021-10-13T21:54:04.373856",
     "status": "completed"
    },
    "tags": []
   },
   "outputs": [
    {
     "data": {
      "text/plain": [
       "customer_id       0\n",
       "gross_revenue    92\n",
       "recency_days     92\n",
       "qtde_invoices    92\n",
       "dtype: int64"
      ]
     },
     "execution_count": 25,
     "metadata": {},
     "output_type": "execute_result"
    }
   ],
   "source": [
    "df_freq = df2_purchases[['customer_id', 'invoice_no']].drop_duplicates().groupby('customer_id').count().reset_index().\\\n",
    "rename(columns={'invoice_no': 'qtde_invoices'})\n",
    "\n",
    "df_ref = pd.merge(df_ref, df_freq, how='left', on='customer_id')\n",
    "df_ref.isna().sum()"
   ]
  },
  {
   "cell_type": "markdown",
   "id": "a2f4d7c7",
   "metadata": {
    "heading_collapsed": true,
    "hidden": true,
    "papermill": {
     "duration": 0.076018,
     "end_time": "2021-10-13T21:54:04.679763",
     "exception": false,
     "start_time": "2021-10-13T21:54:04.603745",
     "status": "completed"
    },
    "tags": []
   },
   "source": [
    "### 3.1.4. Quantity total of items purchased"
   ]
  },
  {
   "cell_type": "code",
   "execution_count": 26,
   "id": "a59a9d62",
   "metadata": {
    "ExecuteTime": {
     "end_time": "2021-10-13T21:30:24.335013Z",
     "start_time": "2021-10-13T21:30:24.285148Z"
    },
    "execution": {
     "iopub.execute_input": "2021-10-13T21:54:04.846729Z",
     "iopub.status.busy": "2021-10-13T21:54:04.845709Z",
     "iopub.status.idle": "2021-10-13T21:54:04.872963Z",
     "shell.execute_reply": "2021-10-13T21:54:04.872432Z"
    },
    "hidden": true,
    "papermill": {
     "duration": 0.116705,
     "end_time": "2021-10-13T21:54:04.873097",
     "exception": false,
     "start_time": "2021-10-13T21:54:04.756392",
     "status": "completed"
    },
    "tags": []
   },
   "outputs": [
    {
     "data": {
      "text/plain": [
       "customer_id       0\n",
       "gross_revenue    92\n",
       "recency_days     92\n",
       "qtde_invoices    92\n",
       "qtde_items       92\n",
       "dtype: int64"
      ]
     },
     "execution_count": 26,
     "metadata": {},
     "output_type": "execute_result"
    }
   ],
   "source": [
    "df_freq = (df2_purchases.loc[:, ['customer_id', 'quantity']].groupby('customer_id')\n",
    "                                                            .sum()\n",
    "                                                            .reset_index()\n",
    "                                                            .rename(columns={'quantity': 'qtde_items'}))\n",
    "df_ref = pd.merge(df_ref, df_freq, how='left', on='customer_id')\n",
    "df_ref.isna().sum()"
   ]
  },
  {
   "cell_type": "markdown",
   "id": "410ffb81",
   "metadata": {
    "ExecuteTime": {
     "end_time": "2021-08-12T13:29:13.252634Z",
     "start_time": "2021-08-12T13:29:13.237186Z"
    },
    "heading_collapsed": true,
    "hidden": true,
    "papermill": {
     "duration": 0.077239,
     "end_time": "2021-10-13T21:54:05.030921",
     "exception": false,
     "start_time": "2021-10-13T21:54:04.953682",
     "status": "completed"
    },
    "tags": []
   },
   "source": [
    "### 3.1.5. Quantity of products purchased"
   ]
  },
  {
   "cell_type": "code",
   "execution_count": 27,
   "id": "81686ba1",
   "metadata": {
    "ExecuteTime": {
     "end_time": "2021-10-13T21:30:24.438881Z",
     "start_time": "2021-10-13T21:30:24.338854Z"
    },
    "execution": {
     "iopub.execute_input": "2021-10-13T21:54:05.200982Z",
     "iopub.status.busy": "2021-10-13T21:54:05.194400Z",
     "iopub.status.idle": "2021-10-13T21:54:05.264529Z",
     "shell.execute_reply": "2021-10-13T21:54:05.263926Z"
    },
    "hidden": true,
    "papermill": {
     "duration": 0.156574,
     "end_time": "2021-10-13T21:54:05.264660",
     "exception": false,
     "start_time": "2021-10-13T21:54:05.108086",
     "status": "completed"
    },
    "tags": []
   },
   "outputs": [
    {
     "data": {
      "text/plain": [
       "customer_id       0\n",
       "gross_revenue    92\n",
       "recency_days     92\n",
       "qtde_invoices    92\n",
       "qtde_items       92\n",
       "qtde_products    92\n",
       "dtype: int64"
      ]
     },
     "execution_count": 27,
     "metadata": {},
     "output_type": "execute_result"
    }
   ],
   "source": [
    "df_freq = ( df2_purchases.loc[:, ['customer_id', 'stock_code']].groupby('customer_id')\n",
    "                                                               .count()\n",
    "                                                               .reset_index()\n",
    "                                                               .rename(columns={'stock_code': 'qtde_products'}))\n",
    "df_ref = pd.merge(df_ref, df_freq, how='left', on='customer_id')\n",
    "df_ref.isna().sum()"
   ]
  },
  {
   "cell_type": "markdown",
   "id": "0bbbf7fe",
   "metadata": {
    "ExecuteTime": {
     "end_time": "2021-08-09T16:49:44.138631Z",
     "start_time": "2021-08-09T16:49:44.131084Z"
    },
    "heading_collapsed": true,
    "hidden": true,
    "papermill": {
     "duration": 0.078535,
     "end_time": "2021-10-13T21:54:05.420790",
     "exception": false,
     "start_time": "2021-10-13T21:54:05.342255",
     "status": "completed"
    },
    "tags": []
   },
   "source": [
    "### 3.1.6. Average Ticket"
   ]
  },
  {
   "cell_type": "code",
   "execution_count": 28,
   "id": "d2d0eed6",
   "metadata": {
    "ExecuteTime": {
     "end_time": "2021-10-13T21:30:24.487132Z",
     "start_time": "2021-10-13T21:30:24.447238Z"
    },
    "execution": {
     "iopub.execute_input": "2021-10-13T21:54:05.588623Z",
     "iopub.status.busy": "2021-10-13T21:54:05.587932Z",
     "iopub.status.idle": "2021-10-13T21:54:05.611392Z",
     "shell.execute_reply": "2021-10-13T21:54:05.612120Z"
    },
    "hidden": true,
    "papermill": {
     "duration": 0.11467,
     "end_time": "2021-10-13T21:54:05.612348",
     "exception": false,
     "start_time": "2021-10-13T21:54:05.497678",
     "status": "completed"
    },
    "tags": []
   },
   "outputs": [
    {
     "data": {
      "text/plain": [
       "customer_id       0\n",
       "gross_revenue    92\n",
       "recency_days     92\n",
       "qtde_invoices    92\n",
       "qtde_items       92\n",
       "qtde_products    92\n",
       "avg_ticket       92\n",
       "dtype: int64"
      ]
     },
     "execution_count": 28,
     "metadata": {},
     "output_type": "execute_result"
    }
   ],
   "source": [
    "df_avg_ticket =  (df2_purchases.loc[:, ['customer_id','gross_revenue']].groupby('customer_id')\n",
    "                                                                       .mean()\n",
    "                                                                       .reset_index()\n",
    "                                                                       .rename(columns={'gross_revenue': 'avg_ticket'}))\n",
    "\n",
    "df_ref = pd.merge(df_ref, df_avg_ticket, how='left', on='customer_id')\n",
    "\n",
    "df_ref.isna().sum()"
   ]
  },
  {
   "cell_type": "markdown",
   "id": "9c33c58d",
   "metadata": {
    "heading_collapsed": true,
    "hidden": true,
    "papermill": {
     "duration": 0.07735,
     "end_time": "2021-10-13T21:54:05.769154",
     "exception": false,
     "start_time": "2021-10-13T21:54:05.691804",
     "status": "completed"
    },
    "tags": []
   },
   "source": [
    "### 3.1.7. Average Recency Days"
   ]
  },
  {
   "cell_type": "code",
   "execution_count": 29,
   "id": "bd3c3af6",
   "metadata": {
    "ExecuteTime": {
     "end_time": "2021-10-13T21:30:24.495825Z",
     "start_time": "2021-10-13T21:30:24.489173Z"
    },
    "execution": {
     "iopub.execute_input": "2021-10-13T21:54:05.930384Z",
     "iopub.status.busy": "2021-10-13T21:54:05.929192Z",
     "iopub.status.idle": "2021-10-13T21:54:05.931955Z",
     "shell.execute_reply": "2021-10-13T21:54:05.932504Z"
    },
    "hidden": true,
    "papermill": {
     "duration": 0.086392,
     "end_time": "2021-10-13T21:54:05.932683",
     "exception": false,
     "start_time": "2021-10-13T21:54:05.846291",
     "status": "completed"
    },
    "tags": []
   },
   "outputs": [],
   "source": [
    "# df_aux = df2[['customer_id', 'invoice_date']].drop_duplicates().sort_values(['customer_id', 'invoice_date'], ascending=[False, False])\n",
    "# df_aux['next_customer_id'] = df_aux['customer_id'].shift()\n",
    "# df_aux['previus_date'] = df_aux['invoice_date'].shift()\n",
    "\n",
    "# df_aux['avg_recency_days'] = df_aux.apply( lambda x: (x['invoice_date'] - x['previus_date']).days if x['customer_id'] == x['next_customer_id'] else np.nan, axis=1)\n",
    "# df_aux['avg_recency_days'] = df_aux['avg_recency_days'] * -1\n",
    "# df_aux = df_aux.drop(columns=['invoice_date', 'next_customer_id', 'previus_date'], axis=1).dropna()\n",
    "\n",
    "# df_avg_recency_days = df_aux.groupby( 'customer_id' ).mean().reset_index()\n",
    "\n",
    "# df_ref = pd.merge(df_ref, df_avg_recency_days, on='customer_id', how='left')\n",
    "# df_ref.isna().sum()"
   ]
  },
  {
   "cell_type": "markdown",
   "id": "922407e6",
   "metadata": {
    "heading_collapsed": true,
    "hidden": true,
    "papermill": {
     "duration": 0.078479,
     "end_time": "2021-10-13T21:54:06.090856",
     "exception": false,
     "start_time": "2021-10-13T21:54:06.012377",
     "status": "completed"
    },
    "tags": []
   },
   "source": [
    "### 3.1.8. Frequency Purchase"
   ]
  },
  {
   "cell_type": "code",
   "execution_count": 30,
   "id": "ecf5a5d7",
   "metadata": {
    "ExecuteTime": {
     "end_time": "2021-10-13T21:30:26.437348Z",
     "start_time": "2021-10-13T21:30:24.501558Z"
    },
    "execution": {
     "iopub.execute_input": "2021-10-13T21:54:06.263663Z",
     "iopub.status.busy": "2021-10-13T21:54:06.257921Z",
     "iopub.status.idle": "2021-10-13T21:54:07.950794Z",
     "shell.execute_reply": "2021-10-13T21:54:07.949983Z"
    },
    "hidden": true,
    "papermill": {
     "duration": 1.782974,
     "end_time": "2021-10-13T21:54:07.950970",
     "exception": false,
     "start_time": "2021-10-13T21:54:06.167996",
     "status": "completed"
    },
    "tags": []
   },
   "outputs": [
    {
     "data": {
      "text/plain": [
       "customer_id       0\n",
       "gross_revenue    92\n",
       "recency_days     92\n",
       "qtde_invoices    92\n",
       "qtde_items       92\n",
       "qtde_products    92\n",
       "avg_ticket       92\n",
       "frequency        92\n",
       "dtype: int64"
      ]
     },
     "execution_count": 30,
     "metadata": {},
     "output_type": "execute_result"
    }
   ],
   "source": [
    "df_aux = (df2_purchases[['customer_id', 'invoice_no', 'invoice_date']].drop_duplicates()\n",
    "                                                 .groupby('customer_id')\n",
    "                                                 .agg( max_ = ('invoice_date', 'max'),\n",
    "                                                       min_ = ('invoice_date', 'min'),\n",
    "                                                       days = ('invoice_date', lambda x: ((x.max() - x.min()).days) + 1 ),\n",
    "                                                       buy_ = ( 'invoice_no', 'count' ))).reset_index()\n",
    "\n",
    "df_aux['frequency'] = df_aux[['buy_', 'days']].apply( lambda x: x['buy_'] / x['days'] if x['days'] != 0 else 0, axis=1 )\n",
    "\n",
    "df_ref = pd.merge(df_ref, df_aux[['customer_id', 'frequency']], on='customer_id', how='left')\n",
    "df_ref.isna().sum()"
   ]
  },
  {
   "cell_type": "markdown",
   "id": "a90650fd",
   "metadata": {
    "heading_collapsed": true,
    "hidden": true,
    "papermill": {
     "duration": 0.079514,
     "end_time": "2021-10-13T21:54:08.115418",
     "exception": false,
     "start_time": "2021-10-13T21:54:08.035904",
     "status": "completed"
    },
    "tags": []
   },
   "source": [
    "### 3.1.9. Number Or Returns"
   ]
  },
  {
   "cell_type": "code",
   "execution_count": 31,
   "id": "fc6071ef",
   "metadata": {
    "ExecuteTime": {
     "end_time": "2021-10-13T21:30:26.475834Z",
     "start_time": "2021-10-13T21:30:26.440644Z"
    },
    "execution": {
     "iopub.execute_input": "2021-10-13T21:54:08.284847Z",
     "iopub.status.busy": "2021-10-13T21:54:08.283791Z",
     "iopub.status.idle": "2021-10-13T21:54:08.303360Z",
     "shell.execute_reply": "2021-10-13T21:54:08.304192Z"
    },
    "hidden": true,
    "papermill": {
     "duration": 0.110338,
     "end_time": "2021-10-13T21:54:08.304449",
     "exception": false,
     "start_time": "2021-10-13T21:54:08.194111",
     "status": "completed"
    },
    "tags": []
   },
   "outputs": [
    {
     "data": {
      "text/plain": [
       "customer_id       0\n",
       "gross_revenue    92\n",
       "recency_days     92\n",
       "qtde_invoices    92\n",
       "qtde_items       92\n",
       "qtde_products    92\n",
       "avg_ticket       92\n",
       "frequency        92\n",
       "qtde_returns      0\n",
       "dtype: int64"
      ]
     },
     "execution_count": 31,
     "metadata": {},
     "output_type": "execute_result"
    }
   ],
   "source": [
    "df_returns = df2_returns[['quantity', 'customer_id']].groupby('customer_id').sum().reset_index().rename(columns={'quantity': 'qtde_returns'})\n",
    "df_returns['qtde_returns'] = df_returns['qtde_returns'] * -1\n",
    "\n",
    "df_ref = pd.merge(df_ref, df_returns, on='customer_id', how='left')\n",
    "df_ref['qtde_returns'].fillna(0, inplace=True)\n",
    "df_ref.isna().sum()"
   ]
  },
  {
   "cell_type": "markdown",
   "id": "83a0383f",
   "metadata": {
    "heading_collapsed": true,
    "hidden": true,
    "papermill": {
     "duration": 0.079431,
     "end_time": "2021-10-13T21:54:08.468619",
     "exception": false,
     "start_time": "2021-10-13T21:54:08.389188",
     "status": "completed"
    },
    "tags": []
   },
   "source": [
    "### 3.1.10. Basket Size"
   ]
  },
  {
   "cell_type": "code",
   "execution_count": 32,
   "id": "f823e35f",
   "metadata": {
    "ExecuteTime": {
     "end_time": "2021-10-13T21:30:26.616450Z",
     "start_time": "2021-10-13T21:30:26.478305Z"
    },
    "execution": {
     "iopub.execute_input": "2021-10-13T21:54:08.646278Z",
     "iopub.status.busy": "2021-10-13T21:54:08.639142Z",
     "iopub.status.idle": "2021-10-13T21:54:08.729356Z",
     "shell.execute_reply": "2021-10-13T21:54:08.730027Z"
    },
    "hidden": true,
    "papermill": {
     "duration": 0.181421,
     "end_time": "2021-10-13T21:54:08.730237",
     "exception": false,
     "start_time": "2021-10-13T21:54:08.548816",
     "status": "completed"
    },
    "tags": []
   },
   "outputs": [
    {
     "data": {
      "text/plain": [
       "customer_id         0\n",
       "gross_revenue      92\n",
       "recency_days       92\n",
       "qtde_invoices      92\n",
       "qtde_items         92\n",
       "qtde_products      92\n",
       "avg_ticket         92\n",
       "frequency          92\n",
       "qtde_returns        0\n",
       "avg_basket_size    92\n",
       "dtype: int64"
      ]
     },
     "execution_count": 32,
     "metadata": {},
     "output_type": "execute_result"
    }
   ],
   "source": [
    "df_aux = (df2_purchases[['customer_id', 'invoice_no', 'quantity']].groupby('customer_id')\n",
    "                                                                   .agg( n_purchase=('invoice_no', 'nunique'),\n",
    "                                                                         n_products=('quantity', 'sum'))).reset_index()\n",
    "df_aux['avg_basket_size'] = df_aux['n_products'] / df_aux['n_purchase']\n",
    "df_ref = pd.merge(df_ref, df_aux[['avg_basket_size', 'customer_id']], on='customer_id', how='left')\n",
    "df_ref.isna().sum()"
   ]
  },
  {
   "cell_type": "markdown",
   "id": "308da526",
   "metadata": {
    "heading_collapsed": true,
    "hidden": true,
    "papermill": {
     "duration": 0.081424,
     "end_time": "2021-10-13T21:54:08.911489",
     "exception": false,
     "start_time": "2021-10-13T21:54:08.830065",
     "status": "completed"
    },
    "tags": []
   },
   "source": [
    "### 3.1.11. Unique Basket Size"
   ]
  },
  {
   "cell_type": "code",
   "execution_count": 33,
   "id": "e81c5029",
   "metadata": {
    "ExecuteTime": {
     "end_time": "2021-10-13T21:30:26.900503Z",
     "start_time": "2021-10-13T21:30:26.619114Z"
    },
    "execution": {
     "iopub.execute_input": "2021-10-13T21:54:09.100908Z",
     "iopub.status.busy": "2021-10-13T21:54:09.098659Z",
     "iopub.status.idle": "2021-10-13T21:54:09.323834Z",
     "shell.execute_reply": "2021-10-13T21:54:09.324309Z"
    },
    "hidden": true,
    "papermill": {
     "duration": 0.3301,
     "end_time": "2021-10-13T21:54:09.324468",
     "exception": false,
     "start_time": "2021-10-13T21:54:08.994368",
     "status": "completed"
    },
    "scrolled": true,
    "tags": []
   },
   "outputs": [
    {
     "data": {
      "text/plain": [
       "customer_id                0\n",
       "gross_revenue             92\n",
       "recency_days              92\n",
       "qtde_invoices             92\n",
       "qtde_items                92\n",
       "qtde_products             92\n",
       "avg_ticket                92\n",
       "frequency                 92\n",
       "qtde_returns               0\n",
       "avg_basket_size           92\n",
       "avg_unique_basket_size    92\n",
       "dtype: int64"
      ]
     },
     "execution_count": 33,
     "metadata": {},
     "output_type": "execute_result"
    }
   ],
   "source": [
    "df_aux = (df2_purchases.loc[:, ['customer_id', 'invoice_no', 'stock_code']].groupby( 'customer_id' )\n",
    "                                                                         .agg(n_purchase=('invoice_no', 'nunique'),\n",
    "                                                                              n_products=('stock_code', 'nunique'))).reset_index()\n",
    "df_aux['avg_unique_basket_size'] = df_aux['n_products'] / df_aux['n_purchase']\n",
    "\n",
    "df_ref = pd.merge(df_ref, df_aux[['avg_unique_basket_size', 'customer_id']], on='customer_id', how='left')\n",
    "df_ref.isna().sum()"
   ]
  },
  {
   "cell_type": "markdown",
   "id": "5e87e47c",
   "metadata": {
    "papermill": {
     "duration": 0.080417,
     "end_time": "2021-10-13T21:54:09.489427",
     "exception": false,
     "start_time": "2021-10-13T21:54:09.409010",
     "status": "completed"
    },
    "tags": []
   },
   "source": [
    "# 4.0. EDA  "
   ]
  },
  {
   "cell_type": "code",
   "execution_count": 34,
   "id": "aac53260",
   "metadata": {
    "ExecuteTime": {
     "end_time": "2021-10-13T21:30:26.916244Z",
     "start_time": "2021-10-13T21:30:26.902849Z"
    },
    "execution": {
     "iopub.execute_input": "2021-10-13T21:54:09.656784Z",
     "iopub.status.busy": "2021-10-13T21:54:09.656165Z",
     "iopub.status.idle": "2021-10-13T21:54:09.663610Z",
     "shell.execute_reply": "2021-10-13T21:54:09.664362Z"
    },
    "papermill": {
     "duration": 0.093657,
     "end_time": "2021-10-13T21:54:09.664600",
     "exception": false,
     "start_time": "2021-10-13T21:54:09.570943",
     "status": "completed"
    },
    "tags": []
   },
   "outputs": [],
   "source": [
    "df_ref = df_ref.dropna()\n",
    "\n",
    "df4 = df_ref.copy()"
   ]
  },
  {
   "cell_type": "markdown",
   "id": "750cdf49",
   "metadata": {
    "papermill": {
     "duration": 0.080759,
     "end_time": "2021-10-13T21:54:09.827487",
     "exception": false,
     "start_time": "2021-10-13T21:54:09.746728",
     "status": "completed"
    },
    "tags": []
   },
   "source": [
    "## 4.3. Space Study"
   ]
  },
  {
   "cell_type": "code",
   "execution_count": 35,
   "id": "8bdf11fc",
   "metadata": {
    "ExecuteTime": {
     "end_time": "2021-10-13T21:30:26.947301Z",
     "start_time": "2021-10-13T21:30:26.919220Z"
    },
    "execution": {
     "iopub.execute_input": "2021-10-13T21:54:10.002484Z",
     "iopub.status.busy": "2021-10-13T21:54:09.991546Z",
     "iopub.status.idle": "2021-10-13T21:54:10.018275Z",
     "shell.execute_reply": "2021-10-13T21:54:10.017303Z"
    },
    "papermill": {
     "duration": 0.11041,
     "end_time": "2021-10-13T21:54:10.018587",
     "exception": false,
     "start_time": "2021-10-13T21:54:09.908177",
     "status": "completed"
    },
    "tags": []
   },
   "outputs": [],
   "source": [
    "# select dataser\n",
    "cols_selected = ['customer_id', 'gross_revenue', 'recency_days', 'qtde_products', 'frequency', 'qtde_returns']\n",
    "df43 = df4[cols_selected].copy()\n",
    "\n",
    "mms = pp.MinMaxScaler()\n",
    "\n",
    "df43['gross_revenue'] = mms.fit_transform( df43[['gross_revenue']].values )\n",
    "df43['recency_days'] = mms.fit_transform( df43[['recency_days']].values )\n",
    "df43['qtde_products'] = mms.fit_transform( df43[['qtde_products']].values )\n",
    "df43['frequency'] = mms.fit_transform( df43[['frequency']].values )\n",
    "df43['qtde_returns'] = mms.fit_transform( df43[['qtde_returns']].values )"
   ]
  },
  {
   "cell_type": "markdown",
   "id": "47b38921",
   "metadata": {
    "papermill": {
     "duration": 0.108011,
     "end_time": "2021-10-13T21:54:10.219180",
     "exception": false,
     "start_time": "2021-10-13T21:54:10.111169",
     "status": "completed"
    },
    "tags": []
   },
   "source": [
    "### 4.3.4. Tree-Based Embbedding"
   ]
  },
  {
   "cell_type": "code",
   "execution_count": 36,
   "id": "77ad5bfc",
   "metadata": {
    "ExecuteTime": {
     "end_time": "2021-10-13T21:31:00.804877Z",
     "start_time": "2021-10-13T21:30:26.951018Z"
    },
    "execution": {
     "iopub.execute_input": "2021-10-13T21:54:10.430971Z",
     "iopub.status.busy": "2021-10-13T21:54:10.430175Z",
     "iopub.status.idle": "2021-10-13T21:54:51.233652Z",
     "shell.execute_reply": "2021-10-13T21:54:51.234708Z"
    },
    "papermill": {
     "duration": 40.910815,
     "end_time": "2021-10-13T21:54:51.235082",
     "exception": false,
     "start_time": "2021-10-13T21:54:10.324267",
     "status": "completed"
    },
    "tags": []
   },
   "outputs": [
    {
     "name": "stderr",
     "output_type": "stream",
     "text": [
      "/home/cid/.pyenv/versions/3.8.0/envs/clustering-high-value-customers-identification/lib/python3.8/site-packages/sklearn/manifold/_spectral_embedding.py:245: UserWarning: Graph is not fully connected, spectral embedding may not work as expected.\n",
      "  warnings.warn(\"Graph is not fully connected, spectral embedding\"\n"
     ]
    }
   ],
   "source": [
    "X = df43.drop(columns=['customer_id', 'gross_revenue'])\n",
    "y = df43['gross_revenue']\n",
    "\n",
    "# model training\n",
    "rf_model = en.RandomForestRegressor( n_estimators=100, random_state=42 )\n",
    "\n",
    "# model training definition\n",
    "rf_model.fit( X, y)\n",
    "\n",
    "#  leaf\n",
    "df_leaf = pd.DataFrame( rf_model.apply( X ) )\n",
    "\n",
    "# create dataframe tree\n",
    "df_tree = pd.DataFrame()\n",
    "\n",
    "# reduzer dimensionality\n",
    "reducer = UMAP(random_state=42)\n",
    "embedding = reducer.fit_transform( df_leaf )\n",
    "\n",
    "# embedding\n",
    "df_tree['embedding_x'] = embedding[:, 0]\n",
    "df_tree['embedding_y'] = embedding[:, 1]"
   ]
  },
  {
   "cell_type": "markdown",
   "id": "87741823",
   "metadata": {
    "papermill": {
     "duration": 0.103134,
     "end_time": "2021-10-13T21:54:51.441477",
     "exception": false,
     "start_time": "2021-10-13T21:54:51.338343",
     "status": "completed"
    },
    "tags": []
   },
   "source": [
    "# 5.0. Data Preparation"
   ]
  },
  {
   "cell_type": "code",
   "execution_count": 37,
   "id": "45d6888e",
   "metadata": {
    "ExecuteTime": {
     "end_time": "2021-10-13T21:31:00.813479Z",
     "start_time": "2021-10-13T21:31:00.807969Z"
    },
    "execution": {
     "iopub.execute_input": "2021-10-13T21:54:51.645121Z",
     "iopub.status.busy": "2021-10-13T21:54:51.644388Z",
     "iopub.status.idle": "2021-10-13T21:54:51.646590Z",
     "shell.execute_reply": "2021-10-13T21:54:51.647069Z"
    },
    "papermill": {
     "duration": 0.108894,
     "end_time": "2021-10-13T21:54:51.647237",
     "exception": false,
     "start_time": "2021-10-13T21:54:51.538343",
     "status": "completed"
    },
    "tags": []
   },
   "outputs": [],
   "source": [
    "df5 = df_tree.copy()\n",
    "# df5.to_csv( '../src/data/tree_based_embedding.csv', index=False )"
   ]
  },
  {
   "cell_type": "markdown",
   "id": "102e3348",
   "metadata": {
    "papermill": {
     "duration": 0.11413,
     "end_time": "2021-10-13T21:54:51.860959",
     "exception": false,
     "start_time": "2021-10-13T21:54:51.746829",
     "status": "completed"
    },
    "tags": []
   },
   "source": [
    "# 7.0. Hyperpameter Fine Tuning"
   ]
  },
  {
   "cell_type": "code",
   "execution_count": 38,
   "id": "7339f801",
   "metadata": {
    "ExecuteTime": {
     "end_time": "2021-10-13T21:31:00.833770Z",
     "start_time": "2021-10-13T21:31:00.815809Z"
    },
    "execution": {
     "iopub.execute_input": "2021-10-13T21:54:52.088409Z",
     "iopub.status.busy": "2021-10-13T21:54:52.087001Z",
     "iopub.status.idle": "2021-10-13T21:54:52.096922Z",
     "shell.execute_reply": "2021-10-13T21:54:52.096365Z"
    },
    "papermill": {
     "duration": 0.136159,
     "end_time": "2021-10-13T21:54:52.097066",
     "exception": false,
     "start_time": "2021-10-13T21:54:51.960907",
     "status": "completed"
    },
    "tags": []
   },
   "outputs": [
    {
     "data": {
      "text/html": [
       "<div>\n",
       "<style scoped>\n",
       "    .dataframe tbody tr th:only-of-type {\n",
       "        vertical-align: middle;\n",
       "    }\n",
       "\n",
       "    .dataframe tbody tr th {\n",
       "        vertical-align: top;\n",
       "    }\n",
       "\n",
       "    .dataframe thead th {\n",
       "        text-align: right;\n",
       "    }\n",
       "</style>\n",
       "<table border=\"1\" class=\"dataframe\">\n",
       "  <thead>\n",
       "    <tr style=\"text-align: right;\">\n",
       "      <th></th>\n",
       "      <th>embedding_x</th>\n",
       "      <th>embedding_y</th>\n",
       "    </tr>\n",
       "  </thead>\n",
       "  <tbody>\n",
       "    <tr>\n",
       "      <th>0</th>\n",
       "      <td>17.881968</td>\n",
       "      <td>14.895823</td>\n",
       "    </tr>\n",
       "    <tr>\n",
       "      <th>1</th>\n",
       "      <td>17.940453</td>\n",
       "      <td>12.172152</td>\n",
       "    </tr>\n",
       "    <tr>\n",
       "      <th>2</th>\n",
       "      <td>18.596876</td>\n",
       "      <td>12.517838</td>\n",
       "    </tr>\n",
       "    <tr>\n",
       "      <th>3</th>\n",
       "      <td>-6.055115</td>\n",
       "      <td>-13.710513</td>\n",
       "    </tr>\n",
       "    <tr>\n",
       "      <th>4</th>\n",
       "      <td>5.152057</td>\n",
       "      <td>18.690804</td>\n",
       "    </tr>\n",
       "  </tbody>\n",
       "</table>\n",
       "</div>"
      ],
      "text/plain": [
       "   embedding_x  embedding_y\n",
       "0    17.881968    14.895823\n",
       "1    17.940453    12.172152\n",
       "2    18.596876    12.517838\n",
       "3    -6.055115   -13.710513\n",
       "4     5.152057    18.690804"
      ]
     },
     "execution_count": 38,
     "metadata": {},
     "output_type": "execute_result"
    }
   ],
   "source": [
    "X = df5.copy()\n",
    "\n",
    "X.head()"
   ]
  },
  {
   "cell_type": "markdown",
   "id": "11fdb6f0",
   "metadata": {
    "papermill": {
     "duration": 0.102207,
     "end_time": "2021-10-13T21:54:52.296964",
     "exception": false,
     "start_time": "2021-10-13T21:54:52.194757",
     "status": "completed"
    },
    "tags": []
   },
   "source": [
    "# 8.0. Model Training"
   ]
  },
  {
   "cell_type": "code",
   "execution_count": 39,
   "id": "533f8854",
   "metadata": {
    "ExecuteTime": {
     "end_time": "2021-10-13T21:31:20.903746Z",
     "start_time": "2021-10-13T21:31:00.836556Z"
    },
    "execution": {
     "iopub.execute_input": "2021-10-13T21:54:52.522084Z",
     "iopub.status.busy": "2021-10-13T21:54:52.520652Z",
     "iopub.status.idle": "2021-10-13T21:55:14.041214Z",
     "shell.execute_reply": "2021-10-13T21:55:14.039839Z"
    },
    "papermill": {
     "duration": 21.636873,
     "end_time": "2021-10-13T21:55:14.041555",
     "exception": false,
     "start_time": "2021-10-13T21:54:52.404682",
     "status": "completed"
    },
    "tags": []
   },
   "outputs": [],
   "source": [
    "# model definition\n",
    "k = 8\n",
    "gmm_model = gm(n_components=k, n_init=100, random_state=42)\n",
    "\n",
    "# model training\n",
    "gmm_model.fit(X)\n",
    "\n",
    "# model predict\n",
    "labels = gmm_model.predict(X)"
   ]
  },
  {
   "cell_type": "markdown",
   "id": "12c0d7de",
   "metadata": {
    "papermill": {
     "duration": 0.105048,
     "end_time": "2021-10-13T21:55:14.264504",
     "exception": false,
     "start_time": "2021-10-13T21:55:14.159456",
     "status": "completed"
    },
    "tags": []
   },
   "source": [
    "## 8.2. Cluster Validation "
   ]
  },
  {
   "cell_type": "code",
   "execution_count": 40,
   "id": "5f531df6",
   "metadata": {
    "ExecuteTime": {
     "end_time": "2021-10-13T21:31:22.664727Z",
     "start_time": "2021-10-13T21:31:20.906249Z"
    },
    "execution": {
     "iopub.execute_input": "2021-10-13T21:55:14.490806Z",
     "iopub.status.busy": "2021-10-13T21:55:14.489650Z",
     "iopub.status.idle": "2021-10-13T21:55:15.781719Z",
     "shell.execute_reply": "2021-10-13T21:55:15.782226Z"
    },
    "papermill": {
     "duration": 1.415868,
     "end_time": "2021-10-13T21:55:15.782420",
     "exception": false,
     "start_time": "2021-10-13T21:55:14.366552",
     "status": "completed"
    },
    "tags": []
   },
   "outputs": [
    {
     "name": "stdout",
     "output_type": "stream",
     "text": [
      "SS value: 0.37607449293136597\n"
     ]
    }
   ],
   "source": [
    "print(\"SS value: {}\".format(metrics.silhouette_score( X, labels, metric='euclidean' )))"
   ]
  },
  {
   "cell_type": "markdown",
   "id": "a6b30a59",
   "metadata": {
    "papermill": {
     "duration": 0.101042,
     "end_time": "2021-10-13T21:55:15.982113",
     "exception": false,
     "start_time": "2021-10-13T21:55:15.881071",
     "status": "completed"
    },
    "tags": []
   },
   "source": [
    "# 9.0. Cluster Analysis"
   ]
  },
  {
   "cell_type": "code",
   "execution_count": 41,
   "id": "6a23bab5",
   "metadata": {
    "ExecuteTime": {
     "end_time": "2021-10-13T21:31:22.689046Z",
     "start_time": "2021-10-13T21:31:22.671373Z"
    },
    "execution": {
     "iopub.execute_input": "2021-10-13T21:55:16.197580Z",
     "iopub.status.busy": "2021-10-13T21:55:16.196527Z",
     "iopub.status.idle": "2021-10-13T21:55:16.205252Z",
     "shell.execute_reply": "2021-10-13T21:55:16.204204Z"
    },
    "papermill": {
     "duration": 0.122358,
     "end_time": "2021-10-13T21:55:16.205396",
     "exception": false,
     "start_time": "2021-10-13T21:55:16.083038",
     "status": "completed"
    },
    "tags": []
   },
   "outputs": [],
   "source": [
    "df92 = df4[cols_selected].copy()\n",
    "df92['cluster'] = labels\n",
    "\n",
    "# change dtypes\n",
    "df92['recency_days'] = df92['recency_days'].astype(int)\n",
    "df92['qtde_products'] = df92['qtde_products'].astype(int)\n",
    "df92['qtde_returns'] = df92['qtde_returns'].astype(int)"
   ]
  },
  {
   "cell_type": "markdown",
   "id": "b253d006",
   "metadata": {
    "papermill": {
     "duration": 0.105292,
     "end_time": "2021-10-13T21:55:16.412725",
     "exception": false,
     "start_time": "2021-10-13T21:55:16.307433",
     "status": "completed"
    },
    "tags": []
   },
   "source": [
    "## 9.2. Cluster Profile"
   ]
  },
  {
   "cell_type": "code",
   "execution_count": 42,
   "id": "b0ceaa89",
   "metadata": {
    "ExecuteTime": {
     "end_time": "2021-10-13T21:31:22.959150Z",
     "start_time": "2021-10-13T21:31:22.692532Z"
    },
    "execution": {
     "iopub.execute_input": "2021-10-13T21:55:16.635445Z",
     "iopub.status.busy": "2021-10-13T21:55:16.624657Z",
     "iopub.status.idle": "2021-10-13T21:55:16.810077Z",
     "shell.execute_reply": "2021-10-13T21:55:16.809497Z"
    },
    "papermill": {
     "duration": 0.292534,
     "end_time": "2021-10-13T21:55:16.810224",
     "exception": false,
     "start_time": "2021-10-13T21:55:16.517690",
     "status": "completed"
    },
    "tags": []
   },
   "outputs": [
    {
     "data": {
      "text/html": [
       "<style type=\"text/css\">\n",
       "#T_df3ec_row0_col3, #T_df3ec_row0_col5, #T_df3ec_row0_col7, #T_df3ec_row1_col0, #T_df3ec_row5_col1, #T_df3ec_row5_col2, #T_df3ec_row5_col4, #T_df3ec_row5_col6 {\n",
       "  background-color: lightgreen;\n",
       "}\n",
       "</style>\n",
       "<table id=\"T_df3ec_\">\n",
       "  <thead>\n",
       "    <tr>\n",
       "      <th class=\"blank level0\" >&nbsp;</th>\n",
       "      <th class=\"col_heading level0 col0\" >cluster</th>\n",
       "      <th class=\"col_heading level0 col1\" >qt_users</th>\n",
       "      <th class=\"col_heading level0 col2\" >per_user</th>\n",
       "      <th class=\"col_heading level0 col3\" >gross_revenue</th>\n",
       "      <th class=\"col_heading level0 col4\" >recency_days</th>\n",
       "      <th class=\"col_heading level0 col5\" >qtde_products</th>\n",
       "      <th class=\"col_heading level0 col6\" >frequency</th>\n",
       "      <th class=\"col_heading level0 col7\" >qtde_returns</th>\n",
       "    </tr>\n",
       "  </thead>\n",
       "  <tbody>\n",
       "    <tr>\n",
       "      <th id=\"T_df3ec_level0_row0\" class=\"row_heading level0 row0\" >0</th>\n",
       "      <td id=\"T_df3ec_row0_col0\" class=\"data row0 col0\" >0</td>\n",
       "      <td id=\"T_df3ec_row0_col1\" class=\"data row0 col1\" >918</td>\n",
       "      <td id=\"T_df3ec_row0_col2\" class=\"data row0 col2\" >16.159127</td>\n",
       "      <td id=\"T_df3ec_row0_col3\" class=\"data row0 col3\" >5890.422756</td>\n",
       "      <td id=\"T_df3ec_row0_col4\" class=\"data row0 col4\" >55.006536</td>\n",
       "      <td id=\"T_df3ec_row0_col5\" class=\"data row0 col5\" >292.521786</td>\n",
       "      <td id=\"T_df3ec_row0_col6\" class=\"data row0 col6\" >0.202352</td>\n",
       "      <td id=\"T_df3ec_row0_col7\" class=\"data row0 col7\" >162.967320</td>\n",
       "    </tr>\n",
       "    <tr>\n",
       "      <th id=\"T_df3ec_level0_row1\" class=\"row_heading level0 row1\" >7</th>\n",
       "      <td id=\"T_df3ec_row1_col0\" class=\"data row1 col0\" >7</td>\n",
       "      <td id=\"T_df3ec_row1_col1\" class=\"data row1 col1\" >729</td>\n",
       "      <td id=\"T_df3ec_row1_col2\" class=\"data row1 col2\" >12.832248</td>\n",
       "      <td id=\"T_df3ec_row1_col3\" class=\"data row1 col3\" >2099.885254</td>\n",
       "      <td id=\"T_df3ec_row1_col4\" class=\"data row1 col4\" >101.890261</td>\n",
       "      <td id=\"T_df3ec_row1_col5\" class=\"data row1 col5\" >158.170096</td>\n",
       "      <td id=\"T_df3ec_row1_col6\" class=\"data row1 col6\" >0.469244</td>\n",
       "      <td id=\"T_df3ec_row1_col7\" class=\"data row1 col7\" >0.185185</td>\n",
       "    </tr>\n",
       "    <tr>\n",
       "      <th id=\"T_df3ec_level0_row2\" class=\"row_heading level0 row2\" >3</th>\n",
       "      <td id=\"T_df3ec_row2_col0\" class=\"data row2 col0\" >3</td>\n",
       "      <td id=\"T_df3ec_row2_col1\" class=\"data row2 col1\" >363</td>\n",
       "      <td id=\"T_df3ec_row2_col2\" class=\"data row2 col2\" >6.389720</td>\n",
       "      <td id=\"T_df3ec_row2_col3\" class=\"data row2 col3\" >1167.181322</td>\n",
       "      <td id=\"T_df3ec_row2_col4\" class=\"data row2 col4\" >61.900826</td>\n",
       "      <td id=\"T_df3ec_row2_col5\" class=\"data row2 col5\" >57.005510</td>\n",
       "      <td id=\"T_df3ec_row2_col6\" class=\"data row2 col6\" >0.027708</td>\n",
       "      <td id=\"T_df3ec_row2_col7\" class=\"data row2 col7\" >9.991736</td>\n",
       "    </tr>\n",
       "    <tr>\n",
       "      <th id=\"T_df3ec_level0_row3\" class=\"row_heading level0 row3\" >6</th>\n",
       "      <td id=\"T_df3ec_row3_col0\" class=\"data row3 col0\" >6</td>\n",
       "      <td id=\"T_df3ec_row3_col1\" class=\"data row3 col1\" >219</td>\n",
       "      <td id=\"T_df3ec_row3_col2\" class=\"data row3 col2\" >3.854955</td>\n",
       "      <td id=\"T_df3ec_row3_col3\" class=\"data row3 col3\" >959.385160</td>\n",
       "      <td id=\"T_df3ec_row3_col4\" class=\"data row3 col4\" >81.625571</td>\n",
       "      <td id=\"T_df3ec_row3_col5\" class=\"data row3 col5\" >38.721461</td>\n",
       "      <td id=\"T_df3ec_row3_col6\" class=\"data row3 col6\" >0.232266</td>\n",
       "      <td id=\"T_df3ec_row3_col7\" class=\"data row3 col7\" >11.292237</td>\n",
       "    </tr>\n",
       "    <tr>\n",
       "      <th id=\"T_df3ec_level0_row4\" class=\"row_heading level0 row4\" >2</th>\n",
       "      <td id=\"T_df3ec_row4_col0\" class=\"data row4 col0\" >2</td>\n",
       "      <td id=\"T_df3ec_row4_col1\" class=\"data row4 col1\" >980</td>\n",
       "      <td id=\"T_df3ec_row4_col2\" class=\"data row4 col2\" >17.250484</td>\n",
       "      <td id=\"T_df3ec_row4_col3\" class=\"data row4 col3\" >928.779551</td>\n",
       "      <td id=\"T_df3ec_row4_col4\" class=\"data row4 col4\" >146.681633</td>\n",
       "      <td id=\"T_df3ec_row4_col5\" class=\"data row4 col5\" >51.101020</td>\n",
       "      <td id=\"T_df3ec_row4_col6\" class=\"data row4 col6\" >0.751629</td>\n",
       "      <td id=\"T_df3ec_row4_col7\" class=\"data row4 col7\" >5.207143</td>\n",
       "    </tr>\n",
       "    <tr>\n",
       "      <th id=\"T_df3ec_level0_row5\" class=\"row_heading level0 row5\" >5</th>\n",
       "      <td id=\"T_df3ec_row5_col0\" class=\"data row5 col0\" >5</td>\n",
       "      <td id=\"T_df3ec_row5_col1\" class=\"data row5 col1\" >1046</td>\n",
       "      <td id=\"T_df3ec_row5_col2\" class=\"data row5 col2\" >18.412251</td>\n",
       "      <td id=\"T_df3ec_row5_col3\" class=\"data row5 col3\" >747.913948</td>\n",
       "      <td id=\"T_df3ec_row5_col4\" class=\"data row5 col4\" >167.919694</td>\n",
       "      <td id=\"T_df3ec_row5_col5\" class=\"data row5 col5\" >24.534417</td>\n",
       "      <td id=\"T_df3ec_row5_col6\" class=\"data row5 col6\" >0.963410</td>\n",
       "      <td id=\"T_df3ec_row5_col7\" class=\"data row5 col7\" >3.863289</td>\n",
       "    </tr>\n",
       "    <tr>\n",
       "      <th id=\"T_df3ec_level0_row6\" class=\"row_heading level0 row6\" >4</th>\n",
       "      <td id=\"T_df3ec_row6_col0\" class=\"data row6 col0\" >4</td>\n",
       "      <td id=\"T_df3ec_row6_col1\" class=\"data row6 col1\" >755</td>\n",
       "      <td id=\"T_df3ec_row6_col2\" class=\"data row6 col2\" >13.289914</td>\n",
       "      <td id=\"T_df3ec_row6_col3\" class=\"data row6 col3\" >506.806265</td>\n",
       "      <td id=\"T_df3ec_row6_col4\" class=\"data row6 col4\" >90.627815</td>\n",
       "      <td id=\"T_df3ec_row6_col5\" class=\"data row6 col5\" >16.890066</td>\n",
       "      <td id=\"T_df3ec_row6_col6\" class=\"data row6 col6\" >0.411353</td>\n",
       "      <td id=\"T_df3ec_row6_col7\" class=\"data row6 col7\" >1.815894</td>\n",
       "    </tr>\n",
       "    <tr>\n",
       "      <th id=\"T_df3ec_level0_row7\" class=\"row_heading level0 row7\" >1</th>\n",
       "      <td id=\"T_df3ec_row7_col0\" class=\"data row7 col0\" >1</td>\n",
       "      <td id=\"T_df3ec_row7_col1\" class=\"data row7 col1\" >671</td>\n",
       "      <td id=\"T_df3ec_row7_col2\" class=\"data row7 col2\" >11.811301</td>\n",
       "      <td id=\"T_df3ec_row7_col3\" class=\"data row7 col3\" >404.091148</td>\n",
       "      <td id=\"T_df3ec_row7_col4\" class=\"data row7 col4\" >167.336811</td>\n",
       "      <td id=\"T_df3ec_row7_col5\" class=\"data row7 col5\" >12.126677</td>\n",
       "      <td id=\"T_df3ec_row7_col6\" class=\"data row7 col6\" >0.696441</td>\n",
       "      <td id=\"T_df3ec_row7_col7\" class=\"data row7 col7\" >5.403875</td>\n",
       "    </tr>\n",
       "  </tbody>\n",
       "</table>\n"
      ],
      "text/plain": [
       "<pandas.io.formats.style.Styler at 0x7f5e9cc43b50>"
      ]
     },
     "execution_count": 42,
     "metadata": {},
     "output_type": "execute_result"
    }
   ],
   "source": [
    "# cluster - qt_users - per_user\n",
    "df_cluster = df92[['customer_id', 'cluster']].groupby('cluster').count().reset_index().rename(columns={'customer_id': 'qt_users'})\n",
    "df_cluster['per_user'] = 100 * (df_cluster['qt_users'] / df_cluster['qt_users'].sum())\n",
    "\n",
    "\n",
    "# gross_revenue\n",
    "monetary = df92[['gross_revenue', 'cluster']].groupby('cluster').mean().reset_index()\n",
    "df_cluster = pd.merge(df_cluster, monetary, how='left', on='cluster')\n",
    "\n",
    "# recency_days\n",
    "recency_days = df92[['recency_days', 'cluster']].groupby('cluster').mean().reset_index()\n",
    "df_cluster = pd.merge(df_cluster, recency_days, how='left', on='cluster')\n",
    "\n",
    "# qtde_products\n",
    "qtde_products = df92[['qtde_products', 'cluster']].groupby('cluster').mean().reset_index()\n",
    "df_cluster = pd.merge(df_cluster, qtde_products, how='left', on='cluster')\n",
    "\n",
    "# frequency\n",
    "frequency = df92[['frequency', 'cluster']].groupby('cluster').mean().reset_index()\n",
    "df_cluster = pd.merge(df_cluster, frequency, how='left', on='cluster')\n",
    "\n",
    "# qtde_returns\n",
    "qtde_returns = df92[['qtde_returns', 'cluster']].groupby('cluster').mean().reset_index()\n",
    "df_cluster = pd.merge(df_cluster, qtde_returns, how='left', on='cluster')\n",
    "\n",
    "\n",
    "df_cluster.sort_values('gross_revenue', ascending=False).style.highlight_max( color='lightgreen', axis=0 )"
   ]
  },
  {
   "cell_type": "code",
   "execution_count": 43,
   "id": "489232b1",
   "metadata": {
    "ExecuteTime": {
     "end_time": "2021-10-13T21:31:22.967715Z",
     "start_time": "2021-10-13T21:31:22.961537Z"
    },
    "execution": {
     "iopub.execute_input": "2021-10-13T21:55:17.027995Z",
     "iopub.status.busy": "2021-10-13T21:55:17.027113Z",
     "iopub.status.idle": "2021-10-13T21:55:17.030046Z",
     "shell.execute_reply": "2021-10-13T21:55:17.029516Z"
    },
    "papermill": {
     "duration": 0.113313,
     "end_time": "2021-10-13T21:55:17.030184",
     "exception": false,
     "start_time": "2021-10-13T21:55:16.916871",
     "status": "completed"
    },
    "tags": []
   },
   "outputs": [],
   "source": [
    "# 1 Cluster Insiders\n",
    "# 5 Cluster More Products\n",
    "# 4 Cluster Spend Money \n",
    "# 2 Cluster Even More Products\n",
    "# 6 Cluster Less Days\n",
    "# 0 Cluster Less 1k\n",
    "# 7 Cluster Stop Returners\n",
    "# 3 Cluster More Buy"
   ]
  },
  {
   "cell_type": "markdown",
   "id": "5daa53a1",
   "metadata": {
    "papermill": {
     "duration": 0.105976,
     "end_time": "2021-10-13T21:55:17.238283",
     "exception": false,
     "start_time": "2021-10-13T21:55:17.132307",
     "status": "completed"
    },
    "tags": []
   },
   "source": [
    "**Cluster 01:  ( Candidato à Insider )**\n",
    "- Número de customers: 468 (16% do customers )\n",
    "- Faturamento médio: 8836\n",
    "- Recência média: 21 dias\n",
    "- Média de Produtos comprados: 424 produtos\n",
    "- Frequência de Produtos comprados: 0.09 produtos/dia\n",
    "- Receita em média: $8836.13,00 dólares"
   ]
  },
  {
   "cell_type": "markdown",
   "id": "c4ade448",
   "metadata": {
    "papermill": {
     "duration": 0.099939,
     "end_time": "2021-10-13T21:55:17.442185",
     "exception": false,
     "start_time": "2021-10-13T21:55:17.342246",
     "status": "completed"
    },
    "tags": []
   },
   "source": [
    "# 10.0. EDA"
   ]
  },
  {
   "cell_type": "code",
   "execution_count": 44,
   "id": "77dd8a0f",
   "metadata": {
    "ExecuteTime": {
     "end_time": "2021-10-13T21:31:56.537887Z",
     "start_time": "2021-10-13T21:31:56.534065Z"
    },
    "execution": {
     "iopub.execute_input": "2021-10-13T21:55:17.663056Z",
     "iopub.status.busy": "2021-10-13T21:55:17.662230Z",
     "iopub.status.idle": "2021-10-13T21:55:17.664259Z",
     "shell.execute_reply": "2021-10-13T21:55:17.664940Z"
    },
    "papermill": {
     "duration": 0.114456,
     "end_time": "2021-10-13T21:55:17.665200",
     "exception": false,
     "start_time": "2021-10-13T21:55:17.550744",
     "status": "completed"
    },
    "tags": []
   },
   "outputs": [],
   "source": [
    "df10 = df92.copy()"
   ]
  },
  {
   "cell_type": "markdown",
   "id": "b3753f60",
   "metadata": {
    "papermill": {
     "duration": 0.104913,
     "end_time": "2021-10-13T21:55:17.869887",
     "exception": false,
     "start_time": "2021-10-13T21:55:17.764974",
     "status": "completed"
    },
    "tags": []
   },
   "source": [
    "# 11.0. Deploy to Product"
   ]
  },
  {
   "cell_type": "code",
   "execution_count": 45,
   "id": "d701b523",
   "metadata": {
    "ExecuteTime": {
     "end_time": "2021-10-13T21:31:57.254748Z",
     "start_time": "2021-10-13T21:31:57.249508Z"
    },
    "execution": {
     "iopub.execute_input": "2021-10-13T21:55:18.086350Z",
     "iopub.status.busy": "2021-10-13T21:55:18.085601Z",
     "iopub.status.idle": "2021-10-13T21:55:18.088389Z",
     "shell.execute_reply": "2021-10-13T21:55:18.088966Z"
    },
    "papermill": {
     "duration": 0.115224,
     "end_time": "2021-10-13T21:55:18.089176",
     "exception": false,
     "start_time": "2021-10-13T21:55:17.973952",
     "status": "completed"
    },
    "tags": []
   },
   "outputs": [],
   "source": [
    "df11 = df10.copy()"
   ]
  },
  {
   "cell_type": "markdown",
   "id": "75738174",
   "metadata": {
    "papermill": {
     "duration": 0.115407,
     "end_time": "2021-10-13T21:55:18.309677",
     "exception": false,
     "start_time": "2021-10-13T21:55:18.194270",
     "status": "completed"
    },
    "tags": []
   },
   "source": [
    "## 11.1. Insert into SQLITE"
   ]
  },
  {
   "cell_type": "markdown",
   "id": "2b2c9aea",
   "metadata": {
    "tags": [
     "papermill-error-cell-tag"
    ]
   },
   "source": [
    "<span id=\"papermill-error-cell\" style=\"color:red; font-family:Helvetica Neue, Helvetica, Arial, sans-serif; font-size:2em;\">Execution using papermill encountered an exception here and stopped:</span>"
   ]
  },
  {
   "cell_type": "code",
   "execution_count": 46,
   "id": "cb1246b5",
   "metadata": {
    "ExecuteTime": {
     "end_time": "2021-10-13T21:31:23.388468Z",
     "start_time": "2021-10-13T21:31:23.388426Z"
    },
    "execution": {
     "iopub.execute_input": "2021-10-13T21:55:18.541003Z",
     "iopub.status.busy": "2021-10-13T21:55:18.539518Z",
     "iopub.status.idle": "2021-10-13T21:55:18.864784Z",
     "shell.execute_reply": "2021-10-13T21:55:18.863619Z"
    },
    "papermill": {
     "duration": 0.443756,
     "end_time": "2021-10-13T21:55:18.865298",
     "exception": true,
     "start_time": "2021-10-13T21:55:18.421542",
     "status": "failed"
    },
    "tags": []
   },
   "outputs": [
    {
     "ename": "OperationalError",
     "evalue": "table insiders already exists",
     "output_type": "error",
     "traceback": [
      "\u001b[0;31m---------------------------------------------------------------------------\u001b[0m",
      "\u001b[0;31mOperationalError\u001b[0m                          Traceback (most recent call last)",
      "\u001b[0;32m/tmp/ipykernel_1448081/2403228414.py\u001b[0m in \u001b[0;36m<module>\u001b[0;34m\u001b[0m\n\u001b[1;32m     12\u001b[0m \"\"\"\n\u001b[1;32m     13\u001b[0m \u001b[0mconn\u001b[0m \u001b[0;34m=\u001b[0m \u001b[0msqlite3\u001b[0m\u001b[0;34m.\u001b[0m\u001b[0mconnect\u001b[0m\u001b[0;34m(\u001b[0m \u001b[0;34m'insiders_db.sqlite'\u001b[0m \u001b[0;34m)\u001b[0m\u001b[0;34m\u001b[0m\u001b[0;34m\u001b[0m\u001b[0m\n\u001b[0;32m---> 14\u001b[0;31m \u001b[0mconn\u001b[0m\u001b[0;34m.\u001b[0m\u001b[0mexecute\u001b[0m\u001b[0;34m(\u001b[0m \u001b[0mquery_create_table_insiders\u001b[0m \u001b[0;34m)\u001b[0m\u001b[0;34m\u001b[0m\u001b[0;34m\u001b[0m\u001b[0m\n\u001b[0m\u001b[1;32m     15\u001b[0m \u001b[0mconn\u001b[0m\u001b[0;34m.\u001b[0m\u001b[0mcommit\u001b[0m\u001b[0;34m(\u001b[0m\u001b[0;34m)\u001b[0m\u001b[0;34m\u001b[0m\u001b[0;34m\u001b[0m\u001b[0m\n\u001b[1;32m     16\u001b[0m \u001b[0mconn\u001b[0m\u001b[0;34m.\u001b[0m\u001b[0mclose\u001b[0m\u001b[0;34m(\u001b[0m\u001b[0;34m)\u001b[0m\u001b[0;34m\u001b[0m\u001b[0;34m\u001b[0m\u001b[0m\n",
      "\u001b[0;31mOperationalError\u001b[0m: table insiders already exists"
     ]
    }
   ],
   "source": [
    "# create table\n",
    "query_create_table_insiders = \"\"\"\n",
    "    CREATE TABLE insiders (\n",
    "        customer_id        INTEGER,\n",
    "        gross_revenue      REAL,\n",
    "        recency_days       INTEGER,\n",
    "        qtde_products      INTEGER,\n",
    "        frequency          REAL,\n",
    "        qtde_returns       INTEGER,\n",
    "        cluster            INTEGER\n",
    "    )\n",
    "\"\"\"\n",
    "conn = sqlite3.connect( 'insiders_db.sqlite' )\n",
    "conn.execute( query_create_table_insiders )\n",
    "conn.commit()\n",
    "conn.close()"
   ]
  },
  {
   "cell_type": "code",
   "execution_count": null,
   "id": "aee4c2cf",
   "metadata": {
    "ExecuteTime": {
     "end_time": "2021-10-13T21:31:23.393580Z",
     "start_time": "2021-10-13T21:31:23.393542Z"
    },
    "papermill": {
     "duration": null,
     "end_time": null,
     "exception": null,
     "start_time": null,
     "status": "pending"
    },
    "tags": []
   },
   "outputs": [],
   "source": [
    "# Drop Table\n",
    "query_drop_table = \"\"\"\n",
    "    DROP TABLE  insiders\n",
    "\"\"\""
   ]
  },
  {
   "cell_type": "code",
   "execution_count": null,
   "id": "dab8fde0",
   "metadata": {
    "ExecuteTime": {
     "end_time": "2021-10-13T21:31:23.396091Z",
     "start_time": "2021-10-13T21:31:23.396051Z"
    },
    "papermill": {
     "duration": null,
     "end_time": null,
     "exception": null,
     "start_time": null,
     "status": "pending"
    },
    "tags": []
   },
   "outputs": [],
   "source": [
    "# insert data\n",
    "conn = create_engine( 'sqlite:///insiders_db.sqlite' )\n",
    "df92.to_sql( 'insiders', con=conn,  if_exists='append', index=False )"
   ]
  },
  {
   "cell_type": "code",
   "execution_count": null,
   "id": "1c116e67",
   "metadata": {
    "ExecuteTime": {
     "end_time": "2021-10-13T21:31:23.398609Z",
     "start_time": "2021-10-13T21:31:23.398580Z"
    },
    "papermill": {
     "duration": null,
     "end_time": null,
     "exception": null,
     "start_time": null,
     "status": "pending"
    },
    "tags": []
   },
   "outputs": [],
   "source": [
    "# consulting database\n",
    "query = \"\"\"\n",
    "    SELECT * FROM insiders\n",
    "\"\"\"\n",
    "conn = create_engine( 'sqlite:///insiders_db.sqlite' )\n",
    "\n",
    "df  = pd.read_sql_query( query, conn )\n",
    "df.head()"
   ]
  },
  {
   "cell_type": "markdown",
   "id": "62dda9ce",
   "metadata": {
    "papermill": {
     "duration": null,
     "end_time": null,
     "exception": null,
     "start_time": null,
     "status": "pending"
    },
    "tags": []
   },
   "source": [
    " ## Metabase \n",
    "\n",
    "1. download https://www.metabase.com/docs/latest/operations-guide/running-the-metabase-jar-file.html\n",
    "* java -jar metabase.jar\n",
    "* http://localhost:3000\n"
   ]
  },
  {
   "cell_type": "markdown",
   "id": "3e9e681b",
   "metadata": {
    "papermill": {
     "duration": null,
     "end_time": null,
     "exception": null,
     "start_time": null,
     "status": "pending"
    },
    "tags": []
   },
   "source": [
    " ## Banco de Dados na AWS\n",
    " \n",
    "1. Aula 047 - Ciclo 11- Deploy do modelo em produção - Parte III\n",
    "2. começa em 1h00"
   ]
  },
  {
   "cell_type": "markdown",
   "id": "d6e5225a",
   "metadata": {
    "papermill": {
     "duration": null,
     "end_time": null,
     "exception": null,
     "start_time": null,
     "status": "pending"
    },
    "tags": []
   },
   "source": [
    " ## pip install papermill\n",
    "1. pip install papermill"
   ]
  },
  {
   "cell_type": "code",
   "execution_count": null,
   "id": "a9e61fb0",
   "metadata": {
    "papermill": {
     "duration": null,
     "end_time": null,
     "exception": null,
     "start_time": null,
     "status": "pending"
    },
    "tags": []
   },
   "outputs": [],
   "source": []
  },
  {
   "cell_type": "code",
   "execution_count": null,
   "id": "78661913",
   "metadata": {
    "papermill": {
     "duration": null,
     "end_time": null,
     "exception": null,
     "start_time": null,
     "status": "pending"
    },
    "tags": []
   },
   "outputs": [],
   "source": []
  },
  {
   "cell_type": "code",
   "execution_count": null,
   "id": "798388a3",
   "metadata": {
    "papermill": {
     "duration": null,
     "end_time": null,
     "exception": null,
     "start_time": null,
     "status": "pending"
    },
    "tags": []
   },
   "outputs": [],
   "source": []
  },
  {
   "cell_type": "code",
   "execution_count": null,
   "id": "0df60e10",
   "metadata": {
    "papermill": {
     "duration": null,
     "end_time": null,
     "exception": null,
     "start_time": null,
     "status": "pending"
    },
    "tags": []
   },
   "outputs": [],
   "source": []
  },
  {
   "cell_type": "code",
   "execution_count": null,
   "id": "7c73e326",
   "metadata": {
    "papermill": {
     "duration": null,
     "end_time": null,
     "exception": null,
     "start_time": null,
     "status": "pending"
    },
    "tags": []
   },
   "outputs": [],
   "source": []
  },
  {
   "cell_type": "code",
   "execution_count": null,
   "id": "7db2a47a",
   "metadata": {
    "papermill": {
     "duration": null,
     "end_time": null,
     "exception": null,
     "start_time": null,
     "status": "pending"
    },
    "tags": []
   },
   "outputs": [],
   "source": []
  },
  {
   "cell_type": "code",
   "execution_count": null,
   "id": "08c4935c",
   "metadata": {
    "papermill": {
     "duration": null,
     "end_time": null,
     "exception": null,
     "start_time": null,
     "status": "pending"
    },
    "tags": []
   },
   "outputs": [],
   "source": []
  },
  {
   "cell_type": "code",
   "execution_count": null,
   "id": "4a7ee8f0",
   "metadata": {
    "papermill": {
     "duration": null,
     "end_time": null,
     "exception": null,
     "start_time": null,
     "status": "pending"
    },
    "tags": []
   },
   "outputs": [],
   "source": []
  },
  {
   "cell_type": "code",
   "execution_count": null,
   "id": "f9676406",
   "metadata": {
    "papermill": {
     "duration": null,
     "end_time": null,
     "exception": null,
     "start_time": null,
     "status": "pending"
    },
    "tags": []
   },
   "outputs": [],
   "source": []
  },
  {
   "cell_type": "code",
   "execution_count": null,
   "id": "8cec1440",
   "metadata": {
    "papermill": {
     "duration": null,
     "end_time": null,
     "exception": null,
     "start_time": null,
     "status": "pending"
    },
    "tags": []
   },
   "outputs": [],
   "source": []
  },
  {
   "cell_type": "code",
   "execution_count": null,
   "id": "bb04deb1",
   "metadata": {
    "papermill": {
     "duration": null,
     "end_time": null,
     "exception": null,
     "start_time": null,
     "status": "pending"
    },
    "tags": []
   },
   "outputs": [],
   "source": []
  },
  {
   "cell_type": "code",
   "execution_count": null,
   "id": "e0d7dcaf",
   "metadata": {
    "papermill": {
     "duration": null,
     "end_time": null,
     "exception": null,
     "start_time": null,
     "status": "pending"
    },
    "tags": []
   },
   "outputs": [],
   "source": []
  },
  {
   "cell_type": "code",
   "execution_count": null,
   "id": "9353048e",
   "metadata": {
    "papermill": {
     "duration": null,
     "end_time": null,
     "exception": null,
     "start_time": null,
     "status": "pending"
    },
    "tags": []
   },
   "outputs": [],
   "source": []
  },
  {
   "cell_type": "code",
   "execution_count": null,
   "id": "c113b3b9",
   "metadata": {
    "papermill": {
     "duration": null,
     "end_time": null,
     "exception": null,
     "start_time": null,
     "status": "pending"
    },
    "tags": []
   },
   "outputs": [],
   "source": []
  },
  {
   "cell_type": "code",
   "execution_count": null,
   "id": "3e1b45b1",
   "metadata": {
    "papermill": {
     "duration": null,
     "end_time": null,
     "exception": null,
     "start_time": null,
     "status": "pending"
    },
    "tags": []
   },
   "outputs": [],
   "source": []
  }
 ],
 "metadata": {
  "kernelspec": {
   "display_name": "Python 3 (ipykernel)",
   "language": "python",
   "name": "python3"
  },
  "language_info": {
   "codemirror_mode": {
    "name": "ipython",
    "version": 3
   },
   "file_extension": ".py",
   "mimetype": "text/x-python",
   "name": "python",
   "nbconvert_exporter": "python",
   "pygments_lexer": "ipython3",
   "version": "3.8.0"
  },
  "papermill": {
   "default_parameters": {},
   "duration": 89.482667,
   "end_time": "2021-10-13T21:55:20.478475",
   "environment_variables": {},
   "exception": true,
   "input_path": "/home/cid/repos/clustering-high-value-customers-identification/src/models/c12-deploy.ipynb",
   "output_path": "/home/cid/repos/clustering-high-value-customers-identification/reports/c12-deploy.ipynbc12-deploy_2021-10-13_18-53-50.ipynb",
   "parameters": {},
   "start_time": "2021-10-13T21:53:50.995808",
   "version": "2.3.3"
  }
 },
 "nbformat": 4,
 "nbformat_minor": 5
}