{
 "cells": [
  {
   "cell_type": "markdown",
   "id": "b25a0bdd",
   "metadata": {
    "papermill": {
     "duration": 0.078913,
     "end_time": "2021-10-13T22:00:03.837036",
     "exception": false,
     "start_time": "2021-10-13T22:00:03.758123",
     "status": "completed"
    },
    "tags": []
   },
   "source": [
    "# 0.0. Imports"
   ]
  },
  {
   "cell_type": "code",
   "execution_count": 1,
   "id": "722054fa",
   "metadata": {
    "ExecuteTime": {
     "end_time": "2021-10-13T21:30:20.543378Z",
     "start_time": "2021-10-13T21:30:17.458867Z"
    },
    "execution": {
     "iopub.execute_input": "2021-10-13T22:00:03.997625Z",
     "iopub.status.busy": "2021-10-13T22:00:03.992486Z",
     "iopub.status.idle": "2021-10-13T22:00:07.214356Z",
     "shell.execute_reply": "2021-10-13T22:00:07.215143Z"
    },
    "papermill": {
     "duration": 3.301973,
     "end_time": "2021-10-13T22:00:07.215439",
     "exception": false,
     "start_time": "2021-10-13T22:00:03.913466",
     "status": "completed"
    },
    "tags": []
   },
   "outputs": [],
   "source": [
    "import re\n",
    "import sqlite3\n",
    "import pandas as pd\n",
    "import numpy as np\n",
    "import seaborn as sns\n",
    "import matplotlib.pyplot as plt\n",
    "import plotly.express as px\n",
    "\n",
    "from sqlalchemy import create_engine\n",
    "\n",
    "from umap.umap_ import UMAP\n",
    "from scipy.cluster import hierarchy as hc\n",
    "\n",
    "from sklearn import cluster\n",
    "from sklearn import metrics\n",
    "from sklearn import preprocessing as pp\n",
    "from sklearn.decomposition import PCA\n",
    "from sklearn.manifold import TSNE\n",
    "from sklearn import ensemble as en\n",
    "from sklearn.mixture import GaussianMixture as gm"
   ]
  },
  {
   "cell_type": "markdown",
   "id": "f4bb5440",
   "metadata": {
    "papermill": {
     "duration": 0.088767,
     "end_time": "2021-10-13T22:00:07.404464",
     "exception": false,
     "start_time": "2021-10-13T22:00:07.315697",
     "status": "completed"
    },
    "tags": []
   },
   "source": [
    "## 0.1. Helper Functions"
   ]
  },
  {
   "cell_type": "code",
   "execution_count": 2,
   "id": "a157246c",
   "metadata": {
    "ExecuteTime": {
     "end_time": "2021-10-13T21:30:20.560927Z",
     "start_time": "2021-10-13T21:30:20.546729Z"
    },
    "execution": {
     "iopub.execute_input": "2021-10-13T22:00:07.567777Z",
     "iopub.status.busy": "2021-10-13T22:00:07.566322Z",
     "iopub.status.idle": "2021-10-13T22:00:07.569299Z",
     "shell.execute_reply": "2021-10-13T22:00:07.569793Z"
    },
    "papermill": {
     "duration": 0.087242,
     "end_time": "2021-10-13T22:00:07.569980",
     "exception": false,
     "start_time": "2021-10-13T22:00:07.482738",
     "status": "completed"
    },
    "tags": []
   },
   "outputs": [],
   "source": [
    "def descriptive_statistics(num_attr):\n",
    "    # Central Tendency: mean, median\n",
    "    c1 = pd.DataFrame(num_attr.apply(np.mean))\n",
    "    c2 = pd.DataFrame(num_attr.apply(np.median))\n",
    "\n",
    "    # Dispension: min, max, range, std, skew, kurtosis\n",
    "    d1 = pd.DataFrame(num_attr.apply(min))\n",
    "    d2 = pd.DataFrame(num_attr.apply(max))\n",
    "    d3 = pd.DataFrame(num_attr.apply(lambda x: x.max() - x.min()))\n",
    "    d4 = pd.DataFrame(num_attr.apply(lambda x: x.std()))\n",
    "    \n",
    "    # Measures of Shape\n",
    "    s1 = pd.DataFrame(num_attr.apply(lambda x: x.skew()))\n",
    "    s2 = pd.DataFrame(num_attr.apply(lambda x: x.kurtosis()))\n",
    "\n",
    "    # concat\n",
    "    m = pd.concat([d1,d2,d3,c1,c2,d4,s1,s2], axis=1).reset_index()\n",
    "    m.columns = ['attributes', 'min', 'max', 'range', 'mean', 'median', 'std', 'skew', 'kurtosis']\n",
    "    return m"
   ]
  },
  {
   "cell_type": "markdown",
   "id": "1bb64666",
   "metadata": {
    "papermill": {
     "duration": 0.070292,
     "end_time": "2021-10-13T22:00:07.719286",
     "exception": false,
     "start_time": "2021-10-13T22:00:07.648994",
     "status": "completed"
    },
    "tags": []
   },
   "source": [
    "## 0.2. Load Data"
   ]
  },
  {
   "cell_type": "code",
   "execution_count": 3,
   "id": "54243f8b",
   "metadata": {
    "ExecuteTime": {
     "end_time": "2021-10-13T21:30:21.303101Z",
     "start_time": "2021-10-13T21:30:20.563651Z"
    },
    "execution": {
     "iopub.execute_input": "2021-10-13T22:00:07.876472Z",
     "iopub.status.busy": "2021-10-13T22:00:07.875256Z",
     "iopub.status.idle": "2021-10-13T22:00:08.595512Z",
     "shell.execute_reply": "2021-10-13T22:00:08.596018Z"
    },
    "papermill": {
     "duration": 0.797828,
     "end_time": "2021-10-13T22:00:08.596185",
     "exception": false,
     "start_time": "2021-10-13T22:00:07.798357",
     "status": "completed"
    },
    "tags": []
   },
   "outputs": [],
   "source": [
    "path = '/home/cid/repos/clustering-high-value-customers-identification/'\n",
    "\n",
    "df_raw = pd.read_csv(path + '/data/raw/Ecommerce.csv', encoding='latin1')\n",
    "\n",
    "# drop extra column\n",
    "df_raw = df_raw.drop('Unnamed: 8', axis=1)"
   ]
  },
  {
   "cell_type": "markdown",
   "id": "5b9ae690",
   "metadata": {
    "heading_collapsed": true,
    "papermill": {
     "duration": 0.069084,
     "end_time": "2021-10-13T22:00:08.733939",
     "exception": false,
     "start_time": "2021-10-13T22:00:08.664855",
     "status": "completed"
    },
    "tags": []
   },
   "source": [
    "# 1.0. Data Description"
   ]
  },
  {
   "cell_type": "code",
   "execution_count": 4,
   "id": "026bbc19",
   "metadata": {
    "ExecuteTime": {
     "end_time": "2021-10-13T21:30:21.338059Z",
     "start_time": "2021-10-13T21:30:21.305849Z"
    },
    "execution": {
     "iopub.execute_input": "2021-10-13T22:00:08.913826Z",
     "iopub.status.busy": "2021-10-13T22:00:08.912969Z",
     "iopub.status.idle": "2021-10-13T22:00:08.925413Z",
     "shell.execute_reply": "2021-10-13T22:00:08.925939Z"
    },
    "hidden": true,
    "papermill": {
     "duration": 0.118506,
     "end_time": "2021-10-13T22:00:08.926254",
     "exception": false,
     "start_time": "2021-10-13T22:00:08.807748",
     "status": "completed"
    },
    "tags": []
   },
   "outputs": [],
   "source": [
    "df1 = df_raw.copy()"
   ]
  },
  {
   "cell_type": "markdown",
   "id": "a0e2c036",
   "metadata": {
    "heading_collapsed": true,
    "hidden": true,
    "papermill": {
     "duration": 0.080083,
     "end_time": "2021-10-13T22:00:09.079895",
     "exception": false,
     "start_time": "2021-10-13T22:00:08.999812",
     "status": "completed"
    },
    "tags": []
   },
   "source": [
    "## 1.1. Rename Columns"
   ]
  },
  {
   "cell_type": "code",
   "execution_count": 5,
   "id": "46322473",
   "metadata": {
    "ExecuteTime": {
     "end_time": "2021-10-13T21:30:21.348673Z",
     "start_time": "2021-10-13T21:30:21.340006Z"
    },
    "execution": {
     "iopub.execute_input": "2021-10-13T22:00:09.220180Z",
     "iopub.status.busy": "2021-10-13T22:00:09.219526Z",
     "iopub.status.idle": "2021-10-13T22:00:09.223875Z",
     "shell.execute_reply": "2021-10-13T22:00:09.225092Z"
    },
    "hidden": true,
    "papermill": {
     "duration": 0.076163,
     "end_time": "2021-10-13T22:00:09.225469",
     "exception": false,
     "start_time": "2021-10-13T22:00:09.149306",
     "status": "completed"
    },
    "tags": []
   },
   "outputs": [],
   "source": [
    "cols_new = ['invoice_no', 'stock_code', 'description', 'quantity', 'invoice_date', 'unit_price', 'customer_id', 'country']\n",
    "df1.columns = cols_new"
   ]
  },
  {
   "cell_type": "markdown",
   "id": "09f2dd9b",
   "metadata": {
    "heading_collapsed": true,
    "hidden": true,
    "papermill": {
     "duration": 0.087939,
     "end_time": "2021-10-13T22:00:09.440124",
     "exception": false,
     "start_time": "2021-10-13T22:00:09.352185",
     "status": "completed"
    },
    "tags": []
   },
   "source": [
    "## 1.2. Data Dimnesions"
   ]
  },
  {
   "cell_type": "code",
   "execution_count": 6,
   "id": "e8295ac6",
   "metadata": {
    "ExecuteTime": {
     "end_time": "2021-10-13T21:30:21.359858Z",
     "start_time": "2021-10-13T21:30:21.351131Z"
    },
    "execution": {
     "iopub.execute_input": "2021-10-13T22:00:09.705883Z",
     "iopub.status.busy": "2021-10-13T22:00:09.704396Z",
     "iopub.status.idle": "2021-10-13T22:00:09.710963Z",
     "shell.execute_reply": "2021-10-13T22:00:09.710360Z"
    },
    "hidden": true,
    "papermill": {
     "duration": 0.127722,
     "end_time": "2021-10-13T22:00:09.711113",
     "exception": false,
     "start_time": "2021-10-13T22:00:09.583391",
     "status": "completed"
    },
    "tags": []
   },
   "outputs": [
    {
     "name": "stdout",
     "output_type": "stream",
     "text": [
      "Number of Rows: 541909\n",
      "Number of Columns: 8\n"
     ]
    }
   ],
   "source": [
    "print('Number of Rows: {}'.format(df1.shape[0]))\n",
    "print('Number of Columns: {}'.format(df1.shape[1]))"
   ]
  },
  {
   "cell_type": "markdown",
   "id": "c68dcbcd",
   "metadata": {
    "heading_collapsed": true,
    "hidden": true,
    "papermill": {
     "duration": 0.071425,
     "end_time": "2021-10-13T22:00:09.852134",
     "exception": false,
     "start_time": "2021-10-13T22:00:09.780709",
     "status": "completed"
    },
    "tags": []
   },
   "source": [
    "## 1.3. Data Types"
   ]
  },
  {
   "cell_type": "code",
   "execution_count": 7,
   "id": "4034f49b",
   "metadata": {
    "ExecuteTime": {
     "end_time": "2021-10-13T21:30:21.388280Z",
     "start_time": "2021-10-13T21:30:21.369381Z"
    },
    "execution": {
     "iopub.execute_input": "2021-10-13T22:00:10.012372Z",
     "iopub.status.busy": "2021-10-13T22:00:10.011562Z",
     "iopub.status.idle": "2021-10-13T22:00:10.014349Z",
     "shell.execute_reply": "2021-10-13T22:00:10.014987Z"
    },
    "hidden": true,
    "papermill": {
     "duration": 0.08991,
     "end_time": "2021-10-13T22:00:10.015156",
     "exception": false,
     "start_time": "2021-10-13T22:00:09.925246",
     "status": "completed"
    },
    "tags": []
   },
   "outputs": [
    {
     "data": {
      "text/plain": [
       "invoice_no       object\n",
       "stock_code       object\n",
       "description      object\n",
       "quantity          int64\n",
       "invoice_date     object\n",
       "unit_price      float64\n",
       "customer_id     float64\n",
       "country          object\n",
       "dtype: object"
      ]
     },
     "execution_count": 7,
     "metadata": {},
     "output_type": "execute_result"
    }
   ],
   "source": [
    "df1.dtypes"
   ]
  },
  {
   "cell_type": "markdown",
   "id": "0c014646",
   "metadata": {
    "heading_collapsed": true,
    "hidden": true,
    "papermill": {
     "duration": 0.072246,
     "end_time": "2021-10-13T22:00:10.162356",
     "exception": false,
     "start_time": "2021-10-13T22:00:10.090110",
     "status": "completed"
    },
    "tags": []
   },
   "source": [
    "## 1.4. Check NA"
   ]
  },
  {
   "cell_type": "code",
   "execution_count": 8,
   "id": "7a8a6351",
   "metadata": {
    "ExecuteTime": {
     "end_time": "2021-10-13T21:30:21.637793Z",
     "start_time": "2021-10-13T21:30:21.390738Z"
    },
    "execution": {
     "iopub.execute_input": "2021-10-13T22:00:10.543738Z",
     "iopub.status.busy": "2021-10-13T22:00:10.540524Z",
     "iopub.status.idle": "2021-10-13T22:00:10.561588Z",
     "shell.execute_reply": "2021-10-13T22:00:10.562060Z"
    },
    "hidden": true,
    "papermill": {
     "duration": 0.3214,
     "end_time": "2021-10-13T22:00:10.562232",
     "exception": false,
     "start_time": "2021-10-13T22:00:10.240832",
     "status": "completed"
    },
    "tags": []
   },
   "outputs": [
    {
     "data": {
      "text/plain": [
       "invoice_no           0\n",
       "stock_code           0\n",
       "description       1454\n",
       "quantity             0\n",
       "invoice_date         0\n",
       "unit_price           0\n",
       "customer_id     135080\n",
       "country              0\n",
       "dtype: int64"
      ]
     },
     "execution_count": 8,
     "metadata": {},
     "output_type": "execute_result"
    }
   ],
   "source": [
    "df1.isna().sum()"
   ]
  },
  {
   "cell_type": "markdown",
   "id": "29b1bada",
   "metadata": {
    "heading_collapsed": true,
    "hidden": true,
    "papermill": {
     "duration": 0.07456,
     "end_time": "2021-10-13T22:00:10.709551",
     "exception": false,
     "start_time": "2021-10-13T22:00:10.634991",
     "status": "completed"
    },
    "tags": []
   },
   "source": [
    "## 1.5. Replace NA"
   ]
  },
  {
   "cell_type": "code",
   "execution_count": 9,
   "id": "aa5882db",
   "metadata": {
    "ExecuteTime": {
     "end_time": "2021-10-13T21:30:21.717072Z",
     "start_time": "2021-10-13T21:30:21.639784Z"
    },
    "execution": {
     "iopub.execute_input": "2021-10-13T22:00:10.868396Z",
     "iopub.status.busy": "2021-10-13T22:00:10.866967Z",
     "iopub.status.idle": "2021-10-13T22:00:10.936953Z",
     "shell.execute_reply": "2021-10-13T22:00:10.935919Z"
    },
    "hidden": true,
    "papermill": {
     "duration": 0.153187,
     "end_time": "2021-10-13T22:00:10.937698",
     "exception": false,
     "start_time": "2021-10-13T22:00:10.784511",
     "status": "completed"
    },
    "tags": []
   },
   "outputs": [],
   "source": [
    "df_missing = df1.loc[df1['customer_id'].isna(), :]\n",
    "df_not_missing = df1.loc[~df1['customer_id'].isna(), :]"
   ]
  },
  {
   "cell_type": "code",
   "execution_count": 10,
   "id": "7086dafb",
   "metadata": {
    "ExecuteTime": {
     "end_time": "2021-10-13T21:30:22.047482Z",
     "start_time": "2021-10-13T21:30:21.724054Z"
    },
    "execution": {
     "iopub.execute_input": "2021-10-13T22:00:11.106516Z",
     "iopub.status.busy": "2021-10-13T22:00:11.105117Z",
     "iopub.status.idle": "2021-10-13T22:00:11.484313Z",
     "shell.execute_reply": "2021-10-13T22:00:11.483792Z"
    },
    "hidden": true,
    "papermill": {
     "duration": 0.47005,
     "end_time": "2021-10-13T22:00:11.484443",
     "exception": false,
     "start_time": "2021-10-13T22:00:11.014393",
     "status": "completed"
    },
    "tags": []
   },
   "outputs": [],
   "source": [
    "df_backup = pd.DataFrame(df_missing['invoice_no'].drop_duplicates())\n",
    "df_backup['customer_id'] = np.arange(19000, 19000+len(df_backup), 1)\n",
    "\n",
    "# merge \n",
    "df1 = pd.merge(df1, df_backup, how='left', on='invoice_no' )\n",
    "\n",
    "# coalesce \n",
    "df1['customer_id'] = df1['customer_id_x'].combine_first(df1['customer_id_y'])\n",
    "\n",
    "df1 = df1.drop(['customer_id_x', 'customer_id_y'], axis=1)"
   ]
  },
  {
   "cell_type": "code",
   "execution_count": 11,
   "id": "aff2bc50",
   "metadata": {
    "ExecuteTime": {
     "end_time": "2021-10-13T21:30:22.267595Z",
     "start_time": "2021-10-13T21:30:22.049236Z"
    },
    "execution": {
     "iopub.execute_input": "2021-10-13T22:00:11.861075Z",
     "iopub.status.busy": "2021-10-13T22:00:11.633664Z",
     "iopub.status.idle": "2021-10-13T22:00:11.874553Z",
     "shell.execute_reply": "2021-10-13T22:00:11.875204Z"
    },
    "hidden": true,
    "papermill": {
     "duration": 0.31393,
     "end_time": "2021-10-13T22:00:11.875432",
     "exception": false,
     "start_time": "2021-10-13T22:00:11.561502",
     "status": "completed"
    },
    "tags": []
   },
   "outputs": [
    {
     "data": {
      "text/plain": [
       "invoice_no         0\n",
       "stock_code         0\n",
       "description     1454\n",
       "quantity           0\n",
       "invoice_date       0\n",
       "unit_price         0\n",
       "country            0\n",
       "customer_id        0\n",
       "dtype: int64"
      ]
     },
     "execution_count": 11,
     "metadata": {},
     "output_type": "execute_result"
    }
   ],
   "source": [
    "df1.isna().sum()"
   ]
  },
  {
   "cell_type": "markdown",
   "id": "2e3c11e1",
   "metadata": {
    "heading_collapsed": true,
    "hidden": true,
    "papermill": {
     "duration": 0.071078,
     "end_time": "2021-10-13T22:00:12.025053",
     "exception": false,
     "start_time": "2021-10-13T22:00:11.953975",
     "status": "completed"
    },
    "tags": []
   },
   "source": [
    "## 1.6. Change dtypes"
   ]
  },
  {
   "cell_type": "code",
   "execution_count": 12,
   "id": "6d4edcbb",
   "metadata": {
    "ExecuteTime": {
     "end_time": "2021-10-13T21:30:22.282442Z",
     "start_time": "2021-10-13T21:30:22.270157Z"
    },
    "execution": {
     "iopub.execute_input": "2021-10-13T22:00:12.185772Z",
     "iopub.status.busy": "2021-10-13T22:00:12.184666Z",
     "iopub.status.idle": "2021-10-13T22:00:12.189383Z",
     "shell.execute_reply": "2021-10-13T22:00:12.190259Z"
    },
    "hidden": true,
    "papermill": {
     "duration": 0.090997,
     "end_time": "2021-10-13T22:00:12.190501",
     "exception": false,
     "start_time": "2021-10-13T22:00:12.099504",
     "status": "completed"
    },
    "tags": []
   },
   "outputs": [
    {
     "data": {
      "text/plain": [
       "invoice_no       object\n",
       "stock_code       object\n",
       "description      object\n",
       "quantity          int64\n",
       "invoice_date     object\n",
       "unit_price      float64\n",
       "country          object\n",
       "customer_id     float64\n",
       "dtype: object"
      ]
     },
     "execution_count": 12,
     "metadata": {},
     "output_type": "execute_result"
    }
   ],
   "source": [
    "df1.dtypes"
   ]
  },
  {
   "cell_type": "code",
   "execution_count": 13,
   "id": "e9f81033",
   "metadata": {
    "ExecuteTime": {
     "end_time": "2021-10-13T21:30:22.428684Z",
     "start_time": "2021-10-13T21:30:22.287735Z"
    },
    "execution": {
     "iopub.execute_input": "2021-10-13T22:00:12.377818Z",
     "iopub.status.busy": "2021-10-13T22:00:12.376366Z",
     "iopub.status.idle": "2021-10-13T22:00:12.483516Z",
     "shell.execute_reply": "2021-10-13T22:00:12.484046Z"
    },
    "hidden": true,
    "papermill": {
     "duration": 0.216109,
     "end_time": "2021-10-13T22:00:12.484239",
     "exception": false,
     "start_time": "2021-10-13T22:00:12.268130",
     "status": "completed"
    },
    "tags": []
   },
   "outputs": [],
   "source": [
    "df1['invoice_date'] = pd.to_datetime(df1['invoice_date'])\n",
    "df1['customer_id'] = df1['customer_id'].astype(int)"
   ]
  },
  {
   "cell_type": "markdown",
   "id": "58961082",
   "metadata": {
    "heading_collapsed": true,
    "hidden": true,
    "papermill": {
     "duration": 0.07435,
     "end_time": "2021-10-13T22:00:12.633705",
     "exception": false,
     "start_time": "2021-10-13T22:00:12.559355",
     "status": "completed"
    },
    "tags": []
   },
   "source": [
    "## 1.7. Descriptive Statistics"
   ]
  },
  {
   "cell_type": "code",
   "execution_count": 14,
   "id": "313769d3",
   "metadata": {
    "ExecuteTime": {
     "end_time": "2021-10-13T21:30:22.467637Z",
     "start_time": "2021-10-13T21:30:22.430675Z"
    },
    "execution": {
     "iopub.execute_input": "2021-10-13T22:00:12.807143Z",
     "iopub.status.busy": "2021-10-13T22:00:12.805747Z",
     "iopub.status.idle": "2021-10-13T22:00:12.843976Z",
     "shell.execute_reply": "2021-10-13T22:00:12.845122Z"
    },
    "hidden": true,
    "papermill": {
     "duration": 0.130003,
     "end_time": "2021-10-13T22:00:12.845362",
     "exception": false,
     "start_time": "2021-10-13T22:00:12.715359",
     "status": "completed"
    },
    "tags": []
   },
   "outputs": [],
   "source": [
    "num_att = df1.select_dtypes(include=['int64', 'float64'])\n",
    "cat_att = df1.select_dtypes(include=['object'])"
   ]
  },
  {
   "cell_type": "markdown",
   "id": "7629f4b9",
   "metadata": {
    "heading_collapsed": true,
    "hidden": true,
    "papermill": {
     "duration": 0.116853,
     "end_time": "2021-10-13T22:00:13.055760",
     "exception": false,
     "start_time": "2021-10-13T22:00:12.938907",
     "status": "completed"
    },
    "tags": []
   },
   "source": [
    "## 1.7.1. Numerical Attributes"
   ]
  },
  {
   "cell_type": "code",
   "execution_count": 15,
   "id": "79816883",
   "metadata": {
    "ExecuteTime": {
     "end_time": "2021-10-13T21:30:23.051640Z",
     "start_time": "2021-10-13T21:30:22.471119Z"
    },
    "execution": {
     "iopub.execute_input": "2021-10-13T22:00:13.255165Z",
     "iopub.status.busy": "2021-10-13T22:00:13.253568Z",
     "iopub.status.idle": "2021-10-13T22:00:13.853190Z",
     "shell.execute_reply": "2021-10-13T22:00:13.853731Z"
    },
    "hidden": true,
    "papermill": {
     "duration": 0.686685,
     "end_time": "2021-10-13T22:00:13.854016",
     "exception": false,
     "start_time": "2021-10-13T22:00:13.167331",
     "status": "completed"
    },
    "tags": []
   },
   "outputs": [
    {
     "data": {
      "text/html": [
       "<div>\n",
       "<style scoped>\n",
       "    .dataframe tbody tr th:only-of-type {\n",
       "        vertical-align: middle;\n",
       "    }\n",
       "\n",
       "    .dataframe tbody tr th {\n",
       "        vertical-align: top;\n",
       "    }\n",
       "\n",
       "    .dataframe thead th {\n",
       "        text-align: right;\n",
       "    }\n",
       "</style>\n",
       "<table border=\"1\" class=\"dataframe\">\n",
       "  <thead>\n",
       "    <tr style=\"text-align: right;\">\n",
       "      <th></th>\n",
       "      <th>attributes</th>\n",
       "      <th>min</th>\n",
       "      <th>max</th>\n",
       "      <th>range</th>\n",
       "      <th>mean</th>\n",
       "      <th>median</th>\n",
       "      <th>std</th>\n",
       "      <th>skew</th>\n",
       "      <th>kurtosis</th>\n",
       "    </tr>\n",
       "  </thead>\n",
       "  <tbody>\n",
       "    <tr>\n",
       "      <th>0</th>\n",
       "      <td>quantity</td>\n",
       "      <td>-80995.00</td>\n",
       "      <td>80995.0</td>\n",
       "      <td>161990.00</td>\n",
       "      <td>9.552250</td>\n",
       "      <td>3.00</td>\n",
       "      <td>218.081158</td>\n",
       "      <td>-0.264076</td>\n",
       "      <td>119769.160031</td>\n",
       "    </tr>\n",
       "    <tr>\n",
       "      <th>1</th>\n",
       "      <td>unit_price</td>\n",
       "      <td>-11062.06</td>\n",
       "      <td>38970.0</td>\n",
       "      <td>50032.06</td>\n",
       "      <td>4.611114</td>\n",
       "      <td>2.08</td>\n",
       "      <td>96.759853</td>\n",
       "      <td>186.506972</td>\n",
       "      <td>59005.719097</td>\n",
       "    </tr>\n",
       "    <tr>\n",
       "      <th>2</th>\n",
       "      <td>customer_id</td>\n",
       "      <td>12346.00</td>\n",
       "      <td>22709.0</td>\n",
       "      <td>10363.00</td>\n",
       "      <td>16688.840453</td>\n",
       "      <td>16249.00</td>\n",
       "      <td>2911.411352</td>\n",
       "      <td>0.487449</td>\n",
       "      <td>-0.804287</td>\n",
       "    </tr>\n",
       "  </tbody>\n",
       "</table>\n",
       "</div>"
      ],
      "text/plain": [
       "    attributes       min      max      range          mean    median  \\\n",
       "0     quantity -80995.00  80995.0  161990.00      9.552250      3.00   \n",
       "1   unit_price -11062.06  38970.0   50032.06      4.611114      2.08   \n",
       "2  customer_id  12346.00  22709.0   10363.00  16688.840453  16249.00   \n",
       "\n",
       "           std        skew       kurtosis  \n",
       "0   218.081158   -0.264076  119769.160031  \n",
       "1    96.759853  186.506972   59005.719097  \n",
       "2  2911.411352    0.487449      -0.804287  "
      ]
     },
     "execution_count": 15,
     "metadata": {},
     "output_type": "execute_result"
    }
   ],
   "source": [
    "descriptive_statistics(num_att)"
   ]
  },
  {
   "cell_type": "markdown",
   "id": "918bc2a8",
   "metadata": {
    "heading_collapsed": true,
    "hidden": true,
    "papermill": {
     "duration": 0.076048,
     "end_time": "2021-10-13T22:00:14.008714",
     "exception": false,
     "start_time": "2021-10-13T22:00:13.932666",
     "status": "completed"
    },
    "tags": []
   },
   "source": [
    "## 1.7.2. Categorical Attributes"
   ]
  },
  {
   "cell_type": "code",
   "execution_count": 16,
   "id": "fbb2c633",
   "metadata": {
    "ExecuteTime": {
     "end_time": "2021-10-13T21:30:23.548903Z",
     "start_time": "2021-10-13T21:30:23.053982Z"
    },
    "execution": {
     "iopub.execute_input": "2021-10-13T22:00:14.261654Z",
     "iopub.status.busy": "2021-10-13T22:00:14.184919Z",
     "iopub.status.idle": "2021-10-13T22:00:14.680120Z",
     "shell.execute_reply": "2021-10-13T22:00:14.680754Z"
    },
    "hidden": true,
    "papermill": {
     "duration": 0.587283,
     "end_time": "2021-10-13T22:00:14.680917",
     "exception": false,
     "start_time": "2021-10-13T22:00:14.093634",
     "status": "completed"
    },
    "tags": []
   },
   "outputs": [
    {
     "data": {
      "text/html": [
       "<div>\n",
       "<style scoped>\n",
       "    .dataframe tbody tr th:only-of-type {\n",
       "        vertical-align: middle;\n",
       "    }\n",
       "\n",
       "    .dataframe tbody tr th {\n",
       "        vertical-align: top;\n",
       "    }\n",
       "\n",
       "    .dataframe thead th {\n",
       "        text-align: right;\n",
       "    }\n",
       "</style>\n",
       "<table border=\"1\" class=\"dataframe\">\n",
       "  <thead>\n",
       "    <tr style=\"text-align: right;\">\n",
       "      <th></th>\n",
       "      <th>invoice_no</th>\n",
       "      <th>stock_code</th>\n",
       "      <th>description</th>\n",
       "      <th>country</th>\n",
       "    </tr>\n",
       "  </thead>\n",
       "  <tbody>\n",
       "    <tr>\n",
       "      <th>count</th>\n",
       "      <td>541909</td>\n",
       "      <td>541909</td>\n",
       "      <td>540455</td>\n",
       "      <td>541909</td>\n",
       "    </tr>\n",
       "    <tr>\n",
       "      <th>unique</th>\n",
       "      <td>25900</td>\n",
       "      <td>4070</td>\n",
       "      <td>4223</td>\n",
       "      <td>38</td>\n",
       "    </tr>\n",
       "    <tr>\n",
       "      <th>top</th>\n",
       "      <td>573585</td>\n",
       "      <td>85123A</td>\n",
       "      <td>WHITE HANGING HEART T-LIGHT HOLDER</td>\n",
       "      <td>United Kingdom</td>\n",
       "    </tr>\n",
       "    <tr>\n",
       "      <th>freq</th>\n",
       "      <td>1114</td>\n",
       "      <td>2313</td>\n",
       "      <td>2369</td>\n",
       "      <td>495478</td>\n",
       "    </tr>\n",
       "  </tbody>\n",
       "</table>\n",
       "</div>"
      ],
      "text/plain": [
       "       invoice_no stock_code                         description  \\\n",
       "count      541909     541909                              540455   \n",
       "unique      25900       4070                                4223   \n",
       "top        573585     85123A  WHITE HANGING HEART T-LIGHT HOLDER   \n",
       "freq         1114       2313                                2369   \n",
       "\n",
       "               country  \n",
       "count           541909  \n",
       "unique              38  \n",
       "top     United Kingdom  \n",
       "freq            495478  "
      ]
     },
     "execution_count": 16,
     "metadata": {},
     "output_type": "execute_result"
    }
   ],
   "source": [
    "cat_att.describe(include=['O'])"
   ]
  },
  {
   "cell_type": "markdown",
   "id": "68b2a24f",
   "metadata": {
    "heading_collapsed": true,
    "papermill": {
     "duration": 0.081062,
     "end_time": "2021-10-13T22:00:14.835678",
     "exception": false,
     "start_time": "2021-10-13T22:00:14.754616",
     "status": "completed"
    },
    "tags": []
   },
   "source": [
    "# 2.0. Data Filtering"
   ]
  },
  {
   "cell_type": "code",
   "execution_count": 17,
   "id": "90095e9b",
   "metadata": {
    "ExecuteTime": {
     "end_time": "2021-10-13T21:30:23.579341Z",
     "start_time": "2021-10-13T21:30:23.551410Z"
    },
    "execution": {
     "iopub.execute_input": "2021-10-13T22:00:14.995179Z",
     "iopub.status.busy": "2021-10-13T22:00:14.993836Z",
     "iopub.status.idle": "2021-10-13T22:00:15.013145Z",
     "shell.execute_reply": "2021-10-13T22:00:15.013620Z"
    },
    "hidden": true,
    "papermill": {
     "duration": 0.104323,
     "end_time": "2021-10-13T22:00:15.013779",
     "exception": false,
     "start_time": "2021-10-13T22:00:14.909456",
     "status": "completed"
    },
    "tags": []
   },
   "outputs": [],
   "source": [
    "df2 = df1.copy()"
   ]
  },
  {
   "cell_type": "markdown",
   "id": "25199fd0",
   "metadata": {
    "heading_collapsed": true,
    "hidden": true,
    "papermill": {
     "duration": 0.078695,
     "end_time": "2021-10-13T22:00:15.174396",
     "exception": false,
     "start_time": "2021-10-13T22:00:15.095701",
     "status": "completed"
    },
    "tags": []
   },
   "source": [
    "## 2.1. Filter Columns"
   ]
  },
  {
   "cell_type": "code",
   "execution_count": 18,
   "id": "0bad1aec",
   "metadata": {
    "ExecuteTime": {
     "end_time": "2021-10-13T21:30:23.628687Z",
     "start_time": "2021-10-13T21:30:23.586645Z"
    },
    "execution": {
     "iopub.execute_input": "2021-10-13T22:00:15.369279Z",
     "iopub.status.busy": "2021-10-13T22:00:15.345819Z",
     "iopub.status.idle": "2021-10-13T22:00:15.384583Z",
     "shell.execute_reply": "2021-10-13T22:00:15.385062Z"
    },
    "hidden": true,
    "papermill": {
     "duration": 0.134323,
     "end_time": "2021-10-13T22:00:15.385220",
     "exception": false,
     "start_time": "2021-10-13T22:00:15.250897",
     "status": "completed"
    },
    "tags": []
   },
   "outputs": [],
   "source": [
    "cols_drop = ['description']\n",
    "df2 = df2.drop(cols_drop, axis=1)"
   ]
  },
  {
   "cell_type": "markdown",
   "id": "b50e3b32",
   "metadata": {
    "heading_collapsed": true,
    "hidden": true,
    "papermill": {
     "duration": 0.077644,
     "end_time": "2021-10-13T22:00:15.546669",
     "exception": false,
     "start_time": "2021-10-13T22:00:15.469025",
     "status": "completed"
    },
    "tags": []
   },
   "source": [
    "## 2.2. Filter Rows"
   ]
  },
  {
   "cell_type": "code",
   "execution_count": 19,
   "id": "6bcd20d3",
   "metadata": {
    "ExecuteTime": {
     "end_time": "2021-10-13T21:30:23.910242Z",
     "start_time": "2021-10-13T21:30:23.632058Z"
    },
    "execution": {
     "iopub.execute_input": "2021-10-13T22:00:15.711528Z",
     "iopub.status.busy": "2021-10-13T22:00:15.710359Z",
     "iopub.status.idle": "2021-10-13T22:00:15.942897Z",
     "shell.execute_reply": "2021-10-13T22:00:15.943600Z"
    },
    "hidden": true,
    "papermill": {
     "duration": 0.322765,
     "end_time": "2021-10-13T22:00:15.943803",
     "exception": false,
     "start_time": "2021-10-13T22:00:15.621038",
     "status": "completed"
    },
    "tags": []
   },
   "outputs": [],
   "source": [
    "# Numerical Attributes\n",
    "df2 = df2.loc[df2['unit_price'] >= 0.4, :]\n",
    "\n",
    "# Categorical Attributes\n",
    "df2 = df2.loc[~df2['stock_code'].isin(['POST', 'D', 'DOT', 'M', 'S', 'AMAZONFEE', 'm', 'DCGSSBOY', 'DCGSSGIRL', 'PADS', 'B', 'CRUK'] ), :]\n",
    "\n",
    "# map\n",
    "df2 = df2.loc[~df2['country'].isin(['European Community', 'Unspecified' ]), :]\n",
    "\n",
    "# bad user\n",
    "df2 = df2[~df2['customer_id'].isin( [16446] )]\n",
    "\n",
    "# quantity\n",
    "df2_returns   = df2.loc[df2['quantity'] < 0, :]\n",
    "df2_purchases = df2.loc[df2['quantity'] >= 0, :]"
   ]
  },
  {
   "cell_type": "markdown",
   "id": "16814c2a",
   "metadata": {
    "heading_collapsed": true,
    "papermill": {
     "duration": 0.083051,
     "end_time": "2021-10-13T22:00:16.106602",
     "exception": false,
     "start_time": "2021-10-13T22:00:16.023551",
     "status": "completed"
    },
    "tags": []
   },
   "source": [
    "# 3.0. Feature Engineering"
   ]
  },
  {
   "cell_type": "code",
   "execution_count": 20,
   "id": "3dcc6d38",
   "metadata": {
    "ExecuteTime": {
     "end_time": "2021-10-13T21:30:23.947680Z",
     "start_time": "2021-10-13T21:30:23.913171Z"
    },
    "execution": {
     "iopub.execute_input": "2021-10-13T22:00:16.283647Z",
     "iopub.status.busy": "2021-10-13T22:00:16.282445Z",
     "iopub.status.idle": "2021-10-13T22:00:16.293876Z",
     "shell.execute_reply": "2021-10-13T22:00:16.292788Z"
    },
    "hidden": true,
    "papermill": {
     "duration": 0.107844,
     "end_time": "2021-10-13T22:00:16.294122",
     "exception": false,
     "start_time": "2021-10-13T22:00:16.186278",
     "status": "completed"
    },
    "tags": []
   },
   "outputs": [],
   "source": [
    "df3 = df2.copy()"
   ]
  },
  {
   "cell_type": "markdown",
   "id": "180d585e",
   "metadata": {
    "heading_collapsed": true,
    "hidden": true,
    "papermill": {
     "duration": 0.077668,
     "end_time": "2021-10-13T22:00:16.450180",
     "exception": false,
     "start_time": "2021-10-13T22:00:16.372512",
     "status": "completed"
    },
    "tags": []
   },
   "source": [
    "## 3.1. Feature Creation"
   ]
  },
  {
   "cell_type": "code",
   "execution_count": 21,
   "id": "153c0407",
   "metadata": {
    "ExecuteTime": {
     "end_time": "2021-10-13T21:30:23.997215Z",
     "start_time": "2021-10-13T21:30:23.952756Z"
    },
    "execution": {
     "iopub.execute_input": "2021-10-13T22:00:16.657384Z",
     "iopub.status.busy": "2021-10-13T22:00:16.655732Z",
     "iopub.status.idle": "2021-10-13T22:00:16.687648Z",
     "shell.execute_reply": "2021-10-13T22:00:16.686786Z"
    },
    "hidden": true,
    "papermill": {
     "duration": 0.120918,
     "end_time": "2021-10-13T22:00:16.687834",
     "exception": false,
     "start_time": "2021-10-13T22:00:16.566916",
     "status": "completed"
    },
    "tags": []
   },
   "outputs": [],
   "source": [
    "drop_cols = ['invoice_no', 'stock_code', 'quantity', 'invoice_date', 'unit_price', 'country']\n",
    "df_ref = df3.drop(drop_cols, axis=1).drop_duplicates(ignore_index=True)"
   ]
  },
  {
   "cell_type": "code",
   "execution_count": 22,
   "id": "93e42a51",
   "metadata": {
    "ExecuteTime": {
     "end_time": "2021-10-13T21:30:24.020217Z",
     "start_time": "2021-10-13T21:30:24.000804Z"
    },
    "execution": {
     "iopub.execute_input": "2021-10-13T22:00:16.849924Z",
     "iopub.status.busy": "2021-10-13T22:00:16.849132Z",
     "iopub.status.idle": "2021-10-13T22:00:16.863590Z",
     "shell.execute_reply": "2021-10-13T22:00:16.862848Z"
    },
    "hidden": true,
    "papermill": {
     "duration": 0.094675,
     "end_time": "2021-10-13T22:00:16.863748",
     "exception": false,
     "start_time": "2021-10-13T22:00:16.769073",
     "status": "completed"
    },
    "tags": []
   },
   "outputs": [
    {
     "name": "stderr",
     "output_type": "stream",
     "text": [
      "/home/cid/.pyenv/versions/3.8.0/envs/clustering-high-value-customers-identification/lib/python3.8/site-packages/pandas/core/indexing.py:1773: SettingWithCopyWarning: \n",
      "A value is trying to be set on a copy of a slice from a DataFrame.\n",
      "Try using .loc[row_indexer,col_indexer] = value instead\n",
      "\n",
      "See the caveats in the documentation: https://pandas.pydata.org/pandas-docs/stable/user_guide/indexing.html#returning-a-view-versus-a-copy\n",
      "  self._setitem_single_column(ilocs[0], value, pi)\n"
     ]
    }
   ],
   "source": [
    "df2_purchases.loc[:, ['gross_revenue']] = (df2_purchases.loc[:, 'quantity'] * df2_purchases.loc[:, 'unit_price'])"
   ]
  },
  {
   "cell_type": "markdown",
   "id": "6b340b62",
   "metadata": {
    "ExecuteTime": {
     "end_time": "2021-08-09T16:49:44.138631Z",
     "start_time": "2021-08-09T16:49:44.131084Z"
    },
    "heading_collapsed": true,
    "hidden": true,
    "papermill": {
     "duration": 0.082989,
     "end_time": "2021-10-13T22:00:17.032552",
     "exception": false,
     "start_time": "2021-10-13T22:00:16.949563",
     "status": "completed"
    },
    "tags": []
   },
   "source": [
    "### 3.1.1. Gross Revenue"
   ]
  },
  {
   "cell_type": "code",
   "execution_count": 23,
   "id": "485f6c6e",
   "metadata": {
    "ExecuteTime": {
     "end_time": "2021-10-13T21:30:24.124977Z",
     "start_time": "2021-10-13T21:30:24.023655Z"
    },
    "execution": {
     "iopub.execute_input": "2021-10-13T22:00:17.208593Z",
     "iopub.status.busy": "2021-10-13T22:00:17.206667Z",
     "iopub.status.idle": "2021-10-13T22:00:17.280389Z",
     "shell.execute_reply": "2021-10-13T22:00:17.281020Z"
    },
    "hidden": true,
    "papermill": {
     "duration": 0.165822,
     "end_time": "2021-10-13T22:00:17.281234",
     "exception": false,
     "start_time": "2021-10-13T22:00:17.115412",
     "status": "completed"
    },
    "tags": []
   },
   "outputs": [
    {
     "data": {
      "text/plain": [
       "customer_id       0\n",
       "gross_revenue    92\n",
       "dtype: int64"
      ]
     },
     "execution_count": 23,
     "metadata": {},
     "output_type": "execute_result"
    }
   ],
   "source": [
    "df_monetary = df2_purchases.loc[:, ['customer_id', 'gross_revenue']].groupby('customer_id').sum().reset_index() # .rename(columns={'gross_revenue': 'monetary'})\n",
    "df_ref = pd.merge(df_ref, df_monetary, how='left', on='customer_id')\n",
    "df_ref.isna().sum()"
   ]
  },
  {
   "cell_type": "markdown",
   "id": "39634d79",
   "metadata": {
    "ExecuteTime": {
     "end_time": "2021-08-09T16:49:44.138631Z",
     "start_time": "2021-08-09T16:49:44.131084Z"
    },
    "heading_collapsed": true,
    "hidden": true,
    "papermill": {
     "duration": 0.080122,
     "end_time": "2021-10-13T22:00:17.442669",
     "exception": false,
     "start_time": "2021-10-13T22:00:17.362547",
     "status": "completed"
    },
    "tags": []
   },
   "source": [
    "### 3.1.2. Recency"
   ]
  },
  {
   "cell_type": "code",
   "execution_count": 24,
   "id": "86e6efcc",
   "metadata": {
    "ExecuteTime": {
     "end_time": "2021-10-13T21:30:24.172584Z",
     "start_time": "2021-10-13T21:30:24.131091Z"
    },
    "execution": {
     "iopub.execute_input": "2021-10-13T22:00:17.616426Z",
     "iopub.status.busy": "2021-10-13T22:00:17.615717Z",
     "iopub.status.idle": "2021-10-13T22:00:17.650893Z",
     "shell.execute_reply": "2021-10-13T22:00:17.650150Z"
    },
    "hidden": true,
    "papermill": {
     "duration": 0.12715,
     "end_time": "2021-10-13T22:00:17.651032",
     "exception": false,
     "start_time": "2021-10-13T22:00:17.523882",
     "status": "completed"
    },
    "tags": []
   },
   "outputs": [
    {
     "data": {
      "text/plain": [
       "customer_id       0\n",
       "gross_revenue    92\n",
       "recency_days     92\n",
       "dtype: int64"
      ]
     },
     "execution_count": 24,
     "metadata": {},
     "output_type": "execute_result"
    }
   ],
   "source": [
    "df_recency = df2_purchases.loc[:, ['customer_id', 'invoice_date']].groupby('customer_id').max().reset_index()\n",
    "df_recency['recency_days'] = (df_recency['invoice_date'].max() - df_recency['invoice_date']).dt.days\n",
    "df_ref = pd.merge(df_ref, df_recency[['customer_id', 'recency_days']], how='left', on='customer_id')\n",
    "\n",
    "df_ref.isna().sum()"
   ]
  },
  {
   "cell_type": "markdown",
   "id": "25bdfbc6",
   "metadata": {
    "ExecuteTime": {
     "end_time": "2021-08-09T16:49:44.138631Z",
     "start_time": "2021-08-09T16:49:44.131084Z"
    },
    "heading_collapsed": true,
    "hidden": true,
    "papermill": {
     "duration": 0.082943,
     "end_time": "2021-10-13T22:00:17.826083",
     "exception": false,
     "start_time": "2021-10-13T22:00:17.743140",
     "status": "completed"
    },
    "tags": []
   },
   "source": [
    "### 3.1.3. Quatily of purchased"
   ]
  },
  {
   "cell_type": "code",
   "execution_count": 25,
   "id": "f95c9fd1",
   "metadata": {
    "ExecuteTime": {
     "end_time": "2021-10-13T21:30:24.280177Z",
     "start_time": "2021-10-13T21:30:24.174687Z"
    },
    "execution": {
     "iopub.execute_input": "2021-10-13T22:00:18.010327Z",
     "iopub.status.busy": "2021-10-13T22:00:18.009442Z",
     "iopub.status.idle": "2021-10-13T22:00:18.092201Z",
     "shell.execute_reply": "2021-10-13T22:00:18.091208Z"
    },
    "hidden": true,
    "papermill": {
     "duration": 0.181033,
     "end_time": "2021-10-13T22:00:18.092513",
     "exception": false,
     "start_time": "2021-10-13T22:00:17.911480",
     "status": "completed"
    },
    "tags": []
   },
   "outputs": [
    {
     "data": {
      "text/plain": [
       "customer_id       0\n",
       "gross_revenue    92\n",
       "recency_days     92\n",
       "qtde_invoices    92\n",
       "dtype: int64"
      ]
     },
     "execution_count": 25,
     "metadata": {},
     "output_type": "execute_result"
    }
   ],
   "source": [
    "df_freq = df2_purchases[['customer_id', 'invoice_no']].drop_duplicates().groupby('customer_id').count().reset_index().\\\n",
    "rename(columns={'invoice_no': 'qtde_invoices'})\n",
    "\n",
    "df_ref = pd.merge(df_ref, df_freq, how='left', on='customer_id')\n",
    "df_ref.isna().sum()"
   ]
  },
  {
   "cell_type": "markdown",
   "id": "a2f4d7c7",
   "metadata": {
    "heading_collapsed": true,
    "hidden": true,
    "papermill": {
     "duration": 0.083378,
     "end_time": "2021-10-13T22:00:18.270675",
     "exception": false,
     "start_time": "2021-10-13T22:00:18.187297",
     "status": "completed"
    },
    "tags": []
   },
   "source": [
    "### 3.1.4. Quantity total of items purchased"
   ]
  },
  {
   "cell_type": "code",
   "execution_count": 26,
   "id": "a59a9d62",
   "metadata": {
    "ExecuteTime": {
     "end_time": "2021-10-13T21:30:24.335013Z",
     "start_time": "2021-10-13T21:30:24.285148Z"
    },
    "execution": {
     "iopub.execute_input": "2021-10-13T22:00:18.459005Z",
     "iopub.status.busy": "2021-10-13T22:00:18.457022Z",
     "iopub.status.idle": "2021-10-13T22:00:18.490388Z",
     "shell.execute_reply": "2021-10-13T22:00:18.491320Z"
    },
    "hidden": true,
    "papermill": {
     "duration": 0.13749,
     "end_time": "2021-10-13T22:00:18.491626",
     "exception": false,
     "start_time": "2021-10-13T22:00:18.354136",
     "status": "completed"
    },
    "tags": []
   },
   "outputs": [
    {
     "data": {
      "text/plain": [
       "customer_id       0\n",
       "gross_revenue    92\n",
       "recency_days     92\n",
       "qtde_invoices    92\n",
       "qtde_items       92\n",
       "dtype: int64"
      ]
     },
     "execution_count": 26,
     "metadata": {},
     "output_type": "execute_result"
    }
   ],
   "source": [
    "df_freq = (df2_purchases.loc[:, ['customer_id', 'quantity']].groupby('customer_id')\n",
    "                                                            .sum()\n",
    "                                                            .reset_index()\n",
    "                                                            .rename(columns={'quantity': 'qtde_items'}))\n",
    "df_ref = pd.merge(df_ref, df_freq, how='left', on='customer_id')\n",
    "df_ref.isna().sum()"
   ]
  },
  {
   "cell_type": "markdown",
   "id": "410ffb81",
   "metadata": {
    "ExecuteTime": {
     "end_time": "2021-08-12T13:29:13.252634Z",
     "start_time": "2021-08-12T13:29:13.237186Z"
    },
    "heading_collapsed": true,
    "hidden": true,
    "papermill": {
     "duration": 0.081179,
     "end_time": "2021-10-13T22:00:18.659242",
     "exception": false,
     "start_time": "2021-10-13T22:00:18.578063",
     "status": "completed"
    },
    "tags": []
   },
   "source": [
    "### 3.1.5. Quantity of products purchased"
   ]
  },
  {
   "cell_type": "code",
   "execution_count": 27,
   "id": "81686ba1",
   "metadata": {
    "ExecuteTime": {
     "end_time": "2021-10-13T21:30:24.438881Z",
     "start_time": "2021-10-13T21:30:24.338854Z"
    },
    "execution": {
     "iopub.execute_input": "2021-10-13T22:00:18.841434Z",
     "iopub.status.busy": "2021-10-13T22:00:18.833533Z",
     "iopub.status.idle": "2021-10-13T22:00:18.958973Z",
     "shell.execute_reply": "2021-10-13T22:00:18.961025Z"
    },
    "hidden": true,
    "papermill": {
     "duration": 0.220762,
     "end_time": "2021-10-13T22:00:18.961399",
     "exception": false,
     "start_time": "2021-10-13T22:00:18.740637",
     "status": "completed"
    },
    "tags": []
   },
   "outputs": [
    {
     "data": {
      "text/plain": [
       "customer_id       0\n",
       "gross_revenue    92\n",
       "recency_days     92\n",
       "qtde_invoices    92\n",
       "qtde_items       92\n",
       "qtde_products    92\n",
       "dtype: int64"
      ]
     },
     "execution_count": 27,
     "metadata": {},
     "output_type": "execute_result"
    }
   ],
   "source": [
    "df_freq = ( df2_purchases.loc[:, ['customer_id', 'stock_code']].groupby('customer_id')\n",
    "                                                               .count()\n",
    "                                                               .reset_index()\n",
    "                                                               .rename(columns={'stock_code': 'qtde_products'}))\n",
    "df_ref = pd.merge(df_ref, df_freq, how='left', on='customer_id')\n",
    "df_ref.isna().sum()"
   ]
  },
  {
   "cell_type": "markdown",
   "id": "0bbbf7fe",
   "metadata": {
    "ExecuteTime": {
     "end_time": "2021-08-09T16:49:44.138631Z",
     "start_time": "2021-08-09T16:49:44.131084Z"
    },
    "heading_collapsed": true,
    "hidden": true,
    "papermill": {
     "duration": 0.117633,
     "end_time": "2021-10-13T22:00:19.185539",
     "exception": false,
     "start_time": "2021-10-13T22:00:19.067906",
     "status": "completed"
    },
    "tags": []
   },
   "source": [
    "### 3.1.6. Average Ticket"
   ]
  },
  {
   "cell_type": "code",
   "execution_count": 28,
   "id": "d2d0eed6",
   "metadata": {
    "ExecuteTime": {
     "end_time": "2021-10-13T21:30:24.487132Z",
     "start_time": "2021-10-13T21:30:24.447238Z"
    },
    "execution": {
     "iopub.execute_input": "2021-10-13T22:00:19.385204Z",
     "iopub.status.busy": "2021-10-13T22:00:19.378823Z",
     "iopub.status.idle": "2021-10-13T22:00:19.416443Z",
     "shell.execute_reply": "2021-10-13T22:00:19.416955Z"
    },
    "hidden": true,
    "papermill": {
     "duration": 0.139783,
     "end_time": "2021-10-13T22:00:19.417123",
     "exception": false,
     "start_time": "2021-10-13T22:00:19.277340",
     "status": "completed"
    },
    "tags": []
   },
   "outputs": [
    {
     "data": {
      "text/plain": [
       "customer_id       0\n",
       "gross_revenue    92\n",
       "recency_days     92\n",
       "qtde_invoices    92\n",
       "qtde_items       92\n",
       "qtde_products    92\n",
       "avg_ticket       92\n",
       "dtype: int64"
      ]
     },
     "execution_count": 28,
     "metadata": {},
     "output_type": "execute_result"
    }
   ],
   "source": [
    "df_avg_ticket =  (df2_purchases.loc[:, ['customer_id','gross_revenue']].groupby('customer_id')\n",
    "                                                                       .mean()\n",
    "                                                                       .reset_index()\n",
    "                                                                       .rename(columns={'gross_revenue': 'avg_ticket'}))\n",
    "\n",
    "df_ref = pd.merge(df_ref, df_avg_ticket, how='left', on='customer_id')\n",
    "\n",
    "df_ref.isna().sum()"
   ]
  },
  {
   "cell_type": "markdown",
   "id": "9c33c58d",
   "metadata": {
    "heading_collapsed": true,
    "hidden": true,
    "papermill": {
     "duration": 0.088427,
     "end_time": "2021-10-13T22:00:19.597965",
     "exception": false,
     "start_time": "2021-10-13T22:00:19.509538",
     "status": "completed"
    },
    "tags": []
   },
   "source": [
    "### 3.1.7. Average Recency Days"
   ]
  },
  {
   "cell_type": "code",
   "execution_count": 29,
   "id": "bd3c3af6",
   "metadata": {
    "ExecuteTime": {
     "end_time": "2021-10-13T21:30:24.495825Z",
     "start_time": "2021-10-13T21:30:24.489173Z"
    },
    "execution": {
     "iopub.execute_input": "2021-10-13T22:00:19.787778Z",
     "iopub.status.busy": "2021-10-13T22:00:19.786722Z",
     "iopub.status.idle": "2021-10-13T22:00:19.792029Z",
     "shell.execute_reply": "2021-10-13T22:00:19.790731Z"
    },
    "hidden": true,
    "papermill": {
     "duration": 0.103179,
     "end_time": "2021-10-13T22:00:19.792303",
     "exception": false,
     "start_time": "2021-10-13T22:00:19.689124",
     "status": "completed"
    },
    "tags": []
   },
   "outputs": [],
   "source": [
    "# df_aux = df2[['customer_id', 'invoice_date']].drop_duplicates().sort_values(['customer_id', 'invoice_date'], ascending=[False, False])\n",
    "# df_aux['next_customer_id'] = df_aux['customer_id'].shift()\n",
    "# df_aux['previus_date'] = df_aux['invoice_date'].shift()\n",
    "\n",
    "# df_aux['avg_recency_days'] = df_aux.apply( lambda x: (x['invoice_date'] - x['previus_date']).days if x['customer_id'] == x['next_customer_id'] else np.nan, axis=1)\n",
    "# df_aux['avg_recency_days'] = df_aux['avg_recency_days'] * -1\n",
    "# df_aux = df_aux.drop(columns=['invoice_date', 'next_customer_id', 'previus_date'], axis=1).dropna()\n",
    "\n",
    "# df_avg_recency_days = df_aux.groupby( 'customer_id' ).mean().reset_index()\n",
    "\n",
    "# df_ref = pd.merge(df_ref, df_avg_recency_days, on='customer_id', how='left')\n",
    "# df_ref.isna().sum()"
   ]
  },
  {
   "cell_type": "markdown",
   "id": "922407e6",
   "metadata": {
    "heading_collapsed": true,
    "hidden": true,
    "papermill": {
     "duration": 0.091424,
     "end_time": "2021-10-13T22:00:19.973756",
     "exception": false,
     "start_time": "2021-10-13T22:00:19.882332",
     "status": "completed"
    },
    "tags": []
   },
   "source": [
    "### 3.1.8. Frequency Purchase"
   ]
  },
  {
   "cell_type": "code",
   "execution_count": 30,
   "id": "ecf5a5d7",
   "metadata": {
    "ExecuteTime": {
     "end_time": "2021-10-13T21:30:26.437348Z",
     "start_time": "2021-10-13T21:30:24.501558Z"
    },
    "execution": {
     "iopub.execute_input": "2021-10-13T22:00:20.160801Z",
     "iopub.status.busy": "2021-10-13T22:00:20.159972Z",
     "iopub.status.idle": "2021-10-13T22:00:22.646820Z",
     "shell.execute_reply": "2021-10-13T22:00:22.647318Z"
    },
    "hidden": true,
    "papermill": {
     "duration": 2.582837,
     "end_time": "2021-10-13T22:00:22.647506",
     "exception": false,
     "start_time": "2021-10-13T22:00:20.064669",
     "status": "completed"
    },
    "tags": []
   },
   "outputs": [
    {
     "data": {
      "text/plain": [
       "customer_id       0\n",
       "gross_revenue    92\n",
       "recency_days     92\n",
       "qtde_invoices    92\n",
       "qtde_items       92\n",
       "qtde_products    92\n",
       "avg_ticket       92\n",
       "frequency        92\n",
       "dtype: int64"
      ]
     },
     "execution_count": 30,
     "metadata": {},
     "output_type": "execute_result"
    }
   ],
   "source": [
    "df_aux = (df2_purchases[['customer_id', 'invoice_no', 'invoice_date']].drop_duplicates()\n",
    "                                                 .groupby('customer_id')\n",
    "                                                 .agg( max_ = ('invoice_date', 'max'),\n",
    "                                                       min_ = ('invoice_date', 'min'),\n",
    "                                                       days = ('invoice_date', lambda x: ((x.max() - x.min()).days) + 1 ),\n",
    "                                                       buy_ = ( 'invoice_no', 'count' ))).reset_index()\n",
    "\n",
    "df_aux['frequency'] = df_aux[['buy_', 'days']].apply( lambda x: x['buy_'] / x['days'] if x['days'] != 0 else 0, axis=1 )\n",
    "\n",
    "df_ref = pd.merge(df_ref, df_aux[['customer_id', 'frequency']], on='customer_id', how='left')\n",
    "df_ref.isna().sum()"
   ]
  },
  {
   "cell_type": "markdown",
   "id": "a90650fd",
   "metadata": {
    "heading_collapsed": true,
    "hidden": true,
    "papermill": {
     "duration": 0.086574,
     "end_time": "2021-10-13T22:00:22.826908",
     "exception": false,
     "start_time": "2021-10-13T22:00:22.740334",
     "status": "completed"
    },
    "tags": []
   },
   "source": [
    "### 3.1.9. Number Or Returns"
   ]
  },
  {
   "cell_type": "code",
   "execution_count": 31,
   "id": "fc6071ef",
   "metadata": {
    "ExecuteTime": {
     "end_time": "2021-10-13T21:30:26.475834Z",
     "start_time": "2021-10-13T21:30:26.440644Z"
    },
    "execution": {
     "iopub.execute_input": "2021-10-13T22:00:23.046124Z",
     "iopub.status.busy": "2021-10-13T22:00:23.044907Z",
     "iopub.status.idle": "2021-10-13T22:00:23.064087Z",
     "shell.execute_reply": "2021-10-13T22:00:23.063301Z"
    },
    "hidden": true,
    "papermill": {
     "duration": 0.134071,
     "end_time": "2021-10-13T22:00:23.064233",
     "exception": false,
     "start_time": "2021-10-13T22:00:22.930162",
     "status": "completed"
    },
    "tags": []
   },
   "outputs": [
    {
     "data": {
      "text/plain": [
       "customer_id       0\n",
       "gross_revenue    92\n",
       "recency_days     92\n",
       "qtde_invoices    92\n",
       "qtde_items       92\n",
       "qtde_products    92\n",
       "avg_ticket       92\n",
       "frequency        92\n",
       "qtde_returns      0\n",
       "dtype: int64"
      ]
     },
     "execution_count": 31,
     "metadata": {},
     "output_type": "execute_result"
    }
   ],
   "source": [
    "df_returns = df2_returns[['quantity', 'customer_id']].groupby('customer_id').sum().reset_index().rename(columns={'quantity': 'qtde_returns'})\n",
    "df_returns['qtde_returns'] = df_returns['qtde_returns'] * -1\n",
    "\n",
    "df_ref = pd.merge(df_ref, df_returns, on='customer_id', how='left')\n",
    "df_ref['qtde_returns'].fillna(0, inplace=True)\n",
    "df_ref.isna().sum()"
   ]
  },
  {
   "cell_type": "markdown",
   "id": "83a0383f",
   "metadata": {
    "heading_collapsed": true,
    "hidden": true,
    "papermill": {
     "duration": 0.109912,
     "end_time": "2021-10-13T22:00:23.275896",
     "exception": false,
     "start_time": "2021-10-13T22:00:23.165984",
     "status": "completed"
    },
    "tags": []
   },
   "source": [
    "### 3.1.10. Basket Size"
   ]
  },
  {
   "cell_type": "code",
   "execution_count": 32,
   "id": "f823e35f",
   "metadata": {
    "ExecuteTime": {
     "end_time": "2021-10-13T21:30:26.616450Z",
     "start_time": "2021-10-13T21:30:26.478305Z"
    },
    "execution": {
     "iopub.execute_input": "2021-10-13T22:00:23.517272Z",
     "iopub.status.busy": "2021-10-13T22:00:23.513566Z",
     "iopub.status.idle": "2021-10-13T22:00:23.647856Z",
     "shell.execute_reply": "2021-10-13T22:00:23.648341Z"
    },
    "hidden": true,
    "papermill": {
     "duration": 0.255003,
     "end_time": "2021-10-13T22:00:23.648512",
     "exception": false,
     "start_time": "2021-10-13T22:00:23.393509",
     "status": "completed"
    },
    "tags": []
   },
   "outputs": [
    {
     "data": {
      "text/plain": [
       "customer_id         0\n",
       "gross_revenue      92\n",
       "recency_days       92\n",
       "qtde_invoices      92\n",
       "qtde_items         92\n",
       "qtde_products      92\n",
       "avg_ticket         92\n",
       "frequency          92\n",
       "qtde_returns        0\n",
       "avg_basket_size    92\n",
       "dtype: int64"
      ]
     },
     "execution_count": 32,
     "metadata": {},
     "output_type": "execute_result"
    }
   ],
   "source": [
    "df_aux = (df2_purchases[['customer_id', 'invoice_no', 'quantity']].groupby('customer_id')\n",
    "                                                                   .agg( n_purchase=('invoice_no', 'nunique'),\n",
    "                                                                         n_products=('quantity', 'sum'))).reset_index()\n",
    "df_aux['avg_basket_size'] = df_aux['n_products'] / df_aux['n_purchase']\n",
    "df_ref = pd.merge(df_ref, df_aux[['avg_basket_size', 'customer_id']], on='customer_id', how='left')\n",
    "df_ref.isna().sum()"
   ]
  },
  {
   "cell_type": "markdown",
   "id": "308da526",
   "metadata": {
    "heading_collapsed": true,
    "hidden": true,
    "papermill": {
     "duration": 0.090943,
     "end_time": "2021-10-13T22:00:23.837553",
     "exception": false,
     "start_time": "2021-10-13T22:00:23.746610",
     "status": "completed"
    },
    "tags": []
   },
   "source": [
    "### 3.1.11. Unique Basket Size"
   ]
  },
  {
   "cell_type": "code",
   "execution_count": 33,
   "id": "e81c5029",
   "metadata": {
    "ExecuteTime": {
     "end_time": "2021-10-13T21:30:26.900503Z",
     "start_time": "2021-10-13T21:30:26.619114Z"
    },
    "execution": {
     "iopub.execute_input": "2021-10-13T22:00:24.036496Z",
     "iopub.status.busy": "2021-10-13T22:00:24.029217Z",
     "iopub.status.idle": "2021-10-13T22:00:24.350468Z",
     "shell.execute_reply": "2021-10-13T22:00:24.350948Z"
    },
    "hidden": true,
    "papermill": {
     "duration": 0.416811,
     "end_time": "2021-10-13T22:00:24.351108",
     "exception": false,
     "start_time": "2021-10-13T22:00:23.934297",
     "status": "completed"
    },
    "scrolled": true,
    "tags": []
   },
   "outputs": [
    {
     "data": {
      "text/plain": [
       "customer_id                0\n",
       "gross_revenue             92\n",
       "recency_days              92\n",
       "qtde_invoices             92\n",
       "qtde_items                92\n",
       "qtde_products             92\n",
       "avg_ticket                92\n",
       "frequency                 92\n",
       "qtde_returns               0\n",
       "avg_basket_size           92\n",
       "avg_unique_basket_size    92\n",
       "dtype: int64"
      ]
     },
     "execution_count": 33,
     "metadata": {},
     "output_type": "execute_result"
    }
   ],
   "source": [
    "df_aux = (df2_purchases.loc[:, ['customer_id', 'invoice_no', 'stock_code']].groupby( 'customer_id' )\n",
    "                                                                         .agg(n_purchase=('invoice_no', 'nunique'),\n",
    "                                                                              n_products=('stock_code', 'nunique'))).reset_index()\n",
    "df_aux['avg_unique_basket_size'] = df_aux['n_products'] / df_aux['n_purchase']\n",
    "\n",
    "df_ref = pd.merge(df_ref, df_aux[['avg_unique_basket_size', 'customer_id']], on='customer_id', how='left')\n",
    "df_ref.isna().sum()"
   ]
  },
  {
   "cell_type": "markdown",
   "id": "5e87e47c",
   "metadata": {
    "papermill": {
     "duration": 0.086858,
     "end_time": "2021-10-13T22:00:24.531024",
     "exception": false,
     "start_time": "2021-10-13T22:00:24.444166",
     "status": "completed"
    },
    "tags": []
   },
   "source": [
    "# 4.0. EDA  "
   ]
  },
  {
   "cell_type": "code",
   "execution_count": 34,
   "id": "aac53260",
   "metadata": {
    "ExecuteTime": {
     "end_time": "2021-10-13T21:30:26.916244Z",
     "start_time": "2021-10-13T21:30:26.902849Z"
    },
    "execution": {
     "iopub.execute_input": "2021-10-13T22:00:24.712172Z",
     "iopub.status.busy": "2021-10-13T22:00:24.711515Z",
     "iopub.status.idle": "2021-10-13T22:00:24.718409Z",
     "shell.execute_reply": "2021-10-13T22:00:24.718884Z"
    },
    "papermill": {
     "duration": 0.099828,
     "end_time": "2021-10-13T22:00:24.719042",
     "exception": false,
     "start_time": "2021-10-13T22:00:24.619214",
     "status": "completed"
    },
    "tags": []
   },
   "outputs": [],
   "source": [
    "df_ref = df_ref.dropna()\n",
    "\n",
    "df4 = df_ref.copy()"
   ]
  },
  {
   "cell_type": "markdown",
   "id": "750cdf49",
   "metadata": {
    "papermill": {
     "duration": 0.088851,
     "end_time": "2021-10-13T22:00:24.899101",
     "exception": false,
     "start_time": "2021-10-13T22:00:24.810250",
     "status": "completed"
    },
    "tags": []
   },
   "source": [
    "## 4.3. Space Study"
   ]
  },
  {
   "cell_type": "code",
   "execution_count": 35,
   "id": "8bdf11fc",
   "metadata": {
    "ExecuteTime": {
     "end_time": "2021-10-13T21:30:26.947301Z",
     "start_time": "2021-10-13T21:30:26.919220Z"
    },
    "execution": {
     "iopub.execute_input": "2021-10-13T22:00:25.095085Z",
     "iopub.status.busy": "2021-10-13T22:00:25.093250Z",
     "iopub.status.idle": "2021-10-13T22:00:25.105385Z",
     "shell.execute_reply": "2021-10-13T22:00:25.106536Z"
    },
    "papermill": {
     "duration": 0.11636,
     "end_time": "2021-10-13T22:00:25.106790",
     "exception": false,
     "start_time": "2021-10-13T22:00:24.990430",
     "status": "completed"
    },
    "tags": []
   },
   "outputs": [],
   "source": [
    "# select dataser\n",
    "cols_selected = ['customer_id', 'gross_revenue', 'recency_days', 'qtde_products', 'frequency', 'qtde_returns']\n",
    "df43 = df4[cols_selected].copy()\n",
    "\n",
    "mms = pp.MinMaxScaler()\n",
    "\n",
    "df43['gross_revenue'] = mms.fit_transform( df43[['gross_revenue']].values )\n",
    "df43['recency_days'] = mms.fit_transform( df43[['recency_days']].values )\n",
    "df43['qtde_products'] = mms.fit_transform( df43[['qtde_products']].values )\n",
    "df43['frequency'] = mms.fit_transform( df43[['frequency']].values )\n",
    "df43['qtde_returns'] = mms.fit_transform( df43[['qtde_returns']].values )"
   ]
  },
  {
   "cell_type": "markdown",
   "id": "47b38921",
   "metadata": {
    "papermill": {
     "duration": 0.087934,
     "end_time": "2021-10-13T22:00:25.286641",
     "exception": false,
     "start_time": "2021-10-13T22:00:25.198707",
     "status": "completed"
    },
    "tags": []
   },
   "source": [
    "### 4.3.4. Tree-Based Embbedding"
   ]
  },
  {
   "cell_type": "code",
   "execution_count": 36,
   "id": "77ad5bfc",
   "metadata": {
    "ExecuteTime": {
     "end_time": "2021-10-13T21:31:00.804877Z",
     "start_time": "2021-10-13T21:30:26.951018Z"
    },
    "execution": {
     "iopub.execute_input": "2021-10-13T22:00:25.493805Z",
     "iopub.status.busy": "2021-10-13T22:00:25.492717Z",
     "iopub.status.idle": "2021-10-13T22:01:08.092468Z",
     "shell.execute_reply": "2021-10-13T22:01:08.094077Z"
    },
    "papermill": {
     "duration": 42.710461,
     "end_time": "2021-10-13T22:01:08.094411",
     "exception": false,
     "start_time": "2021-10-13T22:00:25.383950",
     "status": "completed"
    },
    "tags": []
   },
   "outputs": [
    {
     "name": "stderr",
     "output_type": "stream",
     "text": [
      "/home/cid/.pyenv/versions/3.8.0/envs/clustering-high-value-customers-identification/lib/python3.8/site-packages/sklearn/manifold/_spectral_embedding.py:245: UserWarning: Graph is not fully connected, spectral embedding may not work as expected.\n",
      "  warnings.warn(\"Graph is not fully connected, spectral embedding\"\n"
     ]
    }
   ],
   "source": [
    "X = df43.drop(columns=['customer_id', 'gross_revenue'])\n",
    "y = df43['gross_revenue']\n",
    "\n",
    "# model training\n",
    "rf_model = en.RandomForestRegressor( n_estimators=100, random_state=42 )\n",
    "\n",
    "# model training definition\n",
    "rf_model.fit( X, y)\n",
    "\n",
    "#  leaf\n",
    "df_leaf = pd.DataFrame( rf_model.apply( X ) )\n",
    "\n",
    "# create dataframe tree\n",
    "df_tree = pd.DataFrame()\n",
    "\n",
    "# reduzer dimensionality\n",
    "reducer = UMAP(random_state=42)\n",
    "embedding = reducer.fit_transform( df_leaf )\n",
    "\n",
    "# embedding\n",
    "df_tree['embedding_x'] = embedding[:, 0]\n",
    "df_tree['embedding_y'] = embedding[:, 1]"
   ]
  },
  {
   "cell_type": "markdown",
   "id": "87741823",
   "metadata": {
    "papermill": {
     "duration": 0.13352,
     "end_time": "2021-10-13T22:01:08.347112",
     "exception": false,
     "start_time": "2021-10-13T22:01:08.213592",
     "status": "completed"
    },
    "tags": []
   },
   "source": [
    "# 5.0. Data Preparation"
   ]
  },
  {
   "cell_type": "code",
   "execution_count": 37,
   "id": "45d6888e",
   "metadata": {
    "ExecuteTime": {
     "end_time": "2021-10-13T21:31:00.813479Z",
     "start_time": "2021-10-13T21:31:00.807969Z"
    },
    "execution": {
     "iopub.execute_input": "2021-10-13T22:01:08.596828Z",
     "iopub.status.busy": "2021-10-13T22:01:08.596167Z",
     "iopub.status.idle": "2021-10-13T22:01:08.598566Z",
     "shell.execute_reply": "2021-10-13T22:01:08.599030Z"
    },
    "papermill": {
     "duration": 0.128186,
     "end_time": "2021-10-13T22:01:08.599197",
     "exception": false,
     "start_time": "2021-10-13T22:01:08.471011",
     "status": "completed"
    },
    "tags": []
   },
   "outputs": [],
   "source": [
    "df5 = df_tree.copy()\n",
    "# df5.to_csv( '../src/data/tree_based_embedding.csv', index=False )"
   ]
  },
  {
   "cell_type": "markdown",
   "id": "102e3348",
   "metadata": {
    "papermill": {
     "duration": 0.135485,
     "end_time": "2021-10-13T22:01:08.849219",
     "exception": false,
     "start_time": "2021-10-13T22:01:08.713734",
     "status": "completed"
    },
    "tags": []
   },
   "source": [
    "# 7.0. Hyperpameter Fine Tuning"
   ]
  },
  {
   "cell_type": "code",
   "execution_count": 38,
   "id": "7339f801",
   "metadata": {
    "ExecuteTime": {
     "end_time": "2021-10-13T21:31:00.833770Z",
     "start_time": "2021-10-13T21:31:00.815809Z"
    },
    "execution": {
     "iopub.execute_input": "2021-10-13T22:01:09.149113Z",
     "iopub.status.busy": "2021-10-13T22:01:09.147693Z",
     "iopub.status.idle": "2021-10-13T22:01:09.165972Z",
     "shell.execute_reply": "2021-10-13T22:01:09.164987Z"
    },
    "papermill": {
     "duration": 0.195097,
     "end_time": "2021-10-13T22:01:09.166210",
     "exception": false,
     "start_time": "2021-10-13T22:01:08.971113",
     "status": "completed"
    },
    "tags": []
   },
   "outputs": [
    {
     "data": {
      "text/html": [
       "<div>\n",
       "<style scoped>\n",
       "    .dataframe tbody tr th:only-of-type {\n",
       "        vertical-align: middle;\n",
       "    }\n",
       "\n",
       "    .dataframe tbody tr th {\n",
       "        vertical-align: top;\n",
       "    }\n",
       "\n",
       "    .dataframe thead th {\n",
       "        text-align: right;\n",
       "    }\n",
       "</style>\n",
       "<table border=\"1\" class=\"dataframe\">\n",
       "  <thead>\n",
       "    <tr style=\"text-align: right;\">\n",
       "      <th></th>\n",
       "      <th>embedding_x</th>\n",
       "      <th>embedding_y</th>\n",
       "    </tr>\n",
       "  </thead>\n",
       "  <tbody>\n",
       "    <tr>\n",
       "      <th>0</th>\n",
       "      <td>17.881968</td>\n",
       "      <td>14.895823</td>\n",
       "    </tr>\n",
       "    <tr>\n",
       "      <th>1</th>\n",
       "      <td>17.940453</td>\n",
       "      <td>12.172152</td>\n",
       "    </tr>\n",
       "    <tr>\n",
       "      <th>2</th>\n",
       "      <td>18.596876</td>\n",
       "      <td>12.517838</td>\n",
       "    </tr>\n",
       "    <tr>\n",
       "      <th>3</th>\n",
       "      <td>-6.055115</td>\n",
       "      <td>-13.710513</td>\n",
       "    </tr>\n",
       "    <tr>\n",
       "      <th>4</th>\n",
       "      <td>5.152057</td>\n",
       "      <td>18.690804</td>\n",
       "    </tr>\n",
       "  </tbody>\n",
       "</table>\n",
       "</div>"
      ],
      "text/plain": [
       "   embedding_x  embedding_y\n",
       "0    17.881968    14.895823\n",
       "1    17.940453    12.172152\n",
       "2    18.596876    12.517838\n",
       "3    -6.055115   -13.710513\n",
       "4     5.152057    18.690804"
      ]
     },
     "execution_count": 38,
     "metadata": {},
     "output_type": "execute_result"
    }
   ],
   "source": [
    "X = df5.copy()\n",
    "\n",
    "X.head()"
   ]
  },
  {
   "cell_type": "markdown",
   "id": "11fdb6f0",
   "metadata": {
    "papermill": {
     "duration": 0.12149,
     "end_time": "2021-10-13T22:01:09.426065",
     "exception": false,
     "start_time": "2021-10-13T22:01:09.304575",
     "status": "completed"
    },
    "tags": []
   },
   "source": [
    "# 8.0. Model Training"
   ]
  },
  {
   "cell_type": "code",
   "execution_count": 39,
   "id": "533f8854",
   "metadata": {
    "ExecuteTime": {
     "end_time": "2021-10-13T21:31:20.903746Z",
     "start_time": "2021-10-13T21:31:00.836556Z"
    },
    "execution": {
     "iopub.execute_input": "2021-10-13T22:01:09.628037Z",
     "iopub.status.busy": "2021-10-13T22:01:09.627108Z",
     "iopub.status.idle": "2021-10-13T22:01:31.671572Z",
     "shell.execute_reply": "2021-10-13T22:01:31.672216Z"
    },
    "papermill": {
     "duration": 22.147588,
     "end_time": "2021-10-13T22:01:31.672385",
     "exception": false,
     "start_time": "2021-10-13T22:01:09.524797",
     "status": "completed"
    },
    "tags": []
   },
   "outputs": [],
   "source": [
    "# model definition\n",
    "k = 8\n",
    "gmm_model = gm(n_components=k, n_init=100, random_state=42)\n",
    "\n",
    "# model training\n",
    "gmm_model.fit(X)\n",
    "\n",
    "# model predict\n",
    "labels = gmm_model.predict(X)"
   ]
  },
  {
   "cell_type": "markdown",
   "id": "12c0d7de",
   "metadata": {
    "papermill": {
     "duration": 0.089802,
     "end_time": "2021-10-13T22:01:31.854857",
     "exception": false,
     "start_time": "2021-10-13T22:01:31.765055",
     "status": "completed"
    },
    "tags": []
   },
   "source": [
    "## 8.2. Cluster Validation "
   ]
  },
  {
   "cell_type": "code",
   "execution_count": 40,
   "id": "5f531df6",
   "metadata": {
    "ExecuteTime": {
     "end_time": "2021-10-13T21:31:22.664727Z",
     "start_time": "2021-10-13T21:31:20.906249Z"
    },
    "execution": {
     "iopub.execute_input": "2021-10-13T22:01:32.070742Z",
     "iopub.status.busy": "2021-10-13T22:01:32.068229Z",
     "iopub.status.idle": "2021-10-13T22:01:33.357648Z",
     "shell.execute_reply": "2021-10-13T22:01:33.357130Z"
    },
    "papermill": {
     "duration": 1.401527,
     "end_time": "2021-10-13T22:01:33.357778",
     "exception": false,
     "start_time": "2021-10-13T22:01:31.956251",
     "status": "completed"
    },
    "tags": []
   },
   "outputs": [
    {
     "name": "stdout",
     "output_type": "stream",
     "text": [
      "SS value: 0.37607449293136597\n"
     ]
    }
   ],
   "source": [
    "print(\"SS value: {}\".format(metrics.silhouette_score( X, labels, metric='euclidean' )))"
   ]
  },
  {
   "cell_type": "markdown",
   "id": "a6b30a59",
   "metadata": {
    "papermill": {
     "duration": 0.092381,
     "end_time": "2021-10-13T22:01:33.542678",
     "exception": false,
     "start_time": "2021-10-13T22:01:33.450297",
     "status": "completed"
    },
    "tags": []
   },
   "source": [
    "# 9.0. Cluster Analysis"
   ]
  },
  {
   "cell_type": "code",
   "execution_count": 41,
   "id": "6a23bab5",
   "metadata": {
    "ExecuteTime": {
     "end_time": "2021-10-13T21:31:22.689046Z",
     "start_time": "2021-10-13T21:31:22.671373Z"
    },
    "execution": {
     "iopub.execute_input": "2021-10-13T22:01:33.738565Z",
     "iopub.status.busy": "2021-10-13T22:01:33.734438Z",
     "iopub.status.idle": "2021-10-13T22:01:33.747065Z",
     "shell.execute_reply": "2021-10-13T22:01:33.746528Z"
    },
    "papermill": {
     "duration": 0.111311,
     "end_time": "2021-10-13T22:01:33.747201",
     "exception": false,
     "start_time": "2021-10-13T22:01:33.635890",
     "status": "completed"
    },
    "tags": []
   },
   "outputs": [],
   "source": [
    "df92 = df4[cols_selected].copy()\n",
    "df92['cluster'] = labels\n",
    "\n",
    "# change dtypes\n",
    "df92['recency_days'] = df92['recency_days'].astype(int)\n",
    "df92['qtde_products'] = df92['qtde_products'].astype(int)\n",
    "df92['qtde_returns'] = df92['qtde_returns'].astype(int)"
   ]
  },
  {
   "cell_type": "markdown",
   "id": "b253d006",
   "metadata": {
    "papermill": {
     "duration": 0.083451,
     "end_time": "2021-10-13T22:01:33.923312",
     "exception": false,
     "start_time": "2021-10-13T22:01:33.839861",
     "status": "completed"
    },
    "tags": []
   },
   "source": [
    "## 9.2. Cluster Profile"
   ]
  },
  {
   "cell_type": "code",
   "execution_count": 42,
   "id": "b0ceaa89",
   "metadata": {
    "ExecuteTime": {
     "end_time": "2021-10-13T21:31:22.959150Z",
     "start_time": "2021-10-13T21:31:22.692532Z"
    },
    "execution": {
     "iopub.execute_input": "2021-10-13T22:01:34.108475Z",
     "iopub.status.busy": "2021-10-13T22:01:34.107659Z",
     "iopub.status.idle": "2021-10-13T22:01:34.301230Z",
     "shell.execute_reply": "2021-10-13T22:01:34.300101Z"
    },
    "papermill": {
     "duration": 0.289444,
     "end_time": "2021-10-13T22:01:34.301521",
     "exception": false,
     "start_time": "2021-10-13T22:01:34.012077",
     "status": "completed"
    },
    "tags": []
   },
   "outputs": [
    {
     "data": {
      "text/html": [
       "<style type=\"text/css\">\n",
       "#T_fa63c_row0_col3, #T_fa63c_row0_col5, #T_fa63c_row0_col7, #T_fa63c_row1_col0, #T_fa63c_row5_col1, #T_fa63c_row5_col2, #T_fa63c_row5_col4, #T_fa63c_row5_col6 {\n",
       "  background-color: lightgreen;\n",
       "}\n",
       "</style>\n",
       "<table id=\"T_fa63c_\">\n",
       "  <thead>\n",
       "    <tr>\n",
       "      <th class=\"blank level0\" >&nbsp;</th>\n",
       "      <th class=\"col_heading level0 col0\" >cluster</th>\n",
       "      <th class=\"col_heading level0 col1\" >qt_users</th>\n",
       "      <th class=\"col_heading level0 col2\" >per_user</th>\n",
       "      <th class=\"col_heading level0 col3\" >gross_revenue</th>\n",
       "      <th class=\"col_heading level0 col4\" >recency_days</th>\n",
       "      <th class=\"col_heading level0 col5\" >qtde_products</th>\n",
       "      <th class=\"col_heading level0 col6\" >frequency</th>\n",
       "      <th class=\"col_heading level0 col7\" >qtde_returns</th>\n",
       "    </tr>\n",
       "  </thead>\n",
       "  <tbody>\n",
       "    <tr>\n",
       "      <th id=\"T_fa63c_level0_row0\" class=\"row_heading level0 row0\" >0</th>\n",
       "      <td id=\"T_fa63c_row0_col0\" class=\"data row0 col0\" >0</td>\n",
       "      <td id=\"T_fa63c_row0_col1\" class=\"data row0 col1\" >918</td>\n",
       "      <td id=\"T_fa63c_row0_col2\" class=\"data row0 col2\" >16.159127</td>\n",
       "      <td id=\"T_fa63c_row0_col3\" class=\"data row0 col3\" >5890.422756</td>\n",
       "      <td id=\"T_fa63c_row0_col4\" class=\"data row0 col4\" >55.006536</td>\n",
       "      <td id=\"T_fa63c_row0_col5\" class=\"data row0 col5\" >292.521786</td>\n",
       "      <td id=\"T_fa63c_row0_col6\" class=\"data row0 col6\" >0.202352</td>\n",
       "      <td id=\"T_fa63c_row0_col7\" class=\"data row0 col7\" >162.967320</td>\n",
       "    </tr>\n",
       "    <tr>\n",
       "      <th id=\"T_fa63c_level0_row1\" class=\"row_heading level0 row1\" >7</th>\n",
       "      <td id=\"T_fa63c_row1_col0\" class=\"data row1 col0\" >7</td>\n",
       "      <td id=\"T_fa63c_row1_col1\" class=\"data row1 col1\" >729</td>\n",
       "      <td id=\"T_fa63c_row1_col2\" class=\"data row1 col2\" >12.832248</td>\n",
       "      <td id=\"T_fa63c_row1_col3\" class=\"data row1 col3\" >2099.885254</td>\n",
       "      <td id=\"T_fa63c_row1_col4\" class=\"data row1 col4\" >101.890261</td>\n",
       "      <td id=\"T_fa63c_row1_col5\" class=\"data row1 col5\" >158.170096</td>\n",
       "      <td id=\"T_fa63c_row1_col6\" class=\"data row1 col6\" >0.469244</td>\n",
       "      <td id=\"T_fa63c_row1_col7\" class=\"data row1 col7\" >0.185185</td>\n",
       "    </tr>\n",
       "    <tr>\n",
       "      <th id=\"T_fa63c_level0_row2\" class=\"row_heading level0 row2\" >3</th>\n",
       "      <td id=\"T_fa63c_row2_col0\" class=\"data row2 col0\" >3</td>\n",
       "      <td id=\"T_fa63c_row2_col1\" class=\"data row2 col1\" >363</td>\n",
       "      <td id=\"T_fa63c_row2_col2\" class=\"data row2 col2\" >6.389720</td>\n",
       "      <td id=\"T_fa63c_row2_col3\" class=\"data row2 col3\" >1167.181322</td>\n",
       "      <td id=\"T_fa63c_row2_col4\" class=\"data row2 col4\" >61.900826</td>\n",
       "      <td id=\"T_fa63c_row2_col5\" class=\"data row2 col5\" >57.005510</td>\n",
       "      <td id=\"T_fa63c_row2_col6\" class=\"data row2 col6\" >0.027708</td>\n",
       "      <td id=\"T_fa63c_row2_col7\" class=\"data row2 col7\" >9.991736</td>\n",
       "    </tr>\n",
       "    <tr>\n",
       "      <th id=\"T_fa63c_level0_row3\" class=\"row_heading level0 row3\" >6</th>\n",
       "      <td id=\"T_fa63c_row3_col0\" class=\"data row3 col0\" >6</td>\n",
       "      <td id=\"T_fa63c_row3_col1\" class=\"data row3 col1\" >219</td>\n",
       "      <td id=\"T_fa63c_row3_col2\" class=\"data row3 col2\" >3.854955</td>\n",
       "      <td id=\"T_fa63c_row3_col3\" class=\"data row3 col3\" >959.385160</td>\n",
       "      <td id=\"T_fa63c_row3_col4\" class=\"data row3 col4\" >81.625571</td>\n",
       "      <td id=\"T_fa63c_row3_col5\" class=\"data row3 col5\" >38.721461</td>\n",
       "      <td id=\"T_fa63c_row3_col6\" class=\"data row3 col6\" >0.232266</td>\n",
       "      <td id=\"T_fa63c_row3_col7\" class=\"data row3 col7\" >11.292237</td>\n",
       "    </tr>\n",
       "    <tr>\n",
       "      <th id=\"T_fa63c_level0_row4\" class=\"row_heading level0 row4\" >2</th>\n",
       "      <td id=\"T_fa63c_row4_col0\" class=\"data row4 col0\" >2</td>\n",
       "      <td id=\"T_fa63c_row4_col1\" class=\"data row4 col1\" >980</td>\n",
       "      <td id=\"T_fa63c_row4_col2\" class=\"data row4 col2\" >17.250484</td>\n",
       "      <td id=\"T_fa63c_row4_col3\" class=\"data row4 col3\" >928.779551</td>\n",
       "      <td id=\"T_fa63c_row4_col4\" class=\"data row4 col4\" >146.681633</td>\n",
       "      <td id=\"T_fa63c_row4_col5\" class=\"data row4 col5\" >51.101020</td>\n",
       "      <td id=\"T_fa63c_row4_col6\" class=\"data row4 col6\" >0.751629</td>\n",
       "      <td id=\"T_fa63c_row4_col7\" class=\"data row4 col7\" >5.207143</td>\n",
       "    </tr>\n",
       "    <tr>\n",
       "      <th id=\"T_fa63c_level0_row5\" class=\"row_heading level0 row5\" >5</th>\n",
       "      <td id=\"T_fa63c_row5_col0\" class=\"data row5 col0\" >5</td>\n",
       "      <td id=\"T_fa63c_row5_col1\" class=\"data row5 col1\" >1046</td>\n",
       "      <td id=\"T_fa63c_row5_col2\" class=\"data row5 col2\" >18.412251</td>\n",
       "      <td id=\"T_fa63c_row5_col3\" class=\"data row5 col3\" >747.913948</td>\n",
       "      <td id=\"T_fa63c_row5_col4\" class=\"data row5 col4\" >167.919694</td>\n",
       "      <td id=\"T_fa63c_row5_col5\" class=\"data row5 col5\" >24.534417</td>\n",
       "      <td id=\"T_fa63c_row5_col6\" class=\"data row5 col6\" >0.963410</td>\n",
       "      <td id=\"T_fa63c_row5_col7\" class=\"data row5 col7\" >3.863289</td>\n",
       "    </tr>\n",
       "    <tr>\n",
       "      <th id=\"T_fa63c_level0_row6\" class=\"row_heading level0 row6\" >4</th>\n",
       "      <td id=\"T_fa63c_row6_col0\" class=\"data row6 col0\" >4</td>\n",
       "      <td id=\"T_fa63c_row6_col1\" class=\"data row6 col1\" >755</td>\n",
       "      <td id=\"T_fa63c_row6_col2\" class=\"data row6 col2\" >13.289914</td>\n",
       "      <td id=\"T_fa63c_row6_col3\" class=\"data row6 col3\" >506.806265</td>\n",
       "      <td id=\"T_fa63c_row6_col4\" class=\"data row6 col4\" >90.627815</td>\n",
       "      <td id=\"T_fa63c_row6_col5\" class=\"data row6 col5\" >16.890066</td>\n",
       "      <td id=\"T_fa63c_row6_col6\" class=\"data row6 col6\" >0.411353</td>\n",
       "      <td id=\"T_fa63c_row6_col7\" class=\"data row6 col7\" >1.815894</td>\n",
       "    </tr>\n",
       "    <tr>\n",
       "      <th id=\"T_fa63c_level0_row7\" class=\"row_heading level0 row7\" >1</th>\n",
       "      <td id=\"T_fa63c_row7_col0\" class=\"data row7 col0\" >1</td>\n",
       "      <td id=\"T_fa63c_row7_col1\" class=\"data row7 col1\" >671</td>\n",
       "      <td id=\"T_fa63c_row7_col2\" class=\"data row7 col2\" >11.811301</td>\n",
       "      <td id=\"T_fa63c_row7_col3\" class=\"data row7 col3\" >404.091148</td>\n",
       "      <td id=\"T_fa63c_row7_col4\" class=\"data row7 col4\" >167.336811</td>\n",
       "      <td id=\"T_fa63c_row7_col5\" class=\"data row7 col5\" >12.126677</td>\n",
       "      <td id=\"T_fa63c_row7_col6\" class=\"data row7 col6\" >0.696441</td>\n",
       "      <td id=\"T_fa63c_row7_col7\" class=\"data row7 col7\" >5.403875</td>\n",
       "    </tr>\n",
       "  </tbody>\n",
       "</table>\n"
      ],
      "text/plain": [
       "<pandas.io.formats.style.Styler at 0x7f6cebd88160>"
      ]
     },
     "execution_count": 42,
     "metadata": {},
     "output_type": "execute_result"
    }
   ],
   "source": [
    "# cluster - qt_users - per_user\n",
    "df_cluster = df92[['customer_id', 'cluster']].groupby('cluster').count().reset_index().rename(columns={'customer_id': 'qt_users'})\n",
    "df_cluster['per_user'] = 100 * (df_cluster['qt_users'] / df_cluster['qt_users'].sum())\n",
    "\n",
    "\n",
    "# gross_revenue\n",
    "monetary = df92[['gross_revenue', 'cluster']].groupby('cluster').mean().reset_index()\n",
    "df_cluster = pd.merge(df_cluster, monetary, how='left', on='cluster')\n",
    "\n",
    "# recency_days\n",
    "recency_days = df92[['recency_days', 'cluster']].groupby('cluster').mean().reset_index()\n",
    "df_cluster = pd.merge(df_cluster, recency_days, how='left', on='cluster')\n",
    "\n",
    "# qtde_products\n",
    "qtde_products = df92[['qtde_products', 'cluster']].groupby('cluster').mean().reset_index()\n",
    "df_cluster = pd.merge(df_cluster, qtde_products, how='left', on='cluster')\n",
    "\n",
    "# frequency\n",
    "frequency = df92[['frequency', 'cluster']].groupby('cluster').mean().reset_index()\n",
    "df_cluster = pd.merge(df_cluster, frequency, how='left', on='cluster')\n",
    "\n",
    "# qtde_returns\n",
    "qtde_returns = df92[['qtde_returns', 'cluster']].groupby('cluster').mean().reset_index()\n",
    "df_cluster = pd.merge(df_cluster, qtde_returns, how='left', on='cluster')\n",
    "\n",
    "\n",
    "df_cluster.sort_values('gross_revenue', ascending=False).style.highlight_max( color='lightgreen', axis=0 )"
   ]
  },
  {
   "cell_type": "code",
   "execution_count": 43,
   "id": "489232b1",
   "metadata": {
    "ExecuteTime": {
     "end_time": "2021-10-13T21:31:22.967715Z",
     "start_time": "2021-10-13T21:31:22.961537Z"
    },
    "execution": {
     "iopub.execute_input": "2021-10-13T22:01:34.515606Z",
     "iopub.status.busy": "2021-10-13T22:01:34.514339Z",
     "iopub.status.idle": "2021-10-13T22:01:34.517076Z",
     "shell.execute_reply": "2021-10-13T22:01:34.518280Z"
    },
    "papermill": {
     "duration": 0.108676,
     "end_time": "2021-10-13T22:01:34.518720",
     "exception": false,
     "start_time": "2021-10-13T22:01:34.410044",
     "status": "completed"
    },
    "tags": []
   },
   "outputs": [],
   "source": [
    "# 1 Cluster Insiders\n",
    "# 5 Cluster More Products\n",
    "# 4 Cluster Spend Money \n",
    "# 2 Cluster Even More Products\n",
    "# 6 Cluster Less Days\n",
    "# 0 Cluster Less 1k\n",
    "# 7 Cluster Stop Returners\n",
    "# 3 Cluster More Buy"
   ]
  },
  {
   "cell_type": "markdown",
   "id": "5daa53a1",
   "metadata": {
    "papermill": {
     "duration": 0.093372,
     "end_time": "2021-10-13T22:01:34.708234",
     "exception": false,
     "start_time": "2021-10-13T22:01:34.614862",
     "status": "completed"
    },
    "tags": []
   },
   "source": [
    "**Cluster 01:  ( Candidato à Insider )**\n",
    "- Número de customers: 468 (16% do customers )\n",
    "- Faturamento médio: 8836\n",
    "- Recência média: 21 dias\n",
    "- Média de Produtos comprados: 424 produtos\n",
    "- Frequência de Produtos comprados: 0.09 produtos/dia\n",
    "- Receita em média: $8836.13,00 dólares"
   ]
  },
  {
   "cell_type": "markdown",
   "id": "c4ade448",
   "metadata": {
    "papermill": {
     "duration": 0.099944,
     "end_time": "2021-10-13T22:01:34.904281",
     "exception": false,
     "start_time": "2021-10-13T22:01:34.804337",
     "status": "completed"
    },
    "tags": []
   },
   "source": [
    "# 10.0. EDA"
   ]
  },
  {
   "cell_type": "code",
   "execution_count": 44,
   "id": "77dd8a0f",
   "metadata": {
    "ExecuteTime": {
     "end_time": "2021-10-13T21:31:56.537887Z",
     "start_time": "2021-10-13T21:31:56.534065Z"
    },
    "execution": {
     "iopub.execute_input": "2021-10-13T22:01:35.112524Z",
     "iopub.status.busy": "2021-10-13T22:01:35.111714Z",
     "iopub.status.idle": "2021-10-13T22:01:35.114234Z",
     "shell.execute_reply": "2021-10-13T22:01:35.114778Z"
    },
    "papermill": {
     "duration": 0.122415,
     "end_time": "2021-10-13T22:01:35.114997",
     "exception": false,
     "start_time": "2021-10-13T22:01:34.992582",
     "status": "completed"
    },
    "tags": []
   },
   "outputs": [],
   "source": [
    "df10 = df92.copy()"
   ]
  },
  {
   "cell_type": "markdown",
   "id": "b3753f60",
   "metadata": {
    "papermill": {
     "duration": 0.103625,
     "end_time": "2021-10-13T22:01:35.313185",
     "exception": false,
     "start_time": "2021-10-13T22:01:35.209560",
     "status": "completed"
    },
    "tags": []
   },
   "source": [
    "# 11.0. Deploy to Product"
   ]
  },
  {
   "cell_type": "code",
   "execution_count": 45,
   "id": "d701b523",
   "metadata": {
    "ExecuteTime": {
     "end_time": "2021-10-13T21:31:57.254748Z",
     "start_time": "2021-10-13T21:31:57.249508Z"
    },
    "execution": {
     "iopub.execute_input": "2021-10-13T22:01:35.550661Z",
     "iopub.status.busy": "2021-10-13T22:01:35.549627Z",
     "iopub.status.idle": "2021-10-13T22:01:35.552456Z",
     "shell.execute_reply": "2021-10-13T22:01:35.551516Z"
    },
    "papermill": {
     "duration": 0.122474,
     "end_time": "2021-10-13T22:01:35.552664",
     "exception": false,
     "start_time": "2021-10-13T22:01:35.430190",
     "status": "completed"
    },
    "tags": []
   },
   "outputs": [],
   "source": [
    "df11 = df10.copy()"
   ]
  },
  {
   "cell_type": "markdown",
   "id": "75738174",
   "metadata": {
    "papermill": {
     "duration": 0.08786,
     "end_time": "2021-10-13T22:01:35.735171",
     "exception": false,
     "start_time": "2021-10-13T22:01:35.647311",
     "status": "completed"
    },
    "tags": []
   },
   "source": [
    "## 11.1. Insert into SQLITE"
   ]
  },
  {
   "cell_type": "code",
   "execution_count": 46,
   "id": "cb1246b5",
   "metadata": {
    "ExecuteTime": {
     "end_time": "2021-10-13T21:31:23.388468Z",
     "start_time": "2021-10-13T21:31:23.388426Z"
    },
    "execution": {
     "iopub.execute_input": "2021-10-13T22:01:35.931323Z",
     "iopub.status.busy": "2021-10-13T22:01:35.930503Z",
     "iopub.status.idle": "2021-10-13T22:01:35.933331Z",
     "shell.execute_reply": "2021-10-13T22:01:35.933820Z"
    },
    "papermill": {
     "duration": 0.105228,
     "end_time": "2021-10-13T22:01:35.933994",
     "exception": false,
     "start_time": "2021-10-13T22:01:35.828766",
     "status": "completed"
    },
    "tags": []
   },
   "outputs": [],
   "source": [
    "# create table\n",
    "query_create_table_insiders = \"\"\"\n",
    "    CREATE TABLE insiders (\n",
    "        customer_id        INTEGER,\n",
    "        gross_revenue      REAL,\n",
    "        recency_days       INTEGER,\n",
    "        qtde_products      INTEGER,\n",
    "        frequency          REAL,\n",
    "        qtde_returns       INTEGER,\n",
    "        cluster            INTEGER\n",
    "    )\n",
    "\"\"\"\n",
    "# conn = sqlite3.connect( 'insiders_db.sqlite' )\n",
    "# conn.execute( query_create_table_insiders )\n",
    "# conn.commit()\n",
    "# conn.close()"
   ]
  },
  {
   "cell_type": "code",
   "execution_count": 47,
   "id": "aee4c2cf",
   "metadata": {
    "ExecuteTime": {
     "end_time": "2021-10-13T21:31:23.393580Z",
     "start_time": "2021-10-13T21:31:23.393542Z"
    },
    "execution": {
     "iopub.execute_input": "2021-10-13T22:01:36.160120Z",
     "iopub.status.busy": "2021-10-13T22:01:36.159175Z",
     "iopub.status.idle": "2021-10-13T22:01:36.161610Z",
     "shell.execute_reply": "2021-10-13T22:01:36.162711Z"
    },
    "papermill": {
     "duration": 0.132107,
     "end_time": "2021-10-13T22:01:36.162974",
     "exception": false,
     "start_time": "2021-10-13T22:01:36.030867",
     "status": "completed"
    },
    "tags": []
   },
   "outputs": [],
   "source": [
    "# Drop Table\n",
    "query_drop_table = \"\"\"\n",
    "    DROP TABLE  insiders\n",
    "\"\"\""
   ]
  },
  {
   "cell_type": "code",
   "execution_count": 48,
   "id": "dab8fde0",
   "metadata": {
    "ExecuteTime": {
     "end_time": "2021-10-13T21:31:23.396091Z",
     "start_time": "2021-10-13T21:31:23.396051Z"
    },
    "execution": {
     "iopub.execute_input": "2021-10-13T22:01:36.379982Z",
     "iopub.status.busy": "2021-10-13T22:01:36.378811Z",
     "iopub.status.idle": "2021-10-13T22:01:36.477501Z",
     "shell.execute_reply": "2021-10-13T22:01:36.476974Z"
    },
    "papermill": {
     "duration": 0.206827,
     "end_time": "2021-10-13T22:01:36.477631",
     "exception": false,
     "start_time": "2021-10-13T22:01:36.270804",
     "status": "completed"
    },
    "tags": []
   },
   "outputs": [],
   "source": [
    "# insert data\n",
    "conn = create_engine( 'sqlite:///insiders_db.sqlite' )\n",
    "df92.to_sql( 'insiders', con=conn,  if_exists='append', index=False )"
   ]
  },
  {
   "cell_type": "code",
   "execution_count": 49,
   "id": "1c116e67",
   "metadata": {
    "ExecuteTime": {
     "end_time": "2021-10-13T21:31:23.398609Z",
     "start_time": "2021-10-13T21:31:23.398580Z"
    },
    "execution": {
     "iopub.execute_input": "2021-10-13T22:01:36.661953Z",
     "iopub.status.busy": "2021-10-13T22:01:36.661250Z",
     "iopub.status.idle": "2021-10-13T22:01:36.766484Z",
     "shell.execute_reply": "2021-10-13T22:01:36.765960Z"
    },
    "papermill": {
     "duration": 0.200143,
     "end_time": "2021-10-13T22:01:36.766616",
     "exception": false,
     "start_time": "2021-10-13T22:01:36.566473",
     "status": "completed"
    },
    "tags": []
   },
   "outputs": [
    {
     "data": {
      "text/html": [
       "<div>\n",
       "<style scoped>\n",
       "    .dataframe tbody tr th:only-of-type {\n",
       "        vertical-align: middle;\n",
       "    }\n",
       "\n",
       "    .dataframe tbody tr th {\n",
       "        vertical-align: top;\n",
       "    }\n",
       "\n",
       "    .dataframe thead th {\n",
       "        text-align: right;\n",
       "    }\n",
       "</style>\n",
       "<table border=\"1\" class=\"dataframe\">\n",
       "  <thead>\n",
       "    <tr style=\"text-align: right;\">\n",
       "      <th></th>\n",
       "      <th>customer_id</th>\n",
       "      <th>gross_revenue</th>\n",
       "      <th>recency_days</th>\n",
       "      <th>qtde_products</th>\n",
       "      <th>frequency</th>\n",
       "      <th>qtde_returns</th>\n",
       "      <th>cluster</th>\n",
       "    </tr>\n",
       "  </thead>\n",
       "  <tbody>\n",
       "    <tr>\n",
       "      <th>0</th>\n",
       "      <td>17850</td>\n",
       "      <td>5391.21</td>\n",
       "      <td>372</td>\n",
       "      <td>297</td>\n",
       "      <td>17.000000</td>\n",
       "      <td>40</td>\n",
       "      <td>0</td>\n",
       "    </tr>\n",
       "    <tr>\n",
       "      <th>1</th>\n",
       "      <td>13047</td>\n",
       "      <td>3232.59</td>\n",
       "      <td>56</td>\n",
       "      <td>171</td>\n",
       "      <td>0.028302</td>\n",
       "      <td>35</td>\n",
       "      <td>0</td>\n",
       "    </tr>\n",
       "    <tr>\n",
       "      <th>2</th>\n",
       "      <td>12583</td>\n",
       "      <td>6495.30</td>\n",
       "      <td>2</td>\n",
       "      <td>221</td>\n",
       "      <td>0.040323</td>\n",
       "      <td>50</td>\n",
       "      <td>0</td>\n",
       "    </tr>\n",
       "    <tr>\n",
       "      <th>3</th>\n",
       "      <td>13748</td>\n",
       "      <td>938.89</td>\n",
       "      <td>95</td>\n",
       "      <td>27</td>\n",
       "      <td>0.017921</td>\n",
       "      <td>0</td>\n",
       "      <td>5</td>\n",
       "    </tr>\n",
       "    <tr>\n",
       "      <th>4</th>\n",
       "      <td>15100</td>\n",
       "      <td>876.00</td>\n",
       "      <td>333</td>\n",
       "      <td>3</td>\n",
       "      <td>0.073171</td>\n",
       "      <td>22</td>\n",
       "      <td>4</td>\n",
       "    </tr>\n",
       "  </tbody>\n",
       "</table>\n",
       "</div>"
      ],
      "text/plain": [
       "   customer_id  gross_revenue  recency_days  qtde_products  frequency  \\\n",
       "0        17850        5391.21           372            297  17.000000   \n",
       "1        13047        3232.59            56            171   0.028302   \n",
       "2        12583        6495.30             2            221   0.040323   \n",
       "3        13748         938.89            95             27   0.017921   \n",
       "4        15100         876.00           333              3   0.073171   \n",
       "\n",
       "   qtde_returns  cluster  \n",
       "0            40        0  \n",
       "1            35        0  \n",
       "2            50        0  \n",
       "3             0        5  \n",
       "4            22        4  "
      ]
     },
     "execution_count": 49,
     "metadata": {},
     "output_type": "execute_result"
    }
   ],
   "source": [
    "# consulting database\n",
    "query = \"\"\"\n",
    "    SELECT * FROM insiders\n",
    "\"\"\"\n",
    "conn = create_engine( 'sqlite:///insiders_db.sqlite' )\n",
    "\n",
    "df  = pd.read_sql_query( query, conn )\n",
    "df.head()"
   ]
  },
  {
   "cell_type": "markdown",
   "id": "62dda9ce",
   "metadata": {
    "papermill": {
     "duration": 0.092928,
     "end_time": "2021-10-13T22:01:36.952620",
     "exception": false,
     "start_time": "2021-10-13T22:01:36.859692",
     "status": "completed"
    },
    "tags": []
   },
   "source": [
    " ## Metabase \n",
    "\n",
    "1. download https://www.metabase.com/docs/latest/operations-guide/running-the-metabase-jar-file.html\n",
    "* java -jar metabase.jar\n",
    "* http://localhost:3000\n"
   ]
  },
  {
   "cell_type": "markdown",
   "id": "3e9e681b",
   "metadata": {
    "papermill": {
     "duration": 0.097851,
     "end_time": "2021-10-13T22:01:37.146865",
     "exception": false,
     "start_time": "2021-10-13T22:01:37.049014",
     "status": "completed"
    },
    "tags": []
   },
   "source": [
    " ## Banco de Dados na AWS\n",
    " \n",
    "1. Aula 047 - Ciclo 11- Deploy do modelo em produção - Parte III\n",
    "2. começa em 1h00"
   ]
  },
  {
   "cell_type": "markdown",
   "id": "dfcfc8a7",
   "metadata": {
    "papermill": {
     "duration": 0.094453,
     "end_time": "2021-10-13T22:01:37.338241",
     "exception": false,
     "start_time": "2021-10-13T22:01:37.243788",
     "status": "completed"
    },
    "tags": []
   },
   "source": [
    " ## pip install papermill\n",
    "1. pip install papermill\n",
    "2. papermill src/models/c12-deploy.ipynb reports/c12-deploy.ipynbc12-deploy_2021_10_13.ipynb\n",
    "\n",
    " ## bash\n",
    "3. echo $(date +'%Y-%m-%d %H:%M:%S')\n",
    "4. bash model_run.sh"
   ]
  }
 ],
 "metadata": {
  "kernelspec": {
   "display_name": "Python 3 (ipykernel)",
   "language": "python",
   "name": "python3"
  },
  "language_info": {
   "codemirror_mode": {
    "name": "ipython",
    "version": 3
   },
   "file_extension": ".py",
   "mimetype": "text/x-python",
   "name": "python",
   "nbconvert_exporter": "python",
   "pygments_lexer": "ipython3",
   "version": "3.8.0"
  },
  "papermill": {
   "default_parameters": {},
   "duration": 96.619324,
   "end_time": "2021-10-13T22:01:39.014903",
   "environment_variables": {},
   "exception": null,
   "input_path": "/home/cid/repos/clustering-high-value-customers-identification/src/models/c12-deploy.ipynb",
   "output_path": "/home/cid/repos/clustering-high-value-customers-identification/reports/c12-deploy_2021-10-13_19-00-01.ipynb",
   "parameters": {},
   "start_time": "2021-10-13T22:00:02.395579",
   "version": "2.3.3"
  }
 },
 "nbformat": 4,
 "nbformat_minor": 5
}