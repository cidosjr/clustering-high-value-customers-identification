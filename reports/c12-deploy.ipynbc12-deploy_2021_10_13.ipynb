{
 "cells": [
  {
   "cell_type": "markdown",
   "id": "b25a0bdd",
   "metadata": {
    "papermill": {
     "duration": 0.090846,
     "end_time": "2021-10-13T21:32:11.870081",
     "exception": false,
     "start_time": "2021-10-13T21:32:11.779235",
     "status": "completed"
    },
    "tags": []
   },
   "source": [
    "# 0.0. Imports"
   ]
  },
  {
   "cell_type": "code",
   "execution_count": 1,
   "id": "722054fa",
   "metadata": {
    "ExecuteTime": {
     "end_time": "2021-10-13T21:30:20.543378Z",
     "start_time": "2021-10-13T21:30:17.458867Z"
    },
    "execution": {
     "iopub.execute_input": "2021-10-13T21:32:12.036488Z",
     "iopub.status.busy": "2021-10-13T21:32:12.035386Z",
     "iopub.status.idle": "2021-10-13T21:32:14.986179Z",
     "shell.execute_reply": "2021-10-13T21:32:14.985473Z"
    },
    "papermill": {
     "duration": 3.041893,
     "end_time": "2021-10-13T21:32:14.986322",
     "exception": false,
     "start_time": "2021-10-13T21:32:11.944429",
     "status": "completed"
    },
    "tags": []
   },
   "outputs": [],
   "source": [
    "import re\n",
    "import sqlite3\n",
    "import pandas as pd\n",
    "import numpy as np\n",
    "import seaborn as sns\n",
    "import matplotlib.pyplot as plt\n",
    "import plotly.express as px\n",
    "\n",
    "from sqlalchemy import create_engine\n",
    "\n",
    "from umap.umap_ import UMAP\n",
    "from scipy.cluster import hierarchy as hc\n",
    "\n",
    "from sklearn import cluster\n",
    "from sklearn import metrics\n",
    "from sklearn import preprocessing as pp\n",
    "from sklearn.decomposition import PCA\n",
    "from sklearn.manifold import TSNE\n",
    "from sklearn import ensemble as en\n",
    "from sklearn.mixture import GaussianMixture as gm"
   ]
  },
  {
   "cell_type": "markdown",
   "id": "f4bb5440",
   "metadata": {
    "papermill": {
     "duration": 0.078999,
     "end_time": "2021-10-13T21:32:15.148375",
     "exception": false,
     "start_time": "2021-10-13T21:32:15.069376",
     "status": "completed"
    },
    "tags": []
   },
   "source": [
    "## 0.1. Helper Functions"
   ]
  },
  {
   "cell_type": "code",
   "execution_count": 2,
   "id": "a157246c",
   "metadata": {
    "ExecuteTime": {
     "end_time": "2021-10-13T21:30:20.560927Z",
     "start_time": "2021-10-13T21:30:20.546729Z"
    },
    "execution": {
     "iopub.execute_input": "2021-10-13T21:32:15.314485Z",
     "iopub.status.busy": "2021-10-13T21:32:15.313767Z",
     "iopub.status.idle": "2021-10-13T21:32:15.319075Z",
     "shell.execute_reply": "2021-10-13T21:32:15.317363Z"
    },
    "papermill": {
     "duration": 0.094117,
     "end_time": "2021-10-13T21:32:15.319371",
     "exception": false,
     "start_time": "2021-10-13T21:32:15.225254",
     "status": "completed"
    },
    "tags": []
   },
   "outputs": [],
   "source": [
    "def descriptive_statistics(num_attr):\n",
    "    # Central Tendency: mean, median\n",
    "    c1 = pd.DataFrame(num_attr.apply(np.mean))\n",
    "    c2 = pd.DataFrame(num_attr.apply(np.median))\n",
    "\n",
    "    # Dispension: min, max, range, std, skew, kurtosis\n",
    "    d1 = pd.DataFrame(num_attr.apply(min))\n",
    "    d2 = pd.DataFrame(num_attr.apply(max))\n",
    "    d3 = pd.DataFrame(num_attr.apply(lambda x: x.max() - x.min()))\n",
    "    d4 = pd.DataFrame(num_attr.apply(lambda x: x.std()))\n",
    "    \n",
    "    # Measures of Shape\n",
    "    s1 = pd.DataFrame(num_attr.apply(lambda x: x.skew()))\n",
    "    s2 = pd.DataFrame(num_attr.apply(lambda x: x.kurtosis()))\n",
    "\n",
    "    # concat\n",
    "    m = pd.concat([d1,d2,d3,c1,c2,d4,s1,s2], axis=1).reset_index()\n",
    "    m.columns = ['attributes', 'min', 'max', 'range', 'mean', 'median', 'std', 'skew', 'kurtosis']\n",
    "    return m"
   ]
  },
  {
   "cell_type": "markdown",
   "id": "1bb64666",
   "metadata": {
    "papermill": {
     "duration": 0.08527,
     "end_time": "2021-10-13T21:32:15.483637",
     "exception": false,
     "start_time": "2021-10-13T21:32:15.398367",
     "status": "completed"
    },
    "tags": []
   },
   "source": [
    "## 0.2. Load Data"
   ]
  },
  {
   "cell_type": "code",
   "execution_count": 3,
   "id": "54243f8b",
   "metadata": {
    "ExecuteTime": {
     "end_time": "2021-10-13T21:30:21.303101Z",
     "start_time": "2021-10-13T21:30:20.563651Z"
    },
    "execution": {
     "iopub.execute_input": "2021-10-13T21:32:15.659167Z",
     "iopub.status.busy": "2021-10-13T21:32:15.658479Z",
     "iopub.status.idle": "2021-10-13T21:32:16.348558Z",
     "shell.execute_reply": "2021-10-13T21:32:16.349043Z"
    },
    "papermill": {
     "duration": 0.773583,
     "end_time": "2021-10-13T21:32:16.349200",
     "exception": false,
     "start_time": "2021-10-13T21:32:15.575617",
     "status": "completed"
    },
    "tags": []
   },
   "outputs": [],
   "source": [
    "path = '/home/cid/repos/clustering-high-value-customers-identification/'\n",
    "\n",
    "df_raw = pd.read_csv(path + '/data/raw/Ecommerce.csv', encoding='latin1')\n",
    "\n",
    "# drop extra column\n",
    "df_raw = df_raw.drop('Unnamed: 8', axis=1)"
   ]
  },
  {
   "cell_type": "markdown",
   "id": "5b9ae690",
   "metadata": {
    "heading_collapsed": true,
    "papermill": {
     "duration": 0.085369,
     "end_time": "2021-10-13T21:32:16.513260",
     "exception": false,
     "start_time": "2021-10-13T21:32:16.427891",
     "status": "completed"
    },
    "tags": []
   },
   "source": [
    "# 1.0. Data Description"
   ]
  },
  {
   "cell_type": "code",
   "execution_count": 4,
   "id": "026bbc19",
   "metadata": {
    "ExecuteTime": {
     "end_time": "2021-10-13T21:30:21.338059Z",
     "start_time": "2021-10-13T21:30:21.305849Z"
    },
    "execution": {
     "iopub.execute_input": "2021-10-13T21:32:16.769549Z",
     "iopub.status.busy": "2021-10-13T21:32:16.768196Z",
     "iopub.status.idle": "2021-10-13T21:32:16.792294Z",
     "shell.execute_reply": "2021-10-13T21:32:16.790603Z"
    },
    "hidden": true,
    "papermill": {
     "duration": 0.170038,
     "end_time": "2021-10-13T21:32:16.792580",
     "exception": false,
     "start_time": "2021-10-13T21:32:16.622542",
     "status": "completed"
    },
    "tags": []
   },
   "outputs": [],
   "source": [
    "df1 = df_raw.copy()"
   ]
  },
  {
   "cell_type": "markdown",
   "id": "a0e2c036",
   "metadata": {
    "heading_collapsed": true,
    "hidden": true,
    "papermill": {
     "duration": 0.116202,
     "end_time": "2021-10-13T21:32:17.031324",
     "exception": false,
     "start_time": "2021-10-13T21:32:16.915122",
     "status": "completed"
    },
    "tags": []
   },
   "source": [
    "## 1.1. Rename Columns"
   ]
  },
  {
   "cell_type": "code",
   "execution_count": 5,
   "id": "46322473",
   "metadata": {
    "ExecuteTime": {
     "end_time": "2021-10-13T21:30:21.348673Z",
     "start_time": "2021-10-13T21:30:21.340006Z"
    },
    "execution": {
     "iopub.execute_input": "2021-10-13T21:32:17.210150Z",
     "iopub.status.busy": "2021-10-13T21:32:17.208948Z",
     "iopub.status.idle": "2021-10-13T21:32:17.211312Z",
     "shell.execute_reply": "2021-10-13T21:32:17.212183Z"
    },
    "hidden": true,
    "papermill": {
     "duration": 0.087216,
     "end_time": "2021-10-13T21:32:17.212449",
     "exception": false,
     "start_time": "2021-10-13T21:32:17.125233",
     "status": "completed"
    },
    "tags": []
   },
   "outputs": [],
   "source": [
    "cols_new = ['invoice_no', 'stock_code', 'description', 'quantity', 'invoice_date', 'unit_price', 'customer_id', 'country']\n",
    "df1.columns = cols_new"
   ]
  },
  {
   "cell_type": "markdown",
   "id": "09f2dd9b",
   "metadata": {
    "heading_collapsed": true,
    "hidden": true,
    "papermill": {
     "duration": 0.078287,
     "end_time": "2021-10-13T21:32:17.368596",
     "exception": false,
     "start_time": "2021-10-13T21:32:17.290309",
     "status": "completed"
    },
    "tags": []
   },
   "source": [
    "## 1.2. Data Dimnesions"
   ]
  },
  {
   "cell_type": "code",
   "execution_count": 6,
   "id": "e8295ac6",
   "metadata": {
    "ExecuteTime": {
     "end_time": "2021-10-13T21:30:21.359858Z",
     "start_time": "2021-10-13T21:30:21.351131Z"
    },
    "execution": {
     "iopub.execute_input": "2021-10-13T21:32:17.527045Z",
     "iopub.status.busy": "2021-10-13T21:32:17.523024Z",
     "iopub.status.idle": "2021-10-13T21:32:17.530051Z",
     "shell.execute_reply": "2021-10-13T21:32:17.530531Z"
    },
    "hidden": true,
    "papermill": {
     "duration": 0.087031,
     "end_time": "2021-10-13T21:32:17.530693",
     "exception": false,
     "start_time": "2021-10-13T21:32:17.443662",
     "status": "completed"
    },
    "tags": []
   },
   "outputs": [
    {
     "name": "stdout",
     "output_type": "stream",
     "text": [
      "Number of Rows: 541909\n",
      "Number of Columns: 8\n"
     ]
    }
   ],
   "source": [
    "print('Number of Rows: {}'.format(df1.shape[0]))\n",
    "print('Number of Columns: {}'.format(df1.shape[1]))"
   ]
  },
  {
   "cell_type": "markdown",
   "id": "c68dcbcd",
   "metadata": {
    "heading_collapsed": true,
    "hidden": true,
    "papermill": {
     "duration": 0.084763,
     "end_time": "2021-10-13T21:32:17.696672",
     "exception": false,
     "start_time": "2021-10-13T21:32:17.611909",
     "status": "completed"
    },
    "tags": []
   },
   "source": [
    "## 1.3. Data Types"
   ]
  },
  {
   "cell_type": "code",
   "execution_count": 7,
   "id": "4034f49b",
   "metadata": {
    "ExecuteTime": {
     "end_time": "2021-10-13T21:30:21.388280Z",
     "start_time": "2021-10-13T21:30:21.369381Z"
    },
    "execution": {
     "iopub.execute_input": "2021-10-13T21:32:17.860336Z",
     "iopub.status.busy": "2021-10-13T21:32:17.859491Z",
     "iopub.status.idle": "2021-10-13T21:32:17.863152Z",
     "shell.execute_reply": "2021-10-13T21:32:17.862604Z"
    },
    "hidden": true,
    "papermill": {
     "duration": 0.090371,
     "end_time": "2021-10-13T21:32:17.863281",
     "exception": false,
     "start_time": "2021-10-13T21:32:17.772910",
     "status": "completed"
    },
    "tags": []
   },
   "outputs": [
    {
     "data": {
      "text/plain": [
       "invoice_no       object\n",
       "stock_code       object\n",
       "description      object\n",
       "quantity          int64\n",
       "invoice_date     object\n",
       "unit_price      float64\n",
       "customer_id     float64\n",
       "country          object\n",
       "dtype: object"
      ]
     },
     "execution_count": 7,
     "metadata": {},
     "output_type": "execute_result"
    }
   ],
   "source": [
    "df1.dtypes"
   ]
  },
  {
   "cell_type": "markdown",
   "id": "0c014646",
   "metadata": {
    "heading_collapsed": true,
    "hidden": true,
    "papermill": {
     "duration": 0.076957,
     "end_time": "2021-10-13T21:32:18.019331",
     "exception": false,
     "start_time": "2021-10-13T21:32:17.942374",
     "status": "completed"
    },
    "tags": []
   },
   "source": [
    "## 1.4. Check NA"
   ]
  },
  {
   "cell_type": "code",
   "execution_count": 8,
   "id": "7a8a6351",
   "metadata": {
    "ExecuteTime": {
     "end_time": "2021-10-13T21:30:21.637793Z",
     "start_time": "2021-10-13T21:30:21.390738Z"
    },
    "execution": {
     "iopub.execute_input": "2021-10-13T21:32:18.437895Z",
     "iopub.status.busy": "2021-10-13T21:32:18.436550Z",
     "iopub.status.idle": "2021-10-13T21:32:18.452759Z",
     "shell.execute_reply": "2021-10-13T21:32:18.453229Z"
    },
    "hidden": true,
    "papermill": {
     "duration": 0.359287,
     "end_time": "2021-10-13T21:32:18.453385",
     "exception": false,
     "start_time": "2021-10-13T21:32:18.094098",
     "status": "completed"
    },
    "tags": []
   },
   "outputs": [
    {
     "data": {
      "text/plain": [
       "invoice_no           0\n",
       "stock_code           0\n",
       "description       1454\n",
       "quantity             0\n",
       "invoice_date         0\n",
       "unit_price           0\n",
       "customer_id     135080\n",
       "country              0\n",
       "dtype: int64"
      ]
     },
     "execution_count": 8,
     "metadata": {},
     "output_type": "execute_result"
    }
   ],
   "source": [
    "df1.isna().sum()"
   ]
  },
  {
   "cell_type": "markdown",
   "id": "29b1bada",
   "metadata": {
    "heading_collapsed": true,
    "hidden": true,
    "papermill": {
     "duration": 0.081504,
     "end_time": "2021-10-13T21:32:18.655369",
     "exception": false,
     "start_time": "2021-10-13T21:32:18.573865",
     "status": "completed"
    },
    "tags": []
   },
   "source": [
    "## 1.5. Replace NA"
   ]
  },
  {
   "cell_type": "code",
   "execution_count": 9,
   "id": "aa5882db",
   "metadata": {
    "ExecuteTime": {
     "end_time": "2021-10-13T21:30:21.717072Z",
     "start_time": "2021-10-13T21:30:21.639784Z"
    },
    "execution": {
     "iopub.execute_input": "2021-10-13T21:32:18.839721Z",
     "iopub.status.busy": "2021-10-13T21:32:18.838082Z",
     "iopub.status.idle": "2021-10-13T21:32:18.895213Z",
     "shell.execute_reply": "2021-10-13T21:32:18.895729Z"
    },
    "hidden": true,
    "papermill": {
     "duration": 0.14257,
     "end_time": "2021-10-13T21:32:18.895889",
     "exception": false,
     "start_time": "2021-10-13T21:32:18.753319",
     "status": "completed"
    },
    "tags": []
   },
   "outputs": [],
   "source": [
    "df_missing = df1.loc[df1['customer_id'].isna(), :]\n",
    "df_not_missing = df1.loc[~df1['customer_id'].isna(), :]"
   ]
  },
  {
   "cell_type": "code",
   "execution_count": 10,
   "id": "7086dafb",
   "metadata": {
    "ExecuteTime": {
     "end_time": "2021-10-13T21:30:22.047482Z",
     "start_time": "2021-10-13T21:30:21.724054Z"
    },
    "execution": {
     "iopub.execute_input": "2021-10-13T21:32:19.099228Z",
     "iopub.status.busy": "2021-10-13T21:32:19.067236Z",
     "iopub.status.idle": "2021-10-13T21:32:19.379942Z",
     "shell.execute_reply": "2021-10-13T21:32:19.380598Z"
    },
    "hidden": true,
    "papermill": {
     "duration": 0.401599,
     "end_time": "2021-10-13T21:32:19.380802",
     "exception": false,
     "start_time": "2021-10-13T21:32:18.979203",
     "status": "completed"
    },
    "tags": []
   },
   "outputs": [],
   "source": [
    "df_backup = pd.DataFrame(df_missing['invoice_no'].drop_duplicates())\n",
    "df_backup['customer_id'] = np.arange(19000, 19000+len(df_backup), 1)\n",
    "\n",
    "# merge \n",
    "df1 = pd.merge(df1, df_backup, how='left', on='invoice_no' )\n",
    "\n",
    "# coalesce \n",
    "df1['customer_id'] = df1['customer_id_x'].combine_first(df1['customer_id_y'])\n",
    "\n",
    "df1 = df1.drop(['customer_id_x', 'customer_id_y'], axis=1)"
   ]
  },
  {
   "cell_type": "code",
   "execution_count": 11,
   "id": "aff2bc50",
   "metadata": {
    "ExecuteTime": {
     "end_time": "2021-10-13T21:30:22.267595Z",
     "start_time": "2021-10-13T21:30:22.049236Z"
    },
    "execution": {
     "iopub.execute_input": "2021-10-13T21:32:19.763978Z",
     "iopub.status.busy": "2021-10-13T21:32:19.762698Z",
     "iopub.status.idle": "2021-10-13T21:32:19.780713Z",
     "shell.execute_reply": "2021-10-13T21:32:19.780203Z"
    },
    "hidden": true,
    "papermill": {
     "duration": 0.318533,
     "end_time": "2021-10-13T21:32:19.780840",
     "exception": false,
     "start_time": "2021-10-13T21:32:19.462307",
     "status": "completed"
    },
    "tags": []
   },
   "outputs": [
    {
     "data": {
      "text/plain": [
       "invoice_no         0\n",
       "stock_code         0\n",
       "description     1454\n",
       "quantity           0\n",
       "invoice_date       0\n",
       "unit_price         0\n",
       "country            0\n",
       "customer_id        0\n",
       "dtype: int64"
      ]
     },
     "execution_count": 11,
     "metadata": {},
     "output_type": "execute_result"
    }
   ],
   "source": [
    "df1.isna().sum()"
   ]
  },
  {
   "cell_type": "markdown",
   "id": "2e3c11e1",
   "metadata": {
    "heading_collapsed": true,
    "hidden": true,
    "papermill": {
     "duration": 0.078615,
     "end_time": "2021-10-13T21:32:19.938660",
     "exception": false,
     "start_time": "2021-10-13T21:32:19.860045",
     "status": "completed"
    },
    "tags": []
   },
   "source": [
    "## 1.6. Change dtypes"
   ]
  },
  {
   "cell_type": "code",
   "execution_count": 12,
   "id": "6d4edcbb",
   "metadata": {
    "ExecuteTime": {
     "end_time": "2021-10-13T21:30:22.282442Z",
     "start_time": "2021-10-13T21:30:22.270157Z"
    },
    "execution": {
     "iopub.execute_input": "2021-10-13T21:32:20.106951Z",
     "iopub.status.busy": "2021-10-13T21:32:20.105858Z",
     "iopub.status.idle": "2021-10-13T21:32:20.109868Z",
     "shell.execute_reply": "2021-10-13T21:32:20.110356Z"
    },
    "hidden": true,
    "papermill": {
     "duration": 0.093789,
     "end_time": "2021-10-13T21:32:20.110514",
     "exception": false,
     "start_time": "2021-10-13T21:32:20.016725",
     "status": "completed"
    },
    "tags": []
   },
   "outputs": [
    {
     "data": {
      "text/plain": [
       "invoice_no       object\n",
       "stock_code       object\n",
       "description      object\n",
       "quantity          int64\n",
       "invoice_date     object\n",
       "unit_price      float64\n",
       "country          object\n",
       "customer_id     float64\n",
       "dtype: object"
      ]
     },
     "execution_count": 12,
     "metadata": {},
     "output_type": "execute_result"
    }
   ],
   "source": [
    "df1.dtypes"
   ]
  },
  {
   "cell_type": "code",
   "execution_count": 13,
   "id": "e9f81033",
   "metadata": {
    "ExecuteTime": {
     "end_time": "2021-10-13T21:30:22.428684Z",
     "start_time": "2021-10-13T21:30:22.287735Z"
    },
    "execution": {
     "iopub.execute_input": "2021-10-13T21:32:20.305021Z",
     "iopub.status.busy": "2021-10-13T21:32:20.303860Z",
     "iopub.status.idle": "2021-10-13T21:32:20.397291Z",
     "shell.execute_reply": "2021-10-13T21:32:20.397765Z"
    },
    "hidden": true,
    "papermill": {
     "duration": 0.205796,
     "end_time": "2021-10-13T21:32:20.397921",
     "exception": false,
     "start_time": "2021-10-13T21:32:20.192125",
     "status": "completed"
    },
    "tags": []
   },
   "outputs": [],
   "source": [
    "df1['invoice_date'] = pd.to_datetime(df1['invoice_date'])\n",
    "df1['customer_id'] = df1['customer_id'].astype(int)"
   ]
  },
  {
   "cell_type": "markdown",
   "id": "58961082",
   "metadata": {
    "heading_collapsed": true,
    "hidden": true,
    "papermill": {
     "duration": 0.083543,
     "end_time": "2021-10-13T21:32:20.564384",
     "exception": false,
     "start_time": "2021-10-13T21:32:20.480841",
     "status": "completed"
    },
    "tags": []
   },
   "source": [
    "## 1.7. Descriptive Statistics"
   ]
  },
  {
   "cell_type": "code",
   "execution_count": 14,
   "id": "313769d3",
   "metadata": {
    "ExecuteTime": {
     "end_time": "2021-10-13T21:30:22.467637Z",
     "start_time": "2021-10-13T21:30:22.430675Z"
    },
    "execution": {
     "iopub.execute_input": "2021-10-13T21:32:20.731256Z",
     "iopub.status.busy": "2021-10-13T21:32:20.730073Z",
     "iopub.status.idle": "2021-10-13T21:32:20.766949Z",
     "shell.execute_reply": "2021-10-13T21:32:20.767436Z"
    },
    "hidden": true,
    "papermill": {
     "duration": 0.125949,
     "end_time": "2021-10-13T21:32:20.767632",
     "exception": false,
     "start_time": "2021-10-13T21:32:20.641683",
     "status": "completed"
    },
    "tags": []
   },
   "outputs": [],
   "source": [
    "num_att = df1.select_dtypes(include=['int64', 'float64'])\n",
    "cat_att = df1.select_dtypes(include=['object'])"
   ]
  },
  {
   "cell_type": "markdown",
   "id": "7629f4b9",
   "metadata": {
    "heading_collapsed": true,
    "hidden": true,
    "papermill": {
     "duration": 0.085858,
     "end_time": "2021-10-13T21:32:20.951843",
     "exception": false,
     "start_time": "2021-10-13T21:32:20.865985",
     "status": "completed"
    },
    "tags": []
   },
   "source": [
    "## 1.7.1. Numerical Attributes"
   ]
  },
  {
   "cell_type": "code",
   "execution_count": 15,
   "id": "79816883",
   "metadata": {
    "ExecuteTime": {
     "end_time": "2021-10-13T21:30:23.051640Z",
     "start_time": "2021-10-13T21:30:22.471119Z"
    },
    "execution": {
     "iopub.execute_input": "2021-10-13T21:32:21.120030Z",
     "iopub.status.busy": "2021-10-13T21:32:21.119016Z",
     "iopub.status.idle": "2021-10-13T21:32:21.635437Z",
     "shell.execute_reply": "2021-10-13T21:32:21.635937Z"
    },
    "hidden": true,
    "papermill": {
     "duration": 0.604187,
     "end_time": "2021-10-13T21:32:21.636091",
     "exception": false,
     "start_time": "2021-10-13T21:32:21.031904",
     "status": "completed"
    },
    "tags": []
   },
   "outputs": [
    {
     "data": {
      "text/html": [
       "<div>\n",
       "<style scoped>\n",
       "    .dataframe tbody tr th:only-of-type {\n",
       "        vertical-align: middle;\n",
       "    }\n",
       "\n",
       "    .dataframe tbody tr th {\n",
       "        vertical-align: top;\n",
       "    }\n",
       "\n",
       "    .dataframe thead th {\n",
       "        text-align: right;\n",
       "    }\n",
       "</style>\n",
       "<table border=\"1\" class=\"dataframe\">\n",
       "  <thead>\n",
       "    <tr style=\"text-align: right;\">\n",
       "      <th></th>\n",
       "      <th>attributes</th>\n",
       "      <th>min</th>\n",
       "      <th>max</th>\n",
       "      <th>range</th>\n",
       "      <th>mean</th>\n",
       "      <th>median</th>\n",
       "      <th>std</th>\n",
       "      <th>skew</th>\n",
       "      <th>kurtosis</th>\n",
       "    </tr>\n",
       "  </thead>\n",
       "  <tbody>\n",
       "    <tr>\n",
       "      <th>0</th>\n",
       "      <td>quantity</td>\n",
       "      <td>-80995.00</td>\n",
       "      <td>80995.0</td>\n",
       "      <td>161990.00</td>\n",
       "      <td>9.552250</td>\n",
       "      <td>3.00</td>\n",
       "      <td>218.081158</td>\n",
       "      <td>-0.264076</td>\n",
       "      <td>119769.160031</td>\n",
       "    </tr>\n",
       "    <tr>\n",
       "      <th>1</th>\n",
       "      <td>unit_price</td>\n",
       "      <td>-11062.06</td>\n",
       "      <td>38970.0</td>\n",
       "      <td>50032.06</td>\n",
       "      <td>4.611114</td>\n",
       "      <td>2.08</td>\n",
       "      <td>96.759853</td>\n",
       "      <td>186.506972</td>\n",
       "      <td>59005.719097</td>\n",
       "    </tr>\n",
       "    <tr>\n",
       "      <th>2</th>\n",
       "      <td>customer_id</td>\n",
       "      <td>12346.00</td>\n",
       "      <td>22709.0</td>\n",
       "      <td>10363.00</td>\n",
       "      <td>16688.840453</td>\n",
       "      <td>16249.00</td>\n",
       "      <td>2911.411352</td>\n",
       "      <td>0.487449</td>\n",
       "      <td>-0.804287</td>\n",
       "    </tr>\n",
       "  </tbody>\n",
       "</table>\n",
       "</div>"
      ],
      "text/plain": [
       "    attributes       min      max      range          mean    median  \\\n",
       "0     quantity -80995.00  80995.0  161990.00      9.552250      3.00   \n",
       "1   unit_price -11062.06  38970.0   50032.06      4.611114      2.08   \n",
       "2  customer_id  12346.00  22709.0   10363.00  16688.840453  16249.00   \n",
       "\n",
       "           std        skew       kurtosis  \n",
       "0   218.081158   -0.264076  119769.160031  \n",
       "1    96.759853  186.506972   59005.719097  \n",
       "2  2911.411352    0.487449      -0.804287  "
      ]
     },
     "execution_count": 15,
     "metadata": {},
     "output_type": "execute_result"
    }
   ],
   "source": [
    "descriptive_statistics(num_att)"
   ]
  },
  {
   "cell_type": "markdown",
   "id": "918bc2a8",
   "metadata": {
    "heading_collapsed": true,
    "hidden": true,
    "papermill": {
     "duration": 0.081317,
     "end_time": "2021-10-13T21:32:21.794776",
     "exception": false,
     "start_time": "2021-10-13T21:32:21.713459",
     "status": "completed"
    },
    "tags": []
   },
   "source": [
    "## 1.7.2. Categorical Attributes"
   ]
  },
  {
   "cell_type": "code",
   "execution_count": 16,
   "id": "fbb2c633",
   "metadata": {
    "ExecuteTime": {
     "end_time": "2021-10-13T21:30:23.548903Z",
     "start_time": "2021-10-13T21:30:23.053982Z"
    },
    "execution": {
     "iopub.execute_input": "2021-10-13T21:32:22.046194Z",
     "iopub.status.busy": "2021-10-13T21:32:21.994658Z",
     "iopub.status.idle": "2021-10-13T21:32:22.424724Z",
     "shell.execute_reply": "2021-10-13T21:32:22.424172Z"
    },
    "hidden": true,
    "papermill": {
     "duration": 0.549657,
     "end_time": "2021-10-13T21:32:22.424852",
     "exception": false,
     "start_time": "2021-10-13T21:32:21.875195",
     "status": "completed"
    },
    "tags": []
   },
   "outputs": [
    {
     "data": {
      "text/html": [
       "<div>\n",
       "<style scoped>\n",
       "    .dataframe tbody tr th:only-of-type {\n",
       "        vertical-align: middle;\n",
       "    }\n",
       "\n",
       "    .dataframe tbody tr th {\n",
       "        vertical-align: top;\n",
       "    }\n",
       "\n",
       "    .dataframe thead th {\n",
       "        text-align: right;\n",
       "    }\n",
       "</style>\n",
       "<table border=\"1\" class=\"dataframe\">\n",
       "  <thead>\n",
       "    <tr style=\"text-align: right;\">\n",
       "      <th></th>\n",
       "      <th>invoice_no</th>\n",
       "      <th>stock_code</th>\n",
       "      <th>description</th>\n",
       "      <th>country</th>\n",
       "    </tr>\n",
       "  </thead>\n",
       "  <tbody>\n",
       "    <tr>\n",
       "      <th>count</th>\n",
       "      <td>541909</td>\n",
       "      <td>541909</td>\n",
       "      <td>540455</td>\n",
       "      <td>541909</td>\n",
       "    </tr>\n",
       "    <tr>\n",
       "      <th>unique</th>\n",
       "      <td>25900</td>\n",
       "      <td>4070</td>\n",
       "      <td>4223</td>\n",
       "      <td>38</td>\n",
       "    </tr>\n",
       "    <tr>\n",
       "      <th>top</th>\n",
       "      <td>573585</td>\n",
       "      <td>85123A</td>\n",
       "      <td>WHITE HANGING HEART T-LIGHT HOLDER</td>\n",
       "      <td>United Kingdom</td>\n",
       "    </tr>\n",
       "    <tr>\n",
       "      <th>freq</th>\n",
       "      <td>1114</td>\n",
       "      <td>2313</td>\n",
       "      <td>2369</td>\n",
       "      <td>495478</td>\n",
       "    </tr>\n",
       "  </tbody>\n",
       "</table>\n",
       "</div>"
      ],
      "text/plain": [
       "       invoice_no stock_code                         description  \\\n",
       "count      541909     541909                              540455   \n",
       "unique      25900       4070                                4223   \n",
       "top        573585     85123A  WHITE HANGING HEART T-LIGHT HOLDER   \n",
       "freq         1114       2313                                2369   \n",
       "\n",
       "               country  \n",
       "count           541909  \n",
       "unique              38  \n",
       "top     United Kingdom  \n",
       "freq            495478  "
      ]
     },
     "execution_count": 16,
     "metadata": {},
     "output_type": "execute_result"
    }
   ],
   "source": [
    "cat_att.describe(include=['O'])"
   ]
  },
  {
   "cell_type": "markdown",
   "id": "68b2a24f",
   "metadata": {
    "heading_collapsed": true,
    "papermill": {
     "duration": 0.080061,
     "end_time": "2021-10-13T21:32:22.597207",
     "exception": false,
     "start_time": "2021-10-13T21:32:22.517146",
     "status": "completed"
    },
    "tags": []
   },
   "source": [
    "# 2.0. Data Filtering"
   ]
  },
  {
   "cell_type": "code",
   "execution_count": 17,
   "id": "90095e9b",
   "metadata": {
    "ExecuteTime": {
     "end_time": "2021-10-13T21:30:23.579341Z",
     "start_time": "2021-10-13T21:30:23.551410Z"
    },
    "execution": {
     "iopub.execute_input": "2021-10-13T21:32:22.763945Z",
     "iopub.status.busy": "2021-10-13T21:32:22.762928Z",
     "iopub.status.idle": "2021-10-13T21:32:22.780076Z",
     "shell.execute_reply": "2021-10-13T21:32:22.779439Z"
    },
    "hidden": true,
    "papermill": {
     "duration": 0.104457,
     "end_time": "2021-10-13T21:32:22.780212",
     "exception": false,
     "start_time": "2021-10-13T21:32:22.675755",
     "status": "completed"
    },
    "tags": []
   },
   "outputs": [],
   "source": [
    "df2 = df1.copy()"
   ]
  },
  {
   "cell_type": "markdown",
   "id": "25199fd0",
   "metadata": {
    "heading_collapsed": true,
    "hidden": true,
    "papermill": {
     "duration": 0.09678,
     "end_time": "2021-10-13T21:32:22.957632",
     "exception": false,
     "start_time": "2021-10-13T21:32:22.860852",
     "status": "completed"
    },
    "tags": []
   },
   "source": [
    "## 2.1. Filter Columns"
   ]
  },
  {
   "cell_type": "code",
   "execution_count": 18,
   "id": "0bad1aec",
   "metadata": {
    "ExecuteTime": {
     "end_time": "2021-10-13T21:30:23.628687Z",
     "start_time": "2021-10-13T21:30:23.586645Z"
    },
    "execution": {
     "iopub.execute_input": "2021-10-13T21:32:23.153939Z",
     "iopub.status.busy": "2021-10-13T21:32:23.152656Z",
     "iopub.status.idle": "2021-10-13T21:32:23.167305Z",
     "shell.execute_reply": "2021-10-13T21:32:23.166775Z"
    },
    "hidden": true,
    "papermill": {
     "duration": 0.12333,
     "end_time": "2021-10-13T21:32:23.167438",
     "exception": false,
     "start_time": "2021-10-13T21:32:23.044108",
     "status": "completed"
    },
    "tags": []
   },
   "outputs": [],
   "source": [
    "cols_drop = ['description']\n",
    "df2 = df2.drop(cols_drop, axis=1)"
   ]
  },
  {
   "cell_type": "markdown",
   "id": "b50e3b32",
   "metadata": {
    "heading_collapsed": true,
    "hidden": true,
    "papermill": {
     "duration": 0.091864,
     "end_time": "2021-10-13T21:32:23.339595",
     "exception": false,
     "start_time": "2021-10-13T21:32:23.247731",
     "status": "completed"
    },
    "tags": []
   },
   "source": [
    "## 2.2. Filter Rows"
   ]
  },
  {
   "cell_type": "code",
   "execution_count": 19,
   "id": "6bcd20d3",
   "metadata": {
    "ExecuteTime": {
     "end_time": "2021-10-13T21:30:23.910242Z",
     "start_time": "2021-10-13T21:30:23.632058Z"
    },
    "execution": {
     "iopub.execute_input": "2021-10-13T21:32:23.505883Z",
     "iopub.status.busy": "2021-10-13T21:32:23.504889Z",
     "iopub.status.idle": "2021-10-13T21:32:23.738776Z",
     "shell.execute_reply": "2021-10-13T21:32:23.739446Z"
    },
    "hidden": true,
    "papermill": {
     "duration": 0.322677,
     "end_time": "2021-10-13T21:32:23.739666",
     "exception": false,
     "start_time": "2021-10-13T21:32:23.416989",
     "status": "completed"
    },
    "tags": []
   },
   "outputs": [],
   "source": [
    "# Numerical Attributes\n",
    "df2 = df2.loc[df2['unit_price'] >= 0.4, :]\n",
    "\n",
    "# Categorical Attributes\n",
    "df2 = df2.loc[~df2['stock_code'].isin(['POST', 'D', 'DOT', 'M', 'S', 'AMAZONFEE', 'm', 'DCGSSBOY', 'DCGSSGIRL', 'PADS', 'B', 'CRUK'] ), :]\n",
    "\n",
    "# map\n",
    "df2 = df2.loc[~df2['country'].isin(['European Community', 'Unspecified' ]), :]\n",
    "\n",
    "# bad user\n",
    "df2 = df2[~df2['customer_id'].isin( [16446] )]\n",
    "\n",
    "# quantity\n",
    "df2_returns   = df2.loc[df2['quantity'] < 0, :]\n",
    "df2_purchases = df2.loc[df2['quantity'] >= 0, :]"
   ]
  },
  {
   "cell_type": "markdown",
   "id": "16814c2a",
   "metadata": {
    "heading_collapsed": true,
    "papermill": {
     "duration": 0.086679,
     "end_time": "2021-10-13T21:32:23.912847",
     "exception": false,
     "start_time": "2021-10-13T21:32:23.826168",
     "status": "completed"
    },
    "tags": []
   },
   "source": [
    "# 3.0. Feature Engineering"
   ]
  },
  {
   "cell_type": "code",
   "execution_count": 20,
   "id": "3dcc6d38",
   "metadata": {
    "ExecuteTime": {
     "end_time": "2021-10-13T21:30:23.947680Z",
     "start_time": "2021-10-13T21:30:23.913171Z"
    },
    "execution": {
     "iopub.execute_input": "2021-10-13T21:32:24.128878Z",
     "iopub.status.busy": "2021-10-13T21:32:24.128233Z",
     "iopub.status.idle": "2021-10-13T21:32:24.138313Z",
     "shell.execute_reply": "2021-10-13T21:32:24.137524Z"
    },
    "hidden": true,
    "papermill": {
     "duration": 0.145073,
     "end_time": "2021-10-13T21:32:24.138487",
     "exception": false,
     "start_time": "2021-10-13T21:32:23.993414",
     "status": "completed"
    },
    "tags": []
   },
   "outputs": [],
   "source": [
    "df3 = df2.copy()"
   ]
  },
  {
   "cell_type": "markdown",
   "id": "180d585e",
   "metadata": {
    "heading_collapsed": true,
    "hidden": true,
    "papermill": {
     "duration": 0.083277,
     "end_time": "2021-10-13T21:32:24.305404",
     "exception": false,
     "start_time": "2021-10-13T21:32:24.222127",
     "status": "completed"
    },
    "tags": []
   },
   "source": [
    "## 3.1. Feature Creation"
   ]
  },
  {
   "cell_type": "code",
   "execution_count": 21,
   "id": "153c0407",
   "metadata": {
    "ExecuteTime": {
     "end_time": "2021-10-13T21:30:23.997215Z",
     "start_time": "2021-10-13T21:30:23.952756Z"
    },
    "execution": {
     "iopub.execute_input": "2021-10-13T21:32:24.478287Z",
     "iopub.status.busy": "2021-10-13T21:32:24.477492Z",
     "iopub.status.idle": "2021-10-13T21:32:24.504291Z",
     "shell.execute_reply": "2021-10-13T21:32:24.503576Z"
    },
    "hidden": true,
    "papermill": {
     "duration": 0.119206,
     "end_time": "2021-10-13T21:32:24.504451",
     "exception": false,
     "start_time": "2021-10-13T21:32:24.385245",
     "status": "completed"
    },
    "tags": []
   },
   "outputs": [],
   "source": [
    "drop_cols = ['invoice_no', 'stock_code', 'quantity', 'invoice_date', 'unit_price', 'country']\n",
    "df_ref = df3.drop(drop_cols, axis=1).drop_duplicates(ignore_index=True)"
   ]
  },
  {
   "cell_type": "code",
   "execution_count": 22,
   "id": "93e42a51",
   "metadata": {
    "ExecuteTime": {
     "end_time": "2021-10-13T21:30:24.020217Z",
     "start_time": "2021-10-13T21:30:24.000804Z"
    },
    "execution": {
     "iopub.execute_input": "2021-10-13T21:32:24.677730Z",
     "iopub.status.busy": "2021-10-13T21:32:24.676997Z",
     "iopub.status.idle": "2021-10-13T21:32:24.685835Z",
     "shell.execute_reply": "2021-10-13T21:32:24.686306Z"
    },
    "hidden": true,
    "papermill": {
     "duration": 0.095662,
     "end_time": "2021-10-13T21:32:24.686494",
     "exception": false,
     "start_time": "2021-10-13T21:32:24.590832",
     "status": "completed"
    },
    "tags": []
   },
   "outputs": [
    {
     "name": "stderr",
     "output_type": "stream",
     "text": [
      "/home/cid/.pyenv/versions/3.8.0/envs/clustering-high-value-customers-identification/lib/python3.8/site-packages/pandas/core/indexing.py:1773: SettingWithCopyWarning: \n",
      "A value is trying to be set on a copy of a slice from a DataFrame.\n",
      "Try using .loc[row_indexer,col_indexer] = value instead\n",
      "\n",
      "See the caveats in the documentation: https://pandas.pydata.org/pandas-docs/stable/user_guide/indexing.html#returning-a-view-versus-a-copy\n",
      "  self._setitem_single_column(ilocs[0], value, pi)\n"
     ]
    }
   ],
   "source": [
    "df2_purchases.loc[:, ['gross_revenue']] = (df2_purchases.loc[:, 'quantity'] * df2_purchases.loc[:, 'unit_price'])"
   ]
  },
  {
   "cell_type": "markdown",
   "id": "6b340b62",
   "metadata": {
    "ExecuteTime": {
     "end_time": "2021-08-09T16:49:44.138631Z",
     "start_time": "2021-08-09T16:49:44.131084Z"
    },
    "heading_collapsed": true,
    "hidden": true,
    "papermill": {
     "duration": 0.085304,
     "end_time": "2021-10-13T21:32:24.858811",
     "exception": false,
     "start_time": "2021-10-13T21:32:24.773507",
     "status": "completed"
    },
    "tags": []
   },
   "source": [
    "### 3.1.1. Gross Revenue"
   ]
  },
  {
   "cell_type": "code",
   "execution_count": 23,
   "id": "485f6c6e",
   "metadata": {
    "ExecuteTime": {
     "end_time": "2021-10-13T21:30:24.124977Z",
     "start_time": "2021-10-13T21:30:24.023655Z"
    },
    "execution": {
     "iopub.execute_input": "2021-10-13T21:32:25.046674Z",
     "iopub.status.busy": "2021-10-13T21:32:25.045738Z",
     "iopub.status.idle": "2021-10-13T21:32:25.109999Z",
     "shell.execute_reply": "2021-10-13T21:32:25.110471Z"
    },
    "hidden": true,
    "papermill": {
     "duration": 0.160305,
     "end_time": "2021-10-13T21:32:25.110626",
     "exception": false,
     "start_time": "2021-10-13T21:32:24.950321",
     "status": "completed"
    },
    "tags": []
   },
   "outputs": [
    {
     "data": {
      "text/plain": [
       "customer_id       0\n",
       "gross_revenue    92\n",
       "dtype: int64"
      ]
     },
     "execution_count": 23,
     "metadata": {},
     "output_type": "execute_result"
    }
   ],
   "source": [
    "df_monetary = df2_purchases.loc[:, ['customer_id', 'gross_revenue']].groupby('customer_id').sum().reset_index() # .rename(columns={'gross_revenue': 'monetary'})\n",
    "df_ref = pd.merge(df_ref, df_monetary, how='left', on='customer_id')\n",
    "df_ref.isna().sum()"
   ]
  },
  {
   "cell_type": "markdown",
   "id": "39634d79",
   "metadata": {
    "ExecuteTime": {
     "end_time": "2021-08-09T16:49:44.138631Z",
     "start_time": "2021-08-09T16:49:44.131084Z"
    },
    "heading_collapsed": true,
    "hidden": true,
    "papermill": {
     "duration": 0.0879,
     "end_time": "2021-10-13T21:32:25.282882",
     "exception": false,
     "start_time": "2021-10-13T21:32:25.194982",
     "status": "completed"
    },
    "tags": []
   },
   "source": [
    "### 3.1.2. Recency"
   ]
  },
  {
   "cell_type": "code",
   "execution_count": 24,
   "id": "86e6efcc",
   "metadata": {
    "ExecuteTime": {
     "end_time": "2021-10-13T21:30:24.172584Z",
     "start_time": "2021-10-13T21:30:24.131091Z"
    },
    "execution": {
     "iopub.execute_input": "2021-10-13T21:32:25.462617Z",
     "iopub.status.busy": "2021-10-13T21:32:25.461284Z",
     "iopub.status.idle": "2021-10-13T21:32:25.499328Z",
     "shell.execute_reply": "2021-10-13T21:32:25.500081Z"
    },
    "hidden": true,
    "papermill": {
     "duration": 0.131436,
     "end_time": "2021-10-13T21:32:25.500291",
     "exception": false,
     "start_time": "2021-10-13T21:32:25.368855",
     "status": "completed"
    },
    "tags": []
   },
   "outputs": [
    {
     "data": {
      "text/plain": [
       "customer_id       0\n",
       "gross_revenue    92\n",
       "recency_days     92\n",
       "dtype: int64"
      ]
     },
     "execution_count": 24,
     "metadata": {},
     "output_type": "execute_result"
    }
   ],
   "source": [
    "df_recency = df2_purchases.loc[:, ['customer_id', 'invoice_date']].groupby('customer_id').max().reset_index()\n",
    "df_recency['recency_days'] = (df_recency['invoice_date'].max() - df_recency['invoice_date']).dt.days\n",
    "df_ref = pd.merge(df_ref, df_recency[['customer_id', 'recency_days']], how='left', on='customer_id')\n",
    "\n",
    "df_ref.isna().sum()"
   ]
  },
  {
   "cell_type": "markdown",
   "id": "25bdfbc6",
   "metadata": {
    "ExecuteTime": {
     "end_time": "2021-08-09T16:49:44.138631Z",
     "start_time": "2021-08-09T16:49:44.131084Z"
    },
    "heading_collapsed": true,
    "hidden": true,
    "papermill": {
     "duration": 0.08484,
     "end_time": "2021-10-13T21:32:25.672200",
     "exception": false,
     "start_time": "2021-10-13T21:32:25.587360",
     "status": "completed"
    },
    "tags": []
   },
   "source": [
    "### 3.1.3. Quatily of purchased"
   ]
  },
  {
   "cell_type": "code",
   "execution_count": 25,
   "id": "f95c9fd1",
   "metadata": {
    "ExecuteTime": {
     "end_time": "2021-10-13T21:30:24.280177Z",
     "start_time": "2021-10-13T21:30:24.174687Z"
    },
    "execution": {
     "iopub.execute_input": "2021-10-13T21:32:25.861985Z",
     "iopub.status.busy": "2021-10-13T21:32:25.861200Z",
     "iopub.status.idle": "2021-10-13T21:32:25.928065Z",
     "shell.execute_reply": "2021-10-13T21:32:25.928619Z"
    },
    "hidden": true,
    "papermill": {
     "duration": 0.173609,
     "end_time": "2021-10-13T21:32:25.928780",
     "exception": false,
     "start_time": "2021-10-13T21:32:25.755171",
     "status": "completed"
    },
    "tags": []
   },
   "outputs": [
    {
     "data": {
      "text/plain": [
       "customer_id       0\n",
       "gross_revenue    92\n",
       "recency_days     92\n",
       "qtde_invoices    92\n",
       "dtype: int64"
      ]
     },
     "execution_count": 25,
     "metadata": {},
     "output_type": "execute_result"
    }
   ],
   "source": [
    "df_freq = df2_purchases[['customer_id', 'invoice_no']].drop_duplicates().groupby('customer_id').count().reset_index().\\\n",
    "rename(columns={'invoice_no': 'qtde_invoices'})\n",
    "\n",
    "df_ref = pd.merge(df_ref, df_freq, how='left', on='customer_id')\n",
    "df_ref.isna().sum()"
   ]
  },
  {
   "cell_type": "markdown",
   "id": "a2f4d7c7",
   "metadata": {
    "heading_collapsed": true,
    "hidden": true,
    "papermill": {
     "duration": 0.102289,
     "end_time": "2021-10-13T21:32:26.114946",
     "exception": false,
     "start_time": "2021-10-13T21:32:26.012657",
     "status": "completed"
    },
    "tags": []
   },
   "source": [
    "### 3.1.4. Quantity total of items purchased"
   ]
  },
  {
   "cell_type": "code",
   "execution_count": 26,
   "id": "a59a9d62",
   "metadata": {
    "ExecuteTime": {
     "end_time": "2021-10-13T21:30:24.335013Z",
     "start_time": "2021-10-13T21:30:24.285148Z"
    },
    "execution": {
     "iopub.execute_input": "2021-10-13T21:32:26.295293Z",
     "iopub.status.busy": "2021-10-13T21:32:26.294049Z",
     "iopub.status.idle": "2021-10-13T21:32:26.321235Z",
     "shell.execute_reply": "2021-10-13T21:32:26.322721Z"
    },
    "hidden": true,
    "papermill": {
     "duration": 0.123885,
     "end_time": "2021-10-13T21:32:26.323031",
     "exception": false,
     "start_time": "2021-10-13T21:32:26.199146",
     "status": "completed"
    },
    "tags": []
   },
   "outputs": [
    {
     "data": {
      "text/plain": [
       "customer_id       0\n",
       "gross_revenue    92\n",
       "recency_days     92\n",
       "qtde_invoices    92\n",
       "qtde_items       92\n",
       "dtype: int64"
      ]
     },
     "execution_count": 26,
     "metadata": {},
     "output_type": "execute_result"
    }
   ],
   "source": [
    "df_freq = (df2_purchases.loc[:, ['customer_id', 'quantity']].groupby('customer_id')\n",
    "                                                            .sum()\n",
    "                                                            .reset_index()\n",
    "                                                            .rename(columns={'quantity': 'qtde_items'}))\n",
    "df_ref = pd.merge(df_ref, df_freq, how='left', on='customer_id')\n",
    "df_ref.isna().sum()"
   ]
  },
  {
   "cell_type": "markdown",
   "id": "410ffb81",
   "metadata": {
    "ExecuteTime": {
     "end_time": "2021-08-12T13:29:13.252634Z",
     "start_time": "2021-08-12T13:29:13.237186Z"
    },
    "heading_collapsed": true,
    "hidden": true,
    "papermill": {
     "duration": 0.086223,
     "end_time": "2021-10-13T21:32:26.489626",
     "exception": false,
     "start_time": "2021-10-13T21:32:26.403403",
     "status": "completed"
    },
    "tags": []
   },
   "source": [
    "### 3.1.5. Quantity of products purchased"
   ]
  },
  {
   "cell_type": "code",
   "execution_count": 27,
   "id": "81686ba1",
   "metadata": {
    "ExecuteTime": {
     "end_time": "2021-10-13T21:30:24.438881Z",
     "start_time": "2021-10-13T21:30:24.338854Z"
    },
    "execution": {
     "iopub.execute_input": "2021-10-13T21:32:26.693721Z",
     "iopub.status.busy": "2021-10-13T21:32:26.686398Z",
     "iopub.status.idle": "2021-10-13T21:32:26.756583Z",
     "shell.execute_reply": "2021-10-13T21:32:26.757104Z"
    },
    "hidden": true,
    "papermill": {
     "duration": 0.170282,
     "end_time": "2021-10-13T21:32:26.757277",
     "exception": false,
     "start_time": "2021-10-13T21:32:26.586995",
     "status": "completed"
    },
    "tags": []
   },
   "outputs": [
    {
     "data": {
      "text/plain": [
       "customer_id       0\n",
       "gross_revenue    92\n",
       "recency_days     92\n",
       "qtde_invoices    92\n",
       "qtde_items       92\n",
       "qtde_products    92\n",
       "dtype: int64"
      ]
     },
     "execution_count": 27,
     "metadata": {},
     "output_type": "execute_result"
    }
   ],
   "source": [
    "df_freq = ( df2_purchases.loc[:, ['customer_id', 'stock_code']].groupby('customer_id')\n",
    "                                                               .count()\n",
    "                                                               .reset_index()\n",
    "                                                               .rename(columns={'stock_code': 'qtde_products'}))\n",
    "df_ref = pd.merge(df_ref, df_freq, how='left', on='customer_id')\n",
    "df_ref.isna().sum()"
   ]
  },
  {
   "cell_type": "markdown",
   "id": "0bbbf7fe",
   "metadata": {
    "ExecuteTime": {
     "end_time": "2021-08-09T16:49:44.138631Z",
     "start_time": "2021-08-09T16:49:44.131084Z"
    },
    "heading_collapsed": true,
    "hidden": true,
    "papermill": {
     "duration": 0.085968,
     "end_time": "2021-10-13T21:32:26.931249",
     "exception": false,
     "start_time": "2021-10-13T21:32:26.845281",
     "status": "completed"
    },
    "tags": []
   },
   "source": [
    "### 3.1.6. Average Ticket"
   ]
  },
  {
   "cell_type": "code",
   "execution_count": 28,
   "id": "d2d0eed6",
   "metadata": {
    "ExecuteTime": {
     "end_time": "2021-10-13T21:30:24.487132Z",
     "start_time": "2021-10-13T21:30:24.447238Z"
    },
    "execution": {
     "iopub.execute_input": "2021-10-13T21:32:27.115658Z",
     "iopub.status.busy": "2021-10-13T21:32:27.107974Z",
     "iopub.status.idle": "2021-10-13T21:32:27.141394Z",
     "shell.execute_reply": "2021-10-13T21:32:27.141969Z"
    },
    "hidden": true,
    "papermill": {
     "duration": 0.127098,
     "end_time": "2021-10-13T21:32:27.142178",
     "exception": false,
     "start_time": "2021-10-13T21:32:27.015080",
     "status": "completed"
    },
    "tags": []
   },
   "outputs": [
    {
     "data": {
      "text/plain": [
       "customer_id       0\n",
       "gross_revenue    92\n",
       "recency_days     92\n",
       "qtde_invoices    92\n",
       "qtde_items       92\n",
       "qtde_products    92\n",
       "avg_ticket       92\n",
       "dtype: int64"
      ]
     },
     "execution_count": 28,
     "metadata": {},
     "output_type": "execute_result"
    }
   ],
   "source": [
    "df_avg_ticket =  (df2_purchases.loc[:, ['customer_id','gross_revenue']].groupby('customer_id')\n",
    "                                                                       .mean()\n",
    "                                                                       .reset_index()\n",
    "                                                                       .rename(columns={'gross_revenue': 'avg_ticket'}))\n",
    "\n",
    "df_ref = pd.merge(df_ref, df_avg_ticket, how='left', on='customer_id')\n",
    "\n",
    "df_ref.isna().sum()"
   ]
  },
  {
   "cell_type": "markdown",
   "id": "9c33c58d",
   "metadata": {
    "heading_collapsed": true,
    "hidden": true,
    "papermill": {
     "duration": 0.085975,
     "end_time": "2021-10-13T21:32:27.313475",
     "exception": false,
     "start_time": "2021-10-13T21:32:27.227500",
     "status": "completed"
    },
    "tags": []
   },
   "source": [
    "### 3.1.7. Average Recency Days"
   ]
  },
  {
   "cell_type": "code",
   "execution_count": 29,
   "id": "bd3c3af6",
   "metadata": {
    "ExecuteTime": {
     "end_time": "2021-10-13T21:30:24.495825Z",
     "start_time": "2021-10-13T21:30:24.489173Z"
    },
    "execution": {
     "iopub.execute_input": "2021-10-13T21:32:27.495639Z",
     "iopub.status.busy": "2021-10-13T21:32:27.494585Z",
     "iopub.status.idle": "2021-10-13T21:32:27.496968Z",
     "shell.execute_reply": "2021-10-13T21:32:27.497455Z"
    },
    "hidden": true,
    "papermill": {
     "duration": 0.094421,
     "end_time": "2021-10-13T21:32:27.497618",
     "exception": false,
     "start_time": "2021-10-13T21:32:27.403197",
     "status": "completed"
    },
    "tags": []
   },
   "outputs": [],
   "source": [
    "# df_aux = df2[['customer_id', 'invoice_date']].drop_duplicates().sort_values(['customer_id', 'invoice_date'], ascending=[False, False])\n",
    "# df_aux['next_customer_id'] = df_aux['customer_id'].shift()\n",
    "# df_aux['previus_date'] = df_aux['invoice_date'].shift()\n",
    "\n",
    "# df_aux['avg_recency_days'] = df_aux.apply( lambda x: (x['invoice_date'] - x['previus_date']).days if x['customer_id'] == x['next_customer_id'] else np.nan, axis=1)\n",
    "# df_aux['avg_recency_days'] = df_aux['avg_recency_days'] * -1\n",
    "# df_aux = df_aux.drop(columns=['invoice_date', 'next_customer_id', 'previus_date'], axis=1).dropna()\n",
    "\n",
    "# df_avg_recency_days = df_aux.groupby( 'customer_id' ).mean().reset_index()\n",
    "\n",
    "# df_ref = pd.merge(df_ref, df_avg_recency_days, on='customer_id', how='left')\n",
    "# df_ref.isna().sum()"
   ]
  },
  {
   "cell_type": "markdown",
   "id": "922407e6",
   "metadata": {
    "heading_collapsed": true,
    "hidden": true,
    "papermill": {
     "duration": 0.097955,
     "end_time": "2021-10-13T21:32:27.688594",
     "exception": false,
     "start_time": "2021-10-13T21:32:27.590639",
     "status": "completed"
    },
    "tags": []
   },
   "source": [
    "### 3.1.8. Frequency Purchase"
   ]
  },
  {
   "cell_type": "code",
   "execution_count": 30,
   "id": "ecf5a5d7",
   "metadata": {
    "ExecuteTime": {
     "end_time": "2021-10-13T21:30:26.437348Z",
     "start_time": "2021-10-13T21:30:24.501558Z"
    },
    "execution": {
     "iopub.execute_input": "2021-10-13T21:32:27.913661Z",
     "iopub.status.busy": "2021-10-13T21:32:27.912473Z",
     "iopub.status.idle": "2021-10-13T21:32:29.762642Z",
     "shell.execute_reply": "2021-10-13T21:32:29.763292Z"
    },
    "hidden": true,
    "papermill": {
     "duration": 1.989964,
     "end_time": "2021-10-13T21:32:29.763516",
     "exception": false,
     "start_time": "2021-10-13T21:32:27.773552",
     "status": "completed"
    },
    "tags": []
   },
   "outputs": [
    {
     "data": {
      "text/plain": [
       "customer_id       0\n",
       "gross_revenue    92\n",
       "recency_days     92\n",
       "qtde_invoices    92\n",
       "qtde_items       92\n",
       "qtde_products    92\n",
       "avg_ticket       92\n",
       "frequency        92\n",
       "dtype: int64"
      ]
     },
     "execution_count": 30,
     "metadata": {},
     "output_type": "execute_result"
    }
   ],
   "source": [
    "df_aux = (df2_purchases[['customer_id', 'invoice_no', 'invoice_date']].drop_duplicates()\n",
    "                                                 .groupby('customer_id')\n",
    "                                                 .agg( max_ = ('invoice_date', 'max'),\n",
    "                                                       min_ = ('invoice_date', 'min'),\n",
    "                                                       days = ('invoice_date', lambda x: ((x.max() - x.min()).days) + 1 ),\n",
    "                                                       buy_ = ( 'invoice_no', 'count' ))).reset_index()\n",
    "\n",
    "df_aux['frequency'] = df_aux[['buy_', 'days']].apply( lambda x: x['buy_'] / x['days'] if x['days'] != 0 else 0, axis=1 )\n",
    "\n",
    "df_ref = pd.merge(df_ref, df_aux[['customer_id', 'frequency']], on='customer_id', how='left')\n",
    "df_ref.isna().sum()"
   ]
  },
  {
   "cell_type": "markdown",
   "id": "a90650fd",
   "metadata": {
    "heading_collapsed": true,
    "hidden": true,
    "papermill": {
     "duration": 0.101559,
     "end_time": "2021-10-13T21:32:29.952539",
     "exception": false,
     "start_time": "2021-10-13T21:32:29.850980",
     "status": "completed"
    },
    "tags": []
   },
   "source": [
    "### 3.1.9. Number Or Returns"
   ]
  },
  {
   "cell_type": "code",
   "execution_count": 31,
   "id": "fc6071ef",
   "metadata": {
    "ExecuteTime": {
     "end_time": "2021-10-13T21:30:26.475834Z",
     "start_time": "2021-10-13T21:30:26.440644Z"
    },
    "execution": {
     "iopub.execute_input": "2021-10-13T21:32:30.144076Z",
     "iopub.status.busy": "2021-10-13T21:32:30.143335Z",
     "iopub.status.idle": "2021-10-13T21:32:30.161767Z",
     "shell.execute_reply": "2021-10-13T21:32:30.161254Z"
    },
    "hidden": true,
    "papermill": {
     "duration": 0.115275,
     "end_time": "2021-10-13T21:32:30.161895",
     "exception": false,
     "start_time": "2021-10-13T21:32:30.046620",
     "status": "completed"
    },
    "tags": []
   },
   "outputs": [
    {
     "data": {
      "text/plain": [
       "customer_id       0\n",
       "gross_revenue    92\n",
       "recency_days     92\n",
       "qtde_invoices    92\n",
       "qtde_items       92\n",
       "qtde_products    92\n",
       "avg_ticket       92\n",
       "frequency        92\n",
       "qtde_returns      0\n",
       "dtype: int64"
      ]
     },
     "execution_count": 31,
     "metadata": {},
     "output_type": "execute_result"
    }
   ],
   "source": [
    "df_returns = df2_returns[['quantity', 'customer_id']].groupby('customer_id').sum().reset_index().rename(columns={'quantity': 'qtde_returns'})\n",
    "df_returns['qtde_returns'] = df_returns['qtde_returns'] * -1\n",
    "\n",
    "df_ref = pd.merge(df_ref, df_returns, on='customer_id', how='left')\n",
    "df_ref['qtde_returns'].fillna(0, inplace=True)\n",
    "df_ref.isna().sum()"
   ]
  },
  {
   "cell_type": "markdown",
   "id": "83a0383f",
   "metadata": {
    "heading_collapsed": true,
    "hidden": true,
    "papermill": {
     "duration": 0.098753,
     "end_time": "2021-10-13T21:32:30.349403",
     "exception": false,
     "start_time": "2021-10-13T21:32:30.250650",
     "status": "completed"
    },
    "tags": []
   },
   "source": [
    "### 3.1.10. Basket Size"
   ]
  },
  {
   "cell_type": "code",
   "execution_count": 32,
   "id": "f823e35f",
   "metadata": {
    "ExecuteTime": {
     "end_time": "2021-10-13T21:30:26.616450Z",
     "start_time": "2021-10-13T21:30:26.478305Z"
    },
    "execution": {
     "iopub.execute_input": "2021-10-13T21:32:30.545105Z",
     "iopub.status.busy": "2021-10-13T21:32:30.544131Z",
     "iopub.status.idle": "2021-10-13T21:32:30.643189Z",
     "shell.execute_reply": "2021-10-13T21:32:30.642638Z"
    },
    "hidden": true,
    "papermill": {
     "duration": 0.206413,
     "end_time": "2021-10-13T21:32:30.643378",
     "exception": false,
     "start_time": "2021-10-13T21:32:30.436965",
     "status": "completed"
    },
    "tags": []
   },
   "outputs": [
    {
     "data": {
      "text/plain": [
       "customer_id         0\n",
       "gross_revenue      92\n",
       "recency_days       92\n",
       "qtde_invoices      92\n",
       "qtde_items         92\n",
       "qtde_products      92\n",
       "avg_ticket         92\n",
       "frequency          92\n",
       "qtde_returns        0\n",
       "avg_basket_size    92\n",
       "dtype: int64"
      ]
     },
     "execution_count": 32,
     "metadata": {},
     "output_type": "execute_result"
    }
   ],
   "source": [
    "df_aux = (df2_purchases[['customer_id', 'invoice_no', 'quantity']].groupby('customer_id')\n",
    "                                                                   .agg( n_purchase=('invoice_no', 'nunique'),\n",
    "                                                                         n_products=('quantity', 'sum'))).reset_index()\n",
    "df_aux['avg_basket_size'] = df_aux['n_products'] / df_aux['n_purchase']\n",
    "df_ref = pd.merge(df_ref, df_aux[['avg_basket_size', 'customer_id']], on='customer_id', how='left')\n",
    "df_ref.isna().sum()"
   ]
  },
  {
   "cell_type": "markdown",
   "id": "308da526",
   "metadata": {
    "heading_collapsed": true,
    "hidden": true,
    "papermill": {
     "duration": 0.092097,
     "end_time": "2021-10-13T21:32:30.828821",
     "exception": false,
     "start_time": "2021-10-13T21:32:30.736724",
     "status": "completed"
    },
    "tags": []
   },
   "source": [
    "### 3.1.11. Unique Basket Size"
   ]
  },
  {
   "cell_type": "code",
   "execution_count": 33,
   "id": "e81c5029",
   "metadata": {
    "ExecuteTime": {
     "end_time": "2021-10-13T21:30:26.900503Z",
     "start_time": "2021-10-13T21:30:26.619114Z"
    },
    "execution": {
     "iopub.execute_input": "2021-10-13T21:32:31.018680Z",
     "iopub.status.busy": "2021-10-13T21:32:31.017420Z",
     "iopub.status.idle": "2021-10-13T21:32:31.274330Z",
     "shell.execute_reply": "2021-10-13T21:32:31.275055Z"
    },
    "hidden": true,
    "papermill": {
     "duration": 0.357043,
     "end_time": "2021-10-13T21:32:31.275315",
     "exception": false,
     "start_time": "2021-10-13T21:32:30.918272",
     "status": "completed"
    },
    "scrolled": true,
    "tags": []
   },
   "outputs": [
    {
     "data": {
      "text/plain": [
       "customer_id                0\n",
       "gross_revenue             92\n",
       "recency_days              92\n",
       "qtde_invoices             92\n",
       "qtde_items                92\n",
       "qtde_products             92\n",
       "avg_ticket                92\n",
       "frequency                 92\n",
       "qtde_returns               0\n",
       "avg_basket_size           92\n",
       "avg_unique_basket_size    92\n",
       "dtype: int64"
      ]
     },
     "execution_count": 33,
     "metadata": {},
     "output_type": "execute_result"
    }
   ],
   "source": [
    "df_aux = (df2_purchases.loc[:, ['customer_id', 'invoice_no', 'stock_code']].groupby( 'customer_id' )\n",
    "                                                                         .agg(n_purchase=('invoice_no', 'nunique'),\n",
    "                                                                              n_products=('stock_code', 'nunique'))).reset_index()\n",
    "df_aux['avg_unique_basket_size'] = df_aux['n_products'] / df_aux['n_purchase']\n",
    "\n",
    "df_ref = pd.merge(df_ref, df_aux[['avg_unique_basket_size', 'customer_id']], on='customer_id', how='left')\n",
    "df_ref.isna().sum()"
   ]
  },
  {
   "cell_type": "markdown",
   "id": "5e87e47c",
   "metadata": {
    "papermill": {
     "duration": 0.088043,
     "end_time": "2021-10-13T21:32:31.453338",
     "exception": false,
     "start_time": "2021-10-13T21:32:31.365295",
     "status": "completed"
    },
    "tags": []
   },
   "source": [
    "# 4.0. EDA  "
   ]
  },
  {
   "cell_type": "code",
   "execution_count": 34,
   "id": "aac53260",
   "metadata": {
    "ExecuteTime": {
     "end_time": "2021-10-13T21:30:26.916244Z",
     "start_time": "2021-10-13T21:30:26.902849Z"
    },
    "execution": {
     "iopub.execute_input": "2021-10-13T21:32:31.645285Z",
     "iopub.status.busy": "2021-10-13T21:32:31.643729Z",
     "iopub.status.idle": "2021-10-13T21:32:31.650001Z",
     "shell.execute_reply": "2021-10-13T21:32:31.650487Z"
    },
    "papermill": {
     "duration": 0.10453,
     "end_time": "2021-10-13T21:32:31.650652",
     "exception": false,
     "start_time": "2021-10-13T21:32:31.546122",
     "status": "completed"
    },
    "tags": []
   },
   "outputs": [],
   "source": [
    "df_ref = df_ref.dropna()\n",
    "\n",
    "df4 = df_ref.copy()"
   ]
  },
  {
   "cell_type": "markdown",
   "id": "750cdf49",
   "metadata": {
    "papermill": {
     "duration": 0.088831,
     "end_time": "2021-10-13T21:32:31.825397",
     "exception": false,
     "start_time": "2021-10-13T21:32:31.736566",
     "status": "completed"
    },
    "tags": []
   },
   "source": [
    "## 4.3. Space Study"
   ]
  },
  {
   "cell_type": "code",
   "execution_count": 35,
   "id": "8bdf11fc",
   "metadata": {
    "ExecuteTime": {
     "end_time": "2021-10-13T21:30:26.947301Z",
     "start_time": "2021-10-13T21:30:26.919220Z"
    },
    "execution": {
     "iopub.execute_input": "2021-10-13T21:32:32.011677Z",
     "iopub.status.busy": "2021-10-13T21:32:32.010898Z",
     "iopub.status.idle": "2021-10-13T21:32:32.022905Z",
     "shell.execute_reply": "2021-10-13T21:32:32.022094Z"
    },
    "papermill": {
     "duration": 0.108079,
     "end_time": "2021-10-13T21:32:32.023080",
     "exception": false,
     "start_time": "2021-10-13T21:32:31.915001",
     "status": "completed"
    },
    "tags": []
   },
   "outputs": [],
   "source": [
    "# select dataser\n",
    "cols_selected = ['customer_id', 'gross_revenue', 'recency_days', 'qtde_products', 'frequency', 'qtde_returns']\n",
    "df43 = df4[cols_selected].copy()\n",
    "\n",
    "mms = pp.MinMaxScaler()\n",
    "\n",
    "df43['gross_revenue'] = mms.fit_transform( df43[['gross_revenue']].values )\n",
    "df43['recency_days'] = mms.fit_transform( df43[['recency_days']].values )\n",
    "df43['qtde_products'] = mms.fit_transform( df43[['qtde_products']].values )\n",
    "df43['frequency'] = mms.fit_transform( df43[['frequency']].values )\n",
    "df43['qtde_returns'] = mms.fit_transform( df43[['qtde_returns']].values )"
   ]
  },
  {
   "cell_type": "markdown",
   "id": "47b38921",
   "metadata": {
    "papermill": {
     "duration": 0.087066,
     "end_time": "2021-10-13T21:32:32.201806",
     "exception": false,
     "start_time": "2021-10-13T21:32:32.114740",
     "status": "completed"
    },
    "tags": []
   },
   "source": [
    "### 4.3.4. Tree-Based Embbedding"
   ]
  },
  {
   "cell_type": "code",
   "execution_count": 36,
   "id": "77ad5bfc",
   "metadata": {
    "ExecuteTime": {
     "end_time": "2021-10-13T21:31:00.804877Z",
     "start_time": "2021-10-13T21:30:26.951018Z"
    },
    "execution": {
     "iopub.execute_input": "2021-10-13T21:32:32.392705Z",
     "iopub.status.busy": "2021-10-13T21:32:32.382927Z",
     "iopub.status.idle": "2021-10-13T21:33:06.371593Z",
     "shell.execute_reply": "2021-10-13T21:33:06.370559Z"
    },
    "papermill": {
     "duration": 34.083201,
     "end_time": "2021-10-13T21:33:06.371910",
     "exception": false,
     "start_time": "2021-10-13T21:32:32.288709",
     "status": "completed"
    },
    "tags": []
   },
   "outputs": [
    {
     "name": "stderr",
     "output_type": "stream",
     "text": [
      "/home/cid/.pyenv/versions/3.8.0/envs/clustering-high-value-customers-identification/lib/python3.8/site-packages/sklearn/manifold/_spectral_embedding.py:245: UserWarning: Graph is not fully connected, spectral embedding may not work as expected.\n",
      "  warnings.warn(\"Graph is not fully connected, spectral embedding\"\n"
     ]
    }
   ],
   "source": [
    "X = df43.drop(columns=['customer_id', 'gross_revenue'])\n",
    "y = df43['gross_revenue']\n",
    "\n",
    "# model training\n",
    "rf_model = en.RandomForestRegressor( n_estimators=100, random_state=42 )\n",
    "\n",
    "# model training definition\n",
    "rf_model.fit( X, y)\n",
    "\n",
    "#  leaf\n",
    "df_leaf = pd.DataFrame( rf_model.apply( X ) )\n",
    "\n",
    "# create dataframe tree\n",
    "df_tree = pd.DataFrame()\n",
    "\n",
    "# reduzer dimensionality\n",
    "reducer = UMAP(random_state=42)\n",
    "embedding = reducer.fit_transform( df_leaf )\n",
    "\n",
    "# embedding\n",
    "df_tree['embedding_x'] = embedding[:, 0]\n",
    "df_tree['embedding_y'] = embedding[:, 1]"
   ]
  },
  {
   "cell_type": "markdown",
   "id": "87741823",
   "metadata": {
    "papermill": {
     "duration": 0.273001,
     "end_time": "2021-10-13T21:33:06.882861",
     "exception": false,
     "start_time": "2021-10-13T21:33:06.609860",
     "status": "completed"
    },
    "tags": []
   },
   "source": [
    "# 5.0. Data Preparation"
   ]
  },
  {
   "cell_type": "code",
   "execution_count": 37,
   "id": "45d6888e",
   "metadata": {
    "ExecuteTime": {
     "end_time": "2021-10-13T21:31:00.813479Z",
     "start_time": "2021-10-13T21:31:00.807969Z"
    },
    "execution": {
     "iopub.execute_input": "2021-10-13T21:33:07.323666Z",
     "iopub.status.busy": "2021-10-13T21:33:07.322123Z",
     "iopub.status.idle": "2021-10-13T21:33:07.341028Z",
     "shell.execute_reply": "2021-10-13T21:33:07.352671Z"
    },
    "papermill": {
     "duration": 0.297013,
     "end_time": "2021-10-13T21:33:07.353061",
     "exception": false,
     "start_time": "2021-10-13T21:33:07.056048",
     "status": "completed"
    },
    "tags": []
   },
   "outputs": [],
   "source": [
    "df5 = df_tree.copy()\n",
    "# df5.to_csv( '../src/data/tree_based_embedding.csv', index=False )"
   ]
  },
  {
   "cell_type": "markdown",
   "id": "102e3348",
   "metadata": {
    "papermill": {
     "duration": 0.201797,
     "end_time": "2021-10-13T21:33:07.767292",
     "exception": false,
     "start_time": "2021-10-13T21:33:07.565495",
     "status": "completed"
    },
    "tags": []
   },
   "source": [
    "# 7.0. Hyperpameter Fine Tuning"
   ]
  },
  {
   "cell_type": "code",
   "execution_count": 38,
   "id": "7339f801",
   "metadata": {
    "ExecuteTime": {
     "end_time": "2021-10-13T21:31:00.833770Z",
     "start_time": "2021-10-13T21:31:00.815809Z"
    },
    "execution": {
     "iopub.execute_input": "2021-10-13T21:33:08.274143Z",
     "iopub.status.busy": "2021-10-13T21:33:08.269873Z",
     "iopub.status.idle": "2021-10-13T21:33:08.292745Z",
     "shell.execute_reply": "2021-10-13T21:33:08.293470Z"
    },
    "papermill": {
     "duration": 0.319218,
     "end_time": "2021-10-13T21:33:08.293796",
     "exception": false,
     "start_time": "2021-10-13T21:33:07.974578",
     "status": "completed"
    },
    "tags": []
   },
   "outputs": [
    {
     "data": {
      "text/html": [
       "<div>\n",
       "<style scoped>\n",
       "    .dataframe tbody tr th:only-of-type {\n",
       "        vertical-align: middle;\n",
       "    }\n",
       "\n",
       "    .dataframe tbody tr th {\n",
       "        vertical-align: top;\n",
       "    }\n",
       "\n",
       "    .dataframe thead th {\n",
       "        text-align: right;\n",
       "    }\n",
       "</style>\n",
       "<table border=\"1\" class=\"dataframe\">\n",
       "  <thead>\n",
       "    <tr style=\"text-align: right;\">\n",
       "      <th></th>\n",
       "      <th>embedding_x</th>\n",
       "      <th>embedding_y</th>\n",
       "    </tr>\n",
       "  </thead>\n",
       "  <tbody>\n",
       "    <tr>\n",
       "      <th>0</th>\n",
       "      <td>17.881968</td>\n",
       "      <td>14.895823</td>\n",
       "    </tr>\n",
       "    <tr>\n",
       "      <th>1</th>\n",
       "      <td>17.940453</td>\n",
       "      <td>12.172152</td>\n",
       "    </tr>\n",
       "    <tr>\n",
       "      <th>2</th>\n",
       "      <td>18.596876</td>\n",
       "      <td>12.517838</td>\n",
       "    </tr>\n",
       "    <tr>\n",
       "      <th>3</th>\n",
       "      <td>-6.055115</td>\n",
       "      <td>-13.710513</td>\n",
       "    </tr>\n",
       "    <tr>\n",
       "      <th>4</th>\n",
       "      <td>5.152057</td>\n",
       "      <td>18.690804</td>\n",
       "    </tr>\n",
       "  </tbody>\n",
       "</table>\n",
       "</div>"
      ],
      "text/plain": [
       "   embedding_x  embedding_y\n",
       "0    17.881968    14.895823\n",
       "1    17.940453    12.172152\n",
       "2    18.596876    12.517838\n",
       "3    -6.055115   -13.710513\n",
       "4     5.152057    18.690804"
      ]
     },
     "execution_count": 38,
     "metadata": {},
     "output_type": "execute_result"
    }
   ],
   "source": [
    "X = df5.copy()\n",
    "\n",
    "X.head()"
   ]
  },
  {
   "cell_type": "markdown",
   "id": "11fdb6f0",
   "metadata": {
    "papermill": {
     "duration": 0.183456,
     "end_time": "2021-10-13T21:33:08.616956",
     "exception": false,
     "start_time": "2021-10-13T21:33:08.433500",
     "status": "completed"
    },
    "tags": []
   },
   "source": [
    "# 8.0. Model Training"
   ]
  },
  {
   "cell_type": "code",
   "execution_count": 39,
   "id": "533f8854",
   "metadata": {
    "ExecuteTime": {
     "end_time": "2021-10-13T21:31:20.903746Z",
     "start_time": "2021-10-13T21:31:00.836556Z"
    },
    "execution": {
     "iopub.execute_input": "2021-10-13T21:33:08.978921Z",
     "iopub.status.busy": "2021-10-13T21:33:08.977562Z",
     "iopub.status.idle": "2021-10-13T21:33:30.308382Z",
     "shell.execute_reply": "2021-10-13T21:33:30.307676Z"
    },
    "papermill": {
     "duration": 21.54637,
     "end_time": "2021-10-13T21:33:30.308528",
     "exception": false,
     "start_time": "2021-10-13T21:33:08.762158",
     "status": "completed"
    },
    "tags": []
   },
   "outputs": [],
   "source": [
    "# model definition\n",
    "k = 8\n",
    "gmm_model = gm(n_components=k, n_init=100, random_state=42)\n",
    "\n",
    "# model training\n",
    "gmm_model.fit(X)\n",
    "\n",
    "# model predict\n",
    "labels = gmm_model.predict(X)"
   ]
  },
  {
   "cell_type": "markdown",
   "id": "12c0d7de",
   "metadata": {
    "papermill": {
     "duration": 0.105918,
     "end_time": "2021-10-13T21:33:30.577023",
     "exception": false,
     "start_time": "2021-10-13T21:33:30.471105",
     "status": "completed"
    },
    "tags": []
   },
   "source": [
    "## 8.2. Cluster Validation "
   ]
  },
  {
   "cell_type": "code",
   "execution_count": 40,
   "id": "5f531df6",
   "metadata": {
    "ExecuteTime": {
     "end_time": "2021-10-13T21:31:22.664727Z",
     "start_time": "2021-10-13T21:31:20.906249Z"
    },
    "execution": {
     "iopub.execute_input": "2021-10-13T21:33:30.774530Z",
     "iopub.status.busy": "2021-10-13T21:33:30.766971Z",
     "iopub.status.idle": "2021-10-13T21:33:31.806839Z",
     "shell.execute_reply": "2021-10-13T21:33:31.806238Z"
    },
    "papermill": {
     "duration": 1.136766,
     "end_time": "2021-10-13T21:33:31.806968",
     "exception": false,
     "start_time": "2021-10-13T21:33:30.670202",
     "status": "completed"
    },
    "tags": []
   },
   "outputs": [
    {
     "name": "stdout",
     "output_type": "stream",
     "text": [
      "SS value: 0.37607449293136597\n"
     ]
    }
   ],
   "source": [
    "print(\"SS value: {}\".format(metrics.silhouette_score( X, labels, metric='euclidean' )))"
   ]
  },
  {
   "cell_type": "markdown",
   "id": "a6b30a59",
   "metadata": {
    "papermill": {
     "duration": 0.091215,
     "end_time": "2021-10-13T21:33:31.991152",
     "exception": false,
     "start_time": "2021-10-13T21:33:31.899937",
     "status": "completed"
    },
    "tags": []
   },
   "source": [
    "# 9.0. Cluster Analysis"
   ]
  },
  {
   "cell_type": "code",
   "execution_count": 41,
   "id": "6a23bab5",
   "metadata": {
    "ExecuteTime": {
     "end_time": "2021-10-13T21:31:22.689046Z",
     "start_time": "2021-10-13T21:31:22.671373Z"
    },
    "execution": {
     "iopub.execute_input": "2021-10-13T21:33:32.182640Z",
     "iopub.status.busy": "2021-10-13T21:33:32.180230Z",
     "iopub.status.idle": "2021-10-13T21:33:32.190329Z",
     "shell.execute_reply": "2021-10-13T21:33:32.189422Z"
    },
    "papermill": {
     "duration": 0.109949,
     "end_time": "2021-10-13T21:33:32.190548",
     "exception": false,
     "start_time": "2021-10-13T21:33:32.080599",
     "status": "completed"
    },
    "tags": []
   },
   "outputs": [],
   "source": [
    "df92 = df4[cols_selected].copy()\n",
    "df92['cluster'] = labels\n",
    "\n",
    "# change dtypes\n",
    "df92['recency_days'] = df92['recency_days'].astype(int)\n",
    "df92['qtde_products'] = df92['qtde_products'].astype(int)\n",
    "df92['qtde_returns'] = df92['qtde_returns'].astype(int)"
   ]
  },
  {
   "cell_type": "markdown",
   "id": "b253d006",
   "metadata": {
    "papermill": {
     "duration": 0.090942,
     "end_time": "2021-10-13T21:33:32.374856",
     "exception": false,
     "start_time": "2021-10-13T21:33:32.283914",
     "status": "completed"
    },
    "tags": []
   },
   "source": [
    "## 9.2. Cluster Profile"
   ]
  },
  {
   "cell_type": "code",
   "execution_count": 42,
   "id": "b0ceaa89",
   "metadata": {
    "ExecuteTime": {
     "end_time": "2021-10-13T21:31:22.959150Z",
     "start_time": "2021-10-13T21:31:22.692532Z"
    },
    "execution": {
     "iopub.execute_input": "2021-10-13T21:33:32.565385Z",
     "iopub.status.busy": "2021-10-13T21:33:32.564681Z",
     "iopub.status.idle": "2021-10-13T21:33:32.723548Z",
     "shell.execute_reply": "2021-10-13T21:33:32.724069Z"
    },
    "papermill": {
     "duration": 0.261513,
     "end_time": "2021-10-13T21:33:32.724230",
     "exception": false,
     "start_time": "2021-10-13T21:33:32.462717",
     "status": "completed"
    },
    "tags": []
   },
   "outputs": [
    {
     "data": {
      "text/html": [
       "<style type=\"text/css\">\n",
       "#T_f5b03_row0_col3, #T_f5b03_row0_col5, #T_f5b03_row0_col7, #T_f5b03_row1_col0, #T_f5b03_row5_col1, #T_f5b03_row5_col2, #T_f5b03_row5_col4, #T_f5b03_row5_col6 {\n",
       "  background-color: lightgreen;\n",
       "}\n",
       "</style>\n",
       "<table id=\"T_f5b03_\">\n",
       "  <thead>\n",
       "    <tr>\n",
       "      <th class=\"blank level0\" >&nbsp;</th>\n",
       "      <th class=\"col_heading level0 col0\" >cluster</th>\n",
       "      <th class=\"col_heading level0 col1\" >qt_users</th>\n",
       "      <th class=\"col_heading level0 col2\" >per_user</th>\n",
       "      <th class=\"col_heading level0 col3\" >gross_revenue</th>\n",
       "      <th class=\"col_heading level0 col4\" >recency_days</th>\n",
       "      <th class=\"col_heading level0 col5\" >qtde_products</th>\n",
       "      <th class=\"col_heading level0 col6\" >frequency</th>\n",
       "      <th class=\"col_heading level0 col7\" >qtde_returns</th>\n",
       "    </tr>\n",
       "  </thead>\n",
       "  <tbody>\n",
       "    <tr>\n",
       "      <th id=\"T_f5b03_level0_row0\" class=\"row_heading level0 row0\" >0</th>\n",
       "      <td id=\"T_f5b03_row0_col0\" class=\"data row0 col0\" >0</td>\n",
       "      <td id=\"T_f5b03_row0_col1\" class=\"data row0 col1\" >918</td>\n",
       "      <td id=\"T_f5b03_row0_col2\" class=\"data row0 col2\" >16.159127</td>\n",
       "      <td id=\"T_f5b03_row0_col3\" class=\"data row0 col3\" >5890.422756</td>\n",
       "      <td id=\"T_f5b03_row0_col4\" class=\"data row0 col4\" >55.006536</td>\n",
       "      <td id=\"T_f5b03_row0_col5\" class=\"data row0 col5\" >292.521786</td>\n",
       "      <td id=\"T_f5b03_row0_col6\" class=\"data row0 col6\" >0.202352</td>\n",
       "      <td id=\"T_f5b03_row0_col7\" class=\"data row0 col7\" >162.967320</td>\n",
       "    </tr>\n",
       "    <tr>\n",
       "      <th id=\"T_f5b03_level0_row1\" class=\"row_heading level0 row1\" >7</th>\n",
       "      <td id=\"T_f5b03_row1_col0\" class=\"data row1 col0\" >7</td>\n",
       "      <td id=\"T_f5b03_row1_col1\" class=\"data row1 col1\" >729</td>\n",
       "      <td id=\"T_f5b03_row1_col2\" class=\"data row1 col2\" >12.832248</td>\n",
       "      <td id=\"T_f5b03_row1_col3\" class=\"data row1 col3\" >2099.885254</td>\n",
       "      <td id=\"T_f5b03_row1_col4\" class=\"data row1 col4\" >101.890261</td>\n",
       "      <td id=\"T_f5b03_row1_col5\" class=\"data row1 col5\" >158.170096</td>\n",
       "      <td id=\"T_f5b03_row1_col6\" class=\"data row1 col6\" >0.469244</td>\n",
       "      <td id=\"T_f5b03_row1_col7\" class=\"data row1 col7\" >0.185185</td>\n",
       "    </tr>\n",
       "    <tr>\n",
       "      <th id=\"T_f5b03_level0_row2\" class=\"row_heading level0 row2\" >3</th>\n",
       "      <td id=\"T_f5b03_row2_col0\" class=\"data row2 col0\" >3</td>\n",
       "      <td id=\"T_f5b03_row2_col1\" class=\"data row2 col1\" >363</td>\n",
       "      <td id=\"T_f5b03_row2_col2\" class=\"data row2 col2\" >6.389720</td>\n",
       "      <td id=\"T_f5b03_row2_col3\" class=\"data row2 col3\" >1167.181322</td>\n",
       "      <td id=\"T_f5b03_row2_col4\" class=\"data row2 col4\" >61.900826</td>\n",
       "      <td id=\"T_f5b03_row2_col5\" class=\"data row2 col5\" >57.005510</td>\n",
       "      <td id=\"T_f5b03_row2_col6\" class=\"data row2 col6\" >0.027708</td>\n",
       "      <td id=\"T_f5b03_row2_col7\" class=\"data row2 col7\" >9.991736</td>\n",
       "    </tr>\n",
       "    <tr>\n",
       "      <th id=\"T_f5b03_level0_row3\" class=\"row_heading level0 row3\" >6</th>\n",
       "      <td id=\"T_f5b03_row3_col0\" class=\"data row3 col0\" >6</td>\n",
       "      <td id=\"T_f5b03_row3_col1\" class=\"data row3 col1\" >219</td>\n",
       "      <td id=\"T_f5b03_row3_col2\" class=\"data row3 col2\" >3.854955</td>\n",
       "      <td id=\"T_f5b03_row3_col3\" class=\"data row3 col3\" >959.385160</td>\n",
       "      <td id=\"T_f5b03_row3_col4\" class=\"data row3 col4\" >81.625571</td>\n",
       "      <td id=\"T_f5b03_row3_col5\" class=\"data row3 col5\" >38.721461</td>\n",
       "      <td id=\"T_f5b03_row3_col6\" class=\"data row3 col6\" >0.232266</td>\n",
       "      <td id=\"T_f5b03_row3_col7\" class=\"data row3 col7\" >11.292237</td>\n",
       "    </tr>\n",
       "    <tr>\n",
       "      <th id=\"T_f5b03_level0_row4\" class=\"row_heading level0 row4\" >2</th>\n",
       "      <td id=\"T_f5b03_row4_col0\" class=\"data row4 col0\" >2</td>\n",
       "      <td id=\"T_f5b03_row4_col1\" class=\"data row4 col1\" >980</td>\n",
       "      <td id=\"T_f5b03_row4_col2\" class=\"data row4 col2\" >17.250484</td>\n",
       "      <td id=\"T_f5b03_row4_col3\" class=\"data row4 col3\" >928.779551</td>\n",
       "      <td id=\"T_f5b03_row4_col4\" class=\"data row4 col4\" >146.681633</td>\n",
       "      <td id=\"T_f5b03_row4_col5\" class=\"data row4 col5\" >51.101020</td>\n",
       "      <td id=\"T_f5b03_row4_col6\" class=\"data row4 col6\" >0.751629</td>\n",
       "      <td id=\"T_f5b03_row4_col7\" class=\"data row4 col7\" >5.207143</td>\n",
       "    </tr>\n",
       "    <tr>\n",
       "      <th id=\"T_f5b03_level0_row5\" class=\"row_heading level0 row5\" >5</th>\n",
       "      <td id=\"T_f5b03_row5_col0\" class=\"data row5 col0\" >5</td>\n",
       "      <td id=\"T_f5b03_row5_col1\" class=\"data row5 col1\" >1046</td>\n",
       "      <td id=\"T_f5b03_row5_col2\" class=\"data row5 col2\" >18.412251</td>\n",
       "      <td id=\"T_f5b03_row5_col3\" class=\"data row5 col3\" >747.913948</td>\n",
       "      <td id=\"T_f5b03_row5_col4\" class=\"data row5 col4\" >167.919694</td>\n",
       "      <td id=\"T_f5b03_row5_col5\" class=\"data row5 col5\" >24.534417</td>\n",
       "      <td id=\"T_f5b03_row5_col6\" class=\"data row5 col6\" >0.963410</td>\n",
       "      <td id=\"T_f5b03_row5_col7\" class=\"data row5 col7\" >3.863289</td>\n",
       "    </tr>\n",
       "    <tr>\n",
       "      <th id=\"T_f5b03_level0_row6\" class=\"row_heading level0 row6\" >4</th>\n",
       "      <td id=\"T_f5b03_row6_col0\" class=\"data row6 col0\" >4</td>\n",
       "      <td id=\"T_f5b03_row6_col1\" class=\"data row6 col1\" >755</td>\n",
       "      <td id=\"T_f5b03_row6_col2\" class=\"data row6 col2\" >13.289914</td>\n",
       "      <td id=\"T_f5b03_row6_col3\" class=\"data row6 col3\" >506.806265</td>\n",
       "      <td id=\"T_f5b03_row6_col4\" class=\"data row6 col4\" >90.627815</td>\n",
       "      <td id=\"T_f5b03_row6_col5\" class=\"data row6 col5\" >16.890066</td>\n",
       "      <td id=\"T_f5b03_row6_col6\" class=\"data row6 col6\" >0.411353</td>\n",
       "      <td id=\"T_f5b03_row6_col7\" class=\"data row6 col7\" >1.815894</td>\n",
       "    </tr>\n",
       "    <tr>\n",
       "      <th id=\"T_f5b03_level0_row7\" class=\"row_heading level0 row7\" >1</th>\n",
       "      <td id=\"T_f5b03_row7_col0\" class=\"data row7 col0\" >1</td>\n",
       "      <td id=\"T_f5b03_row7_col1\" class=\"data row7 col1\" >671</td>\n",
       "      <td id=\"T_f5b03_row7_col2\" class=\"data row7 col2\" >11.811301</td>\n",
       "      <td id=\"T_f5b03_row7_col3\" class=\"data row7 col3\" >404.091148</td>\n",
       "      <td id=\"T_f5b03_row7_col4\" class=\"data row7 col4\" >167.336811</td>\n",
       "      <td id=\"T_f5b03_row7_col5\" class=\"data row7 col5\" >12.126677</td>\n",
       "      <td id=\"T_f5b03_row7_col6\" class=\"data row7 col6\" >0.696441</td>\n",
       "      <td id=\"T_f5b03_row7_col7\" class=\"data row7 col7\" >5.403875</td>\n",
       "    </tr>\n",
       "  </tbody>\n",
       "</table>\n"
      ],
      "text/plain": [
       "<pandas.io.formats.style.Styler at 0x7f859ced3580>"
      ]
     },
     "execution_count": 42,
     "metadata": {},
     "output_type": "execute_result"
    }
   ],
   "source": [
    "# cluster - qt_users - per_user\n",
    "df_cluster = df92[['customer_id', 'cluster']].groupby('cluster').count().reset_index().rename(columns={'customer_id': 'qt_users'})\n",
    "df_cluster['per_user'] = 100 * (df_cluster['qt_users'] / df_cluster['qt_users'].sum())\n",
    "\n",
    "\n",
    "# gross_revenue\n",
    "monetary = df92[['gross_revenue', 'cluster']].groupby('cluster').mean().reset_index()\n",
    "df_cluster = pd.merge(df_cluster, monetary, how='left', on='cluster')\n",
    "\n",
    "# recency_days\n",
    "recency_days = df92[['recency_days', 'cluster']].groupby('cluster').mean().reset_index()\n",
    "df_cluster = pd.merge(df_cluster, recency_days, how='left', on='cluster')\n",
    "\n",
    "# qtde_products\n",
    "qtde_products = df92[['qtde_products', 'cluster']].groupby('cluster').mean().reset_index()\n",
    "df_cluster = pd.merge(df_cluster, qtde_products, how='left', on='cluster')\n",
    "\n",
    "# frequency\n",
    "frequency = df92[['frequency', 'cluster']].groupby('cluster').mean().reset_index()\n",
    "df_cluster = pd.merge(df_cluster, frequency, how='left', on='cluster')\n",
    "\n",
    "# qtde_returns\n",
    "qtde_returns = df92[['qtde_returns', 'cluster']].groupby('cluster').mean().reset_index()\n",
    "df_cluster = pd.merge(df_cluster, qtde_returns, how='left', on='cluster')\n",
    "\n",
    "\n",
    "df_cluster.sort_values('gross_revenue', ascending=False).style.highlight_max( color='lightgreen', axis=0 )"
   ]
  },
  {
   "cell_type": "code",
   "execution_count": 43,
   "id": "489232b1",
   "metadata": {
    "ExecuteTime": {
     "end_time": "2021-10-13T21:31:22.967715Z",
     "start_time": "2021-10-13T21:31:22.961537Z"
    },
    "execution": {
     "iopub.execute_input": "2021-10-13T21:33:32.914489Z",
     "iopub.status.busy": "2021-10-13T21:33:32.913552Z",
     "iopub.status.idle": "2021-10-13T21:33:32.915585Z",
     "shell.execute_reply": "2021-10-13T21:33:32.916294Z"
    },
    "papermill": {
     "duration": 0.101499,
     "end_time": "2021-10-13T21:33:32.916479",
     "exception": false,
     "start_time": "2021-10-13T21:33:32.814980",
     "status": "completed"
    },
    "tags": []
   },
   "outputs": [],
   "source": [
    "# 1 Cluster Insiders\n",
    "# 5 Cluster More Products\n",
    "# 4 Cluster Spend Money \n",
    "# 2 Cluster Even More Products\n",
    "# 6 Cluster Less Days\n",
    "# 0 Cluster Less 1k\n",
    "# 7 Cluster Stop Returners\n",
    "# 3 Cluster More Buy"
   ]
  },
  {
   "cell_type": "markdown",
   "id": "5daa53a1",
   "metadata": {
    "papermill": {
     "duration": 0.132391,
     "end_time": "2021-10-13T21:33:33.142919",
     "exception": false,
     "start_time": "2021-10-13T21:33:33.010528",
     "status": "completed"
    },
    "tags": []
   },
   "source": [
    "**Cluster 01:  ( Candidato à Insider )**\n",
    "- Número de customers: 468 (16% do customers )\n",
    "- Faturamento médio: 8836\n",
    "- Recência média: 21 dias\n",
    "- Média de Produtos comprados: 424 produtos\n",
    "- Frequência de Produtos comprados: 0.09 produtos/dia\n",
    "- Receita em média: $8836.13,00 dólares"
   ]
  },
  {
   "cell_type": "markdown",
   "id": "c4ade448",
   "metadata": {
    "papermill": {
     "duration": 0.094219,
     "end_time": "2021-10-13T21:33:33.346829",
     "exception": false,
     "start_time": "2021-10-13T21:33:33.252610",
     "status": "completed"
    },
    "tags": []
   },
   "source": [
    "# 10.0. EDA"
   ]
  },
  {
   "cell_type": "code",
   "execution_count": 44,
   "id": "77dd8a0f",
   "metadata": {
    "ExecuteTime": {
     "end_time": "2021-10-13T21:31:56.537887Z",
     "start_time": "2021-10-13T21:31:56.534065Z"
    },
    "execution": {
     "iopub.execute_input": "2021-10-13T21:33:33.538342Z",
     "iopub.status.busy": "2021-10-13T21:33:33.536988Z",
     "iopub.status.idle": "2021-10-13T21:33:33.541103Z",
     "shell.execute_reply": "2021-10-13T21:33:33.541654Z"
    },
    "papermill": {
     "duration": 0.099504,
     "end_time": "2021-10-13T21:33:33.541832",
     "exception": false,
     "start_time": "2021-10-13T21:33:33.442328",
     "status": "completed"
    },
    "tags": []
   },
   "outputs": [],
   "source": [
    "df10 = df92.copy()"
   ]
  },
  {
   "cell_type": "markdown",
   "id": "b3753f60",
   "metadata": {
    "papermill": {
     "duration": 0.104672,
     "end_time": "2021-10-13T21:33:33.739969",
     "exception": false,
     "start_time": "2021-10-13T21:33:33.635297",
     "status": "completed"
    },
    "tags": []
   },
   "source": [
    "# 11.0. Deploy to Product"
   ]
  },
  {
   "cell_type": "code",
   "execution_count": 45,
   "id": "d701b523",
   "metadata": {
    "ExecuteTime": {
     "end_time": "2021-10-13T21:31:57.254748Z",
     "start_time": "2021-10-13T21:31:57.249508Z"
    },
    "execution": {
     "iopub.execute_input": "2021-10-13T21:33:33.931949Z",
     "iopub.status.busy": "2021-10-13T21:33:33.931339Z",
     "iopub.status.idle": "2021-10-13T21:33:33.935686Z",
     "shell.execute_reply": "2021-10-13T21:33:33.936773Z"
    },
    "papermill": {
     "duration": 0.104447,
     "end_time": "2021-10-13T21:33:33.937059",
     "exception": false,
     "start_time": "2021-10-13T21:33:33.832612",
     "status": "completed"
    },
    "tags": []
   },
   "outputs": [],
   "source": [
    "df11 = df10.copy()"
   ]
  },
  {
   "cell_type": "markdown",
   "id": "75738174",
   "metadata": {
    "papermill": {
     "duration": 0.093024,
     "end_time": "2021-10-13T21:33:34.128113",
     "exception": false,
     "start_time": "2021-10-13T21:33:34.035089",
     "status": "completed"
    },
    "tags": []
   },
   "source": [
    "## 11.1. Insert into SQLITE"
   ]
  },
  {
   "cell_type": "code",
   "execution_count": 46,
   "id": "cb1246b5",
   "metadata": {
    "ExecuteTime": {
     "end_time": "2021-10-13T21:31:23.388468Z",
     "start_time": "2021-10-13T21:31:23.388426Z"
    },
    "execution": {
     "iopub.execute_input": "2021-10-13T21:33:34.322595Z",
     "iopub.status.busy": "2021-10-13T21:33:34.321542Z",
     "iopub.status.idle": "2021-10-13T21:33:34.329512Z",
     "shell.execute_reply": "2021-10-13T21:33:34.328888Z"
    },
    "papermill": {
     "duration": 0.111567,
     "end_time": "2021-10-13T21:33:34.329645",
     "exception": false,
     "start_time": "2021-10-13T21:33:34.218078",
     "status": "completed"
    },
    "tags": []
   },
   "outputs": [],
   "source": [
    "# create table\n",
    "query_create_table_insiders = \"\"\"\n",
    "    CREATE TABLE insiders (\n",
    "        customer_id        INTEGER,\n",
    "        gross_revenue      REAL,\n",
    "        recency_days       INTEGER,\n",
    "        qtde_products      INTEGER,\n",
    "        frequency          REAL,\n",
    "        qtde_returns       INTEGER,\n",
    "        cluster            INTEGER\n",
    "    )\n",
    "\"\"\"\n",
    "conn = sqlite3.connect( 'insiders_db.sqlite' )\n",
    "conn.execute( query_create_table_insiders )\n",
    "conn.commit()\n",
    "conn.close()"
   ]
  },
  {
   "cell_type": "code",
   "execution_count": 47,
   "id": "aee4c2cf",
   "metadata": {
    "ExecuteTime": {
     "end_time": "2021-10-13T21:31:23.393580Z",
     "start_time": "2021-10-13T21:31:23.393542Z"
    },
    "execution": {
     "iopub.execute_input": "2021-10-13T21:33:34.527026Z",
     "iopub.status.busy": "2021-10-13T21:33:34.526317Z",
     "iopub.status.idle": "2021-10-13T21:33:34.530153Z",
     "shell.execute_reply": "2021-10-13T21:33:34.529537Z"
    },
    "papermill": {
     "duration": 0.101933,
     "end_time": "2021-10-13T21:33:34.530308",
     "exception": false,
     "start_time": "2021-10-13T21:33:34.428375",
     "status": "completed"
    },
    "tags": []
   },
   "outputs": [],
   "source": [
    "# Drop Table\n",
    "query_drop_table = \"\"\"\n",
    "    DROP TABLE  insiders\n",
    "\"\"\""
   ]
  },
  {
   "cell_type": "code",
   "execution_count": 48,
   "id": "dab8fde0",
   "metadata": {
    "ExecuteTime": {
     "end_time": "2021-10-13T21:31:23.396091Z",
     "start_time": "2021-10-13T21:31:23.396051Z"
    },
    "execution": {
     "iopub.execute_input": "2021-10-13T21:33:34.747874Z",
     "iopub.status.busy": "2021-10-13T21:33:34.747024Z",
     "iopub.status.idle": "2021-10-13T21:33:34.841315Z",
     "shell.execute_reply": "2021-10-13T21:33:34.842070Z"
    },
    "papermill": {
     "duration": 0.214193,
     "end_time": "2021-10-13T21:33:34.842299",
     "exception": false,
     "start_time": "2021-10-13T21:33:34.628106",
     "status": "completed"
    },
    "tags": []
   },
   "outputs": [],
   "source": [
    "# insert data\n",
    "conn = create_engine( 'sqlite:///insiders_db.sqlite' )\n",
    "df92.to_sql( 'insiders', con=conn,  if_exists='append', index=False )"
   ]
  },
  {
   "cell_type": "code",
   "execution_count": 49,
   "id": "1c116e67",
   "metadata": {
    "ExecuteTime": {
     "end_time": "2021-10-13T21:31:23.398609Z",
     "start_time": "2021-10-13T21:31:23.398580Z"
    },
    "execution": {
     "iopub.execute_input": "2021-10-13T21:33:35.059889Z",
     "iopub.status.busy": "2021-10-13T21:33:35.058814Z",
     "iopub.status.idle": "2021-10-13T21:33:35.105649Z",
     "shell.execute_reply": "2021-10-13T21:33:35.106127Z"
    },
    "papermill": {
     "duration": 0.15304,
     "end_time": "2021-10-13T21:33:35.106285",
     "exception": false,
     "start_time": "2021-10-13T21:33:34.953245",
     "status": "completed"
    },
    "tags": []
   },
   "outputs": [
    {
     "data": {
      "text/html": [
       "<div>\n",
       "<style scoped>\n",
       "    .dataframe tbody tr th:only-of-type {\n",
       "        vertical-align: middle;\n",
       "    }\n",
       "\n",
       "    .dataframe tbody tr th {\n",
       "        vertical-align: top;\n",
       "    }\n",
       "\n",
       "    .dataframe thead th {\n",
       "        text-align: right;\n",
       "    }\n",
       "</style>\n",
       "<table border=\"1\" class=\"dataframe\">\n",
       "  <thead>\n",
       "    <tr style=\"text-align: right;\">\n",
       "      <th></th>\n",
       "      <th>customer_id</th>\n",
       "      <th>gross_revenue</th>\n",
       "      <th>recency_days</th>\n",
       "      <th>qtde_products</th>\n",
       "      <th>frequency</th>\n",
       "      <th>qtde_returns</th>\n",
       "      <th>cluster</th>\n",
       "    </tr>\n",
       "  </thead>\n",
       "  <tbody>\n",
       "    <tr>\n",
       "      <th>0</th>\n",
       "      <td>17850</td>\n",
       "      <td>5391.21</td>\n",
       "      <td>372</td>\n",
       "      <td>297</td>\n",
       "      <td>17.000000</td>\n",
       "      <td>40</td>\n",
       "      <td>0</td>\n",
       "    </tr>\n",
       "    <tr>\n",
       "      <th>1</th>\n",
       "      <td>13047</td>\n",
       "      <td>3232.59</td>\n",
       "      <td>56</td>\n",
       "      <td>171</td>\n",
       "      <td>0.028302</td>\n",
       "      <td>35</td>\n",
       "      <td>0</td>\n",
       "    </tr>\n",
       "    <tr>\n",
       "      <th>2</th>\n",
       "      <td>12583</td>\n",
       "      <td>6495.30</td>\n",
       "      <td>2</td>\n",
       "      <td>221</td>\n",
       "      <td>0.040323</td>\n",
       "      <td>50</td>\n",
       "      <td>0</td>\n",
       "    </tr>\n",
       "    <tr>\n",
       "      <th>3</th>\n",
       "      <td>13748</td>\n",
       "      <td>938.89</td>\n",
       "      <td>95</td>\n",
       "      <td>27</td>\n",
       "      <td>0.017921</td>\n",
       "      <td>0</td>\n",
       "      <td>5</td>\n",
       "    </tr>\n",
       "    <tr>\n",
       "      <th>4</th>\n",
       "      <td>15100</td>\n",
       "      <td>876.00</td>\n",
       "      <td>333</td>\n",
       "      <td>3</td>\n",
       "      <td>0.073171</td>\n",
       "      <td>22</td>\n",
       "      <td>4</td>\n",
       "    </tr>\n",
       "  </tbody>\n",
       "</table>\n",
       "</div>"
      ],
      "text/plain": [
       "   customer_id  gross_revenue  recency_days  qtde_products  frequency  \\\n",
       "0        17850        5391.21           372            297  17.000000   \n",
       "1        13047        3232.59            56            171   0.028302   \n",
       "2        12583        6495.30             2            221   0.040323   \n",
       "3        13748         938.89            95             27   0.017921   \n",
       "4        15100         876.00           333              3   0.073171   \n",
       "\n",
       "   qtde_returns  cluster  \n",
       "0            40        0  \n",
       "1            35        0  \n",
       "2            50        0  \n",
       "3             0        5  \n",
       "4            22        4  "
      ]
     },
     "execution_count": 49,
     "metadata": {},
     "output_type": "execute_result"
    }
   ],
   "source": [
    "# consulting database\n",
    "query = \"\"\"\n",
    "    SELECT * FROM insiders\n",
    "\"\"\"\n",
    "conn = create_engine( 'sqlite:///insiders_db.sqlite' )\n",
    "\n",
    "df  = pd.read_sql_query( query, conn )\n",
    "df.head()"
   ]
  },
  {
   "cell_type": "markdown",
   "id": "62dda9ce",
   "metadata": {
    "papermill": {
     "duration": 0.09381,
     "end_time": "2021-10-13T21:33:35.289138",
     "exception": false,
     "start_time": "2021-10-13T21:33:35.195328",
     "status": "completed"
    },
    "tags": []
   },
   "source": [
    " ## Metabase \n",
    "\n",
    "1. download https://www.metabase.com/docs/latest/operations-guide/running-the-metabase-jar-file.html\n",
    "* java -jar metabase.jar\n",
    "* http://localhost:3000\n"
   ]
  },
  {
   "cell_type": "markdown",
   "id": "3e9e681b",
   "metadata": {
    "papermill": {
     "duration": 0.105002,
     "end_time": "2021-10-13T21:33:35.486953",
     "exception": false,
     "start_time": "2021-10-13T21:33:35.381951",
     "status": "completed"
    },
    "tags": []
   },
   "source": [
    " ## Banco de Dados na AWS\n",
    " \n",
    "1. Aula 047 - Ciclo 11- Deploy do modelo em produção - Parte III\n",
    "2. começa em 1h00"
   ]
  },
  {
   "cell_type": "markdown",
   "id": "d6e5225a",
   "metadata": {
    "papermill": {
     "duration": 0.094544,
     "end_time": "2021-10-13T21:33:35.680341",
     "exception": false,
     "start_time": "2021-10-13T21:33:35.585797",
     "status": "completed"
    },
    "tags": []
   },
   "source": [
    " ## pip install papermill\n",
    "1. pip install papermill"
   ]
  },
  {
   "cell_type": "code",
   "execution_count": null,
   "id": "a9e61fb0",
   "metadata": {
    "papermill": {
     "duration": 0.090737,
     "end_time": "2021-10-13T21:33:35.865119",
     "exception": false,
     "start_time": "2021-10-13T21:33:35.774382",
     "status": "completed"
    },
    "tags": []
   },
   "outputs": [],
   "source": []
  },
  {
   "cell_type": "code",
   "execution_count": null,
   "id": "78661913",
   "metadata": {
    "papermill": {
     "duration": 0.094548,
     "end_time": "2021-10-13T21:33:36.058451",
     "exception": false,
     "start_time": "2021-10-13T21:33:35.963903",
     "status": "completed"
    },
    "tags": []
   },
   "outputs": [],
   "source": []
  },
  {
   "cell_type": "code",
   "execution_count": null,
   "id": "798388a3",
   "metadata": {
    "papermill": {
     "duration": 0.091164,
     "end_time": "2021-10-13T21:33:36.249269",
     "exception": false,
     "start_time": "2021-10-13T21:33:36.158105",
     "status": "completed"
    },
    "tags": []
   },
   "outputs": [],
   "source": []
  },
  {
   "cell_type": "code",
   "execution_count": null,
   "id": "0df60e10",
   "metadata": {
    "papermill": {
     "duration": 0.094014,
     "end_time": "2021-10-13T21:33:36.437598",
     "exception": false,
     "start_time": "2021-10-13T21:33:36.343584",
     "status": "completed"
    },
    "tags": []
   },
   "outputs": [],
   "source": []
  },
  {
   "cell_type": "code",
   "execution_count": null,
   "id": "7c73e326",
   "metadata": {
    "papermill": {
     "duration": 0.105597,
     "end_time": "2021-10-13T21:33:36.634040",
     "exception": false,
     "start_time": "2021-10-13T21:33:36.528443",
     "status": "completed"
    },
    "tags": []
   },
   "outputs": [],
   "source": []
  },
  {
   "cell_type": "code",
   "execution_count": null,
   "id": "7db2a47a",
   "metadata": {
    "papermill": {
     "duration": 0.095227,
     "end_time": "2021-10-13T21:33:36.823384",
     "exception": false,
     "start_time": "2021-10-13T21:33:36.728157",
     "status": "completed"
    },
    "tags": []
   },
   "outputs": [],
   "source": []
  },
  {
   "cell_type": "code",
   "execution_count": null,
   "id": "08c4935c",
   "metadata": {
    "papermill": {
     "duration": 0.096529,
     "end_time": "2021-10-13T21:33:37.012136",
     "exception": false,
     "start_time": "2021-10-13T21:33:36.915607",
     "status": "completed"
    },
    "tags": []
   },
   "outputs": [],
   "source": []
  },
  {
   "cell_type": "code",
   "execution_count": null,
   "id": "4a7ee8f0",
   "metadata": {
    "papermill": {
     "duration": 0.093372,
     "end_time": "2021-10-13T21:33:37.197971",
     "exception": false,
     "start_time": "2021-10-13T21:33:37.104599",
     "status": "completed"
    },
    "tags": []
   },
   "outputs": [],
   "source": []
  },
  {
   "cell_type": "code",
   "execution_count": null,
   "id": "f9676406",
   "metadata": {
    "papermill": {
     "duration": 0.097399,
     "end_time": "2021-10-13T21:33:37.387896",
     "exception": false,
     "start_time": "2021-10-13T21:33:37.290497",
     "status": "completed"
    },
    "tags": []
   },
   "outputs": [],
   "source": []
  },
  {
   "cell_type": "code",
   "execution_count": null,
   "id": "8cec1440",
   "metadata": {
    "papermill": {
     "duration": 0.093156,
     "end_time": "2021-10-13T21:33:37.572362",
     "exception": false,
     "start_time": "2021-10-13T21:33:37.479206",
     "status": "completed"
    },
    "tags": []
   },
   "outputs": [],
   "source": []
  },
  {
   "cell_type": "code",
   "execution_count": null,
   "id": "bb04deb1",
   "metadata": {
    "papermill": {
     "duration": 0.091527,
     "end_time": "2021-10-13T21:33:37.768108",
     "exception": false,
     "start_time": "2021-10-13T21:33:37.676581",
     "status": "completed"
    },
    "tags": []
   },
   "outputs": [],
   "source": []
  },
  {
   "cell_type": "code",
   "execution_count": null,
   "id": "e0d7dcaf",
   "metadata": {
    "papermill": {
     "duration": 0.101164,
     "end_time": "2021-10-13T21:33:37.961768",
     "exception": false,
     "start_time": "2021-10-13T21:33:37.860604",
     "status": "completed"
    },
    "tags": []
   },
   "outputs": [],
   "source": []
  },
  {
   "cell_type": "code",
   "execution_count": null,
   "id": "9353048e",
   "metadata": {
    "papermill": {
     "duration": 0.139476,
     "end_time": "2021-10-13T21:33:38.191681",
     "exception": false,
     "start_time": "2021-10-13T21:33:38.052205",
     "status": "completed"
    },
    "tags": []
   },
   "outputs": [],
   "source": []
  },
  {
   "cell_type": "code",
   "execution_count": null,
   "id": "c113b3b9",
   "metadata": {
    "papermill": {
     "duration": 0.094125,
     "end_time": "2021-10-13T21:33:38.376886",
     "exception": false,
     "start_time": "2021-10-13T21:33:38.282761",
     "status": "completed"
    },
    "tags": []
   },
   "outputs": [],
   "source": []
  },
  {
   "cell_type": "code",
   "execution_count": null,
   "id": "3e1b45b1",
   "metadata": {
    "papermill": {
     "duration": 0.093832,
     "end_time": "2021-10-13T21:33:38.565703",
     "exception": false,
     "start_time": "2021-10-13T21:33:38.471871",
     "status": "completed"
    },
    "tags": []
   },
   "outputs": [],
   "source": []
  }
 ],
 "metadata": {
  "kernelspec": {
   "display_name": "Python 3 (ipykernel)",
   "language": "python",
   "name": "python3"
  },
  "language_info": {
   "codemirror_mode": {
    "name": "ipython",
    "version": 3
   },
   "file_extension": ".py",
   "mimetype": "text/x-python",
   "name": "python",
   "nbconvert_exporter": "python",
   "pygments_lexer": "ipython3",
   "version": "3.8.0"
  },
  "papermill": {
   "default_parameters": {},
   "duration": 89.581809,
   "end_time": "2021-10-13T21:33:40.124950",
   "environment_variables": {},
   "exception": null,
   "input_path": "src/models/c12-deploy.ipynb",
   "output_path": "reports/c12-deploy.ipynbc12-deploy_2021_10_13.ipynb",
   "parameters": {},
   "start_time": "2021-10-13T21:32:10.543141",
   "version": "2.3.3"
  }
 },
 "nbformat": 4,
 "nbformat_minor": 5
}