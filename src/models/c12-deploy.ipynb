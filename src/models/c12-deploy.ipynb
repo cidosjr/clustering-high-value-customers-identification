{
 "cells": [
  {
   "cell_type": "markdown",
   "id": "b25a0bdd",
   "metadata": {},
   "source": [
    "# 0.0. Imports"
   ]
  },
  {
   "cell_type": "code",
   "execution_count": 47,
   "id": "722054fa",
   "metadata": {
    "ExecuteTime": {
     "end_time": "2021-11-01T22:37:06.260572Z",
     "start_time": "2021-11-01T22:37:06.253993Z"
    },
    "hide_input": false
   },
   "outputs": [],
   "source": [
    "import os\n",
    "import re\n",
    "import sqlite3\n",
    "import pickle\n",
    "import s3fs\n",
    "import pandas as pd\n",
    "import numpy as np\n",
    "import seaborn as sns\n",
    "import matplotlib.pyplot as plt\n",
    "import plotly.express as px\n",
    "\n",
    "from sqlalchemy import create_engine\n",
    "\n",
    "from umap.umap_ import UMAP\n",
    "from scipy.cluster import hierarchy as hc\n",
    "\n",
    "from sklearn import cluster\n",
    "from sklearn import metrics\n",
    "from sklearn import preprocessing as pp\n",
    "from sklearn.decomposition import PCA\n",
    "from sklearn.manifold import TSNE\n",
    "from sklearn import ensemble as en\n",
    "from sklearn.mixture import GaussianMixture as gm"
   ]
  },
  {
   "cell_type": "code",
   "execution_count": 48,
   "id": "068c01d4",
   "metadata": {
    "ExecuteTime": {
     "end_time": "2021-11-01T22:37:06.270305Z",
     "start_time": "2021-11-01T22:37:06.265482Z"
    }
   },
   "outputs": [],
   "source": [
    "AWS_ACESS_KEY_ID = os.getenv('AWS_ACESS_KEY_ID_CDS')\n",
    "AWS_SECRETE_ACESS_KEY = os.getenv('AWS_SECRETE_ACESS_KEY_CDS')"
   ]
  },
  {
   "cell_type": "markdown",
   "id": "f4bb5440",
   "metadata": {
    "heading_collapsed": true
   },
   "source": [
    "## 0.1. Helper Functions"
   ]
  },
  {
   "cell_type": "code",
   "execution_count": 49,
   "id": "a157246c",
   "metadata": {
    "ExecuteTime": {
     "end_time": "2021-11-01T22:37:06.287020Z",
     "start_time": "2021-11-01T22:37:06.273716Z"
    },
    "hidden": true
   },
   "outputs": [],
   "source": [
    "def descriptive_statistics(num_attr):\n",
    "    # Central Tendency: mean, median\n",
    "    c1 = pd.DataFrame(num_attr.apply(np.mean))\n",
    "    c2 = pd.DataFrame(num_attr.apply(np.median))\n",
    "\n",
    "    # Dispension: min, max, range, std, skew, kurtosis\n",
    "    d1 = pd.DataFrame(num_attr.apply(min))\n",
    "    d2 = pd.DataFrame(num_attr.apply(max))\n",
    "    d3 = pd.DataFrame(num_attr.apply(lambda x: x.max() - x.min()))\n",
    "    d4 = pd.DataFrame(num_attr.apply(lambda x: x.std()))\n",
    "    \n",
    "    # Measures of Shape\n",
    "    s1 = pd.DataFrame(num_attr.apply(lambda x: x.skew()))\n",
    "    s2 = pd.DataFrame(num_attr.apply(lambda x: x.kurtosis()))\n",
    "\n",
    "    # concat\n",
    "    m = pd.concat([d1,d2,d3,c1,c2,d4,s1,s2], axis=1).reset_index()\n",
    "    m.columns = ['attributes', 'min', 'max', 'range', 'mean', 'median', 'std', 'skew', 'kurtosis']\n",
    "    return m"
   ]
  },
  {
   "cell_type": "markdown",
   "id": "1bb64666",
   "metadata": {
    "heading_collapsed": true
   },
   "source": [
    "## 0.2. Load Data"
   ]
  },
  {
   "cell_type": "code",
   "execution_count": 50,
   "id": "54243f8b",
   "metadata": {
    "ExecuteTime": {
     "end_time": "2021-11-01T22:37:10.747526Z",
     "start_time": "2021-11-01T22:37:06.290576Z"
    },
    "hidden": true
   },
   "outputs": [],
   "source": [
    "# path = '/home/cid/repos/clustering-high-value-customers-identification/'\n",
    "path_s3 = 'https://insiders-dataset-cid.s3.amazonaws.com/'\n",
    "\n",
    "df_raw = pd.read_csv(path_s3 + 'Ecommerce.csv', encoding='latin1')\n",
    "\n",
    "# drop extra column\n",
    "df_raw = df_raw.drop('Unnamed: 8', axis=1)"
   ]
  },
  {
   "cell_type": "markdown",
   "id": "5b9ae690",
   "metadata": {
    "heading_collapsed": true
   },
   "source": [
    "# 1.0. Data Description"
   ]
  },
  {
   "cell_type": "code",
   "execution_count": 51,
   "id": "026bbc19",
   "metadata": {
    "ExecuteTime": {
     "end_time": "2021-11-01T22:37:10.768241Z",
     "start_time": "2021-11-01T22:37:10.749307Z"
    },
    "hidden": true
   },
   "outputs": [],
   "source": [
    "df1 = df_raw.copy()"
   ]
  },
  {
   "cell_type": "markdown",
   "id": "a0e2c036",
   "metadata": {
    "heading_collapsed": true,
    "hidden": true
   },
   "source": [
    "## 1.1. Rename Columns"
   ]
  },
  {
   "cell_type": "code",
   "execution_count": 52,
   "id": "46322473",
   "metadata": {
    "ExecuteTime": {
     "end_time": "2021-11-01T22:37:10.776223Z",
     "start_time": "2021-11-01T22:37:10.772203Z"
    },
    "hidden": true
   },
   "outputs": [],
   "source": [
    "cols_new = ['invoice_no', 'stock_code', 'description', 'quantity', 'invoice_date', 'unit_price', 'customer_id', 'country']\n",
    "df1.columns = cols_new"
   ]
  },
  {
   "cell_type": "markdown",
   "id": "09f2dd9b",
   "metadata": {
    "heading_collapsed": true,
    "hidden": true
   },
   "source": [
    "## 1.2. Data Dimnesions"
   ]
  },
  {
   "cell_type": "code",
   "execution_count": 53,
   "id": "e8295ac6",
   "metadata": {
    "ExecuteTime": {
     "end_time": "2021-11-01T22:37:10.782316Z",
     "start_time": "2021-11-01T22:37:10.778382Z"
    },
    "hidden": true
   },
   "outputs": [
    {
     "name": "stdout",
     "output_type": "stream",
     "text": [
      "Number of Rows: 541909\n",
      "Number of Columns: 8\n"
     ]
    }
   ],
   "source": [
    "print('Number of Rows: {}'.format(df1.shape[0]))\n",
    "print('Number of Columns: {}'.format(df1.shape[1]))"
   ]
  },
  {
   "cell_type": "markdown",
   "id": "c68dcbcd",
   "metadata": {
    "heading_collapsed": true,
    "hidden": true
   },
   "source": [
    "## 1.3. Data Types"
   ]
  },
  {
   "cell_type": "code",
   "execution_count": 54,
   "id": "4034f49b",
   "metadata": {
    "ExecuteTime": {
     "end_time": "2021-11-01T22:37:10.792454Z",
     "start_time": "2021-11-01T22:37:10.784160Z"
    },
    "hidden": true
   },
   "outputs": [
    {
     "data": {
      "text/plain": [
       "invoice_no       object\n",
       "stock_code       object\n",
       "description      object\n",
       "quantity          int64\n",
       "invoice_date     object\n",
       "unit_price      float64\n",
       "customer_id     float64\n",
       "country          object\n",
       "dtype: object"
      ]
     },
     "execution_count": 54,
     "metadata": {},
     "output_type": "execute_result"
    }
   ],
   "source": [
    "df1.dtypes"
   ]
  },
  {
   "cell_type": "markdown",
   "id": "0c014646",
   "metadata": {
    "heading_collapsed": true,
    "hidden": true
   },
   "source": [
    "## 1.4. Check NA"
   ]
  },
  {
   "cell_type": "code",
   "execution_count": 55,
   "id": "7a8a6351",
   "metadata": {
    "ExecuteTime": {
     "end_time": "2021-11-01T22:37:11.009972Z",
     "start_time": "2021-11-01T22:37:10.795035Z"
    },
    "hidden": true
   },
   "outputs": [
    {
     "data": {
      "text/plain": [
       "invoice_no           0\n",
       "stock_code           0\n",
       "description       1454\n",
       "quantity             0\n",
       "invoice_date         0\n",
       "unit_price           0\n",
       "customer_id     135080\n",
       "country              0\n",
       "dtype: int64"
      ]
     },
     "execution_count": 55,
     "metadata": {},
     "output_type": "execute_result"
    }
   ],
   "source": [
    "df1.isna().sum()"
   ]
  },
  {
   "cell_type": "markdown",
   "id": "29b1bada",
   "metadata": {
    "heading_collapsed": true,
    "hidden": true
   },
   "source": [
    "## 1.5. Replace NA"
   ]
  },
  {
   "cell_type": "code",
   "execution_count": 56,
   "id": "aa5882db",
   "metadata": {
    "ExecuteTime": {
     "end_time": "2021-11-01T22:37:11.078311Z",
     "start_time": "2021-11-01T22:37:11.013297Z"
    },
    "hidden": true
   },
   "outputs": [],
   "source": [
    "df_missing = df1.loc[df1['customer_id'].isna(), :]\n",
    "df_not_missing = df1.loc[~df1['customer_id'].isna(), :]"
   ]
  },
  {
   "cell_type": "code",
   "execution_count": 57,
   "id": "7086dafb",
   "metadata": {
    "ExecuteTime": {
     "end_time": "2021-11-01T22:37:11.495551Z",
     "start_time": "2021-11-01T22:37:11.084200Z"
    },
    "hidden": true
   },
   "outputs": [],
   "source": [
    "df_backup = pd.DataFrame(df_missing['invoice_no'].drop_duplicates())\n",
    "df_backup['customer_id'] = np.arange(19000, 19000+len(df_backup), 1)\n",
    "\n",
    "# merge \n",
    "df1 = pd.merge(df1, df_backup, how='left', on='invoice_no' )\n",
    "\n",
    "# coalesce \n",
    "df1['customer_id'] = df1['customer_id_x'].combine_first(df1['customer_id_y'])\n",
    "\n",
    "df1 = df1.drop(['customer_id_x', 'customer_id_y'], axis=1)"
   ]
  },
  {
   "cell_type": "code",
   "execution_count": 58,
   "id": "aff2bc50",
   "metadata": {
    "ExecuteTime": {
     "end_time": "2021-11-01T22:37:11.756543Z",
     "start_time": "2021-11-01T22:37:11.498293Z"
    },
    "hidden": true
   },
   "outputs": [
    {
     "data": {
      "text/plain": [
       "invoice_no         0\n",
       "stock_code         0\n",
       "description     1454\n",
       "quantity           0\n",
       "invoice_date       0\n",
       "unit_price         0\n",
       "country            0\n",
       "customer_id        0\n",
       "dtype: int64"
      ]
     },
     "execution_count": 58,
     "metadata": {},
     "output_type": "execute_result"
    }
   ],
   "source": [
    "df1.isna().sum()"
   ]
  },
  {
   "cell_type": "markdown",
   "id": "2e3c11e1",
   "metadata": {
    "heading_collapsed": true,
    "hidden": true
   },
   "source": [
    "## 1.6. Change dtypes"
   ]
  },
  {
   "cell_type": "code",
   "execution_count": 59,
   "id": "6d4edcbb",
   "metadata": {
    "ExecuteTime": {
     "end_time": "2021-11-01T22:37:11.771084Z",
     "start_time": "2021-11-01T22:37:11.759707Z"
    },
    "hidden": true
   },
   "outputs": [
    {
     "data": {
      "text/plain": [
       "invoice_no       object\n",
       "stock_code       object\n",
       "description      object\n",
       "quantity          int64\n",
       "invoice_date     object\n",
       "unit_price      float64\n",
       "country          object\n",
       "customer_id     float64\n",
       "dtype: object"
      ]
     },
     "execution_count": 59,
     "metadata": {},
     "output_type": "execute_result"
    }
   ],
   "source": [
    "df1.dtypes"
   ]
  },
  {
   "cell_type": "code",
   "execution_count": 60,
   "id": "e9f81033",
   "metadata": {
    "ExecuteTime": {
     "end_time": "2021-11-01T22:37:11.983539Z",
     "start_time": "2021-11-01T22:37:11.774022Z"
    },
    "hidden": true
   },
   "outputs": [],
   "source": [
    "df1['invoice_date'] = pd.to_datetime(df1['invoice_date'])\n",
    "df1['customer_id'] = df1['customer_id'].astype(int)"
   ]
  },
  {
   "cell_type": "markdown",
   "id": "58961082",
   "metadata": {
    "heading_collapsed": true,
    "hidden": true
   },
   "source": [
    "## 1.7. Descriptive Statistics"
   ]
  },
  {
   "cell_type": "code",
   "execution_count": 61,
   "id": "313769d3",
   "metadata": {
    "ExecuteTime": {
     "end_time": "2021-11-01T22:37:12.033665Z",
     "start_time": "2021-11-01T22:37:11.986991Z"
    },
    "hidden": true
   },
   "outputs": [],
   "source": [
    "num_att = df1.select_dtypes(include=['int64', 'float64'])\n",
    "cat_att = df1.select_dtypes(include=['object'])"
   ]
  },
  {
   "cell_type": "markdown",
   "id": "7629f4b9",
   "metadata": {
    "heading_collapsed": true,
    "hidden": true
   },
   "source": [
    "## 1.7.1. Numerical Attributes"
   ]
  },
  {
   "cell_type": "code",
   "execution_count": 62,
   "id": "79816883",
   "metadata": {
    "ExecuteTime": {
     "end_time": "2021-11-01T22:37:12.526359Z",
     "start_time": "2021-11-01T22:37:12.036816Z"
    },
    "hidden": true
   },
   "outputs": [
    {
     "data": {
      "text/html": [
       "<div>\n",
       "<style scoped>\n",
       "    .dataframe tbody tr th:only-of-type {\n",
       "        vertical-align: middle;\n",
       "    }\n",
       "\n",
       "    .dataframe tbody tr th {\n",
       "        vertical-align: top;\n",
       "    }\n",
       "\n",
       "    .dataframe thead th {\n",
       "        text-align: right;\n",
       "    }\n",
       "</style>\n",
       "<table border=\"1\" class=\"dataframe\">\n",
       "  <thead>\n",
       "    <tr style=\"text-align: right;\">\n",
       "      <th></th>\n",
       "      <th>attributes</th>\n",
       "      <th>min</th>\n",
       "      <th>max</th>\n",
       "      <th>range</th>\n",
       "      <th>mean</th>\n",
       "      <th>median</th>\n",
       "      <th>std</th>\n",
       "      <th>skew</th>\n",
       "      <th>kurtosis</th>\n",
       "    </tr>\n",
       "  </thead>\n",
       "  <tbody>\n",
       "    <tr>\n",
       "      <th>0</th>\n",
       "      <td>quantity</td>\n",
       "      <td>-80995.00</td>\n",
       "      <td>80995.0</td>\n",
       "      <td>161990.00</td>\n",
       "      <td>9.552250</td>\n",
       "      <td>3.00</td>\n",
       "      <td>218.081158</td>\n",
       "      <td>-0.264076</td>\n",
       "      <td>119769.160031</td>\n",
       "    </tr>\n",
       "    <tr>\n",
       "      <th>1</th>\n",
       "      <td>unit_price</td>\n",
       "      <td>-11062.06</td>\n",
       "      <td>38970.0</td>\n",
       "      <td>50032.06</td>\n",
       "      <td>4.611114</td>\n",
       "      <td>2.08</td>\n",
       "      <td>96.759853</td>\n",
       "      <td>186.506972</td>\n",
       "      <td>59005.719097</td>\n",
       "    </tr>\n",
       "    <tr>\n",
       "      <th>2</th>\n",
       "      <td>customer_id</td>\n",
       "      <td>12346.00</td>\n",
       "      <td>22709.0</td>\n",
       "      <td>10363.00</td>\n",
       "      <td>16688.840453</td>\n",
       "      <td>16249.00</td>\n",
       "      <td>2911.411352</td>\n",
       "      <td>0.487449</td>\n",
       "      <td>-0.804287</td>\n",
       "    </tr>\n",
       "  </tbody>\n",
       "</table>\n",
       "</div>"
      ],
      "text/plain": [
       "    attributes       min      max      range          mean    median  \\\n",
       "0     quantity -80995.00  80995.0  161990.00      9.552250      3.00   \n",
       "1   unit_price -11062.06  38970.0   50032.06      4.611114      2.08   \n",
       "2  customer_id  12346.00  22709.0   10363.00  16688.840453  16249.00   \n",
       "\n",
       "           std        skew       kurtosis  \n",
       "0   218.081158   -0.264076  119769.160031  \n",
       "1    96.759853  186.506972   59005.719097  \n",
       "2  2911.411352    0.487449      -0.804287  "
      ]
     },
     "execution_count": 62,
     "metadata": {},
     "output_type": "execute_result"
    }
   ],
   "source": [
    "descriptive_statistics(num_att)"
   ]
  },
  {
   "cell_type": "markdown",
   "id": "918bc2a8",
   "metadata": {
    "heading_collapsed": true,
    "hidden": true
   },
   "source": [
    "## 1.7.2. Categorical Attributes"
   ]
  },
  {
   "cell_type": "code",
   "execution_count": 63,
   "id": "fbb2c633",
   "metadata": {
    "ExecuteTime": {
     "end_time": "2021-11-01T22:37:12.985340Z",
     "start_time": "2021-11-01T22:37:12.529252Z"
    },
    "hidden": true
   },
   "outputs": [
    {
     "data": {
      "text/html": [
       "<div>\n",
       "<style scoped>\n",
       "    .dataframe tbody tr th:only-of-type {\n",
       "        vertical-align: middle;\n",
       "    }\n",
       "\n",
       "    .dataframe tbody tr th {\n",
       "        vertical-align: top;\n",
       "    }\n",
       "\n",
       "    .dataframe thead th {\n",
       "        text-align: right;\n",
       "    }\n",
       "</style>\n",
       "<table border=\"1\" class=\"dataframe\">\n",
       "  <thead>\n",
       "    <tr style=\"text-align: right;\">\n",
       "      <th></th>\n",
       "      <th>invoice_no</th>\n",
       "      <th>stock_code</th>\n",
       "      <th>description</th>\n",
       "      <th>country</th>\n",
       "    </tr>\n",
       "  </thead>\n",
       "  <tbody>\n",
       "    <tr>\n",
       "      <th>count</th>\n",
       "      <td>541909</td>\n",
       "      <td>541909</td>\n",
       "      <td>540455</td>\n",
       "      <td>541909</td>\n",
       "    </tr>\n",
       "    <tr>\n",
       "      <th>unique</th>\n",
       "      <td>25900</td>\n",
       "      <td>4070</td>\n",
       "      <td>4223</td>\n",
       "      <td>38</td>\n",
       "    </tr>\n",
       "    <tr>\n",
       "      <th>top</th>\n",
       "      <td>573585</td>\n",
       "      <td>85123A</td>\n",
       "      <td>WHITE HANGING HEART T-LIGHT HOLDER</td>\n",
       "      <td>United Kingdom</td>\n",
       "    </tr>\n",
       "    <tr>\n",
       "      <th>freq</th>\n",
       "      <td>1114</td>\n",
       "      <td>2313</td>\n",
       "      <td>2369</td>\n",
       "      <td>495478</td>\n",
       "    </tr>\n",
       "  </tbody>\n",
       "</table>\n",
       "</div>"
      ],
      "text/plain": [
       "       invoice_no stock_code                         description  \\\n",
       "count      541909     541909                              540455   \n",
       "unique      25900       4070                                4223   \n",
       "top        573585     85123A  WHITE HANGING HEART T-LIGHT HOLDER   \n",
       "freq         1114       2313                                2369   \n",
       "\n",
       "               country  \n",
       "count           541909  \n",
       "unique              38  \n",
       "top     United Kingdom  \n",
       "freq            495478  "
      ]
     },
     "execution_count": 63,
     "metadata": {},
     "output_type": "execute_result"
    }
   ],
   "source": [
    "cat_att.describe(include=['O'])"
   ]
  },
  {
   "cell_type": "markdown",
   "id": "68b2a24f",
   "metadata": {
    "heading_collapsed": true
   },
   "source": [
    "# 2.0. Data Filtering"
   ]
  },
  {
   "cell_type": "code",
   "execution_count": 64,
   "id": "90095e9b",
   "metadata": {
    "ExecuteTime": {
     "end_time": "2021-11-01T22:37:13.007792Z",
     "start_time": "2021-11-01T22:37:12.988197Z"
    },
    "hidden": true
   },
   "outputs": [],
   "source": [
    "df2 = df1.copy()"
   ]
  },
  {
   "cell_type": "markdown",
   "id": "25199fd0",
   "metadata": {
    "heading_collapsed": true,
    "hidden": true
   },
   "source": [
    "## 2.1. Filter Columns"
   ]
  },
  {
   "cell_type": "code",
   "execution_count": 65,
   "id": "0bad1aec",
   "metadata": {
    "ExecuteTime": {
     "end_time": "2021-11-01T22:37:13.041882Z",
     "start_time": "2021-11-01T22:37:13.010362Z"
    },
    "hidden": true
   },
   "outputs": [],
   "source": [
    "cols_drop = ['description']\n",
    "df2 = df2.drop(cols_drop, axis=1)"
   ]
  },
  {
   "cell_type": "markdown",
   "id": "b50e3b32",
   "metadata": {
    "heading_collapsed": true,
    "hidden": true
   },
   "source": [
    "## 2.2. Filter Rows"
   ]
  },
  {
   "cell_type": "code",
   "execution_count": 66,
   "id": "6bcd20d3",
   "metadata": {
    "ExecuteTime": {
     "end_time": "2021-11-01T22:37:13.305929Z",
     "start_time": "2021-11-01T22:37:13.044601Z"
    },
    "hidden": true
   },
   "outputs": [],
   "source": [
    "# Numerical Attributes\n",
    "df2 = df2.loc[df2['unit_price'] >= 0.4, :]\n",
    "\n",
    "# Categorical Attributes\n",
    "df2 = df2.loc[~df2['stock_code'].isin(['POST', 'D', 'DOT', 'M', 'S', 'AMAZONFEE', 'm', 'DCGSSBOY', 'DCGSSGIRL', 'PADS', 'B', 'CRUK'] ), :]\n",
    "\n",
    "# map\n",
    "df2 = df2.loc[~df2['country'].isin(['European Community', 'Unspecified' ]), :]\n",
    "\n",
    "# bad user\n",
    "df2 = df2[~df2['customer_id'].isin( [16446] )]\n",
    "\n",
    "# quantity\n",
    "df2_returns   = df2.loc[df2['quantity'] < 0, :]\n",
    "df2_purchases = df2.loc[df2['quantity'] >= 0, :]"
   ]
  },
  {
   "cell_type": "markdown",
   "id": "16814c2a",
   "metadata": {
    "heading_collapsed": true
   },
   "source": [
    "# 3.0. Feature Engineering"
   ]
  },
  {
   "cell_type": "code",
   "execution_count": 67,
   "id": "3dcc6d38",
   "metadata": {
    "ExecuteTime": {
     "end_time": "2021-11-01T22:37:13.327197Z",
     "start_time": "2021-11-01T22:37:13.308366Z"
    },
    "hidden": true
   },
   "outputs": [],
   "source": [
    "df3 = df2.copy()"
   ]
  },
  {
   "cell_type": "markdown",
   "id": "180d585e",
   "metadata": {
    "heading_collapsed": true,
    "hidden": true
   },
   "source": [
    "## 3.1. Feature Creation"
   ]
  },
  {
   "cell_type": "code",
   "execution_count": 68,
   "id": "153c0407",
   "metadata": {
    "ExecuteTime": {
     "end_time": "2021-11-01T22:37:13.353284Z",
     "start_time": "2021-11-01T22:37:13.329516Z"
    },
    "hidden": true
   },
   "outputs": [],
   "source": [
    "drop_cols = ['invoice_no', 'stock_code', 'quantity', 'invoice_date', 'unit_price', 'country']\n",
    "df_ref = df3.drop(drop_cols, axis=1).drop_duplicates(ignore_index=True)"
   ]
  },
  {
   "cell_type": "code",
   "execution_count": 69,
   "id": "93e42a51",
   "metadata": {
    "ExecuteTime": {
     "end_time": "2021-11-01T22:37:13.370576Z",
     "start_time": "2021-11-01T22:37:13.355514Z"
    },
    "hidden": true
   },
   "outputs": [
    {
     "name": "stderr",
     "output_type": "stream",
     "text": [
      "/home/cid/.pyenv/versions/3.8.0/envs/clustering-high-value-customers-identification/lib/python3.8/site-packages/pandas/core/indexing.py:1773: SettingWithCopyWarning: \n",
      "A value is trying to be set on a copy of a slice from a DataFrame.\n",
      "Try using .loc[row_indexer,col_indexer] = value instead\n",
      "\n",
      "See the caveats in the documentation: https://pandas.pydata.org/pandas-docs/stable/user_guide/indexing.html#returning-a-view-versus-a-copy\n",
      "  self._setitem_single_column(ilocs[0], value, pi)\n"
     ]
    }
   ],
   "source": [
    "df2_purchases.loc[:, ['gross_revenue']] = (df2_purchases.loc[:, 'quantity'] * df2_purchases.loc[:, 'unit_price'])"
   ]
  },
  {
   "cell_type": "markdown",
   "id": "6b340b62",
   "metadata": {
    "ExecuteTime": {
     "end_time": "2021-08-09T16:49:44.138631Z",
     "start_time": "2021-08-09T16:49:44.131084Z"
    },
    "heading_collapsed": true,
    "hidden": true
   },
   "source": [
    "### 3.1.1. Gross Revenue"
   ]
  },
  {
   "cell_type": "code",
   "execution_count": 70,
   "id": "485f6c6e",
   "metadata": {
    "ExecuteTime": {
     "end_time": "2021-11-01T22:37:13.437815Z",
     "start_time": "2021-11-01T22:37:13.373557Z"
    },
    "hidden": true
   },
   "outputs": [
    {
     "data": {
      "text/plain": [
       "customer_id       0\n",
       "gross_revenue    92\n",
       "dtype: int64"
      ]
     },
     "execution_count": 70,
     "metadata": {},
     "output_type": "execute_result"
    }
   ],
   "source": [
    "df_monetary = df2_purchases.loc[:, ['customer_id', 'gross_revenue']].groupby('customer_id').sum().reset_index() # .rename(columns={'gross_revenue': 'monetary'})\n",
    "df_ref = pd.merge(df_ref, df_monetary, how='left', on='customer_id')\n",
    "df_ref.isna().sum()"
   ]
  },
  {
   "cell_type": "markdown",
   "id": "39634d79",
   "metadata": {
    "ExecuteTime": {
     "end_time": "2021-08-09T16:49:44.138631Z",
     "start_time": "2021-08-09T16:49:44.131084Z"
    },
    "heading_collapsed": true,
    "hidden": true
   },
   "source": [
    "### 3.1.2. Recency"
   ]
  },
  {
   "cell_type": "code",
   "execution_count": 71,
   "id": "86e6efcc",
   "metadata": {
    "ExecuteTime": {
     "end_time": "2021-11-01T22:37:13.473779Z",
     "start_time": "2021-11-01T22:37:13.440711Z"
    },
    "hidden": true
   },
   "outputs": [
    {
     "data": {
      "text/plain": [
       "customer_id       0\n",
       "gross_revenue    92\n",
       "recency_days     92\n",
       "dtype: int64"
      ]
     },
     "execution_count": 71,
     "metadata": {},
     "output_type": "execute_result"
    }
   ],
   "source": [
    "df_recency = df2_purchases.loc[:, ['customer_id', 'invoice_date']].groupby('customer_id').max().reset_index()\n",
    "df_recency['recency_days'] = (df_recency['invoice_date'].max() - df_recency['invoice_date']).dt.days\n",
    "df_ref = pd.merge(df_ref, df_recency[['customer_id', 'recency_days']], how='left', on='customer_id')\n",
    "\n",
    "df_ref.isna().sum()"
   ]
  },
  {
   "cell_type": "markdown",
   "id": "25bdfbc6",
   "metadata": {
    "ExecuteTime": {
     "end_time": "2021-08-09T16:49:44.138631Z",
     "start_time": "2021-08-09T16:49:44.131084Z"
    },
    "heading_collapsed": true,
    "hidden": true
   },
   "source": [
    "### 3.1.3. Quatily of purchased"
   ]
  },
  {
   "cell_type": "code",
   "execution_count": 72,
   "id": "f95c9fd1",
   "metadata": {
    "ExecuteTime": {
     "end_time": "2021-11-01T22:37:13.555651Z",
     "start_time": "2021-11-01T22:37:13.481266Z"
    },
    "hidden": true
   },
   "outputs": [
    {
     "data": {
      "text/plain": [
       "customer_id       0\n",
       "gross_revenue    92\n",
       "recency_days     92\n",
       "qtde_invoices    92\n",
       "dtype: int64"
      ]
     },
     "execution_count": 72,
     "metadata": {},
     "output_type": "execute_result"
    }
   ],
   "source": [
    "df_freq = df2_purchases[['customer_id', 'invoice_no']].drop_duplicates().groupby('customer_id').count().reset_index().\\\n",
    "rename(columns={'invoice_no': 'qtde_invoices'})\n",
    "\n",
    "df_ref = pd.merge(df_ref, df_freq, how='left', on='customer_id')\n",
    "df_ref.isna().sum()"
   ]
  },
  {
   "cell_type": "markdown",
   "id": "a2f4d7c7",
   "metadata": {
    "heading_collapsed": true,
    "hidden": true
   },
   "source": [
    "### 3.1.4. Quantity total of items purchased"
   ]
  },
  {
   "cell_type": "code",
   "execution_count": 73,
   "id": "a59a9d62",
   "metadata": {
    "ExecuteTime": {
     "end_time": "2021-11-01T22:37:13.684179Z",
     "start_time": "2021-11-01T22:37:13.557766Z"
    },
    "hidden": true
   },
   "outputs": [
    {
     "data": {
      "text/plain": [
       "customer_id       0\n",
       "gross_revenue    92\n",
       "recency_days     92\n",
       "qtde_invoices    92\n",
       "qtde_items       92\n",
       "dtype: int64"
      ]
     },
     "execution_count": 73,
     "metadata": {},
     "output_type": "execute_result"
    }
   ],
   "source": [
    "df_freq = (df2_purchases.loc[:, ['customer_id', 'quantity']].groupby('customer_id')\n",
    "                                                            .sum()\n",
    "                                                            .reset_index()\n",
    "                                                            .rename(columns={'quantity': 'qtde_items'}))\n",
    "df_ref = pd.merge(df_ref, df_freq, how='left', on='customer_id')\n",
    "df_ref.isna().sum()"
   ]
  },
  {
   "cell_type": "markdown",
   "id": "410ffb81",
   "metadata": {
    "ExecuteTime": {
     "end_time": "2021-08-12T13:29:13.252634Z",
     "start_time": "2021-08-12T13:29:13.237186Z"
    },
    "heading_collapsed": true,
    "hidden": true
   },
   "source": [
    "### 3.1.5. Quantity of products purchased"
   ]
  },
  {
   "cell_type": "code",
   "execution_count": 74,
   "id": "81686ba1",
   "metadata": {
    "ExecuteTime": {
     "end_time": "2021-11-01T22:37:13.761367Z",
     "start_time": "2021-11-01T22:37:13.686223Z"
    },
    "hidden": true
   },
   "outputs": [
    {
     "data": {
      "text/plain": [
       "customer_id       0\n",
       "gross_revenue    92\n",
       "recency_days     92\n",
       "qtde_invoices    92\n",
       "qtde_items       92\n",
       "qtde_products    92\n",
       "dtype: int64"
      ]
     },
     "execution_count": 74,
     "metadata": {},
     "output_type": "execute_result"
    }
   ],
   "source": [
    "df_freq = ( df2_purchases.loc[:, ['customer_id', 'stock_code']].groupby('customer_id')\n",
    "                                                               .count()\n",
    "                                                               .reset_index()\n",
    "                                                               .rename(columns={'stock_code': 'qtde_products'}))\n",
    "df_ref = pd.merge(df_ref, df_freq, how='left', on='customer_id')\n",
    "df_ref.isna().sum()"
   ]
  },
  {
   "cell_type": "markdown",
   "id": "0bbbf7fe",
   "metadata": {
    "ExecuteTime": {
     "end_time": "2021-08-09T16:49:44.138631Z",
     "start_time": "2021-08-09T16:49:44.131084Z"
    },
    "heading_collapsed": true,
    "hidden": true
   },
   "source": [
    "### 3.1.6. Average Ticket"
   ]
  },
  {
   "cell_type": "code",
   "execution_count": 75,
   "id": "d2d0eed6",
   "metadata": {
    "ExecuteTime": {
     "end_time": "2021-11-01T22:37:13.811555Z",
     "start_time": "2021-11-01T22:37:13.763820Z"
    },
    "hidden": true
   },
   "outputs": [
    {
     "data": {
      "text/plain": [
       "customer_id       0\n",
       "gross_revenue    92\n",
       "recency_days     92\n",
       "qtde_invoices    92\n",
       "qtde_items       92\n",
       "qtde_products    92\n",
       "avg_ticket       92\n",
       "dtype: int64"
      ]
     },
     "execution_count": 75,
     "metadata": {},
     "output_type": "execute_result"
    }
   ],
   "source": [
    "df_avg_ticket =  (df2_purchases.loc[:, ['customer_id','gross_revenue']].groupby('customer_id')\n",
    "                                                                       .mean()\n",
    "                                                                       .reset_index()\n",
    "                                                                       .rename(columns={'gross_revenue': 'avg_ticket'}))\n",
    "\n",
    "df_ref = pd.merge(df_ref, df_avg_ticket, how='left', on='customer_id')\n",
    "\n",
    "df_ref.isna().sum()"
   ]
  },
  {
   "cell_type": "markdown",
   "id": "9c33c58d",
   "metadata": {
    "heading_collapsed": true,
    "hidden": true
   },
   "source": [
    "### 3.1.7. Average Recency Days"
   ]
  },
  {
   "cell_type": "code",
   "execution_count": 76,
   "id": "bd3c3af6",
   "metadata": {
    "ExecuteTime": {
     "end_time": "2021-11-01T22:37:13.820264Z",
     "start_time": "2021-11-01T22:37:13.814287Z"
    },
    "hidden": true
   },
   "outputs": [],
   "source": [
    "# df_aux = df2[['customer_id', 'invoice_date']].drop_duplicates().sort_values(['customer_id', 'invoice_date'], ascending=[False, False])\n",
    "# df_aux['next_customer_id'] = df_aux['customer_id'].shift()\n",
    "# df_aux['previus_date'] = df_aux['invoice_date'].shift()\n",
    "\n",
    "# df_aux['avg_recency_days'] = df_aux.apply( lambda x: (x['invoice_date'] - x['previus_date']).days if x['customer_id'] == x['next_customer_id'] else np.nan, axis=1)\n",
    "# df_aux['avg_recency_days'] = df_aux['avg_recency_days'] * -1\n",
    "# df_aux = df_aux.drop(columns=['invoice_date', 'next_customer_id', 'previus_date'], axis=1).dropna()\n",
    "\n",
    "# df_avg_recency_days = df_aux.groupby( 'customer_id' ).mean().reset_index()\n",
    "\n",
    "# df_ref = pd.merge(df_ref, df_avg_recency_days, on='customer_id', how='left')\n",
    "# df_ref.isna().sum()"
   ]
  },
  {
   "cell_type": "markdown",
   "id": "922407e6",
   "metadata": {
    "heading_collapsed": true,
    "hidden": true
   },
   "source": [
    "### 3.1.8. Frequency Purchase"
   ]
  },
  {
   "cell_type": "code",
   "execution_count": 77,
   "id": "ecf5a5d7",
   "metadata": {
    "ExecuteTime": {
     "end_time": "2021-11-01T22:37:15.638601Z",
     "start_time": "2021-11-01T22:37:13.824315Z"
    },
    "hidden": true
   },
   "outputs": [
    {
     "data": {
      "text/plain": [
       "customer_id       0\n",
       "gross_revenue    92\n",
       "recency_days     92\n",
       "qtde_invoices    92\n",
       "qtde_items       92\n",
       "qtde_products    92\n",
       "avg_ticket       92\n",
       "frequency        92\n",
       "dtype: int64"
      ]
     },
     "execution_count": 77,
     "metadata": {},
     "output_type": "execute_result"
    }
   ],
   "source": [
    "df_aux = (df2_purchases[['customer_id', 'invoice_no', 'invoice_date']].drop_duplicates()\n",
    "                                                 .groupby('customer_id')\n",
    "                                                 .agg( max_ = ('invoice_date', 'max'),\n",
    "                                                       min_ = ('invoice_date', 'min'),\n",
    "                                                       days = ('invoice_date', lambda x: ((x.max() - x.min()).days) + 1 ),\n",
    "                                                       buy_ = ( 'invoice_no', 'count' ))).reset_index()\n",
    "\n",
    "df_aux['frequency'] = df_aux[['buy_', 'days']].apply( lambda x: x['buy_'] / x['days'] if x['days'] != 0 else 0, axis=1 )\n",
    "\n",
    "df_ref = pd.merge(df_ref, df_aux[['customer_id', 'frequency']], on='customer_id', how='left')\n",
    "df_ref.isna().sum()"
   ]
  },
  {
   "cell_type": "markdown",
   "id": "a90650fd",
   "metadata": {
    "heading_collapsed": true,
    "hidden": true
   },
   "source": [
    "### 3.1.9. Number Or Returns"
   ]
  },
  {
   "cell_type": "code",
   "execution_count": 78,
   "id": "fc6071ef",
   "metadata": {
    "ExecuteTime": {
     "end_time": "2021-11-01T22:37:15.668525Z",
     "start_time": "2021-11-01T22:37:15.642089Z"
    },
    "hidden": true
   },
   "outputs": [
    {
     "data": {
      "text/plain": [
       "customer_id       0\n",
       "gross_revenue    92\n",
       "recency_days     92\n",
       "qtde_invoices    92\n",
       "qtde_items       92\n",
       "qtde_products    92\n",
       "avg_ticket       92\n",
       "frequency        92\n",
       "qtde_returns      0\n",
       "dtype: int64"
      ]
     },
     "execution_count": 78,
     "metadata": {},
     "output_type": "execute_result"
    }
   ],
   "source": [
    "df_returns = df2_returns[['quantity', 'customer_id']].groupby('customer_id').sum().reset_index().rename(columns={'quantity': 'qtde_returns'})\n",
    "df_returns['qtde_returns'] = df_returns['qtde_returns'] * -1\n",
    "\n",
    "df_ref = pd.merge(df_ref, df_returns, on='customer_id', how='left')\n",
    "df_ref['qtde_returns'].fillna(0, inplace=True)\n",
    "df_ref.isna().sum()"
   ]
  },
  {
   "cell_type": "markdown",
   "id": "83a0383f",
   "metadata": {
    "heading_collapsed": true,
    "hidden": true
   },
   "source": [
    "### 3.1.10. Basket Size"
   ]
  },
  {
   "cell_type": "code",
   "execution_count": 79,
   "id": "f823e35f",
   "metadata": {
    "ExecuteTime": {
     "end_time": "2021-11-01T22:37:15.778227Z",
     "start_time": "2021-11-01T22:37:15.670716Z"
    },
    "hidden": true
   },
   "outputs": [
    {
     "data": {
      "text/plain": [
       "customer_id         0\n",
       "gross_revenue      92\n",
       "recency_days       92\n",
       "qtde_invoices      92\n",
       "qtde_items         92\n",
       "qtde_products      92\n",
       "avg_ticket         92\n",
       "frequency          92\n",
       "qtde_returns        0\n",
       "avg_basket_size    92\n",
       "dtype: int64"
      ]
     },
     "execution_count": 79,
     "metadata": {},
     "output_type": "execute_result"
    }
   ],
   "source": [
    "df_aux = (df2_purchases[['customer_id', 'invoice_no', 'quantity']].groupby('customer_id')\n",
    "                                                                   .agg( n_purchase=('invoice_no', 'nunique'),\n",
    "                                                                         n_products=('quantity', 'sum'))).reset_index()\n",
    "df_aux['avg_basket_size'] = df_aux['n_products'] / df_aux['n_purchase']\n",
    "df_ref = pd.merge(df_ref, df_aux[['avg_basket_size', 'customer_id']], on='customer_id', how='left')\n",
    "df_ref.isna().sum()"
   ]
  },
  {
   "cell_type": "markdown",
   "id": "308da526",
   "metadata": {
    "heading_collapsed": true,
    "hidden": true
   },
   "source": [
    "### 3.1.11. Unique Basket Size"
   ]
  },
  {
   "cell_type": "code",
   "execution_count": 80,
   "id": "e81c5029",
   "metadata": {
    "ExecuteTime": {
     "end_time": "2021-11-01T22:37:16.020033Z",
     "start_time": "2021-11-01T22:37:15.780343Z"
    },
    "hidden": true,
    "scrolled": true
   },
   "outputs": [
    {
     "data": {
      "text/plain": [
       "customer_id                0\n",
       "gross_revenue             92\n",
       "recency_days              92\n",
       "qtde_invoices             92\n",
       "qtde_items                92\n",
       "qtde_products             92\n",
       "avg_ticket                92\n",
       "frequency                 92\n",
       "qtde_returns               0\n",
       "avg_basket_size           92\n",
       "avg_unique_basket_size    92\n",
       "dtype: int64"
      ]
     },
     "execution_count": 80,
     "metadata": {},
     "output_type": "execute_result"
    }
   ],
   "source": [
    "df_aux = (df2_purchases.loc[:, ['customer_id', 'invoice_no', 'stock_code']].groupby( 'customer_id' )\n",
    "                                                                         .agg(n_purchase=('invoice_no', 'nunique'),\n",
    "                                                                              n_products=('stock_code', 'nunique'))).reset_index()\n",
    "df_aux['avg_unique_basket_size'] = df_aux['n_products'] / df_aux['n_purchase']\n",
    "\n",
    "df_ref = pd.merge(df_ref, df_aux[['avg_unique_basket_size', 'customer_id']], on='customer_id', how='left')\n",
    "df_ref.isna().sum()"
   ]
  },
  {
   "cell_type": "markdown",
   "id": "5e87e47c",
   "metadata": {},
   "source": [
    "# 4.0. EDA  "
   ]
  },
  {
   "cell_type": "code",
   "execution_count": 81,
   "id": "aac53260",
   "metadata": {
    "ExecuteTime": {
     "end_time": "2021-11-01T22:37:16.033724Z",
     "start_time": "2021-11-01T22:37:16.023297Z"
    }
   },
   "outputs": [],
   "source": [
    "df_ref = df_ref.dropna()\n",
    "\n",
    "df4 = df_ref.copy()"
   ]
  },
  {
   "cell_type": "markdown",
   "id": "750cdf49",
   "metadata": {},
   "source": [
    "## 4.3. Space Study"
   ]
  },
  {
   "cell_type": "code",
   "execution_count": 82,
   "id": "da52845f",
   "metadata": {
    "ExecuteTime": {
     "end_time": "2021-11-01T22:37:16.047553Z",
     "start_time": "2021-11-01T22:37:16.036049Z"
    }
   },
   "outputs": [],
   "source": [
    "# select dataser\n",
    "cols_selected = ['customer_id', 'gross_revenue', 'recency_days', 'qtde_products', 'frequency', 'qtde_returns']\n",
    "df43 = df4[cols_selected].copy()"
   ]
  },
  {
   "cell_type": "code",
   "execution_count": 89,
   "id": "8bdf11fc",
   "metadata": {
    "ExecuteTime": {
     "end_time": "2021-11-01T22:39:40.917789Z",
     "start_time": "2021-11-01T22:39:38.654404Z"
    }
   },
   "outputs": [],
   "source": [
    "mms = pp.MinMaxScaler()\n",
    "fs = s3fs.S3FileSystem(anon=False, key=AWS_ACESS_KEY_ID, secret=AWS_SECRETE_ACESS_KEY )\n",
    "# save to s3\n",
    "\n",
    "\n",
    "gross_revenue_scaler = pickle.load(fs.open('s3://insiders-dataset-cid/gross_renenue_scaler.pkl', 'rb'))\n",
    "df43['gross_revenue'] = gross_revenue_scaler.fit_transform( df43[['gross_revenue']].values )\n",
    "\n",
    "\n",
    "recency_days_scaler = pickle.load(fs.open('s3://insiders-dataset-cid/recency_days_scaler.pkl', 'rb'))\n",
    "df43['recency_days'] = recency_days_scaler.fit_transform( df43[['recency_days']].values )\n",
    "\n",
    "qtde_products_scaler = pickle.load(fs.open('s3://insiders-dataset-cid/qtde_products_scaler.pkl', 'rb'))\n",
    "df43['qtde_products'] = qtde_products_scaler.fit_transform( df43[['qtde_products']].values )\n",
    "\n",
    "\n",
    "frequency_scaler = pickle.load(fs.open('s3://insiders-dataset-cid/frequency_scaler.pkl', 'rb'))\n",
    "df43['frequency'] = frequency_scaler.fit_transform( df43[['frequency']].values )\n",
    "\n",
    "qtde_returns_scaler = pickle.load(fs.open('s3://insiders-dataset-cid/qtde_returns_scaler.pkl', 'rb'))\n",
    "df43['qtde_returns'] = qtde_returns_scaler.fit_transform( df43[['qtde_returns']].values )"
   ]
  },
  {
   "cell_type": "markdown",
   "id": "47b38921",
   "metadata": {},
   "source": [
    "### 4.3.4. Tree-Based Embbedding"
   ]
  },
  {
   "cell_type": "code",
   "execution_count": 91,
   "id": "77ad5bfc",
   "metadata": {
    "ExecuteTime": {
     "end_time": "2021-11-01T22:40:29.055779Z",
     "start_time": "2021-11-01T22:40:15.460859Z"
    }
   },
   "outputs": [],
   "source": [
    "X = df43.drop(columns=['customer_id', 'gross_revenue'])\n",
    "y = df43['gross_revenue']\n",
    "\n",
    "# # model training\n",
    "# rf_model = en.RandomForestRegressor( n_estimators=100, random_state=42 )\n",
    "\n",
    "# # model training definition\n",
    "# rf_model.fit( X, y)\n",
    "\n",
    "\n",
    "# load model\n",
    "rf_model = pickle.load(fs.open('s3://insiders-dataset-cid/rf_model.pkl', 'rb'))\n",
    "\n",
    "#  leaf\n",
    "df_leaf = pd.DataFrame( rf_model.apply( X ) )"
   ]
  },
  {
   "cell_type": "code",
   "execution_count": 92,
   "id": "03802f01",
   "metadata": {
    "ExecuteTime": {
     "end_time": "2021-11-01T22:40:36.357459Z",
     "start_time": "2021-11-01T22:40:29.058372Z"
    }
   },
   "outputs": [],
   "source": [
    "# reduzer dimensionality\n",
    "# reducer = UMAP(random_state=42)\n",
    "# embedding = reducer.fit_transform( df_leaf )\n",
    "\n",
    "# save reducer\n",
    "# pickle.dump(reducer, open('../features/umap_reducer.pkl', 'wb'))\n",
    "\n",
    "# load reducer\n",
    "reducer = pickle.load(fs.open('s3://insiders-dataset-cid/umap_reducer.pkl', 'rb'))\n",
    "embedding = reducer.transform( df_leaf )\n",
    "\n",
    "\n",
    "# embedding\n",
    "df_tree = pd.DataFrame()\n",
    "df_tree['embedding_x'] = embedding[:, 0]\n",
    "df_tree['embedding_y'] = embedding[:, 1]"
   ]
  },
  {
   "cell_type": "markdown",
   "id": "87741823",
   "metadata": {
    "heading_collapsed": true
   },
   "source": [
    "# 5.0. Data Preparation"
   ]
  },
  {
   "cell_type": "code",
   "execution_count": null,
   "id": "45d6888e",
   "metadata": {
    "ExecuteTime": {
     "end_time": "2021-11-01T22:37:16.982107Z",
     "start_time": "2021-11-01T22:37:16.982084Z"
    },
    "hidden": true
   },
   "outputs": [],
   "source": [
    "df5 = df_tree.copy()\n",
    "# df5.to_csv( '../src/data/tree_based_embedding.csv', index=False )"
   ]
  },
  {
   "cell_type": "markdown",
   "id": "102e3348",
   "metadata": {
    "heading_collapsed": true
   },
   "source": [
    "# 7.0. Hyperpameter Fine Tuning"
   ]
  },
  {
   "cell_type": "code",
   "execution_count": null,
   "id": "7339f801",
   "metadata": {
    "ExecuteTime": {
     "end_time": "2021-11-01T22:37:16.984495Z",
     "start_time": "2021-11-01T22:37:16.984437Z"
    },
    "hidden": true
   },
   "outputs": [],
   "source": [
    "X = df5.copy()\n",
    "\n",
    "X.head()"
   ]
  },
  {
   "cell_type": "markdown",
   "id": "11fdb6f0",
   "metadata": {
    "heading_collapsed": true
   },
   "source": [
    "# 8.0. Model Training"
   ]
  },
  {
   "cell_type": "code",
   "execution_count": null,
   "id": "533f8854",
   "metadata": {
    "ExecuteTime": {
     "end_time": "2021-11-01T22:37:16.987337Z",
     "start_time": "2021-11-01T22:37:16.987280Z"
    },
    "hidden": true
   },
   "outputs": [],
   "source": [
    "# model definition\n",
    "k = 8\n",
    "gmm_model = gm(n_components=k, n_init=100, random_state=42)\n",
    "\n",
    "# model training\n",
    "gmm_model.fit(X)\n",
    "\n",
    "# model predict\n",
    "labels = gmm_model.predict(X)"
   ]
  },
  {
   "cell_type": "markdown",
   "id": "12c0d7de",
   "metadata": {
    "heading_collapsed": true,
    "hidden": true
   },
   "source": [
    "## 8.2. Cluster Validation "
   ]
  },
  {
   "cell_type": "code",
   "execution_count": null,
   "id": "5f531df6",
   "metadata": {
    "ExecuteTime": {
     "end_time": "2021-11-01T22:37:16.989827Z",
     "start_time": "2021-11-01T22:37:16.989791Z"
    },
    "hidden": true
   },
   "outputs": [],
   "source": [
    "print(\"SS value: {}\".format(metrics.silhouette_score( X, labels, metric='euclidean' )))"
   ]
  },
  {
   "cell_type": "markdown",
   "id": "a6b30a59",
   "metadata": {
    "heading_collapsed": true
   },
   "source": [
    "# 9.0. Cluster Analysis"
   ]
  },
  {
   "cell_type": "code",
   "execution_count": null,
   "id": "6a23bab5",
   "metadata": {
    "ExecuteTime": {
     "end_time": "2021-11-01T22:37:16.992018Z",
     "start_time": "2021-11-01T22:37:16.991986Z"
    },
    "hidden": true
   },
   "outputs": [],
   "source": [
    "df92 = df4[cols_selected].copy()\n",
    "df92['cluster'] = labels\n",
    "\n",
    "# change dtypes\n",
    "df92['recency_days'] = df92['recency_days'].astype(int)\n",
    "df92['qtde_products'] = df92['qtde_products'].astype(int)\n",
    "df92['qtde_returns'] = df92['qtde_returns'].astype(int)"
   ]
  },
  {
   "cell_type": "markdown",
   "id": "b253d006",
   "metadata": {
    "heading_collapsed": true,
    "hidden": true
   },
   "source": [
    "## 9.2. Cluster Profile"
   ]
  },
  {
   "cell_type": "code",
   "execution_count": null,
   "id": "b0ceaa89",
   "metadata": {
    "ExecuteTime": {
     "end_time": "2021-11-01T22:37:16.994251Z",
     "start_time": "2021-11-01T22:37:16.994217Z"
    },
    "hidden": true
   },
   "outputs": [],
   "source": [
    "# cluster - qt_users - per_user\n",
    "df_cluster = df92[['customer_id', 'cluster']].groupby('cluster').count().reset_index().rename(columns={'customer_id': 'qt_users'})\n",
    "df_cluster['per_user'] = 100 * (df_cluster['qt_users'] / df_cluster['qt_users'].sum())\n",
    "\n",
    "\n",
    "# gross_revenue\n",
    "monetary = df92[['gross_revenue', 'cluster']].groupby('cluster').mean().reset_index()\n",
    "df_cluster = pd.merge(df_cluster, monetary, how='left', on='cluster')\n",
    "\n",
    "# recency_days\n",
    "recency_days = df92[['recency_days', 'cluster']].groupby('cluster').mean().reset_index()\n",
    "df_cluster = pd.merge(df_cluster, recency_days, how='left', on='cluster')\n",
    "\n",
    "# qtde_products\n",
    "qtde_products = df92[['qtde_products', 'cluster']].groupby('cluster').mean().reset_index()\n",
    "df_cluster = pd.merge(df_cluster, qtde_products, how='left', on='cluster')\n",
    "\n",
    "# frequency\n",
    "frequency = df92[['frequency', 'cluster']].groupby('cluster').mean().reset_index()\n",
    "df_cluster = pd.merge(df_cluster, frequency, how='left', on='cluster')\n",
    "\n",
    "# qtde_returns\n",
    "qtde_returns = df92[['qtde_returns', 'cluster']].groupby('cluster').mean().reset_index()\n",
    "df_cluster = pd.merge(df_cluster, qtde_returns, how='left', on='cluster')\n",
    "\n",
    "\n",
    "df_cluster.sort_values('gross_revenue', ascending=False).style.highlight_max( color='lightgreen', axis=0 )"
   ]
  },
  {
   "cell_type": "code",
   "execution_count": null,
   "id": "489232b1",
   "metadata": {
    "ExecuteTime": {
     "end_time": "2021-11-01T22:37:16.996136Z",
     "start_time": "2021-11-01T22:37:16.996101Z"
    },
    "hidden": true
   },
   "outputs": [],
   "source": [
    "# 1 Cluster Insiders\n",
    "# 5 Cluster More Products\n",
    "# 4 Cluster Spend Money \n",
    "# 2 Cluster Even More Products\n",
    "# 6 Cluster Less Days\n",
    "# 0 Cluster Less 1k\n",
    "# 7 Cluster Stop Returners\n",
    "# 3 Cluster More Buy"
   ]
  },
  {
   "cell_type": "markdown",
   "id": "5daa53a1",
   "metadata": {
    "hidden": true
   },
   "source": [
    "**Cluster 01:  ( Candidato à Insider )**\n",
    "- Número de customers: 468 (16% do customers )\n",
    "- Faturamento médio: 8836\n",
    "- Recência média: 21 dias\n",
    "- Média de Produtos comprados: 424 produtos\n",
    "- Frequência de Produtos comprados: 0.09 produtos/dia\n",
    "- Receita em média: $8836.13,00 dólares"
   ]
  },
  {
   "cell_type": "markdown",
   "id": "c4ade448",
   "metadata": {
    "heading_collapsed": true
   },
   "source": [
    "# 10.0. EDA"
   ]
  },
  {
   "cell_type": "code",
   "execution_count": null,
   "id": "77dd8a0f",
   "metadata": {
    "ExecuteTime": {
     "end_time": "2021-11-01T22:37:16.997892Z",
     "start_time": "2021-11-01T22:37:16.997859Z"
    },
    "hidden": true
   },
   "outputs": [],
   "source": [
    "df10 = df92.copy()"
   ]
  },
  {
   "cell_type": "markdown",
   "id": "b3753f60",
   "metadata": {
    "heading_collapsed": true
   },
   "source": [
    "# 11.0. Deploy to Product"
   ]
  },
  {
   "cell_type": "code",
   "execution_count": null,
   "id": "d701b523",
   "metadata": {
    "ExecuteTime": {
     "end_time": "2021-11-01T22:37:16.999807Z",
     "start_time": "2021-11-01T22:37:16.999772Z"
    },
    "hidden": true
   },
   "outputs": [],
   "source": [
    "df11 = df10.copy()"
   ]
  },
  {
   "cell_type": "markdown",
   "id": "75738174",
   "metadata": {
    "hidden": true
   },
   "source": [
    "## 11.1. Insert into SQLITE"
   ]
  },
  {
   "cell_type": "code",
   "execution_count": null,
   "id": "80dba55b",
   "metadata": {
    "ExecuteTime": {
     "end_time": "2021-11-01T22:37:17.001751Z",
     "start_time": "2021-11-01T22:37:17.001716Z"
    },
    "hidden": true
   },
   "outputs": [],
   "source": [
    "# endpint\n",
    "# database-insiders-01\n",
    "host = 'database-insiders-05.crqgkguqdb6i.us-east-1.rds.amazonaws.com'\n",
    "user = 'cid'\n",
    "pwd =  os.getenv('DB_PASSWORD')\n",
    "port = '5432'\n",
    "database = 'postgres'\n",
    "\n",
    "endpoint = 'postgresql://{}:{}@{}:{}/{}'.format(user,pwd, host,port,database  )"
   ]
  },
  {
   "cell_type": "code",
   "execution_count": null,
   "id": "205527a7",
   "metadata": {
    "ExecuteTime": {
     "end_time": "2021-11-01T22:37:17.003613Z",
     "start_time": "2021-11-01T22:37:17.003580Z"
    },
    "hidden": true
   },
   "outputs": [],
   "source": [
    "# create table\n",
    "# query_create_table_insiders = \"\"\"\n",
    "#     CREATE TABLE insiders (\n",
    "#         customer_id        INTEGER,\n",
    "#         gross_revenue      REAL,\n",
    "#         recency_days       INTEGER,\n",
    "#         qtde_products      INTEGER,\n",
    "#         frequency          REAL,\n",
    "#         qtde_returns       INTEGER,\n",
    "#         cluster            INTEGER\n",
    "#     )\n",
    "# \"\"\"\n",
    "# conn = create_engine(endpoint)\n",
    "# conn.execute(query_create_table_insiders)"
   ]
  },
  {
   "cell_type": "code",
   "execution_count": null,
   "id": "b7ed771c",
   "metadata": {
    "ExecuteTime": {
     "end_time": "2021-11-01T22:37:17.008093Z",
     "start_time": "2021-11-01T22:37:17.008052Z"
    },
    "hidden": true
   },
   "outputs": [],
   "source": [
    "# insert data\n",
    "conn = create_engine(endpoint)\n",
    "df92.to_sql( 'insiders', con=conn,  if_exists='append', index=False )"
   ]
  },
  {
   "cell_type": "code",
   "execution_count": null,
   "id": "1c116e67",
   "metadata": {
    "ExecuteTime": {
     "end_time": "2021-11-01T22:37:17.010208Z",
     "start_time": "2021-11-01T22:37:17.010183Z"
    },
    "hidden": true
   },
   "outputs": [],
   "source": [
    "# consulting database\n",
    "query = \"\"\"\n",
    "    SELECT * FROM insiders\n",
    "\"\"\"\n",
    "conn = create_engine( endpoint )\n",
    "\n",
    "df  = pd.read_sql_query( query, conn )\n",
    "df.head()"
   ]
  },
  {
   "cell_type": "markdown",
   "id": "62dda9ce",
   "metadata": {
    "hidden": true
   },
   "source": [
    " ## Metabase \n",
    "\n",
    "1. download https://www.metabase.com/docs/latest/operations-guide/running-the-metabase-jar-file.html\n",
    "* java -jar metabase.jar\n",
    "* http://localhost:3000\n"
   ]
  },
  {
   "cell_type": "markdown",
   "id": "3e9e681b",
   "metadata": {
    "hidden": true
   },
   "source": [
    " ## Banco de Dados na AWS\n",
    " \n",
    "1. Aula 047 - Ciclo 11- Deploy do modelo em produção - Parte III\n",
    "2. começa em 1h00"
   ]
  },
  {
   "cell_type": "markdown",
   "id": "dfcfc8a7",
   "metadata": {
    "hidden": true
   },
   "source": [
    " ## pip install papermill\n",
    "1. pip install papermill\n",
    "2. papermill src/models/c12-deploy.ipynb reports/c12-deploy.ipynbc12-deploy_2021_10_13.ipynb\n",
    "\n",
    " ## bash\n",
    "3. echo $(date +'%Y-%m-%d %H:%M:%S')\n",
    "4. bash model_run.sh"
   ]
  }
 ],
 "metadata": {
  "hide_input": false,
  "kernelspec": {
   "display_name": "Python 3 (ipykernel)",
   "language": "python",
   "name": "python3"
  },
  "language_info": {
   "codemirror_mode": {
    "name": "ipython",
    "version": 3
   },
   "file_extension": ".py",
   "mimetype": "text/x-python",
   "name": "python",
   "nbconvert_exporter": "python",
   "pygments_lexer": "ipython3",
   "version": "3.8.0"
  },
  "toc": {
   "base_numbering": 1,
   "nav_menu": {},
   "number_sections": true,
   "sideBar": true,
   "skip_h1_title": false,
   "title_cell": "Table of Contents",
   "title_sidebar": "Contents",
   "toc_cell": false,
   "toc_position": {},
   "toc_section_display": true,
   "toc_window_display": false
  }
 },
 "nbformat": 4,
 "nbformat_minor": 5
}
