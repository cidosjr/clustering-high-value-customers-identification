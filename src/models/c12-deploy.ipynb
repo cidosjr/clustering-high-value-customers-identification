{
 "cells": [
  {
   "cell_type": "markdown",
   "id": "b25a0bdd",
   "metadata": {
    "heading_collapsed": true
   },
   "source": [
    "# 0.0. Imports"
   ]
  },
  {
   "cell_type": "code",
   "execution_count": 1,
   "id": "722054fa",
   "metadata": {
    "ExecuteTime": {
     "end_time": "2021-10-31T18:51:37.903794Z",
     "start_time": "2021-10-31T18:51:33.754818Z"
    },
    "hidden": true,
    "hide_input": false
   },
   "outputs": [],
   "source": [
    "import os\n",
    "import re\n",
    "import sqlite3\n",
    "import pandas as pd\n",
    "import numpy as np\n",
    "import seaborn as sns\n",
    "import matplotlib.pyplot as plt\n",
    "import plotly.express as px\n",
    "\n",
    "from sqlalchemy import create_engine\n",
    "\n",
    "from umap.umap_ import UMAP\n",
    "from scipy.cluster import hierarchy as hc\n",
    "\n",
    "from sklearn import cluster\n",
    "from sklearn import metrics\n",
    "from sklearn import preprocessing as pp\n",
    "from sklearn.decomposition import PCA\n",
    "from sklearn.manifold import TSNE\n",
    "from sklearn import ensemble as en\n",
    "from sklearn.mixture import GaussianMixture as gm"
   ]
  },
  {
   "cell_type": "markdown",
   "id": "f4bb5440",
   "metadata": {
    "heading_collapsed": true,
    "hidden": true
   },
   "source": [
    "## 0.1. Helper Functions"
   ]
  },
  {
   "cell_type": "code",
   "execution_count": 2,
   "id": "a157246c",
   "metadata": {
    "ExecuteTime": {
     "end_time": "2021-10-31T18:51:37.920806Z",
     "start_time": "2021-10-31T18:51:37.907634Z"
    },
    "hidden": true
   },
   "outputs": [],
   "source": [
    "def descriptive_statistics(num_attr):\n",
    "    # Central Tendency: mean, median\n",
    "    c1 = pd.DataFrame(num_attr.apply(np.mean))\n",
    "    c2 = pd.DataFrame(num_attr.apply(np.median))\n",
    "\n",
    "    # Dispension: min, max, range, std, skew, kurtosis\n",
    "    d1 = pd.DataFrame(num_attr.apply(min))\n",
    "    d2 = pd.DataFrame(num_attr.apply(max))\n",
    "    d3 = pd.DataFrame(num_attr.apply(lambda x: x.max() - x.min()))\n",
    "    d4 = pd.DataFrame(num_attr.apply(lambda x: x.std()))\n",
    "    \n",
    "    # Measures of Shape\n",
    "    s1 = pd.DataFrame(num_attr.apply(lambda x: x.skew()))\n",
    "    s2 = pd.DataFrame(num_attr.apply(lambda x: x.kurtosis()))\n",
    "\n",
    "    # concat\n",
    "    m = pd.concat([d1,d2,d3,c1,c2,d4,s1,s2], axis=1).reset_index()\n",
    "    m.columns = ['attributes', 'min', 'max', 'range', 'mean', 'median', 'std', 'skew', 'kurtosis']\n",
    "    return m"
   ]
  },
  {
   "cell_type": "markdown",
   "id": "1bb64666",
   "metadata": {
    "hidden": true
   },
   "source": [
    "## 0.2. Load Data"
   ]
  },
  {
   "cell_type": "code",
   "execution_count": 3,
   "id": "4344a7f0",
   "metadata": {
    "ExecuteTime": {
     "end_time": "2021-10-31T18:51:38.281092Z",
     "start_time": "2021-10-31T18:51:37.925421Z"
    },
    "hidden": true
   },
   "outputs": [],
   "source": [
    "import s3fs"
   ]
  },
  {
   "cell_type": "code",
   "execution_count": 4,
   "id": "54243f8b",
   "metadata": {
    "ExecuteTime": {
     "end_time": "2021-10-31T18:51:42.843996Z",
     "start_time": "2021-10-31T18:51:38.284265Z"
    },
    "hidden": true
   },
   "outputs": [],
   "source": [
    "# path = '/home/cid/repos/clustering-high-value-customers-identification/'\n",
    "path_s3 = 'https://insiders-dataset-cid.s3.amazonaws.com/'\n",
    "\n",
    "df_raw = pd.read_csv(path_s3 + 'Ecommerce.csv', encoding='latin1')\n",
    "\n",
    "# drop extra column\n",
    "df_raw = df_raw.drop('Unnamed: 8', axis=1)"
   ]
  },
  {
   "cell_type": "markdown",
   "id": "5b9ae690",
   "metadata": {
    "heading_collapsed": true
   },
   "source": [
    "# 1.0. Data Description"
   ]
  },
  {
   "cell_type": "code",
   "execution_count": 5,
   "id": "026bbc19",
   "metadata": {
    "ExecuteTime": {
     "end_time": "2021-10-31T18:51:42.878320Z",
     "start_time": "2021-10-31T18:51:42.846107Z"
    },
    "hidden": true
   },
   "outputs": [],
   "source": [
    "df1 = df_raw.copy()"
   ]
  },
  {
   "cell_type": "markdown",
   "id": "a0e2c036",
   "metadata": {
    "heading_collapsed": true,
    "hidden": true
   },
   "source": [
    "## 1.1. Rename Columns"
   ]
  },
  {
   "cell_type": "code",
   "execution_count": 6,
   "id": "46322473",
   "metadata": {
    "ExecuteTime": {
     "end_time": "2021-10-31T18:51:42.886455Z",
     "start_time": "2021-10-31T18:51:42.880352Z"
    },
    "hidden": true
   },
   "outputs": [],
   "source": [
    "cols_new = ['invoice_no', 'stock_code', 'description', 'quantity', 'invoice_date', 'unit_price', 'customer_id', 'country']\n",
    "df1.columns = cols_new"
   ]
  },
  {
   "cell_type": "markdown",
   "id": "09f2dd9b",
   "metadata": {
    "heading_collapsed": true,
    "hidden": true
   },
   "source": [
    "## 1.2. Data Dimnesions"
   ]
  },
  {
   "cell_type": "code",
   "execution_count": 7,
   "id": "e8295ac6",
   "metadata": {
    "ExecuteTime": {
     "end_time": "2021-10-31T18:51:42.897713Z",
     "start_time": "2021-10-31T18:51:42.889302Z"
    },
    "hidden": true
   },
   "outputs": [
    {
     "name": "stdout",
     "output_type": "stream",
     "text": [
      "Number of Rows: 541909\n",
      "Number of Columns: 8\n"
     ]
    }
   ],
   "source": [
    "print('Number of Rows: {}'.format(df1.shape[0]))\n",
    "print('Number of Columns: {}'.format(df1.shape[1]))"
   ]
  },
  {
   "cell_type": "markdown",
   "id": "c68dcbcd",
   "metadata": {
    "heading_collapsed": true,
    "hidden": true
   },
   "source": [
    "## 1.3. Data Types"
   ]
  },
  {
   "cell_type": "code",
   "execution_count": 8,
   "id": "4034f49b",
   "metadata": {
    "ExecuteTime": {
     "end_time": "2021-10-31T18:51:42.914687Z",
     "start_time": "2021-10-31T18:51:42.900851Z"
    },
    "hidden": true
   },
   "outputs": [
    {
     "data": {
      "text/plain": [
       "invoice_no       object\n",
       "stock_code       object\n",
       "description      object\n",
       "quantity          int64\n",
       "invoice_date     object\n",
       "unit_price      float64\n",
       "customer_id     float64\n",
       "country          object\n",
       "dtype: object"
      ]
     },
     "execution_count": 8,
     "metadata": {},
     "output_type": "execute_result"
    }
   ],
   "source": [
    "df1.dtypes"
   ]
  },
  {
   "cell_type": "markdown",
   "id": "0c014646",
   "metadata": {
    "heading_collapsed": true,
    "hidden": true
   },
   "source": [
    "## 1.4. Check NA"
   ]
  },
  {
   "cell_type": "code",
   "execution_count": 9,
   "id": "7a8a6351",
   "metadata": {
    "ExecuteTime": {
     "end_time": "2021-10-31T18:51:43.196797Z",
     "start_time": "2021-10-31T18:51:42.917098Z"
    },
    "hidden": true
   },
   "outputs": [
    {
     "data": {
      "text/plain": [
       "invoice_no           0\n",
       "stock_code           0\n",
       "description       1454\n",
       "quantity             0\n",
       "invoice_date         0\n",
       "unit_price           0\n",
       "customer_id     135080\n",
       "country              0\n",
       "dtype: int64"
      ]
     },
     "execution_count": 9,
     "metadata": {},
     "output_type": "execute_result"
    }
   ],
   "source": [
    "df1.isna().sum()"
   ]
  },
  {
   "cell_type": "markdown",
   "id": "29b1bada",
   "metadata": {
    "heading_collapsed": true,
    "hidden": true
   },
   "source": [
    "## 1.5. Replace NA"
   ]
  },
  {
   "cell_type": "code",
   "execution_count": 10,
   "id": "aa5882db",
   "metadata": {
    "ExecuteTime": {
     "end_time": "2021-10-31T18:51:43.274219Z",
     "start_time": "2021-10-31T18:51:43.202883Z"
    },
    "hidden": true
   },
   "outputs": [],
   "source": [
    "df_missing = df1.loc[df1['customer_id'].isna(), :]\n",
    "df_not_missing = df1.loc[~df1['customer_id'].isna(), :]"
   ]
  },
  {
   "cell_type": "code",
   "execution_count": 11,
   "id": "7086dafb",
   "metadata": {
    "ExecuteTime": {
     "end_time": "2021-10-31T18:51:43.590138Z",
     "start_time": "2021-10-31T18:51:43.277535Z"
    },
    "hidden": true
   },
   "outputs": [],
   "source": [
    "df_backup = pd.DataFrame(df_missing['invoice_no'].drop_duplicates())\n",
    "df_backup['customer_id'] = np.arange(19000, 19000+len(df_backup), 1)\n",
    "\n",
    "# merge \n",
    "df1 = pd.merge(df1, df_backup, how='left', on='invoice_no' )\n",
    "\n",
    "# coalesce \n",
    "df1['customer_id'] = df1['customer_id_x'].combine_first(df1['customer_id_y'])\n",
    "\n",
    "df1 = df1.drop(['customer_id_x', 'customer_id_y'], axis=1)"
   ]
  },
  {
   "cell_type": "code",
   "execution_count": 12,
   "id": "aff2bc50",
   "metadata": {
    "ExecuteTime": {
     "end_time": "2021-10-31T18:51:43.805450Z",
     "start_time": "2021-10-31T18:51:43.593025Z"
    },
    "hidden": true
   },
   "outputs": [
    {
     "data": {
      "text/plain": [
       "invoice_no         0\n",
       "stock_code         0\n",
       "description     1454\n",
       "quantity           0\n",
       "invoice_date       0\n",
       "unit_price         0\n",
       "country            0\n",
       "customer_id        0\n",
       "dtype: int64"
      ]
     },
     "execution_count": 12,
     "metadata": {},
     "output_type": "execute_result"
    }
   ],
   "source": [
    "df1.isna().sum()"
   ]
  },
  {
   "cell_type": "markdown",
   "id": "2e3c11e1",
   "metadata": {
    "heading_collapsed": true,
    "hidden": true
   },
   "source": [
    "## 1.6. Change dtypes"
   ]
  },
  {
   "cell_type": "code",
   "execution_count": 13,
   "id": "6d4edcbb",
   "metadata": {
    "ExecuteTime": {
     "end_time": "2021-10-31T18:51:43.814847Z",
     "start_time": "2021-10-31T18:51:43.807579Z"
    },
    "hidden": true
   },
   "outputs": [
    {
     "data": {
      "text/plain": [
       "invoice_no       object\n",
       "stock_code       object\n",
       "description      object\n",
       "quantity          int64\n",
       "invoice_date     object\n",
       "unit_price      float64\n",
       "country          object\n",
       "customer_id     float64\n",
       "dtype: object"
      ]
     },
     "execution_count": 13,
     "metadata": {},
     "output_type": "execute_result"
    }
   ],
   "source": [
    "df1.dtypes"
   ]
  },
  {
   "cell_type": "code",
   "execution_count": 14,
   "id": "e9f81033",
   "metadata": {
    "ExecuteTime": {
     "end_time": "2021-10-31T18:51:43.943139Z",
     "start_time": "2021-10-31T18:51:43.818241Z"
    },
    "hidden": true
   },
   "outputs": [],
   "source": [
    "df1['invoice_date'] = pd.to_datetime(df1['invoice_date'])\n",
    "df1['customer_id'] = df1['customer_id'].astype(int)"
   ]
  },
  {
   "cell_type": "markdown",
   "id": "58961082",
   "metadata": {
    "heading_collapsed": true,
    "hidden": true
   },
   "source": [
    "## 1.7. Descriptive Statistics"
   ]
  },
  {
   "cell_type": "code",
   "execution_count": 15,
   "id": "313769d3",
   "metadata": {
    "ExecuteTime": {
     "end_time": "2021-10-31T18:51:43.995877Z",
     "start_time": "2021-10-31T18:51:43.945163Z"
    },
    "hidden": true
   },
   "outputs": [],
   "source": [
    "num_att = df1.select_dtypes(include=['int64', 'float64'])\n",
    "cat_att = df1.select_dtypes(include=['object'])"
   ]
  },
  {
   "cell_type": "markdown",
   "id": "7629f4b9",
   "metadata": {
    "heading_collapsed": true,
    "hidden": true
   },
   "source": [
    "## 1.7.1. Numerical Attributes"
   ]
  },
  {
   "cell_type": "code",
   "execution_count": 16,
   "id": "79816883",
   "metadata": {
    "ExecuteTime": {
     "end_time": "2021-10-31T18:51:44.520772Z",
     "start_time": "2021-10-31T18:51:43.998345Z"
    },
    "hidden": true
   },
   "outputs": [
    {
     "data": {
      "text/html": [
       "<div>\n",
       "<style scoped>\n",
       "    .dataframe tbody tr th:only-of-type {\n",
       "        vertical-align: middle;\n",
       "    }\n",
       "\n",
       "    .dataframe tbody tr th {\n",
       "        vertical-align: top;\n",
       "    }\n",
       "\n",
       "    .dataframe thead th {\n",
       "        text-align: right;\n",
       "    }\n",
       "</style>\n",
       "<table border=\"1\" class=\"dataframe\">\n",
       "  <thead>\n",
       "    <tr style=\"text-align: right;\">\n",
       "      <th></th>\n",
       "      <th>attributes</th>\n",
       "      <th>min</th>\n",
       "      <th>max</th>\n",
       "      <th>range</th>\n",
       "      <th>mean</th>\n",
       "      <th>median</th>\n",
       "      <th>std</th>\n",
       "      <th>skew</th>\n",
       "      <th>kurtosis</th>\n",
       "    </tr>\n",
       "  </thead>\n",
       "  <tbody>\n",
       "    <tr>\n",
       "      <th>0</th>\n",
       "      <td>quantity</td>\n",
       "      <td>-80995.00</td>\n",
       "      <td>80995.0</td>\n",
       "      <td>161990.00</td>\n",
       "      <td>9.552250</td>\n",
       "      <td>3.00</td>\n",
       "      <td>218.081158</td>\n",
       "      <td>-0.264076</td>\n",
       "      <td>119769.160031</td>\n",
       "    </tr>\n",
       "    <tr>\n",
       "      <th>1</th>\n",
       "      <td>unit_price</td>\n",
       "      <td>-11062.06</td>\n",
       "      <td>38970.0</td>\n",
       "      <td>50032.06</td>\n",
       "      <td>4.611114</td>\n",
       "      <td>2.08</td>\n",
       "      <td>96.759853</td>\n",
       "      <td>186.506972</td>\n",
       "      <td>59005.719097</td>\n",
       "    </tr>\n",
       "    <tr>\n",
       "      <th>2</th>\n",
       "      <td>customer_id</td>\n",
       "      <td>12346.00</td>\n",
       "      <td>22709.0</td>\n",
       "      <td>10363.00</td>\n",
       "      <td>16688.840453</td>\n",
       "      <td>16249.00</td>\n",
       "      <td>2911.411352</td>\n",
       "      <td>0.487449</td>\n",
       "      <td>-0.804287</td>\n",
       "    </tr>\n",
       "  </tbody>\n",
       "</table>\n",
       "</div>"
      ],
      "text/plain": [
       "    attributes       min      max      range          mean    median  \\\n",
       "0     quantity -80995.00  80995.0  161990.00      9.552250      3.00   \n",
       "1   unit_price -11062.06  38970.0   50032.06      4.611114      2.08   \n",
       "2  customer_id  12346.00  22709.0   10363.00  16688.840453  16249.00   \n",
       "\n",
       "           std        skew       kurtosis  \n",
       "0   218.081158   -0.264076  119769.160031  \n",
       "1    96.759853  186.506972   59005.719097  \n",
       "2  2911.411352    0.487449      -0.804287  "
      ]
     },
     "execution_count": 16,
     "metadata": {},
     "output_type": "execute_result"
    }
   ],
   "source": [
    "descriptive_statistics(num_att)"
   ]
  },
  {
   "cell_type": "markdown",
   "id": "918bc2a8",
   "metadata": {
    "heading_collapsed": true,
    "hidden": true
   },
   "source": [
    "## 1.7.2. Categorical Attributes"
   ]
  },
  {
   "cell_type": "code",
   "execution_count": 17,
   "id": "fbb2c633",
   "metadata": {
    "ExecuteTime": {
     "end_time": "2021-10-31T18:51:44.983400Z",
     "start_time": "2021-10-31T18:51:44.523753Z"
    },
    "hidden": true
   },
   "outputs": [
    {
     "data": {
      "text/html": [
       "<div>\n",
       "<style scoped>\n",
       "    .dataframe tbody tr th:only-of-type {\n",
       "        vertical-align: middle;\n",
       "    }\n",
       "\n",
       "    .dataframe tbody tr th {\n",
       "        vertical-align: top;\n",
       "    }\n",
       "\n",
       "    .dataframe thead th {\n",
       "        text-align: right;\n",
       "    }\n",
       "</style>\n",
       "<table border=\"1\" class=\"dataframe\">\n",
       "  <thead>\n",
       "    <tr style=\"text-align: right;\">\n",
       "      <th></th>\n",
       "      <th>invoice_no</th>\n",
       "      <th>stock_code</th>\n",
       "      <th>description</th>\n",
       "      <th>country</th>\n",
       "    </tr>\n",
       "  </thead>\n",
       "  <tbody>\n",
       "    <tr>\n",
       "      <th>count</th>\n",
       "      <td>541909</td>\n",
       "      <td>541909</td>\n",
       "      <td>540455</td>\n",
       "      <td>541909</td>\n",
       "    </tr>\n",
       "    <tr>\n",
       "      <th>unique</th>\n",
       "      <td>25900</td>\n",
       "      <td>4070</td>\n",
       "      <td>4223</td>\n",
       "      <td>38</td>\n",
       "    </tr>\n",
       "    <tr>\n",
       "      <th>top</th>\n",
       "      <td>573585</td>\n",
       "      <td>85123A</td>\n",
       "      <td>WHITE HANGING HEART T-LIGHT HOLDER</td>\n",
       "      <td>United Kingdom</td>\n",
       "    </tr>\n",
       "    <tr>\n",
       "      <th>freq</th>\n",
       "      <td>1114</td>\n",
       "      <td>2313</td>\n",
       "      <td>2369</td>\n",
       "      <td>495478</td>\n",
       "    </tr>\n",
       "  </tbody>\n",
       "</table>\n",
       "</div>"
      ],
      "text/plain": [
       "       invoice_no stock_code                         description  \\\n",
       "count      541909     541909                              540455   \n",
       "unique      25900       4070                                4223   \n",
       "top        573585     85123A  WHITE HANGING HEART T-LIGHT HOLDER   \n",
       "freq         1114       2313                                2369   \n",
       "\n",
       "               country  \n",
       "count           541909  \n",
       "unique              38  \n",
       "top     United Kingdom  \n",
       "freq            495478  "
      ]
     },
     "execution_count": 17,
     "metadata": {},
     "output_type": "execute_result"
    }
   ],
   "source": [
    "cat_att.describe(include=['O'])"
   ]
  },
  {
   "cell_type": "markdown",
   "id": "68b2a24f",
   "metadata": {
    "heading_collapsed": true
   },
   "source": [
    "# 2.0. Data Filtering"
   ]
  },
  {
   "cell_type": "code",
   "execution_count": 18,
   "id": "90095e9b",
   "metadata": {
    "ExecuteTime": {
     "end_time": "2021-10-31T18:51:45.007952Z",
     "start_time": "2021-10-31T18:51:44.986040Z"
    },
    "hidden": true
   },
   "outputs": [],
   "source": [
    "df2 = df1.copy()"
   ]
  },
  {
   "cell_type": "markdown",
   "id": "25199fd0",
   "metadata": {
    "heading_collapsed": true,
    "hidden": true
   },
   "source": [
    "## 2.1. Filter Columns"
   ]
  },
  {
   "cell_type": "code",
   "execution_count": 19,
   "id": "0bad1aec",
   "metadata": {
    "ExecuteTime": {
     "end_time": "2021-10-31T18:51:45.048768Z",
     "start_time": "2021-10-31T18:51:45.010660Z"
    },
    "hidden": true
   },
   "outputs": [],
   "source": [
    "cols_drop = ['description']\n",
    "df2 = df2.drop(cols_drop, axis=1)"
   ]
  },
  {
   "cell_type": "markdown",
   "id": "b50e3b32",
   "metadata": {
    "heading_collapsed": true,
    "hidden": true
   },
   "source": [
    "## 2.2. Filter Rows"
   ]
  },
  {
   "cell_type": "code",
   "execution_count": 20,
   "id": "6bcd20d3",
   "metadata": {
    "ExecuteTime": {
     "end_time": "2021-10-31T18:51:45.275607Z",
     "start_time": "2021-10-31T18:51:45.051547Z"
    },
    "hidden": true
   },
   "outputs": [],
   "source": [
    "# Numerical Attributes\n",
    "df2 = df2.loc[df2['unit_price'] >= 0.4, :]\n",
    "\n",
    "# Categorical Attributes\n",
    "df2 = df2.loc[~df2['stock_code'].isin(['POST', 'D', 'DOT', 'M', 'S', 'AMAZONFEE', 'm', 'DCGSSBOY', 'DCGSSGIRL', 'PADS', 'B', 'CRUK'] ), :]\n",
    "\n",
    "# map\n",
    "df2 = df2.loc[~df2['country'].isin(['European Community', 'Unspecified' ]), :]\n",
    "\n",
    "# bad user\n",
    "df2 = df2[~df2['customer_id'].isin( [16446] )]\n",
    "\n",
    "# quantity\n",
    "df2_returns   = df2.loc[df2['quantity'] < 0, :]\n",
    "df2_purchases = df2.loc[df2['quantity'] >= 0, :]"
   ]
  },
  {
   "cell_type": "markdown",
   "id": "16814c2a",
   "metadata": {
    "heading_collapsed": true
   },
   "source": [
    "# 3.0. Feature Engineering"
   ]
  },
  {
   "cell_type": "code",
   "execution_count": 21,
   "id": "3dcc6d38",
   "metadata": {
    "ExecuteTime": {
     "end_time": "2021-10-31T18:51:45.299343Z",
     "start_time": "2021-10-31T18:51:45.277576Z"
    },
    "hidden": true
   },
   "outputs": [],
   "source": [
    "df3 = df2.copy()"
   ]
  },
  {
   "cell_type": "markdown",
   "id": "180d585e",
   "metadata": {
    "heading_collapsed": true,
    "hidden": true
   },
   "source": [
    "## 3.1. Feature Creation"
   ]
  },
  {
   "cell_type": "code",
   "execution_count": 22,
   "id": "153c0407",
   "metadata": {
    "ExecuteTime": {
     "end_time": "2021-10-31T18:51:45.335317Z",
     "start_time": "2021-10-31T18:51:45.302751Z"
    },
    "hidden": true
   },
   "outputs": [],
   "source": [
    "drop_cols = ['invoice_no', 'stock_code', 'quantity', 'invoice_date', 'unit_price', 'country']\n",
    "df_ref = df3.drop(drop_cols, axis=1).drop_duplicates(ignore_index=True)"
   ]
  },
  {
   "cell_type": "code",
   "execution_count": 23,
   "id": "93e42a51",
   "metadata": {
    "ExecuteTime": {
     "end_time": "2021-10-31T18:51:45.352190Z",
     "start_time": "2021-10-31T18:51:45.336928Z"
    },
    "hidden": true
   },
   "outputs": [
    {
     "name": "stderr",
     "output_type": "stream",
     "text": [
      "/home/cid/.pyenv/versions/3.8.0/envs/clustering-high-value-customers-identification/lib/python3.8/site-packages/pandas/core/indexing.py:1773: SettingWithCopyWarning: \n",
      "A value is trying to be set on a copy of a slice from a DataFrame.\n",
      "Try using .loc[row_indexer,col_indexer] = value instead\n",
      "\n",
      "See the caveats in the documentation: https://pandas.pydata.org/pandas-docs/stable/user_guide/indexing.html#returning-a-view-versus-a-copy\n",
      "  self._setitem_single_column(ilocs[0], value, pi)\n"
     ]
    }
   ],
   "source": [
    "df2_purchases.loc[:, ['gross_revenue']] = (df2_purchases.loc[:, 'quantity'] * df2_purchases.loc[:, 'unit_price'])"
   ]
  },
  {
   "cell_type": "markdown",
   "id": "6b340b62",
   "metadata": {
    "ExecuteTime": {
     "end_time": "2021-08-09T16:49:44.138631Z",
     "start_time": "2021-08-09T16:49:44.131084Z"
    },
    "heading_collapsed": true,
    "hidden": true
   },
   "source": [
    "### 3.1.1. Gross Revenue"
   ]
  },
  {
   "cell_type": "code",
   "execution_count": 24,
   "id": "485f6c6e",
   "metadata": {
    "ExecuteTime": {
     "end_time": "2021-10-31T18:51:45.461641Z",
     "start_time": "2021-10-31T18:51:45.355534Z"
    },
    "hidden": true
   },
   "outputs": [
    {
     "data": {
      "text/plain": [
       "customer_id       0\n",
       "gross_revenue    92\n",
       "dtype: int64"
      ]
     },
     "execution_count": 24,
     "metadata": {},
     "output_type": "execute_result"
    }
   ],
   "source": [
    "df_monetary = df2_purchases.loc[:, ['customer_id', 'gross_revenue']].groupby('customer_id').sum().reset_index() # .rename(columns={'gross_revenue': 'monetary'})\n",
    "df_ref = pd.merge(df_ref, df_monetary, how='left', on='customer_id')\n",
    "df_ref.isna().sum()"
   ]
  },
  {
   "cell_type": "markdown",
   "id": "39634d79",
   "metadata": {
    "ExecuteTime": {
     "end_time": "2021-08-09T16:49:44.138631Z",
     "start_time": "2021-08-09T16:49:44.131084Z"
    },
    "heading_collapsed": true,
    "hidden": true
   },
   "source": [
    "### 3.1.2. Recency"
   ]
  },
  {
   "cell_type": "code",
   "execution_count": 25,
   "id": "86e6efcc",
   "metadata": {
    "ExecuteTime": {
     "end_time": "2021-10-31T18:51:45.495523Z",
     "start_time": "2021-10-31T18:51:45.463768Z"
    },
    "hidden": true
   },
   "outputs": [
    {
     "data": {
      "text/plain": [
       "customer_id       0\n",
       "gross_revenue    92\n",
       "recency_days     92\n",
       "dtype: int64"
      ]
     },
     "execution_count": 25,
     "metadata": {},
     "output_type": "execute_result"
    }
   ],
   "source": [
    "df_recency = df2_purchases.loc[:, ['customer_id', 'invoice_date']].groupby('customer_id').max().reset_index()\n",
    "df_recency['recency_days'] = (df_recency['invoice_date'].max() - df_recency['invoice_date']).dt.days\n",
    "df_ref = pd.merge(df_ref, df_recency[['customer_id', 'recency_days']], how='left', on='customer_id')\n",
    "\n",
    "df_ref.isna().sum()"
   ]
  },
  {
   "cell_type": "markdown",
   "id": "25bdfbc6",
   "metadata": {
    "ExecuteTime": {
     "end_time": "2021-08-09T16:49:44.138631Z",
     "start_time": "2021-08-09T16:49:44.131084Z"
    },
    "heading_collapsed": true,
    "hidden": true
   },
   "source": [
    "### 3.1.3. Quatily of purchased"
   ]
  },
  {
   "cell_type": "code",
   "execution_count": 26,
   "id": "f95c9fd1",
   "metadata": {
    "ExecuteTime": {
     "end_time": "2021-10-31T18:51:45.580993Z",
     "start_time": "2021-10-31T18:51:45.497601Z"
    },
    "hidden": true
   },
   "outputs": [
    {
     "data": {
      "text/plain": [
       "customer_id       0\n",
       "gross_revenue    92\n",
       "recency_days     92\n",
       "qtde_invoices    92\n",
       "dtype: int64"
      ]
     },
     "execution_count": 26,
     "metadata": {},
     "output_type": "execute_result"
    }
   ],
   "source": [
    "df_freq = df2_purchases[['customer_id', 'invoice_no']].drop_duplicates().groupby('customer_id').count().reset_index().\\\n",
    "rename(columns={'invoice_no': 'qtde_invoices'})\n",
    "\n",
    "df_ref = pd.merge(df_ref, df_freq, how='left', on='customer_id')\n",
    "df_ref.isna().sum()"
   ]
  },
  {
   "cell_type": "markdown",
   "id": "a2f4d7c7",
   "metadata": {
    "heading_collapsed": true,
    "hidden": true
   },
   "source": [
    "### 3.1.4. Quantity total of items purchased"
   ]
  },
  {
   "cell_type": "code",
   "execution_count": 27,
   "id": "a59a9d62",
   "metadata": {
    "ExecuteTime": {
     "end_time": "2021-10-31T18:51:45.630121Z",
     "start_time": "2021-10-31T18:51:45.583393Z"
    },
    "hidden": true
   },
   "outputs": [
    {
     "data": {
      "text/plain": [
       "customer_id       0\n",
       "gross_revenue    92\n",
       "recency_days     92\n",
       "qtde_invoices    92\n",
       "qtde_items       92\n",
       "dtype: int64"
      ]
     },
     "execution_count": 27,
     "metadata": {},
     "output_type": "execute_result"
    }
   ],
   "source": [
    "df_freq = (df2_purchases.loc[:, ['customer_id', 'quantity']].groupby('customer_id')\n",
    "                                                            .sum()\n",
    "                                                            .reset_index()\n",
    "                                                            .rename(columns={'quantity': 'qtde_items'}))\n",
    "df_ref = pd.merge(df_ref, df_freq, how='left', on='customer_id')\n",
    "df_ref.isna().sum()"
   ]
  },
  {
   "cell_type": "markdown",
   "id": "410ffb81",
   "metadata": {
    "ExecuteTime": {
     "end_time": "2021-08-12T13:29:13.252634Z",
     "start_time": "2021-08-12T13:29:13.237186Z"
    },
    "heading_collapsed": true,
    "hidden": true
   },
   "source": [
    "### 3.1.5. Quantity of products purchased"
   ]
  },
  {
   "cell_type": "code",
   "execution_count": 28,
   "id": "81686ba1",
   "metadata": {
    "ExecuteTime": {
     "end_time": "2021-10-31T18:51:45.713662Z",
     "start_time": "2021-10-31T18:51:45.635469Z"
    },
    "hidden": true
   },
   "outputs": [
    {
     "data": {
      "text/plain": [
       "customer_id       0\n",
       "gross_revenue    92\n",
       "recency_days     92\n",
       "qtde_invoices    92\n",
       "qtde_items       92\n",
       "qtde_products    92\n",
       "dtype: int64"
      ]
     },
     "execution_count": 28,
     "metadata": {},
     "output_type": "execute_result"
    }
   ],
   "source": [
    "df_freq = ( df2_purchases.loc[:, ['customer_id', 'stock_code']].groupby('customer_id')\n",
    "                                                               .count()\n",
    "                                                               .reset_index()\n",
    "                                                               .rename(columns={'stock_code': 'qtde_products'}))\n",
    "df_ref = pd.merge(df_ref, df_freq, how='left', on='customer_id')\n",
    "df_ref.isna().sum()"
   ]
  },
  {
   "cell_type": "markdown",
   "id": "0bbbf7fe",
   "metadata": {
    "ExecuteTime": {
     "end_time": "2021-08-09T16:49:44.138631Z",
     "start_time": "2021-08-09T16:49:44.131084Z"
    },
    "heading_collapsed": true,
    "hidden": true
   },
   "source": [
    "### 3.1.6. Average Ticket"
   ]
  },
  {
   "cell_type": "code",
   "execution_count": 29,
   "id": "d2d0eed6",
   "metadata": {
    "ExecuteTime": {
     "end_time": "2021-10-31T18:51:45.768335Z",
     "start_time": "2021-10-31T18:51:45.716221Z"
    },
    "hidden": true
   },
   "outputs": [
    {
     "data": {
      "text/plain": [
       "customer_id       0\n",
       "gross_revenue    92\n",
       "recency_days     92\n",
       "qtde_invoices    92\n",
       "qtde_items       92\n",
       "qtde_products    92\n",
       "avg_ticket       92\n",
       "dtype: int64"
      ]
     },
     "execution_count": 29,
     "metadata": {},
     "output_type": "execute_result"
    }
   ],
   "source": [
    "df_avg_ticket =  (df2_purchases.loc[:, ['customer_id','gross_revenue']].groupby('customer_id')\n",
    "                                                                       .mean()\n",
    "                                                                       .reset_index()\n",
    "                                                                       .rename(columns={'gross_revenue': 'avg_ticket'}))\n",
    "\n",
    "df_ref = pd.merge(df_ref, df_avg_ticket, how='left', on='customer_id')\n",
    "\n",
    "df_ref.isna().sum()"
   ]
  },
  {
   "cell_type": "markdown",
   "id": "9c33c58d",
   "metadata": {
    "heading_collapsed": true,
    "hidden": true
   },
   "source": [
    "### 3.1.7. Average Recency Days"
   ]
  },
  {
   "cell_type": "code",
   "execution_count": 30,
   "id": "bd3c3af6",
   "metadata": {
    "ExecuteTime": {
     "end_time": "2021-10-31T18:51:45.776124Z",
     "start_time": "2021-10-31T18:51:45.770885Z"
    },
    "hidden": true
   },
   "outputs": [],
   "source": [
    "# df_aux = df2[['customer_id', 'invoice_date']].drop_duplicates().sort_values(['customer_id', 'invoice_date'], ascending=[False, False])\n",
    "# df_aux['next_customer_id'] = df_aux['customer_id'].shift()\n",
    "# df_aux['previus_date'] = df_aux['invoice_date'].shift()\n",
    "\n",
    "# df_aux['avg_recency_days'] = df_aux.apply( lambda x: (x['invoice_date'] - x['previus_date']).days if x['customer_id'] == x['next_customer_id'] else np.nan, axis=1)\n",
    "# df_aux['avg_recency_days'] = df_aux['avg_recency_days'] * -1\n",
    "# df_aux = df_aux.drop(columns=['invoice_date', 'next_customer_id', 'previus_date'], axis=1).dropna()\n",
    "\n",
    "# df_avg_recency_days = df_aux.groupby( 'customer_id' ).mean().reset_index()\n",
    "\n",
    "# df_ref = pd.merge(df_ref, df_avg_recency_days, on='customer_id', how='left')\n",
    "# df_ref.isna().sum()"
   ]
  },
  {
   "cell_type": "markdown",
   "id": "922407e6",
   "metadata": {
    "heading_collapsed": true,
    "hidden": true
   },
   "source": [
    "### 3.1.8. Frequency Purchase"
   ]
  },
  {
   "cell_type": "code",
   "execution_count": 31,
   "id": "ecf5a5d7",
   "metadata": {
    "ExecuteTime": {
     "end_time": "2021-10-31T18:51:47.533958Z",
     "start_time": "2021-10-31T18:51:45.779068Z"
    },
    "hidden": true
   },
   "outputs": [
    {
     "data": {
      "text/plain": [
       "customer_id       0\n",
       "gross_revenue    92\n",
       "recency_days     92\n",
       "qtde_invoices    92\n",
       "qtde_items       92\n",
       "qtde_products    92\n",
       "avg_ticket       92\n",
       "frequency        92\n",
       "dtype: int64"
      ]
     },
     "execution_count": 31,
     "metadata": {},
     "output_type": "execute_result"
    }
   ],
   "source": [
    "df_aux = (df2_purchases[['customer_id', 'invoice_no', 'invoice_date']].drop_duplicates()\n",
    "                                                 .groupby('customer_id')\n",
    "                                                 .agg( max_ = ('invoice_date', 'max'),\n",
    "                                                       min_ = ('invoice_date', 'min'),\n",
    "                                                       days = ('invoice_date', lambda x: ((x.max() - x.min()).days) + 1 ),\n",
    "                                                       buy_ = ( 'invoice_no', 'count' ))).reset_index()\n",
    "\n",
    "df_aux['frequency'] = df_aux[['buy_', 'days']].apply( lambda x: x['buy_'] / x['days'] if x['days'] != 0 else 0, axis=1 )\n",
    "\n",
    "df_ref = pd.merge(df_ref, df_aux[['customer_id', 'frequency']], on='customer_id', how='left')\n",
    "df_ref.isna().sum()"
   ]
  },
  {
   "cell_type": "markdown",
   "id": "a90650fd",
   "metadata": {
    "heading_collapsed": true,
    "hidden": true
   },
   "source": [
    "### 3.1.9. Number Or Returns"
   ]
  },
  {
   "cell_type": "code",
   "execution_count": 32,
   "id": "fc6071ef",
   "metadata": {
    "ExecuteTime": {
     "end_time": "2021-10-31T18:51:47.573832Z",
     "start_time": "2021-10-31T18:51:47.536229Z"
    },
    "hidden": true
   },
   "outputs": [
    {
     "data": {
      "text/plain": [
       "customer_id       0\n",
       "gross_revenue    92\n",
       "recency_days     92\n",
       "qtde_invoices    92\n",
       "qtde_items       92\n",
       "qtde_products    92\n",
       "avg_ticket       92\n",
       "frequency        92\n",
       "qtde_returns      0\n",
       "dtype: int64"
      ]
     },
     "execution_count": 32,
     "metadata": {},
     "output_type": "execute_result"
    }
   ],
   "source": [
    "df_returns = df2_returns[['quantity', 'customer_id']].groupby('customer_id').sum().reset_index().rename(columns={'quantity': 'qtde_returns'})\n",
    "df_returns['qtde_returns'] = df_returns['qtde_returns'] * -1\n",
    "\n",
    "df_ref = pd.merge(df_ref, df_returns, on='customer_id', how='left')\n",
    "df_ref['qtde_returns'].fillna(0, inplace=True)\n",
    "df_ref.isna().sum()"
   ]
  },
  {
   "cell_type": "markdown",
   "id": "83a0383f",
   "metadata": {
    "heading_collapsed": true,
    "hidden": true
   },
   "source": [
    "### 3.1.10. Basket Size"
   ]
  },
  {
   "cell_type": "code",
   "execution_count": 33,
   "id": "f823e35f",
   "metadata": {
    "ExecuteTime": {
     "end_time": "2021-10-31T18:51:47.684964Z",
     "start_time": "2021-10-31T18:51:47.576446Z"
    },
    "hidden": true
   },
   "outputs": [
    {
     "data": {
      "text/plain": [
       "customer_id         0\n",
       "gross_revenue      92\n",
       "recency_days       92\n",
       "qtde_invoices      92\n",
       "qtde_items         92\n",
       "qtde_products      92\n",
       "avg_ticket         92\n",
       "frequency          92\n",
       "qtde_returns        0\n",
       "avg_basket_size    92\n",
       "dtype: int64"
      ]
     },
     "execution_count": 33,
     "metadata": {},
     "output_type": "execute_result"
    }
   ],
   "source": [
    "df_aux = (df2_purchases[['customer_id', 'invoice_no', 'quantity']].groupby('customer_id')\n",
    "                                                                   .agg( n_purchase=('invoice_no', 'nunique'),\n",
    "                                                                         n_products=('quantity', 'sum'))).reset_index()\n",
    "df_aux['avg_basket_size'] = df_aux['n_products'] / df_aux['n_purchase']\n",
    "df_ref = pd.merge(df_ref, df_aux[['avg_basket_size', 'customer_id']], on='customer_id', how='left')\n",
    "df_ref.isna().sum()"
   ]
  },
  {
   "cell_type": "markdown",
   "id": "308da526",
   "metadata": {
    "heading_collapsed": true,
    "hidden": true
   },
   "source": [
    "### 3.1.11. Unique Basket Size"
   ]
  },
  {
   "cell_type": "code",
   "execution_count": 34,
   "id": "e81c5029",
   "metadata": {
    "ExecuteTime": {
     "end_time": "2021-10-31T18:51:47.928937Z",
     "start_time": "2021-10-31T18:51:47.689398Z"
    },
    "hidden": true,
    "scrolled": true
   },
   "outputs": [
    {
     "data": {
      "text/plain": [
       "customer_id                0\n",
       "gross_revenue             92\n",
       "recency_days              92\n",
       "qtde_invoices             92\n",
       "qtde_items                92\n",
       "qtde_products             92\n",
       "avg_ticket                92\n",
       "frequency                 92\n",
       "qtde_returns               0\n",
       "avg_basket_size           92\n",
       "avg_unique_basket_size    92\n",
       "dtype: int64"
      ]
     },
     "execution_count": 34,
     "metadata": {},
     "output_type": "execute_result"
    }
   ],
   "source": [
    "df_aux = (df2_purchases.loc[:, ['customer_id', 'invoice_no', 'stock_code']].groupby( 'customer_id' )\n",
    "                                                                         .agg(n_purchase=('invoice_no', 'nunique'),\n",
    "                                                                              n_products=('stock_code', 'nunique'))).reset_index()\n",
    "df_aux['avg_unique_basket_size'] = df_aux['n_products'] / df_aux['n_purchase']\n",
    "\n",
    "df_ref = pd.merge(df_ref, df_aux[['avg_unique_basket_size', 'customer_id']], on='customer_id', how='left')\n",
    "df_ref.isna().sum()"
   ]
  },
  {
   "cell_type": "markdown",
   "id": "5e87e47c",
   "metadata": {
    "heading_collapsed": true
   },
   "source": [
    "# 4.0. EDA  "
   ]
  },
  {
   "cell_type": "code",
   "execution_count": 35,
   "id": "aac53260",
   "metadata": {
    "ExecuteTime": {
     "end_time": "2021-10-31T18:51:47.947117Z",
     "start_time": "2021-10-31T18:51:47.932780Z"
    },
    "hidden": true
   },
   "outputs": [],
   "source": [
    "df_ref = df_ref.dropna()\n",
    "\n",
    "df4 = df_ref.copy()"
   ]
  },
  {
   "cell_type": "markdown",
   "id": "750cdf49",
   "metadata": {
    "heading_collapsed": true,
    "hidden": true
   },
   "source": [
    "## 4.3. Space Study"
   ]
  },
  {
   "cell_type": "code",
   "execution_count": 36,
   "id": "8bdf11fc",
   "metadata": {
    "ExecuteTime": {
     "end_time": "2021-10-31T18:51:47.969811Z",
     "start_time": "2021-10-31T18:51:47.949987Z"
    },
    "hidden": true
   },
   "outputs": [],
   "source": [
    "# select dataser\n",
    "cols_selected = ['customer_id', 'gross_revenue', 'recency_days', 'qtde_products', 'frequency', 'qtde_returns']\n",
    "df43 = df4[cols_selected].copy()\n",
    "\n",
    "mms = pp.MinMaxScaler()\n",
    "\n",
    "df43['gross_revenue'] = mms.fit_transform( df43[['gross_revenue']].values )\n",
    "df43['recency_days'] = mms.fit_transform( df43[['recency_days']].values )\n",
    "df43['qtde_products'] = mms.fit_transform( df43[['qtde_products']].values )\n",
    "df43['frequency'] = mms.fit_transform( df43[['frequency']].values )\n",
    "df43['qtde_returns'] = mms.fit_transform( df43[['qtde_returns']].values )"
   ]
  },
  {
   "cell_type": "markdown",
   "id": "47b38921",
   "metadata": {
    "hidden": true
   },
   "source": [
    "### 4.3.4. Tree-Based Embbedding"
   ]
  },
  {
   "cell_type": "code",
   "execution_count": 37,
   "id": "77ad5bfc",
   "metadata": {
    "ExecuteTime": {
     "end_time": "2021-10-31T18:52:20.719624Z",
     "start_time": "2021-10-31T18:51:47.972829Z"
    },
    "hidden": true
   },
   "outputs": [
    {
     "name": "stderr",
     "output_type": "stream",
     "text": [
      "/home/cid/.pyenv/versions/3.8.0/envs/clustering-high-value-customers-identification/lib/python3.8/site-packages/sklearn/manifold/_spectral_embedding.py:245: UserWarning: Graph is not fully connected, spectral embedding may not work as expected.\n",
      "  warnings.warn(\"Graph is not fully connected, spectral embedding\"\n"
     ]
    }
   ],
   "source": [
    "X = df43.drop(columns=['customer_id', 'gross_revenue'])\n",
    "y = df43['gross_revenue']\n",
    "\n",
    "# model training\n",
    "rf_model = en.RandomForestRegressor( n_estimators=100, random_state=42 )\n",
    "\n",
    "# model training definition\n",
    "rf_model.fit( X, y)\n",
    "\n",
    "#  leaf\n",
    "df_leaf = pd.DataFrame( rf_model.apply( X ) )\n",
    "\n",
    "# create dataframe tree\n",
    "df_tree = pd.DataFrame()\n",
    "\n",
    "# reduzer dimensionality\n",
    "reducer = UMAP(random_state=42)\n",
    "embedding = reducer.fit_transform( df_leaf )\n",
    "\n",
    "# embedding\n",
    "df_tree['embedding_x'] = embedding[:, 0]\n",
    "df_tree['embedding_y'] = embedding[:, 1]"
   ]
  },
  {
   "cell_type": "markdown",
   "id": "87741823",
   "metadata": {
    "heading_collapsed": true
   },
   "source": [
    "# 5.0. Data Preparation"
   ]
  },
  {
   "cell_type": "code",
   "execution_count": 38,
   "id": "45d6888e",
   "metadata": {
    "ExecuteTime": {
     "end_time": "2021-10-31T18:52:20.728408Z",
     "start_time": "2021-10-31T18:52:20.721463Z"
    },
    "hidden": true
   },
   "outputs": [],
   "source": [
    "df5 = df_tree.copy()\n",
    "# df5.to_csv( '../src/data/tree_based_embedding.csv', index=False )"
   ]
  },
  {
   "cell_type": "markdown",
   "id": "102e3348",
   "metadata": {
    "heading_collapsed": true
   },
   "source": [
    "# 7.0. Hyperpameter Fine Tuning"
   ]
  },
  {
   "cell_type": "code",
   "execution_count": 39,
   "id": "7339f801",
   "metadata": {
    "ExecuteTime": {
     "end_time": "2021-10-31T18:52:20.762726Z",
     "start_time": "2021-10-31T18:52:20.732888Z"
    },
    "hidden": true
   },
   "outputs": [
    {
     "data": {
      "text/html": [
       "<div>\n",
       "<style scoped>\n",
       "    .dataframe tbody tr th:only-of-type {\n",
       "        vertical-align: middle;\n",
       "    }\n",
       "\n",
       "    .dataframe tbody tr th {\n",
       "        vertical-align: top;\n",
       "    }\n",
       "\n",
       "    .dataframe thead th {\n",
       "        text-align: right;\n",
       "    }\n",
       "</style>\n",
       "<table border=\"1\" class=\"dataframe\">\n",
       "  <thead>\n",
       "    <tr style=\"text-align: right;\">\n",
       "      <th></th>\n",
       "      <th>embedding_x</th>\n",
       "      <th>embedding_y</th>\n",
       "    </tr>\n",
       "  </thead>\n",
       "  <tbody>\n",
       "    <tr>\n",
       "      <th>0</th>\n",
       "      <td>17.881968</td>\n",
       "      <td>14.895823</td>\n",
       "    </tr>\n",
       "    <tr>\n",
       "      <th>1</th>\n",
       "      <td>17.940453</td>\n",
       "      <td>12.172152</td>\n",
       "    </tr>\n",
       "    <tr>\n",
       "      <th>2</th>\n",
       "      <td>18.596876</td>\n",
       "      <td>12.517838</td>\n",
       "    </tr>\n",
       "    <tr>\n",
       "      <th>3</th>\n",
       "      <td>-6.055115</td>\n",
       "      <td>-13.710513</td>\n",
       "    </tr>\n",
       "    <tr>\n",
       "      <th>4</th>\n",
       "      <td>5.152057</td>\n",
       "      <td>18.690804</td>\n",
       "    </tr>\n",
       "  </tbody>\n",
       "</table>\n",
       "</div>"
      ],
      "text/plain": [
       "   embedding_x  embedding_y\n",
       "0    17.881968    14.895823\n",
       "1    17.940453    12.172152\n",
       "2    18.596876    12.517838\n",
       "3    -6.055115   -13.710513\n",
       "4     5.152057    18.690804"
      ]
     },
     "execution_count": 39,
     "metadata": {},
     "output_type": "execute_result"
    }
   ],
   "source": [
    "X = df5.copy()\n",
    "\n",
    "X.head()"
   ]
  },
  {
   "cell_type": "markdown",
   "id": "11fdb6f0",
   "metadata": {
    "heading_collapsed": true
   },
   "source": [
    "# 8.0. Model Training"
   ]
  },
  {
   "cell_type": "code",
   "execution_count": 40,
   "id": "533f8854",
   "metadata": {
    "ExecuteTime": {
     "end_time": "2021-10-31T18:52:38.612589Z",
     "start_time": "2021-10-31T18:52:20.767489Z"
    },
    "hidden": true
   },
   "outputs": [],
   "source": [
    "# model definition\n",
    "k = 8\n",
    "gmm_model = gm(n_components=k, n_init=100, random_state=42)\n",
    "\n",
    "# model training\n",
    "gmm_model.fit(X)\n",
    "\n",
    "# model predict\n",
    "labels = gmm_model.predict(X)"
   ]
  },
  {
   "cell_type": "markdown",
   "id": "12c0d7de",
   "metadata": {
    "hidden": true
   },
   "source": [
    "## 8.2. Cluster Validation "
   ]
  },
  {
   "cell_type": "code",
   "execution_count": 41,
   "id": "5f531df6",
   "metadata": {
    "ExecuteTime": {
     "end_time": "2021-10-31T18:52:39.432781Z",
     "start_time": "2021-10-31T18:52:38.614593Z"
    },
    "hidden": true
   },
   "outputs": [
    {
     "name": "stdout",
     "output_type": "stream",
     "text": [
      "SS value: 0.37607449293136597\n"
     ]
    }
   ],
   "source": [
    "print(\"SS value: {}\".format(metrics.silhouette_score( X, labels, metric='euclidean' )))"
   ]
  },
  {
   "cell_type": "markdown",
   "id": "a6b30a59",
   "metadata": {
    "heading_collapsed": true
   },
   "source": [
    "# 9.0. Cluster Analysis"
   ]
  },
  {
   "cell_type": "code",
   "execution_count": 42,
   "id": "6a23bab5",
   "metadata": {
    "ExecuteTime": {
     "end_time": "2021-10-31T18:52:39.452563Z",
     "start_time": "2021-10-31T18:52:39.435401Z"
    },
    "hidden": true
   },
   "outputs": [],
   "source": [
    "df92 = df4[cols_selected].copy()\n",
    "df92['cluster'] = labels\n",
    "\n",
    "# change dtypes\n",
    "df92['recency_days'] = df92['recency_days'].astype(int)\n",
    "df92['qtde_products'] = df92['qtde_products'].astype(int)\n",
    "df92['qtde_returns'] = df92['qtde_returns'].astype(int)"
   ]
  },
  {
   "cell_type": "markdown",
   "id": "b253d006",
   "metadata": {
    "hidden": true
   },
   "source": [
    "## 9.2. Cluster Profile"
   ]
  },
  {
   "cell_type": "code",
   "execution_count": 43,
   "id": "b0ceaa89",
   "metadata": {
    "ExecuteTime": {
     "end_time": "2021-10-31T18:52:39.636274Z",
     "start_time": "2021-10-31T18:52:39.454867Z"
    },
    "hidden": true
   },
   "outputs": [
    {
     "data": {
      "text/html": [
       "<style type=\"text/css\">\n",
       "#T_2c1cb_row0_col3, #T_2c1cb_row0_col5, #T_2c1cb_row0_col7, #T_2c1cb_row1_col0, #T_2c1cb_row5_col1, #T_2c1cb_row5_col2, #T_2c1cb_row5_col4, #T_2c1cb_row5_col6 {\n",
       "  background-color: lightgreen;\n",
       "}\n",
       "</style>\n",
       "<table id=\"T_2c1cb_\">\n",
       "  <thead>\n",
       "    <tr>\n",
       "      <th class=\"blank level0\" >&nbsp;</th>\n",
       "      <th class=\"col_heading level0 col0\" >cluster</th>\n",
       "      <th class=\"col_heading level0 col1\" >qt_users</th>\n",
       "      <th class=\"col_heading level0 col2\" >per_user</th>\n",
       "      <th class=\"col_heading level0 col3\" >gross_revenue</th>\n",
       "      <th class=\"col_heading level0 col4\" >recency_days</th>\n",
       "      <th class=\"col_heading level0 col5\" >qtde_products</th>\n",
       "      <th class=\"col_heading level0 col6\" >frequency</th>\n",
       "      <th class=\"col_heading level0 col7\" >qtde_returns</th>\n",
       "    </tr>\n",
       "  </thead>\n",
       "  <tbody>\n",
       "    <tr>\n",
       "      <th id=\"T_2c1cb_level0_row0\" class=\"row_heading level0 row0\" >0</th>\n",
       "      <td id=\"T_2c1cb_row0_col0\" class=\"data row0 col0\" >0</td>\n",
       "      <td id=\"T_2c1cb_row0_col1\" class=\"data row0 col1\" >918</td>\n",
       "      <td id=\"T_2c1cb_row0_col2\" class=\"data row0 col2\" >16.159127</td>\n",
       "      <td id=\"T_2c1cb_row0_col3\" class=\"data row0 col3\" >5890.422756</td>\n",
       "      <td id=\"T_2c1cb_row0_col4\" class=\"data row0 col4\" >55.006536</td>\n",
       "      <td id=\"T_2c1cb_row0_col5\" class=\"data row0 col5\" >292.521786</td>\n",
       "      <td id=\"T_2c1cb_row0_col6\" class=\"data row0 col6\" >0.202352</td>\n",
       "      <td id=\"T_2c1cb_row0_col7\" class=\"data row0 col7\" >162.967320</td>\n",
       "    </tr>\n",
       "    <tr>\n",
       "      <th id=\"T_2c1cb_level0_row1\" class=\"row_heading level0 row1\" >7</th>\n",
       "      <td id=\"T_2c1cb_row1_col0\" class=\"data row1 col0\" >7</td>\n",
       "      <td id=\"T_2c1cb_row1_col1\" class=\"data row1 col1\" >729</td>\n",
       "      <td id=\"T_2c1cb_row1_col2\" class=\"data row1 col2\" >12.832248</td>\n",
       "      <td id=\"T_2c1cb_row1_col3\" class=\"data row1 col3\" >2099.885254</td>\n",
       "      <td id=\"T_2c1cb_row1_col4\" class=\"data row1 col4\" >101.890261</td>\n",
       "      <td id=\"T_2c1cb_row1_col5\" class=\"data row1 col5\" >158.170096</td>\n",
       "      <td id=\"T_2c1cb_row1_col6\" class=\"data row1 col6\" >0.469244</td>\n",
       "      <td id=\"T_2c1cb_row1_col7\" class=\"data row1 col7\" >0.185185</td>\n",
       "    </tr>\n",
       "    <tr>\n",
       "      <th id=\"T_2c1cb_level0_row2\" class=\"row_heading level0 row2\" >3</th>\n",
       "      <td id=\"T_2c1cb_row2_col0\" class=\"data row2 col0\" >3</td>\n",
       "      <td id=\"T_2c1cb_row2_col1\" class=\"data row2 col1\" >363</td>\n",
       "      <td id=\"T_2c1cb_row2_col2\" class=\"data row2 col2\" >6.389720</td>\n",
       "      <td id=\"T_2c1cb_row2_col3\" class=\"data row2 col3\" >1167.181322</td>\n",
       "      <td id=\"T_2c1cb_row2_col4\" class=\"data row2 col4\" >61.900826</td>\n",
       "      <td id=\"T_2c1cb_row2_col5\" class=\"data row2 col5\" >57.005510</td>\n",
       "      <td id=\"T_2c1cb_row2_col6\" class=\"data row2 col6\" >0.027708</td>\n",
       "      <td id=\"T_2c1cb_row2_col7\" class=\"data row2 col7\" >9.991736</td>\n",
       "    </tr>\n",
       "    <tr>\n",
       "      <th id=\"T_2c1cb_level0_row3\" class=\"row_heading level0 row3\" >6</th>\n",
       "      <td id=\"T_2c1cb_row3_col0\" class=\"data row3 col0\" >6</td>\n",
       "      <td id=\"T_2c1cb_row3_col1\" class=\"data row3 col1\" >219</td>\n",
       "      <td id=\"T_2c1cb_row3_col2\" class=\"data row3 col2\" >3.854955</td>\n",
       "      <td id=\"T_2c1cb_row3_col3\" class=\"data row3 col3\" >959.385160</td>\n",
       "      <td id=\"T_2c1cb_row3_col4\" class=\"data row3 col4\" >81.625571</td>\n",
       "      <td id=\"T_2c1cb_row3_col5\" class=\"data row3 col5\" >38.721461</td>\n",
       "      <td id=\"T_2c1cb_row3_col6\" class=\"data row3 col6\" >0.232266</td>\n",
       "      <td id=\"T_2c1cb_row3_col7\" class=\"data row3 col7\" >11.292237</td>\n",
       "    </tr>\n",
       "    <tr>\n",
       "      <th id=\"T_2c1cb_level0_row4\" class=\"row_heading level0 row4\" >2</th>\n",
       "      <td id=\"T_2c1cb_row4_col0\" class=\"data row4 col0\" >2</td>\n",
       "      <td id=\"T_2c1cb_row4_col1\" class=\"data row4 col1\" >980</td>\n",
       "      <td id=\"T_2c1cb_row4_col2\" class=\"data row4 col2\" >17.250484</td>\n",
       "      <td id=\"T_2c1cb_row4_col3\" class=\"data row4 col3\" >928.779551</td>\n",
       "      <td id=\"T_2c1cb_row4_col4\" class=\"data row4 col4\" >146.681633</td>\n",
       "      <td id=\"T_2c1cb_row4_col5\" class=\"data row4 col5\" >51.101020</td>\n",
       "      <td id=\"T_2c1cb_row4_col6\" class=\"data row4 col6\" >0.751629</td>\n",
       "      <td id=\"T_2c1cb_row4_col7\" class=\"data row4 col7\" >5.207143</td>\n",
       "    </tr>\n",
       "    <tr>\n",
       "      <th id=\"T_2c1cb_level0_row5\" class=\"row_heading level0 row5\" >5</th>\n",
       "      <td id=\"T_2c1cb_row5_col0\" class=\"data row5 col0\" >5</td>\n",
       "      <td id=\"T_2c1cb_row5_col1\" class=\"data row5 col1\" >1046</td>\n",
       "      <td id=\"T_2c1cb_row5_col2\" class=\"data row5 col2\" >18.412251</td>\n",
       "      <td id=\"T_2c1cb_row5_col3\" class=\"data row5 col3\" >747.913948</td>\n",
       "      <td id=\"T_2c1cb_row5_col4\" class=\"data row5 col4\" >167.919694</td>\n",
       "      <td id=\"T_2c1cb_row5_col5\" class=\"data row5 col5\" >24.534417</td>\n",
       "      <td id=\"T_2c1cb_row5_col6\" class=\"data row5 col6\" >0.963410</td>\n",
       "      <td id=\"T_2c1cb_row5_col7\" class=\"data row5 col7\" >3.863289</td>\n",
       "    </tr>\n",
       "    <tr>\n",
       "      <th id=\"T_2c1cb_level0_row6\" class=\"row_heading level0 row6\" >4</th>\n",
       "      <td id=\"T_2c1cb_row6_col0\" class=\"data row6 col0\" >4</td>\n",
       "      <td id=\"T_2c1cb_row6_col1\" class=\"data row6 col1\" >755</td>\n",
       "      <td id=\"T_2c1cb_row6_col2\" class=\"data row6 col2\" >13.289914</td>\n",
       "      <td id=\"T_2c1cb_row6_col3\" class=\"data row6 col3\" >506.806265</td>\n",
       "      <td id=\"T_2c1cb_row6_col4\" class=\"data row6 col4\" >90.627815</td>\n",
       "      <td id=\"T_2c1cb_row6_col5\" class=\"data row6 col5\" >16.890066</td>\n",
       "      <td id=\"T_2c1cb_row6_col6\" class=\"data row6 col6\" >0.411353</td>\n",
       "      <td id=\"T_2c1cb_row6_col7\" class=\"data row6 col7\" >1.815894</td>\n",
       "    </tr>\n",
       "    <tr>\n",
       "      <th id=\"T_2c1cb_level0_row7\" class=\"row_heading level0 row7\" >1</th>\n",
       "      <td id=\"T_2c1cb_row7_col0\" class=\"data row7 col0\" >1</td>\n",
       "      <td id=\"T_2c1cb_row7_col1\" class=\"data row7 col1\" >671</td>\n",
       "      <td id=\"T_2c1cb_row7_col2\" class=\"data row7 col2\" >11.811301</td>\n",
       "      <td id=\"T_2c1cb_row7_col3\" class=\"data row7 col3\" >404.091148</td>\n",
       "      <td id=\"T_2c1cb_row7_col4\" class=\"data row7 col4\" >167.336811</td>\n",
       "      <td id=\"T_2c1cb_row7_col5\" class=\"data row7 col5\" >12.126677</td>\n",
       "      <td id=\"T_2c1cb_row7_col6\" class=\"data row7 col6\" >0.696441</td>\n",
       "      <td id=\"T_2c1cb_row7_col7\" class=\"data row7 col7\" >5.403875</td>\n",
       "    </tr>\n",
       "  </tbody>\n",
       "</table>\n"
      ],
      "text/plain": [
       "<pandas.io.formats.style.Styler at 0x7fa505638130>"
      ]
     },
     "execution_count": 43,
     "metadata": {},
     "output_type": "execute_result"
    }
   ],
   "source": [
    "# cluster - qt_users - per_user\n",
    "df_cluster = df92[['customer_id', 'cluster']].groupby('cluster').count().reset_index().rename(columns={'customer_id': 'qt_users'})\n",
    "df_cluster['per_user'] = 100 * (df_cluster['qt_users'] / df_cluster['qt_users'].sum())\n",
    "\n",
    "\n",
    "# gross_revenue\n",
    "monetary = df92[['gross_revenue', 'cluster']].groupby('cluster').mean().reset_index()\n",
    "df_cluster = pd.merge(df_cluster, monetary, how='left', on='cluster')\n",
    "\n",
    "# recency_days\n",
    "recency_days = df92[['recency_days', 'cluster']].groupby('cluster').mean().reset_index()\n",
    "df_cluster = pd.merge(df_cluster, recency_days, how='left', on='cluster')\n",
    "\n",
    "# qtde_products\n",
    "qtde_products = df92[['qtde_products', 'cluster']].groupby('cluster').mean().reset_index()\n",
    "df_cluster = pd.merge(df_cluster, qtde_products, how='left', on='cluster')\n",
    "\n",
    "# frequency\n",
    "frequency = df92[['frequency', 'cluster']].groupby('cluster').mean().reset_index()\n",
    "df_cluster = pd.merge(df_cluster, frequency, how='left', on='cluster')\n",
    "\n",
    "# qtde_returns\n",
    "qtde_returns = df92[['qtde_returns', 'cluster']].groupby('cluster').mean().reset_index()\n",
    "df_cluster = pd.merge(df_cluster, qtde_returns, how='left', on='cluster')\n",
    "\n",
    "\n",
    "df_cluster.sort_values('gross_revenue', ascending=False).style.highlight_max( color='lightgreen', axis=0 )"
   ]
  },
  {
   "cell_type": "code",
   "execution_count": 44,
   "id": "489232b1",
   "metadata": {
    "ExecuteTime": {
     "end_time": "2021-10-31T18:52:39.644103Z",
     "start_time": "2021-10-31T18:52:39.639215Z"
    },
    "hidden": true
   },
   "outputs": [],
   "source": [
    "# 1 Cluster Insiders\n",
    "# 5 Cluster More Products\n",
    "# 4 Cluster Spend Money \n",
    "# 2 Cluster Even More Products\n",
    "# 6 Cluster Less Days\n",
    "# 0 Cluster Less 1k\n",
    "# 7 Cluster Stop Returners\n",
    "# 3 Cluster More Buy"
   ]
  },
  {
   "cell_type": "markdown",
   "id": "5daa53a1",
   "metadata": {
    "hidden": true
   },
   "source": [
    "**Cluster 01:  ( Candidato à Insider )**\n",
    "- Número de customers: 468 (16% do customers )\n",
    "- Faturamento médio: 8836\n",
    "- Recência média: 21 dias\n",
    "- Média de Produtos comprados: 424 produtos\n",
    "- Frequência de Produtos comprados: 0.09 produtos/dia\n",
    "- Receita em média: $8836.13,00 dólares"
   ]
  },
  {
   "cell_type": "markdown",
   "id": "c4ade448",
   "metadata": {
    "heading_collapsed": true
   },
   "source": [
    "# 10.0. EDA"
   ]
  },
  {
   "cell_type": "code",
   "execution_count": 45,
   "id": "77dd8a0f",
   "metadata": {
    "ExecuteTime": {
     "end_time": "2021-10-31T18:52:39.651701Z",
     "start_time": "2021-10-31T18:52:39.647673Z"
    },
    "hidden": true
   },
   "outputs": [],
   "source": [
    "df10 = df92.copy()"
   ]
  },
  {
   "cell_type": "markdown",
   "id": "b3753f60",
   "metadata": {},
   "source": [
    "# 11.0. Deploy to Product"
   ]
  },
  {
   "cell_type": "code",
   "execution_count": 46,
   "id": "d701b523",
   "metadata": {
    "ExecuteTime": {
     "end_time": "2021-10-31T18:52:39.658403Z",
     "start_time": "2021-10-31T18:52:39.654401Z"
    }
   },
   "outputs": [],
   "source": [
    "df11 = df10.copy()"
   ]
  },
  {
   "cell_type": "markdown",
   "id": "75738174",
   "metadata": {},
   "source": [
    "## 11.1. Insert into SQLITE"
   ]
  },
  {
   "cell_type": "code",
   "execution_count": 47,
   "id": "80dba55b",
   "metadata": {
    "ExecuteTime": {
     "end_time": "2021-10-31T18:52:39.664999Z",
     "start_time": "2021-10-31T18:52:39.660194Z"
    }
   },
   "outputs": [],
   "source": [
    "# endpint\n",
    "# database-insiders-01\n",
    "host = 'database-insiders-05.crqgkguqdb6i.us-east-1.rds.amazonaws.com'\n",
    "user = 'cid'\n",
    "pwd =  os.getenv('DB_PASSWORD')\n",
    "port = '5432'\n",
    "database = 'postgres'\n",
    "\n",
    "endpoint = 'postgresql://{}:{}@{}:{}/{}'.format(user,pwd, host,port,database  )"
   ]
  },
  {
   "cell_type": "code",
   "execution_count": 48,
   "id": "205527a7",
   "metadata": {
    "ExecuteTime": {
     "end_time": "2021-10-31T18:52:39.679506Z",
     "start_time": "2021-10-31T18:52:39.667504Z"
    }
   },
   "outputs": [],
   "source": [
    "# create table\n",
    "# query_create_table_insiders = \"\"\"\n",
    "#     CREATE TABLE insiders (\n",
    "#         customer_id        INTEGER,\n",
    "#         gross_revenue      REAL,\n",
    "#         recency_days       INTEGER,\n",
    "#         qtde_products      INTEGER,\n",
    "#         frequency          REAL,\n",
    "#         qtde_returns       INTEGER,\n",
    "#         cluster            INTEGER\n",
    "#     )\n",
    "# \"\"\"\n",
    "# conn = create_engine(endpoint)\n",
    "# conn.execute(query_create_table_insiders)"
   ]
  },
  {
   "cell_type": "code",
   "execution_count": 49,
   "id": "b7ed771c",
   "metadata": {
    "ExecuteTime": {
     "end_time": "2021-10-31T18:52:44.950173Z",
     "start_time": "2021-10-31T18:52:39.681443Z"
    }
   },
   "outputs": [],
   "source": [
    "# insert data\n",
    "conn = create_engine(endpoint)\n",
    "df92.to_sql( 'insiders', con=conn,  if_exists='append', index=False )"
   ]
  },
  {
   "cell_type": "code",
   "execution_count": 50,
   "id": "1c116e67",
   "metadata": {
    "ExecuteTime": {
     "end_time": "2021-10-31T18:52:48.669690Z",
     "start_time": "2021-10-31T18:52:44.953710Z"
    }
   },
   "outputs": [
    {
     "data": {
      "text/html": [
       "<div>\n",
       "<style scoped>\n",
       "    .dataframe tbody tr th:only-of-type {\n",
       "        vertical-align: middle;\n",
       "    }\n",
       "\n",
       "    .dataframe tbody tr th {\n",
       "        vertical-align: top;\n",
       "    }\n",
       "\n",
       "    .dataframe thead th {\n",
       "        text-align: right;\n",
       "    }\n",
       "</style>\n",
       "<table border=\"1\" class=\"dataframe\">\n",
       "  <thead>\n",
       "    <tr style=\"text-align: right;\">\n",
       "      <th></th>\n",
       "      <th>customer_id</th>\n",
       "      <th>gross_revenue</th>\n",
       "      <th>recency_days</th>\n",
       "      <th>qtde_products</th>\n",
       "      <th>frequency</th>\n",
       "      <th>qtde_returns</th>\n",
       "      <th>cluster</th>\n",
       "    </tr>\n",
       "  </thead>\n",
       "  <tbody>\n",
       "    <tr>\n",
       "      <th>0</th>\n",
       "      <td>17850</td>\n",
       "      <td>5391.21</td>\n",
       "      <td>372</td>\n",
       "      <td>297</td>\n",
       "      <td>17.000000</td>\n",
       "      <td>40</td>\n",
       "      <td>0</td>\n",
       "    </tr>\n",
       "    <tr>\n",
       "      <th>1</th>\n",
       "      <td>13047</td>\n",
       "      <td>3232.59</td>\n",
       "      <td>56</td>\n",
       "      <td>171</td>\n",
       "      <td>0.028302</td>\n",
       "      <td>35</td>\n",
       "      <td>0</td>\n",
       "    </tr>\n",
       "    <tr>\n",
       "      <th>2</th>\n",
       "      <td>12583</td>\n",
       "      <td>6495.30</td>\n",
       "      <td>2</td>\n",
       "      <td>221</td>\n",
       "      <td>0.040323</td>\n",
       "      <td>50</td>\n",
       "      <td>0</td>\n",
       "    </tr>\n",
       "    <tr>\n",
       "      <th>3</th>\n",
       "      <td>13748</td>\n",
       "      <td>938.89</td>\n",
       "      <td>95</td>\n",
       "      <td>27</td>\n",
       "      <td>0.017921</td>\n",
       "      <td>0</td>\n",
       "      <td>5</td>\n",
       "    </tr>\n",
       "    <tr>\n",
       "      <th>4</th>\n",
       "      <td>15100</td>\n",
       "      <td>876.00</td>\n",
       "      <td>333</td>\n",
       "      <td>3</td>\n",
       "      <td>0.073171</td>\n",
       "      <td>22</td>\n",
       "      <td>4</td>\n",
       "    </tr>\n",
       "  </tbody>\n",
       "</table>\n",
       "</div>"
      ],
      "text/plain": [
       "   customer_id  gross_revenue  recency_days  qtde_products  frequency  \\\n",
       "0        17850        5391.21           372            297  17.000000   \n",
       "1        13047        3232.59            56            171   0.028302   \n",
       "2        12583        6495.30             2            221   0.040323   \n",
       "3        13748         938.89            95             27   0.017921   \n",
       "4        15100         876.00           333              3   0.073171   \n",
       "\n",
       "   qtde_returns  cluster  \n",
       "0            40        0  \n",
       "1            35        0  \n",
       "2            50        0  \n",
       "3             0        5  \n",
       "4            22        4  "
      ]
     },
     "execution_count": 50,
     "metadata": {},
     "output_type": "execute_result"
    }
   ],
   "source": [
    "# consulting database\n",
    "query = \"\"\"\n",
    "    SELECT * FROM insiders\n",
    "\"\"\"\n",
    "conn = create_engine( endpoint )\n",
    "\n",
    "df  = pd.read_sql_query( query, conn )\n",
    "df.head()"
   ]
  },
  {
   "cell_type": "markdown",
   "id": "62dda9ce",
   "metadata": {},
   "source": [
    " ## Metabase \n",
    "\n",
    "1. download https://www.metabase.com/docs/latest/operations-guide/running-the-metabase-jar-file.html\n",
    "* java -jar metabase.jar\n",
    "* http://localhost:3000\n"
   ]
  },
  {
   "cell_type": "markdown",
   "id": "3e9e681b",
   "metadata": {},
   "source": [
    " ## Banco de Dados na AWS\n",
    " \n",
    "1. Aula 047 - Ciclo 11- Deploy do modelo em produção - Parte III\n",
    "2. começa em 1h00"
   ]
  },
  {
   "cell_type": "markdown",
   "id": "dfcfc8a7",
   "metadata": {},
   "source": [
    " ## pip install papermill\n",
    "1. pip install papermill\n",
    "2. papermill src/models/c12-deploy.ipynb reports/c12-deploy.ipynbc12-deploy_2021_10_13.ipynb\n",
    "\n",
    " ## bash\n",
    "3. echo $(date +'%Y-%m-%d %H:%M:%S')\n",
    "4. bash model_run.sh"
   ]
  }
 ],
 "metadata": {
  "hide_input": false,
  "kernelspec": {
   "display_name": "Python 3 (ipykernel)",
   "language": "python",
   "name": "python3"
  },
  "language_info": {
   "codemirror_mode": {
    "name": "ipython",
    "version": 3
   },
   "file_extension": ".py",
   "mimetype": "text/x-python",
   "name": "python",
   "nbconvert_exporter": "python",
   "pygments_lexer": "ipython3",
   "version": "3.8.0"
  },
  "toc": {
   "base_numbering": 1,
   "nav_menu": {},
   "number_sections": true,
   "sideBar": true,
   "skip_h1_title": false,
   "title_cell": "Table of Contents",
   "title_sidebar": "Contents",
   "toc_cell": false,
   "toc_position": {},
   "toc_section_display": true,
   "toc_window_display": false
  }
 },
 "nbformat": 4,
 "nbformat_minor": 5
}
